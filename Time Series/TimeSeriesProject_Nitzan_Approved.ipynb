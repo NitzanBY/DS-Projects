{
 "cells": [
  {
   "cell_type": "markdown",
   "metadata": {},
   "source": [
    "# Time Series Project"
   ]
  },
  {
   "cell_type": "markdown",
   "metadata": {},
   "source": [
    "# Project description\n",
    "\n",
    "Sweet Lift Taxi company has collected historical data on taxi orders at airports. To attract more drivers during peak hours, we need to predict the amount of taxi orders for the next hour. Build a model for such a prediction.\n",
    "\n",
    "The RMSE metric on the test set should not be more than 48.\n",
    "\n",
    "### Project instructions\n",
    "\n",
    "1. Download the data and resample it by one hour.\n",
    "2. Analyze the data.\n",
    "3. Train different models with different hyperparameters. The test sample should be 10% of the initial dataset. \n",
    "4. Test the data using the test sample and provide a conclusion.\n",
    "\n",
    "### Data description\n",
    "\n",
    "The data is stored in file `taxi.csv`. The number of orders is in the '*num_orders*' column."
   ]
  },
  {
   "cell_type": "markdown",
   "metadata": {},
   "source": [
    "## Preparation"
   ]
  },
  {
   "cell_type": "markdown",
   "metadata": {},
   "source": [
    "### Importing Python libraries"
   ]
  },
  {
   "cell_type": "code",
   "execution_count": 3,
   "metadata": {},
   "outputs": [],
   "source": [
    "import pandas as pd\n",
    "import numpy as np\n",
    "import datetime\n",
    "import math\n",
    "from statsmodels.tsa.seasonal import seasonal_decompose\n",
    "import matplotlib.pyplot as plt\n",
    "from sklearn.model_selection import train_test_split\n",
    "from sklearn.metrics import mean_absolute_error, mean_squared_error\n",
    "from sklearn.model_selection import GridSearchCV\n",
    "from sklearn.linear_model import LinearRegression\n",
    "from sklearn.ensemble import RandomForestRegressor\n",
    "from catboost import CatBoostRegressor\n",
    "from lightgbm import LGBMClassifier\n",
    "from sklearn.model_selection import TimeSeriesSplit\n",
    "import warnings\n",
    "warnings.filterwarnings('ignore')"
   ]
  },
  {
   "cell_type": "markdown",
   "metadata": {},
   "source": [
    "### Download the data and resample it by one hour"
   ]
  },
  {
   "cell_type": "code",
   "execution_count": 4,
   "metadata": {},
   "outputs": [],
   "source": [
    "try:\n",
    "    taxi_oreders = pd.read_csv('/datasets/taxi.csv', parse_dates=[0], index_col=[0])\n",
    "except:\n",
    "    taxi_oreders = pd.read_csv('taxi.csv', parse_dates=[0], index_col=[0])"
   ]
  },
  {
   "cell_type": "code",
   "execution_count": 5,
   "metadata": {},
   "outputs": [
    {
     "name": "stdout",
     "output_type": "stream",
     "text": [
      "<class 'pandas.core.frame.DataFrame'>\n",
      "DatetimeIndex: 26496 entries, 2018-01-03 00:00:00 to 2018-08-31 23:50:00\n",
      "Data columns (total 1 columns):\n",
      " #   Column      Non-Null Count  Dtype\n",
      "---  ------      --------------  -----\n",
      " 0   num_orders  26496 non-null  int64\n",
      "dtypes: int64(1)\n",
      "memory usage: 414.0 KB\n"
     ]
    }
   ],
   "source": [
    "taxi_oreders.info()"
   ]
  },
  {
   "cell_type": "code",
   "execution_count": 6,
   "metadata": {},
   "outputs": [
    {
     "data": {
      "text/plain": [
       "False"
      ]
     },
     "execution_count": 6,
     "metadata": {},
     "output_type": "execute_result"
    }
   ],
   "source": [
    "taxi_oreders.index.is_monotonic"
   ]
  },
  {
   "cell_type": "code",
   "execution_count": 7,
   "metadata": {},
   "outputs": [
    {
     "data": {
      "text/html": [
       "<div>\n",
       "<style scoped>\n",
       "    .dataframe tbody tr th:only-of-type {\n",
       "        vertical-align: middle;\n",
       "    }\n",
       "\n",
       "    .dataframe tbody tr th {\n",
       "        vertical-align: top;\n",
       "    }\n",
       "\n",
       "    .dataframe thead th {\n",
       "        text-align: right;\n",
       "    }\n",
       "</style>\n",
       "<table border=\"1\" class=\"dataframe\">\n",
       "  <thead>\n",
       "    <tr style=\"text-align: right;\">\n",
       "      <th></th>\n",
       "      <th>num_orders</th>\n",
       "    </tr>\n",
       "    <tr>\n",
       "      <th>datetime</th>\n",
       "      <th></th>\n",
       "    </tr>\n",
       "  </thead>\n",
       "  <tbody>\n",
       "    <tr>\n",
       "      <th>2018-01-03 00:00:00</th>\n",
       "      <td>9</td>\n",
       "    </tr>\n",
       "    <tr>\n",
       "      <th>2018-01-03 00:10:00</th>\n",
       "      <td>14</td>\n",
       "    </tr>\n",
       "    <tr>\n",
       "      <th>2018-01-03 00:20:00</th>\n",
       "      <td>28</td>\n",
       "    </tr>\n",
       "    <tr>\n",
       "      <th>2018-01-03 00:30:00</th>\n",
       "      <td>20</td>\n",
       "    </tr>\n",
       "    <tr>\n",
       "      <th>2018-01-03 00:40:00</th>\n",
       "      <td>32</td>\n",
       "    </tr>\n",
       "  </tbody>\n",
       "</table>\n",
       "</div>"
      ],
      "text/plain": [
       "                     num_orders\n",
       "datetime                       \n",
       "2018-01-03 00:00:00           9\n",
       "2018-01-03 00:10:00          14\n",
       "2018-01-03 00:20:00          28\n",
       "2018-01-03 00:30:00          20\n",
       "2018-01-03 00:40:00          32"
      ]
     },
     "execution_count": 7,
     "metadata": {},
     "output_type": "execute_result"
    }
   ],
   "source": [
    "taxi_oreders.head(5)"
   ]
  },
  {
   "cell_type": "code",
   "execution_count": 8,
   "metadata": {},
   "outputs": [
    {
     "data": {
      "text/html": [
       "<div>\n",
       "<style scoped>\n",
       "    .dataframe tbody tr th:only-of-type {\n",
       "        vertical-align: middle;\n",
       "    }\n",
       "\n",
       "    .dataframe tbody tr th {\n",
       "        vertical-align: top;\n",
       "    }\n",
       "\n",
       "    .dataframe thead th {\n",
       "        text-align: right;\n",
       "    }\n",
       "</style>\n",
       "<table border=\"1\" class=\"dataframe\">\n",
       "  <thead>\n",
       "    <tr style=\"text-align: right;\">\n",
       "      <th></th>\n",
       "      <th>num_orders</th>\n",
       "    </tr>\n",
       "  </thead>\n",
       "  <tbody>\n",
       "    <tr>\n",
       "      <th>count</th>\n",
       "      <td>26496.000000</td>\n",
       "    </tr>\n",
       "    <tr>\n",
       "      <th>mean</th>\n",
       "      <td>14.070463</td>\n",
       "    </tr>\n",
       "    <tr>\n",
       "      <th>std</th>\n",
       "      <td>9.211330</td>\n",
       "    </tr>\n",
       "    <tr>\n",
       "      <th>min</th>\n",
       "      <td>0.000000</td>\n",
       "    </tr>\n",
       "    <tr>\n",
       "      <th>25%</th>\n",
       "      <td>8.000000</td>\n",
       "    </tr>\n",
       "    <tr>\n",
       "      <th>50%</th>\n",
       "      <td>13.000000</td>\n",
       "    </tr>\n",
       "    <tr>\n",
       "      <th>75%</th>\n",
       "      <td>19.000000</td>\n",
       "    </tr>\n",
       "    <tr>\n",
       "      <th>max</th>\n",
       "      <td>119.000000</td>\n",
       "    </tr>\n",
       "  </tbody>\n",
       "</table>\n",
       "</div>"
      ],
      "text/plain": [
       "         num_orders\n",
       "count  26496.000000\n",
       "mean      14.070463\n",
       "std        9.211330\n",
       "min        0.000000\n",
       "25%        8.000000\n",
       "50%       13.000000\n",
       "75%       19.000000\n",
       "max      119.000000"
      ]
     },
     "execution_count": 8,
     "metadata": {},
     "output_type": "execute_result"
    }
   ],
   "source": [
    "taxi_oreders.describe()"
   ]
  },
  {
   "cell_type": "code",
   "execution_count": 9,
   "metadata": {},
   "outputs": [],
   "source": [
    "# The interval of the data is 10 minutes\n",
    "# We will change the interval to 1 hour by resampling it \n",
    "taxi_oreders = taxi_oreders.resample('1H').sum()"
   ]
  },
  {
   "cell_type": "code",
   "execution_count": 10,
   "metadata": {},
   "outputs": [
    {
     "name": "stdout",
     "output_type": "stream",
     "text": [
      "<class 'pandas.core.frame.DataFrame'>\n",
      "DatetimeIndex: 8160 entries, 2018-01-03 00:00:00 to 2018-12-08 23:00:00\n",
      "Freq: H\n",
      "Data columns (total 1 columns):\n",
      " #   Column      Non-Null Count  Dtype\n",
      "---  ------      --------------  -----\n",
      " 0   num_orders  8160 non-null   int64\n",
      "dtypes: int64(1)\n",
      "memory usage: 127.5 KB\n"
     ]
    }
   ],
   "source": [
    "taxi_oreders.info()"
   ]
  },
  {
   "cell_type": "code",
   "execution_count": 11,
   "metadata": {},
   "outputs": [
    {
     "data": {
      "text/html": [
       "<div>\n",
       "<style scoped>\n",
       "    .dataframe tbody tr th:only-of-type {\n",
       "        vertical-align: middle;\n",
       "    }\n",
       "\n",
       "    .dataframe tbody tr th {\n",
       "        vertical-align: top;\n",
       "    }\n",
       "\n",
       "    .dataframe thead th {\n",
       "        text-align: right;\n",
       "    }\n",
       "</style>\n",
       "<table border=\"1\" class=\"dataframe\">\n",
       "  <thead>\n",
       "    <tr style=\"text-align: right;\">\n",
       "      <th></th>\n",
       "      <th>num_orders</th>\n",
       "    </tr>\n",
       "    <tr>\n",
       "      <th>datetime</th>\n",
       "      <th></th>\n",
       "    </tr>\n",
       "  </thead>\n",
       "  <tbody>\n",
       "    <tr>\n",
       "      <th>2018-01-03 00:00:00</th>\n",
       "      <td>124</td>\n",
       "    </tr>\n",
       "    <tr>\n",
       "      <th>2018-01-03 01:00:00</th>\n",
       "      <td>85</td>\n",
       "    </tr>\n",
       "    <tr>\n",
       "      <th>2018-01-03 02:00:00</th>\n",
       "      <td>71</td>\n",
       "    </tr>\n",
       "  </tbody>\n",
       "</table>\n",
       "</div>"
      ],
      "text/plain": [
       "                     num_orders\n",
       "datetime                       \n",
       "2018-01-03 00:00:00         124\n",
       "2018-01-03 01:00:00          85\n",
       "2018-01-03 02:00:00          71"
      ]
     },
     "execution_count": 11,
     "metadata": {},
     "output_type": "execute_result"
    }
   ],
   "source": [
    "taxi_oreders.head(3)"
   ]
  },
  {
   "cell_type": "markdown",
   "metadata": {},
   "source": [
    "**Summary:**\n",
    "\n",
    "We have 26,496 records in our dataset, with interval of 10 minutes. \n",
    "\n",
    "The inspections are of 6 months period between '2018-03-01' and '2018-08-31'    "
   ]
  },
  {
   "cell_type": "markdown",
   "metadata": {},
   "source": [
    "## Analysis"
   ]
  },
  {
   "cell_type": "markdown",
   "metadata": {},
   "source": [
    "### Plot Orders Graph"
   ]
  },
  {
   "cell_type": "code",
   "execution_count": 12,
   "metadata": {},
   "outputs": [
    {
     "data": {
      "image/png": "[encoded data removed]",
      "text/plain": [
       "<Figure size 576x360 with 1 Axes>"
      ]
     },
     "metadata": {
      "needs_background": "light"
     },
     "output_type": "display_data"
    }
   ],
   "source": [
    "fig = plt.figure(figsize=(8, 5))\n",
    "ax1 = fig.add_subplot(111)\n",
    "ax1.plot(taxi_oreders)\n",
    "plt.title('Taxi Orders Distribution');"
   ]
  },
  {
   "cell_type": "markdown",
   "metadata": {},
   "source": [
    "### Trends and Seasonality"
   ]
  },
  {
   "cell_type": "code",
   "execution_count": 13,
   "metadata": {},
   "outputs": [],
   "source": [
    "decomposed = seasonal_decompose(taxi_oreders)"
   ]
  },
  {
   "cell_type": "code",
   "execution_count": 14,
   "metadata": {},
   "outputs": [
    {
     "data": {
      "image/png": "[encoded data removed]",
      "text/plain": [
       "<Figure size 720x720 with 3 Axes>"
      ]
     },
     "metadata": {
      "needs_background": "light"
     },
     "output_type": "display_data"
    }
   ],
   "source": [
    "plt.figure(figsize=(10, 10))\n",
    "\n",
    "plt.subplot(311)\n",
    "decomposed.trend.plot(ax=plt.gca())\n",
    "plt.title('Trend')\n",
    "plt.subplot(312)\n",
    "decomposed.seasonal.plot(ax=plt.gca())\n",
    "plt.title('Seasonality')\n",
    "plt.subplot(313)\n",
    "decomposed.resid.plot(ax=plt.gca())\n",
    "plt.title('Residuals');"
   ]
  },
  {
   "cell_type": "code",
   "execution_count": 15,
   "metadata": {
    "scrolled": true
   },
   "outputs": [
    {
     "data": {
      "image/png": "[encoded data removed]",
      "text/plain": [
       "<Figure size 576x432 with 1 Axes>"
      ]
     },
     "metadata": {
      "needs_background": "light"
     },
     "output_type": "display_data"
    }
   ],
   "source": [
    "# one month view\n",
    "fig = plt.figure(figsize=(8, 6))\n",
    "ax1 = fig.add_subplot(111)\n",
    "ax1.plot(decomposed.seasonal['2018-03-01':'2018-03-31'])\n",
    "plt.title('Month Seasonality');"
   ]
  },
  {
   "cell_type": "code",
   "execution_count": 16,
   "metadata": {},
   "outputs": [
    {
     "data": {
      "text/plain": [
       "Text(0.5, 1.0, 'Weekly Seasonality')"
      ]
     },
     "execution_count": 16,
     "metadata": {},
     "output_type": "execute_result"
    },
    {
     "data": {
      "image/png": "[encoded data removed]",
      "text/plain": [
       "<Figure size 576x432 with 1 Axes>"
      ]
     },
     "metadata": {
      "needs_background": "light"
     },
     "output_type": "display_data"
    }
   ],
   "source": [
    "# one week view\n",
    "fig = plt.figure(figsize=(8, 6))\n",
    "ax1 = fig.add_subplot(111)\n",
    "ax1.plot(decomposed.seasonal['2018-03-05':'2018-03-11'])\n",
    "plt.title('Weekly Seasonality')"
   ]
  },
  {
   "cell_type": "markdown",
   "metadata": {},
   "source": [
    "**We can observe daily seasonality in the week picture**"
   ]
  },
  {
   "cell_type": "code",
   "execution_count": 17,
   "metadata": {},
   "outputs": [
    {
     "data": {
      "image/png": "[encoded data removed]",
      "text/plain": [
       "<Figure size 576x432 with 1 Axes>"
      ]
     },
     "metadata": {
      "needs_background": "light"
     },
     "output_type": "display_data"
    }
   ],
   "source": [
    "# three days view\n",
    "fig = plt.figure(figsize=(8, 6))\n",
    "ax1 = fig.add_subplot(111)\n",
    "ax1.plot(decomposed.seasonal['2018-03-01':'2018-03-03'])\n",
    "plt.title('Daily Seasonality');"
   ]
  },
  {
   "cell_type": "code",
   "execution_count": 18,
   "metadata": {},
   "outputs": [
    {
     "data": {
      "image/png": "[encoded data removed]",
      "text/plain": [
       "<Figure size 576x432 with 1 Axes>"
      ]
     },
     "metadata": {
      "needs_background": "light"
     },
     "output_type": "display_data"
    }
   ],
   "source": [
    "# Whole period trend\n",
    "fig = plt.figure(figsize=(8, 6))\n",
    "ax1 = fig.add_subplot(111)\n",
    "ax1.plot(decomposed.trend)\n",
    "plt.title('Trend');"
   ]
  },
  {
   "cell_type": "code",
   "execution_count": 19,
   "metadata": {},
   "outputs": [
    {
     "data": {
      "image/png": "[encoded data removed]",
      "text/plain": [
       "<Figure size 576x432 with 1 Axes>"
      ]
     },
     "metadata": {
      "needs_background": "light"
     },
     "output_type": "display_data"
    }
   ],
   "source": [
    "# Looking at a period of three weeks\n",
    "fig = plt.figure(figsize=(8, 6))\n",
    "ax1 = fig.add_subplot(111)\n",
    "ax1.plot(decomposed.trend['2018-03-05':'2018-03-25'])\n",
    "plt.title('Weekly Trend x 3 weeks');"
   ]
  },
  {
   "cell_type": "markdown",
   "metadata": {},
   "source": [
    "**Findings:**\n",
    "\n",
    "We can observe a weekly trend, that in a longer time frame turns into a seasonality - there is a pattern change in the number of orders depending on the day of the week"
   ]
  },
  {
   "cell_type": "code",
   "execution_count": 20,
   "metadata": {},
   "outputs": [
    {
     "data": {
      "image/png": "[encoded data removed]",
      "text/plain": [
       "<Figure size 576x432 with 1 Axes>"
      ]
     },
     "metadata": {
      "needs_background": "light"
     },
     "output_type": "display_data"
    }
   ],
   "source": [
    "# two days view\n",
    "fig = plt.figure(figsize=(8, 6))\n",
    "ax1 = fig.add_subplot(111)\n",
    "ax1.plot(decomposed.trend['2018-03-07':'2018-03-08'])\n",
    "plt.title('Daily Trend');"
   ]
  },
  {
   "cell_type": "markdown",
   "metadata": {},
   "source": [
    "**In this graph, daily trending is not recognized**"
   ]
  },
  {
   "cell_type": "code",
   "execution_count": 21,
   "metadata": {},
   "outputs": [
    {
     "data": {
      "image/png": "[encoded data removed]",
      "text/plain": [
       "<Figure size 576x432 with 1 Axes>"
      ]
     },
     "metadata": {
      "needs_background": "light"
     },
     "output_type": "display_data"
    }
   ],
   "source": [
    "fig = plt.figure(figsize=(8, 6))\n",
    "ax1 = fig.add_subplot(111)\n",
    "ax1.plot(decomposed.resid)\n",
    "plt.title('Residuals');"
   ]
  },
  {
   "cell_type": "markdown",
   "metadata": {},
   "source": [
    "**Findings:**\n",
    "    \n",
    "The graph of residuals shows quite constand mean and variance. \n",
    "\n",
    "A change is observed on the last month, when the variance is growing and we see many exceptionaly high numbers"
   ]
  },
  {
   "cell_type": "markdown",
   "metadata": {},
   "source": [
    "### Day aggregation"
   ]
  },
  {
   "cell_type": "code",
   "execution_count": 22,
   "metadata": {},
   "outputs": [],
   "source": [
    "data_day = taxi_oreders['num_orders'].resample('1D').sum()\n",
    "decomposed_day = seasonal_decompose(data_day)"
   ]
  },
  {
   "cell_type": "code",
   "execution_count": 23,
   "metadata": {},
   "outputs": [
    {
     "data": {
      "image/png": "[encoded data removed]",
      "text/plain": [
       "<Figure size 576x432 with 1 Axes>"
      ]
     },
     "metadata": {
      "needs_background": "light"
     },
     "output_type": "display_data"
    }
   ],
   "source": [
    "# four weeks view\n",
    "fig = plt.figure(figsize=(8, 6))\n",
    "ax1 = fig.add_subplot(111)\n",
    "ax1.plot(decomposed_day.trend['2018-03-05':'2018-04-01'])\n",
    "plt.title('Trend');"
   ]
  },
  {
   "cell_type": "code",
   "execution_count": 24,
   "metadata": {},
   "outputs": [
    {
     "data": {
      "image/png": "[encoded data removed]",
      "text/plain": [
       "<Figure size 576x432 with 1 Axes>"
      ]
     },
     "metadata": {
      "needs_background": "light"
     },
     "output_type": "display_data"
    }
   ],
   "source": [
    "# Two weeks view\n",
    "fig = plt.figure(figsize=(8, 6))\n",
    "ax1 = fig.add_subplot(111)\n",
    "ax1.plot(decomposed_day.seasonal['2018-03-05':'2018-03-18'])\n",
    "plt.title('Trend');"
   ]
  },
  {
   "cell_type": "markdown",
   "metadata": {},
   "source": [
    "### Is the data stationary?"
   ]
  },
  {
   "cell_type": "code",
   "execution_count": 25,
   "metadata": {},
   "outputs": [],
   "source": [
    "df_to_plot = taxi_oreders.copy()"
   ]
  },
  {
   "cell_type": "code",
   "execution_count": 26,
   "metadata": {},
   "outputs": [
    {
     "data": {
      "text/html": [
       "<div>\n",
       "<style scoped>\n",
       "    .dataframe tbody tr th:only-of-type {\n",
       "        vertical-align: middle;\n",
       "    }\n",
       "\n",
       "    .dataframe tbody tr th {\n",
       "        vertical-align: top;\n",
       "    }\n",
       "\n",
       "    .dataframe thead th {\n",
       "        text-align: right;\n",
       "    }\n",
       "</style>\n",
       "<table border=\"1\" class=\"dataframe\">\n",
       "  <thead>\n",
       "    <tr style=\"text-align: right;\">\n",
       "      <th></th>\n",
       "      <th>num_orders</th>\n",
       "    </tr>\n",
       "    <tr>\n",
       "      <th>datetime</th>\n",
       "      <th></th>\n",
       "    </tr>\n",
       "  </thead>\n",
       "  <tbody>\n",
       "    <tr>\n",
       "      <th>2018-01-03 00:00:00</th>\n",
       "      <td>124</td>\n",
       "    </tr>\n",
       "    <tr>\n",
       "      <th>2018-01-03 01:00:00</th>\n",
       "      <td>85</td>\n",
       "    </tr>\n",
       "    <tr>\n",
       "      <th>2018-01-03 02:00:00</th>\n",
       "      <td>71</td>\n",
       "    </tr>\n",
       "    <tr>\n",
       "      <th>2018-01-03 03:00:00</th>\n",
       "      <td>66</td>\n",
       "    </tr>\n",
       "    <tr>\n",
       "      <th>2018-01-03 04:00:00</th>\n",
       "      <td>43</td>\n",
       "    </tr>\n",
       "  </tbody>\n",
       "</table>\n",
       "</div>"
      ],
      "text/plain": [
       "                     num_orders\n",
       "datetime                       \n",
       "2018-01-03 00:00:00         124\n",
       "2018-01-03 01:00:00          85\n",
       "2018-01-03 02:00:00          71\n",
       "2018-01-03 03:00:00          66\n",
       "2018-01-03 04:00:00          43"
      ]
     },
     "execution_count": 26,
     "metadata": {},
     "output_type": "execute_result"
    }
   ],
   "source": [
    "df_to_plot.head()"
   ]
  },
  {
   "cell_type": "code",
   "execution_count": 27,
   "metadata": {},
   "outputs": [],
   "source": [
    "# Looking for the average orders number and standard devietion for 24 hours period\n",
    "df_to_plot['rolling_mean'] = df_to_plot['num_orders'].rolling(12).mean()\n",
    "df_to_plot['std'] = df_to_plot['num_orders'].rolling(12).std()"
   ]
  },
  {
   "cell_type": "code",
   "execution_count": 28,
   "metadata": {},
   "outputs": [
    {
     "data": {
      "image/png": "[encoded data removed]",
      "text/plain": [
       "<Figure size 720x432 with 1 Axes>"
      ]
     },
     "metadata": {
      "needs_background": "light"
     },
     "output_type": "display_data"
    }
   ],
   "source": [
    "fig = plt.figure(figsize=(10, 6))\n",
    "ax1 = fig.add_subplot(111)\n",
    "ax1.plot(df_to_plot);"
   ]
  },
  {
   "cell_type": "markdown",
   "metadata": {},
   "source": [
    "**Findings:**\n",
    "\n",
    "The data is not stationary: We can see that the mean changes over time. \n",
    "The standard devietion, however does not change over time, what make this process's prediction feasible**"
   ]
  },
  {
   "cell_type": "markdown",
   "metadata": {},
   "source": [
    "### Data Shift"
   ]
  },
  {
   "cell_type": "code",
   "execution_count": 29,
   "metadata": {},
   "outputs": [
    {
     "name": "stdout",
     "output_type": "stream",
     "text": [
      "<class 'pandas.core.frame.DataFrame'>\n",
      "DatetimeIndex: 8160 entries, 2018-01-03 00:00:00 to 2018-12-08 23:00:00\n",
      "Freq: H\n",
      "Data columns (total 1 columns):\n",
      " #   Column      Non-Null Count  Dtype\n",
      "---  ------      --------------  -----\n",
      " 0   num_orders  8160 non-null   int64\n",
      "dtypes: int64(1)\n",
      "memory usage: 127.5 KB\n"
     ]
    }
   ],
   "source": [
    "data_diff = taxi_oreders.copy()\n",
    "data_diff.info()"
   ]
  },
  {
   "cell_type": "code",
   "execution_count": 30,
   "metadata": {},
   "outputs": [],
   "source": [
    "data_diff -= data_diff.shift()"
   ]
  },
  {
   "cell_type": "code",
   "execution_count": 31,
   "metadata": {},
   "outputs": [
    {
     "data": {
      "text/html": [
       "<div>\n",
       "<style scoped>\n",
       "    .dataframe tbody tr th:only-of-type {\n",
       "        vertical-align: middle;\n",
       "    }\n",
       "\n",
       "    .dataframe tbody tr th {\n",
       "        vertical-align: top;\n",
       "    }\n",
       "\n",
       "    .dataframe thead th {\n",
       "        text-align: right;\n",
       "    }\n",
       "</style>\n",
       "<table border=\"1\" class=\"dataframe\">\n",
       "  <thead>\n",
       "    <tr style=\"text-align: right;\">\n",
       "      <th></th>\n",
       "      <th>num_orders</th>\n",
       "    </tr>\n",
       "    <tr>\n",
       "      <th>datetime</th>\n",
       "      <th></th>\n",
       "    </tr>\n",
       "  </thead>\n",
       "  <tbody>\n",
       "    <tr>\n",
       "      <th>2018-01-03 00:00:00</th>\n",
       "      <td>NaN</td>\n",
       "    </tr>\n",
       "    <tr>\n",
       "      <th>2018-01-03 01:00:00</th>\n",
       "      <td>-39.0</td>\n",
       "    </tr>\n",
       "    <tr>\n",
       "      <th>2018-01-03 02:00:00</th>\n",
       "      <td>-14.0</td>\n",
       "    </tr>\n",
       "    <tr>\n",
       "      <th>2018-01-03 03:00:00</th>\n",
       "      <td>-5.0</td>\n",
       "    </tr>\n",
       "    <tr>\n",
       "      <th>2018-01-03 04:00:00</th>\n",
       "      <td>-23.0</td>\n",
       "    </tr>\n",
       "  </tbody>\n",
       "</table>\n",
       "</div>"
      ],
      "text/plain": [
       "                     num_orders\n",
       "datetime                       \n",
       "2018-01-03 00:00:00         NaN\n",
       "2018-01-03 01:00:00       -39.0\n",
       "2018-01-03 02:00:00       -14.0\n",
       "2018-01-03 03:00:00        -5.0\n",
       "2018-01-03 04:00:00       -23.0"
      ]
     },
     "execution_count": 31,
     "metadata": {},
     "output_type": "execute_result"
    }
   ],
   "source": [
    "data_diff.head()"
   ]
  },
  {
   "cell_type": "code",
   "execution_count": 32,
   "metadata": {},
   "outputs": [
    {
     "data": {
      "image/png": "[encoded data removed]",
      "text/plain": [
       "<Figure size 720x432 with 1 Axes>"
      ]
     },
     "metadata": {
      "needs_background": "light"
     },
     "output_type": "display_data"
    }
   ],
   "source": [
    "data_diff['mean'] = data_diff['num_orders'].rolling(24).mean()\n",
    "data_diff['std'] = data_diff['num_orders'].rolling(24).std()\n",
    "\n",
    "fig = plt.figure(figsize=(10, 6))\n",
    "ax1 = fig.add_subplot(111)\n",
    "ax1.plot(data_diff);"
   ]
  },
  {
   "cell_type": "markdown",
   "metadata": {},
   "source": [
    "**Findings:**\n",
    "\n",
    "We can see in this graph how the standard deviation is very stable, and again how the average (positive) change is growing "
   ]
  },
  {
   "cell_type": "markdown",
   "metadata": {},
   "source": [
    "## Training"
   ]
  },
  {
   "cell_type": "code",
   "execution_count": 33,
   "metadata": {},
   "outputs": [],
   "source": [
    "# Splitting the data to train and test data sets\n",
    "train, test = train_test_split(taxi_oreders, shuffle=False, test_size=0.1)\n",
    "\n",
    "train = train.dropna()\n",
    "target_train = train['num_orders']\n",
    "features_train = train.drop('num_orders', axis=1)\n",
    "target_test = test['num_orders']\n",
    "features_test = test.drop('num_orders', axis=1)"
   ]
  },
  {
   "cell_type": "code",
   "execution_count": 34,
   "metadata": {},
   "outputs": [
    {
     "name": "stdout",
     "output_type": "stream",
     "text": [
      "2018-01-03 00:00:00 2018-11-04 23:00:00\n",
      "2018-11-05 00:00:00 2018-12-08 23:00:00\n"
     ]
    }
   ],
   "source": [
    "print(train.index.min(), train.index.max())\n",
    "print(test.index.min(), test.index.max())"
   ]
  },
  {
   "cell_type": "markdown",
   "metadata": {},
   "source": [
    "### Model sanity check forecasting without training"
   ]
  },
  {
   "cell_type": "markdown",
   "metadata": {},
   "source": [
    "#### Constant model: median"
   ]
  },
  {
   "cell_type": "code",
   "execution_count": 35,
   "metadata": {},
   "outputs": [
    {
     "name": "stdout",
     "output_type": "stream",
     "text": [
      "MAE: 41.33455882352941\n",
      "RMSE: 46.3045253579761\n"
     ]
    }
   ],
   "source": [
    "\n",
    "pred_median = np.ones(target_test.shape) * target_train.median()\n",
    "\n",
    "print('MAE:', mean_absolute_error(target_test,pred_median))\n",
    "print('RMSE:', math.sqrt(mean_squared_error(target_test, pred_median)))"
   ]
  },
  {
   "cell_type": "markdown",
   "metadata": {},
   "source": [
    "#### Previous value"
   ]
  },
  {
   "cell_type": "code",
   "execution_count": 36,
   "metadata": {},
   "outputs": [
    {
     "name": "stdout",
     "output_type": "stream",
     "text": [
      "MAE: 8.381127450980392\n",
      "RMSE: 20.90691906297727\n"
     ]
    }
   ],
   "source": [
    "# This model predicts based on the previous value\n",
    "pred_previous = target_test.shift()\n",
    "pred_previous.iloc[0] = target_train.iloc[-1]\n",
    "print('MAE:', mean_absolute_error(target_test, pred_previous))\n",
    "print('RMSE:', math.sqrt(mean_squared_error(target_test, pred_previous)))"
   ]
  },
  {
   "cell_type": "markdown",
   "metadata": {},
   "source": [
    "The previous value model provides better results then the constant model!"
   ]
  },
  {
   "cell_type": "markdown",
   "metadata": {},
   "source": [
    "### Creating Features"
   ]
  },
  {
   "cell_type": "code",
   "execution_count": 37,
   "metadata": {},
   "outputs": [],
   "source": [
    "def make_features(data, max_lag, rolling_mean_size):\n",
    "    data['month'] = data.index.month\n",
    "    data['day'] = data.index.day\n",
    "    data['hour'] = data.index.hour\n",
    "    data['dayofweek'] = data.index.dayofweek\n",
    "    \n",
    "    for lag in range(1, max_lag + 1):\n",
    "        data['lag_{}'.format(lag)] = data['num_orders'].shift(lag)\n",
    "\n",
    "    data['rolling_mean'] = data['num_orders'].shift().rolling(rolling_mean_size).mean()\n",
    "    return data"
   ]
  },
  {
   "cell_type": "code",
   "execution_count": 38,
   "metadata": {},
   "outputs": [],
   "source": [
    "# I have set leg=4, rolling window = 3 after few itterations of tests\n",
    "df = taxi_oreders.copy()\n",
    "max_lag = 24\n",
    "rolling_mean_size = 4\n",
    "df = make_features(df, max_lag, rolling_mean_size)"
   ]
  },
  {
   "cell_type": "code",
   "execution_count": 39,
   "metadata": {},
   "outputs": [
    {
     "data": {
      "text/html": [
       "<div>\n",
       "<style scoped>\n",
       "    .dataframe tbody tr th:only-of-type {\n",
       "        vertical-align: middle;\n",
       "    }\n",
       "\n",
       "    .dataframe tbody tr th {\n",
       "        vertical-align: top;\n",
       "    }\n",
       "\n",
       "    .dataframe thead th {\n",
       "        text-align: right;\n",
       "    }\n",
       "</style>\n",
       "<table border=\"1\" class=\"dataframe\">\n",
       "  <thead>\n",
       "    <tr style=\"text-align: right;\">\n",
       "      <th></th>\n",
       "      <th>num_orders</th>\n",
       "      <th>month</th>\n",
       "      <th>day</th>\n",
       "      <th>hour</th>\n",
       "      <th>dayofweek</th>\n",
       "      <th>lag_1</th>\n",
       "      <th>lag_2</th>\n",
       "      <th>lag_3</th>\n",
       "      <th>lag_4</th>\n",
       "      <th>lag_5</th>\n",
       "      <th>...</th>\n",
       "      <th>lag_16</th>\n",
       "      <th>lag_17</th>\n",
       "      <th>lag_18</th>\n",
       "      <th>lag_19</th>\n",
       "      <th>lag_20</th>\n",
       "      <th>lag_21</th>\n",
       "      <th>lag_22</th>\n",
       "      <th>lag_23</th>\n",
       "      <th>lag_24</th>\n",
       "      <th>rolling_mean</th>\n",
       "    </tr>\n",
       "    <tr>\n",
       "      <th>datetime</th>\n",
       "      <th></th>\n",
       "      <th></th>\n",
       "      <th></th>\n",
       "      <th></th>\n",
       "      <th></th>\n",
       "      <th></th>\n",
       "      <th></th>\n",
       "      <th></th>\n",
       "      <th></th>\n",
       "      <th></th>\n",
       "      <th></th>\n",
       "      <th></th>\n",
       "      <th></th>\n",
       "      <th></th>\n",
       "      <th></th>\n",
       "      <th></th>\n",
       "      <th></th>\n",
       "      <th></th>\n",
       "      <th></th>\n",
       "      <th></th>\n",
       "      <th></th>\n",
       "    </tr>\n",
       "  </thead>\n",
       "  <tbody>\n",
       "    <tr>\n",
       "      <th>2018-01-03 00:00:00</th>\n",
       "      <td>124</td>\n",
       "      <td>1</td>\n",
       "      <td>3</td>\n",
       "      <td>0</td>\n",
       "      <td>2</td>\n",
       "      <td>NaN</td>\n",
       "      <td>NaN</td>\n",
       "      <td>NaN</td>\n",
       "      <td>NaN</td>\n",
       "      <td>NaN</td>\n",
       "      <td>...</td>\n",
       "      <td>NaN</td>\n",
       "      <td>NaN</td>\n",
       "      <td>NaN</td>\n",
       "      <td>NaN</td>\n",
       "      <td>NaN</td>\n",
       "      <td>NaN</td>\n",
       "      <td>NaN</td>\n",
       "      <td>NaN</td>\n",
       "      <td>NaN</td>\n",
       "      <td>NaN</td>\n",
       "    </tr>\n",
       "    <tr>\n",
       "      <th>2018-01-03 01:00:00</th>\n",
       "      <td>85</td>\n",
       "      <td>1</td>\n",
       "      <td>3</td>\n",
       "      <td>1</td>\n",
       "      <td>2</td>\n",
       "      <td>124.0</td>\n",
       "      <td>NaN</td>\n",
       "      <td>NaN</td>\n",
       "      <td>NaN</td>\n",
       "      <td>NaN</td>\n",
       "      <td>...</td>\n",
       "      <td>NaN</td>\n",
       "      <td>NaN</td>\n",
       "      <td>NaN</td>\n",
       "      <td>NaN</td>\n",
       "      <td>NaN</td>\n",
       "      <td>NaN</td>\n",
       "      <td>NaN</td>\n",
       "      <td>NaN</td>\n",
       "      <td>NaN</td>\n",
       "      <td>NaN</td>\n",
       "    </tr>\n",
       "    <tr>\n",
       "      <th>2018-01-03 02:00:00</th>\n",
       "      <td>71</td>\n",
       "      <td>1</td>\n",
       "      <td>3</td>\n",
       "      <td>2</td>\n",
       "      <td>2</td>\n",
       "      <td>85.0</td>\n",
       "      <td>124.0</td>\n",
       "      <td>NaN</td>\n",
       "      <td>NaN</td>\n",
       "      <td>NaN</td>\n",
       "      <td>...</td>\n",
       "      <td>NaN</td>\n",
       "      <td>NaN</td>\n",
       "      <td>NaN</td>\n",
       "      <td>NaN</td>\n",
       "      <td>NaN</td>\n",
       "      <td>NaN</td>\n",
       "      <td>NaN</td>\n",
       "      <td>NaN</td>\n",
       "      <td>NaN</td>\n",
       "      <td>NaN</td>\n",
       "    </tr>\n",
       "    <tr>\n",
       "      <th>2018-01-03 03:00:00</th>\n",
       "      <td>66</td>\n",
       "      <td>1</td>\n",
       "      <td>3</td>\n",
       "      <td>3</td>\n",
       "      <td>2</td>\n",
       "      <td>71.0</td>\n",
       "      <td>85.0</td>\n",
       "      <td>124.0</td>\n",
       "      <td>NaN</td>\n",
       "      <td>NaN</td>\n",
       "      <td>...</td>\n",
       "      <td>NaN</td>\n",
       "      <td>NaN</td>\n",
       "      <td>NaN</td>\n",
       "      <td>NaN</td>\n",
       "      <td>NaN</td>\n",
       "      <td>NaN</td>\n",
       "      <td>NaN</td>\n",
       "      <td>NaN</td>\n",
       "      <td>NaN</td>\n",
       "      <td>NaN</td>\n",
       "    </tr>\n",
       "    <tr>\n",
       "      <th>2018-01-03 04:00:00</th>\n",
       "      <td>43</td>\n",
       "      <td>1</td>\n",
       "      <td>3</td>\n",
       "      <td>4</td>\n",
       "      <td>2</td>\n",
       "      <td>66.0</td>\n",
       "      <td>71.0</td>\n",
       "      <td>85.0</td>\n",
       "      <td>124.0</td>\n",
       "      <td>NaN</td>\n",
       "      <td>...</td>\n",
       "      <td>NaN</td>\n",
       "      <td>NaN</td>\n",
       "      <td>NaN</td>\n",
       "      <td>NaN</td>\n",
       "      <td>NaN</td>\n",
       "      <td>NaN</td>\n",
       "      <td>NaN</td>\n",
       "      <td>NaN</td>\n",
       "      <td>NaN</td>\n",
       "      <td>86.5</td>\n",
       "    </tr>\n",
       "  </tbody>\n",
       "</table>\n",
       "<p>5 rows × 30 columns</p>\n",
       "</div>"
      ],
      "text/plain": [
       "                     num_orders  month  day  hour  dayofweek  lag_1  lag_2  \\\n",
       "datetime                                                                     \n",
       "2018-01-03 00:00:00         124      1    3     0          2    NaN    NaN   \n",
       "2018-01-03 01:00:00          85      1    3     1          2  124.0    NaN   \n",
       "2018-01-03 02:00:00          71      1    3     2          2   85.0  124.0   \n",
       "2018-01-03 03:00:00          66      1    3     3          2   71.0   85.0   \n",
       "2018-01-03 04:00:00          43      1    3     4          2   66.0   71.0   \n",
       "\n",
       "                     lag_3  lag_4  lag_5  ...  lag_16  lag_17  lag_18  lag_19  \\\n",
       "datetime                                  ...                                   \n",
       "2018-01-03 00:00:00    NaN    NaN    NaN  ...     NaN     NaN     NaN     NaN   \n",
       "2018-01-03 01:00:00    NaN    NaN    NaN  ...     NaN     NaN     NaN     NaN   \n",
       "2018-01-03 02:00:00    NaN    NaN    NaN  ...     NaN     NaN     NaN     NaN   \n",
       "2018-01-03 03:00:00  124.0    NaN    NaN  ...     NaN     NaN     NaN     NaN   \n",
       "2018-01-03 04:00:00   85.0  124.0    NaN  ...     NaN     NaN     NaN     NaN   \n",
       "\n",
       "                     lag_20  lag_21  lag_22  lag_23  lag_24  rolling_mean  \n",
       "datetime                                                                   \n",
       "2018-01-03 00:00:00     NaN     NaN     NaN     NaN     NaN           NaN  \n",
       "2018-01-03 01:00:00     NaN     NaN     NaN     NaN     NaN           NaN  \n",
       "2018-01-03 02:00:00     NaN     NaN     NaN     NaN     NaN           NaN  \n",
       "2018-01-03 03:00:00     NaN     NaN     NaN     NaN     NaN           NaN  \n",
       "2018-01-03 04:00:00     NaN     NaN     NaN     NaN     NaN          86.5  \n",
       "\n",
       "[5 rows x 30 columns]"
      ]
     },
     "execution_count": 39,
     "metadata": {},
     "output_type": "execute_result"
    }
   ],
   "source": [
    "df.head()"
   ]
  },
  {
   "cell_type": "code",
   "execution_count": 40,
   "metadata": {},
   "outputs": [
    {
     "data": {
      "text/plain": [
       "month           0.010504\n",
       "day             0.081964\n",
       "hour            0.001953\n",
       "dayofweek      -0.018099\n",
       "lag_1           0.842608\n",
       "lag_2           0.773479\n",
       "lag_3           0.706729\n",
       "lag_4           0.676033\n",
       "lag_5           0.664513\n",
       "lag_6           0.670337\n",
       "lag_7           0.684628\n",
       "lag_8           0.687885\n",
       "lag_9           0.666370\n",
       "lag_10          0.658193\n",
       "lag_11          0.672970\n",
       "lag_12          0.674090\n",
       "lag_13          0.666188\n",
       "lag_14          0.640865\n",
       "lag_15          0.626252\n",
       "lag_16          0.633265\n",
       "lag_17          0.624715\n",
       "lag_18          0.605516\n",
       "lag_19          0.599455\n",
       "lag_20          0.595316\n",
       "lag_21          0.607358\n",
       "lag_22          0.644244\n",
       "lag_23          0.688417\n",
       "lag_24          0.720026\n",
       "rolling_mean    0.814317\n",
       "dtype: float64"
      ]
     },
     "execution_count": 40,
     "metadata": {},
     "output_type": "execute_result"
    }
   ],
   "source": [
    "# Checking target-features correlations\n",
    "df.drop('num_orders', axis=1).apply(lambda feature: feature.corr(taxi_oreders['num_orders']))"
   ]
  },
  {
   "cell_type": "code",
   "execution_count": 41,
   "metadata": {},
   "outputs": [],
   "source": [
    "# Splitting the new df to train and test sets\n",
    "train, test = train_test_split(df, shuffle=False, test_size=0.1)\n",
    "train = train.dropna()\n",
    "train_target = train['num_orders']\n",
    "train_features = train.drop('num_orders', axis=1)\n",
    "test_target = test['num_orders']\n",
    "test_features = test.drop('num_orders', axis=1)"
   ]
  },
  {
   "cell_type": "markdown",
   "metadata": {},
   "source": [
    "#### Linear regression"
   ]
  },
  {
   "cell_type": "code",
   "execution_count": 42,
   "metadata": {},
   "outputs": [
    {
     "name": "stdout",
     "output_type": "stream",
     "text": [
      "Logistic regression\n",
      "MAE for the training set: 15.867901810007856\n",
      "RMSE: 25.845659377593734\n"
     ]
    }
   ],
   "source": [
    "# Linear regression\n",
    "lr = LinearRegression()\n",
    "lr.fit(train_features, train_target)\n",
    "train_predictions = lr.predict(train_features)\n",
    "\n",
    "print('Logistic regression')\n",
    "print(\"MAE for the training set:\", mean_absolute_error(train_target, train_predictions))\n",
    "print('RMSE:', math.sqrt(mean_squared_error(train_target, train_predictions)))"
   ]
  },
  {
   "cell_type": "markdown",
   "metadata": {},
   "source": [
    "#### Random forest"
   ]
  },
  {
   "cell_type": "code",
   "execution_count": 43,
   "metadata": {},
   "outputs": [
    {
     "name": "stdout",
     "output_type": "stream",
     "text": [
      "686.1215231058037 {'max_depth': 15, 'min_samples_split': 3, 'n_estimators': 50}\n"
     ]
    }
   ],
   "source": [
    "# Runing GridSearchCV for hyperparameters optimization\n",
    "model = RandomForestRegressor(random_state=12345)\n",
    "tss = TimeSeriesSplit(n_splits=5)\n",
    "# Let's optimize the model by finding the best hyperparameters\n",
    "params = {'max_depth': range(5, 25, 5), 'min_samples_split' : range(3, 15, 3), 'n_estimators': range(10, 70, 20)}\n",
    "\n",
    "rfr = GridSearchCV(model,  param_grid=params, cv=tss, scoring = 'neg_mean_squared_error')\n",
    "rfr.fit(train_features, train_target)\n",
    "\n",
    "#cv_model_evaluation(rfr)\n",
    "print(abs(rfr.best_score_), rfr.best_params_)"
   ]
  },
  {
   "cell_type": "code",
   "execution_count": 44,
   "metadata": {},
   "outputs": [
    {
     "name": "stdout",
     "output_type": "stream",
     "text": [
      "RandomForest\n",
      "MAE for the training set: 5.407031236156448\n",
      "RMSE: 10.409043522495653\n"
     ]
    }
   ],
   "source": [
    "# Training the model with optimized hyperparameters\n",
    "rfr = RandomForestRegressor(max_depth= 15, min_samples_split= 6, n_estimators= 50, random_state=12345)\n",
    "rfr.fit(train_features, train_target)\n",
    "train_predictions = rfr.predict(train_features)\n",
    "\n",
    "print('RandomForest')\n",
    "print(\"MAE for the training set:\", mean_absolute_error(train_target, train_predictions))\n",
    "print('RMSE:', math.sqrt(mean_squared_error(train_target, train_predictions)))"
   ]
  },
  {
   "cell_type": "markdown",
   "metadata": {},
   "source": [
    "#### Cat Boost regressor "
   ]
  },
  {
   "cell_type": "code",
   "execution_count": 45,
   "metadata": {},
   "outputs": [
    {
     "name": "stdout",
     "output_type": "stream",
     "text": [
      "0:\tlearn: 52.0157046\ttotal: 141ms\tremaining: 4.09s\n",
      "20:\tlearn: 30.1434735\ttotal: 235ms\tremaining: 101ms\n",
      "29:\tlearn: 26.6804374\ttotal: 277ms\tremaining: 0us\n",
      "1101.624798513777 {'depth': 6, 'iterations': 30, 'learning_rate': 0.05}\n"
     ]
    }
   ],
   "source": [
    "# Runing GridSearchCV for hyperparameters optimization\n",
    "model = CatBoostRegressor(loss_function=\"RMSE\", iterations=20, random_seed=12345, verbose=20) \n",
    "tss = TimeSeriesSplit(n_splits=5)\n",
    "params = {'depth': range(4, 10, 2), 'learning_rate': np.arange(.05, .1, .1), 'iterations': range(10, 40, 10)}\n",
    "\n",
    "cbr = GridSearchCV(model, param_grid=params, cv=tss, n_jobs=-1, scoring='neg_mean_squared_error')\n",
    "cbr.fit(train_features, train_target)\n",
    "\n",
    "#cv_model_evaluation(cbr)\n",
    "print(abs(cbr.best_score_), cbr.best_params_)"
   ]
  },
  {
   "cell_type": "code",
   "execution_count": 46,
   "metadata": {},
   "outputs": [
    {
     "name": "stdout",
     "output_type": "stream",
     "text": [
      "0:\tlearn: 52.0157046\ttotal: 4.28ms\tremaining: 124ms\n",
      "10:\tlearn: 37.7783402\ttotal: 50.3ms\tremaining: 86.8ms\n",
      "20:\tlearn: 30.1434735\ttotal: 96.4ms\tremaining: 41.3ms\n",
      "29:\tlearn: 26.6804374\ttotal: 137ms\tremaining: 0us\n",
      "CatBoost regressor\n",
      "MAE for the training set: 18.75227535554261\n",
      "RMSE: 26.680437401223696\n"
     ]
    }
   ],
   "source": [
    "# Training the model with optimized hyperparameters\n",
    "cbr = CatBoostRegressor(depth=6, iterations=30, learning_rate=0.05 ,random_seed=12345, verbose=10)\n",
    "cbr.fit(train_features, train_target) \n",
    "train_predictions = cbr.predict(train_features)\n",
    "\n",
    "print('CatBoost regressor')\n",
    "print(\"MAE for the training set:\", mean_absolute_error(train_target, train_predictions))\n",
    "print('RMSE:', math.sqrt(mean_squared_error(train_target, train_predictions)))"
   ]
  },
  {
   "cell_type": "markdown",
   "metadata": {},
   "source": [
    "#### Light GBM Regressor"
   ]
  },
  {
   "cell_type": "code",
   "execution_count": 47,
   "metadata": {},
   "outputs": [
    {
     "name": "stdout",
     "output_type": "stream",
     "text": [
      "LGBMRegressorr\n",
      "MAE for the training set: 31.6094262295082\n",
      "RMSE: 52.23969425386891\n"
     ]
    }
   ],
   "source": [
    "# LGBMRegressor\n",
    "lgbm = LGBMClassifier(random_state=12345) \n",
    "lgbm.fit(train_features, train_target) \n",
    "train_predictions = lgbm.predict(train_features)\n",
    "\n",
    "print('LGBMRegressorr')\n",
    "print(\"MAE for the training set:\", mean_absolute_error(train_target, train_predictions))\n",
    "print('RMSE:', math.sqrt(mean_squared_error(train_target, train_predictions)))"
   ]
  },
  {
   "cell_type": "markdown",
   "metadata": {},
   "source": [
    "## Testing"
   ]
  },
  {
   "cell_type": "code",
   "execution_count": 48,
   "metadata": {},
   "outputs": [
    {
     "name": "stdout",
     "output_type": "stream",
     "text": [
      "MAE on test:  9.371455335682358\n",
      "RMSE on test: 18.220413780948242\n"
     ]
    }
   ],
   "source": [
    "# Linear Regression\n",
    "test_predictions = lr.predict(test_features)\n",
    "\n",
    "print(\"MAE on test: \", mean_absolute_error(test_target, test_predictions))\n",
    "print('RMSE on test:', math.sqrt(mean_squared_error(test_target, test_predictions)))"
   ]
  },
  {
   "cell_type": "code",
   "execution_count": 49,
   "metadata": {},
   "outputs": [
    {
     "name": "stdout",
     "output_type": "stream",
     "text": [
      "MAE on test:  5.654770242757465\n",
      "RMSE on test: 14.354350927260619\n"
     ]
    }
   ],
   "source": [
    "# Random Forest\n",
    "test_predictions = rfr.predict(test_features)\n",
    "\n",
    "print(\"MAE on test: \", mean_absolute_error(test_target, test_predictions))\n",
    "print('RMSE on test:', math.sqrt(mean_squared_error(test_target, test_predictions)))"
   ]
  },
  {
   "cell_type": "code",
   "execution_count": 50,
   "metadata": {},
   "outputs": [
    {
     "name": "stdout",
     "output_type": "stream",
     "text": [
      "MAE on test:  14.811616956656522\n",
      "RMSE on test: 20.361221298203844\n"
     ]
    }
   ],
   "source": [
    "# CatBoost\n",
    "test_predictions = cbr.predict(test_features) \n",
    "\n",
    "print(\"MAE on test: \", mean_absolute_error(test_target, test_predictions))\n",
    "print('RMSE on test:', math.sqrt(mean_squared_error(test_target, test_predictions)))"
   ]
  },
  {
   "cell_type": "code",
   "execution_count": 51,
   "metadata": {},
   "outputs": [
    {
     "name": "stdout",
     "output_type": "stream",
     "text": [
      "MAE on test:  17.207107843137255\n",
      "RMSE on test: 38.16744262418676\n"
     ]
    }
   ],
   "source": [
    "# LGBMRegressor\n",
    "test_predictions = lgbm.predict(test_features) \n",
    "\n",
    "print(\"MAE on test: \", mean_absolute_error(test_target, test_predictions))\n",
    "print('RMSE on test:', math.sqrt(mean_squared_error(test_target, test_predictions)))"
   ]
  },
  {
   "cell_type": "code",
   "execution_count": 52,
   "metadata": {},
   "outputs": [
    {
     "data": {
      "image/png": "[encoded data removed]",
      "text/plain": [
       "<Figure size 864x576 with 1 Axes>"
      ]
     },
     "metadata": {
      "needs_background": "light"
     },
     "output_type": "display_data"
    }
   ],
   "source": [
    "fig = plt.figure(figsize=(12, 8))\n",
    "ax1 = fig.add_subplot(111)\n",
    "ax1.plot(test)\n",
    "plt.title('Taxi Orders Distribution');"
   ]
  },
  {
   "cell_type": "markdown",
   "metadata": {},
   "source": [
    "**Summary:**\n",
    "\n",
    "We receicved data of 6 months taxi orders in a 10 minutes resolution. our goal was to build a model that can predict future orders, the prediction horizon = 1 hour.\n",
    "\n",
    "**Analysis**\n",
    "Using decomposition method, we analysed the data in few different resolutions (hour, day) and different time frames. We found seasonality in the number of orders during the hours of the day.\n",
    "We didn't find seasonality in number of orders during weeks days.\n",
    "\n",
    "We also found a trend of increasing orders over all the period. \n",
    "\n",
    "**Training**\n",
    "We created new features: calendar: Month, Day, Day of week, Hour; lag and rolling mean. We tried few sets of max lags and rolling mean.\n",
    "\n",
    "For sanity check we trained two constant models: median and previous value. the second one provided better results (RMSE 58.85 on train data).\n",
    "\n",
    "Then we traind 4 different models. for 2 of them we performed hyperparameters tuning using GridSearchCV\n",
    "\n",
    "Finaly, we tested all the models performance on test data.\n",
    "\n",
    "Models results:\n",
    "\n",
    "**Linear regression:** train RMSE:30.47         test RMSE:53.05\n",
    "\n",
    "**RandomFores:**       train RMSE:14.00         test RMSE:45.89\n",
    "\n",
    "**CatBoost:**          train RMSE:25.44         test RMSE:61.71\n",
    "\n",
    "**LGBMRegressor:**     train RMSE:40.62         test RMSE:80.49\n",
    "\n",
    "Random forest model produced the best predictions. RMSE = 45.90   \n",
    "Yet, we had high overfitting.\n",
    "(LGBMR was the worst, but it also wasn't tuned...)"
   ]
  },
  {
   "cell_type": "code",
   "execution_count": null,
   "metadata": {},
   "outputs": [],
   "source": []
  }
 ],
 "metadata": {
  "ExecuteTimeLog": [
   {
    "duration": 323,
    "start_time": "2021-12-19T12:17:20.274Z"
   },
   {
    "duration": 1341,
    "start_time": "2021-12-19T12:19:26.914Z"
   },
   {
    "duration": 40,
    "start_time": "2021-12-19T12:19:29.339Z"
   },
   {
    "duration": 45,
    "start_time": "2021-12-19T12:20:20.920Z"
   },
   {
    "duration": 22,
    "start_time": "2021-12-19T12:20:33.161Z"
   },
   {
    "duration": 4,
    "start_time": "2021-12-19T12:21:43.051Z"
   },
   {
    "duration": 11,
    "start_time": "2021-12-19T12:21:44.323Z"
   },
   {
    "duration": 409,
    "start_time": "2021-12-19T12:22:21.305Z"
   },
   {
    "duration": 14,
    "start_time": "2021-12-19T12:22:33.203Z"
   },
   {
    "duration": 12,
    "start_time": "2021-12-19T12:22:44.016Z"
   },
   {
    "duration": 9,
    "start_time": "2021-12-19T12:22:57.722Z"
   },
   {
    "duration": 3,
    "start_time": "2021-12-19T12:23:35.149Z"
   },
   {
    "duration": 130,
    "start_time": "2021-12-19T12:32:33.703Z"
   },
   {
    "duration": 9,
    "start_time": "2021-12-19T12:33:25.438Z"
   },
   {
    "duration": 5,
    "start_time": "2021-12-19T12:34:36.712Z"
   },
   {
    "duration": 37,
    "start_time": "2021-12-19T12:34:36.720Z"
   },
   {
    "duration": 8,
    "start_time": "2021-12-19T12:34:36.760Z"
   },
   {
    "duration": 43,
    "start_time": "2021-12-19T12:35:04.144Z"
   },
   {
    "duration": 8,
    "start_time": "2021-12-19T12:35:05.828Z"
   },
   {
    "duration": 3,
    "start_time": "2021-12-19T12:35:09.569Z"
   },
   {
    "duration": 12,
    "start_time": "2021-12-19T12:35:11.921Z"
   },
   {
    "duration": 9,
    "start_time": "2021-12-19T12:35:13.660Z"
   },
   {
    "duration": 452,
    "start_time": "2021-12-19T12:38:57.590Z"
   },
   {
    "duration": 491,
    "start_time": "2021-12-19T12:45:21.642Z"
   },
   {
    "duration": 491,
    "start_time": "2021-12-19T12:45:38.874Z"
   },
   {
    "duration": 432,
    "start_time": "2021-12-19T12:47:08.268Z"
   },
   {
    "duration": 9,
    "start_time": "2021-12-19T12:47:36.056Z"
   },
   {
    "duration": 336,
    "start_time": "2021-12-19T12:47:36.977Z"
   },
   {
    "duration": 8,
    "start_time": "2021-12-19T12:49:37.234Z"
   },
   {
    "duration": 339,
    "start_time": "2021-12-19T12:49:38.948Z"
   },
   {
    "duration": 285,
    "start_time": "2021-12-19T12:50:52.066Z"
   },
   {
    "duration": 10,
    "start_time": "2021-12-19T12:51:31.067Z"
   },
   {
    "duration": 7,
    "start_time": "2021-12-19T14:03:11.039Z"
   },
   {
    "duration": 343,
    "start_time": "2021-12-19T14:03:12.480Z"
   },
   {
    "duration": 275,
    "start_time": "2021-12-19T20:26:09.594Z"
   },
   {
    "duration": 1563,
    "start_time": "2021-12-19T20:26:15.334Z"
   },
   {
    "duration": 85,
    "start_time": "2021-12-19T20:26:16.899Z"
   },
   {
    "duration": 8,
    "start_time": "2021-12-19T20:26:16.986Z"
   },
   {
    "duration": 2,
    "start_time": "2021-12-19T20:26:16.996Z"
   },
   {
    "duration": 28,
    "start_time": "2021-12-19T20:26:17.000Z"
   },
   {
    "duration": 9,
    "start_time": "2021-12-19T20:26:17.029Z"
   },
   {
    "duration": 445,
    "start_time": "2021-12-19T20:26:17.040Z"
   },
   {
    "duration": 10,
    "start_time": "2021-12-19T20:26:17.487Z"
   },
   {
    "duration": 237,
    "start_time": "2021-12-19T20:26:17.500Z"
   },
   {
    "duration": 362,
    "start_time": "2021-12-19T20:26:17.739Z"
   },
   {
    "duration": 221,
    "start_time": "2021-12-19T20:27:49.843Z"
   },
   {
    "duration": 384,
    "start_time": "2021-12-19T20:28:04.061Z"
   },
   {
    "duration": 413,
    "start_time": "2021-12-19T20:29:08.462Z"
   },
   {
    "duration": 328,
    "start_time": "2021-12-19T20:30:41.826Z"
   },
   {
    "duration": 291,
    "start_time": "2021-12-19T20:33:18.472Z"
   },
   {
    "duration": 321,
    "start_time": "2021-12-19T20:34:51.501Z"
   },
   {
    "duration": 232,
    "start_time": "2021-12-19T20:35:18.598Z"
   },
   {
    "duration": 345,
    "start_time": "2021-12-19T20:51:31.036Z"
   },
   {
    "duration": 242,
    "start_time": "2021-12-19T20:53:32.360Z"
   },
   {
    "duration": 11,
    "start_time": "2021-12-19T20:56:45.322Z"
   },
   {
    "duration": 8488,
    "start_time": "2021-12-19T20:57:56.080Z"
   },
   {
    "duration": 233,
    "start_time": "2021-12-19T20:58:16.159Z"
   },
   {
    "duration": 1135,
    "start_time": "2021-12-20T09:38:57.957Z"
   },
   {
    "duration": 39,
    "start_time": "2021-12-20T09:38:59.094Z"
   },
   {
    "duration": 5,
    "start_time": "2021-12-20T09:38:59.135Z"
   },
   {
    "duration": 16,
    "start_time": "2021-12-20T09:38:59.142Z"
   },
   {
    "duration": 21,
    "start_time": "2021-12-20T09:38:59.160Z"
   },
   {
    "duration": 17,
    "start_time": "2021-12-20T09:38:59.183Z"
   },
   {
    "duration": 264,
    "start_time": "2021-12-20T09:38:59.202Z"
   },
   {
    "duration": 7,
    "start_time": "2021-12-20T09:38:59.468Z"
   },
   {
    "duration": 232,
    "start_time": "2021-12-20T09:38:59.477Z"
   },
   {
    "duration": 229,
    "start_time": "2021-12-20T09:38:59.712Z"
   },
   {
    "duration": 232,
    "start_time": "2021-12-20T09:38:59.943Z"
   },
   {
    "duration": 236,
    "start_time": "2021-12-20T09:39:00.176Z"
   },
   {
    "duration": 9,
    "start_time": "2021-12-20T09:39:00.414Z"
   },
   {
    "duration": 355,
    "start_time": "2021-12-20T09:39:00.425Z"
   },
   {
    "duration": 80,
    "start_time": "2021-12-20T09:39:00.702Z"
   },
   {
    "duration": 268,
    "start_time": "2021-12-20T09:51:04.297Z"
   },
   {
    "duration": 4,
    "start_time": "2021-12-20T09:51:11.255Z"
   },
   {
    "duration": 3,
    "start_time": "2021-12-20T10:02:46.793Z"
   },
   {
    "duration": 39,
    "start_time": "2021-12-20T10:02:46.798Z"
   },
   {
    "duration": 5,
    "start_time": "2021-12-20T10:02:46.839Z"
   },
   {
    "duration": 5,
    "start_time": "2021-12-20T10:02:46.845Z"
   },
   {
    "duration": 4,
    "start_time": "2021-12-20T10:02:46.852Z"
   },
   {
    "duration": 67,
    "start_time": "2021-12-20T10:02:46.857Z"
   },
   {
    "duration": 6,
    "start_time": "2021-12-20T10:02:46.925Z"
   },
   {
    "duration": 259,
    "start_time": "2021-12-20T10:02:46.932Z"
   },
   {
    "duration": 7,
    "start_time": "2021-12-20T10:02:47.193Z"
   },
   {
    "duration": 207,
    "start_time": "2021-12-20T10:02:47.201Z"
   },
   {
    "duration": 228,
    "start_time": "2021-12-20T10:02:47.410Z"
   },
   {
    "duration": 222,
    "start_time": "2021-12-20T10:02:47.639Z"
   },
   {
    "duration": 223,
    "start_time": "2021-12-20T10:02:47.862Z"
   },
   {
    "duration": 11,
    "start_time": "2021-12-20T10:02:48.086Z"
   },
   {
    "duration": 353,
    "start_time": "2021-12-20T10:02:48.099Z"
   },
   {
    "duration": -903,
    "start_time": "2021-12-20T10:02:49.356Z"
   },
   {
    "duration": 7,
    "start_time": "2021-12-20T10:10:50.550Z"
   },
   {
    "duration": 4,
    "start_time": "2021-12-20T10:11:01.477Z"
   },
   {
    "duration": 70,
    "start_time": "2021-12-20T10:11:01.482Z"
   },
   {
    "duration": 12,
    "start_time": "2021-12-20T10:11:01.554Z"
   },
   {
    "duration": 19,
    "start_time": "2021-12-20T10:11:01.568Z"
   },
   {
    "duration": 28,
    "start_time": "2021-12-20T10:11:01.589Z"
   },
   {
    "duration": 9,
    "start_time": "2021-12-20T10:12:55.018Z"
   },
   {
    "duration": 6,
    "start_time": "2021-12-20T10:12:55.838Z"
   },
   {
    "duration": 254,
    "start_time": "2021-12-20T10:16:53.863Z"
   },
   {
    "duration": 254,
    "start_time": "2021-12-20T10:16:58.598Z"
   },
   {
    "duration": 7,
    "start_time": "2021-12-20T10:17:02.095Z"
   },
   {
    "duration": 195,
    "start_time": "2021-12-20T10:17:04.533Z"
   },
   {
    "duration": 316,
    "start_time": "2021-12-20T10:19:23.087Z"
   },
   {
    "duration": 227,
    "start_time": "2021-12-20T10:22:15.840Z"
   },
   {
    "duration": 74,
    "start_time": "2021-12-20T10:33:12.738Z"
   },
   {
    "duration": 280,
    "start_time": "2021-12-20T10:41:16.793Z"
   },
   {
    "duration": 251,
    "start_time": "2021-12-20T10:55:42.912Z"
   },
   {
    "duration": 3,
    "start_time": "2021-12-20T10:56:01.589Z"
   },
   {
    "duration": 66,
    "start_time": "2021-12-20T10:56:01.594Z"
   },
   {
    "duration": 5,
    "start_time": "2021-12-20T10:56:01.662Z"
   },
   {
    "duration": 12,
    "start_time": "2021-12-20T10:56:01.669Z"
   },
   {
    "duration": 14,
    "start_time": "2021-12-20T10:56:01.682Z"
   },
   {
    "duration": 12,
    "start_time": "2021-12-20T10:56:01.697Z"
   },
   {
    "duration": 16,
    "start_time": "2021-12-20T10:56:01.710Z"
   },
   {
    "duration": 261,
    "start_time": "2021-12-20T10:56:01.728Z"
   },
   {
    "duration": 299,
    "start_time": "2021-12-20T10:56:01.991Z"
   },
   {
    "duration": 187,
    "start_time": "2021-12-20T10:57:01.211Z"
   },
   {
    "duration": 189,
    "start_time": "2021-12-20T10:57:18.995Z"
   },
   {
    "duration": 270,
    "start_time": "2021-12-20T10:57:39.650Z"
   },
   {
    "duration": 214,
    "start_time": "2021-12-20T11:04:35.478Z"
   },
   {
    "duration": 283,
    "start_time": "2021-12-20T11:05:46.105Z"
   },
   {
    "duration": 221,
    "start_time": "2021-12-20T11:05:49.381Z"
   },
   {
    "duration": 205,
    "start_time": "2021-12-20T11:05:52.798Z"
   },
   {
    "duration": 230,
    "start_time": "2021-12-20T11:07:02.117Z"
   },
   {
    "duration": 217,
    "start_time": "2021-12-20T11:07:19.116Z"
   },
   {
    "duration": 203,
    "start_time": "2021-12-20T11:08:28.670Z"
   },
   {
    "duration": 206,
    "start_time": "2021-12-20T11:16:53.021Z"
   },
   {
    "duration": 82,
    "start_time": "2021-12-20T12:04:04.942Z"
   },
   {
    "duration": 280,
    "start_time": "2021-12-20T12:04:15.569Z"
   },
   {
    "duration": 206,
    "start_time": "2021-12-20T12:05:43.294Z"
   },
   {
    "duration": 212,
    "start_time": "2021-12-20T12:06:08.333Z"
   },
   {
    "duration": 190,
    "start_time": "2021-12-20T12:06:30.644Z"
   },
   {
    "duration": 220,
    "start_time": "2021-12-20T12:07:28.726Z"
   },
   {
    "duration": 206,
    "start_time": "2021-12-20T12:08:08.717Z"
   },
   {
    "duration": 209,
    "start_time": "2021-12-20T12:09:26.834Z"
   },
   {
    "duration": 198,
    "start_time": "2021-12-20T12:09:36.173Z"
   },
   {
    "duration": 202,
    "start_time": "2021-12-20T12:09:44.157Z"
   },
   {
    "duration": 216,
    "start_time": "2021-12-20T12:09:54.375Z"
   },
   {
    "duration": 203,
    "start_time": "2021-12-20T12:15:38.217Z"
   },
   {
    "duration": 224,
    "start_time": "2021-12-20T12:56:48.974Z"
   },
   {
    "duration": 253,
    "start_time": "2021-12-20T12:58:04.348Z"
   },
   {
    "duration": 850,
    "start_time": "2021-12-20T13:08:25.550Z"
   },
   {
    "duration": 874,
    "start_time": "2021-12-20T13:08:51.080Z"
   },
   {
    "duration": 871,
    "start_time": "2021-12-20T13:09:32.016Z"
   },
   {
    "duration": 88,
    "start_time": "2021-12-20T13:16:03.029Z"
   },
   {
    "duration": 223,
    "start_time": "2021-12-20T13:16:33.617Z"
   },
   {
    "duration": 283,
    "start_time": "2021-12-20T13:16:42.473Z"
   },
   {
    "duration": 186,
    "start_time": "2021-12-20T13:16:50.259Z"
   },
   {
    "duration": 186,
    "start_time": "2021-12-20T13:16:57.929Z"
   },
   {
    "duration": 189,
    "start_time": "2021-12-20T13:17:08.769Z"
   },
   {
    "duration": 204,
    "start_time": "2021-12-20T13:17:20.984Z"
   },
   {
    "duration": 211,
    "start_time": "2021-12-20T13:17:28.440Z"
   },
   {
    "duration": 11,
    "start_time": "2021-12-20T13:20:35.385Z"
   },
   {
    "duration": 251,
    "start_time": "2021-12-20T13:20:55.957Z"
   },
   {
    "duration": 10,
    "start_time": "2021-12-20T13:21:35.395Z"
   },
   {
    "duration": 5,
    "start_time": "2021-12-20T13:21:49.763Z"
   },
   {
    "duration": 179,
    "start_time": "2021-12-20T13:22:49.642Z"
   },
   {
    "duration": 11,
    "start_time": "2021-12-20T13:24:04.242Z"
   },
   {
    "duration": 248,
    "start_time": "2021-12-20T13:24:07.507Z"
   },
   {
    "duration": 11,
    "start_time": "2021-12-20T13:26:28.162Z"
   },
   {
    "duration": 252,
    "start_time": "2021-12-20T13:27:07.963Z"
   },
   {
    "duration": 9,
    "start_time": "2021-12-20T13:30:57.291Z"
   },
   {
    "duration": 177,
    "start_time": "2021-12-20T13:31:37.518Z"
   },
   {
    "duration": 180,
    "start_time": "2021-12-20T13:32:16.033Z"
   },
   {
    "duration": 197,
    "start_time": "2021-12-20T13:32:53.509Z"
   },
   {
    "duration": 184,
    "start_time": "2021-12-20T13:35:15.860Z"
   },
   {
    "duration": 188,
    "start_time": "2021-12-20T13:36:21.159Z"
   },
   {
    "duration": 206,
    "start_time": "2021-12-20T13:38:44.991Z"
   },
   {
    "duration": 175,
    "start_time": "2021-12-20T13:39:40.166Z"
   },
   {
    "duration": 6,
    "start_time": "2021-12-20T13:40:48.806Z"
   },
   {
    "duration": 307,
    "start_time": "2021-12-20T13:41:04.449Z"
   },
   {
    "duration": 265,
    "start_time": "2021-12-20T13:52:23.884Z"
   },
   {
    "duration": 1516,
    "start_time": "2021-12-20T13:54:12.992Z"
   },
   {
    "duration": 6901,
    "start_time": "2021-12-20T13:54:30.485Z"
   },
   {
    "duration": 6,
    "start_time": "2021-12-20T13:54:59.717Z"
   },
   {
    "duration": 10,
    "start_time": "2021-12-20T13:55:08.251Z"
   },
   {
    "duration": 301,
    "start_time": "2021-12-20T14:35:24.971Z"
   },
   {
    "duration": 7,
    "start_time": "2021-12-20T14:37:19.565Z"
   },
   {
    "duration": 12,
    "start_time": "2021-12-20T14:37:23.040Z"
   },
   {
    "duration": 5,
    "start_time": "2021-12-20T14:39:21.178Z"
   },
   {
    "duration": 6,
    "start_time": "2021-12-20T14:39:22.329Z"
   },
   {
    "duration": 4,
    "start_time": "2021-12-20T14:39:51.206Z"
   },
   {
    "duration": 91,
    "start_time": "2021-12-20T14:39:51.212Z"
   },
   {
    "duration": 6,
    "start_time": "2021-12-20T14:39:51.305Z"
   },
   {
    "duration": 5,
    "start_time": "2021-12-20T14:39:51.314Z"
   },
   {
    "duration": 8,
    "start_time": "2021-12-20T14:39:51.320Z"
   },
   {
    "duration": 11,
    "start_time": "2021-12-20T14:39:51.330Z"
   },
   {
    "duration": 19,
    "start_time": "2021-12-20T14:39:51.343Z"
   },
   {
    "duration": 299,
    "start_time": "2021-12-20T14:39:51.364Z"
   },
   {
    "duration": 8,
    "start_time": "2021-12-20T14:39:51.667Z"
   },
   {
    "duration": 1052,
    "start_time": "2021-12-20T14:39:51.677Z"
   },
   {
    "duration": 245,
    "start_time": "2021-12-20T14:39:52.731Z"
   },
   {
    "duration": 206,
    "start_time": "2021-12-20T14:39:52.978Z"
   },
   {
    "duration": 206,
    "start_time": "2021-12-20T14:39:53.186Z"
   },
   {
    "duration": 204,
    "start_time": "2021-12-20T14:39:53.394Z"
   },
   {
    "duration": 233,
    "start_time": "2021-12-20T14:39:53.600Z"
   },
   {
    "duration": 227,
    "start_time": "2021-12-20T14:39:53.834Z"
   },
   {
    "duration": 236,
    "start_time": "2021-12-20T14:39:54.062Z"
   },
   {
    "duration": 11,
    "start_time": "2021-12-20T14:39:54.299Z"
   },
   {
    "duration": 316,
    "start_time": "2021-12-20T14:39:54.312Z"
   },
   {
    "duration": 250,
    "start_time": "2021-12-20T14:39:54.630Z"
   },
   {
    "duration": 9,
    "start_time": "2021-12-20T14:39:54.881Z"
   },
   {
    "duration": 271,
    "start_time": "2021-12-20T14:39:54.892Z"
   },
   {
    "duration": 4,
    "start_time": "2021-12-20T14:39:55.165Z"
   },
   {
    "duration": 11,
    "start_time": "2021-12-20T14:39:55.171Z"
   },
   {
    "duration": 5,
    "start_time": "2021-12-20T14:40:24.561Z"
   },
   {
    "duration": 8,
    "start_time": "2021-12-20T14:40:25.571Z"
   },
   {
    "duration": 4,
    "start_time": "2021-12-20T14:40:50.980Z"
   },
   {
    "duration": 73,
    "start_time": "2021-12-20T14:40:50.986Z"
   },
   {
    "duration": 6,
    "start_time": "2021-12-20T14:40:51.061Z"
   },
   {
    "duration": 12,
    "start_time": "2021-12-20T14:40:51.069Z"
   },
   {
    "duration": 15,
    "start_time": "2021-12-20T14:40:51.082Z"
   },
   {
    "duration": 10,
    "start_time": "2021-12-20T14:40:51.099Z"
   },
   {
    "duration": 8,
    "start_time": "2021-12-20T14:40:51.111Z"
   },
   {
    "duration": 281,
    "start_time": "2021-12-20T14:40:51.121Z"
   },
   {
    "duration": 6,
    "start_time": "2021-12-20T14:40:51.404Z"
   },
   {
    "duration": 1105,
    "start_time": "2021-12-20T14:40:51.412Z"
   },
   {
    "duration": 250,
    "start_time": "2021-12-20T14:40:52.519Z"
   },
   {
    "duration": 209,
    "start_time": "2021-12-20T14:40:52.771Z"
   },
   {
    "duration": 205,
    "start_time": "2021-12-20T14:40:52.982Z"
   },
   {
    "duration": 224,
    "start_time": "2021-12-20T14:40:53.189Z"
   },
   {
    "duration": 194,
    "start_time": "2021-12-20T14:40:53.415Z"
   },
   {
    "duration": 221,
    "start_time": "2021-12-20T14:40:53.610Z"
   },
   {
    "duration": 227,
    "start_time": "2021-12-20T14:40:53.833Z"
   },
   {
    "duration": 11,
    "start_time": "2021-12-20T14:40:54.062Z"
   },
   {
    "duration": 318,
    "start_time": "2021-12-20T14:40:54.075Z"
   },
   {
    "duration": 337,
    "start_time": "2021-12-20T14:40:54.395Z"
   },
   {
    "duration": 8,
    "start_time": "2021-12-20T14:40:54.735Z"
   },
   {
    "duration": 385,
    "start_time": "2021-12-20T14:40:54.746Z"
   },
   {
    "duration": 4,
    "start_time": "2021-12-20T14:40:55.135Z"
   },
   {
    "duration": 23,
    "start_time": "2021-12-20T14:40:55.142Z"
   },
   {
    "duration": 8,
    "start_time": "2021-12-20T14:41:39.250Z"
   },
   {
    "duration": 7,
    "start_time": "2021-12-20T14:41:49.358Z"
   },
   {
    "duration": 46,
    "start_time": "2021-12-20T14:41:49.367Z"
   },
   {
    "duration": 7,
    "start_time": "2021-12-20T14:41:49.415Z"
   },
   {
    "duration": 5,
    "start_time": "2021-12-20T14:41:49.424Z"
   },
   {
    "duration": 7,
    "start_time": "2021-12-20T14:41:49.431Z"
   },
   {
    "duration": 29,
    "start_time": "2021-12-20T14:41:49.439Z"
   },
   {
    "duration": 6,
    "start_time": "2021-12-20T14:41:49.470Z"
   },
   {
    "duration": 7,
    "start_time": "2021-12-20T14:42:18.234Z"
   },
   {
    "duration": 9,
    "start_time": "2021-12-20T14:42:19.650Z"
   },
   {
    "duration": 293,
    "start_time": "2021-12-20T14:43:01.524Z"
   },
   {
    "duration": 6,
    "start_time": "2021-12-20T14:43:01.819Z"
   },
   {
    "duration": 1088,
    "start_time": "2021-12-20T14:43:01.827Z"
   },
   {
    "duration": 330,
    "start_time": "2021-12-20T14:43:02.917Z"
   },
   {
    "duration": 217,
    "start_time": "2021-12-20T14:43:03.249Z"
   },
   {
    "duration": 217,
    "start_time": "2021-12-20T14:43:03.467Z"
   },
   {
    "duration": 247,
    "start_time": "2021-12-20T14:43:03.686Z"
   },
   {
    "duration": 208,
    "start_time": "2021-12-20T14:43:03.937Z"
   },
   {
    "duration": 227,
    "start_time": "2021-12-20T14:43:04.147Z"
   },
   {
    "duration": 232,
    "start_time": "2021-12-20T14:43:04.376Z"
   },
   {
    "duration": 10,
    "start_time": "2021-12-20T14:43:04.610Z"
   },
   {
    "duration": 320,
    "start_time": "2021-12-20T14:43:04.622Z"
   },
   {
    "duration": 291,
    "start_time": "2021-12-20T14:43:04.944Z"
   },
   {
    "duration": 8,
    "start_time": "2021-12-20T14:43:05.237Z"
   },
   {
    "duration": 274,
    "start_time": "2021-12-20T14:43:05.248Z"
   },
   {
    "duration": 5,
    "start_time": "2021-12-20T14:43:05.524Z"
   },
   {
    "duration": 9,
    "start_time": "2021-12-20T14:43:05.531Z"
   },
   {
    "duration": 23,
    "start_time": "2021-12-20T14:43:05.542Z"
   },
   {
    "duration": 6,
    "start_time": "2021-12-20T14:44:43.600Z"
   },
   {
    "duration": 1893,
    "start_time": "2021-12-20T14:45:24.708Z"
   },
   {
    "duration": 8521,
    "start_time": "2021-12-20T14:46:11.853Z"
   },
   {
    "duration": 303,
    "start_time": "2021-12-20T14:46:59.300Z"
   },
   {
    "duration": 1199,
    "start_time": "2021-12-20T14:56:30.103Z"
   },
   {
    "duration": 8,
    "start_time": "2021-12-20T14:57:34.504Z"
   },
   {
    "duration": 3,
    "start_time": "2021-12-20T14:57:46.559Z"
   },
   {
    "duration": 40,
    "start_time": "2021-12-20T14:57:46.564Z"
   },
   {
    "duration": 6,
    "start_time": "2021-12-20T14:57:46.607Z"
   },
   {
    "duration": 8,
    "start_time": "2021-12-20T14:57:46.615Z"
   },
   {
    "duration": 8,
    "start_time": "2021-12-20T14:57:46.624Z"
   },
   {
    "duration": 25,
    "start_time": "2021-12-20T14:57:46.634Z"
   },
   {
    "duration": 15,
    "start_time": "2021-12-20T14:57:46.661Z"
   },
   {
    "duration": 15,
    "start_time": "2021-12-20T14:57:46.678Z"
   },
   {
    "duration": 299,
    "start_time": "2021-12-20T14:57:46.696Z"
   },
   {
    "duration": 6,
    "start_time": "2021-12-20T14:57:46.997Z"
   },
   {
    "duration": 1019,
    "start_time": "2021-12-20T14:57:47.005Z"
   },
   {
    "duration": 268,
    "start_time": "2021-12-20T14:57:48.026Z"
   },
   {
    "duration": 233,
    "start_time": "2021-12-20T14:57:48.296Z"
   },
   {
    "duration": 210,
    "start_time": "2021-12-20T14:57:48.531Z"
   },
   {
    "duration": 217,
    "start_time": "2021-12-20T14:57:48.743Z"
   },
   {
    "duration": 211,
    "start_time": "2021-12-20T14:57:48.962Z"
   },
   {
    "duration": 218,
    "start_time": "2021-12-20T14:57:49.175Z"
   },
   {
    "duration": 236,
    "start_time": "2021-12-20T14:57:49.395Z"
   },
   {
    "duration": 10,
    "start_time": "2021-12-20T14:57:49.633Z"
   },
   {
    "duration": 212,
    "start_time": "2021-12-20T14:57:49.645Z"
   },
   {
    "duration": 192,
    "start_time": "2021-12-20T14:57:49.861Z"
   },
   {
    "duration": 10,
    "start_time": "2021-12-20T14:57:50.055Z"
   },
   {
    "duration": 319,
    "start_time": "2021-12-20T14:57:50.066Z"
   },
   {
    "duration": 8,
    "start_time": "2021-12-20T14:57:50.387Z"
   },
   {
    "duration": 6,
    "start_time": "2021-12-20T14:58:27.454Z"
   },
   {
    "duration": 244,
    "start_time": "2021-12-20T14:58:38.486Z"
   },
   {
    "duration": 7,
    "start_time": "2021-12-20T14:58:49.195Z"
   },
   {
    "duration": 270,
    "start_time": "2021-12-20T14:59:17.302Z"
   },
   {
    "duration": 7,
    "start_time": "2021-12-20T14:59:31.411Z"
   },
   {
    "duration": 6,
    "start_time": "2021-12-20T14:59:54.798Z"
   },
   {
    "duration": 10,
    "start_time": "2021-12-20T14:59:56.950Z"
   },
   {
    "duration": 7190,
    "start_time": "2021-12-20T15:00:52.279Z"
   },
   {
    "duration": 267,
    "start_time": "2021-12-20T15:02:09.873Z"
   },
   {
    "duration": 432,
    "start_time": "2021-12-20T15:03:00.528Z"
   },
   {
    "duration": 259,
    "start_time": "2021-12-20T15:03:12.743Z"
   },
   {
    "duration": 259,
    "start_time": "2021-12-20T15:14:11.655Z"
   },
   {
    "duration": 256,
    "start_time": "2021-12-20T15:14:28.554Z"
   },
   {
    "duration": 5,
    "start_time": "2021-12-20T15:34:18.808Z"
   },
   {
    "duration": 5,
    "start_time": "2021-12-20T15:35:06.777Z"
   },
   {
    "duration": 10,
    "start_time": "2021-12-20T15:40:05.735Z"
   },
   {
    "duration": 5,
    "start_time": "2021-12-20T15:40:11.254Z"
   },
   {
    "duration": 9,
    "start_time": "2021-12-20T15:42:39.513Z"
   },
   {
    "duration": 4,
    "start_time": "2021-12-20T15:42:43.546Z"
   },
   {
    "duration": 9087,
    "start_time": "2021-12-20T15:44:31.835Z"
   },
   {
    "duration": 6,
    "start_time": "2021-12-20T15:45:35.755Z"
   },
   {
    "duration": 6,
    "start_time": "2021-12-20T15:49:17.877Z"
   },
   {
    "duration": 6,
    "start_time": "2021-12-20T15:52:09.070Z"
   },
   {
    "duration": 11,
    "start_time": "2021-12-20T16:03:47.492Z"
   },
   {
    "duration": 9,
    "start_time": "2021-12-20T16:04:06.205Z"
   },
   {
    "duration": 2,
    "start_time": "2021-12-20T16:04:11.864Z"
   },
   {
    "duration": 2,
    "start_time": "2021-12-20T16:04:17.631Z"
   },
   {
    "duration": 4,
    "start_time": "2021-12-20T16:04:41.108Z"
   },
   {
    "duration": 9,
    "start_time": "2021-12-20T16:04:43.717Z"
   },
   {
    "duration": 6,
    "start_time": "2021-12-20T16:04:44.804Z"
   },
   {
    "duration": 3,
    "start_time": "2021-12-20T16:06:01.930Z"
   },
   {
    "duration": 49,
    "start_time": "2021-12-20T16:06:01.935Z"
   },
   {
    "duration": 6,
    "start_time": "2021-12-20T16:06:01.986Z"
   },
   {
    "duration": 13,
    "start_time": "2021-12-20T16:06:01.993Z"
   },
   {
    "duration": 17,
    "start_time": "2021-12-20T16:06:02.008Z"
   },
   {
    "duration": 28,
    "start_time": "2021-12-20T16:06:02.027Z"
   },
   {
    "duration": 8,
    "start_time": "2021-12-20T16:06:02.057Z"
   },
   {
    "duration": 31,
    "start_time": "2021-12-20T16:06:02.067Z"
   },
   {
    "duration": 286,
    "start_time": "2021-12-20T16:06:02.101Z"
   },
   {
    "duration": 7,
    "start_time": "2021-12-20T16:06:02.389Z"
   },
   {
    "duration": 1090,
    "start_time": "2021-12-20T16:06:02.397Z"
   },
   {
    "duration": 266,
    "start_time": "2021-12-20T16:06:03.489Z"
   },
   {
    "duration": 213,
    "start_time": "2021-12-20T16:06:03.760Z"
   },
   {
    "duration": 208,
    "start_time": "2021-12-20T16:06:03.974Z"
   },
   {
    "duration": 220,
    "start_time": "2021-12-20T16:06:04.184Z"
   },
   {
    "duration": 207,
    "start_time": "2021-12-20T16:06:04.406Z"
   },
   {
    "duration": 214,
    "start_time": "2021-12-20T16:06:04.615Z"
   },
   {
    "duration": 231,
    "start_time": "2021-12-20T16:06:04.831Z"
   },
   {
    "duration": 9,
    "start_time": "2021-12-20T16:06:05.064Z"
   },
   {
    "duration": 204,
    "start_time": "2021-12-20T16:06:05.075Z"
   },
   {
    "duration": 199,
    "start_time": "2021-12-20T16:06:05.280Z"
   },
   {
    "duration": 6,
    "start_time": "2021-12-20T16:06:05.481Z"
   },
   {
    "duration": 260,
    "start_time": "2021-12-20T16:06:05.489Z"
   },
   {
    "duration": 11,
    "start_time": "2021-12-20T16:06:05.751Z"
   },
   {
    "duration": 7,
    "start_time": "2021-12-20T16:06:05.764Z"
   },
   {
    "duration": 256,
    "start_time": "2021-12-20T16:06:05.772Z"
   },
   {
    "duration": 183,
    "start_time": "2021-12-20T16:06:05.848Z"
   },
   {
    "duration": 181,
    "start_time": "2021-12-20T16:06:05.851Z"
   },
   {
    "duration": 181,
    "start_time": "2021-12-20T16:06:05.852Z"
   },
   {
    "duration": 166,
    "start_time": "2021-12-20T16:06:05.868Z"
   },
   {
    "duration": 165,
    "start_time": "2021-12-20T16:06:05.870Z"
   },
   {
    "duration": 163,
    "start_time": "2021-12-20T16:06:05.873Z"
   },
   {
    "duration": 162,
    "start_time": "2021-12-20T16:06:05.874Z"
   },
   {
    "duration": 161,
    "start_time": "2021-12-20T16:06:05.876Z"
   },
   {
    "duration": 4,
    "start_time": "2021-12-20T16:06:46.114Z"
   },
   {
    "duration": 41,
    "start_time": "2021-12-20T16:06:46.119Z"
   },
   {
    "duration": 6,
    "start_time": "2021-12-20T16:06:46.162Z"
   },
   {
    "duration": 5,
    "start_time": "2021-12-20T16:06:46.170Z"
   },
   {
    "duration": 10,
    "start_time": "2021-12-20T16:06:46.177Z"
   },
   {
    "duration": 11,
    "start_time": "2021-12-20T16:06:46.189Z"
   },
   {
    "duration": 6,
    "start_time": "2021-12-20T16:06:46.202Z"
   },
   {
    "duration": 8,
    "start_time": "2021-12-20T16:06:46.210Z"
   },
   {
    "duration": 314,
    "start_time": "2021-12-20T16:06:46.222Z"
   },
   {
    "duration": 6,
    "start_time": "2021-12-20T16:06:46.538Z"
   },
   {
    "duration": 860,
    "start_time": "2021-12-20T16:06:46.546Z"
   },
   {
    "duration": 255,
    "start_time": "2021-12-20T16:06:47.408Z"
   },
   {
    "duration": 216,
    "start_time": "2021-12-20T16:06:47.664Z"
   },
   {
    "duration": 199,
    "start_time": "2021-12-20T16:06:47.882Z"
   },
   {
    "duration": 362,
    "start_time": "2021-12-20T16:06:48.083Z"
   },
   {
    "duration": 213,
    "start_time": "2021-12-20T16:06:48.447Z"
   },
   {
    "duration": 249,
    "start_time": "2021-12-20T16:06:48.662Z"
   },
   {
    "duration": 237,
    "start_time": "2021-12-20T16:06:48.913Z"
   },
   {
    "duration": 13,
    "start_time": "2021-12-20T16:06:49.152Z"
   },
   {
    "duration": 225,
    "start_time": "2021-12-20T16:06:49.167Z"
   },
   {
    "duration": 208,
    "start_time": "2021-12-20T16:06:49.394Z"
   },
   {
    "duration": 6,
    "start_time": "2021-12-20T16:06:49.604Z"
   },
   {
    "duration": 258,
    "start_time": "2021-12-20T16:06:49.612Z"
   },
   {
    "duration": 7,
    "start_time": "2021-12-20T16:06:49.871Z"
   },
   {
    "duration": 6,
    "start_time": "2021-12-20T16:06:49.879Z"
   },
   {
    "duration": 12,
    "start_time": "2021-12-20T16:06:49.888Z"
   },
   {
    "duration": 270,
    "start_time": "2021-12-20T16:06:49.901Z"
   },
   {
    "duration": 10,
    "start_time": "2021-12-20T16:06:50.172Z"
   },
   {
    "duration": 10,
    "start_time": "2021-12-20T16:06:50.184Z"
   },
   {
    "duration": 19,
    "start_time": "2021-12-20T16:06:50.196Z"
   },
   {
    "duration": 18,
    "start_time": "2021-12-20T16:06:50.217Z"
   },
   {
    "duration": 15,
    "start_time": "2021-12-20T16:06:50.236Z"
   },
   {
    "duration": 19,
    "start_time": "2021-12-20T16:06:50.253Z"
   },
   {
    "duration": 3,
    "start_time": "2021-12-20T16:06:50.273Z"
   },
   {
    "duration": 19,
    "start_time": "2021-12-20T16:07:22.883Z"
   },
   {
    "duration": 3,
    "start_time": "2021-12-20T16:14:14.561Z"
   },
   {
    "duration": 6,
    "start_time": "2021-12-20T16:14:15.344Z"
   },
   {
    "duration": 343,
    "start_time": "2021-12-20T16:14:16.152Z"
   },
   {
    "duration": 17,
    "start_time": "2021-12-20T16:15:12.737Z"
   },
   {
    "duration": 4,
    "start_time": "2021-12-20T16:15:42.589Z"
   },
   {
    "duration": 38,
    "start_time": "2021-12-20T16:15:42.594Z"
   },
   {
    "duration": 5,
    "start_time": "2021-12-20T16:15:42.634Z"
   },
   {
    "duration": 4,
    "start_time": "2021-12-20T16:15:42.641Z"
   },
   {
    "duration": 8,
    "start_time": "2021-12-20T16:15:42.647Z"
   },
   {
    "duration": 10,
    "start_time": "2021-12-20T16:15:42.657Z"
   },
   {
    "duration": 7,
    "start_time": "2021-12-20T16:15:42.669Z"
   },
   {
    "duration": 9,
    "start_time": "2021-12-20T16:15:42.678Z"
   },
   {
    "duration": 272,
    "start_time": "2021-12-20T16:15:42.690Z"
   },
   {
    "duration": 5,
    "start_time": "2021-12-20T16:15:42.964Z"
   },
   {
    "duration": 828,
    "start_time": "2021-12-20T16:15:42.971Z"
   },
   {
    "duration": 247,
    "start_time": "2021-12-20T16:15:43.801Z"
   },
   {
    "duration": 212,
    "start_time": "2021-12-20T16:15:44.050Z"
   },
   {
    "duration": 198,
    "start_time": "2021-12-20T16:15:44.264Z"
   },
   {
    "duration": 208,
    "start_time": "2021-12-20T16:15:44.464Z"
   },
   {
    "duration": 190,
    "start_time": "2021-12-20T16:15:44.673Z"
   },
   {
    "duration": 395,
    "start_time": "2021-12-20T16:15:44.865Z"
   },
   {
    "duration": 237,
    "start_time": "2021-12-20T16:15:45.262Z"
   },
   {
    "duration": 9,
    "start_time": "2021-12-20T16:15:45.501Z"
   },
   {
    "duration": 282,
    "start_time": "2021-12-20T16:15:45.512Z"
   },
   {
    "duration": 200,
    "start_time": "2021-12-20T16:15:45.797Z"
   },
   {
    "duration": 3,
    "start_time": "2021-12-20T16:15:45.999Z"
   },
   {
    "duration": 23,
    "start_time": "2021-12-20T16:15:46.004Z"
   },
   {
    "duration": 8,
    "start_time": "2021-12-20T16:15:46.029Z"
   },
   {
    "duration": 272,
    "start_time": "2021-12-20T16:15:46.039Z"
   },
   {
    "duration": 7,
    "start_time": "2021-12-20T16:16:11.529Z"
   },
   {
    "duration": 28,
    "start_time": "2021-12-20T16:16:11.538Z"
   },
   {
    "duration": 12,
    "start_time": "2021-12-20T16:16:11.569Z"
   },
   {
    "duration": 277,
    "start_time": "2021-12-20T16:16:11.583Z"
   },
   {
    "duration": 9,
    "start_time": "2021-12-20T16:16:11.862Z"
   },
   {
    "duration": 7,
    "start_time": "2021-12-20T16:16:11.873Z"
   },
   {
    "duration": 15,
    "start_time": "2021-12-20T16:16:11.882Z"
   },
   {
    "duration": 16,
    "start_time": "2021-12-20T16:16:11.899Z"
   },
   {
    "duration": 15,
    "start_time": "2021-12-20T16:16:11.917Z"
   },
   {
    "duration": 15,
    "start_time": "2021-12-20T16:16:11.934Z"
   },
   {
    "duration": 25,
    "start_time": "2021-12-20T16:16:11.951Z"
   },
   {
    "duration": 4,
    "start_time": "2021-12-20T16:19:21.997Z"
   },
   {
    "duration": 7,
    "start_time": "2021-12-20T16:19:23.189Z"
   },
   {
    "duration": 19,
    "start_time": "2021-12-20T16:19:26.331Z"
   },
   {
    "duration": 2,
    "start_time": "2021-12-20T16:19:40.403Z"
   },
   {
    "duration": 4,
    "start_time": "2021-12-20T16:20:52.005Z"
   },
   {
    "duration": 40,
    "start_time": "2021-12-20T16:20:52.011Z"
   },
   {
    "duration": 6,
    "start_time": "2021-12-20T16:20:52.054Z"
   },
   {
    "duration": 4,
    "start_time": "2021-12-20T16:20:52.063Z"
   },
   {
    "duration": 12,
    "start_time": "2021-12-20T16:20:52.069Z"
   },
   {
    "duration": 17,
    "start_time": "2021-12-20T16:20:52.082Z"
   },
   {
    "duration": 8,
    "start_time": "2021-12-20T16:20:52.101Z"
   },
   {
    "duration": 15,
    "start_time": "2021-12-20T16:20:52.110Z"
   },
   {
    "duration": 316,
    "start_time": "2021-12-20T16:20:52.128Z"
   },
   {
    "duration": 14,
    "start_time": "2021-12-20T16:20:52.447Z"
   },
   {
    "duration": 886,
    "start_time": "2021-12-20T16:20:52.463Z"
   },
   {
    "duration": 257,
    "start_time": "2021-12-20T16:20:53.351Z"
   },
   {
    "duration": 229,
    "start_time": "2021-12-20T16:20:53.610Z"
   },
   {
    "duration": 230,
    "start_time": "2021-12-20T16:20:53.841Z"
   },
   {
    "duration": 233,
    "start_time": "2021-12-20T16:20:54.073Z"
   },
   {
    "duration": 232,
    "start_time": "2021-12-20T16:20:54.307Z"
   },
   {
    "duration": 233,
    "start_time": "2021-12-20T16:20:54.541Z"
   },
   {
    "duration": 262,
    "start_time": "2021-12-20T16:20:54.776Z"
   },
   {
    "duration": 21,
    "start_time": "2021-12-20T16:20:55.040Z"
   },
   {
    "duration": 388,
    "start_time": "2021-12-20T16:20:55.063Z"
   },
   {
    "duration": 218,
    "start_time": "2021-12-20T16:20:55.453Z"
   },
   {
    "duration": 4,
    "start_time": "2021-12-20T16:20:55.673Z"
   },
   {
    "duration": 13,
    "start_time": "2021-12-20T16:20:55.679Z"
   },
   {
    "duration": 14,
    "start_time": "2021-12-20T16:20:55.694Z"
   },
   {
    "duration": 274,
    "start_time": "2021-12-20T16:20:55.710Z"
   },
   {
    "duration": 7,
    "start_time": "2021-12-20T16:20:55.986Z"
   },
   {
    "duration": 8,
    "start_time": "2021-12-20T16:20:55.996Z"
   },
   {
    "duration": 9,
    "start_time": "2021-12-20T16:20:56.006Z"
   },
   {
    "duration": 303,
    "start_time": "2021-12-20T16:20:56.017Z"
   },
   {
    "duration": 11,
    "start_time": "2021-12-20T16:20:56.322Z"
   },
   {
    "duration": 10,
    "start_time": "2021-12-20T16:20:56.335Z"
   },
   {
    "duration": 16,
    "start_time": "2021-12-20T16:20:56.347Z"
   },
   {
    "duration": 6,
    "start_time": "2021-12-20T16:20:56.365Z"
   },
   {
    "duration": 5,
    "start_time": "2021-12-20T16:20:56.373Z"
   },
   {
    "duration": 14,
    "start_time": "2021-12-20T16:20:56.380Z"
   },
   {
    "duration": 19,
    "start_time": "2021-12-20T16:20:56.396Z"
   },
   {
    "duration": 3,
    "start_time": "2021-12-20T16:20:56.417Z"
   },
   {
    "duration": 8,
    "start_time": "2021-12-20T16:22:26.849Z"
   },
   {
    "duration": 21,
    "start_time": "2021-12-20T16:22:28.250Z"
   },
   {
    "duration": 4,
    "start_time": "2021-12-20T16:23:26.604Z"
   },
   {
    "duration": 9,
    "start_time": "2021-12-20T16:23:28.371Z"
   },
   {
    "duration": 22,
    "start_time": "2021-12-20T16:23:29.343Z"
   },
   {
    "duration": 4,
    "start_time": "2021-12-20T16:24:11.253Z"
   },
   {
    "duration": 37,
    "start_time": "2021-12-20T16:24:11.259Z"
   },
   {
    "duration": 6,
    "start_time": "2021-12-20T16:24:11.298Z"
   },
   {
    "duration": 13,
    "start_time": "2021-12-20T16:24:11.306Z"
   },
   {
    "duration": 9,
    "start_time": "2021-12-20T16:24:11.321Z"
   },
   {
    "duration": 15,
    "start_time": "2021-12-20T16:24:11.332Z"
   },
   {
    "duration": 12,
    "start_time": "2021-12-20T16:24:11.349Z"
   },
   {
    "duration": 18,
    "start_time": "2021-12-20T16:24:11.364Z"
   },
   {
    "duration": 428,
    "start_time": "2021-12-20T16:24:11.384Z"
   },
   {
    "duration": 7,
    "start_time": "2021-12-20T16:24:11.814Z"
   },
   {
    "duration": 1104,
    "start_time": "2021-12-20T16:24:11.823Z"
   },
   {
    "duration": 248,
    "start_time": "2021-12-20T16:24:12.929Z"
   },
   {
    "duration": 323,
    "start_time": "2021-12-20T16:24:13.178Z"
   },
   {
    "duration": 212,
    "start_time": "2021-12-20T16:24:13.503Z"
   },
   {
    "duration": 239,
    "start_time": "2021-12-20T16:24:13.717Z"
   },
   {
    "duration": 217,
    "start_time": "2021-12-20T16:24:13.961Z"
   },
   {
    "duration": 224,
    "start_time": "2021-12-20T16:24:14.181Z"
   },
   {
    "duration": 241,
    "start_time": "2021-12-20T16:24:14.408Z"
   },
   {
    "duration": 16,
    "start_time": "2021-12-20T16:24:14.651Z"
   },
   {
    "duration": 205,
    "start_time": "2021-12-20T16:24:14.669Z"
   },
   {
    "duration": 269,
    "start_time": "2021-12-20T16:24:14.876Z"
   },
   {
    "duration": 13,
    "start_time": "2021-12-20T16:24:15.147Z"
   },
   {
    "duration": 14,
    "start_time": "2021-12-20T16:24:15.163Z"
   },
   {
    "duration": 10,
    "start_time": "2021-12-20T16:24:15.179Z"
   },
   {
    "duration": 296,
    "start_time": "2021-12-20T16:24:15.191Z"
   },
   {
    "duration": 8,
    "start_time": "2021-12-20T16:24:15.489Z"
   },
   {
    "duration": 9,
    "start_time": "2021-12-20T16:24:15.498Z"
   },
   {
    "duration": 12,
    "start_time": "2021-12-20T16:24:15.509Z"
   },
   {
    "duration": 445,
    "start_time": "2021-12-20T16:24:15.522Z"
   },
   {
    "duration": 10,
    "start_time": "2021-12-20T16:24:15.969Z"
   },
   {
    "duration": 7,
    "start_time": "2021-12-20T16:24:15.981Z"
   },
   {
    "duration": 7,
    "start_time": "2021-12-20T16:24:15.990Z"
   },
   {
    "duration": 8,
    "start_time": "2021-12-20T16:24:15.998Z"
   },
   {
    "duration": 17,
    "start_time": "2021-12-20T16:24:16.008Z"
   },
   {
    "duration": 40,
    "start_time": "2021-12-20T16:24:16.027Z"
   },
   {
    "duration": 21,
    "start_time": "2021-12-20T16:24:16.069Z"
   },
   {
    "duration": 26,
    "start_time": "2021-12-20T16:24:16.092Z"
   },
   {
    "duration": 3,
    "start_time": "2021-12-20T16:24:16.120Z"
   },
   {
    "duration": 266,
    "start_time": "2021-12-20T16:25:55.707Z"
   },
   {
    "duration": 10,
    "start_time": "2021-12-20T16:33:02.346Z"
   },
   {
    "duration": 10,
    "start_time": "2021-12-20T16:33:04.790Z"
   },
   {
    "duration": 48,
    "start_time": "2021-12-20T16:35:40.442Z"
   },
   {
    "duration": 35,
    "start_time": "2021-12-20T16:35:40.492Z"
   },
   {
    "duration": 7,
    "start_time": "2021-12-20T16:35:40.530Z"
   },
   {
    "duration": 11,
    "start_time": "2021-12-20T16:35:40.539Z"
   },
   {
    "duration": 26,
    "start_time": "2021-12-20T16:35:40.552Z"
   },
   {
    "duration": 15,
    "start_time": "2021-12-20T16:35:40.580Z"
   },
   {
    "duration": 12,
    "start_time": "2021-12-20T16:35:40.597Z"
   },
   {
    "duration": 30,
    "start_time": "2021-12-20T16:35:40.612Z"
   },
   {
    "duration": 297,
    "start_time": "2021-12-20T16:35:40.644Z"
   },
   {
    "duration": 7,
    "start_time": "2021-12-20T16:35:40.944Z"
   },
   {
    "duration": 1004,
    "start_time": "2021-12-20T16:35:40.952Z"
   },
   {
    "duration": 244,
    "start_time": "2021-12-20T16:35:41.957Z"
   },
   {
    "duration": 226,
    "start_time": "2021-12-20T16:35:42.203Z"
   },
   {
    "duration": 204,
    "start_time": "2021-12-20T16:35:42.431Z"
   },
   {
    "duration": 203,
    "start_time": "2021-12-20T16:35:42.637Z"
   },
   {
    "duration": 196,
    "start_time": "2021-12-20T16:35:42.841Z"
   },
   {
    "duration": 197,
    "start_time": "2021-12-20T16:35:43.038Z"
   },
   {
    "duration": 231,
    "start_time": "2021-12-20T16:35:43.236Z"
   },
   {
    "duration": 9,
    "start_time": "2021-12-20T16:35:43.469Z"
   },
   {
    "duration": 209,
    "start_time": "2021-12-20T16:35:43.480Z"
   },
   {
    "duration": 187,
    "start_time": "2021-12-20T16:35:43.691Z"
   },
   {
    "duration": 3,
    "start_time": "2021-12-20T16:35:43.879Z"
   },
   {
    "duration": 13,
    "start_time": "2021-12-20T16:35:43.885Z"
   },
   {
    "duration": 7,
    "start_time": "2021-12-20T16:35:43.900Z"
   },
   {
    "duration": 255,
    "start_time": "2021-12-20T16:35:43.908Z"
   },
   {
    "duration": 6,
    "start_time": "2021-12-20T16:35:44.164Z"
   },
   {
    "duration": 10,
    "start_time": "2021-12-20T16:35:44.172Z"
   },
   {
    "duration": 12,
    "start_time": "2021-12-20T16:35:44.183Z"
   },
   {
    "duration": 263,
    "start_time": "2021-12-20T16:35:44.196Z"
   },
   {
    "duration": 9,
    "start_time": "2021-12-20T16:35:44.460Z"
   },
   {
    "duration": 15,
    "start_time": "2021-12-20T16:35:44.470Z"
   },
   {
    "duration": 8,
    "start_time": "2021-12-20T16:35:44.487Z"
   },
   {
    "duration": 7,
    "start_time": "2021-12-20T16:35:44.497Z"
   },
   {
    "duration": 12,
    "start_time": "2021-12-20T16:35:44.505Z"
   },
   {
    "duration": 6,
    "start_time": "2021-12-20T16:35:44.518Z"
   },
   {
    "duration": 34,
    "start_time": "2021-12-20T16:35:44.526Z"
   },
   {
    "duration": 18,
    "start_time": "2021-12-20T16:35:44.562Z"
   },
   {
    "duration": 2,
    "start_time": "2021-12-20T16:35:44.582Z"
   },
   {
    "duration": 15,
    "start_time": "2021-12-20T16:35:44.586Z"
   },
   {
    "duration": 58,
    "start_time": "2021-12-20T16:35:44.603Z"
   },
   {
    "duration": 3278,
    "start_time": "2021-12-20T16:35:44.663Z"
   },
   {
    "duration": 6,
    "start_time": "2021-12-20T19:30:49.467Z"
   },
   {
    "duration": 7,
    "start_time": "2021-12-20T19:31:34.097Z"
   },
   {
    "duration": 3,
    "start_time": "2021-12-20T20:20:35.869Z"
   },
   {
    "duration": 39,
    "start_time": "2021-12-20T20:51:07.951Z"
   },
   {
    "duration": 4,
    "start_time": "2021-12-20T21:56:15.614Z"
   },
   {
    "duration": 42,
    "start_time": "2021-12-20T21:56:15.620Z"
   },
   {
    "duration": 7,
    "start_time": "2021-12-20T21:56:15.664Z"
   },
   {
    "duration": 4,
    "start_time": "2021-12-20T21:56:15.674Z"
   },
   {
    "duration": 8,
    "start_time": "2021-12-20T21:56:15.680Z"
   },
   {
    "duration": 12,
    "start_time": "2021-12-20T21:56:15.689Z"
   },
   {
    "duration": 7,
    "start_time": "2021-12-20T21:56:15.702Z"
   },
   {
    "duration": 7,
    "start_time": "2021-12-20T21:56:15.711Z"
   },
   {
    "duration": 45,
    "start_time": "2021-12-20T21:56:15.720Z"
   },
   {
    "duration": 441,
    "start_time": "2021-12-20T21:56:15.767Z"
   },
   {
    "duration": 6,
    "start_time": "2021-12-20T21:56:16.210Z"
   },
   {
    "duration": 809,
    "start_time": "2021-12-20T21:56:16.217Z"
   },
   {
    "duration": 239,
    "start_time": "2021-12-20T21:56:17.027Z"
   },
   {
    "duration": 205,
    "start_time": "2021-12-20T21:56:17.268Z"
   },
   {
    "duration": 187,
    "start_time": "2021-12-20T21:56:17.475Z"
   },
   {
    "duration": 207,
    "start_time": "2021-12-20T21:56:17.664Z"
   },
   {
    "duration": 194,
    "start_time": "2021-12-20T21:56:17.873Z"
   },
   {
    "duration": 199,
    "start_time": "2021-12-20T21:56:18.068Z"
   },
   {
    "duration": 234,
    "start_time": "2021-12-20T21:56:18.268Z"
   },
   {
    "duration": 10,
    "start_time": "2021-12-20T21:56:18.504Z"
   },
   {
    "duration": 204,
    "start_time": "2021-12-20T21:56:18.516Z"
   },
   {
    "duration": 194,
    "start_time": "2021-12-20T21:56:18.722Z"
   },
   {
    "duration": 2,
    "start_time": "2021-12-20T21:56:18.921Z"
   },
   {
    "duration": 49,
    "start_time": "2021-12-20T21:56:18.925Z"
   },
   {
    "duration": 16,
    "start_time": "2021-12-20T21:56:18.977Z"
   },
   {
    "duration": 241,
    "start_time": "2021-12-20T21:56:18.995Z"
   },
   {
    "duration": 7,
    "start_time": "2021-12-20T21:56:19.238Z"
   },
   {
    "duration": 25,
    "start_time": "2021-12-20T21:56:19.247Z"
   },
   {
    "duration": 23,
    "start_time": "2021-12-20T21:56:19.273Z"
   },
   {
    "duration": 264,
    "start_time": "2021-12-20T21:56:19.298Z"
   },
   {
    "duration": 9,
    "start_time": "2021-12-20T21:56:19.564Z"
   },
   {
    "duration": 20,
    "start_time": "2021-12-20T21:56:19.574Z"
   },
   {
    "duration": 7,
    "start_time": "2021-12-20T21:56:19.595Z"
   },
   {
    "duration": 9,
    "start_time": "2021-12-20T21:56:19.604Z"
   },
   {
    "duration": 29,
    "start_time": "2021-12-20T21:56:19.614Z"
   },
   {
    "duration": 21,
    "start_time": "2021-12-20T21:56:19.645Z"
   },
   {
    "duration": 29,
    "start_time": "2021-12-20T21:56:19.668Z"
   },
   {
    "duration": 19,
    "start_time": "2021-12-20T21:56:19.699Z"
   },
   {
    "duration": 9,
    "start_time": "2021-12-20T21:56:19.720Z"
   },
   {
    "duration": 20,
    "start_time": "2021-12-20T21:56:19.730Z"
   },
   {
    "duration": 27,
    "start_time": "2021-12-20T21:56:19.752Z"
   },
   {
    "duration": 1816,
    "start_time": "2021-12-20T21:56:19.861Z"
   },
   {
    "duration": 7,
    "start_time": "2021-12-20T21:56:21.679Z"
   },
   {
    "duration": 11,
    "start_time": "2021-12-20T21:56:21.688Z"
   },
   {
    "duration": 103,
    "start_time": "2021-12-20T22:08:02.187Z"
   },
   {
    "duration": 104,
    "start_time": "2021-12-20T22:08:09.388Z"
   },
   {
    "duration": 214,
    "start_time": "2021-12-20T22:08:31.461Z"
   },
   {
    "duration": 174,
    "start_time": "2021-12-20T22:08:35.781Z"
   },
   {
    "duration": 191,
    "start_time": "2021-12-20T22:09:04.905Z"
   },
   {
    "duration": 188,
    "start_time": "2021-12-20T22:09:57.991Z"
   },
   {
    "duration": 177,
    "start_time": "2021-12-20T22:10:08.718Z"
   },
   {
    "duration": 12,
    "start_time": "2021-12-20T22:14:34.340Z"
   },
   {
    "duration": 3,
    "start_time": "2021-12-20T22:14:49.355Z"
   },
   {
    "duration": 37,
    "start_time": "2021-12-20T22:14:49.361Z"
   },
   {
    "duration": 5,
    "start_time": "2021-12-20T22:14:49.400Z"
   },
   {
    "duration": 4,
    "start_time": "2021-12-20T22:14:49.407Z"
   },
   {
    "duration": 7,
    "start_time": "2021-12-20T22:14:49.412Z"
   },
   {
    "duration": 14,
    "start_time": "2021-12-20T22:14:49.421Z"
   },
   {
    "duration": 28,
    "start_time": "2021-12-20T22:14:49.437Z"
   },
   {
    "duration": 6,
    "start_time": "2021-12-20T22:14:49.467Z"
   },
   {
    "duration": 6,
    "start_time": "2021-12-20T22:14:49.476Z"
   },
   {
    "duration": 464,
    "start_time": "2021-12-20T22:14:49.484Z"
   },
   {
    "duration": 14,
    "start_time": "2021-12-20T22:14:49.950Z"
   },
   {
    "duration": 823,
    "start_time": "2021-12-20T22:14:49.965Z"
   },
   {
    "duration": 243,
    "start_time": "2021-12-20T22:14:50.790Z"
   },
   {
    "duration": 211,
    "start_time": "2021-12-20T22:14:51.035Z"
   },
   {
    "duration": 192,
    "start_time": "2021-12-20T22:14:51.248Z"
   },
   {
    "duration": 197,
    "start_time": "2021-12-20T22:14:51.441Z"
   },
   {
    "duration": 196,
    "start_time": "2021-12-20T22:14:51.640Z"
   },
   {
    "duration": 204,
    "start_time": "2021-12-20T22:14:51.838Z"
   },
   {
    "duration": 217,
    "start_time": "2021-12-20T22:14:52.043Z"
   },
   {
    "duration": 8,
    "start_time": "2021-12-20T22:14:52.262Z"
   },
   {
    "duration": 198,
    "start_time": "2021-12-20T22:14:52.272Z"
   },
   {
    "duration": 199,
    "start_time": "2021-12-20T22:14:52.471Z"
   },
   {
    "duration": 2,
    "start_time": "2021-12-20T22:14:52.672Z"
   },
   {
    "duration": 2,
    "start_time": "2021-12-20T22:15:12.396Z"
   },
   {
    "duration": 7,
    "start_time": "2021-12-20T22:15:13.212Z"
   },
   {
    "duration": 7,
    "start_time": "2021-12-20T22:15:20.619Z"
   },
   {
    "duration": 226,
    "start_time": "2021-12-20T22:15:23.289Z"
   },
   {
    "duration": 4,
    "start_time": "2021-12-20T22:17:36.659Z"
   },
   {
    "duration": 7,
    "start_time": "2021-12-20T22:17:38.188Z"
   },
   {
    "duration": 6,
    "start_time": "2021-12-20T22:18:10.356Z"
   },
   {
    "duration": 232,
    "start_time": "2021-12-20T22:18:11.704Z"
   },
   {
    "duration": 284,
    "start_time": "2021-12-20T22:20:02.693Z"
   },
   {
    "duration": 430,
    "start_time": "2021-12-20T22:20:21.046Z"
   },
   {
    "duration": 238,
    "start_time": "2021-12-20T22:20:34.621Z"
   },
   {
    "duration": 4,
    "start_time": "2021-12-20T22:21:12.810Z"
   },
   {
    "duration": 37,
    "start_time": "2021-12-20T22:21:12.815Z"
   },
   {
    "duration": 6,
    "start_time": "2021-12-20T22:21:12.854Z"
   },
   {
    "duration": 4,
    "start_time": "2021-12-20T22:21:12.862Z"
   },
   {
    "duration": 11,
    "start_time": "2021-12-20T22:21:12.867Z"
   },
   {
    "duration": 15,
    "start_time": "2021-12-20T22:21:12.880Z"
   },
   {
    "duration": 9,
    "start_time": "2021-12-20T22:21:12.896Z"
   },
   {
    "duration": 10,
    "start_time": "2021-12-20T22:21:12.907Z"
   },
   {
    "duration": 14,
    "start_time": "2021-12-20T22:21:12.920Z"
   },
   {
    "duration": 258,
    "start_time": "2021-12-20T22:21:12.936Z"
   },
   {
    "duration": 7,
    "start_time": "2021-12-20T22:21:13.196Z"
   },
   {
    "duration": 989,
    "start_time": "2021-12-20T22:21:13.204Z"
   },
   {
    "duration": 238,
    "start_time": "2021-12-20T22:21:14.194Z"
   },
   {
    "duration": 212,
    "start_time": "2021-12-20T22:21:14.434Z"
   },
   {
    "duration": 196,
    "start_time": "2021-12-20T22:21:14.648Z"
   },
   {
    "duration": 212,
    "start_time": "2021-12-20T22:21:14.846Z"
   },
   {
    "duration": 190,
    "start_time": "2021-12-20T22:21:15.059Z"
   },
   {
    "duration": 198,
    "start_time": "2021-12-20T22:21:15.251Z"
   },
   {
    "duration": 220,
    "start_time": "2021-12-20T22:21:15.451Z"
   },
   {
    "duration": 9,
    "start_time": "2021-12-20T22:21:15.673Z"
   },
   {
    "duration": 205,
    "start_time": "2021-12-20T22:21:15.684Z"
   },
   {
    "duration": 186,
    "start_time": "2021-12-20T22:21:15.891Z"
   },
   {
    "duration": 3,
    "start_time": "2021-12-20T22:21:16.078Z"
   },
   {
    "duration": 9,
    "start_time": "2021-12-20T22:21:16.083Z"
   },
   {
    "duration": 8,
    "start_time": "2021-12-20T22:21:16.093Z"
   },
   {
    "duration": 262,
    "start_time": "2021-12-20T22:21:16.102Z"
   },
   {
    "duration": 8,
    "start_time": "2021-12-20T22:21:54.701Z"
   },
   {
    "duration": 6,
    "start_time": "2021-12-20T22:22:23.847Z"
   },
   {
    "duration": 5,
    "start_time": "2021-12-20T22:22:27.327Z"
   },
   {
    "duration": 7,
    "start_time": "2021-12-20T22:22:28.515Z"
   },
   {
    "duration": 243,
    "start_time": "2021-12-20T22:22:38.549Z"
   },
   {
    "duration": 8,
    "start_time": "2021-12-20T22:23:07.502Z"
   },
   {
    "duration": 8,
    "start_time": "2021-12-20T22:23:54.224Z"
   },
   {
    "duration": 4,
    "start_time": "2021-12-20T22:23:59.662Z"
   },
   {
    "duration": 6,
    "start_time": "2021-12-20T22:24:06.982Z"
   },
   {
    "duration": 7,
    "start_time": "2021-12-20T22:24:11.655Z"
   },
   {
    "duration": 8,
    "start_time": "2021-12-20T22:24:37.349Z"
   },
   {
    "duration": 4,
    "start_time": "2021-12-20T22:25:01.079Z"
   },
   {
    "duration": 12,
    "start_time": "2021-12-20T22:25:02.278Z"
   },
   {
    "duration": 18,
    "start_time": "2021-12-20T22:25:04.304Z"
   },
   {
    "duration": 2,
    "start_time": "2021-12-20T22:25:19.326Z"
   },
   {
    "duration": 10,
    "start_time": "2021-12-20T22:25:33.009Z"
   },
   {
    "duration": 15,
    "start_time": "2021-12-20T22:25:38.359Z"
   },
   {
    "duration": 1487,
    "start_time": "2021-12-20T22:25:43.274Z"
   },
   {
    "duration": 6,
    "start_time": "2021-12-20T22:25:50.806Z"
   },
   {
    "duration": 7,
    "start_time": "2021-12-20T22:25:55.151Z"
   },
   {
    "duration": 83,
    "start_time": "2021-12-20T22:29:03.469Z"
   },
   {
    "duration": 13,
    "start_time": "2021-12-20T22:29:18.384Z"
   },
   {
    "duration": 8,
    "start_time": "2021-12-20T22:30:19.631Z"
   },
   {
    "duration": 15,
    "start_time": "2021-12-20T22:30:24.310Z"
   },
   {
    "duration": 4,
    "start_time": "2021-12-20T22:30:34.867Z"
   },
   {
    "duration": 44,
    "start_time": "2021-12-20T22:30:34.873Z"
   },
   {
    "duration": 5,
    "start_time": "2021-12-20T22:30:34.919Z"
   },
   {
    "duration": 14,
    "start_time": "2021-12-20T22:30:34.926Z"
   },
   {
    "duration": 19,
    "start_time": "2021-12-20T22:30:34.942Z"
   },
   {
    "duration": 20,
    "start_time": "2021-12-20T22:30:34.963Z"
   },
   {
    "duration": 12,
    "start_time": "2021-12-20T22:30:34.985Z"
   },
   {
    "duration": 30,
    "start_time": "2021-12-20T22:30:34.999Z"
   },
   {
    "duration": 23,
    "start_time": "2021-12-20T22:30:35.031Z"
   },
   {
    "duration": 271,
    "start_time": "2021-12-20T22:30:35.055Z"
   },
   {
    "duration": 5,
    "start_time": "2021-12-20T22:30:35.328Z"
   },
   {
    "duration": 783,
    "start_time": "2021-12-20T22:30:35.335Z"
   },
   {
    "duration": 419,
    "start_time": "2021-12-20T22:30:36.119Z"
   },
   {
    "duration": 206,
    "start_time": "2021-12-20T22:30:36.540Z"
   },
   {
    "duration": 195,
    "start_time": "2021-12-20T22:30:36.748Z"
   },
   {
    "duration": 207,
    "start_time": "2021-12-20T22:30:36.945Z"
   },
   {
    "duration": 189,
    "start_time": "2021-12-20T22:30:37.153Z"
   },
   {
    "duration": 194,
    "start_time": "2021-12-20T22:30:37.344Z"
   },
   {
    "duration": 222,
    "start_time": "2021-12-20T22:30:37.539Z"
   },
   {
    "duration": 8,
    "start_time": "2021-12-20T22:30:37.763Z"
   },
   {
    "duration": 185,
    "start_time": "2021-12-20T22:30:37.773Z"
   },
   {
    "duration": 180,
    "start_time": "2021-12-20T22:30:37.961Z"
   },
   {
    "duration": 3,
    "start_time": "2021-12-20T22:30:38.144Z"
   },
   {
    "duration": 7,
    "start_time": "2021-12-20T22:30:38.160Z"
   },
   {
    "duration": 7,
    "start_time": "2021-12-20T22:30:38.168Z"
   },
   {
    "duration": 237,
    "start_time": "2021-12-20T22:30:38.177Z"
   },
   {
    "duration": 6,
    "start_time": "2021-12-20T22:30:38.416Z"
   },
   {
    "duration": 7,
    "start_time": "2021-12-20T22:30:38.423Z"
   },
   {
    "duration": 9,
    "start_time": "2021-12-20T22:30:38.431Z"
   },
   {
    "duration": 251,
    "start_time": "2021-12-20T22:30:38.441Z"
   },
   {
    "duration": 8,
    "start_time": "2021-12-20T22:30:38.694Z"
   },
   {
    "duration": 7,
    "start_time": "2021-12-20T22:30:38.703Z"
   },
   {
    "duration": 9,
    "start_time": "2021-12-20T22:30:38.711Z"
   },
   {
    "duration": 13,
    "start_time": "2021-12-20T22:30:38.722Z"
   },
   {
    "duration": 6,
    "start_time": "2021-12-20T22:30:38.737Z"
   },
   {
    "duration": 24,
    "start_time": "2021-12-20T22:30:38.744Z"
   },
   {
    "duration": 15,
    "start_time": "2021-12-20T22:30:38.770Z"
   },
   {
    "duration": 3,
    "start_time": "2021-12-20T22:30:38.786Z"
   },
   {
    "duration": 12,
    "start_time": "2021-12-20T22:30:38.790Z"
   },
   {
    "duration": 62,
    "start_time": "2021-12-20T22:30:38.804Z"
   },
   {
    "duration": 1509,
    "start_time": "2021-12-20T22:30:38.868Z"
   },
   {
    "duration": 10,
    "start_time": "2021-12-20T22:30:40.379Z"
   },
   {
    "duration": 6,
    "start_time": "2021-12-20T22:30:40.391Z"
   },
   {
    "duration": 8,
    "start_time": "2021-12-20T22:30:40.398Z"
   },
   {
    "duration": 15,
    "start_time": "2021-12-20T22:34:33.646Z"
   },
   {
    "duration": 63,
    "start_time": "2021-12-20T22:34:33.662Z"
   },
   {
    "duration": 5,
    "start_time": "2021-12-20T22:34:33.727Z"
   },
   {
    "duration": 7,
    "start_time": "2021-12-20T22:34:33.733Z"
   },
   {
    "duration": 16,
    "start_time": "2021-12-20T22:34:33.741Z"
   },
   {
    "duration": 42,
    "start_time": "2021-12-20T22:34:33.759Z"
   },
   {
    "duration": 23,
    "start_time": "2021-12-20T22:34:33.803Z"
   },
   {
    "duration": 16,
    "start_time": "2021-12-20T22:34:33.829Z"
   },
   {
    "duration": 36,
    "start_time": "2021-12-20T22:34:33.848Z"
   },
   {
    "duration": 257,
    "start_time": "2021-12-20T22:34:33.885Z"
   },
   {
    "duration": 6,
    "start_time": "2021-12-20T22:34:34.144Z"
   },
   {
    "duration": 813,
    "start_time": "2021-12-20T22:34:34.152Z"
   },
   {
    "duration": 237,
    "start_time": "2021-12-20T22:34:34.967Z"
   },
   {
    "duration": 200,
    "start_time": "2021-12-20T22:34:35.205Z"
   },
   {
    "duration": 187,
    "start_time": "2021-12-20T22:34:35.406Z"
   },
   {
    "duration": 194,
    "start_time": "2021-12-20T22:34:35.595Z"
   },
   {
    "duration": 184,
    "start_time": "2021-12-20T22:34:35.790Z"
   },
   {
    "duration": 198,
    "start_time": "2021-12-20T22:34:35.976Z"
   },
   {
    "duration": 391,
    "start_time": "2021-12-20T22:34:36.176Z"
   },
   {
    "duration": 10,
    "start_time": "2021-12-20T22:34:36.568Z"
   },
   {
    "duration": 262,
    "start_time": "2021-12-20T22:34:36.579Z"
   },
   {
    "duration": 185,
    "start_time": "2021-12-20T22:34:36.843Z"
   },
   {
    "duration": 3,
    "start_time": "2021-12-20T22:34:37.032Z"
   },
   {
    "duration": 29,
    "start_time": "2021-12-20T22:34:37.038Z"
   },
   {
    "duration": 28,
    "start_time": "2021-12-20T22:34:37.069Z"
   },
   {
    "duration": 244,
    "start_time": "2021-12-20T22:34:37.099Z"
   },
   {
    "duration": 6,
    "start_time": "2021-12-20T22:34:37.344Z"
   },
   {
    "duration": 12,
    "start_time": "2021-12-20T22:34:37.361Z"
   },
   {
    "duration": 19,
    "start_time": "2021-12-20T22:34:37.374Z"
   },
   {
    "duration": 261,
    "start_time": "2021-12-20T22:34:37.394Z"
   },
   {
    "duration": 10,
    "start_time": "2021-12-20T22:34:37.656Z"
   },
   {
    "duration": 31,
    "start_time": "2021-12-20T22:34:37.667Z"
   },
   {
    "duration": 35,
    "start_time": "2021-12-20T22:34:37.699Z"
   },
   {
    "duration": 33,
    "start_time": "2021-12-20T22:34:37.736Z"
   },
   {
    "duration": 18,
    "start_time": "2021-12-20T22:34:37.770Z"
   },
   {
    "duration": 45,
    "start_time": "2021-12-20T22:34:37.790Z"
   },
   {
    "duration": 28,
    "start_time": "2021-12-20T22:34:37.837Z"
   },
   {
    "duration": 13,
    "start_time": "2021-12-20T22:34:37.867Z"
   },
   {
    "duration": 81,
    "start_time": "2021-12-20T22:34:37.882Z"
   },
   {
    "duration": 1434,
    "start_time": "2021-12-20T22:34:37.965Z"
   },
   {
    "duration": 2,
    "start_time": "2021-12-20T22:34:39.401Z"
   },
   {
    "duration": 4,
    "start_time": "2021-12-20T22:38:23.734Z"
   },
   {
    "duration": 36,
    "start_time": "2021-12-20T22:38:23.747Z"
   },
   {
    "duration": 7,
    "start_time": "2021-12-20T22:38:23.784Z"
   },
   {
    "duration": 5,
    "start_time": "2021-12-20T22:38:23.793Z"
   },
   {
    "duration": 7,
    "start_time": "2021-12-20T22:38:23.800Z"
   },
   {
    "duration": 12,
    "start_time": "2021-12-20T22:38:23.808Z"
   },
   {
    "duration": 40,
    "start_time": "2021-12-20T22:38:23.822Z"
   },
   {
    "duration": 7,
    "start_time": "2021-12-20T22:38:23.864Z"
   },
   {
    "duration": 7,
    "start_time": "2021-12-20T22:38:23.874Z"
   },
   {
    "duration": 380,
    "start_time": "2021-12-20T22:38:23.883Z"
   },
   {
    "duration": 9,
    "start_time": "2021-12-20T22:38:24.265Z"
   },
   {
    "duration": 948,
    "start_time": "2021-12-20T22:38:24.276Z"
   },
   {
    "duration": 235,
    "start_time": "2021-12-20T22:38:25.225Z"
   },
   {
    "duration": 205,
    "start_time": "2021-12-20T22:38:25.462Z"
   },
   {
    "duration": 199,
    "start_time": "2021-12-20T22:38:25.670Z"
   },
   {
    "duration": 203,
    "start_time": "2021-12-20T22:38:25.871Z"
   },
   {
    "duration": 178,
    "start_time": "2021-12-20T22:38:26.076Z"
   },
   {
    "duration": 265,
    "start_time": "2021-12-20T22:38:26.256Z"
   },
   {
    "duration": 277,
    "start_time": "2021-12-20T22:38:26.522Z"
   },
   {
    "duration": 11,
    "start_time": "2021-12-20T22:38:26.801Z"
   },
   {
    "duration": 222,
    "start_time": "2021-12-20T22:38:26.813Z"
   },
   {
    "duration": 183,
    "start_time": "2021-12-20T22:38:27.037Z"
   },
   {
    "duration": 3,
    "start_time": "2021-12-20T22:38:27.222Z"
   },
   {
    "duration": 25,
    "start_time": "2021-12-20T22:38:27.226Z"
   },
   {
    "duration": 15,
    "start_time": "2021-12-20T22:38:27.253Z"
   },
   {
    "duration": 245,
    "start_time": "2021-12-20T22:38:27.270Z"
   },
   {
    "duration": 6,
    "start_time": "2021-12-20T22:38:27.517Z"
   },
   {
    "duration": 7,
    "start_time": "2021-12-20T22:38:27.524Z"
   },
   {
    "duration": 8,
    "start_time": "2021-12-20T22:38:27.532Z"
   },
   {
    "duration": 254,
    "start_time": "2021-12-20T22:38:27.542Z"
   },
   {
    "duration": 8,
    "start_time": "2021-12-20T22:38:27.798Z"
   },
   {
    "duration": 6,
    "start_time": "2021-12-20T22:38:27.808Z"
   },
   {
    "duration": 5,
    "start_time": "2021-12-20T22:38:27.815Z"
   },
   {
    "duration": 5,
    "start_time": "2021-12-20T22:38:27.822Z"
   },
   {
    "duration": 3,
    "start_time": "2021-12-20T22:38:27.829Z"
   },
   {
    "duration": 10,
    "start_time": "2021-12-20T22:38:27.861Z"
   },
   {
    "duration": 15,
    "start_time": "2021-12-20T22:38:27.873Z"
   },
   {
    "duration": 9,
    "start_time": "2021-12-20T22:38:27.889Z"
   },
   {
    "duration": 66,
    "start_time": "2021-12-20T22:38:27.900Z"
   },
   {
    "duration": 1415,
    "start_time": "2021-12-20T22:38:27.968Z"
   },
   {
    "duration": 26123,
    "start_time": "2021-12-20T22:38:29.385Z"
   },
   {
    "duration": 166,
    "start_time": "2021-12-20T22:38:55.344Z"
   },
   {
    "duration": 165,
    "start_time": "2021-12-20T22:38:55.346Z"
   },
   {
    "duration": 160,
    "start_time": "2021-12-20T22:38:55.352Z"
   },
   {
    "duration": 4,
    "start_time": "2021-12-20T22:39:08.542Z"
   },
   {
    "duration": 41,
    "start_time": "2021-12-20T22:39:08.548Z"
   },
   {
    "duration": 6,
    "start_time": "2021-12-20T22:39:08.591Z"
   },
   {
    "duration": 5,
    "start_time": "2021-12-20T22:39:08.599Z"
   },
   {
    "duration": 8,
    "start_time": "2021-12-20T22:39:08.605Z"
   },
   {
    "duration": 11,
    "start_time": "2021-12-20T22:39:08.615Z"
   },
   {
    "duration": 37,
    "start_time": "2021-12-20T22:39:08.628Z"
   },
   {
    "duration": 5,
    "start_time": "2021-12-20T22:39:08.667Z"
   },
   {
    "duration": 8,
    "start_time": "2021-12-20T22:39:08.674Z"
   },
   {
    "duration": 456,
    "start_time": "2021-12-20T22:39:08.683Z"
   },
   {
    "duration": 6,
    "start_time": "2021-12-20T22:39:09.141Z"
   },
   {
    "duration": 794,
    "start_time": "2021-12-20T22:39:09.148Z"
   },
   {
    "duration": 236,
    "start_time": "2021-12-20T22:39:09.944Z"
   },
   {
    "duration": 210,
    "start_time": "2021-12-20T22:39:10.182Z"
   },
   {
    "duration": 183,
    "start_time": "2021-12-20T22:39:10.394Z"
   },
   {
    "duration": 197,
    "start_time": "2021-12-20T22:39:10.578Z"
   },
   {
    "duration": 189,
    "start_time": "2021-12-20T22:39:10.777Z"
   },
   {
    "duration": 197,
    "start_time": "2021-12-20T22:39:10.967Z"
   },
   {
    "duration": 207,
    "start_time": "2021-12-20T22:39:11.166Z"
   },
   {
    "duration": 8,
    "start_time": "2021-12-20T22:39:11.374Z"
   },
   {
    "duration": 194,
    "start_time": "2021-12-20T22:39:11.383Z"
   },
   {
    "duration": 187,
    "start_time": "2021-12-20T22:39:11.579Z"
   },
   {
    "duration": 3,
    "start_time": "2021-12-20T22:39:11.767Z"
   },
   {
    "duration": 9,
    "start_time": "2021-12-20T22:39:11.772Z"
   },
   {
    "duration": 7,
    "start_time": "2021-12-20T22:39:11.783Z"
   },
   {
    "duration": 246,
    "start_time": "2021-12-20T22:39:11.792Z"
   },
   {
    "duration": 19,
    "start_time": "2021-12-20T22:39:12.043Z"
   },
   {
    "duration": 8,
    "start_time": "2021-12-20T22:39:12.064Z"
   },
   {
    "duration": 13,
    "start_time": "2021-12-20T22:39:12.074Z"
   },
   {
    "duration": 239,
    "start_time": "2021-12-20T22:39:12.089Z"
   },
   {
    "duration": 8,
    "start_time": "2021-12-20T22:39:12.330Z"
   },
   {
    "duration": 10,
    "start_time": "2021-12-20T22:39:12.339Z"
   },
   {
    "duration": 6,
    "start_time": "2021-12-20T22:39:12.360Z"
   },
   {
    "duration": 8,
    "start_time": "2021-12-20T22:39:12.367Z"
   },
   {
    "duration": 5,
    "start_time": "2021-12-20T22:39:12.377Z"
   },
   {
    "duration": 15,
    "start_time": "2021-12-20T22:39:12.383Z"
   },
   {
    "duration": 15,
    "start_time": "2021-12-20T22:39:12.399Z"
   },
   {
    "duration": 8,
    "start_time": "2021-12-20T22:39:12.416Z"
   },
   {
    "duration": 47,
    "start_time": "2021-12-20T22:39:12.426Z"
   },
   {
    "duration": 1729,
    "start_time": "2021-12-20T22:39:12.562Z"
   },
   {
    "duration": 78993,
    "start_time": "2021-12-20T22:39:14.293Z"
   },
   {
    "duration": 74,
    "start_time": "2021-12-20T22:40:33.288Z"
   },
   {
    "duration": 6,
    "start_time": "2021-12-20T22:40:33.363Z"
   },
   {
    "duration": 9,
    "start_time": "2021-12-20T22:40:33.371Z"
   },
   {
    "duration": 3,
    "start_time": "2021-12-20T22:49:00.330Z"
   },
   {
    "duration": 4,
    "start_time": "2021-12-20T22:53:31.570Z"
   },
   {
    "duration": 4,
    "start_time": "2021-12-20T22:53:33.029Z"
   },
   {
    "duration": 581,
    "start_time": "2021-12-20T22:53:38.595Z"
   },
   {
    "duration": 3,
    "start_time": "2021-12-20T22:56:54.546Z"
   },
   {
    "duration": 36,
    "start_time": "2021-12-20T22:56:54.551Z"
   },
   {
    "duration": 5,
    "start_time": "2021-12-20T22:56:54.589Z"
   },
   {
    "duration": 10,
    "start_time": "2021-12-20T22:56:54.595Z"
   },
   {
    "duration": 11,
    "start_time": "2021-12-20T22:56:54.606Z"
   },
   {
    "duration": 15,
    "start_time": "2021-12-20T22:56:54.618Z"
   },
   {
    "duration": 8,
    "start_time": "2021-12-20T22:56:54.635Z"
   },
   {
    "duration": 5,
    "start_time": "2021-12-20T22:56:54.660Z"
   },
   {
    "duration": 18,
    "start_time": "2021-12-20T22:56:54.669Z"
   },
   {
    "duration": 256,
    "start_time": "2021-12-20T22:56:54.690Z"
   },
   {
    "duration": 14,
    "start_time": "2021-12-20T22:56:54.949Z"
   },
   {
    "duration": 992,
    "start_time": "2021-12-20T22:56:54.965Z"
   },
   {
    "duration": 234,
    "start_time": "2021-12-20T22:56:55.961Z"
   },
   {
    "duration": 207,
    "start_time": "2021-12-20T22:56:56.197Z"
   },
   {
    "duration": 186,
    "start_time": "2021-12-20T22:56:56.406Z"
   },
   {
    "duration": 203,
    "start_time": "2021-12-20T22:56:56.594Z"
   },
   {
    "duration": 193,
    "start_time": "2021-12-20T22:56:56.799Z"
   },
   {
    "duration": 203,
    "start_time": "2021-12-20T22:56:56.994Z"
   },
   {
    "duration": 248,
    "start_time": "2021-12-20T22:56:57.199Z"
   },
   {
    "duration": 15,
    "start_time": "2021-12-20T22:56:57.448Z"
   },
   {
    "duration": 197,
    "start_time": "2021-12-20T22:56:57.465Z"
   },
   {
    "duration": 183,
    "start_time": "2021-12-20T22:56:57.664Z"
   },
   {
    "duration": 12,
    "start_time": "2021-12-20T22:56:57.848Z"
   },
   {
    "duration": 6,
    "start_time": "2021-12-20T22:56:57.862Z"
   },
   {
    "duration": 8,
    "start_time": "2021-12-20T22:56:57.869Z"
   },
   {
    "duration": 244,
    "start_time": "2021-12-20T22:56:57.879Z"
   },
   {
    "duration": 6,
    "start_time": "2021-12-20T22:56:58.127Z"
   },
   {
    "duration": 6,
    "start_time": "2021-12-20T22:56:58.135Z"
   },
   {
    "duration": 21,
    "start_time": "2021-12-20T22:56:58.143Z"
   },
   {
    "duration": 251,
    "start_time": "2021-12-20T22:56:58.166Z"
   },
   {
    "duration": 8,
    "start_time": "2021-12-20T22:56:58.418Z"
   },
   {
    "duration": 10,
    "start_time": "2021-12-20T22:56:58.428Z"
   },
   {
    "duration": 8,
    "start_time": "2021-12-20T22:56:58.440Z"
   },
   {
    "duration": 5,
    "start_time": "2021-12-20T22:56:58.461Z"
   },
   {
    "duration": 5,
    "start_time": "2021-12-20T22:56:58.467Z"
   },
   {
    "duration": 6,
    "start_time": "2021-12-20T22:56:58.473Z"
   },
   {
    "duration": 6,
    "start_time": "2021-12-20T22:56:58.480Z"
   },
   {
    "duration": 676,
    "start_time": "2021-12-20T22:56:58.487Z"
   },
   {
    "duration": 4,
    "start_time": "2021-12-20T22:58:47.852Z"
   },
   {
    "duration": 453,
    "start_time": "2021-12-20T22:58:51.108Z"
   },
   {
    "duration": 4,
    "start_time": "2021-12-20T23:03:09.210Z"
   },
   {
    "duration": 35,
    "start_time": "2021-12-20T23:03:09.216Z"
   },
   {
    "duration": 5,
    "start_time": "2021-12-20T23:03:09.253Z"
   },
   {
    "duration": 4,
    "start_time": "2021-12-20T23:03:09.260Z"
   },
   {
    "duration": 7,
    "start_time": "2021-12-20T23:03:09.265Z"
   },
   {
    "duration": 13,
    "start_time": "2021-12-20T23:03:09.274Z"
   },
   {
    "duration": 7,
    "start_time": "2021-12-20T23:03:09.288Z"
   },
   {
    "duration": 6,
    "start_time": "2021-12-20T23:03:09.297Z"
   },
   {
    "duration": 7,
    "start_time": "2021-12-20T23:03:09.306Z"
   },
   {
    "duration": 286,
    "start_time": "2021-12-20T23:03:09.315Z"
   },
   {
    "duration": 6,
    "start_time": "2021-12-20T23:03:09.602Z"
   },
   {
    "duration": 809,
    "start_time": "2021-12-20T23:03:09.609Z"
   },
   {
    "duration": 223,
    "start_time": "2021-12-20T23:03:10.420Z"
   },
   {
    "duration": 195,
    "start_time": "2021-12-20T23:03:10.645Z"
   },
   {
    "duration": 186,
    "start_time": "2021-12-20T23:03:10.841Z"
   },
   {
    "duration": 195,
    "start_time": "2021-12-20T23:03:11.029Z"
   },
   {
    "duration": 397,
    "start_time": "2021-12-20T23:03:11.226Z"
   },
   {
    "duration": 194,
    "start_time": "2021-12-20T23:03:11.624Z"
   },
   {
    "duration": 219,
    "start_time": "2021-12-20T23:03:11.820Z"
   },
   {
    "duration": 9,
    "start_time": "2021-12-20T23:03:12.041Z"
   },
   {
    "duration": 192,
    "start_time": "2021-12-20T23:03:12.052Z"
   },
   {
    "duration": 190,
    "start_time": "2021-12-20T23:03:12.246Z"
   },
   {
    "duration": 4,
    "start_time": "2021-12-20T23:03:12.438Z"
   },
   {
    "duration": 17,
    "start_time": "2021-12-20T23:03:12.444Z"
   },
   {
    "duration": 7,
    "start_time": "2021-12-20T23:03:12.463Z"
   },
   {
    "duration": 251,
    "start_time": "2021-12-20T23:03:12.472Z"
   },
   {
    "duration": 7,
    "start_time": "2021-12-20T23:03:12.728Z"
   },
   {
    "duration": 23,
    "start_time": "2021-12-20T23:03:12.737Z"
   },
   {
    "duration": 9,
    "start_time": "2021-12-20T23:03:12.762Z"
   },
   {
    "duration": 255,
    "start_time": "2021-12-20T23:03:12.773Z"
   },
   {
    "duration": 10,
    "start_time": "2021-12-20T23:03:13.030Z"
   },
   {
    "duration": 7,
    "start_time": "2021-12-20T23:03:13.041Z"
   },
   {
    "duration": 5,
    "start_time": "2021-12-20T23:03:13.060Z"
   },
   {
    "duration": 7,
    "start_time": "2021-12-20T23:03:13.067Z"
   },
   {
    "duration": 5,
    "start_time": "2021-12-20T23:03:13.075Z"
   },
   {
    "duration": 13,
    "start_time": "2021-12-20T23:03:13.082Z"
   },
   {
    "duration": 15,
    "start_time": "2021-12-20T23:03:13.097Z"
   },
   {
    "duration": 9,
    "start_time": "2021-12-20T23:03:13.113Z"
   },
   {
    "duration": 137,
    "start_time": "2021-12-20T23:03:13.124Z"
   },
   {
    "duration": 1499,
    "start_time": "2021-12-20T23:03:13.264Z"
   },
   {
    "duration": 64099,
    "start_time": "2021-12-20T23:03:14.764Z"
   },
   {
    "duration": 10,
    "start_time": "2021-12-20T23:04:18.865Z"
   },
   {
    "duration": 9,
    "start_time": "2021-12-20T23:04:18.876Z"
   },
   {
    "duration": 18,
    "start_time": "2021-12-20T23:04:18.886Z"
   },
   {
    "duration": 485,
    "start_time": "2021-12-20T23:05:12.676Z"
   },
   {
    "duration": 4,
    "start_time": "2021-12-20T23:06:43.292Z"
   },
   {
    "duration": 18,
    "start_time": "2021-12-20T23:06:43.298Z"
   },
   {
    "duration": 18,
    "start_time": "2021-12-20T23:06:43.318Z"
   },
   {
    "duration": 18,
    "start_time": "2021-12-20T23:06:43.338Z"
   },
   {
    "duration": 12,
    "start_time": "2021-12-20T23:06:43.358Z"
   },
   {
    "duration": 1523,
    "start_time": "2021-12-20T23:06:43.372Z"
   },
   {
    "duration": 64122,
    "start_time": "2021-12-20T23:06:44.897Z"
   },
   {
    "duration": 43,
    "start_time": "2021-12-20T23:07:49.021Z"
   },
   {
    "duration": 5,
    "start_time": "2021-12-20T23:07:49.066Z"
   },
   {
    "duration": 9,
    "start_time": "2021-12-20T23:07:49.073Z"
   },
   {
    "duration": 478,
    "start_time": "2021-12-20T23:07:49.084Z"
   },
   {
    "duration": 4,
    "start_time": "2021-12-20T23:08:34.471Z"
   },
   {
    "duration": 12,
    "start_time": "2021-12-20T23:08:34.477Z"
   },
   {
    "duration": 15,
    "start_time": "2021-12-20T23:08:34.491Z"
   },
   {
    "duration": 13,
    "start_time": "2021-12-20T23:08:34.508Z"
   },
   {
    "duration": 44,
    "start_time": "2021-12-20T23:08:34.522Z"
   },
   {
    "duration": 1700,
    "start_time": "2021-12-20T23:08:34.568Z"
   },
   {
    "duration": 74815,
    "start_time": "2021-12-20T23:08:36.269Z"
   },
   {
    "duration": 10,
    "start_time": "2021-12-20T23:09:51.086Z"
   },
   {
    "duration": 5,
    "start_time": "2021-12-20T23:09:51.098Z"
   },
   {
    "duration": 8,
    "start_time": "2021-12-20T23:09:51.105Z"
   },
   {
    "duration": 456,
    "start_time": "2021-12-20T23:09:51.115Z"
   },
   {
    "duration": 4,
    "start_time": "2021-12-20T23:10:31.548Z"
   },
   {
    "duration": 12,
    "start_time": "2021-12-20T23:10:31.554Z"
   },
   {
    "duration": 15,
    "start_time": "2021-12-20T23:10:31.568Z"
   },
   {
    "duration": 9,
    "start_time": "2021-12-20T23:10:31.585Z"
   },
   {
    "duration": 95,
    "start_time": "2021-12-20T23:10:31.596Z"
   },
   {
    "duration": 2063,
    "start_time": "2021-12-20T23:10:31.767Z"
   },
   {
    "duration": 72961,
    "start_time": "2021-12-20T23:10:33.832Z"
   },
   {
    "duration": 10,
    "start_time": "2021-12-20T23:11:46.796Z"
   },
   {
    "duration": 9,
    "start_time": "2021-12-20T23:11:46.808Z"
   },
   {
    "duration": 53,
    "start_time": "2021-12-20T23:11:46.819Z"
   },
   {
    "duration": 489,
    "start_time": "2021-12-20T23:11:46.874Z"
   },
   {
    "duration": 4,
    "start_time": "2021-12-20T23:12:48.225Z"
   },
   {
    "duration": 14,
    "start_time": "2021-12-20T23:12:48.231Z"
   },
   {
    "duration": 13,
    "start_time": "2021-12-20T23:12:48.248Z"
   },
   {
    "duration": 9,
    "start_time": "2021-12-20T23:12:48.262Z"
   },
   {
    "duration": 8,
    "start_time": "2021-12-20T23:12:48.273Z"
   },
   {
    "duration": 1586,
    "start_time": "2021-12-20T23:12:48.284Z"
   },
   {
    "duration": 22533,
    "start_time": "2021-12-20T23:12:49.872Z"
   },
   {
    "duration": 125,
    "start_time": "2021-12-20T23:13:12.282Z"
   },
   {
    "duration": 122,
    "start_time": "2021-12-20T23:13:12.286Z"
   },
   {
    "duration": 122,
    "start_time": "2021-12-20T23:13:12.288Z"
   },
   {
    "duration": 122,
    "start_time": "2021-12-20T23:13:12.289Z"
   },
   {
    "duration": 4,
    "start_time": "2021-12-20T23:13:16.927Z"
   },
   {
    "duration": 40,
    "start_time": "2021-12-20T23:13:16.933Z"
   },
   {
    "duration": 5,
    "start_time": "2021-12-20T23:13:16.974Z"
   },
   {
    "duration": 4,
    "start_time": "2021-12-20T23:13:16.981Z"
   },
   {
    "duration": 8,
    "start_time": "2021-12-20T23:13:16.987Z"
   },
   {
    "duration": 15,
    "start_time": "2021-12-20T23:13:16.997Z"
   },
   {
    "duration": 7,
    "start_time": "2021-12-20T23:13:17.013Z"
   },
   {
    "duration": 6,
    "start_time": "2021-12-20T23:13:17.022Z"
   },
   {
    "duration": 35,
    "start_time": "2021-12-20T23:13:17.030Z"
   },
   {
    "duration": 262,
    "start_time": "2021-12-20T23:13:17.067Z"
   },
   {
    "duration": 7,
    "start_time": "2021-12-20T23:13:17.331Z"
   },
   {
    "duration": 793,
    "start_time": "2021-12-20T23:13:17.339Z"
   },
   {
    "duration": 228,
    "start_time": "2021-12-20T23:13:18.133Z"
   },
   {
    "duration": 192,
    "start_time": "2021-12-20T23:13:18.362Z"
   },
   {
    "duration": 185,
    "start_time": "2021-12-20T23:13:18.555Z"
   },
   {
    "duration": 201,
    "start_time": "2021-12-20T23:13:18.742Z"
   },
   {
    "duration": 180,
    "start_time": "2021-12-20T23:13:18.945Z"
   },
   {
    "duration": 201,
    "start_time": "2021-12-20T23:13:19.127Z"
   },
   {
    "duration": 209,
    "start_time": "2021-12-20T23:13:19.330Z"
   },
   {
    "duration": 19,
    "start_time": "2021-12-20T23:13:19.541Z"
   },
   {
    "duration": 187,
    "start_time": "2021-12-20T23:13:19.562Z"
   },
   {
    "duration": 189,
    "start_time": "2021-12-20T23:13:19.751Z"
   },
   {
    "duration": 2,
    "start_time": "2021-12-20T23:13:19.945Z"
   },
   {
    "duration": 7,
    "start_time": "2021-12-20T23:13:19.961Z"
   },
   {
    "duration": 8,
    "start_time": "2021-12-20T23:13:19.969Z"
   },
   {
    "duration": 241,
    "start_time": "2021-12-20T23:13:19.979Z"
   },
   {
    "duration": 6,
    "start_time": "2021-12-20T23:13:20.222Z"
   },
   {
    "duration": 7,
    "start_time": "2021-12-20T23:13:20.229Z"
   },
   {
    "duration": 23,
    "start_time": "2021-12-20T23:13:20.237Z"
   },
   {
    "duration": 244,
    "start_time": "2021-12-20T23:13:20.262Z"
   },
   {
    "duration": 9,
    "start_time": "2021-12-20T23:13:20.508Z"
   },
   {
    "duration": 7,
    "start_time": "2021-12-20T23:13:20.519Z"
   },
   {
    "duration": 6,
    "start_time": "2021-12-20T23:13:20.528Z"
   },
   {
    "duration": 28,
    "start_time": "2021-12-20T23:13:20.536Z"
   },
   {
    "duration": 5,
    "start_time": "2021-12-20T23:13:20.566Z"
   },
   {
    "duration": 11,
    "start_time": "2021-12-20T23:13:20.572Z"
   },
   {
    "duration": 15,
    "start_time": "2021-12-20T23:13:20.584Z"
   },
   {
    "duration": 8,
    "start_time": "2021-12-20T23:13:20.601Z"
   },
   {
    "duration": 58,
    "start_time": "2021-12-20T23:13:20.611Z"
   },
   {
    "duration": 1649,
    "start_time": "2021-12-20T23:13:20.671Z"
   },
   {
    "duration": 77869,
    "start_time": "2021-12-20T23:13:22.322Z"
   },
   {
    "duration": 9,
    "start_time": "2021-12-20T23:14:40.193Z"
   },
   {
    "duration": 5,
    "start_time": "2021-12-20T23:14:40.203Z"
   },
   {
    "duration": 11,
    "start_time": "2021-12-20T23:14:40.210Z"
   },
   {
    "duration": 549,
    "start_time": "2021-12-20T23:14:40.223Z"
   },
   {
    "duration": 4,
    "start_time": "2021-12-20T23:16:58.755Z"
   },
   {
    "duration": 10,
    "start_time": "2021-12-20T23:16:58.761Z"
   },
   {
    "duration": 13,
    "start_time": "2021-12-20T23:16:58.773Z"
   },
   {
    "duration": 14,
    "start_time": "2021-12-20T23:16:58.788Z"
   },
   {
    "duration": 10,
    "start_time": "2021-12-20T23:16:58.804Z"
   },
   {
    "duration": 1566,
    "start_time": "2021-12-20T23:16:58.860Z"
   },
   {
    "duration": 81375,
    "start_time": "2021-12-20T23:17:00.428Z"
   },
   {
    "duration": 10,
    "start_time": "2021-12-20T23:18:21.806Z"
   },
   {
    "duration": 6,
    "start_time": "2021-12-20T23:18:21.861Z"
   },
   {
    "duration": 9,
    "start_time": "2021-12-20T23:18:21.869Z"
   },
   {
    "duration": 592,
    "start_time": "2021-12-20T23:18:21.880Z"
   },
   {
    "duration": 4,
    "start_time": "2021-12-20T23:20:16.461Z"
   },
   {
    "duration": 9,
    "start_time": "2021-12-20T23:20:16.467Z"
   },
   {
    "duration": 12,
    "start_time": "2021-12-20T23:20:16.478Z"
   },
   {
    "duration": 8,
    "start_time": "2021-12-20T23:20:16.492Z"
   },
   {
    "duration": 64,
    "start_time": "2021-12-20T23:20:16.501Z"
   },
   {
    "duration": 1549,
    "start_time": "2021-12-20T23:20:16.567Z"
   },
   {
    "duration": 82360,
    "start_time": "2021-12-20T23:20:18.117Z"
   },
   {
    "duration": 8,
    "start_time": "2021-12-20T23:21:40.479Z"
   },
   {
    "duration": 5,
    "start_time": "2021-12-20T23:21:40.489Z"
   },
   {
    "duration": 7,
    "start_time": "2021-12-20T23:21:40.495Z"
   },
   {
    "duration": 571,
    "start_time": "2021-12-20T23:21:40.504Z"
   },
   {
    "duration": 4,
    "start_time": "2021-12-20T23:22:59.413Z"
   },
   {
    "duration": 12,
    "start_time": "2021-12-20T23:22:59.419Z"
   },
   {
    "duration": 13,
    "start_time": "2021-12-20T23:22:59.434Z"
   },
   {
    "duration": 11,
    "start_time": "2021-12-20T23:22:59.449Z"
   },
   {
    "duration": 15,
    "start_time": "2021-12-20T23:22:59.462Z"
   },
   {
    "duration": 2422,
    "start_time": "2021-12-20T23:22:59.561Z"
   },
   {
    "duration": 86596,
    "start_time": "2021-12-20T23:23:01.985Z"
   },
   {
    "duration": 10,
    "start_time": "2021-12-20T23:24:28.582Z"
   },
   {
    "duration": 5,
    "start_time": "2021-12-20T23:24:28.594Z"
   },
   {
    "duration": 9,
    "start_time": "2021-12-20T23:24:28.601Z"
   },
   {
    "duration": 749,
    "start_time": "2021-12-20T23:24:28.612Z"
   },
   {
    "duration": 4,
    "start_time": "2021-12-20T23:31:22.148Z"
   },
   {
    "duration": 35,
    "start_time": "2021-12-20T23:31:22.153Z"
   },
   {
    "duration": 6,
    "start_time": "2021-12-20T23:31:22.190Z"
   },
   {
    "duration": 3,
    "start_time": "2021-12-20T23:31:22.197Z"
   },
   {
    "duration": 7,
    "start_time": "2021-12-20T23:31:22.202Z"
   },
   {
    "duration": 12,
    "start_time": "2021-12-20T23:31:22.211Z"
   },
   {
    "duration": 6,
    "start_time": "2021-12-20T23:31:22.225Z"
   },
   {
    "duration": 5,
    "start_time": "2021-12-20T23:31:22.261Z"
   },
   {
    "duration": 7,
    "start_time": "2021-12-20T23:31:22.269Z"
   },
   {
    "duration": 471,
    "start_time": "2021-12-20T23:31:22.278Z"
   },
   {
    "duration": 12,
    "start_time": "2021-12-20T23:31:22.752Z"
   },
   {
    "duration": 778,
    "start_time": "2021-12-20T23:31:22.765Z"
   },
   {
    "duration": 241,
    "start_time": "2021-12-20T23:31:23.545Z"
   },
   {
    "duration": 197,
    "start_time": "2021-12-20T23:31:23.788Z"
   },
   {
    "duration": 182,
    "start_time": "2021-12-20T23:31:23.987Z"
   },
   {
    "duration": 198,
    "start_time": "2021-12-20T23:31:24.171Z"
   },
   {
    "duration": 185,
    "start_time": "2021-12-20T23:31:24.371Z"
   },
   {
    "duration": 205,
    "start_time": "2021-12-20T23:31:24.558Z"
   },
   {
    "duration": 210,
    "start_time": "2021-12-20T23:31:24.764Z"
   },
   {
    "duration": 9,
    "start_time": "2021-12-20T23:31:24.975Z"
   },
   {
    "duration": 197,
    "start_time": "2021-12-20T23:31:24.986Z"
   },
   {
    "duration": 172,
    "start_time": "2021-12-20T23:31:25.184Z"
   },
   {
    "duration": 3,
    "start_time": "2021-12-20T23:31:25.358Z"
   },
   {
    "duration": 10,
    "start_time": "2021-12-20T23:31:25.362Z"
   },
   {
    "duration": 6,
    "start_time": "2021-12-20T23:31:25.374Z"
   },
   {
    "duration": 238,
    "start_time": "2021-12-20T23:31:25.382Z"
   },
   {
    "duration": 7,
    "start_time": "2021-12-20T23:31:25.624Z"
   },
   {
    "duration": 6,
    "start_time": "2021-12-20T23:31:25.633Z"
   },
   {
    "duration": 22,
    "start_time": "2021-12-20T23:31:25.640Z"
   },
   {
    "duration": 252,
    "start_time": "2021-12-20T23:31:25.664Z"
   },
   {
    "duration": 8,
    "start_time": "2021-12-20T23:31:25.917Z"
   },
   {
    "duration": 5,
    "start_time": "2021-12-20T23:31:25.926Z"
   },
   {
    "duration": 6,
    "start_time": "2021-12-20T23:31:25.932Z"
   },
   {
    "duration": 23,
    "start_time": "2021-12-20T23:31:25.940Z"
   },
   {
    "duration": 7,
    "start_time": "2021-12-20T23:31:25.965Z"
   },
   {
    "duration": 13,
    "start_time": "2021-12-20T23:31:25.973Z"
   },
   {
    "duration": 14,
    "start_time": "2021-12-20T23:31:25.987Z"
   },
   {
    "duration": 9,
    "start_time": "2021-12-20T23:31:26.002Z"
   },
   {
    "duration": 55,
    "start_time": "2021-12-20T23:31:26.012Z"
   },
   {
    "duration": 333,
    "start_time": "2021-12-20T23:31:26.068Z"
   },
   {
    "duration": -811,
    "start_time": "2021-12-20T23:31:27.214Z"
   },
   {
    "duration": -812,
    "start_time": "2021-12-20T23:31:27.216Z"
   },
   {
    "duration": -812,
    "start_time": "2021-12-20T23:31:27.217Z"
   },
   {
    "duration": -828,
    "start_time": "2021-12-20T23:31:27.235Z"
   },
   {
    "duration": -830,
    "start_time": "2021-12-20T23:31:27.238Z"
   },
   {
    "duration": -831,
    "start_time": "2021-12-20T23:31:27.240Z"
   },
   {
    "duration": -832,
    "start_time": "2021-12-20T23:31:27.242Z"
   },
   {
    "duration": 23,
    "start_time": "2021-12-20T23:32:58.244Z"
   },
   {
    "duration": 143,
    "start_time": "2021-12-20T23:33:10.020Z"
   },
   {
    "duration": 1416,
    "start_time": "2021-12-20T23:33:10.164Z"
   },
   {
    "duration": 86367,
    "start_time": "2021-12-20T23:33:11.582Z"
   },
   {
    "duration": 18,
    "start_time": "2021-12-20T23:34:37.952Z"
   },
   {
    "duration": 5,
    "start_time": "2021-12-20T23:34:37.972Z"
   },
   {
    "duration": 9,
    "start_time": "2021-12-20T23:34:37.978Z"
   },
   {
    "duration": 8,
    "start_time": "2021-12-20T23:34:37.989Z"
   },
   {
    "duration": 578,
    "start_time": "2021-12-20T23:34:38.000Z"
   },
   {
    "duration": 4,
    "start_time": "2021-12-20T23:38:20.164Z"
   },
   {
    "duration": 8,
    "start_time": "2021-12-20T23:38:20.170Z"
   },
   {
    "duration": 12,
    "start_time": "2021-12-20T23:38:20.181Z"
   },
   {
    "duration": 10,
    "start_time": "2021-12-20T23:38:20.195Z"
   },
   {
    "duration": 10,
    "start_time": "2021-12-20T23:38:20.206Z"
   },
   {
    "duration": 52,
    "start_time": "2021-12-20T23:38:20.217Z"
   },
   {
    "duration": 234,
    "start_time": "2021-12-20T23:38:20.365Z"
   },
   {
    "duration": 1163,
    "start_time": "2021-12-20T23:38:20.601Z"
   },
   {
    "duration": 4,
    "start_time": "2021-12-20T23:38:21.767Z"
   },
   {
    "duration": 7,
    "start_time": "2021-12-20T23:38:21.773Z"
   },
   {
    "duration": 8,
    "start_time": "2021-12-20T23:38:21.782Z"
   },
   {
    "duration": 7,
    "start_time": "2021-12-20T23:38:21.792Z"
   },
   {
    "duration": 659,
    "start_time": "2021-12-20T23:38:21.801Z"
   },
   {
    "duration": 4,
    "start_time": "2021-12-20T23:38:53.264Z"
   },
   {
    "duration": 9,
    "start_time": "2021-12-20T23:38:53.269Z"
   },
   {
    "duration": 11,
    "start_time": "2021-12-20T23:38:53.280Z"
   },
   {
    "duration": 8,
    "start_time": "2021-12-20T23:38:53.293Z"
   },
   {
    "duration": 8,
    "start_time": "2021-12-20T23:38:53.303Z"
   },
   {
    "duration": 52,
    "start_time": "2021-12-20T23:38:53.312Z"
   },
   {
    "duration": 240,
    "start_time": "2021-12-20T23:38:53.367Z"
   },
   {
    "duration": 1195,
    "start_time": "2021-12-20T23:38:53.609Z"
   },
   {
    "duration": 4,
    "start_time": "2021-12-20T23:38:54.807Z"
   },
   {
    "duration": 8,
    "start_time": "2021-12-20T23:38:54.813Z"
   },
   {
    "duration": 8,
    "start_time": "2021-12-20T23:38:54.823Z"
   },
   {
    "duration": 6,
    "start_time": "2021-12-20T23:38:54.833Z"
   },
   {
    "duration": 539,
    "start_time": "2021-12-20T23:38:54.841Z"
   },
   {
    "duration": 4,
    "start_time": "2021-12-20T23:39:15.536Z"
   },
   {
    "duration": 10,
    "start_time": "2021-12-20T23:39:15.542Z"
   },
   {
    "duration": 12,
    "start_time": "2021-12-20T23:39:15.554Z"
   },
   {
    "duration": 9,
    "start_time": "2021-12-20T23:39:15.568Z"
   },
   {
    "duration": 8,
    "start_time": "2021-12-20T23:39:15.579Z"
   },
   {
    "duration": 72,
    "start_time": "2021-12-20T23:39:15.589Z"
   },
   {
    "duration": 241,
    "start_time": "2021-12-20T23:39:15.664Z"
   },
   {
    "duration": 2763,
    "start_time": "2021-12-20T23:39:15.907Z"
   },
   {
    "duration": 3,
    "start_time": "2021-12-20T23:39:18.673Z"
   },
   {
    "duration": 10,
    "start_time": "2021-12-20T23:39:18.678Z"
   },
   {
    "duration": 8,
    "start_time": "2021-12-20T23:39:18.689Z"
   },
   {
    "duration": 6,
    "start_time": "2021-12-20T23:39:18.698Z"
   },
   {
    "duration": 566,
    "start_time": "2021-12-20T23:39:18.705Z"
   },
   {
    "duration": 5,
    "start_time": "2021-12-20T23:39:37.664Z"
   },
   {
    "duration": 10,
    "start_time": "2021-12-20T23:39:37.671Z"
   },
   {
    "duration": 12,
    "start_time": "2021-12-20T23:39:37.684Z"
   },
   {
    "duration": 9,
    "start_time": "2021-12-20T23:39:37.698Z"
   },
   {
    "duration": 9,
    "start_time": "2021-12-20T23:39:37.709Z"
   },
   {
    "duration": 47,
    "start_time": "2021-12-20T23:39:37.719Z"
   },
   {
    "duration": 240,
    "start_time": "2021-12-20T23:39:37.768Z"
   },
   {
    "duration": 1253,
    "start_time": "2021-12-20T23:39:38.010Z"
   },
   {
    "duration": 3,
    "start_time": "2021-12-20T23:39:39.266Z"
   },
   {
    "duration": 7,
    "start_time": "2021-12-20T23:39:39.271Z"
   },
   {
    "duration": 8,
    "start_time": "2021-12-20T23:39:39.279Z"
   },
   {
    "duration": 6,
    "start_time": "2021-12-20T23:39:39.289Z"
   },
   {
    "duration": 581,
    "start_time": "2021-12-20T23:39:39.296Z"
   },
   {
    "duration": 4,
    "start_time": "2021-12-20T23:39:53.677Z"
   },
   {
    "duration": 22,
    "start_time": "2021-12-20T23:39:53.684Z"
   },
   {
    "duration": 22,
    "start_time": "2021-12-20T23:39:53.709Z"
   },
   {
    "duration": 26,
    "start_time": "2021-12-20T23:39:53.733Z"
   },
   {
    "duration": 31,
    "start_time": "2021-12-20T23:39:53.760Z"
   },
   {
    "duration": 23,
    "start_time": "2021-12-20T23:39:53.793Z"
   },
   {
    "duration": 283,
    "start_time": "2021-12-20T23:39:53.818Z"
   },
   {
    "duration": 1213,
    "start_time": "2021-12-20T23:39:54.103Z"
   },
   {
    "duration": 4,
    "start_time": "2021-12-20T23:39:55.318Z"
   },
   {
    "duration": 12,
    "start_time": "2021-12-20T23:39:55.323Z"
   },
   {
    "duration": 7,
    "start_time": "2021-12-20T23:39:55.336Z"
   },
   {
    "duration": 5,
    "start_time": "2021-12-20T23:39:55.345Z"
   },
   {
    "duration": 526,
    "start_time": "2021-12-20T23:39:55.352Z"
   },
   {
    "duration": 4,
    "start_time": "2021-12-20T23:40:08.872Z"
   },
   {
    "duration": 14,
    "start_time": "2021-12-20T23:40:08.877Z"
   },
   {
    "duration": 11,
    "start_time": "2021-12-20T23:40:08.893Z"
   },
   {
    "duration": 8,
    "start_time": "2021-12-20T23:40:08.906Z"
   },
   {
    "duration": 7,
    "start_time": "2021-12-20T23:40:08.916Z"
   },
   {
    "duration": 139,
    "start_time": "2021-12-20T23:40:08.925Z"
   },
   {
    "duration": 206,
    "start_time": "2021-12-20T23:40:09.066Z"
   },
   {
    "duration": 1198,
    "start_time": "2021-12-20T23:40:09.274Z"
   },
   {
    "duration": 3,
    "start_time": "2021-12-20T23:40:10.474Z"
   },
   {
    "duration": 12,
    "start_time": "2021-12-20T23:40:10.479Z"
   },
   {
    "duration": 8,
    "start_time": "2021-12-20T23:40:10.493Z"
   },
   {
    "duration": 9,
    "start_time": "2021-12-20T23:40:10.503Z"
   },
   {
    "duration": 648,
    "start_time": "2021-12-20T23:40:10.513Z"
   },
   {
    "duration": 4,
    "start_time": "2021-12-20T23:40:39.778Z"
   },
   {
    "duration": 11,
    "start_time": "2021-12-20T23:40:39.784Z"
   },
   {
    "duration": 17,
    "start_time": "2021-12-20T23:40:39.797Z"
   },
   {
    "duration": 10,
    "start_time": "2021-12-20T23:40:39.815Z"
   },
   {
    "duration": 9,
    "start_time": "2021-12-20T23:40:39.827Z"
   },
   {
    "duration": 32,
    "start_time": "2021-12-20T23:40:39.837Z"
   },
   {
    "duration": 337,
    "start_time": "2021-12-20T23:40:39.872Z"
   },
   {
    "duration": 1178,
    "start_time": "2021-12-20T23:40:40.210Z"
   },
   {
    "duration": 3,
    "start_time": "2021-12-20T23:40:41.391Z"
   },
   {
    "duration": 7,
    "start_time": "2021-12-20T23:40:41.396Z"
   },
   {
    "duration": 7,
    "start_time": "2021-12-20T23:40:41.405Z"
   },
   {
    "duration": 6,
    "start_time": "2021-12-20T23:40:41.413Z"
   },
   {
    "duration": 246,
    "start_time": "2021-12-20T23:40:41.421Z"
   },
   {
    "duration": 3,
    "start_time": "2021-12-20T23:41:35.864Z"
   },
   {
    "duration": 36,
    "start_time": "2021-12-20T23:41:35.869Z"
   },
   {
    "duration": 6,
    "start_time": "2021-12-20T23:41:35.907Z"
   },
   {
    "duration": 5,
    "start_time": "2021-12-20T23:41:35.914Z"
   },
   {
    "duration": 8,
    "start_time": "2021-12-20T23:41:35.921Z"
   },
   {
    "duration": 40,
    "start_time": "2021-12-20T23:41:35.930Z"
   },
   {
    "duration": 7,
    "start_time": "2021-12-20T23:41:35.971Z"
   },
   {
    "duration": 9,
    "start_time": "2021-12-20T23:41:35.980Z"
   },
   {
    "duration": 7,
    "start_time": "2021-12-20T23:41:35.991Z"
   },
   {
    "duration": 279,
    "start_time": "2021-12-20T23:41:36.000Z"
   },
   {
    "duration": 6,
    "start_time": "2021-12-20T23:41:36.280Z"
   },
   {
    "duration": 995,
    "start_time": "2021-12-20T23:41:36.287Z"
   },
   {
    "duration": 226,
    "start_time": "2021-12-20T23:41:37.284Z"
   },
   {
    "duration": 193,
    "start_time": "2021-12-20T23:41:37.511Z"
   },
   {
    "duration": 185,
    "start_time": "2021-12-20T23:41:37.706Z"
   },
   {
    "duration": 191,
    "start_time": "2021-12-20T23:41:37.892Z"
   },
   {
    "duration": 179,
    "start_time": "2021-12-20T23:41:38.084Z"
   },
   {
    "duration": 200,
    "start_time": "2021-12-20T23:41:38.265Z"
   },
   {
    "duration": 204,
    "start_time": "2021-12-20T23:41:38.467Z"
   },
   {
    "duration": 9,
    "start_time": "2021-12-20T23:41:38.673Z"
   },
   {
    "duration": 196,
    "start_time": "2021-12-20T23:41:38.684Z"
   },
   {
    "duration": 175,
    "start_time": "2021-12-20T23:41:38.882Z"
   },
   {
    "duration": 2,
    "start_time": "2021-12-20T23:41:39.061Z"
   },
   {
    "duration": 9,
    "start_time": "2021-12-20T23:41:39.065Z"
   },
   {
    "duration": 7,
    "start_time": "2021-12-20T23:41:39.075Z"
   },
   {
    "duration": 247,
    "start_time": "2021-12-20T23:41:39.084Z"
   },
   {
    "duration": 7,
    "start_time": "2021-12-20T23:41:39.336Z"
   },
   {
    "duration": 15,
    "start_time": "2021-12-20T23:41:39.345Z"
   },
   {
    "duration": 11,
    "start_time": "2021-12-20T23:41:39.362Z"
   },
   {
    "duration": 244,
    "start_time": "2021-12-20T23:41:39.374Z"
   },
   {
    "duration": 9,
    "start_time": "2021-12-20T23:41:39.619Z"
   },
   {
    "duration": 6,
    "start_time": "2021-12-20T23:41:39.630Z"
   },
   {
    "duration": 25,
    "start_time": "2021-12-20T23:41:39.637Z"
   },
   {
    "duration": 6,
    "start_time": "2021-12-20T23:41:39.664Z"
   },
   {
    "duration": 4,
    "start_time": "2021-12-20T23:41:39.672Z"
   },
   {
    "duration": 13,
    "start_time": "2021-12-20T23:41:39.678Z"
   },
   {
    "duration": 13,
    "start_time": "2021-12-20T23:41:39.692Z"
   },
   {
    "duration": 10,
    "start_time": "2021-12-20T23:41:39.706Z"
   },
   {
    "duration": 8,
    "start_time": "2021-12-20T23:41:39.717Z"
   },
   {
    "duration": 46,
    "start_time": "2021-12-20T23:41:39.727Z"
   },
   {
    "duration": 329,
    "start_time": "2021-12-20T23:41:39.775Z"
   },
   {
    "duration": 1166,
    "start_time": "2021-12-20T23:41:40.105Z"
   },
   {
    "duration": 3,
    "start_time": "2021-12-20T23:41:41.273Z"
   },
   {
    "duration": 12,
    "start_time": "2021-12-20T23:41:41.278Z"
   },
   {
    "duration": 8,
    "start_time": "2021-12-20T23:41:41.292Z"
   },
   {
    "duration": 10,
    "start_time": "2021-12-20T23:41:41.301Z"
   },
   {
    "duration": 239,
    "start_time": "2021-12-20T23:41:41.313Z"
   },
   {
    "duration": 4,
    "start_time": "2021-12-20T23:42:44.575Z"
   },
   {
    "duration": 10,
    "start_time": "2021-12-20T23:42:44.581Z"
   },
   {
    "duration": 12,
    "start_time": "2021-12-20T23:42:44.593Z"
   },
   {
    "duration": 9,
    "start_time": "2021-12-20T23:42:44.607Z"
   },
   {
    "duration": 8,
    "start_time": "2021-12-20T23:42:44.618Z"
   },
   {
    "duration": 35,
    "start_time": "2021-12-20T23:42:44.627Z"
   },
   {
    "duration": 266,
    "start_time": "2021-12-20T23:42:44.664Z"
   },
   {
    "duration": 1355,
    "start_time": "2021-12-20T23:42:44.932Z"
   },
   {
    "duration": 3,
    "start_time": "2021-12-20T23:42:46.290Z"
   },
   {
    "duration": 7,
    "start_time": "2021-12-20T23:42:46.295Z"
   },
   {
    "duration": 7,
    "start_time": "2021-12-20T23:42:46.304Z"
   },
   {
    "duration": 6,
    "start_time": "2021-12-20T23:42:46.313Z"
   },
   {
    "duration": 250,
    "start_time": "2021-12-20T23:42:46.320Z"
   },
   {
    "duration": 4,
    "start_time": "2021-12-20T23:43:12.827Z"
   },
   {
    "duration": 42,
    "start_time": "2021-12-20T23:43:12.833Z"
   },
   {
    "duration": 5,
    "start_time": "2021-12-20T23:43:12.877Z"
   },
   {
    "duration": 3,
    "start_time": "2021-12-20T23:43:12.884Z"
   },
   {
    "duration": 8,
    "start_time": "2021-12-20T23:43:12.889Z"
   },
   {
    "duration": 14,
    "start_time": "2021-12-20T23:43:12.898Z"
   },
   {
    "duration": 7,
    "start_time": "2021-12-20T23:43:12.914Z"
   },
   {
    "duration": 40,
    "start_time": "2021-12-20T23:43:12.922Z"
   },
   {
    "duration": 8,
    "start_time": "2021-12-20T23:43:12.964Z"
   },
   {
    "duration": 267,
    "start_time": "2021-12-20T23:43:12.974Z"
   },
   {
    "duration": 6,
    "start_time": "2021-12-20T23:43:13.243Z"
   },
   {
    "duration": 774,
    "start_time": "2021-12-20T23:43:13.260Z"
   },
   {
    "duration": 228,
    "start_time": "2021-12-20T23:43:14.035Z"
   },
   {
    "duration": 198,
    "start_time": "2021-12-20T23:43:14.264Z"
   },
   {
    "duration": 189,
    "start_time": "2021-12-20T23:43:14.464Z"
   },
   {
    "duration": 192,
    "start_time": "2021-12-20T23:43:14.654Z"
   },
   {
    "duration": 194,
    "start_time": "2021-12-20T23:43:14.848Z"
   },
   {
    "duration": 191,
    "start_time": "2021-12-20T23:43:15.043Z"
   },
   {
    "duration": 440,
    "start_time": "2021-12-20T23:43:15.236Z"
   },
   {
    "duration": 9,
    "start_time": "2021-12-20T23:43:15.678Z"
   },
   {
    "duration": 192,
    "start_time": "2021-12-20T23:43:15.689Z"
   },
   {
    "duration": 179,
    "start_time": "2021-12-20T23:43:15.883Z"
   },
   {
    "duration": 3,
    "start_time": "2021-12-20T23:43:16.065Z"
   },
   {
    "duration": 9,
    "start_time": "2021-12-20T23:43:16.070Z"
   },
   {
    "duration": 9,
    "start_time": "2021-12-20T23:43:16.081Z"
   },
   {
    "duration": 247,
    "start_time": "2021-12-20T23:43:16.092Z"
   },
   {
    "duration": 16,
    "start_time": "2021-12-20T23:43:16.344Z"
   },
   {
    "duration": 4,
    "start_time": "2021-12-20T23:43:16.363Z"
   },
   {
    "duration": 8,
    "start_time": "2021-12-20T23:43:16.369Z"
   },
   {
    "duration": 258,
    "start_time": "2021-12-20T23:43:16.379Z"
   },
   {
    "duration": 10,
    "start_time": "2021-12-20T23:43:16.639Z"
   },
   {
    "duration": 5,
    "start_time": "2021-12-20T23:43:16.661Z"
   },
   {
    "duration": 8,
    "start_time": "2021-12-20T23:43:16.668Z"
   },
   {
    "duration": 8,
    "start_time": "2021-12-20T23:43:16.678Z"
   },
   {
    "duration": 5,
    "start_time": "2021-12-20T23:43:16.687Z"
   },
   {
    "duration": 12,
    "start_time": "2021-12-20T23:43:16.694Z"
   },
   {
    "duration": 13,
    "start_time": "2021-12-20T23:43:16.708Z"
   },
   {
    "duration": 46,
    "start_time": "2021-12-20T23:43:16.722Z"
   },
   {
    "duration": 9,
    "start_time": "2021-12-20T23:43:16.770Z"
   },
   {
    "duration": 84,
    "start_time": "2021-12-20T23:43:16.781Z"
   },
   {
    "duration": 231,
    "start_time": "2021-12-20T23:43:16.868Z"
   },
   {
    "duration": 1590,
    "start_time": "2021-12-20T23:43:17.101Z"
   },
   {
    "duration": 3,
    "start_time": "2021-12-20T23:43:18.693Z"
   },
   {
    "duration": 8,
    "start_time": "2021-12-20T23:43:18.697Z"
   },
   {
    "duration": 7,
    "start_time": "2021-12-20T23:43:18.707Z"
   },
   {
    "duration": 7,
    "start_time": "2021-12-20T23:43:18.715Z"
   },
   {
    "duration": 650,
    "start_time": "2021-12-20T23:43:18.724Z"
   },
   {
    "duration": 3,
    "start_time": "2021-12-20T23:43:40.314Z"
   },
   {
    "duration": 39,
    "start_time": "2021-12-20T23:43:40.319Z"
   },
   {
    "duration": 5,
    "start_time": "2021-12-20T23:43:40.360Z"
   },
   {
    "duration": 4,
    "start_time": "2021-12-20T23:43:40.367Z"
   },
   {
    "duration": 8,
    "start_time": "2021-12-20T23:43:40.373Z"
   },
   {
    "duration": 13,
    "start_time": "2021-12-20T23:43:40.382Z"
   },
   {
    "duration": 7,
    "start_time": "2021-12-20T23:43:40.397Z"
   },
   {
    "duration": 5,
    "start_time": "2021-12-20T23:43:40.406Z"
   },
   {
    "duration": 51,
    "start_time": "2021-12-20T23:43:40.413Z"
   },
   {
    "duration": 266,
    "start_time": "2021-12-20T23:43:40.466Z"
   },
   {
    "duration": 5,
    "start_time": "2021-12-20T23:43:40.734Z"
   },
   {
    "duration": 804,
    "start_time": "2021-12-20T23:43:40.741Z"
   },
   {
    "duration": 235,
    "start_time": "2021-12-20T23:43:41.547Z"
   },
   {
    "duration": 202,
    "start_time": "2021-12-20T23:43:41.784Z"
   },
   {
    "duration": 184,
    "start_time": "2021-12-20T23:43:41.988Z"
   },
   {
    "duration": 197,
    "start_time": "2021-12-20T23:43:42.174Z"
   },
   {
    "duration": 190,
    "start_time": "2021-12-20T23:43:42.373Z"
   },
   {
    "duration": 200,
    "start_time": "2021-12-20T23:43:42.565Z"
   },
   {
    "duration": 206,
    "start_time": "2021-12-20T23:43:42.767Z"
   },
   {
    "duration": 8,
    "start_time": "2021-12-20T23:43:42.975Z"
   },
   {
    "duration": 194,
    "start_time": "2021-12-20T23:43:42.985Z"
   },
   {
    "duration": 179,
    "start_time": "2021-12-20T23:43:43.181Z"
   },
   {
    "duration": 3,
    "start_time": "2021-12-20T23:43:43.364Z"
   },
   {
    "duration": 9,
    "start_time": "2021-12-20T23:43:43.369Z"
   },
   {
    "duration": 7,
    "start_time": "2021-12-20T23:43:43.380Z"
   },
   {
    "duration": 247,
    "start_time": "2021-12-20T23:43:43.389Z"
   },
   {
    "duration": 6,
    "start_time": "2021-12-20T23:43:43.638Z"
   },
   {
    "duration": 15,
    "start_time": "2021-12-20T23:43:43.646Z"
   },
   {
    "duration": 9,
    "start_time": "2021-12-20T23:43:43.662Z"
   },
   {
    "duration": 244,
    "start_time": "2021-12-20T23:43:43.673Z"
   },
   {
    "duration": 8,
    "start_time": "2021-12-20T23:43:43.919Z"
   },
   {
    "duration": 8,
    "start_time": "2021-12-20T23:43:43.929Z"
   },
   {
    "duration": 22,
    "start_time": "2021-12-20T23:43:43.938Z"
   },
   {
    "duration": 4,
    "start_time": "2021-12-20T23:43:43.962Z"
   },
   {
    "duration": 4,
    "start_time": "2021-12-20T23:43:43.968Z"
   },
   {
    "duration": 13,
    "start_time": "2021-12-20T23:43:43.974Z"
   },
   {
    "duration": 15,
    "start_time": "2021-12-20T23:43:43.988Z"
   },
   {
    "duration": 9,
    "start_time": "2021-12-20T23:43:44.005Z"
   },
   {
    "duration": 9,
    "start_time": "2021-12-20T23:43:44.016Z"
   },
   {
    "duration": 135,
    "start_time": "2021-12-20T23:43:44.026Z"
   },
   {
    "duration": 272,
    "start_time": "2021-12-20T23:43:44.164Z"
   },
   {
    "duration": 1310,
    "start_time": "2021-12-20T23:43:44.438Z"
   },
   {
    "duration": 3,
    "start_time": "2021-12-20T23:43:45.750Z"
   },
   {
    "duration": 8,
    "start_time": "2021-12-20T23:43:45.755Z"
   },
   {
    "duration": 7,
    "start_time": "2021-12-20T23:43:45.764Z"
   },
   {
    "duration": 5,
    "start_time": "2021-12-20T23:43:45.773Z"
   },
   {
    "duration": 228,
    "start_time": "2021-12-20T23:43:45.780Z"
   },
   {
    "duration": 5,
    "start_time": "2021-12-20T23:44:14.537Z"
   },
   {
    "duration": 13,
    "start_time": "2021-12-20T23:44:14.544Z"
   },
   {
    "duration": 13,
    "start_time": "2021-12-20T23:44:14.559Z"
   },
   {
    "duration": 10,
    "start_time": "2021-12-20T23:44:14.574Z"
   },
   {
    "duration": 8,
    "start_time": "2021-12-20T23:44:14.586Z"
   },
   {
    "duration": 70,
    "start_time": "2021-12-20T23:44:14.595Z"
   },
   {
    "duration": 263,
    "start_time": "2021-12-20T23:44:14.668Z"
   },
   {
    "duration": 1262,
    "start_time": "2021-12-20T23:44:14.933Z"
   },
   {
    "duration": 4,
    "start_time": "2021-12-20T23:44:16.198Z"
   },
   {
    "duration": 11,
    "start_time": "2021-12-20T23:44:16.204Z"
   },
   {
    "duration": 7,
    "start_time": "2021-12-20T23:44:16.217Z"
   },
   {
    "duration": 7,
    "start_time": "2021-12-20T23:44:16.226Z"
   },
   {
    "duration": 249,
    "start_time": "2021-12-20T23:44:16.235Z"
   },
   {
    "duration": 4,
    "start_time": "2021-12-20T23:45:41.699Z"
   },
   {
    "duration": 35,
    "start_time": "2021-12-20T23:45:41.705Z"
   },
   {
    "duration": 5,
    "start_time": "2021-12-20T23:45:41.742Z"
   },
   {
    "duration": 5,
    "start_time": "2021-12-20T23:45:41.749Z"
   },
   {
    "duration": 11,
    "start_time": "2021-12-20T23:45:41.756Z"
   },
   {
    "duration": 13,
    "start_time": "2021-12-20T23:45:41.769Z"
   },
   {
    "duration": 8,
    "start_time": "2021-12-20T23:45:41.783Z"
   },
   {
    "duration": 7,
    "start_time": "2021-12-20T23:45:41.793Z"
   },
   {
    "duration": 11,
    "start_time": "2021-12-20T23:45:41.802Z"
   },
   {
    "duration": 279,
    "start_time": "2021-12-20T23:45:41.814Z"
   },
   {
    "duration": 5,
    "start_time": "2021-12-20T23:45:42.095Z"
   },
   {
    "duration": 1011,
    "start_time": "2021-12-20T23:45:42.102Z"
   },
   {
    "duration": 225,
    "start_time": "2021-12-20T23:45:43.114Z"
   },
   {
    "duration": 205,
    "start_time": "2021-12-20T23:45:43.340Z"
   },
   {
    "duration": 184,
    "start_time": "2021-12-20T23:45:43.546Z"
   },
   {
    "duration": 194,
    "start_time": "2021-12-20T23:45:43.732Z"
   },
   {
    "duration": 188,
    "start_time": "2021-12-20T23:45:43.928Z"
   },
   {
    "duration": 202,
    "start_time": "2021-12-20T23:45:44.117Z"
   },
   {
    "duration": 214,
    "start_time": "2021-12-20T23:45:44.321Z"
   },
   {
    "duration": 9,
    "start_time": "2021-12-20T23:45:44.536Z"
   },
   {
    "duration": 203,
    "start_time": "2021-12-20T23:45:44.547Z"
   },
   {
    "duration": 182,
    "start_time": "2021-12-20T23:45:44.751Z"
   },
   {
    "duration": 3,
    "start_time": "2021-12-20T23:45:44.937Z"
   },
   {
    "duration": 22,
    "start_time": "2021-12-20T23:45:44.943Z"
   },
   {
    "duration": 8,
    "start_time": "2021-12-20T23:45:44.966Z"
   },
   {
    "duration": 255,
    "start_time": "2021-12-20T23:45:44.975Z"
   },
   {
    "duration": 7,
    "start_time": "2021-12-20T23:45:45.232Z"
   },
   {
    "duration": 22,
    "start_time": "2021-12-20T23:45:45.241Z"
   },
   {
    "duration": 7,
    "start_time": "2021-12-20T23:45:45.265Z"
   },
   {
    "duration": 259,
    "start_time": "2021-12-20T23:45:45.274Z"
   },
   {
    "duration": 8,
    "start_time": "2021-12-20T23:45:45.534Z"
   },
   {
    "duration": 6,
    "start_time": "2021-12-20T23:45:45.544Z"
   },
   {
    "duration": 5,
    "start_time": "2021-12-20T23:45:45.561Z"
   },
   {
    "duration": 8,
    "start_time": "2021-12-20T23:45:45.567Z"
   },
   {
    "duration": 4,
    "start_time": "2021-12-20T23:45:45.577Z"
   },
   {
    "duration": 15,
    "start_time": "2021-12-20T23:45:45.583Z"
   },
   {
    "duration": 15,
    "start_time": "2021-12-20T23:45:45.600Z"
   },
   {
    "duration": 10,
    "start_time": "2021-12-20T23:45:45.617Z"
   },
   {
    "duration": 10,
    "start_time": "2021-12-20T23:45:45.661Z"
   },
   {
    "duration": 88,
    "start_time": "2021-12-20T23:45:45.673Z"
   },
   {
    "duration": 265,
    "start_time": "2021-12-20T23:45:45.764Z"
   },
   {
    "duration": 1384,
    "start_time": "2021-12-20T23:45:46.031Z"
   },
   {
    "duration": 3,
    "start_time": "2021-12-20T23:45:47.417Z"
   },
   {
    "duration": 7,
    "start_time": "2021-12-20T23:45:47.422Z"
   },
   {
    "duration": 8,
    "start_time": "2021-12-20T23:45:47.430Z"
   },
   {
    "duration": 6,
    "start_time": "2021-12-20T23:45:47.439Z"
   },
   {
    "duration": 288,
    "start_time": "2021-12-20T23:45:47.447Z"
   },
   {
    "duration": 5,
    "start_time": "2021-12-20T23:47:10.783Z"
   },
   {
    "duration": 42,
    "start_time": "2021-12-20T23:47:10.791Z"
   },
   {
    "duration": 7,
    "start_time": "2021-12-20T23:47:10.835Z"
   },
   {
    "duration": 4,
    "start_time": "2021-12-20T23:47:10.845Z"
   },
   {
    "duration": 15,
    "start_time": "2021-12-20T23:47:10.851Z"
   },
   {
    "duration": 13,
    "start_time": "2021-12-20T23:47:10.868Z"
   },
   {
    "duration": 8,
    "start_time": "2021-12-20T23:47:10.882Z"
   },
   {
    "duration": 5,
    "start_time": "2021-12-20T23:47:10.892Z"
   },
   {
    "duration": 8,
    "start_time": "2021-12-20T23:47:10.900Z"
   },
   {
    "duration": 288,
    "start_time": "2021-12-20T23:47:10.909Z"
   },
   {
    "duration": 7,
    "start_time": "2021-12-20T23:47:11.199Z"
   },
   {
    "duration": 1105,
    "start_time": "2021-12-20T23:47:11.208Z"
   },
   {
    "duration": 232,
    "start_time": "2021-12-20T23:47:12.315Z"
   },
   {
    "duration": 202,
    "start_time": "2021-12-20T23:47:12.548Z"
   },
   {
    "duration": 180,
    "start_time": "2021-12-20T23:47:12.751Z"
   },
   {
    "duration": 195,
    "start_time": "2021-12-20T23:47:12.933Z"
   },
   {
    "duration": 195,
    "start_time": "2021-12-20T23:47:13.130Z"
   },
   {
    "duration": 195,
    "start_time": "2021-12-20T23:47:13.326Z"
   },
   {
    "duration": 211,
    "start_time": "2021-12-20T23:47:13.523Z"
   },
   {
    "duration": 8,
    "start_time": "2021-12-20T23:47:13.736Z"
   },
   {
    "duration": 187,
    "start_time": "2021-12-20T23:47:13.746Z"
   },
   {
    "duration": 176,
    "start_time": "2021-12-20T23:47:13.935Z"
   },
   {
    "duration": 3,
    "start_time": "2021-12-20T23:47:14.113Z"
   },
   {
    "duration": 9,
    "start_time": "2021-12-20T23:47:14.118Z"
   },
   {
    "duration": 7,
    "start_time": "2021-12-20T23:47:14.129Z"
   },
   {
    "duration": 240,
    "start_time": "2021-12-20T23:47:14.137Z"
   },
   {
    "duration": 6,
    "start_time": "2021-12-20T23:47:14.380Z"
   },
   {
    "duration": 9,
    "start_time": "2021-12-20T23:47:14.388Z"
   },
   {
    "duration": 9,
    "start_time": "2021-12-20T23:47:14.399Z"
   },
   {
    "duration": 247,
    "start_time": "2021-12-20T23:47:14.409Z"
   },
   {
    "duration": 8,
    "start_time": "2021-12-20T23:47:14.660Z"
   },
   {
    "duration": 6,
    "start_time": "2021-12-20T23:47:14.670Z"
   },
   {
    "duration": 9,
    "start_time": "2021-12-20T23:47:14.677Z"
   },
   {
    "duration": 13,
    "start_time": "2021-12-20T23:47:14.688Z"
   },
   {
    "duration": 7,
    "start_time": "2021-12-20T23:47:14.702Z"
   },
   {
    "duration": 15,
    "start_time": "2021-12-20T23:47:14.711Z"
   },
   {
    "duration": 24,
    "start_time": "2021-12-20T23:47:14.728Z"
   },
   {
    "duration": 17,
    "start_time": "2021-12-20T23:47:14.753Z"
   },
   {
    "duration": 10,
    "start_time": "2021-12-20T23:47:14.771Z"
   },
   {
    "duration": 83,
    "start_time": "2021-12-20T23:47:14.782Z"
   },
   {
    "duration": 263,
    "start_time": "2021-12-20T23:47:14.868Z"
   },
   {
    "duration": 1290,
    "start_time": "2021-12-20T23:47:15.133Z"
   },
   {
    "duration": 79787,
    "start_time": "2021-12-20T23:47:16.425Z"
   },
   {
    "duration": 49,
    "start_time": "2021-12-20T23:48:36.214Z"
   },
   {
    "duration": 9,
    "start_time": "2021-12-20T23:48:36.265Z"
   },
   {
    "duration": 7,
    "start_time": "2021-12-20T23:48:36.276Z"
   },
   {
    "duration": 684,
    "start_time": "2021-12-20T23:48:36.284Z"
   },
   {
    "duration": 243,
    "start_time": "2021-12-23T10:20:18.058Z"
   },
   {
    "duration": 1217,
    "start_time": "2021-12-23T10:20:26.084Z"
   },
   {
    "duration": 37,
    "start_time": "2021-12-23T10:20:27.303Z"
   },
   {
    "duration": 6,
    "start_time": "2021-12-23T10:20:27.341Z"
   },
   {
    "duration": 5,
    "start_time": "2021-12-23T10:20:27.349Z"
   },
   {
    "duration": 10,
    "start_time": "2021-12-23T10:20:27.356Z"
   },
   {
    "duration": 28,
    "start_time": "2021-12-23T10:20:27.368Z"
   },
   {
    "duration": 9,
    "start_time": "2021-12-23T10:20:27.397Z"
   },
   {
    "duration": 5,
    "start_time": "2021-12-23T10:20:27.408Z"
   },
   {
    "duration": 9,
    "start_time": "2021-12-23T10:20:27.415Z"
   },
   {
    "duration": 332,
    "start_time": "2021-12-23T10:20:27.425Z"
   },
   {
    "duration": 55,
    "start_time": "2021-12-23T10:21:50.549Z"
   },
   {
    "duration": 241,
    "start_time": "2021-12-23T10:22:00.543Z"
   },
   {
    "duration": 208,
    "start_time": "2021-12-23T10:22:14.106Z"
   },
   {
    "duration": 90,
    "start_time": "2021-12-23T10:24:59.412Z"
   },
   {
    "duration": 64,
    "start_time": "2021-12-23T10:25:14.540Z"
   },
   {
    "duration": 4,
    "start_time": "2021-12-23T10:26:39.569Z"
   },
   {
    "duration": 53,
    "start_time": "2021-12-23T10:26:39.575Z"
   },
   {
    "duration": 6,
    "start_time": "2021-12-23T10:26:39.630Z"
   },
   {
    "duration": 5,
    "start_time": "2021-12-23T10:26:39.638Z"
   },
   {
    "duration": 13,
    "start_time": "2021-12-23T10:26:39.645Z"
   },
   {
    "duration": 24,
    "start_time": "2021-12-23T10:26:39.660Z"
   },
   {
    "duration": 21,
    "start_time": "2021-12-23T10:26:39.686Z"
   },
   {
    "duration": 13,
    "start_time": "2021-12-23T10:26:39.709Z"
   },
   {
    "duration": 22,
    "start_time": "2021-12-23T10:26:39.724Z"
   },
   {
    "duration": 207,
    "start_time": "2021-12-23T10:26:39.748Z"
   },
   {
    "duration": 7,
    "start_time": "2021-12-23T10:26:39.956Z"
   },
   {
    "duration": 949,
    "start_time": "2021-12-23T10:26:39.964Z"
   },
   {
    "duration": 251,
    "start_time": "2021-12-23T10:26:40.914Z"
   },
   {
    "duration": 211,
    "start_time": "2021-12-23T10:26:41.167Z"
   },
   {
    "duration": 202,
    "start_time": "2021-12-23T10:26:41.380Z"
   },
   {
    "duration": 210,
    "start_time": "2021-12-23T10:26:41.583Z"
   },
   {
    "duration": 201,
    "start_time": "2021-12-23T10:26:41.795Z"
   },
   {
    "duration": 208,
    "start_time": "2021-12-23T10:26:41.997Z"
   },
   {
    "duration": 229,
    "start_time": "2021-12-23T10:26:42.207Z"
   },
   {
    "duration": 8,
    "start_time": "2021-12-23T10:26:42.438Z"
   },
   {
    "duration": 290,
    "start_time": "2021-12-23T10:26:42.448Z"
   },
   {
    "duration": 195,
    "start_time": "2021-12-23T10:26:42.741Z"
   },
   {
    "duration": 3,
    "start_time": "2021-12-23T10:26:42.938Z"
   },
   {
    "duration": 12,
    "start_time": "2021-12-23T10:26:42.943Z"
   },
   {
    "duration": 8,
    "start_time": "2021-12-23T10:26:42.957Z"
   },
   {
    "duration": 276,
    "start_time": "2021-12-23T10:26:42.967Z"
   },
   {
    "duration": 8,
    "start_time": "2021-12-23T10:26:43.245Z"
   },
   {
    "duration": 6,
    "start_time": "2021-12-23T10:26:43.255Z"
   },
   {
    "duration": 11,
    "start_time": "2021-12-23T10:26:43.263Z"
   },
   {
    "duration": 262,
    "start_time": "2021-12-23T10:26:43.292Z"
   },
   {
    "duration": 9,
    "start_time": "2021-12-23T10:26:43.556Z"
   },
   {
    "duration": 11,
    "start_time": "2021-12-23T10:26:43.567Z"
   },
   {
    "duration": 4,
    "start_time": "2021-12-23T10:27:16.547Z"
   },
   {
    "duration": 43,
    "start_time": "2021-12-23T10:27:16.553Z"
   },
   {
    "duration": 5,
    "start_time": "2021-12-23T10:27:16.598Z"
   },
   {
    "duration": 5,
    "start_time": "2021-12-23T10:27:16.605Z"
   },
   {
    "duration": 11,
    "start_time": "2021-12-23T10:27:16.612Z"
   },
   {
    "duration": 14,
    "start_time": "2021-12-23T10:27:16.625Z"
   },
   {
    "duration": 8,
    "start_time": "2021-12-23T10:27:16.641Z"
   },
   {
    "duration": 5,
    "start_time": "2021-12-23T10:27:16.652Z"
   },
   {
    "duration": 7,
    "start_time": "2021-12-23T10:27:16.693Z"
   },
   {
    "duration": 216,
    "start_time": "2021-12-23T10:27:16.702Z"
   },
   {
    "duration": 6,
    "start_time": "2021-12-23T10:27:16.921Z"
   },
   {
    "duration": 1061,
    "start_time": "2021-12-23T10:27:16.928Z"
   },
   {
    "duration": 290,
    "start_time": "2021-12-23T10:27:17.991Z"
   },
   {
    "duration": 230,
    "start_time": "2021-12-23T10:27:18.283Z"
   },
   {
    "duration": 303,
    "start_time": "2021-12-23T10:27:18.515Z"
   },
   {
    "duration": 223,
    "start_time": "2021-12-23T10:27:18.820Z"
   },
   {
    "duration": 224,
    "start_time": "2021-12-23T10:27:19.046Z"
   },
   {
    "duration": 226,
    "start_time": "2021-12-23T10:27:19.272Z"
   },
   {
    "duration": 250,
    "start_time": "2021-12-23T10:27:19.500Z"
   },
   {
    "duration": 9,
    "start_time": "2021-12-23T10:27:19.753Z"
   },
   {
    "duration": 247,
    "start_time": "2021-12-23T10:27:19.764Z"
   },
   {
    "duration": 243,
    "start_time": "2021-12-23T10:27:20.012Z"
   },
   {
    "duration": 4,
    "start_time": "2021-12-23T10:27:20.259Z"
   },
   {
    "duration": 13,
    "start_time": "2021-12-23T10:27:20.265Z"
   },
   {
    "duration": 15,
    "start_time": "2021-12-23T10:27:20.280Z"
   },
   {
    "duration": 283,
    "start_time": "2021-12-23T10:27:20.297Z"
   },
   {
    "duration": 11,
    "start_time": "2021-12-23T10:27:20.582Z"
   },
   {
    "duration": 7,
    "start_time": "2021-12-23T10:27:20.594Z"
   },
   {
    "duration": 10,
    "start_time": "2021-12-23T10:27:20.603Z"
   },
   {
    "duration": 295,
    "start_time": "2021-12-23T10:27:20.615Z"
   },
   {
    "duration": 11,
    "start_time": "2021-12-23T10:27:20.912Z"
   },
   {
    "duration": 6,
    "start_time": "2021-12-23T10:27:20.925Z"
   },
   {
    "duration": 7,
    "start_time": "2021-12-23T10:27:20.933Z"
   },
   {
    "duration": 10,
    "start_time": "2021-12-23T10:27:20.942Z"
   },
   {
    "duration": 4,
    "start_time": "2021-12-23T10:27:55.158Z"
   },
   {
    "duration": 12,
    "start_time": "2021-12-23T10:27:57.534Z"
   },
   {
    "duration": 3,
    "start_time": "2021-12-23T10:28:06.792Z"
   },
   {
    "duration": 237,
    "start_time": "2021-12-23T10:28:15.529Z"
   },
   {
    "duration": 4,
    "start_time": "2021-12-23T10:30:15.856Z"
   },
   {
    "duration": 7,
    "start_time": "2021-12-23T10:30:17.727Z"
   },
   {
    "duration": 18,
    "start_time": "2021-12-23T10:30:25.502Z"
   },
   {
    "duration": 18,
    "start_time": "2021-12-23T10:31:19.388Z"
   },
   {
    "duration": 5,
    "start_time": "2021-12-23T10:31:54.239Z"
   },
   {
    "duration": 43,
    "start_time": "2021-12-23T10:31:54.246Z"
   },
   {
    "duration": 6,
    "start_time": "2021-12-23T10:31:54.291Z"
   },
   {
    "duration": 4,
    "start_time": "2021-12-23T10:31:54.299Z"
   },
   {
    "duration": 7,
    "start_time": "2021-12-23T10:31:54.304Z"
   },
   {
    "duration": 13,
    "start_time": "2021-12-23T10:31:54.312Z"
   },
   {
    "duration": 7,
    "start_time": "2021-12-23T10:31:54.326Z"
   },
   {
    "duration": 5,
    "start_time": "2021-12-23T10:31:54.335Z"
   },
   {
    "duration": 6,
    "start_time": "2021-12-23T10:31:54.342Z"
   },
   {
    "duration": 208,
    "start_time": "2021-12-23T10:31:54.393Z"
   },
   {
    "duration": 7,
    "start_time": "2021-12-23T10:31:54.603Z"
   },
   {
    "duration": 971,
    "start_time": "2021-12-23T10:31:54.611Z"
   },
   {
    "duration": 251,
    "start_time": "2021-12-23T10:31:55.591Z"
   },
   {
    "duration": 224,
    "start_time": "2021-12-23T10:31:55.844Z"
   },
   {
    "duration": 212,
    "start_time": "2021-12-23T10:31:56.070Z"
   },
   {
    "duration": 212,
    "start_time": "2021-12-23T10:31:56.284Z"
   },
   {
    "duration": 207,
    "start_time": "2021-12-23T10:31:56.497Z"
   },
   {
    "duration": 228,
    "start_time": "2021-12-23T10:31:56.706Z"
   },
   {
    "duration": 227,
    "start_time": "2021-12-23T10:31:56.936Z"
   },
   {
    "duration": 9,
    "start_time": "2021-12-23T10:31:57.165Z"
   },
   {
    "duration": 223,
    "start_time": "2021-12-23T10:31:57.175Z"
   },
   {
    "duration": 200,
    "start_time": "2021-12-23T10:31:57.399Z"
   },
   {
    "duration": 3,
    "start_time": "2021-12-23T10:31:57.601Z"
   },
   {
    "duration": 9,
    "start_time": "2021-12-23T10:31:57.605Z"
   },
   {
    "duration": 7,
    "start_time": "2021-12-23T10:31:57.616Z"
   },
   {
    "duration": 265,
    "start_time": "2021-12-23T10:31:57.624Z"
   },
   {
    "duration": 6,
    "start_time": "2021-12-23T10:31:57.892Z"
   },
   {
    "duration": 6,
    "start_time": "2021-12-23T10:31:57.899Z"
   },
   {
    "duration": 9,
    "start_time": "2021-12-23T10:31:57.907Z"
   },
   {
    "duration": 273,
    "start_time": "2021-12-23T10:31:57.917Z"
   },
   {
    "duration": 9,
    "start_time": "2021-12-23T10:31:58.191Z"
   },
   {
    "duration": 6,
    "start_time": "2021-12-23T10:31:58.201Z"
   },
   {
    "duration": 6,
    "start_time": "2021-12-23T10:31:58.209Z"
   },
   {
    "duration": 7,
    "start_time": "2021-12-23T10:31:58.216Z"
   },
   {
    "duration": 3,
    "start_time": "2021-12-23T10:31:58.225Z"
   },
   {
    "duration": 13,
    "start_time": "2021-12-23T10:31:58.230Z"
   },
   {
    "duration": 47,
    "start_time": "2021-12-23T10:31:58.244Z"
   },
   {
    "duration": 15,
    "start_time": "2021-12-23T10:31:58.293Z"
   },
   {
    "duration": 13,
    "start_time": "2021-12-23T10:33:04.015Z"
   },
   {
    "duration": 13,
    "start_time": "2021-12-23T10:33:20.999Z"
   },
   {
    "duration": 106,
    "start_time": "2021-12-23T10:34:10.328Z"
   },
   {
    "duration": 62,
    "start_time": "2021-12-23T10:34:26.280Z"
   },
   {
    "duration": 26,
    "start_time": "2021-12-23T10:34:45.366Z"
   },
   {
    "duration": 191,
    "start_time": "2021-12-23T10:34:57.337Z"
   },
   {
    "duration": 1549,
    "start_time": "2021-12-23T10:35:03.730Z"
   },
   {
    "duration": 154356,
    "start_time": "2021-12-23T10:35:13.239Z"
   },
   {
    "duration": 301,
    "start_time": "2021-12-23T11:01:27.215Z"
   },
   {
    "duration": 4,
    "start_time": "2021-12-23T11:02:03.889Z"
   },
   {
    "duration": 215,
    "start_time": "2021-12-23T11:02:12.821Z"
   },
   {
    "duration": 189,
    "start_time": "2021-12-23T11:02:44.028Z"
   },
   {
    "duration": 185,
    "start_time": "2021-12-23T11:03:00.179Z"
   },
   {
    "duration": 173,
    "start_time": "2021-12-23T11:03:05.044Z"
   },
   {
    "duration": 188,
    "start_time": "2021-12-23T11:11:45.831Z"
   },
   {
    "duration": 183,
    "start_time": "2021-12-23T11:12:49.143Z"
   },
   {
    "duration": 215,
    "start_time": "2021-12-23T11:13:41.184Z"
   },
   {
    "duration": 1673,
    "start_time": "2021-12-23T14:29:30.319Z"
   },
   {
    "duration": 58,
    "start_time": "2021-12-23T14:29:31.995Z"
   },
   {
    "duration": 8,
    "start_time": "2021-12-23T14:29:32.055Z"
   },
   {
    "duration": 8,
    "start_time": "2021-12-23T14:29:32.066Z"
   },
   {
    "duration": 14,
    "start_time": "2021-12-23T14:29:32.076Z"
   },
   {
    "duration": 19,
    "start_time": "2021-12-23T14:29:32.118Z"
   },
   {
    "duration": 13,
    "start_time": "2021-12-23T14:29:32.139Z"
   },
   {
    "duration": 8,
    "start_time": "2021-12-23T14:29:32.158Z"
   },
   {
    "duration": 48,
    "start_time": "2021-12-23T14:29:32.170Z"
   },
   {
    "duration": 345,
    "start_time": "2021-12-23T14:29:32.220Z"
   },
   {
    "duration": 8,
    "start_time": "2021-12-23T14:29:32.567Z"
   },
   {
    "duration": 1381,
    "start_time": "2021-12-23T14:29:32.577Z"
   },
   {
    "duration": 459,
    "start_time": "2021-12-23T14:29:33.960Z"
   },
   {
    "duration": 344,
    "start_time": "2021-12-23T14:29:34.422Z"
   },
   {
    "duration": 322,
    "start_time": "2021-12-23T14:29:34.768Z"
   },
   {
    "duration": 336,
    "start_time": "2021-12-23T14:29:35.092Z"
   },
   {
    "duration": 321,
    "start_time": "2021-12-23T14:29:35.431Z"
   },
   {
    "duration": 5,
    "start_time": "2021-12-23T14:29:54.243Z"
   },
   {
    "duration": 50,
    "start_time": "2021-12-23T14:29:54.251Z"
   },
   {
    "duration": 7,
    "start_time": "2021-12-23T14:29:54.304Z"
   },
   {
    "duration": 5,
    "start_time": "2021-12-23T14:29:54.314Z"
   },
   {
    "duration": 10,
    "start_time": "2021-12-23T14:29:54.321Z"
   },
   {
    "duration": 17,
    "start_time": "2021-12-23T14:29:54.333Z"
   },
   {
    "duration": 10,
    "start_time": "2021-12-23T14:29:54.353Z"
   },
   {
    "duration": 57,
    "start_time": "2021-12-23T14:29:54.366Z"
   },
   {
    "duration": 9,
    "start_time": "2021-12-23T14:29:54.426Z"
   },
   {
    "duration": 342,
    "start_time": "2021-12-23T14:29:54.438Z"
   },
   {
    "duration": 8,
    "start_time": "2021-12-23T14:29:54.783Z"
   },
   {
    "duration": 1467,
    "start_time": "2021-12-23T14:29:54.793Z"
   },
   {
    "duration": 394,
    "start_time": "2021-12-23T14:29:56.264Z"
   },
   {
    "duration": 348,
    "start_time": "2021-12-23T14:29:56.660Z"
   },
   {
    "duration": 323,
    "start_time": "2021-12-23T14:29:57.017Z"
   },
   {
    "duration": 344,
    "start_time": "2021-12-23T14:29:57.343Z"
   },
   {
    "duration": 312,
    "start_time": "2021-12-23T14:29:57.689Z"
   },
   {
    "duration": 335,
    "start_time": "2021-12-23T14:29:58.003Z"
   },
   {
    "duration": 354,
    "start_time": "2021-12-23T14:29:58.340Z"
   },
   {
    "duration": 23,
    "start_time": "2021-12-23T14:29:58.697Z"
   },
   {
    "duration": 323,
    "start_time": "2021-12-23T14:29:58.722Z"
   },
   {
    "duration": 404,
    "start_time": "2021-12-23T14:29:59.047Z"
   },
   {
    "duration": 5,
    "start_time": "2021-12-23T14:29:59.454Z"
   },
   {
    "duration": 13,
    "start_time": "2021-12-23T14:29:59.461Z"
   },
   {
    "duration": 7,
    "start_time": "2021-12-23T14:29:59.477Z"
   },
   {
    "duration": 416,
    "start_time": "2021-12-23T14:29:59.487Z"
   },
   {
    "duration": 9,
    "start_time": "2021-12-23T14:29:59.918Z"
   },
   {
    "duration": 9,
    "start_time": "2021-12-23T14:29:59.930Z"
   },
   {
    "duration": 16,
    "start_time": "2021-12-23T14:29:59.941Z"
   },
   {
    "duration": 420,
    "start_time": "2021-12-23T14:29:59.960Z"
   },
   {
    "duration": 13,
    "start_time": "2021-12-23T14:30:00.382Z"
   },
   {
    "duration": 25,
    "start_time": "2021-12-23T14:30:00.397Z"
   },
   {
    "duration": 21,
    "start_time": "2021-12-23T14:30:00.425Z"
   },
   {
    "duration": 16,
    "start_time": "2021-12-23T14:30:00.449Z"
   },
   {
    "duration": 13,
    "start_time": "2021-12-23T14:30:00.467Z"
   },
   {
    "duration": 24,
    "start_time": "2021-12-23T14:30:00.482Z"
   },
   {
    "duration": 22,
    "start_time": "2021-12-23T14:30:00.509Z"
   },
   {
    "duration": 17,
    "start_time": "2021-12-23T14:30:00.533Z"
   },
   {
    "duration": 12,
    "start_time": "2021-12-23T14:30:00.552Z"
   },
   {
    "duration": 150,
    "start_time": "2021-12-23T14:30:00.567Z"
   },
   {
    "duration": 399,
    "start_time": "2021-12-23T14:30:00.720Z"
   },
   {
    "duration": 804,
    "start_time": "2021-12-23T14:30:00.317Z"
   },
   {
    "duration": 801,
    "start_time": "2021-12-23T14:30:00.321Z"
   },
   {
    "duration": 801,
    "start_time": "2021-12-23T14:30:00.323Z"
   },
   {
    "duration": 800,
    "start_time": "2021-12-23T14:30:00.325Z"
   },
   {
    "duration": 799,
    "start_time": "2021-12-23T14:30:00.327Z"
   },
   {
    "duration": 701,
    "start_time": "2021-12-23T14:30:00.426Z"
   },
   {
    "duration": 700,
    "start_time": "2021-12-23T14:30:00.429Z"
   },
   {
    "duration": 699,
    "start_time": "2021-12-23T14:30:00.431Z"
   },
   {
    "duration": 6,
    "start_time": "2021-12-23T14:30:28.493Z"
   },
   {
    "duration": 304,
    "start_time": "2021-12-23T14:30:31.195Z"
   },
   {
    "duration": 85381,
    "start_time": "2021-12-23T14:32:19.522Z"
   },
   {
    "duration": 1033,
    "start_time": "2021-12-23T14:37:22.337Z"
   },
   {
    "duration": 808,
    "start_time": "2021-12-23T14:37:37.016Z"
   },
   {
    "duration": 1054,
    "start_time": "2021-12-23T14:39:06.584Z"
   },
   {
    "duration": 789,
    "start_time": "2021-12-23T14:39:19.055Z"
   },
   {
    "duration": 6,
    "start_time": "2021-12-23T14:40:55.575Z"
   },
   {
    "duration": 1158,
    "start_time": "2021-12-23T20:08:55.443Z"
   },
   {
    "duration": 38,
    "start_time": "2021-12-23T20:08:56.603Z"
   },
   {
    "duration": 6,
    "start_time": "2021-12-23T20:08:56.642Z"
   },
   {
    "duration": 7,
    "start_time": "2021-12-23T20:08:56.650Z"
   },
   {
    "duration": 8,
    "start_time": "2021-12-23T20:08:56.659Z"
   },
   {
    "duration": 23,
    "start_time": "2021-12-23T20:08:56.669Z"
   },
   {
    "duration": 9,
    "start_time": "2021-12-23T20:08:56.694Z"
   },
   {
    "duration": 5,
    "start_time": "2021-12-23T20:08:56.706Z"
   },
   {
    "duration": 6,
    "start_time": "2021-12-23T20:08:56.713Z"
   },
   {
    "duration": 235,
    "start_time": "2021-12-23T20:08:56.721Z"
   },
   {
    "duration": 6,
    "start_time": "2021-12-23T20:08:56.958Z"
   },
   {
    "duration": 899,
    "start_time": "2021-12-23T20:08:56.966Z"
   },
   {
    "duration": 323,
    "start_time": "2021-12-23T20:08:57.866Z"
   },
   {
    "duration": 223,
    "start_time": "2021-12-23T20:08:58.192Z"
   },
   {
    "duration": 208,
    "start_time": "2021-12-23T20:08:58.417Z"
   },
   {
    "duration": 224,
    "start_time": "2021-12-23T20:08:58.627Z"
   },
   {
    "duration": 202,
    "start_time": "2021-12-23T20:08:58.853Z"
   },
   {
    "duration": 227,
    "start_time": "2021-12-23T20:08:59.057Z"
   },
   {
    "duration": 244,
    "start_time": "2021-12-23T20:08:59.285Z"
   },
   {
    "duration": 9,
    "start_time": "2021-12-23T20:08:59.531Z"
   },
   {
    "duration": 223,
    "start_time": "2021-12-23T20:08:59.542Z"
   },
   {
    "duration": 199,
    "start_time": "2021-12-23T20:08:59.767Z"
   },
   {
    "duration": 3,
    "start_time": "2021-12-23T20:08:59.970Z"
   },
   {
    "duration": 20,
    "start_time": "2021-12-23T20:08:59.975Z"
   },
   {
    "duration": 23,
    "start_time": "2021-12-23T20:08:59.997Z"
   },
   {
    "duration": 296,
    "start_time": "2021-12-23T20:09:00.022Z"
   },
   {
    "duration": 7,
    "start_time": "2021-12-23T20:09:00.320Z"
   },
   {
    "duration": 15,
    "start_time": "2021-12-23T20:09:00.328Z"
   },
   {
    "duration": 18,
    "start_time": "2021-12-23T20:09:00.345Z"
   },
   {
    "duration": 284,
    "start_time": "2021-12-23T20:09:00.364Z"
   },
   {
    "duration": 8,
    "start_time": "2021-12-23T20:09:00.650Z"
   },
   {
    "duration": 35,
    "start_time": "2021-12-23T20:09:00.660Z"
   },
   {
    "duration": 31,
    "start_time": "2021-12-23T20:09:00.697Z"
   },
   {
    "duration": 20,
    "start_time": "2021-12-23T20:09:00.730Z"
   },
   {
    "duration": 14,
    "start_time": "2021-12-23T20:09:00.752Z"
   },
   {
    "duration": 20,
    "start_time": "2021-12-23T20:09:00.768Z"
   },
   {
    "duration": 12,
    "start_time": "2021-12-23T20:09:00.790Z"
   },
   {
    "duration": 11,
    "start_time": "2021-12-23T20:09:00.804Z"
   },
   {
    "duration": 16,
    "start_time": "2021-12-23T20:09:00.817Z"
   },
   {
    "duration": 59,
    "start_time": "2021-12-23T20:09:00.835Z"
   },
   {
    "duration": 97,
    "start_time": "2021-12-23T20:09:00.897Z"
   },
   {
    "duration": 64120,
    "start_time": "2021-12-23T20:09:00.996Z"
   },
   {
    "duration": 669,
    "start_time": "2021-12-23T20:10:05.118Z"
   },
   {
    "duration": 876,
    "start_time": "2021-12-23T20:10:05.791Z"
   },
   {
    "duration": 95354,
    "start_time": "2021-12-23T20:10:06.669Z"
   },
   {
    "duration": 6,
    "start_time": "2021-12-23T20:11:42.026Z"
   },
   {
    "duration": 628,
    "start_time": "2021-12-23T20:11:42.033Z"
   },
   {
    "duration": 7,
    "start_time": "2021-12-23T20:11:42.663Z"
   },
   {
    "duration": 645,
    "start_time": "2021-12-23T20:11:42.671Z"
   },
   {
    "duration": 64085,
    "start_time": "2021-12-23T20:14:04.066Z"
   },
   {
    "duration": 62327,
    "start_time": "2021-12-23T20:15:27.145Z"
   },
   {
    "duration": 217,
    "start_time": "2021-12-23T20:22:44.929Z"
   },
   {
    "duration": 189,
    "start_time": "2021-12-23T20:24:19.094Z"
   },
   {
    "duration": 176,
    "start_time": "2021-12-23T20:25:52.356Z"
   },
   {
    "duration": 65748,
    "start_time": "2021-12-23T20:26:37.534Z"
   },
   {
    "duration": 188,
    "start_time": "2021-12-23T20:28:32.374Z"
   },
   {
    "duration": 53109,
    "start_time": "2021-12-23T20:29:37.276Z"
   },
   {
    "duration": 54118,
    "start_time": "2021-12-23T20:31:24.053Z"
   },
   {
    "duration": 1822,
    "start_time": "2021-12-23T20:32:40.949Z"
   },
   {
    "duration": 7,
    "start_time": "2021-12-23T20:35:00.021Z"
   },
   {
    "duration": 11,
    "start_time": "2021-12-23T20:35:01.841Z"
   },
   {
    "duration": 10,
    "start_time": "2021-12-23T20:35:05.956Z"
   },
   {
    "duration": 613,
    "start_time": "2021-12-23T20:35:07.496Z"
   },
   {
    "duration": 4,
    "start_time": "2021-12-23T20:37:17.791Z"
   },
   {
    "duration": 32,
    "start_time": "2021-12-23T20:37:17.797Z"
   },
   {
    "duration": 22,
    "start_time": "2021-12-23T20:37:17.831Z"
   },
   {
    "duration": 26,
    "start_time": "2021-12-23T20:37:17.855Z"
   },
   {
    "duration": 22,
    "start_time": "2021-12-23T20:37:17.883Z"
   },
   {
    "duration": 24,
    "start_time": "2021-12-23T20:37:17.906Z"
   },
   {
    "duration": 70936,
    "start_time": "2021-12-23T20:37:17.932Z"
   },
   {
    "duration": 739,
    "start_time": "2021-12-23T20:38:28.870Z"
   },
   {
    "duration": 51748,
    "start_time": "2021-12-23T20:38:29.611Z"
   },
   {
    "duration": 1306,
    "start_time": "2021-12-23T20:39:21.361Z"
   },
   {
    "duration": 100918,
    "start_time": "2021-12-23T20:39:22.676Z"
   },
   {
    "duration": 6,
    "start_time": "2021-12-23T20:41:03.595Z"
   },
   {
    "duration": 12,
    "start_time": "2021-12-23T20:41:03.602Z"
   },
   {
    "duration": 8,
    "start_time": "2021-12-23T20:41:03.616Z"
   },
   {
    "duration": 588,
    "start_time": "2021-12-23T20:41:03.625Z"
   },
   {
    "duration": 76,
    "start_time": "2021-12-23T20:41:04.215Z"
   },
   {
    "duration": 4,
    "start_time": "2021-12-23T20:44:12.468Z"
   },
   {
    "duration": 35,
    "start_time": "2021-12-23T20:44:12.573Z"
   },
   {
    "duration": 6,
    "start_time": "2021-12-23T20:44:12.610Z"
   },
   {
    "duration": 3,
    "start_time": "2021-12-23T20:44:12.618Z"
   },
   {
    "duration": 8,
    "start_time": "2021-12-23T20:44:12.623Z"
   },
   {
    "duration": 13,
    "start_time": "2021-12-23T20:44:12.633Z"
   },
   {
    "duration": 8,
    "start_time": "2021-12-23T20:44:12.681Z"
   },
   {
    "duration": 6,
    "start_time": "2021-12-23T20:44:12.691Z"
   },
   {
    "duration": 7,
    "start_time": "2021-12-23T20:44:12.700Z"
   },
   {
    "duration": 233,
    "start_time": "2021-12-23T20:44:12.709Z"
   },
   {
    "duration": 7,
    "start_time": "2021-12-23T20:44:12.945Z"
   },
   {
    "duration": 912,
    "start_time": "2021-12-23T20:44:12.953Z"
   },
   {
    "duration": 262,
    "start_time": "2021-12-23T20:44:13.868Z"
   },
   {
    "duration": 227,
    "start_time": "2021-12-23T20:44:14.134Z"
   },
   {
    "duration": 204,
    "start_time": "2021-12-23T20:44:14.363Z"
   },
   {
    "duration": 222,
    "start_time": "2021-12-23T20:44:14.569Z"
   },
   {
    "duration": 280,
    "start_time": "2021-12-23T20:44:14.793Z"
   },
   {
    "duration": 223,
    "start_time": "2021-12-23T20:44:15.075Z"
   },
   {
    "duration": 237,
    "start_time": "2021-12-23T20:44:15.301Z"
   },
   {
    "duration": 9,
    "start_time": "2021-12-23T20:44:15.543Z"
   },
   {
    "duration": 231,
    "start_time": "2021-12-23T20:44:15.556Z"
   },
   {
    "duration": 211,
    "start_time": "2021-12-23T20:44:15.789Z"
   },
   {
    "duration": 3,
    "start_time": "2021-12-23T20:44:16.002Z"
   },
   {
    "duration": 10,
    "start_time": "2021-12-23T20:44:16.006Z"
   },
   {
    "duration": 8,
    "start_time": "2021-12-23T20:44:16.017Z"
   },
   {
    "duration": 271,
    "start_time": "2021-12-23T20:44:16.027Z"
   },
   {
    "duration": 6,
    "start_time": "2021-12-23T20:44:16.300Z"
   },
   {
    "duration": 6,
    "start_time": "2021-12-23T20:44:16.308Z"
   },
   {
    "duration": 13,
    "start_time": "2021-12-23T20:44:16.316Z"
   },
   {
    "duration": 276,
    "start_time": "2021-12-23T20:44:16.330Z"
   },
   {
    "duration": 8,
    "start_time": "2021-12-23T20:44:16.608Z"
   },
   {
    "duration": 6,
    "start_time": "2021-12-23T20:44:16.618Z"
   },
   {
    "duration": 6,
    "start_time": "2021-12-23T20:44:16.625Z"
   },
   {
    "duration": 5,
    "start_time": "2021-12-23T20:44:16.633Z"
   },
   {
    "duration": 3,
    "start_time": "2021-12-23T20:44:16.640Z"
   },
   {
    "duration": 48,
    "start_time": "2021-12-23T20:44:16.645Z"
   },
   {
    "duration": 13,
    "start_time": "2021-12-23T20:44:16.695Z"
   },
   {
    "duration": 15,
    "start_time": "2021-12-23T20:44:16.710Z"
   },
   {
    "duration": 9,
    "start_time": "2021-12-23T20:44:16.726Z"
   },
   {
    "duration": 63,
    "start_time": "2021-12-23T20:44:16.737Z"
   },
   {
    "duration": 78933,
    "start_time": "2021-12-23T20:44:16.894Z"
   },
   {
    "duration": 799,
    "start_time": "2021-12-23T20:45:35.829Z"
   },
   {
    "duration": 49252,
    "start_time": "2021-12-23T20:45:36.629Z"
   },
   {
    "duration": 1412,
    "start_time": "2021-12-23T20:46:25.883Z"
   },
   {
    "duration": 100606,
    "start_time": "2021-12-23T20:46:27.296Z"
   },
   {
    "duration": 6,
    "start_time": "2021-12-23T20:48:07.904Z"
   },
   {
    "duration": 20,
    "start_time": "2021-12-23T20:48:07.911Z"
   },
   {
    "duration": 8,
    "start_time": "2021-12-23T20:48:07.933Z"
   },
   {
    "duration": 469,
    "start_time": "2021-12-23T20:48:07.942Z"
   },
   {
    "duration": 182,
    "start_time": "2021-12-23T21:04:16.354Z"
   },
   {
    "duration": 50994,
    "start_time": "2021-12-23T21:09:31.452Z"
   },
   {
    "duration": 31,
    "start_time": "2021-12-23T21:16:35.842Z"
   },
   {
    "duration": 185,
    "start_time": "2021-12-23T21:25:05.805Z"
   },
   {
    "duration": 294,
    "start_time": "2021-12-23T21:25:14.046Z"
   },
   {
    "duration": 221,
    "start_time": "2021-12-23T21:25:36.620Z"
   },
   {
    "duration": 3,
    "start_time": "2021-12-23T21:27:09.739Z"
   },
   {
    "duration": 33,
    "start_time": "2021-12-23T21:27:29.351Z"
   },
   {
    "duration": 40,
    "start_time": "2021-12-23T21:27:54.635Z"
   },
   {
    "duration": 16,
    "start_time": "2021-12-23T21:28:56.573Z"
   },
   {
    "duration": 5,
    "start_time": "2021-12-23T21:29:47.867Z"
   },
   {
    "duration": 198,
    "start_time": "2021-12-23T21:30:09.860Z"
   },
   {
    "duration": 4,
    "start_time": "2021-12-23T21:30:18.379Z"
   },
   {
    "duration": 698,
    "start_time": "2021-12-23T21:31:40.493Z"
   },
   {
    "duration": 4,
    "start_time": "2021-12-23T21:31:57.438Z"
   },
   {
    "duration": 165,
    "start_time": "2021-12-23T21:32:22.636Z"
   },
   {
    "duration": 8,
    "start_time": "2021-12-23T21:49:25.506Z"
   },
   {
    "duration": 12,
    "start_time": "2021-12-23T21:49:25.516Z"
   },
   {
    "duration": 13,
    "start_time": "2021-12-23T21:49:25.530Z"
   },
   {
    "duration": 7,
    "start_time": "2021-12-23T21:49:25.545Z"
   },
   {
    "duration": 137,
    "start_time": "2021-12-23T21:49:25.554Z"
   },
   {
    "duration": 50059,
    "start_time": "2021-12-23T21:49:25.693Z"
   },
   {
    "duration": 787,
    "start_time": "2021-12-23T21:50:15.754Z"
   },
   {
    "duration": 45817,
    "start_time": "2021-12-23T21:50:16.544Z"
   },
   {
    "duration": 1935,
    "start_time": "2021-12-23T21:51:02.363Z"
   },
   {
    "duration": 116194,
    "start_time": "2021-12-23T21:51:04.300Z"
   },
   {
    "duration": 5,
    "start_time": "2021-12-23T21:53:00.496Z"
   },
   {
    "duration": 38,
    "start_time": "2021-12-23T21:53:00.503Z"
   },
   {
    "duration": 22,
    "start_time": "2021-12-23T21:53:00.543Z"
   },
   {
    "duration": 545,
    "start_time": "2021-12-23T21:53:00.567Z"
   },
   {
    "duration": 4,
    "start_time": "2021-12-23T21:57:55.474Z"
   },
   {
    "duration": 50,
    "start_time": "2021-12-23T21:57:55.480Z"
   },
   {
    "duration": 5,
    "start_time": "2021-12-23T21:57:55.532Z"
   },
   {
    "duration": 16,
    "start_time": "2021-12-23T21:57:55.539Z"
   },
   {
    "duration": 24,
    "start_time": "2021-12-23T21:57:55.556Z"
   },
   {
    "duration": 27,
    "start_time": "2021-12-23T21:57:55.582Z"
   },
   {
    "duration": 18,
    "start_time": "2021-12-23T21:57:55.611Z"
   },
   {
    "duration": 17,
    "start_time": "2021-12-23T21:57:55.632Z"
   },
   {
    "duration": 14,
    "start_time": "2021-12-23T21:57:55.651Z"
   },
   {
    "duration": 211,
    "start_time": "2021-12-23T21:57:55.667Z"
   },
   {
    "duration": 20,
    "start_time": "2021-12-23T21:57:55.898Z"
   },
   {
    "duration": 1057,
    "start_time": "2021-12-23T21:57:55.921Z"
   },
   {
    "duration": 258,
    "start_time": "2021-12-23T21:57:56.980Z"
   },
   {
    "duration": 232,
    "start_time": "2021-12-23T21:57:57.240Z"
   },
   {
    "duration": 212,
    "start_time": "2021-12-23T21:57:57.474Z"
   },
   {
    "duration": 227,
    "start_time": "2021-12-23T21:57:57.688Z"
   },
   {
    "duration": 209,
    "start_time": "2021-12-23T21:57:57.916Z"
   },
   {
    "duration": 220,
    "start_time": "2021-12-23T21:57:58.127Z"
   },
   {
    "duration": 234,
    "start_time": "2021-12-23T21:57:58.348Z"
   },
   {
    "duration": 9,
    "start_time": "2021-12-23T21:57:58.592Z"
   },
   {
    "duration": 224,
    "start_time": "2021-12-23T21:57:58.603Z"
   },
   {
    "duration": 292,
    "start_time": "2021-12-23T21:57:58.829Z"
   },
   {
    "duration": 3,
    "start_time": "2021-12-23T21:57:59.122Z"
   },
   {
    "duration": 10,
    "start_time": "2021-12-23T21:57:59.127Z"
   },
   {
    "duration": 11,
    "start_time": "2021-12-23T21:57:59.138Z"
   },
   {
    "duration": 276,
    "start_time": "2021-12-23T21:57:59.150Z"
   },
   {
    "duration": 6,
    "start_time": "2021-12-23T21:57:59.428Z"
   },
   {
    "duration": 6,
    "start_time": "2021-12-23T21:57:59.436Z"
   },
   {
    "duration": 9,
    "start_time": "2021-12-23T21:57:59.443Z"
   },
   {
    "duration": 276,
    "start_time": "2021-12-23T21:57:59.454Z"
   },
   {
    "duration": 8,
    "start_time": "2021-12-23T21:57:59.732Z"
   },
   {
    "duration": 6,
    "start_time": "2021-12-23T21:57:59.741Z"
   },
   {
    "duration": 6,
    "start_time": "2021-12-23T21:57:59.749Z"
   },
   {
    "duration": 5,
    "start_time": "2021-12-23T21:57:59.756Z"
   },
   {
    "duration": 28,
    "start_time": "2021-12-23T21:57:59.763Z"
   },
   {
    "duration": 13,
    "start_time": "2021-12-23T21:57:59.793Z"
   },
   {
    "duration": 12,
    "start_time": "2021-12-23T21:57:59.808Z"
   },
   {
    "duration": 11,
    "start_time": "2021-12-23T21:57:59.821Z"
   },
   {
    "duration": 8,
    "start_time": "2021-12-23T21:57:59.834Z"
   },
   {
    "duration": 53,
    "start_time": "2021-12-23T21:57:59.844Z"
   },
   {
    "duration": 46000,
    "start_time": "2021-12-23T21:57:59.899Z"
   },
   {
    "duration": 824,
    "start_time": "2021-12-23T21:58:45.902Z"
   },
   {
    "duration": 43843,
    "start_time": "2021-12-23T21:58:46.728Z"
   },
   {
    "duration": 1486,
    "start_time": "2021-12-23T21:59:30.573Z"
   },
   {
    "duration": 92493,
    "start_time": "2021-12-23T21:59:32.060Z"
   },
   {
    "duration": 8,
    "start_time": "2021-12-23T22:01:04.592Z"
   },
   {
    "duration": 12,
    "start_time": "2021-12-23T22:01:04.602Z"
   },
   {
    "duration": 8,
    "start_time": "2021-12-23T22:01:04.616Z"
   },
   {
    "duration": 489,
    "start_time": "2021-12-23T22:01:04.625Z"
   },
   {
    "duration": 4,
    "start_time": "2021-12-23T22:02:28.867Z"
   },
   {
    "duration": 35,
    "start_time": "2021-12-23T22:02:28.873Z"
   },
   {
    "duration": 5,
    "start_time": "2021-12-23T22:02:28.911Z"
   },
   {
    "duration": 3,
    "start_time": "2021-12-23T22:02:28.918Z"
   },
   {
    "duration": 6,
    "start_time": "2021-12-23T22:02:28.923Z"
   },
   {
    "duration": 12,
    "start_time": "2021-12-23T22:02:28.931Z"
   },
   {
    "duration": 8,
    "start_time": "2021-12-23T22:02:28.944Z"
   },
   {
    "duration": 5,
    "start_time": "2021-12-23T22:02:28.953Z"
   },
   {
    "duration": 7,
    "start_time": "2021-12-23T22:02:28.991Z"
   },
   {
    "duration": 217,
    "start_time": "2021-12-23T22:02:28.999Z"
   },
   {
    "duration": 6,
    "start_time": "2021-12-23T22:02:29.218Z"
   },
   {
    "duration": 859,
    "start_time": "2021-12-23T22:02:29.226Z"
   },
   {
    "duration": 243,
    "start_time": "2021-12-23T22:02:30.091Z"
   },
   {
    "duration": 315,
    "start_time": "2021-12-23T22:02:30.337Z"
   },
   {
    "duration": 197,
    "start_time": "2021-12-23T22:02:30.654Z"
   },
   {
    "duration": 208,
    "start_time": "2021-12-23T22:02:30.854Z"
   },
   {
    "duration": 207,
    "start_time": "2021-12-23T22:02:31.064Z"
   },
   {
    "duration": 220,
    "start_time": "2021-12-23T22:02:31.273Z"
   },
   {
    "duration": 229,
    "start_time": "2021-12-23T22:02:31.495Z"
   },
   {
    "duration": 9,
    "start_time": "2021-12-23T22:02:31.725Z"
   },
   {
    "duration": 203,
    "start_time": "2021-12-23T22:02:31.735Z"
   },
   {
    "duration": 197,
    "start_time": "2021-12-23T22:02:31.940Z"
   },
   {
    "duration": 3,
    "start_time": "2021-12-23T22:02:32.139Z"
   },
   {
    "duration": 13,
    "start_time": "2021-12-23T22:02:32.143Z"
   },
   {
    "duration": 8,
    "start_time": "2021-12-23T22:02:32.157Z"
   },
   {
    "duration": 262,
    "start_time": "2021-12-23T22:02:32.167Z"
   },
   {
    "duration": 7,
    "start_time": "2021-12-23T22:02:32.430Z"
   },
   {
    "duration": 9,
    "start_time": "2021-12-23T22:02:32.439Z"
   },
   {
    "duration": 8,
    "start_time": "2021-12-23T22:02:32.450Z"
   },
   {
    "duration": 273,
    "start_time": "2021-12-23T22:02:32.459Z"
   },
   {
    "duration": 9,
    "start_time": "2021-12-23T22:02:32.734Z"
   },
   {
    "duration": 9,
    "start_time": "2021-12-23T22:02:32.744Z"
   },
   {
    "duration": 7,
    "start_time": "2021-12-23T22:02:32.754Z"
   },
   {
    "duration": 5,
    "start_time": "2021-12-23T22:02:32.763Z"
   },
   {
    "duration": 24,
    "start_time": "2021-12-23T22:02:32.769Z"
   },
   {
    "duration": 13,
    "start_time": "2021-12-23T22:02:32.796Z"
   },
   {
    "duration": 12,
    "start_time": "2021-12-23T22:02:32.811Z"
   },
   {
    "duration": 11,
    "start_time": "2021-12-23T22:02:32.824Z"
   },
   {
    "duration": 8,
    "start_time": "2021-12-23T22:02:32.837Z"
   },
   {
    "duration": 49,
    "start_time": "2021-12-23T22:02:32.846Z"
   },
   {
    "duration": 50359,
    "start_time": "2021-12-23T22:02:32.897Z"
   },
   {
    "duration": 794,
    "start_time": "2021-12-23T22:03:23.258Z"
   },
   {
    "duration": 45434,
    "start_time": "2021-12-23T22:03:24.054Z"
   },
   {
    "duration": 1384,
    "start_time": "2021-12-23T22:04:09.490Z"
   },
   {
    "duration": 123444,
    "start_time": "2021-12-23T22:04:10.876Z"
   },
   {
    "duration": 6,
    "start_time": "2021-12-23T22:06:14.321Z"
   },
   {
    "duration": 65,
    "start_time": "2021-12-23T22:06:14.328Z"
   },
   {
    "duration": 7,
    "start_time": "2021-12-23T22:06:14.395Z"
   },
   {
    "duration": 606,
    "start_time": "2021-12-23T22:06:14.403Z"
   },
   {
    "duration": 1689,
    "start_time": "2021-12-24T08:43:16.594Z"
   },
   {
    "duration": 47,
    "start_time": "2021-12-24T08:43:18.286Z"
   },
   {
    "duration": 8,
    "start_time": "2021-12-24T08:43:18.336Z"
   },
   {
    "duration": 17,
    "start_time": "2021-12-24T08:43:18.347Z"
   },
   {
    "duration": 15,
    "start_time": "2021-12-24T08:43:18.367Z"
   },
   {
    "duration": 21,
    "start_time": "2021-12-24T08:43:18.384Z"
   },
   {
    "duration": 56,
    "start_time": "2021-12-24T08:43:18.407Z"
   },
   {
    "duration": 10,
    "start_time": "2021-12-24T08:43:18.467Z"
   },
   {
    "duration": 14,
    "start_time": "2021-12-24T08:43:18.481Z"
   },
   {
    "duration": 409,
    "start_time": "2021-12-24T08:43:18.497Z"
   },
   {
    "duration": 9,
    "start_time": "2021-12-24T08:43:18.908Z"
   },
   {
    "duration": 1673,
    "start_time": "2021-12-24T08:43:18.920Z"
   },
   {
    "duration": 535,
    "start_time": "2021-12-24T08:43:20.596Z"
   },
   {
    "duration": 382,
    "start_time": "2021-12-24T08:43:21.134Z"
   },
   {
    "duration": 377,
    "start_time": "2021-12-24T08:43:21.520Z"
   },
   {
    "duration": 365,
    "start_time": "2021-12-24T08:43:21.900Z"
   },
   {
    "duration": 360,
    "start_time": "2021-12-24T08:43:22.268Z"
   },
   {
    "duration": 347,
    "start_time": "2021-12-24T08:43:22.630Z"
   },
   {
    "duration": 363,
    "start_time": "2021-12-24T08:43:22.980Z"
   },
   {
    "duration": 20,
    "start_time": "2021-12-24T08:43:23.346Z"
   },
   {
    "duration": 346,
    "start_time": "2021-12-24T08:43:23.369Z"
   },
   {
    "duration": 312,
    "start_time": "2021-12-24T08:43:23.718Z"
   },
   {
    "duration": 3,
    "start_time": "2021-12-24T08:43:24.036Z"
   },
   {
    "duration": 22,
    "start_time": "2021-12-24T08:43:24.043Z"
   },
   {
    "duration": 9,
    "start_time": "2021-12-24T08:43:24.068Z"
   },
   {
    "duration": 461,
    "start_time": "2021-12-24T08:43:24.079Z"
   },
   {
    "duration": 20,
    "start_time": "2021-12-24T08:43:24.543Z"
   },
   {
    "duration": 6,
    "start_time": "2021-12-24T08:43:24.566Z"
   },
   {
    "duration": 11,
    "start_time": "2021-12-24T08:43:24.574Z"
   },
   {
    "duration": 445,
    "start_time": "2021-12-24T08:43:24.588Z"
   },
   {
    "duration": 26,
    "start_time": "2021-12-24T08:43:25.036Z"
   },
   {
    "duration": 8,
    "start_time": "2021-12-24T08:43:25.065Z"
   },
   {
    "duration": 10,
    "start_time": "2021-12-24T08:43:25.075Z"
   },
   {
    "duration": 8,
    "start_time": "2021-12-24T08:43:25.087Z"
   },
   {
    "duration": 7,
    "start_time": "2021-12-24T08:43:25.098Z"
   },
   {
    "duration": 95,
    "start_time": "2021-12-24T08:43:25.108Z"
   },
   {
    "duration": 35,
    "start_time": "2021-12-24T08:43:25.205Z"
   },
   {
    "duration": 46,
    "start_time": "2021-12-24T08:43:25.242Z"
   },
   {
    "duration": 16,
    "start_time": "2021-12-24T08:43:25.291Z"
   },
   {
    "duration": 155,
    "start_time": "2021-12-24T08:43:25.310Z"
   },
   {
    "duration": 203872,
    "start_time": "2021-12-24T08:43:25.472Z"
   },
   {
    "duration": 2967,
    "start_time": "2021-12-24T08:46:49.346Z"
   },
   {
    "duration": 90841,
    "start_time": "2021-12-24T08:46:52.315Z"
   },
   {
    "duration": 3635,
    "start_time": "2021-12-24T08:48:23.159Z"
   },
   {
    "duration": 431404,
    "start_time": "2021-12-24T08:48:26.796Z"
   },
   {
    "duration": 74,
    "start_time": "2021-12-24T08:55:38.203Z"
   },
   {
    "duration": 18,
    "start_time": "2021-12-24T08:55:38.364Z"
   },
   {
    "duration": 97,
    "start_time": "2021-12-24T08:55:38.384Z"
   },
   {
    "duration": 594,
    "start_time": "2021-12-24T08:55:38.484Z"
   },
   {
    "duration": 701,
    "start_time": "2021-12-24T08:55:39.081Z"
   },
   {
    "duration": 103,
    "start_time": "2021-12-24T08:55:39.785Z"
   },
   {
    "duration": 462,
    "start_time": "2021-12-24T14:04:19.860Z"
   },
   {
    "duration": 1690,
    "start_time": "2021-12-24T14:04:45.696Z"
   },
   {
    "duration": 310,
    "start_time": "2021-12-24T14:04:47.388Z"
   },
   {
    "duration": 8,
    "start_time": "2021-12-24T14:04:47.701Z"
   },
   {
    "duration": 8,
    "start_time": "2021-12-24T14:04:47.711Z"
   },
   {
    "duration": 10,
    "start_time": "2021-12-24T14:04:47.721Z"
   },
   {
    "duration": 24,
    "start_time": "2021-12-24T14:04:47.759Z"
   },
   {
    "duration": 18,
    "start_time": "2021-12-24T14:04:47.785Z"
   },
   {
    "duration": 8,
    "start_time": "2021-12-24T14:04:47.806Z"
   },
   {
    "duration": 42,
    "start_time": "2021-12-24T14:04:47.817Z"
   },
   {
    "duration": 497,
    "start_time": "2021-12-24T14:04:47.862Z"
   },
   {
    "duration": 13,
    "start_time": "2021-12-24T14:04:48.362Z"
   },
   {
    "duration": 1441,
    "start_time": "2021-12-24T14:04:48.377Z"
   },
   {
    "duration": 473,
    "start_time": "2021-12-24T14:04:49.820Z"
   },
   {
    "duration": 366,
    "start_time": "2021-12-24T14:04:50.295Z"
   },
   {
    "duration": 330,
    "start_time": "2021-12-24T14:04:50.664Z"
   },
   {
    "duration": 368,
    "start_time": "2021-12-24T14:04:50.996Z"
   },
   {
    "duration": 389,
    "start_time": "2021-12-24T14:04:51.368Z"
   },
   {
    "duration": 7,
    "start_time": "2021-12-24T14:07:09.406Z"
   },
   {
    "duration": 55,
    "start_time": "2021-12-24T14:07:09.416Z"
   },
   {
    "duration": 8,
    "start_time": "2021-12-24T14:07:09.474Z"
   },
   {
    "duration": 5,
    "start_time": "2021-12-24T14:07:09.485Z"
   },
   {
    "duration": 10,
    "start_time": "2021-12-24T14:07:09.492Z"
   },
   {
    "duration": 59,
    "start_time": "2021-12-24T14:07:09.505Z"
   },
   {
    "duration": 11,
    "start_time": "2021-12-24T14:07:09.566Z"
   },
   {
    "duration": 9,
    "start_time": "2021-12-24T14:07:09.579Z"
   },
   {
    "duration": 9,
    "start_time": "2021-12-24T14:07:09.592Z"
   },
   {
    "duration": 388,
    "start_time": "2021-12-24T14:07:09.603Z"
   },
   {
    "duration": 8,
    "start_time": "2021-12-24T14:07:09.994Z"
   },
   {
    "duration": 1554,
    "start_time": "2021-12-24T14:07:10.005Z"
   },
   {
    "duration": 430,
    "start_time": "2021-12-24T14:07:11.561Z"
   },
   {
    "duration": 371,
    "start_time": "2021-12-24T14:07:11.994Z"
   },
   {
    "duration": 518,
    "start_time": "2021-12-24T14:07:12.367Z"
   },
   {
    "duration": 454,
    "start_time": "2021-12-24T14:07:12.887Z"
   },
   {
    "duration": 426,
    "start_time": "2021-12-24T14:07:13.344Z"
   },
   {
    "duration": 349,
    "start_time": "2021-12-24T14:07:13.773Z"
   },
   {
    "duration": 496,
    "start_time": "2021-12-24T14:07:14.124Z"
   },
   {
    "duration": 19,
    "start_time": "2021-12-24T14:07:14.661Z"
   },
   {
    "duration": 384,
    "start_time": "2021-12-24T14:07:14.683Z"
   },
   {
    "duration": 419,
    "start_time": "2021-12-24T14:07:15.070Z"
   },
   {
    "duration": 4,
    "start_time": "2021-12-24T14:07:15.492Z"
   },
   {
    "duration": 20,
    "start_time": "2021-12-24T14:07:15.499Z"
   },
   {
    "duration": 9,
    "start_time": "2021-12-24T14:07:15.522Z"
   },
   {
    "duration": 450,
    "start_time": "2021-12-24T14:07:15.533Z"
   },
   {
    "duration": 9,
    "start_time": "2021-12-24T14:07:15.991Z"
   },
   {
    "duration": 7,
    "start_time": "2021-12-24T14:07:16.003Z"
   },
   {
    "duration": 47,
    "start_time": "2021-12-24T14:07:16.012Z"
   },
   {
    "duration": 433,
    "start_time": "2021-12-24T14:07:16.062Z"
   },
   {
    "duration": 12,
    "start_time": "2021-12-24T14:07:16.498Z"
   },
   {
    "duration": 5,
    "start_time": "2021-12-24T14:07:16.513Z"
   },
   {
    "duration": 42,
    "start_time": "2021-12-24T14:07:16.520Z"
   },
   {
    "duration": 10,
    "start_time": "2021-12-24T14:07:16.565Z"
   },
   {
    "duration": 6,
    "start_time": "2021-12-24T14:07:16.577Z"
   },
   {
    "duration": 94,
    "start_time": "2021-12-24T14:07:16.586Z"
   },
   {
    "duration": 31,
    "start_time": "2021-12-24T14:07:16.682Z"
   },
   {
    "duration": 47,
    "start_time": "2021-12-24T14:07:16.715Z"
   },
   {
    "duration": 14,
    "start_time": "2021-12-24T14:07:16.764Z"
   },
   {
    "duration": 179,
    "start_time": "2021-12-24T14:07:16.781Z"
   },
   {
    "duration": 188140,
    "start_time": "2021-12-24T14:07:16.963Z"
   },
   {
    "duration": 3059,
    "start_time": "2021-12-24T14:10:25.105Z"
   },
   {
    "duration": 112125,
    "start_time": "2021-12-24T14:10:28.166Z"
   },
   {
    "duration": 2769,
    "start_time": "2021-12-24T14:12:20.293Z"
   },
   {
    "duration": -3818,
    "start_time": "2021-12-24T15:21:34.420Z"
   },
   {
    "duration": -3823,
    "start_time": "2021-12-24T15:21:34.429Z"
   },
   {
    "duration": -3825,
    "start_time": "2021-12-24T15:21:34.435Z"
   },
   {
    "duration": -3828,
    "start_time": "2021-12-24T15:21:34.441Z"
   },
   {
    "duration": -3829,
    "start_time": "2021-12-24T15:21:34.445Z"
   },
   {
    "duration": -3833,
    "start_time": "2021-12-24T15:21:34.451Z"
   },
   {
    "duration": -3835,
    "start_time": "2021-12-24T15:21:34.455Z"
   },
   {
    "duration": -3840,
    "start_time": "2021-12-24T15:21:34.461Z"
   },
   {
    "duration": -3864,
    "start_time": "2021-12-24T15:21:34.487Z"
   },
   {
    "duration": -3867,
    "start_time": "2021-12-24T15:21:34.492Z"
   },
   {
    "duration": -3877,
    "start_time": "2021-12-24T15:21:34.503Z"
   },
   {
    "duration": -3851,
    "start_time": "2021-12-24T15:21:34.511Z"
   },
   {
    "duration": -3861,
    "start_time": "2021-12-24T15:21:34.523Z"
   },
   {
    "duration": -3869,
    "start_time": "2021-12-24T15:21:34.532Z"
   },
   {
    "duration": -3874,
    "start_time": "2021-12-24T15:21:34.538Z"
   },
   {
    "duration": -3877,
    "start_time": "2021-12-24T15:21:34.543Z"
   },
   {
    "duration": -3880,
    "start_time": "2021-12-24T15:21:34.548Z"
   },
   {
    "duration": -3884,
    "start_time": "2021-12-24T15:21:34.553Z"
   },
   {
    "duration": -3893,
    "start_time": "2021-12-24T15:21:34.563Z"
   },
   {
    "duration": -3896,
    "start_time": "2021-12-24T15:21:34.568Z"
   },
   {
    "duration": -3926,
    "start_time": "2021-12-24T15:21:34.600Z"
   },
   {
    "duration": -3933,
    "start_time": "2021-12-24T15:21:34.608Z"
   },
   {
    "duration": -3939,
    "start_time": "2021-12-24T15:21:34.615Z"
   },
   {
    "duration": -3948,
    "start_time": "2021-12-24T15:21:34.626Z"
   },
   {
    "duration": -3955,
    "start_time": "2021-12-24T15:21:34.634Z"
   },
   {
    "duration": -3964,
    "start_time": "2021-12-24T15:21:34.645Z"
   },
   {
    "duration": -3971,
    "start_time": "2021-12-24T15:21:34.653Z"
   },
   {
    "duration": -3975,
    "start_time": "2021-12-24T15:21:34.659Z"
   },
   {
    "duration": -3978,
    "start_time": "2021-12-24T15:21:34.664Z"
   },
   {
    "duration": -3983,
    "start_time": "2021-12-24T15:21:34.671Z"
   },
   {
    "duration": -3988,
    "start_time": "2021-12-24T15:21:34.678Z"
   },
   {
    "duration": -3990,
    "start_time": "2021-12-24T15:21:34.682Z"
   },
   {
    "duration": -4064,
    "start_time": "2021-12-24T15:21:34.758Z"
   },
   {
    "duration": -4075,
    "start_time": "2021-12-24T15:21:34.770Z"
   },
   {
    "duration": -4083,
    "start_time": "2021-12-24T15:21:34.780Z"
   },
   {
    "duration": -4090,
    "start_time": "2021-12-24T15:21:34.789Z"
   },
   {
    "duration": -4098,
    "start_time": "2021-12-24T15:21:34.799Z"
   },
   {
    "duration": -4103,
    "start_time": "2021-12-24T15:21:34.805Z"
   },
   {
    "duration": -4107,
    "start_time": "2021-12-24T15:21:34.811Z"
   },
   {
    "duration": -4113,
    "start_time": "2021-12-24T15:21:34.819Z"
   },
   {
    "duration": -4117,
    "start_time": "2021-12-24T15:21:34.825Z"
   },
   {
    "duration": -4124,
    "start_time": "2021-12-24T15:21:34.833Z"
   },
   {
    "duration": -4077,
    "start_time": "2021-12-24T15:21:34.839Z"
   },
   {
    "duration": -4081,
    "start_time": "2021-12-24T15:21:34.845Z"
   },
   {
    "duration": -4083,
    "start_time": "2021-12-24T15:21:34.849Z"
   },
   {
    "duration": -4086,
    "start_time": "2021-12-24T15:21:34.854Z"
   },
   {
    "duration": -4088,
    "start_time": "2021-12-24T15:21:34.859Z"
   },
   {
    "duration": -4095,
    "start_time": "2021-12-24T15:21:34.867Z"
   },
   {
    "duration": -4097,
    "start_time": "2021-12-24T15:21:34.871Z"
   },
   {
    "duration": -4099,
    "start_time": "2021-12-24T15:21:34.875Z"
   },
   {
    "duration": -4101,
    "start_time": "2021-12-24T15:21:34.879Z"
   }
  ],
  "kernelspec": {
   "display_name": "Python 3",
   "language": "python",
   "name": "python3"
  },
  "language_info": {
   "codemirror_mode": {
    "name": "ipython",
    "version": 3
   },
   "file_extension": ".py",
   "mimetype": "text/x-python",
   "name": "python",
   "nbconvert_exporter": "python",
   "pygments_lexer": "ipython3",
   "version": "3.8.5"
  },
  "toc": {
   "base_numbering": 1,
   "nav_menu": {},
   "number_sections": true,
   "sideBar": true,
   "skip_h1_title": true,
   "title_cell": "Table of Contents",
   "title_sidebar": "Contents",
   "toc_cell": false,
   "toc_position": {},
   "toc_section_display": true,
   "toc_window_display": false
  }
 },
 "nbformat": 4,
 "nbformat_minor": 2
}
