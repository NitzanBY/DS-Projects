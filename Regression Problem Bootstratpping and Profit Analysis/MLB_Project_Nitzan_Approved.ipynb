{
 "cells": [
  {
   "cell_type": "markdown",
   "metadata": {},
   "source": [
    "#### Importing Python libraries"
   ]
  },
  {
   "cell_type": "code",
   "execution_count": 1,
   "metadata": {},
   "outputs": [],
   "source": [
    "!pip install -q --upgrade pandas"
   ]
  },
  {
   "cell_type": "code",
   "execution_count": 1,
   "metadata": {},
   "outputs": [],
   "source": [
    "# Basic\n",
    "import pandas as pd\n",
    "import numpy as np\n",
    "import seaborn as sns\n",
    "import matplotlib.pyplot as plt\n",
    "import plotly.express as px\n",
    "import warnings\n",
    "from scipy import stats as st\n",
    "warnings.filterwarnings(\"ignore\")\n",
    "\n",
    "# Preprocessing\n",
    "from sklearn.model_selection import train_test_split\n",
    "from sklearn.preprocessing import StandardScaler \n",
    "from sklearn.utils import shuffle\n",
    "from sklearn.preprocessing import OrdinalEncoder \n",
    "\n",
    "# Modelling\n",
    "from sklearn.tree import DecisionTreeClassifier\n",
    "from sklearn.ensemble import RandomForestClassifier\n",
    "from sklearn.model_selection import RandomizedSearchCV\n",
    "from sklearn.linear_model import LogisticRegression \n",
    "from sklearn.model_selection import GridSearchCV\n",
    "from sklearn import tree\n",
    "from sklearn.linear_model import LogisticRegressionCV\n",
    "from sklearn.model_selection import cross_val_score\n",
    "from sklearn.model_selection import StratifiedKFold\n",
    "#from imblearn.pipeline import Pipeline\n",
    "from sklearn.linear_model import LinearRegression\n",
    "\n",
    "# Metrics\n",
    "from sklearn.metrics import accuracy_score \n",
    "from sklearn.metrics import roc_auc_score\n",
    "from sklearn.metrics import precision_score\n",
    "from sklearn.metrics import recall_score\n",
    "from sklearn.metrics import f1_score\n",
    "from sklearn.metrics import confusion_matrix\n",
    "from sklearn.metrics import precision_recall_curve\n",
    "from sklearn.metrics import roc_curve \n",
    "from sklearn.dummy import DummyClassifier\n",
    "from sklearn.metrics import mean_squared_error\n",
    "\n",
    "# Visualization\n",
    "import seaborn as sns"
   ]
  },
  {
   "cell_type": "markdown",
   "metadata": {},
   "source": [
    "# Machine Learning For Business Project\n",
    "### Project Description:"
   ]
  },
  {
   "cell_type": "markdown",
   "metadata": {},
   "source": [
    "OilyGiant is a mining company. Our task is to find the best place for a new well.\n",
    "\n",
    "We have data on oil samples from three regions. Parameters of each oil well in the region are already known. \n",
    "We are asked to build a model that will help to pick the region with the highest profit margin and risk of losses lower than 2.5%\n",
    "\n",
    "\n",
    "The information given is as follows:\n",
    "\n",
    "Features:\n",
    "\n",
    "- id — unique oil well identifier\n",
    "- f0, f1, f2 — three features of points (their specific meaning is unimportant,but the features themselves are significant)\n",
    "\n",
    "Target:\n",
    "\n",
    "- product — volume of reserves in the oil well (thousand barrels)."
   ]
  },
  {
   "cell_type": "markdown",
   "metadata": {},
   "source": [
    "<a id=\"contents\"></a>\n",
    "# Table of contents\n",
    "\n",
    "- [Step 1](#step1) Data loading and preprocessing\n",
    "- [Step 2](#step2) Train and test the model for each region\n",
    "- [Step 3](#step3) Prepare for profit calculation:\n",
    "- [Step 4](#step4) Write a function to calculate profit from a set of selected oil wells and model predictions\n",
    "- [Step 5](#step5) Calculate risks and profit for each region"
   ]
  },
  {
   "cell_type": "markdown",
   "metadata": {},
   "source": [
    "<a id=\"step1\"></a>\n",
    "## Step 1. Data loading and preprocessing\n",
    "\n",
    "[back to table of contents](#contents)"
   ]
  },
  {
   "cell_type": "markdown",
   "metadata": {},
   "source": [
    "### Download and study the data"
   ]
  },
  {
   "cell_type": "code",
   "execution_count": 2,
   "metadata": {},
   "outputs": [],
   "source": [
    "# Downloading the file and saving the data as a datafarme\n",
    "try:\n",
    "    geo_data_0     = pd.read_csv('/datasets/geo_data_0.csv')\n",
    "    geo_data_1     = pd.read_csv('/datasets/geo_data_1.csv')\n",
    "    geo_data_2     = pd.read_csv('/datasets/geo_data_2.csv')\n",
    "except:\n",
    "    geo_data_0     = pd.read_csv('geo_data_0.csv' , encoding = \"ISO-8859-1\")\n",
    "    geo_data_1     = pd.read_csv('geo_data_1.csv' , encoding = \"ISO-8859-1\")\n",
    "    geo_data_2     = pd.read_csv('geo_data_2.csv' , encoding = \"ISO-8859-1\")"
   ]
  },
  {
   "cell_type": "code",
   "execution_count": 5,
   "metadata": {},
   "outputs": [
    {
     "data": {
      "text/html": [
       "<div>\n",
       "<style scoped>\n",
       "    .dataframe tbody tr th:only-of-type {\n",
       "        vertical-align: middle;\n",
       "    }\n",
       "\n",
       "    .dataframe tbody tr th {\n",
       "        vertical-align: top;\n",
       "    }\n",
       "\n",
       "    .dataframe thead th {\n",
       "        text-align: right;\n",
       "    }\n",
       "</style>\n",
       "<table border=\"1\" class=\"dataframe\">\n",
       "  <thead>\n",
       "    <tr style=\"text-align: right;\">\n",
       "      <th></th>\n",
       "      <th>id</th>\n",
       "      <th>f0</th>\n",
       "      <th>f1</th>\n",
       "      <th>f2</th>\n",
       "      <th>product</th>\n",
       "    </tr>\n",
       "  </thead>\n",
       "  <tbody>\n",
       "    <tr>\n",
       "      <th>0</th>\n",
       "      <td>txEyH</td>\n",
       "      <td>0.705745</td>\n",
       "      <td>-0.497823</td>\n",
       "      <td>1.221170</td>\n",
       "      <td>105.280062</td>\n",
       "    </tr>\n",
       "    <tr>\n",
       "      <th>1</th>\n",
       "      <td>2acmU</td>\n",
       "      <td>1.334711</td>\n",
       "      <td>-0.340164</td>\n",
       "      <td>4.365080</td>\n",
       "      <td>73.037750</td>\n",
       "    </tr>\n",
       "    <tr>\n",
       "      <th>2</th>\n",
       "      <td>409Wp</td>\n",
       "      <td>1.022732</td>\n",
       "      <td>0.151990</td>\n",
       "      <td>1.419926</td>\n",
       "      <td>85.265647</td>\n",
       "    </tr>\n",
       "    <tr>\n",
       "      <th>3</th>\n",
       "      <td>iJLyR</td>\n",
       "      <td>-0.032172</td>\n",
       "      <td>0.139033</td>\n",
       "      <td>2.978566</td>\n",
       "      <td>168.620776</td>\n",
       "    </tr>\n",
       "    <tr>\n",
       "      <th>4</th>\n",
       "      <td>Xdl7t</td>\n",
       "      <td>1.988431</td>\n",
       "      <td>0.155413</td>\n",
       "      <td>4.751769</td>\n",
       "      <td>154.036647</td>\n",
       "    </tr>\n",
       "  </tbody>\n",
       "</table>\n",
       "</div>"
      ],
      "text/plain": [
       "      id        f0        f1        f2     product\n",
       "0  txEyH  0.705745 -0.497823  1.221170  105.280062\n",
       "1  2acmU  1.334711 -0.340164  4.365080   73.037750\n",
       "2  409Wp  1.022732  0.151990  1.419926   85.265647\n",
       "3  iJLyR -0.032172  0.139033  2.978566  168.620776\n",
       "4  Xdl7t  1.988431  0.155413  4.751769  154.036647"
      ]
     },
     "execution_count": 5,
     "metadata": {},
     "output_type": "execute_result"
    }
   ],
   "source": [
    "geo_data_0.head()"
   ]
  },
  {
   "cell_type": "code",
   "execution_count": 6,
   "metadata": {},
   "outputs": [
    {
     "data": {
      "text/html": [
       "<div>\n",
       "<style scoped>\n",
       "    .dataframe tbody tr th:only-of-type {\n",
       "        vertical-align: middle;\n",
       "    }\n",
       "\n",
       "    .dataframe tbody tr th {\n",
       "        vertical-align: top;\n",
       "    }\n",
       "\n",
       "    .dataframe thead th {\n",
       "        text-align: right;\n",
       "    }\n",
       "</style>\n",
       "<table border=\"1\" class=\"dataframe\">\n",
       "  <thead>\n",
       "    <tr style=\"text-align: right;\">\n",
       "      <th></th>\n",
       "      <th>id</th>\n",
       "      <th>f0</th>\n",
       "      <th>f1</th>\n",
       "      <th>f2</th>\n",
       "      <th>product</th>\n",
       "    </tr>\n",
       "  </thead>\n",
       "  <tbody>\n",
       "    <tr>\n",
       "      <th>0</th>\n",
       "      <td>kBEdx</td>\n",
       "      <td>-15.001348</td>\n",
       "      <td>-8.276000</td>\n",
       "      <td>-0.005876</td>\n",
       "      <td>3.179103</td>\n",
       "    </tr>\n",
       "    <tr>\n",
       "      <th>1</th>\n",
       "      <td>62mP7</td>\n",
       "      <td>14.272088</td>\n",
       "      <td>-3.475083</td>\n",
       "      <td>0.999183</td>\n",
       "      <td>26.953261</td>\n",
       "    </tr>\n",
       "    <tr>\n",
       "      <th>2</th>\n",
       "      <td>vyE1P</td>\n",
       "      <td>6.263187</td>\n",
       "      <td>-5.948386</td>\n",
       "      <td>5.001160</td>\n",
       "      <td>134.766305</td>\n",
       "    </tr>\n",
       "    <tr>\n",
       "      <th>3</th>\n",
       "      <td>KcrkZ</td>\n",
       "      <td>-13.081196</td>\n",
       "      <td>-11.506057</td>\n",
       "      <td>4.999415</td>\n",
       "      <td>137.945408</td>\n",
       "    </tr>\n",
       "    <tr>\n",
       "      <th>4</th>\n",
       "      <td>AHL4O</td>\n",
       "      <td>12.702195</td>\n",
       "      <td>-8.147433</td>\n",
       "      <td>5.004363</td>\n",
       "      <td>134.766305</td>\n",
       "    </tr>\n",
       "  </tbody>\n",
       "</table>\n",
       "</div>"
      ],
      "text/plain": [
       "      id         f0         f1        f2     product\n",
       "0  kBEdx -15.001348  -8.276000 -0.005876    3.179103\n",
       "1  62mP7  14.272088  -3.475083  0.999183   26.953261\n",
       "2  vyE1P   6.263187  -5.948386  5.001160  134.766305\n",
       "3  KcrkZ -13.081196 -11.506057  4.999415  137.945408\n",
       "4  AHL4O  12.702195  -8.147433  5.004363  134.766305"
      ]
     },
     "execution_count": 6,
     "metadata": {},
     "output_type": "execute_result"
    }
   ],
   "source": [
    "geo_data_1.head()"
   ]
  },
  {
   "cell_type": "code",
   "execution_count": 7,
   "metadata": {},
   "outputs": [
    {
     "data": {
      "text/html": [
       "<div>\n",
       "<style scoped>\n",
       "    .dataframe tbody tr th:only-of-type {\n",
       "        vertical-align: middle;\n",
       "    }\n",
       "\n",
       "    .dataframe tbody tr th {\n",
       "        vertical-align: top;\n",
       "    }\n",
       "\n",
       "    .dataframe thead th {\n",
       "        text-align: right;\n",
       "    }\n",
       "</style>\n",
       "<table border=\"1\" class=\"dataframe\">\n",
       "  <thead>\n",
       "    <tr style=\"text-align: right;\">\n",
       "      <th></th>\n",
       "      <th>id</th>\n",
       "      <th>f0</th>\n",
       "      <th>f1</th>\n",
       "      <th>f2</th>\n",
       "      <th>product</th>\n",
       "    </tr>\n",
       "  </thead>\n",
       "  <tbody>\n",
       "    <tr>\n",
       "      <th>0</th>\n",
       "      <td>fwXo0</td>\n",
       "      <td>-1.146987</td>\n",
       "      <td>0.963328</td>\n",
       "      <td>-0.828965</td>\n",
       "      <td>27.758673</td>\n",
       "    </tr>\n",
       "    <tr>\n",
       "      <th>1</th>\n",
       "      <td>WJtFt</td>\n",
       "      <td>0.262778</td>\n",
       "      <td>0.269839</td>\n",
       "      <td>-2.530187</td>\n",
       "      <td>56.069697</td>\n",
       "    </tr>\n",
       "    <tr>\n",
       "      <th>2</th>\n",
       "      <td>ovLUW</td>\n",
       "      <td>0.194587</td>\n",
       "      <td>0.289035</td>\n",
       "      <td>-5.586433</td>\n",
       "      <td>62.871910</td>\n",
       "    </tr>\n",
       "    <tr>\n",
       "      <th>3</th>\n",
       "      <td>q6cA6</td>\n",
       "      <td>2.236060</td>\n",
       "      <td>-0.553760</td>\n",
       "      <td>0.930038</td>\n",
       "      <td>114.572842</td>\n",
       "    </tr>\n",
       "    <tr>\n",
       "      <th>4</th>\n",
       "      <td>WPMUX</td>\n",
       "      <td>-0.515993</td>\n",
       "      <td>1.716266</td>\n",
       "      <td>5.899011</td>\n",
       "      <td>149.600746</td>\n",
       "    </tr>\n",
       "  </tbody>\n",
       "</table>\n",
       "</div>"
      ],
      "text/plain": [
       "      id        f0        f1        f2     product\n",
       "0  fwXo0 -1.146987  0.963328 -0.828965   27.758673\n",
       "1  WJtFt  0.262778  0.269839 -2.530187   56.069697\n",
       "2  ovLUW  0.194587  0.289035 -5.586433   62.871910\n",
       "3  q6cA6  2.236060 -0.553760  0.930038  114.572842\n",
       "4  WPMUX -0.515993  1.716266  5.899011  149.600746"
      ]
     },
     "execution_count": 7,
     "metadata": {},
     "output_type": "execute_result"
    }
   ],
   "source": [
    "geo_data_2.head()"
   ]
  },
  {
   "cell_type": "code",
   "execution_count": 8,
   "metadata": {},
   "outputs": [
    {
     "name": "stdout",
     "output_type": "stream",
     "text": [
      "<class 'pandas.core.frame.DataFrame'>\n",
      "RangeIndex: 100000 entries, 0 to 99999\n",
      "Data columns (total 5 columns):\n",
      " #   Column   Non-Null Count   Dtype  \n",
      "---  ------   --------------   -----  \n",
      " 0   id       100000 non-null  object \n",
      " 1   f0       100000 non-null  float64\n",
      " 2   f1       100000 non-null  float64\n",
      " 3   f2       100000 non-null  float64\n",
      " 4   product  100000 non-null  float64\n",
      "dtypes: float64(4), object(1)\n",
      "memory usage: 3.8+ MB\n"
     ]
    }
   ],
   "source": [
    "geo_data_0.info()"
   ]
  },
  {
   "cell_type": "code",
   "execution_count": 9,
   "metadata": {},
   "outputs": [
    {
     "name": "stdout",
     "output_type": "stream",
     "text": [
      "<class 'pandas.core.frame.DataFrame'>\n",
      "RangeIndex: 100000 entries, 0 to 99999\n",
      "Data columns (total 5 columns):\n",
      " #   Column   Non-Null Count   Dtype  \n",
      "---  ------   --------------   -----  \n",
      " 0   id       100000 non-null  object \n",
      " 1   f0       100000 non-null  float64\n",
      " 2   f1       100000 non-null  float64\n",
      " 3   f2       100000 non-null  float64\n",
      " 4   product  100000 non-null  float64\n",
      "dtypes: float64(4), object(1)\n",
      "memory usage: 3.8+ MB\n"
     ]
    }
   ],
   "source": [
    "geo_data_1.info()"
   ]
  },
  {
   "cell_type": "code",
   "execution_count": 10,
   "metadata": {},
   "outputs": [
    {
     "name": "stdout",
     "output_type": "stream",
     "text": [
      "<class 'pandas.core.frame.DataFrame'>\n",
      "RangeIndex: 100000 entries, 0 to 99999\n",
      "Data columns (total 5 columns):\n",
      " #   Column   Non-Null Count   Dtype  \n",
      "---  ------   --------------   -----  \n",
      " 0   id       100000 non-null  object \n",
      " 1   f0       100000 non-null  float64\n",
      " 2   f1       100000 non-null  float64\n",
      " 3   f2       100000 non-null  float64\n",
      " 4   product  100000 non-null  float64\n",
      "dtypes: float64(4), object(1)\n",
      "memory usage: 3.8+ MB\n"
     ]
    }
   ],
   "source": [
    "geo_data_2.info()"
   ]
  },
  {
   "cell_type": "code",
   "execution_count": 11,
   "metadata": {},
   "outputs": [
    {
     "data": {
      "text/html": [
       "<div>\n",
       "<style scoped>\n",
       "    .dataframe tbody tr th:only-of-type {\n",
       "        vertical-align: middle;\n",
       "    }\n",
       "\n",
       "    .dataframe tbody tr th {\n",
       "        vertical-align: top;\n",
       "    }\n",
       "\n",
       "    .dataframe thead th {\n",
       "        text-align: right;\n",
       "    }\n",
       "</style>\n",
       "<table border=\"1\" class=\"dataframe\">\n",
       "  <thead>\n",
       "    <tr style=\"text-align: right;\">\n",
       "      <th></th>\n",
       "      <th>f0</th>\n",
       "      <th>f1</th>\n",
       "      <th>f2</th>\n",
       "      <th>product</th>\n",
       "    </tr>\n",
       "  </thead>\n",
       "  <tbody>\n",
       "    <tr>\n",
       "      <th>count</th>\n",
       "      <td>100000.000000</td>\n",
       "      <td>100000.000000</td>\n",
       "      <td>100000.000000</td>\n",
       "      <td>100000.000000</td>\n",
       "    </tr>\n",
       "    <tr>\n",
       "      <th>mean</th>\n",
       "      <td>0.500419</td>\n",
       "      <td>0.250143</td>\n",
       "      <td>2.502647</td>\n",
       "      <td>92.500000</td>\n",
       "    </tr>\n",
       "    <tr>\n",
       "      <th>std</th>\n",
       "      <td>0.871832</td>\n",
       "      <td>0.504433</td>\n",
       "      <td>3.248248</td>\n",
       "      <td>44.288691</td>\n",
       "    </tr>\n",
       "    <tr>\n",
       "      <th>min</th>\n",
       "      <td>-1.408605</td>\n",
       "      <td>-0.848218</td>\n",
       "      <td>-12.088328</td>\n",
       "      <td>0.000000</td>\n",
       "    </tr>\n",
       "    <tr>\n",
       "      <th>25%</th>\n",
       "      <td>-0.072580</td>\n",
       "      <td>-0.200881</td>\n",
       "      <td>0.287748</td>\n",
       "      <td>56.497507</td>\n",
       "    </tr>\n",
       "    <tr>\n",
       "      <th>50%</th>\n",
       "      <td>0.502360</td>\n",
       "      <td>0.250252</td>\n",
       "      <td>2.515969</td>\n",
       "      <td>91.849972</td>\n",
       "    </tr>\n",
       "    <tr>\n",
       "      <th>75%</th>\n",
       "      <td>1.073581</td>\n",
       "      <td>0.700646</td>\n",
       "      <td>4.715088</td>\n",
       "      <td>128.564089</td>\n",
       "    </tr>\n",
       "    <tr>\n",
       "      <th>max</th>\n",
       "      <td>2.362331</td>\n",
       "      <td>1.343769</td>\n",
       "      <td>16.003790</td>\n",
       "      <td>185.364347</td>\n",
       "    </tr>\n",
       "  </tbody>\n",
       "</table>\n",
       "</div>"
      ],
      "text/plain": [
       "                  f0             f1             f2        product\n",
       "count  100000.000000  100000.000000  100000.000000  100000.000000\n",
       "mean        0.500419       0.250143       2.502647      92.500000\n",
       "std         0.871832       0.504433       3.248248      44.288691\n",
       "min        -1.408605      -0.848218     -12.088328       0.000000\n",
       "25%        -0.072580      -0.200881       0.287748      56.497507\n",
       "50%         0.502360       0.250252       2.515969      91.849972\n",
       "75%         1.073581       0.700646       4.715088     128.564089\n",
       "max         2.362331       1.343769      16.003790     185.364347"
      ]
     },
     "execution_count": 11,
     "metadata": {},
     "output_type": "execute_result"
    }
   ],
   "source": [
    "geo_data_0.describe()"
   ]
  },
  {
   "cell_type": "code",
   "execution_count": 12,
   "metadata": {},
   "outputs": [
    {
     "data": {
      "text/html": [
       "<div>\n",
       "<style scoped>\n",
       "    .dataframe tbody tr th:only-of-type {\n",
       "        vertical-align: middle;\n",
       "    }\n",
       "\n",
       "    .dataframe tbody tr th {\n",
       "        vertical-align: top;\n",
       "    }\n",
       "\n",
       "    .dataframe thead th {\n",
       "        text-align: right;\n",
       "    }\n",
       "</style>\n",
       "<table border=\"1\" class=\"dataframe\">\n",
       "  <thead>\n",
       "    <tr style=\"text-align: right;\">\n",
       "      <th></th>\n",
       "      <th>f0</th>\n",
       "      <th>f1</th>\n",
       "      <th>f2</th>\n",
       "      <th>product</th>\n",
       "    </tr>\n",
       "  </thead>\n",
       "  <tbody>\n",
       "    <tr>\n",
       "      <th>count</th>\n",
       "      <td>100000.000000</td>\n",
       "      <td>100000.000000</td>\n",
       "      <td>100000.000000</td>\n",
       "      <td>100000.000000</td>\n",
       "    </tr>\n",
       "    <tr>\n",
       "      <th>mean</th>\n",
       "      <td>1.141296</td>\n",
       "      <td>-4.796579</td>\n",
       "      <td>2.494541</td>\n",
       "      <td>68.825000</td>\n",
       "    </tr>\n",
       "    <tr>\n",
       "      <th>std</th>\n",
       "      <td>8.965932</td>\n",
       "      <td>5.119872</td>\n",
       "      <td>1.703572</td>\n",
       "      <td>45.944423</td>\n",
       "    </tr>\n",
       "    <tr>\n",
       "      <th>min</th>\n",
       "      <td>-31.609576</td>\n",
       "      <td>-26.358598</td>\n",
       "      <td>-0.018144</td>\n",
       "      <td>0.000000</td>\n",
       "    </tr>\n",
       "    <tr>\n",
       "      <th>25%</th>\n",
       "      <td>-6.298551</td>\n",
       "      <td>-8.267985</td>\n",
       "      <td>1.000021</td>\n",
       "      <td>26.953261</td>\n",
       "    </tr>\n",
       "    <tr>\n",
       "      <th>50%</th>\n",
       "      <td>1.153055</td>\n",
       "      <td>-4.813172</td>\n",
       "      <td>2.011479</td>\n",
       "      <td>57.085625</td>\n",
       "    </tr>\n",
       "    <tr>\n",
       "      <th>75%</th>\n",
       "      <td>8.621015</td>\n",
       "      <td>-1.332816</td>\n",
       "      <td>3.999904</td>\n",
       "      <td>107.813044</td>\n",
       "    </tr>\n",
       "    <tr>\n",
       "      <th>max</th>\n",
       "      <td>29.421755</td>\n",
       "      <td>18.734063</td>\n",
       "      <td>5.019721</td>\n",
       "      <td>137.945408</td>\n",
       "    </tr>\n",
       "  </tbody>\n",
       "</table>\n",
       "</div>"
      ],
      "text/plain": [
       "                  f0             f1             f2        product\n",
       "count  100000.000000  100000.000000  100000.000000  100000.000000\n",
       "mean        1.141296      -4.796579       2.494541      68.825000\n",
       "std         8.965932       5.119872       1.703572      45.944423\n",
       "min       -31.609576     -26.358598      -0.018144       0.000000\n",
       "25%        -6.298551      -8.267985       1.000021      26.953261\n",
       "50%         1.153055      -4.813172       2.011479      57.085625\n",
       "75%         8.621015      -1.332816       3.999904     107.813044\n",
       "max        29.421755      18.734063       5.019721     137.945408"
      ]
     },
     "execution_count": 12,
     "metadata": {},
     "output_type": "execute_result"
    }
   ],
   "source": [
    "geo_data_1.describe()"
   ]
  },
  {
   "cell_type": "code",
   "execution_count": 13,
   "metadata": {},
   "outputs": [
    {
     "data": {
      "text/html": [
       "<div>\n",
       "<style scoped>\n",
       "    .dataframe tbody tr th:only-of-type {\n",
       "        vertical-align: middle;\n",
       "    }\n",
       "\n",
       "    .dataframe tbody tr th {\n",
       "        vertical-align: top;\n",
       "    }\n",
       "\n",
       "    .dataframe thead th {\n",
       "        text-align: right;\n",
       "    }\n",
       "</style>\n",
       "<table border=\"1\" class=\"dataframe\">\n",
       "  <thead>\n",
       "    <tr style=\"text-align: right;\">\n",
       "      <th></th>\n",
       "      <th>f0</th>\n",
       "      <th>f1</th>\n",
       "      <th>f2</th>\n",
       "      <th>product</th>\n",
       "    </tr>\n",
       "  </thead>\n",
       "  <tbody>\n",
       "    <tr>\n",
       "      <th>count</th>\n",
       "      <td>100000.000000</td>\n",
       "      <td>100000.000000</td>\n",
       "      <td>100000.000000</td>\n",
       "      <td>100000.000000</td>\n",
       "    </tr>\n",
       "    <tr>\n",
       "      <th>mean</th>\n",
       "      <td>0.002023</td>\n",
       "      <td>-0.002081</td>\n",
       "      <td>2.495128</td>\n",
       "      <td>95.000000</td>\n",
       "    </tr>\n",
       "    <tr>\n",
       "      <th>std</th>\n",
       "      <td>1.732045</td>\n",
       "      <td>1.730417</td>\n",
       "      <td>3.473445</td>\n",
       "      <td>44.749921</td>\n",
       "    </tr>\n",
       "    <tr>\n",
       "      <th>min</th>\n",
       "      <td>-8.760004</td>\n",
       "      <td>-7.084020</td>\n",
       "      <td>-11.970335</td>\n",
       "      <td>0.000000</td>\n",
       "    </tr>\n",
       "    <tr>\n",
       "      <th>25%</th>\n",
       "      <td>-1.162288</td>\n",
       "      <td>-1.174820</td>\n",
       "      <td>0.130359</td>\n",
       "      <td>59.450441</td>\n",
       "    </tr>\n",
       "    <tr>\n",
       "      <th>50%</th>\n",
       "      <td>0.009424</td>\n",
       "      <td>-0.009482</td>\n",
       "      <td>2.484236</td>\n",
       "      <td>94.925613</td>\n",
       "    </tr>\n",
       "    <tr>\n",
       "      <th>75%</th>\n",
       "      <td>1.158535</td>\n",
       "      <td>1.163678</td>\n",
       "      <td>4.858794</td>\n",
       "      <td>130.595027</td>\n",
       "    </tr>\n",
       "    <tr>\n",
       "      <th>max</th>\n",
       "      <td>7.238262</td>\n",
       "      <td>7.844801</td>\n",
       "      <td>16.739402</td>\n",
       "      <td>190.029838</td>\n",
       "    </tr>\n",
       "  </tbody>\n",
       "</table>\n",
       "</div>"
      ],
      "text/plain": [
       "                  f0             f1             f2        product\n",
       "count  100000.000000  100000.000000  100000.000000  100000.000000\n",
       "mean        0.002023      -0.002081       2.495128      95.000000\n",
       "std         1.732045       1.730417       3.473445      44.749921\n",
       "min        -8.760004      -7.084020     -11.970335       0.000000\n",
       "25%        -1.162288      -1.174820       0.130359      59.450441\n",
       "50%         0.009424      -0.009482       2.484236      94.925613\n",
       "75%         1.158535       1.163678       4.858794     130.595027\n",
       "max         7.238262       7.844801      16.739402     190.029838"
      ]
     },
     "execution_count": 13,
     "metadata": {},
     "output_type": "execute_result"
    }
   ],
   "source": [
    "geo_data_2.describe()"
   ]
  },
  {
   "cell_type": "markdown",
   "metadata": {},
   "source": [
    "#### Checking for null values"
   ]
  },
  {
   "cell_type": "code",
   "execution_count": 14,
   "metadata": {},
   "outputs": [
    {
     "data": {
      "text/plain": [
       "id         0\n",
       "f0         0\n",
       "f1         0\n",
       "f2         0\n",
       "product    0\n",
       "dtype: int64"
      ]
     },
     "execution_count": 14,
     "metadata": {},
     "output_type": "execute_result"
    }
   ],
   "source": [
    "geo_data_0.isna().sum()"
   ]
  },
  {
   "cell_type": "code",
   "execution_count": 15,
   "metadata": {},
   "outputs": [
    {
     "data": {
      "text/plain": [
       "id         0\n",
       "f0         0\n",
       "f1         0\n",
       "f2         0\n",
       "product    0\n",
       "dtype: int64"
      ]
     },
     "execution_count": 15,
     "metadata": {},
     "output_type": "execute_result"
    }
   ],
   "source": [
    "geo_data_1.isna().sum()"
   ]
  },
  {
   "cell_type": "code",
   "execution_count": 16,
   "metadata": {},
   "outputs": [
    {
     "data": {
      "text/plain": [
       "id         0\n",
       "f0         0\n",
       "f1         0\n",
       "f2         0\n",
       "product    0\n",
       "dtype: int64"
      ]
     },
     "execution_count": 16,
     "metadata": {},
     "output_type": "execute_result"
    }
   ],
   "source": [
    "geo_data_2.isna().sum()"
   ]
  },
  {
   "cell_type": "markdown",
   "metadata": {},
   "source": [
    "#### Checking for duplications"
   ]
  },
  {
   "cell_type": "code",
   "execution_count": 17,
   "metadata": {},
   "outputs": [
    {
     "data": {
      "text/plain": [
       "10"
      ]
     },
     "execution_count": 17,
     "metadata": {},
     "output_type": "execute_result"
    }
   ],
   "source": [
    "geo_data_0['id'].duplicated().sum()"
   ]
  },
  {
   "cell_type": "code",
   "execution_count": 18,
   "metadata": {},
   "outputs": [],
   "source": [
    "duplicate_ids= geo_data_0['id'][geo_data_0['id'].duplicated() == True].reset_index()"
   ]
  },
  {
   "cell_type": "code",
   "execution_count": 19,
   "metadata": {},
   "outputs": [
    {
     "data": {
      "text/html": [
       "<div>\n",
       "<style scoped>\n",
       "    .dataframe tbody tr th:only-of-type {\n",
       "        vertical-align: middle;\n",
       "    }\n",
       "\n",
       "    .dataframe tbody tr th {\n",
       "        vertical-align: top;\n",
       "    }\n",
       "\n",
       "    .dataframe thead th {\n",
       "        text-align: right;\n",
       "    }\n",
       "</style>\n",
       "<table border=\"1\" class=\"dataframe\">\n",
       "  <thead>\n",
       "    <tr style=\"text-align: right;\">\n",
       "      <th></th>\n",
       "      <th>id</th>\n",
       "      <th>f0</th>\n",
       "      <th>f1</th>\n",
       "      <th>f2</th>\n",
       "      <th>product</th>\n",
       "    </tr>\n",
       "  </thead>\n",
       "  <tbody>\n",
       "    <tr>\n",
       "      <th>66136</th>\n",
       "      <td>74z30</td>\n",
       "      <td>1.084962</td>\n",
       "      <td>-0.312358</td>\n",
       "      <td>6.990771</td>\n",
       "      <td>127.643327</td>\n",
       "    </tr>\n",
       "    <tr>\n",
       "      <th>64022</th>\n",
       "      <td>74z30</td>\n",
       "      <td>0.741456</td>\n",
       "      <td>0.459229</td>\n",
       "      <td>5.153109</td>\n",
       "      <td>140.771492</td>\n",
       "    </tr>\n",
       "    <tr>\n",
       "      <th>51970</th>\n",
       "      <td>A5aEY</td>\n",
       "      <td>-0.180335</td>\n",
       "      <td>0.935548</td>\n",
       "      <td>-2.094773</td>\n",
       "      <td>33.020205</td>\n",
       "    </tr>\n",
       "    <tr>\n",
       "      <th>3389</th>\n",
       "      <td>A5aEY</td>\n",
       "      <td>-0.039949</td>\n",
       "      <td>0.156872</td>\n",
       "      <td>0.209861</td>\n",
       "      <td>89.249364</td>\n",
       "    </tr>\n",
       "    <tr>\n",
       "      <th>69163</th>\n",
       "      <td>AGS9W</td>\n",
       "      <td>-0.933795</td>\n",
       "      <td>0.116194</td>\n",
       "      <td>-3.655896</td>\n",
       "      <td>19.230453</td>\n",
       "    </tr>\n",
       "    <tr>\n",
       "      <th>42529</th>\n",
       "      <td>AGS9W</td>\n",
       "      <td>1.454747</td>\n",
       "      <td>-0.479651</td>\n",
       "      <td>0.683380</td>\n",
       "      <td>126.370504</td>\n",
       "    </tr>\n",
       "    <tr>\n",
       "      <th>931</th>\n",
       "      <td>HZww2</td>\n",
       "      <td>0.755284</td>\n",
       "      <td>0.368511</td>\n",
       "      <td>1.863211</td>\n",
       "      <td>30.681774</td>\n",
       "    </tr>\n",
       "    <tr>\n",
       "      <th>7530</th>\n",
       "      <td>HZww2</td>\n",
       "      <td>1.061194</td>\n",
       "      <td>-0.373969</td>\n",
       "      <td>10.430210</td>\n",
       "      <td>158.828695</td>\n",
       "    </tr>\n",
       "    <tr>\n",
       "      <th>63593</th>\n",
       "      <td>QcMuo</td>\n",
       "      <td>0.635635</td>\n",
       "      <td>-0.473422</td>\n",
       "      <td>0.862670</td>\n",
       "      <td>64.578675</td>\n",
       "    </tr>\n",
       "    <tr>\n",
       "      <th>1949</th>\n",
       "      <td>QcMuo</td>\n",
       "      <td>0.506563</td>\n",
       "      <td>-0.323775</td>\n",
       "      <td>-2.215583</td>\n",
       "      <td>75.496502</td>\n",
       "    </tr>\n",
       "    <tr>\n",
       "      <th>75715</th>\n",
       "      <td>Tdehs</td>\n",
       "      <td>0.112079</td>\n",
       "      <td>0.430296</td>\n",
       "      <td>3.218993</td>\n",
       "      <td>60.964018</td>\n",
       "    </tr>\n",
       "    <tr>\n",
       "      <th>21426</th>\n",
       "      <td>Tdehs</td>\n",
       "      <td>0.829407</td>\n",
       "      <td>0.298807</td>\n",
       "      <td>-0.049563</td>\n",
       "      <td>96.035308</td>\n",
       "    </tr>\n",
       "    <tr>\n",
       "      <th>92341</th>\n",
       "      <td>TtcGQ</td>\n",
       "      <td>0.110711</td>\n",
       "      <td>1.022689</td>\n",
       "      <td>0.911381</td>\n",
       "      <td>101.318008</td>\n",
       "    </tr>\n",
       "    <tr>\n",
       "      <th>60140</th>\n",
       "      <td>TtcGQ</td>\n",
       "      <td>0.569276</td>\n",
       "      <td>-0.104876</td>\n",
       "      <td>6.440215</td>\n",
       "      <td>85.350186</td>\n",
       "    </tr>\n",
       "    <tr>\n",
       "      <th>89582</th>\n",
       "      <td>bsk9y</td>\n",
       "      <td>0.398908</td>\n",
       "      <td>-0.400253</td>\n",
       "      <td>10.122376</td>\n",
       "      <td>163.433078</td>\n",
       "    </tr>\n",
       "    <tr>\n",
       "      <th>97785</th>\n",
       "      <td>bsk9y</td>\n",
       "      <td>0.378429</td>\n",
       "      <td>0.005837</td>\n",
       "      <td>0.160827</td>\n",
       "      <td>160.637302</td>\n",
       "    </tr>\n",
       "    <tr>\n",
       "      <th>41724</th>\n",
       "      <td>bxg6G</td>\n",
       "      <td>-0.823752</td>\n",
       "      <td>0.546319</td>\n",
       "      <td>3.630479</td>\n",
       "      <td>93.007798</td>\n",
       "    </tr>\n",
       "    <tr>\n",
       "      <th>1364</th>\n",
       "      <td>bxg6G</td>\n",
       "      <td>0.411645</td>\n",
       "      <td>0.856830</td>\n",
       "      <td>-3.653440</td>\n",
       "      <td>73.604260</td>\n",
       "    </tr>\n",
       "    <tr>\n",
       "      <th>16633</th>\n",
       "      <td>fiKDv</td>\n",
       "      <td>0.157341</td>\n",
       "      <td>1.028359</td>\n",
       "      <td>5.585586</td>\n",
       "      <td>95.817889</td>\n",
       "    </tr>\n",
       "    <tr>\n",
       "      <th>90815</th>\n",
       "      <td>fiKDv</td>\n",
       "      <td>0.049883</td>\n",
       "      <td>0.841313</td>\n",
       "      <td>6.394613</td>\n",
       "      <td>137.346586</td>\n",
       "    </tr>\n",
       "  </tbody>\n",
       "</table>\n",
       "</div>"
      ],
      "text/plain": [
       "          id        f0        f1         f2     product\n",
       "66136  74z30  1.084962 -0.312358   6.990771  127.643327\n",
       "64022  74z30  0.741456  0.459229   5.153109  140.771492\n",
       "51970  A5aEY -0.180335  0.935548  -2.094773   33.020205\n",
       "3389   A5aEY -0.039949  0.156872   0.209861   89.249364\n",
       "69163  AGS9W -0.933795  0.116194  -3.655896   19.230453\n",
       "42529  AGS9W  1.454747 -0.479651   0.683380  126.370504\n",
       "931    HZww2  0.755284  0.368511   1.863211   30.681774\n",
       "7530   HZww2  1.061194 -0.373969  10.430210  158.828695\n",
       "63593  QcMuo  0.635635 -0.473422   0.862670   64.578675\n",
       "1949   QcMuo  0.506563 -0.323775  -2.215583   75.496502\n",
       "75715  Tdehs  0.112079  0.430296   3.218993   60.964018\n",
       "21426  Tdehs  0.829407  0.298807  -0.049563   96.035308\n",
       "92341  TtcGQ  0.110711  1.022689   0.911381  101.318008\n",
       "60140  TtcGQ  0.569276 -0.104876   6.440215   85.350186\n",
       "89582  bsk9y  0.398908 -0.400253  10.122376  163.433078\n",
       "97785  bsk9y  0.378429  0.005837   0.160827  160.637302\n",
       "41724  bxg6G -0.823752  0.546319   3.630479   93.007798\n",
       "1364   bxg6G  0.411645  0.856830  -3.653440   73.604260\n",
       "16633  fiKDv  0.157341  1.028359   5.585586   95.817889\n",
       "90815  fiKDv  0.049883  0.841313   6.394613  137.346586"
      ]
     },
     "execution_count": 19,
     "metadata": {},
     "output_type": "execute_result"
    }
   ],
   "source": [
    "geo_data_0.query('id in @duplicate_ids.id').sort_values(by = 'id')"
   ]
  },
  {
   "cell_type": "code",
   "execution_count": 20,
   "metadata": {},
   "outputs": [
    {
     "data": {
      "text/html": [
       "<div>\n",
       "<style scoped>\n",
       "    .dataframe tbody tr th:only-of-type {\n",
       "        vertical-align: middle;\n",
       "    }\n",
       "\n",
       "    .dataframe tbody tr th {\n",
       "        vertical-align: top;\n",
       "    }\n",
       "\n",
       "    .dataframe thead th {\n",
       "        text-align: right;\n",
       "    }\n",
       "</style>\n",
       "<table border=\"1\" class=\"dataframe\">\n",
       "  <thead>\n",
       "    <tr style=\"text-align: right;\">\n",
       "      <th></th>\n",
       "      <th>id</th>\n",
       "      <th>f0</th>\n",
       "      <th>f1</th>\n",
       "      <th>f2</th>\n",
       "      <th>product</th>\n",
       "    </tr>\n",
       "  </thead>\n",
       "  <tbody>\n",
       "    <tr>\n",
       "      <th>5849</th>\n",
       "      <td>5ltQ6</td>\n",
       "      <td>-3.435401</td>\n",
       "      <td>-12.296043</td>\n",
       "      <td>1.999796</td>\n",
       "      <td>57.085625</td>\n",
       "    </tr>\n",
       "    <tr>\n",
       "      <th>84461</th>\n",
       "      <td>5ltQ6</td>\n",
       "      <td>18.213839</td>\n",
       "      <td>2.191999</td>\n",
       "      <td>3.993869</td>\n",
       "      <td>107.813044</td>\n",
       "    </tr>\n",
       "    <tr>\n",
       "      <th>1305</th>\n",
       "      <td>LHZR0</td>\n",
       "      <td>11.170835</td>\n",
       "      <td>-1.945066</td>\n",
       "      <td>3.002872</td>\n",
       "      <td>80.859783</td>\n",
       "    </tr>\n",
       "    <tr>\n",
       "      <th>41906</th>\n",
       "      <td>LHZR0</td>\n",
       "      <td>-8.989672</td>\n",
       "      <td>-4.286607</td>\n",
       "      <td>2.009139</td>\n",
       "      <td>57.085625</td>\n",
       "    </tr>\n",
       "    <tr>\n",
       "      <th>2721</th>\n",
       "      <td>bfPNe</td>\n",
       "      <td>-9.494442</td>\n",
       "      <td>-5.463692</td>\n",
       "      <td>4.006042</td>\n",
       "      <td>110.992147</td>\n",
       "    </tr>\n",
       "    <tr>\n",
       "      <th>82178</th>\n",
       "      <td>bfPNe</td>\n",
       "      <td>-6.202799</td>\n",
       "      <td>-4.820045</td>\n",
       "      <td>2.995107</td>\n",
       "      <td>84.038886</td>\n",
       "    </tr>\n",
       "    <tr>\n",
       "      <th>47591</th>\n",
       "      <td>wt4Uk</td>\n",
       "      <td>-9.091098</td>\n",
       "      <td>-8.109279</td>\n",
       "      <td>-0.002314</td>\n",
       "      <td>3.179103</td>\n",
       "    </tr>\n",
       "    <tr>\n",
       "      <th>82873</th>\n",
       "      <td>wt4Uk</td>\n",
       "      <td>10.259972</td>\n",
       "      <td>-9.376355</td>\n",
       "      <td>4.994297</td>\n",
       "      <td>134.766305</td>\n",
       "    </tr>\n",
       "  </tbody>\n",
       "</table>\n",
       "</div>"
      ],
      "text/plain": [
       "          id         f0         f1        f2     product\n",
       "5849   5ltQ6  -3.435401 -12.296043  1.999796   57.085625\n",
       "84461  5ltQ6  18.213839   2.191999  3.993869  107.813044\n",
       "1305   LHZR0  11.170835  -1.945066  3.002872   80.859783\n",
       "41906  LHZR0  -8.989672  -4.286607  2.009139   57.085625\n",
       "2721   bfPNe  -9.494442  -5.463692  4.006042  110.992147\n",
       "82178  bfPNe  -6.202799  -4.820045  2.995107   84.038886\n",
       "47591  wt4Uk  -9.091098  -8.109279 -0.002314    3.179103\n",
       "82873  wt4Uk  10.259972  -9.376355  4.994297  134.766305"
      ]
     },
     "execution_count": 20,
     "metadata": {},
     "output_type": "execute_result"
    }
   ],
   "source": [
    "duplicate_ids_1= geo_data_1['id'][geo_data_1['id'].duplicated() == True].reset_index()\n",
    "geo_data_1.query('id in @duplicate_ids_1.id').sort_values(by = 'id')"
   ]
  },
  {
   "cell_type": "code",
   "execution_count": 21,
   "metadata": {},
   "outputs": [
    {
     "data": {
      "text/html": [
       "<div>\n",
       "<style scoped>\n",
       "    .dataframe tbody tr th:only-of-type {\n",
       "        vertical-align: middle;\n",
       "    }\n",
       "\n",
       "    .dataframe tbody tr th {\n",
       "        vertical-align: top;\n",
       "    }\n",
       "\n",
       "    .dataframe thead th {\n",
       "        text-align: right;\n",
       "    }\n",
       "</style>\n",
       "<table border=\"1\" class=\"dataframe\">\n",
       "  <thead>\n",
       "    <tr style=\"text-align: right;\">\n",
       "      <th></th>\n",
       "      <th>id</th>\n",
       "      <th>f0</th>\n",
       "      <th>f1</th>\n",
       "      <th>f2</th>\n",
       "      <th>product</th>\n",
       "    </tr>\n",
       "  </thead>\n",
       "  <tbody>\n",
       "    <tr>\n",
       "      <th>45404</th>\n",
       "      <td>KUPhW</td>\n",
       "      <td>0.231846</td>\n",
       "      <td>-1.698941</td>\n",
       "      <td>4.990775</td>\n",
       "      <td>11.716299</td>\n",
       "    </tr>\n",
       "    <tr>\n",
       "      <th>55967</th>\n",
       "      <td>KUPhW</td>\n",
       "      <td>1.211150</td>\n",
       "      <td>3.176408</td>\n",
       "      <td>5.543540</td>\n",
       "      <td>132.831802</td>\n",
       "    </tr>\n",
       "    <tr>\n",
       "      <th>11449</th>\n",
       "      <td>VF7Jo</td>\n",
       "      <td>2.122656</td>\n",
       "      <td>-0.858275</td>\n",
       "      <td>5.746001</td>\n",
       "      <td>181.716817</td>\n",
       "    </tr>\n",
       "    <tr>\n",
       "      <th>49564</th>\n",
       "      <td>VF7Jo</td>\n",
       "      <td>-0.883115</td>\n",
       "      <td>0.560537</td>\n",
       "      <td>0.723601</td>\n",
       "      <td>136.233420</td>\n",
       "    </tr>\n",
       "    <tr>\n",
       "      <th>44378</th>\n",
       "      <td>Vcm5J</td>\n",
       "      <td>-1.229484</td>\n",
       "      <td>-2.439204</td>\n",
       "      <td>1.222909</td>\n",
       "      <td>137.968290</td>\n",
       "    </tr>\n",
       "    <tr>\n",
       "      <th>95090</th>\n",
       "      <td>Vcm5J</td>\n",
       "      <td>2.587702</td>\n",
       "      <td>1.986875</td>\n",
       "      <td>2.482245</td>\n",
       "      <td>92.327572</td>\n",
       "    </tr>\n",
       "    <tr>\n",
       "      <th>28039</th>\n",
       "      <td>xCHr8</td>\n",
       "      <td>1.633027</td>\n",
       "      <td>0.368135</td>\n",
       "      <td>-2.378367</td>\n",
       "      <td>6.120525</td>\n",
       "    </tr>\n",
       "    <tr>\n",
       "      <th>43233</th>\n",
       "      <td>xCHr8</td>\n",
       "      <td>-0.847066</td>\n",
       "      <td>2.101796</td>\n",
       "      <td>5.597130</td>\n",
       "      <td>184.388641</td>\n",
       "    </tr>\n",
       "  </tbody>\n",
       "</table>\n",
       "</div>"
      ],
      "text/plain": [
       "          id        f0        f1        f2     product\n",
       "45404  KUPhW  0.231846 -1.698941  4.990775   11.716299\n",
       "55967  KUPhW  1.211150  3.176408  5.543540  132.831802\n",
       "11449  VF7Jo  2.122656 -0.858275  5.746001  181.716817\n",
       "49564  VF7Jo -0.883115  0.560537  0.723601  136.233420\n",
       "44378  Vcm5J -1.229484 -2.439204  1.222909  137.968290\n",
       "95090  Vcm5J  2.587702  1.986875  2.482245   92.327572\n",
       "28039  xCHr8  1.633027  0.368135 -2.378367    6.120525\n",
       "43233  xCHr8 -0.847066  2.101796  5.597130  184.388641"
      ]
     },
     "execution_count": 21,
     "metadata": {},
     "output_type": "execute_result"
    }
   ],
   "source": [
    "duplicate_ids_2= geo_data_2['id'][geo_data_2['id'].duplicated() == True].reset_index()\n",
    "geo_data_2.query('id in @duplicate_ids_2.id').sort_values(by = 'id')"
   ]
  },
  {
   "cell_type": "markdown",
   "metadata": {},
   "source": [
    "- As we can see, some of the inspections have non-unique id. (10, 4 and 4 in regions 0, 1 and 2 respectively). What should I do with this inspections? \n",
    " - Since it is not a full duplication, but only the id's are duplicate, I assume they are a different inspections and not real duplications. probably due to typing error.\n",
    " - It means that every inspection is independant and is valuable for our predictions as part of the training set (the id itself is not part of the features).\n",
    " - On the other side, the number is so small (0.02%), that dropping this inspections will have no influence.\n",
    "- I will leave these inspections, while removing the 'id' column"
   ]
  },
  {
   "cell_type": "markdown",
   "metadata": {},
   "source": [
    "#### Looking for the correlations between features/target"
   ]
  },
  {
   "cell_type": "code",
   "execution_count": 28,
   "metadata": {},
   "outputs": [
    {
     "data": {
      "image/png": "[encoded data removed]",
      "text/plain": [
       "<Figure size 1080x360 with 2 Axes>"
      ]
     },
     "metadata": {
      "needs_background": "light"
     },
     "output_type": "display_data"
    }
   ],
   "source": [
    "# Correlations in region 0\n",
    "plt.figure(figsize=(15,5))\n",
    "ax = sns.heatmap(geo_data_0.corr(), annot=True, cmap='rocket')\n",
    "\n",
    "bottom, top = ax.get_ylim()\n",
    "ax.set_ylim(bottom + 0.5, top - 0.5);\n",
    "plt.yticks(rotation=0);"
   ]
  },
  {
   "cell_type": "markdown",
   "metadata": {},
   "source": [
    "- f0 has very low correlation to the target (0.14)\n",
    " - It is negatively meduim correlataed to the f1 (-0.44)\n",
    "- f1 has very low correlation to the target (-0.19)\n",
    "- f2 is positively meduim correlated to the target (0.48)"
   ]
  },
  {
   "cell_type": "code",
   "execution_count": 29,
   "metadata": {},
   "outputs": [
    {
     "data": {
      "image/png": "[encoded data removed]",
      "text/plain": [
       "<Figure size 1080x360 with 2 Axes>"
      ]
     },
     "metadata": {
      "needs_background": "light"
     },
     "output_type": "display_data"
    }
   ],
   "source": [
    "# Correlations in region 1\n",
    "plt.figure(figsize=(15,5))\n",
    "ax = sns.heatmap(geo_data_1.corr(), annot=True, cmap='rocket')\n",
    "\n",
    "bottom, top = ax.get_ylim()\n",
    "ax.set_ylim(bottom + 0.5, top - 0.5);\n",
    "plt.yticks(rotation=0);"
   ]
  },
  {
   "cell_type": "markdown",
   "metadata": {},
   "source": [
    "- f0 has very low correlation with all other parameters\n",
    "- f1 also has very low correlation with all other parameters\n",
    "- f2 has positive 100% correlation with the target!"
   ]
  },
  {
   "cell_type": "code",
   "execution_count": 30,
   "metadata": {},
   "outputs": [
    {
     "data": {
      "image/png": "[encoded data removed]",
      "text/plain": [
       "<Figure size 1080x360 with 2 Axes>"
      ]
     },
     "metadata": {
      "needs_background": "light"
     },
     "output_type": "display_data"
    }
   ],
   "source": [
    "# Correlations in region 2\n",
    "plt.figure(figsize=(15,5))\n",
    "ax = sns.heatmap(geo_data_2.corr(), annot=True, cmap='rocket')\n",
    "\n",
    "bottom, top = ax.get_ylim()\n",
    "ax.set_ylim(bottom + 0.5, top - 0.5);\n",
    "plt.yticks(rotation=0);"
   ]
  },
  {
   "cell_type": "markdown",
   "metadata": {},
   "source": [
    "- f0 f0 has very low correlation with all other parameters\n",
    "- f1 also has very low correlation with all other parameters\n",
    "- f2 is positively meduim correlated to the target (0.45)"
   ]
  },
  {
   "cell_type": "markdown",
   "metadata": {},
   "source": [
    "### Data preprocessing"
   ]
  },
  {
   "cell_type": "markdown",
   "metadata": {},
   "source": [
    "#### Removing unnecessary columns:"
   ]
  },
  {
   "cell_type": "code",
   "execution_count": 3,
   "metadata": {},
   "outputs": [],
   "source": [
    "# The id column is not necessary for the prediction, so I will drop it\n",
    "\n",
    "geo_data_0 = geo_data_0.drop(['id'], axis=1)\n",
    "geo_data_1 = geo_data_1.drop(['id'], axis=1)\n",
    "geo_data_2 = geo_data_2.drop(['id'], axis=1)"
   ]
  },
  {
   "cell_type": "markdown",
   "metadata": {},
   "source": [
    "### Explain the procedure"
   ]
  },
  {
   "cell_type": "markdown",
   "metadata": {},
   "source": [
    "- We have 100,000 inspections in each data set\n",
    "- There are no null values in any of the data sets\n",
    "- Data types are correct: all the features and the target are numeric\n",
    "- Duplicate id's: there are some inspecctions with id's that are not unique. I believe that the data itself is real, and since the id column does not take part in the analysis, I will remove it anyway.\n",
    "- The correlations between the features and the target and between themselves changes from region to region. but in general, f2 has the highest correlation with the target in all regions\n",
    "- We removed the 'id' column"
   ]
  },
  {
   "cell_type": "markdown",
   "metadata": {},
   "source": [
    "<a id=\"step2\"></a>\n",
    "## Step 2. Train and test the model for each region\n",
    "\n",
    "[back to table of contents](#contents)"
   ]
  },
  {
   "cell_type": "markdown",
   "metadata": {},
   "source": [
    "### Split the data into a training set and validation set at a ratio of 7525."
   ]
  },
  {
   "cell_type": "code",
   "execution_count": 4,
   "metadata": {},
   "outputs": [],
   "source": [
    "# Defining splitting function which receives a data set, target label and test ratio and returns splitted sets\n",
    "\n",
    "def train_test_split_func(data, target_name, test_ratio):\n",
    "    target = data[target_name]\n",
    "    features = data.drop([target_name], axis=1)\n",
    "    features_train, features_valid, target_train, target_valid = train_test_split(\n",
    "    features, target, test_size=test_ratio, random_state=12345\n",
    "    )\n",
    "    return features_train, features_valid, target_train, target_valid"
   ]
  },
  {
   "cell_type": "code",
   "execution_count": 5,
   "metadata": {},
   "outputs": [],
   "source": [
    "# Calling the function for region=0, test_ratio=0.25\n",
    "features_train_0, features_valid_0, target_train_0, target_valid_0 = train_test_split_func(\n",
    "    geo_data_0, 'product', 0.25\n",
    ")"
   ]
  },
  {
   "cell_type": "code",
   "execution_count": 6,
   "metadata": {},
   "outputs": [
    {
     "name": "stdout",
     "output_type": "stream",
     "text": [
      "(75000, 3)\n",
      "(25000, 3)\n",
      "(75000,)\n",
      "(25000,)\n"
     ]
    }
   ],
   "source": [
    "print(features_train_0.shape)\n",
    "print(features_valid_0.shape)\n",
    "print(target_train_0.shape)\n",
    "print(target_valid_0.shape)"
   ]
  },
  {
   "cell_type": "code",
   "execution_count": 7,
   "metadata": {},
   "outputs": [],
   "source": [
    "# Calling the function for region=1, test_ratio=0.25\n",
    "features_train_1, features_valid_1, target_train_1, target_valid_1 = train_test_split_func(\n",
    "    geo_data_1, 'product', 0.25\n",
    ")"
   ]
  },
  {
   "cell_type": "code",
   "execution_count": 8,
   "metadata": {},
   "outputs": [],
   "source": [
    "# Calling the function for region=2, test_ratio=0.25\n",
    "features_train_2, features_valid_2, target_train_2, target_valid_2 = train_test_split_func(\n",
    "    geo_data_2, 'product', 0.25\n",
    ")"
   ]
  },
  {
   "cell_type": "markdown",
   "metadata": {},
   "source": [
    "### Standardize the numerical features"
   ]
  },
  {
   "cell_type": "code",
   "execution_count": 9,
   "metadata": {},
   "outputs": [],
   "source": [
    "# Defining scaling function which receives features and valid train sets and numerical features list and returns standardized sets\n",
    "# We will use Standard scaler: (Old value - Mean value) / Standard deviation\n",
    "\n",
    "def scaler_func(features_train, features_valid, numeric_features):\n",
    "    scaler = StandardScaler()\n",
    "    \n",
    "    # We fit the scaler on TRAINING dataset in order to prevent data leakage\n",
    "    scaler.fit(features_train[numeric_features])\n",
    "    \n",
    "    # We apply fitted scaler to both train and valid datasets\n",
    "    features_train[numeric_features] = scaler.transform(features_train[numeric_features])\n",
    "    features_valid[numeric_features] = scaler.transform(features_valid[numeric_features])\n",
    "    \n",
    "    return features_train, features_valid"
   ]
  },
  {
   "cell_type": "code",
   "execution_count": 10,
   "metadata": {},
   "outputs": [],
   "source": [
    "# we'll use Scaling for numeric columns\n",
    "numeric = ['f0', 'f1', 'f2']\n",
    "\n",
    "# Calling the scaling function for region=0\n",
    "features_train_0, features_valid_0 = scaler_func(\n",
    "    features_train_0, features_valid_0, numeric\n",
    ")\n",
    "\n",
    "# Calling the scaling function for region=1\n",
    "features_train_1, features_valid_1 = scaler_func(\n",
    "    features_train_1, features_valid_1, numeric\n",
    ")\n",
    "\n",
    "# Calling the scaling function for region=2\n",
    "features_train_2, features_valid_2 = scaler_func(\n",
    "    features_train_2, features_valid_2, numeric\n",
    ")"
   ]
  },
  {
   "cell_type": "code",
   "execution_count": 11,
   "metadata": {},
   "outputs": [
    {
     "name": "stdout",
     "output_type": "stream",
     "text": [
      "(75000, 3)\n",
      "(25000, 3)\n"
     ]
    }
   ],
   "source": [
    "print(features_train_0.shape)\n",
    "print(features_valid_0.shape)"
   ]
  },
  {
   "cell_type": "code",
   "execution_count": 12,
   "metadata": {
    "scrolled": true
   },
   "outputs": [
    {
     "data": {
      "text/html": [
       "<div>\n",
       "<style scoped>\n",
       "    .dataframe tbody tr th:only-of-type {\n",
       "        vertical-align: middle;\n",
       "    }\n",
       "\n",
       "    .dataframe tbody tr th {\n",
       "        vertical-align: top;\n",
       "    }\n",
       "\n",
       "    .dataframe thead th {\n",
       "        text-align: right;\n",
       "    }\n",
       "</style>\n",
       "<table border=\"1\" class=\"dataframe\">\n",
       "  <thead>\n",
       "    <tr style=\"text-align: right;\">\n",
       "      <th></th>\n",
       "      <th>f0</th>\n",
       "      <th>f1</th>\n",
       "      <th>f2</th>\n",
       "    </tr>\n",
       "  </thead>\n",
       "  <tbody>\n",
       "    <tr>\n",
       "      <td>27212</td>\n",
       "      <td>-0.544828</td>\n",
       "      <td>1.390264</td>\n",
       "      <td>-0.094959</td>\n",
       "    </tr>\n",
       "    <tr>\n",
       "      <td>7866</td>\n",
       "      <td>1.455912</td>\n",
       "      <td>-0.480422</td>\n",
       "      <td>1.209567</td>\n",
       "    </tr>\n",
       "    <tr>\n",
       "      <td>62041</td>\n",
       "      <td>0.260460</td>\n",
       "      <td>0.825069</td>\n",
       "      <td>-0.204865</td>\n",
       "    </tr>\n",
       "  </tbody>\n",
       "</table>\n",
       "</div>"
      ],
      "text/plain": [
       "             f0        f1        f2\n",
       "27212 -0.544828  1.390264 -0.094959\n",
       "7866   1.455912 -0.480422  1.209567\n",
       "62041  0.260460  0.825069 -0.204865"
      ]
     },
     "execution_count": 12,
     "metadata": {},
     "output_type": "execute_result"
    }
   ],
   "source": [
    "features_train_0.head(3)"
   ]
  },
  {
   "cell_type": "markdown",
   "metadata": {},
   "source": [
    "### Train the model and make predictions for the validation set."
   ]
  },
  {
   "cell_type": "markdown",
   "metadata": {},
   "source": [
    "### Save the predictions and correct answers for the validation set."
   ]
  },
  {
   "cell_type": "markdown",
   "metadata": {},
   "source": [
    "### Print the average volume of predicted reserves and model RMSE."
   ]
  },
  {
   "cell_type": "code",
   "execution_count": 13,
   "metadata": {},
   "outputs": [],
   "source": [
    "# Defining model training and prediction function\n",
    "\n",
    "def train_predict_LinearRegression(features_train, target_train, features_valid, target_valid):\n",
    "    \n",
    "    model = LinearRegression()\n",
    "    model.fit(features_train, target_train)\n",
    "    predicted_valid = model.predict(features_valid)\n",
    "    \n",
    "    predicted_valid_idx = pd.Series(predicted_valid, index=target_valid.index)\n",
    "    \n",
    "    predicted_avg = predicted_valid.mean()\n",
    "    mse = mean_squared_error(target_valid, predicted_valid)\n",
    "\n",
    "    print('Average predicted reserves =', predicted_avg)\n",
    "    print('RMSE =', mse ** 0.5)\n",
    "    \n",
    "    constant_predictions = pd.Series(target_train.mean(), index = target_valid.index)\n",
    "    mse = mean_squared_error(target_valid, constant_predictions)\n",
    "\n",
    "    print(' ')\n",
    "    print('Constant model:')\n",
    "    #print('MSE =', mse)\n",
    "    print('RMSE =', mse ** 0.5)\n",
    "    print(' ')\n",
    "    \n",
    "    return predicted_valid, predicted_valid_idx"
   ]
  },
  {
   "cell_type": "code",
   "execution_count": 14,
   "metadata": {},
   "outputs": [
    {
     "name": "stdout",
     "output_type": "stream",
     "text": [
      "Linear Regression Results\n",
      "-------------------------\n",
      "region 0:\n",
      "---------\n",
      "Average predicted reserves = 92.59256778438038\n",
      "RMSE = 37.5794217150813\n",
      " \n",
      "Constant model:\n",
      "RMSE = 44.289591053907365\n",
      " \n",
      "region 1:\n",
      "---------\n",
      "Average predicted reserves = 68.728546895446\n",
      "RMSE = 0.8930992867756158\n",
      " \n",
      "Constant model:\n",
      "RMSE = 46.02144533725462\n",
      " \n",
      "region 2:\n",
      "---------\n",
      "Average predicted reserves = 94.96504596800489\n",
      "RMSE = 40.02970873393434\n",
      " \n",
      "Constant model:\n",
      "RMSE = 44.90234968510566\n",
      " \n"
     ]
    }
   ],
   "source": [
    "# Calling the model train_predict function and print the metrics\n",
    "print('Linear Regression Results')\n",
    "print('-------------------------')\n",
    "\n",
    "# Calling the train_predict function for region=0\n",
    "print('region 0:')\n",
    "print('---------')\n",
    "predicted_valid_0, predicted_valid_idx_0 = train_predict_LinearRegression(\n",
    "    features_train_0, target_train_0, features_valid_0, target_valid_0\n",
    ")\n",
    "\n",
    "# Calling the train_predict function for region=1\n",
    "print('region 1:')\n",
    "print('---------')\n",
    "predicted_valid_1, predicted_valid_idx_1 = train_predict_LinearRegression(\n",
    "    features_train_1, target_train_1, features_valid_1, target_valid_1\n",
    ")\n",
    "\n",
    "# Calling the train_predict function for region=2\n",
    "print('region 2:')\n",
    "print('---------')\n",
    "predicted_valid_2, predicted_valid_idx_2 = train_predict_LinearRegression(\n",
    "    features_train_2, target_train_2, features_valid_2, target_valid_2\n",
    ")"
   ]
  },
  {
   "cell_type": "markdown",
   "metadata": {},
   "source": [
    "### Analyze the results."
   ]
  },
  {
   "cell_type": "markdown",
   "metadata": {},
   "source": [
    "- The linear regression model is generaly predicting better then a constant model (that always predict the mean).\n",
    " - region 0: RMSE is 37 comparing to 44 with the constant model\n",
    " - region 1: RMSE is 0.89!!!! comparing to 46\n",
    " - region 2: RMSE is 40 comparing to 45\n",
    "    \n",
    "- Region 2 has the highest av. predicted reserve for one well (95), region 0 is not far, with 92.6, and region 1 is the lowest, with 69 avg. reserve units   "
   ]
  },
  {
   "cell_type": "markdown",
   "metadata": {},
   "source": [
    "<a id=\"step3\"></a>\n",
    "## Step 3. Prepare for profit calculation:\n",
    "\n",
    "[back to table of contents](#contents)"
   ]
  },
  {
   "cell_type": "markdown",
   "metadata": {},
   "source": [
    "### Store all key values for calculations in separate variables"
   ]
  },
  {
   "cell_type": "code",
   "execution_count": 15,
   "metadata": {},
   "outputs": [],
   "source": [
    "# The revenue from one unit of product is 4,500 dollars\n",
    "one_unit_revenue = 4500\n",
    "\n",
    "# The budget for development of 200 oil wells is 100 USD million\n",
    "dev_budget = 100000000\n",
    "\n",
    "# Picking the best 200 points for the profit calculation\n",
    "no_of_wells = 200\n",
    "\n",
    "# Risk of loss \n",
    "max_loss_risk = 2.5"
   ]
  },
  {
   "cell_type": "markdown",
   "metadata": {},
   "source": [
    "### Calculate the volume of reserves sufficient for developing a new well without losses. Compare the obtained value with the average volume of reserves in each region."
   ]
  },
  {
   "cell_type": "code",
   "execution_count": 16,
   "metadata": {},
   "outputs": [
    {
     "name": "stdout",
     "output_type": "stream",
     "text": [
      "Balance reserves =  111.11111111111111\n"
     ]
    }
   ],
   "source": [
    "# The formula for calculating the volume of reserves sufficient for profit and loss balance (break-even point):\n",
    "# dev_budget = one_unit_revenue * balance_reserves * no_of_wells \n",
    "\n",
    "balance_reserves = dev_budget/ (one_unit_revenue * no_of_wells)\n",
    "print('Balance reserves = ', balance_reserves)"
   ]
  },
  {
   "cell_type": "code",
   "execution_count": 17,
   "metadata": {},
   "outputs": [],
   "source": [
    "# Defining a function that gets data set, caculates the target average and compares it with a the break-even point\n",
    "# Average volume of reserves in each region:\n",
    "\n",
    "def balance_compare(data, balance_reserves):\n",
    "        \n",
    "    mean_reserves = data['product'].mean()\n",
    "    print('Average volume of reserves =', mean_reserves)\n",
    "    if mean_reserves > balance_reserves:\n",
    "        print('Region average reserves is higher then sufficient for balance')\n",
    "    if mean_reserves == balance_reserves:    \n",
    "        print('Region average reserves equal the sufficient for balance')\n",
    "    else:\n",
    "        print('Region average reserves is less then sufficient for balance')\n",
    "\n",
    "    print(' ')"
   ]
  },
  {
   "cell_type": "code",
   "execution_count": 18,
   "metadata": {},
   "outputs": [
    {
     "name": "stdout",
     "output_type": "stream",
     "text": [
      "region 0:\n",
      "---------\n",
      "Average volume of reserves = 92.50000000000001\n",
      "Region average reserves is less then sufficient for balance\n",
      " \n",
      "region 1:\n",
      "---------\n",
      "Average volume of reserves = 68.82500000000002\n",
      "Region average reserves is less then sufficient for balance\n",
      " \n",
      "region 2:\n",
      "---------\n",
      "Average volume of reserves = 95.00000000000004\n",
      "Region average reserves is less then sufficient for balance\n",
      " \n"
     ]
    }
   ],
   "source": [
    "# Calling balance_compare function and print the results\n",
    "\n",
    "# Calling the balance_compare function for region=0\n",
    "print('region 0:')\n",
    "print('---------')\n",
    "balance_compare(geo_data_0, balance_reserves)\n",
    "\n",
    "# Calling the balance_compare function for region=1\n",
    "print('region 1:')\n",
    "print('---------')\n",
    "balance_compare(geo_data_1, balance_reserves)\n",
    "\n",
    "# Calling the balance_compare function for region=2\n",
    "print('region 2:')\n",
    "print('---------')\n",
    "balance_compare(geo_data_2, balance_reserves)"
   ]
  },
  {
   "cell_type": "markdown",
   "metadata": {},
   "source": [
    "### Provide the findings about the preparation for profit calculation step."
   ]
  },
  {
   "cell_type": "markdown",
   "metadata": {},
   "source": [
    "- I have calculated the average volume of reserves required for balance between the investments and the revenues like this:\n",
    "    - The budget for developing 200 wells is 100 Million USD. \n",
    "    - revenues for one unit is 4,500 USD \n",
    "    - the volume of one well reserves, duplicated by 4,500 (revenues for one unit) duplicated by 200, is the total revenue.\n",
    "    - the missing variable is the volume of one well reserves, and we get it by dividing 100 million by (4500 * 200)\n",
    "    \n",
    "- I found that non of the regions' average product volume is sufficient for balancing the development costs.\n",
    "- That is why we should pick in each region the highest reserves volume wells"
   ]
  },
  {
   "cell_type": "markdown",
   "metadata": {},
   "source": [
    "<a id=\"step4\"></a>\n",
    "## Step 4. Write a function to calculate profit from a set of selected oil wells and model predictions:\n",
    "\n",
    "[back to table of contents](#contents)"
   ]
  },
  {
   "cell_type": "markdown",
   "metadata": {},
   "source": [
    "### Pick the wells with the highest values of predictions."
   ]
  },
  {
   "cell_type": "markdown",
   "metadata": {},
   "source": [
    "### Summarize the target volume of reserves in accordance with these predictions"
   ]
  },
  {
   "cell_type": "code",
   "execution_count": 19,
   "metadata": {},
   "outputs": [],
   "source": [
    "# Defining profit function, which gets target and predictions sets, and the number of final inspections and returns the profit\n",
    "def profit(target, predictions, count):\n",
    "    \n",
    "    investment = 100000000\n",
    "    k_units_revenue = 4500\n",
    "    \n",
    "    preds = pd.Series(predictions) # convert an array to a series\n",
    "    preds_sorted = preds.sort_values(ascending=False)\n",
    "    preds_sorted_indexes = pd.Series(preds_sorted.index)[:count]\n",
    "\n",
    "    selected = target.iloc[preds_sorted_indexes]\n",
    "\n",
    "    well_avg = selected.mean()\n",
    "    revenues =  k_units_revenue * selected.sum()\n",
    "    print('Average well reserve =      ', well_avg)\n",
    "    print('Total volume for region = ', selected.sum())\n",
    "    print('Total revenue =       ', revenues)\n",
    "    print('Profit =               ', revenues - investment)\n",
    "    print(' ')\n",
    "    \n",
    "    return revenues - investment"
   ]
  },
  {
   "cell_type": "code",
   "execution_count": 40,
   "metadata": {},
   "outputs": [
    {
     "name": "stdout",
     "output_type": "stream",
     "text": [
      "Region 0: \n",
      "----------\n",
      "Average well reserve =       148.00917825710948\n",
      "Total volume for region =  29601.835651421894\n",
      "Total revenue =        133208260.43139853\n",
      "Profit =                33208260.431398526\n",
      " \n",
      "Region 1: \n",
      "----------\n",
      "Average well reserve =       137.9454077409057\n",
      "Total volume for region =  27589.081548181137\n",
      "Total revenue =        124150866.96681511\n",
      "Profit =                24150866.966815114\n",
      " \n",
      "Region 2: \n",
      "----------\n",
      "Average well reserve =       141.2261107066648\n",
      "Total volume for region =  28245.22214133296\n",
      "Total revenue =        127103499.63599832\n",
      "Profit =                27103499.635998324\n",
      " \n"
     ]
    }
   ],
   "source": [
    "# Run the picking highest value's wells + profit calculation function\n",
    "\n",
    "print('Region 0: ')\n",
    "print('----------')\n",
    "profit(target_valid_0, predicted_valid_0, 200)\n",
    "\n",
    "print('Region 1: ')\n",
    "print('----------')\n",
    "profit(target_valid_1, predicted_valid_1, 200)\n",
    "\n",
    "print('Region 2: ')\n",
    "print('----------')\n",
    "profit(target_valid_2, predicted_valid_2, 200);"
   ]
  },
  {
   "cell_type": "markdown",
   "metadata": {},
   "source": [
    "### Provide findings: suggest a region for oil wells' development and justify the choice. Calculate the profit for the obtained volume of reserves."
   ]
  },
  {
   "cell_type": "markdown",
   "metadata": {},
   "source": [
    "##### According to our predictions the most reach in oil region is region 0:\n",
    "- It's best 200 wells contains 29,601,000 units of oil. \n",
    "- In average, each of its best 200 wells contains 148,000 units, which is high above the break-even point (111)\n",
    "- The profit for the obtained volume is 33,208,260 USD"
   ]
  },
  {
   "cell_type": "markdown",
   "metadata": {},
   "source": [
    "<a id=\"step5\"></a>\n",
    "## Step 5. Calculate risks and profit for each region:\n",
    "\n",
    "[back to table of contents](#contents)"
   ]
  },
  {
   "cell_type": "markdown",
   "metadata": {},
   "source": [
    "### Use the bootstrap technique with 1000 samples to find the distribution of profit."
   ]
  },
  {
   "cell_type": "markdown",
   "metadata": {},
   "source": [
    "### Find average profit, 95% confidence interval and risk of losses. Loss is negative profit, calculate it as a probability and then express as a percentage."
   ]
  },
  {
   "cell_type": "code",
   "execution_count": 41,
   "metadata": {},
   "outputs": [],
   "source": [
    "# Defining profit function for indexed predictions array\n",
    "\n",
    "def profit_idx(target, predictions, count):\n",
    "    \n",
    "    investment = 100000000\n",
    "    k_units_revenue = 4500\n",
    "    \n",
    "    preds_sorted_top = predictions.sort_values(ascending=False)[:count]\n",
    "    preds_sorted_indexes = pd.Series(preds_sorted_top.index)\n",
    "\n",
    "    selected = target[preds_sorted_indexes]\n",
    "    revenues =  k_units_revenue * selected.sum()\n",
    "    #print('Profit =               ', revenues - investment)\n",
    "    \n",
    "    return revenues - investment"
   ]
  },
  {
   "cell_type": "code",
   "execution_count": 48,
   "metadata": {},
   "outputs": [],
   "source": [
    "# Defining function for running bootstrap on data target and predictions sets\n",
    "# The function produces average frofit, and 2.5% quantile\n",
    "\n",
    "def profit_dist(target, predictions, samples, sample_size, count):\n",
    "    \n",
    "    state = np.random.RandomState(12345)\n",
    "    values = []\n",
    "    \n",
    "    for i in range(samples):\n",
    "        target_subsample = target.sample(sample_size, replace=True, random_state =state)\n",
    "        preds_subsample = predictions[target_subsample.index]\n",
    "\n",
    "        values.append(profit_idx(target_subsample, preds_subsample, count))\n",
    "         \n",
    "    values = pd.Series(values)\n",
    "    mean = values.mean()    \n",
    "    # calculating confidence interval\n",
    "    confidence_interval = st.t.interval(alpha =0.95, df =len(values)-1, loc=mean, scale=values.sem())\n",
    "    \n",
    "    # calculating the risk for loss\n",
    "    loss_risk = (values < 0).mean()\n",
    "\n",
    "    print(\"Average profit:\", mean)\n",
    "    print('95% confidence interval:', confidence_interval)\n",
    "    print('Loss risk:', loss_risk)\n",
    "    \n",
    "    return values"
   ]
  },
  {
   "cell_type": "code",
   "execution_count": 49,
   "metadata": {},
   "outputs": [
    {
     "name": "stdout",
     "output_type": "stream",
     "text": [
      "Region 0:\n",
      "---------\n",
      "Average profit: 6007352.442611653\n",
      "95% confidence interval: (5809910.87318879, 6204794.012034517)\n",
      "Loss risk: 0.02\n",
      " \n",
      "Region 1:\n",
      "---------\n",
      "Average profit: 6652410.582210722\n",
      "95% confidence interval: (6488555.19467795, 6816265.969743495)\n",
      "Loss risk: 0.003\n",
      " \n",
      "Region 2:\n",
      "---------\n",
      "Average profit: 6155597.228409677\n",
      "95% confidence interval: (5956412.740240845, 6354781.716578509)\n",
      "Loss risk: 0.03\n",
      " \n"
     ]
    }
   ],
   "source": [
    "# Runing the profit_disc function for the three regions:\n",
    "\n",
    "print('Region 0:')\n",
    "print('---------')\n",
    "profit_sample_0 = profit_dist(target_valid_0, predicted_valid_idx_0, 1000, 500, 200)\n",
    "print(' ')\n",
    "#profit_sample_0.plot.hist(bins=12, alpha=0.5)\n",
    "\n",
    "print('Region 1:')\n",
    "print('---------')\n",
    "profit_sample_1 = profit_dist(target_valid_1, predicted_valid_idx_1, 1000, 500, 200)\n",
    "print(' ')\n",
    "\n",
    "print('Region 2:')\n",
    "print('---------')\n",
    "profit_sample_2 = profit_dist(target_valid_2, predicted_valid_idx_2, 1000, 500, 200)\n",
    "print(' ')"
   ]
  },
  {
   "cell_type": "markdown",
   "metadata": {},
   "source": [
    "### Provide findings: suggest a region for development of oil wells and justify the choice."
   ]
  },
  {
   "cell_type": "markdown",
   "metadata": {},
   "source": [
    "Conclusions:\n",
    "Using the bootstrap technique with 1000 samples we found the distribution of each region's profit.\n",
    "We calculated the average profit and the potential risk for loss. \n",
    "\n",
    "- Only regions 0 and 1 fit the criteria of risk of losses lower than 2.5%. \n",
    "\n",
    "- From these two, region 1 has the higher average profit, which is 6,652,410 USD\n",
    "\n",
    "- Region 1 has the highest average profit and also a very low risk for loos, so it's the best region for development of oil wells."
   ]
  },
  {
   "cell_type": "code",
   "execution_count": null,
   "metadata": {},
   "outputs": [],
   "source": []
  }
 ],
 "metadata": {
  "ExecuteTimeLog": [
   {
    "duration": 11216,
    "start_time": "2021-10-29T23:07:18.678Z"
   },
   {
    "duration": 4,
    "start_time": "2021-10-29T23:07:29.898Z"
   },
   {
    "duration": 2206,
    "start_time": "2021-10-29T23:07:29.905Z"
   },
   {
    "duration": 527,
    "start_time": "2021-10-29T23:07:32.115Z"
   },
   {
    "duration": 17,
    "start_time": "2021-10-29T23:07:32.644Z"
   },
   {
    "duration": 20,
    "start_time": "2021-10-29T23:07:32.663Z"
   },
   {
    "duration": 11,
    "start_time": "2021-10-29T23:07:32.686Z"
   },
   {
    "duration": 19,
    "start_time": "2021-10-29T23:07:32.701Z"
   },
   {
    "duration": 18,
    "start_time": "2021-10-29T23:07:32.723Z"
   },
   {
    "duration": 56,
    "start_time": "2021-10-29T23:07:32.743Z"
   },
   {
    "duration": 47,
    "start_time": "2021-10-29T23:07:32.801Z"
   },
   {
    "duration": 74,
    "start_time": "2021-10-29T23:07:32.851Z"
   },
   {
    "duration": 71,
    "start_time": "2021-10-29T23:07:32.928Z"
   },
   {
    "duration": 17,
    "start_time": "2021-10-29T23:07:33.002Z"
   },
   {
    "duration": 17,
    "start_time": "2021-10-29T23:07:33.022Z"
   },
   {
    "duration": 49,
    "start_time": "2021-10-29T23:07:33.042Z"
   },
   {
    "duration": 25,
    "start_time": "2021-10-29T23:07:33.094Z"
   },
   {
    "duration": 22,
    "start_time": "2021-10-29T23:07:33.122Z"
   },
   {
    "duration": 61,
    "start_time": "2021-10-29T23:07:33.146Z"
   },
   {
    "duration": 44,
    "start_time": "2021-10-29T23:07:33.209Z"
   },
   {
    "duration": 68,
    "start_time": "2021-10-29T23:07:33.255Z"
   },
   {
    "duration": 530,
    "start_time": "2021-10-29T23:07:33.325Z"
   },
   {
    "duration": -244,
    "start_time": "2021-10-29T23:07:34.102Z"
   },
   {
    "duration": -244,
    "start_time": "2021-10-29T23:07:34.104Z"
   },
   {
    "duration": -244,
    "start_time": "2021-10-29T23:07:34.106Z"
   },
   {
    "duration": -256,
    "start_time": "2021-10-29T23:07:34.120Z"
   },
   {
    "duration": -379,
    "start_time": "2021-10-29T23:07:34.244Z"
   },
   {
    "duration": -379,
    "start_time": "2021-10-29T23:07:34.246Z"
   },
   {
    "duration": -380,
    "start_time": "2021-10-29T23:07:34.248Z"
   },
   {
    "duration": -380,
    "start_time": "2021-10-29T23:07:34.250Z"
   },
   {
    "duration": -381,
    "start_time": "2021-10-29T23:07:34.252Z"
   },
   {
    "duration": -383,
    "start_time": "2021-10-29T23:07:34.255Z"
   },
   {
    "duration": -383,
    "start_time": "2021-10-29T23:07:34.257Z"
   },
   {
    "duration": -384,
    "start_time": "2021-10-29T23:07:34.259Z"
   },
   {
    "duration": -385,
    "start_time": "2021-10-29T23:07:34.261Z"
   },
   {
    "duration": -385,
    "start_time": "2021-10-29T23:07:34.263Z"
   },
   {
    "duration": -386,
    "start_time": "2021-10-29T23:07:34.265Z"
   },
   {
    "duration": -385,
    "start_time": "2021-10-29T23:07:34.266Z"
   },
   {
    "duration": -387,
    "start_time": "2021-10-29T23:07:34.269Z"
   },
   {
    "duration": -388,
    "start_time": "2021-10-29T23:07:34.271Z"
   },
   {
    "duration": -388,
    "start_time": "2021-10-29T23:07:34.273Z"
   },
   {
    "duration": -389,
    "start_time": "2021-10-29T23:07:34.275Z"
   },
   {
    "duration": -390,
    "start_time": "2021-10-29T23:07:34.277Z"
   },
   {
    "duration": -389,
    "start_time": "2021-10-29T23:07:34.278Z"
   },
   {
    "duration": -390,
    "start_time": "2021-10-29T23:07:34.280Z"
   },
   {
    "duration": 465,
    "start_time": "2021-10-29T23:08:45.091Z"
   },
   {
    "duration": 356,
    "start_time": "2021-10-29T23:10:33.524Z"
   },
   {
    "duration": 465,
    "start_time": "2021-10-29T23:10:45.405Z"
   },
   {
    "duration": 631,
    "start_time": "2021-10-29T23:11:04.759Z"
   },
   {
    "duration": 533,
    "start_time": "2021-10-29T23:11:42.531Z"
   },
   {
    "duration": 514,
    "start_time": "2021-10-29T23:12:00.957Z"
   },
   {
    "duration": 497,
    "start_time": "2021-10-29T23:12:01.474Z"
   },
   {
    "duration": 509,
    "start_time": "2021-10-29T23:12:01.974Z"
   },
   {
    "duration": 19,
    "start_time": "2021-10-29T23:12:02.487Z"
   },
   {
    "duration": 8,
    "start_time": "2021-10-29T23:12:02.508Z"
   },
   {
    "duration": 21,
    "start_time": "2021-10-29T23:12:02.519Z"
   },
   {
    "duration": 5,
    "start_time": "2021-10-29T23:12:02.543Z"
   },
   {
    "duration": 21,
    "start_time": "2021-10-29T23:12:02.584Z"
   },
   {
    "duration": 19,
    "start_time": "2021-10-29T23:12:02.608Z"
   },
   {
    "duration": 5,
    "start_time": "2021-10-29T23:12:02.629Z"
   },
   {
    "duration": 71,
    "start_time": "2021-10-29T23:12:02.636Z"
   },
   {
    "duration": 5,
    "start_time": "2021-10-29T23:12:02.709Z"
   },
   {
    "duration": 16,
    "start_time": "2021-10-29T23:12:02.716Z"
   },
   {
    "duration": 7,
    "start_time": "2021-10-29T23:12:02.734Z"
   },
   {
    "duration": 438,
    "start_time": "2021-10-29T23:12:02.744Z"
   },
   {
    "duration": 5,
    "start_time": "2021-10-29T23:12:03.186Z"
   },
   {
    "duration": 89,
    "start_time": "2021-10-29T23:12:03.194Z"
   },
   {
    "duration": 5,
    "start_time": "2021-10-29T23:12:03.286Z"
   },
   {
    "duration": 11,
    "start_time": "2021-10-29T23:12:03.293Z"
   },
   {
    "duration": 6,
    "start_time": "2021-10-29T23:12:03.306Z"
   },
   {
    "duration": 36,
    "start_time": "2021-10-29T23:12:03.315Z"
   },
   {
    "duration": 4,
    "start_time": "2021-10-29T23:12:03.383Z"
   },
   {
    "duration": 7,
    "start_time": "2021-10-29T23:12:03.392Z"
   },
   {
    "duration": 5385,
    "start_time": "2021-10-29T23:12:03.401Z"
   },
   {
    "duration": 15502,
    "start_time": "2021-10-30T01:43:05.186Z"
   },
   {
    "duration": 402,
    "start_time": "2021-10-30T01:43:20.689Z"
   },
   {
    "duration": 18,
    "start_time": "2021-10-30T01:43:49.651Z"
   },
   {
    "duration": 4,
    "start_time": "2021-10-30T01:43:51.247Z"
   },
   {
    "duration": 17,
    "start_time": "2021-10-30T01:43:51.453Z"
   },
   {
    "duration": 4,
    "start_time": "2021-10-30T01:43:51.652Z"
   },
   {
    "duration": 17,
    "start_time": "2021-10-30T01:43:51.818Z"
   },
   {
    "duration": 19,
    "start_time": "2021-10-30T01:43:52.020Z"
   },
   {
    "duration": 4,
    "start_time": "2021-10-30T01:43:52.745Z"
   },
   {
    "duration": 39,
    "start_time": "2021-10-30T01:43:53.260Z"
   },
   {
    "duration": 4,
    "start_time": "2021-10-30T01:43:53.753Z"
   },
   {
    "duration": 10,
    "start_time": "2021-10-30T01:43:54.121Z"
   },
   {
    "duration": 4,
    "start_time": "2021-10-30T01:43:58.471Z"
   },
   {
    "duration": 292,
    "start_time": "2021-10-30T01:43:58.973Z"
   },
   {
    "duration": 3,
    "start_time": "2021-10-30T01:44:01.751Z"
   },
   {
    "duration": 3,
    "start_time": "2021-10-30T01:44:03.741Z"
   },
   {
    "duration": 4,
    "start_time": "2021-10-30T01:44:05.168Z"
   },
   {
    "duration": 9,
    "start_time": "2021-10-30T01:44:05.710Z"
   },
   {
    "duration": 4,
    "start_time": "2021-10-30T01:44:08.144Z"
   },
   {
    "duration": 379,
    "start_time": "2021-10-30T01:44:16.594Z"
   },
   {
    "duration": 6,
    "start_time": "2021-10-30T01:44:43.430Z"
   },
   {
    "duration": 5,
    "start_time": "2021-10-30T01:44:46.342Z"
   },
   {
    "duration": 279,
    "start_time": "2021-10-30T01:44:56.060Z"
   },
   {
    "duration": 4,
    "start_time": "2021-10-30T01:45:01.542Z"
   },
   {
    "duration": 5,
    "start_time": "2021-10-30T01:45:10.485Z"
   },
   {
    "duration": 5,
    "start_time": "2021-10-30T01:45:57.443Z"
   },
   {
    "duration": 4293,
    "start_time": "2021-10-30T01:45:59.338Z"
   },
   {
    "duration": 4,
    "start_time": "2021-10-30T01:46:08.623Z"
   },
   {
    "duration": 4,
    "start_time": "2021-10-30T01:46:11.618Z"
   },
   {
    "duration": 4,
    "start_time": "2021-10-30T01:46:13.878Z"
   },
   {
    "duration": 3691,
    "start_time": "2021-10-30T01:46:18.334Z"
   },
   {
    "duration": 3863,
    "start_time": "2021-10-30T01:46:24.617Z"
   },
   {
    "duration": 338,
    "start_time": "2021-10-30T01:46:42.152Z"
   },
   {
    "duration": 6,
    "start_time": "2021-10-30T01:46:45.494Z"
   },
   {
    "duration": 4,
    "start_time": "2021-10-30T01:46:47.433Z"
   },
   {
    "duration": 4,
    "start_time": "2021-10-30T01:46:49.513Z"
   },
   {
    "duration": 6,
    "start_time": "2021-10-30T01:46:56.396Z"
   },
   {
    "duration": 4,
    "start_time": "2021-10-30T01:46:59.675Z"
   },
   {
    "duration": 4,
    "start_time": "2021-10-30T01:47:03.108Z"
   },
   {
    "duration": 22,
    "start_time": "2021-10-30T01:47:36.480Z"
   },
   {
    "duration": 4,
    "start_time": "2021-10-30T01:47:45.026Z"
   },
   {
    "duration": 5,
    "start_time": "2021-10-30T01:47:46.217Z"
   },
   {
    "duration": 255,
    "start_time": "2021-10-30T01:48:20.234Z"
   },
   {
    "duration": 5,
    "start_time": "2021-10-30T01:48:31.804Z"
   },
   {
    "duration": 322,
    "start_time": "2021-10-30T01:48:42.649Z"
   },
   {
    "duration": 4,
    "start_time": "2021-10-30T01:48:47.491Z"
   },
   {
    "duration": 4,
    "start_time": "2021-10-30T01:49:10.622Z"
   },
   {
    "duration": 5,
    "start_time": "2021-10-30T01:49:11.049Z"
   },
   {
    "duration": 8007,
    "start_time": "2021-10-30T01:49:11.613Z"
   },
   {
    "duration": 5,
    "start_time": "2021-10-30T01:49:54.024Z"
   },
   {
    "duration": 8,
    "start_time": "2021-10-30T01:50:21.785Z"
   },
   {
    "duration": 9,
    "start_time": "2021-10-30T01:50:39.425Z"
   }
  ],
  "kernelspec": {
   "display_name": "Python 3",
   "language": "python",
   "name": "python3"
  },
  "language_info": {
   "codemirror_mode": {
    "name": "ipython",
    "version": 3
   },
   "file_extension": ".py",
   "mimetype": "text/x-python",
   "name": "python",
   "nbconvert_exporter": "python",
   "pygments_lexer": "ipython3",
   "version": "3.8.5"
  },
  "toc": {
   "base_numbering": 1,
   "nav_menu": {},
   "number_sections": true,
   "sideBar": true,
   "skip_h1_title": true,
   "title_cell": "Table of Contents",
   "title_sidebar": "Contents",
   "toc_cell": false,
   "toc_position": {},
   "toc_section_display": true,
   "toc_window_display": false
  }
 },
 "nbformat": 4,
 "nbformat_minor": 4
}
