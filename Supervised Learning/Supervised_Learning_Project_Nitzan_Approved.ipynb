{
 "cells": [
  {
   "cell_type": "markdown",
   "metadata": {},
   "source": [
    "**Review**\n",
    "\t  \n",
    "Hi, my name is Dmitry and I will be reviewing your project.\n",
    "  \n",
    "You can find my comments in colored markdown cells:\n",
    "  \n",
    "<div class=\"alert alert-success\">\n",
    "  If everything is done successfully.\n",
    "</div>\n",
    "  \n",
    "<div class=\"alert alert-warning\">\n",
    "  If I have some (optional) suggestions, or questions to think about, or general comments.\n",
    "</div>\n",
    "  \n",
    "<div class=\"alert alert-danger\">\n",
    "  If a section requires some corrections. Work can't be accepted with red comments.\n",
    "</div>\n",
    "  \n",
    "Please don't remove my comments, as it will make further review iterations much harder for me.\n",
    "  \n",
    "Feel free to reply to my comments or ask questions using the following template:\n",
    "  \n",
    "<div class=\"alert alert-info\">\n",
    "  For your comments and questions.\n",
    "</div>\n",
    "  \n",
    "First of all, thank you for turning in the project! You did a pretty good job overall, but unfortunately there are some problems that need to be fixed before the project can be accepted. Good luck!"
   ]
  },
  {
   "cell_type": "markdown",
   "metadata": {},
   "source": [
    "<div class=\"alert alert-info\">\n",
    "\n",
    "Hi Dmitry, Thank you for your thorough review and good tips. unfortunatly, I did not make it to the required score.\n",
    "    \n",
    "I made many changes\n",
    "1. Went back to OHE\n",
    "\n",
    "2. I used stratified split\n",
    "\n",
    "3. Changed the scoring method in GridSearchCV to f1\n",
    "    \n",
    "4. Changed the parameters options I provided to GridSearchCV and thus improved a lot my model hyperparameters\n",
    "\n",
    "5. Trained the model on combined training and validation sets\n",
    "    \n",
    "6. Tried tuning the threshold, and found that as the threshold is getting higher (from 0), all the scores are falling and it means that something is wrong. I don't know what is it.    \n",
    "\n",
    "</div>"
   ]
  },
  {
   "cell_type": "markdown",
   "metadata": {},
   "source": [
    "<div class=\"alert alert-warning\">\n",
    "<b>Reviewer's comment V2</b>\n",
    "  \n",
    "You did a fantastic job improving the project! I was surprised that nothing helped to improve the test set score, so I carefully looked through your project again and found the problem: scaling was not applied to the test set. It must have been really frustrating, so I'm very sorry I missed this in the first review (it just didn't register for some reason, I was pretty sure that you just applied scaling to each of the three subsets successively)!\n",
    "\t  \n",
    "</div>"
   ]
  },
  {
   "cell_type": "markdown",
   "metadata": {},
   "source": [
    "<div class=\"alert alert-info\">\n",
    "<b>Student's comment V2</b>    \n",
    "\n",
    "Hi Dmitry, Thank you! I think I wasn't sure if scaling should be applied also to the test set. I was so carefull about tuching it... Now it looks obvious.\n",
    "Yes, it was frustrating, but I learned a lot from it :)\n",
    "\n",
    "</div>"
   ]
  },
  {
   "cell_type": "markdown",
   "metadata": {},
   "source": [
    "<div class=\"alert alert-success\">\n",
    "<b>Reviewer's comment V3</b>\n",
    "\t  \n",
    "Ok, I'm glad that the project can be accepted now, and you can move on to the next srpint! Well done!\n",
    "\t  \n",
    "</div>"
   ]
  },
  {
   "cell_type": "markdown",
   "metadata": {
    "tags": []
   },
   "source": [
    "#### Importing Python libraries"
   ]
  },
  {
   "cell_type": "code",
   "execution_count": 101,
   "metadata": {},
   "outputs": [
    {
     "name": "stdout",
     "output_type": "stream",
     "text": [
      "Defaulting to user installation because normal site-packages is not writeable\n",
      "Requirement already up-to-date: imbalanced-learn in /home/jovyan/.local/lib/python3.7/site-packages (0.8.1)\n",
      "Requirement already satisfied, skipping upgrade: joblib>=0.11 in /opt/conda/lib/python3.7/site-packages (from imbalanced-learn) (1.0.1)\n",
      "Requirement already satisfied, skipping upgrade: scipy>=0.19.1 in /opt/conda/lib/python3.7/site-packages (from imbalanced-learn) (1.4.1)\n",
      "Requirement already satisfied, skipping upgrade: numpy>=1.13.3 in /opt/conda/lib/python3.7/site-packages (from imbalanced-learn) (1.19.5)\n",
      "Requirement already satisfied, skipping upgrade: scikit-learn>=0.24 in /home/jovyan/.local/lib/python3.7/site-packages (from imbalanced-learn) (1.0)\n",
      "Requirement already satisfied, skipping upgrade: threadpoolctl>=2.0.0 in /home/jovyan/.local/lib/python3.7/site-packages (from scikit-learn>=0.24->imbalanced-learn) (3.0.0)\n",
      "Note: you may need to restart the kernel to use updated packages.\n"
     ]
    }
   ],
   "source": [
    "pip install -U imbalanced-learn"
   ]
  },
  {
   "cell_type": "code",
   "execution_count": 102,
   "metadata": {},
   "outputs": [],
   "source": [
    "!pip install -q --upgrade pandas"
   ]
  },
  {
   "cell_type": "code",
   "execution_count": 103,
   "metadata": {},
   "outputs": [],
   "source": [
    "# Basic\n",
    "import pandas as pd\n",
    "import numpy as np\n",
    "import seaborn as sns\n",
    "import matplotlib.pyplot as plt\n",
    "import plotly.express as px\n",
    "import warnings\n",
    "warnings.filterwarnings(\"ignore\")\n",
    "\n",
    "# Preprocessing\n",
    "from sklearn.model_selection import train_test_split\n",
    "from sklearn.preprocessing import StandardScaler \n",
    "from sklearn.utils import shuffle\n",
    "from sklearn.preprocessing import OrdinalEncoder \n",
    "\n",
    "# Modelling\n",
    "from sklearn.tree import DecisionTreeClassifier\n",
    "from sklearn.ensemble import RandomForestClassifier\n",
    "from sklearn.model_selection import RandomizedSearchCV\n",
    "from sklearn.linear_model import LogisticRegression \n",
    "from sklearn.model_selection import GridSearchCV\n",
    "from sklearn import tree\n",
    "from sklearn.linear_model import LogisticRegressionCV\n",
    "from sklearn.model_selection import cross_val_score\n",
    "from sklearn.model_selection import StratifiedKFold\n",
    "from imblearn.pipeline import Pipeline\n",
    "\n",
    "# Metrics\n",
    "from sklearn.metrics import accuracy_score \n",
    "from sklearn.metrics import roc_auc_score\n",
    "from sklearn.metrics import precision_score\n",
    "from sklearn.metrics import recall_score\n",
    "from sklearn.metrics import f1_score\n",
    "from sklearn.metrics import confusion_matrix\n",
    "from sklearn.metrics import precision_recall_curve\n",
    "from sklearn.metrics import roc_curve \n",
    "from sklearn.dummy import DummyClassifier"
   ]
  },
  {
   "cell_type": "markdown",
   "metadata": {},
   "source": [
    "# Supervised Learning Project\n",
    "### Project Description:"
   ]
  },
  {
   "cell_type": "markdown",
   "metadata": {},
   "source": [
    "Beta Bank is suffering continual customer churn. they decided to invest in customer preservation and the first step is tring to predict customers' churn.\n",
    "\n",
    "Our goal in this project is to develop a model that would analyze the data on bank's clients behavior and predict whether a customer will leave the bank soon.\n",
    "\n",
    "The model will be trained based on data about clients’ past behavior and termination of contracts with the bank.\n",
    "\n",
    "We should develop a model with the maximum possible F1 score. F1 score should be at least 0.59\n",
    "\n",
    "Every observation in the dataset contains information about one customer.\n",
    "\n",
    "The information given is as follows:\n",
    "\n",
    "Features:\n",
    "\n",
    "- RowNumber — data string index\n",
    "- CustomerId — unique customer identifier\n",
    "- Surname — surname\n",
    "- CreditScore — credit score\n",
    "- Geography — country of residence\n",
    "- Gender — gender\n",
    "- Age — age\n",
    "- Tenure — period of maturation for a customer’s fixed deposit (years)\n",
    "- Balance — account balance\n",
    "- NumOfProducts — number of banking products used by the customer\n",
    "- HasCrCard — customer has a credit card\n",
    "- IsActiveMember — customer’s activeness\n",
    "- EstimatedSalary — estimated salary\n",
    "\n",
    "Target:\n",
    "\n",
    "- Exited — сustomer has left"
   ]
  },
  {
   "cell_type": "markdown",
   "metadata": {},
   "source": [
    "<a id=\"contents\"></a>\n",
    "# Table of contents\n",
    "\n",
    "- [Step 1](#step1) Data loading and preprocessing\n",
    "- [Step 2](#step2) Model training & validation\n",
    "- [Step 3](#step3) Improve the quality of the model, taking into account the imbalance of classes.\n",
    "- [Step 4](#step4) Check the quality of the model using the test set."
   ]
  },
  {
   "cell_type": "markdown",
   "metadata": {},
   "source": [
    "<a id=\"step1\"></a>\n",
    "## Step 1. Data loading and preprocessing\n",
    "\n",
    "[back to table of contents](#contents)"
   ]
  },
  {
   "cell_type": "markdown",
   "metadata": {},
   "source": [
    "### Download and study the data"
   ]
  },
  {
   "cell_type": "code",
   "execution_count": 104,
   "metadata": {},
   "outputs": [],
   "source": [
    "# Downloading the file and saving the data in a datafarme\n",
    "try:\n",
    "    churn_data     = pd.read_csv('/datasets/Churn.csv')\n",
    "except:\n",
    "    churn_data     = pd.read_csv('Churn.csv' , encoding = \"ISO-8859-1\") "
   ]
  },
  {
   "cell_type": "code",
   "execution_count": 105,
   "metadata": {},
   "outputs": [
    {
     "data": {
      "text/plain": [
       "(10000, 14)"
      ]
     },
     "execution_count": 105,
     "metadata": {},
     "output_type": "execute_result"
    }
   ],
   "source": [
    "churn_data.shape"
   ]
  },
  {
   "cell_type": "code",
   "execution_count": 106,
   "metadata": {},
   "outputs": [
    {
     "data": {
      "text/html": [
       "<div>\n",
       "<style scoped>\n",
       "    .dataframe tbody tr th:only-of-type {\n",
       "        vertical-align: middle;\n",
       "    }\n",
       "\n",
       "    .dataframe tbody tr th {\n",
       "        vertical-align: top;\n",
       "    }\n",
       "\n",
       "    .dataframe thead th {\n",
       "        text-align: right;\n",
       "    }\n",
       "</style>\n",
       "<table border=\"1\" class=\"dataframe\">\n",
       "  <thead>\n",
       "    <tr style=\"text-align: right;\">\n",
       "      <th></th>\n",
       "      <th>RowNumber</th>\n",
       "      <th>CustomerId</th>\n",
       "      <th>Surname</th>\n",
       "      <th>CreditScore</th>\n",
       "      <th>Geography</th>\n",
       "      <th>Gender</th>\n",
       "      <th>Age</th>\n",
       "      <th>Tenure</th>\n",
       "      <th>Balance</th>\n",
       "      <th>NumOfProducts</th>\n",
       "      <th>HasCrCard</th>\n",
       "      <th>IsActiveMember</th>\n",
       "      <th>EstimatedSalary</th>\n",
       "      <th>Exited</th>\n",
       "    </tr>\n",
       "  </thead>\n",
       "  <tbody>\n",
       "    <tr>\n",
       "      <th>0</th>\n",
       "      <td>1</td>\n",
       "      <td>15634602</td>\n",
       "      <td>Hargrave</td>\n",
       "      <td>619</td>\n",
       "      <td>France</td>\n",
       "      <td>Female</td>\n",
       "      <td>42</td>\n",
       "      <td>2.0</td>\n",
       "      <td>0.00</td>\n",
       "      <td>1</td>\n",
       "      <td>1</td>\n",
       "      <td>1</td>\n",
       "      <td>101348.88</td>\n",
       "      <td>1</td>\n",
       "    </tr>\n",
       "    <tr>\n",
       "      <th>1</th>\n",
       "      <td>2</td>\n",
       "      <td>15647311</td>\n",
       "      <td>Hill</td>\n",
       "      <td>608</td>\n",
       "      <td>Spain</td>\n",
       "      <td>Female</td>\n",
       "      <td>41</td>\n",
       "      <td>1.0</td>\n",
       "      <td>83807.86</td>\n",
       "      <td>1</td>\n",
       "      <td>0</td>\n",
       "      <td>1</td>\n",
       "      <td>112542.58</td>\n",
       "      <td>0</td>\n",
       "    </tr>\n",
       "    <tr>\n",
       "      <th>2</th>\n",
       "      <td>3</td>\n",
       "      <td>15619304</td>\n",
       "      <td>Onio</td>\n",
       "      <td>502</td>\n",
       "      <td>France</td>\n",
       "      <td>Female</td>\n",
       "      <td>42</td>\n",
       "      <td>8.0</td>\n",
       "      <td>159660.80</td>\n",
       "      <td>3</td>\n",
       "      <td>1</td>\n",
       "      <td>0</td>\n",
       "      <td>113931.57</td>\n",
       "      <td>1</td>\n",
       "    </tr>\n",
       "  </tbody>\n",
       "</table>\n",
       "</div>"
      ],
      "text/plain": [
       "   RowNumber  CustomerId   Surname  CreditScore Geography  Gender  Age  \\\n",
       "0          1    15634602  Hargrave          619    France  Female   42   \n",
       "1          2    15647311      Hill          608     Spain  Female   41   \n",
       "2          3    15619304      Onio          502    France  Female   42   \n",
       "\n",
       "   Tenure    Balance  NumOfProducts  HasCrCard  IsActiveMember  \\\n",
       "0     2.0       0.00              1          1               1   \n",
       "1     1.0   83807.86              1          0               1   \n",
       "2     8.0  159660.80              3          1               0   \n",
       "\n",
       "   EstimatedSalary  Exited  \n",
       "0        101348.88       1  \n",
       "1        112542.58       0  \n",
       "2        113931.57       1  "
      ]
     },
     "execution_count": 106,
     "metadata": {},
     "output_type": "execute_result"
    }
   ],
   "source": [
    "churn_data.head(3)"
   ]
  },
  {
   "cell_type": "code",
   "execution_count": 107,
   "metadata": {},
   "outputs": [
    {
     "data": {
      "text/html": [
       "<div>\n",
       "<style scoped>\n",
       "    .dataframe tbody tr th:only-of-type {\n",
       "        vertical-align: middle;\n",
       "    }\n",
       "\n",
       "    .dataframe tbody tr th {\n",
       "        vertical-align: top;\n",
       "    }\n",
       "\n",
       "    .dataframe thead th {\n",
       "        text-align: right;\n",
       "    }\n",
       "</style>\n",
       "<table border=\"1\" class=\"dataframe\">\n",
       "  <thead>\n",
       "    <tr style=\"text-align: right;\">\n",
       "      <th></th>\n",
       "      <th>RowNumber</th>\n",
       "      <th>CustomerId</th>\n",
       "      <th>CreditScore</th>\n",
       "      <th>Age</th>\n",
       "      <th>Tenure</th>\n",
       "      <th>Balance</th>\n",
       "      <th>NumOfProducts</th>\n",
       "      <th>HasCrCard</th>\n",
       "      <th>IsActiveMember</th>\n",
       "      <th>EstimatedSalary</th>\n",
       "      <th>Exited</th>\n",
       "    </tr>\n",
       "  </thead>\n",
       "  <tbody>\n",
       "    <tr>\n",
       "      <th>count</th>\n",
       "      <td>10000.00000</td>\n",
       "      <td>1.000000e+04</td>\n",
       "      <td>10000.000000</td>\n",
       "      <td>10000.000000</td>\n",
       "      <td>9091.000000</td>\n",
       "      <td>10000.000000</td>\n",
       "      <td>10000.000000</td>\n",
       "      <td>10000.00000</td>\n",
       "      <td>10000.000000</td>\n",
       "      <td>10000.000000</td>\n",
       "      <td>10000.000000</td>\n",
       "    </tr>\n",
       "    <tr>\n",
       "      <th>mean</th>\n",
       "      <td>5000.50000</td>\n",
       "      <td>1.569094e+07</td>\n",
       "      <td>650.528800</td>\n",
       "      <td>38.921800</td>\n",
       "      <td>4.997690</td>\n",
       "      <td>76485.889288</td>\n",
       "      <td>1.530200</td>\n",
       "      <td>0.70550</td>\n",
       "      <td>0.515100</td>\n",
       "      <td>100090.239881</td>\n",
       "      <td>0.203700</td>\n",
       "    </tr>\n",
       "    <tr>\n",
       "      <th>std</th>\n",
       "      <td>2886.89568</td>\n",
       "      <td>7.193619e+04</td>\n",
       "      <td>96.653299</td>\n",
       "      <td>10.487806</td>\n",
       "      <td>2.894723</td>\n",
       "      <td>62397.405202</td>\n",
       "      <td>0.581654</td>\n",
       "      <td>0.45584</td>\n",
       "      <td>0.499797</td>\n",
       "      <td>57510.492818</td>\n",
       "      <td>0.402769</td>\n",
       "    </tr>\n",
       "    <tr>\n",
       "      <th>min</th>\n",
       "      <td>1.00000</td>\n",
       "      <td>1.556570e+07</td>\n",
       "      <td>350.000000</td>\n",
       "      <td>18.000000</td>\n",
       "      <td>0.000000</td>\n",
       "      <td>0.000000</td>\n",
       "      <td>1.000000</td>\n",
       "      <td>0.00000</td>\n",
       "      <td>0.000000</td>\n",
       "      <td>11.580000</td>\n",
       "      <td>0.000000</td>\n",
       "    </tr>\n",
       "    <tr>\n",
       "      <th>25%</th>\n",
       "      <td>2500.75000</td>\n",
       "      <td>1.562853e+07</td>\n",
       "      <td>584.000000</td>\n",
       "      <td>32.000000</td>\n",
       "      <td>2.000000</td>\n",
       "      <td>0.000000</td>\n",
       "      <td>1.000000</td>\n",
       "      <td>0.00000</td>\n",
       "      <td>0.000000</td>\n",
       "      <td>51002.110000</td>\n",
       "      <td>0.000000</td>\n",
       "    </tr>\n",
       "    <tr>\n",
       "      <th>50%</th>\n",
       "      <td>5000.50000</td>\n",
       "      <td>1.569074e+07</td>\n",
       "      <td>652.000000</td>\n",
       "      <td>37.000000</td>\n",
       "      <td>5.000000</td>\n",
       "      <td>97198.540000</td>\n",
       "      <td>1.000000</td>\n",
       "      <td>1.00000</td>\n",
       "      <td>1.000000</td>\n",
       "      <td>100193.915000</td>\n",
       "      <td>0.000000</td>\n",
       "    </tr>\n",
       "    <tr>\n",
       "      <th>75%</th>\n",
       "      <td>7500.25000</td>\n",
       "      <td>1.575323e+07</td>\n",
       "      <td>718.000000</td>\n",
       "      <td>44.000000</td>\n",
       "      <td>7.000000</td>\n",
       "      <td>127644.240000</td>\n",
       "      <td>2.000000</td>\n",
       "      <td>1.00000</td>\n",
       "      <td>1.000000</td>\n",
       "      <td>149388.247500</td>\n",
       "      <td>0.000000</td>\n",
       "    </tr>\n",
       "    <tr>\n",
       "      <th>max</th>\n",
       "      <td>10000.00000</td>\n",
       "      <td>1.581569e+07</td>\n",
       "      <td>850.000000</td>\n",
       "      <td>92.000000</td>\n",
       "      <td>10.000000</td>\n",
       "      <td>250898.090000</td>\n",
       "      <td>4.000000</td>\n",
       "      <td>1.00000</td>\n",
       "      <td>1.000000</td>\n",
       "      <td>199992.480000</td>\n",
       "      <td>1.000000</td>\n",
       "    </tr>\n",
       "  </tbody>\n",
       "</table>\n",
       "</div>"
      ],
      "text/plain": [
       "         RowNumber    CustomerId   CreditScore           Age       Tenure  \\\n",
       "count  10000.00000  1.000000e+04  10000.000000  10000.000000  9091.000000   \n",
       "mean    5000.50000  1.569094e+07    650.528800     38.921800     4.997690   \n",
       "std     2886.89568  7.193619e+04     96.653299     10.487806     2.894723   \n",
       "min        1.00000  1.556570e+07    350.000000     18.000000     0.000000   \n",
       "25%     2500.75000  1.562853e+07    584.000000     32.000000     2.000000   \n",
       "50%     5000.50000  1.569074e+07    652.000000     37.000000     5.000000   \n",
       "75%     7500.25000  1.575323e+07    718.000000     44.000000     7.000000   \n",
       "max    10000.00000  1.581569e+07    850.000000     92.000000    10.000000   \n",
       "\n",
       "             Balance  NumOfProducts    HasCrCard  IsActiveMember  \\\n",
       "count   10000.000000   10000.000000  10000.00000    10000.000000   \n",
       "mean    76485.889288       1.530200      0.70550        0.515100   \n",
       "std     62397.405202       0.581654      0.45584        0.499797   \n",
       "min         0.000000       1.000000      0.00000        0.000000   \n",
       "25%         0.000000       1.000000      0.00000        0.000000   \n",
       "50%     97198.540000       1.000000      1.00000        1.000000   \n",
       "75%    127644.240000       2.000000      1.00000        1.000000   \n",
       "max    250898.090000       4.000000      1.00000        1.000000   \n",
       "\n",
       "       EstimatedSalary        Exited  \n",
       "count     10000.000000  10000.000000  \n",
       "mean     100090.239881      0.203700  \n",
       "std       57510.492818      0.402769  \n",
       "min          11.580000      0.000000  \n",
       "25%       51002.110000      0.000000  \n",
       "50%      100193.915000      0.000000  \n",
       "75%      149388.247500      0.000000  \n",
       "max      199992.480000      1.000000  "
      ]
     },
     "execution_count": 107,
     "metadata": {},
     "output_type": "execute_result"
    }
   ],
   "source": [
    "churn_data.describe()"
   ]
  },
  {
   "cell_type": "code",
   "execution_count": 108,
   "metadata": {},
   "outputs": [
    {
     "data": {
      "text/plain": [
       "RowNumber            0\n",
       "CustomerId           0\n",
       "Surname              0\n",
       "CreditScore          0\n",
       "Geography            0\n",
       "Gender               0\n",
       "Age                  0\n",
       "Tenure             909\n",
       "Balance              0\n",
       "NumOfProducts        0\n",
       "HasCrCard            0\n",
       "IsActiveMember       0\n",
       "EstimatedSalary      0\n",
       "Exited               0\n",
       "dtype: int64"
      ]
     },
     "execution_count": 108,
     "metadata": {},
     "output_type": "execute_result"
    }
   ],
   "source": [
    "churn_data.isna().sum()"
   ]
  },
  {
   "cell_type": "code",
   "execution_count": 109,
   "metadata": {},
   "outputs": [
    {
     "data": {
      "text/plain": [
       "RowNumber            int64\n",
       "CustomerId           int64\n",
       "Surname             object\n",
       "CreditScore          int64\n",
       "Geography           object\n",
       "Gender              object\n",
       "Age                  int64\n",
       "Tenure             float64\n",
       "Balance            float64\n",
       "NumOfProducts        int64\n",
       "HasCrCard            int64\n",
       "IsActiveMember       int64\n",
       "EstimatedSalary    float64\n",
       "Exited               int64\n",
       "dtype: object"
      ]
     },
     "execution_count": 109,
     "metadata": {},
     "output_type": "execute_result"
    }
   ],
   "source": [
    "churn_data.dtypes"
   ]
  },
  {
   "cell_type": "markdown",
   "metadata": {},
   "source": [
    "How is the target distributed?"
   ]
  },
  {
   "cell_type": "code",
   "execution_count": 110,
   "metadata": {},
   "outputs": [
    {
     "data": {
      "image/png": "[encoded data removed]",
      "text/plain": [
       "<Figure size 432x288 with 1 Axes>"
      ]
     },
     "metadata": {
      "needs_background": "light"
     },
     "output_type": "display_data"
    }
   ],
   "source": [
    "churn_data.Exited.value_counts().plot.bar();"
   ]
  },
  {
   "cell_type": "markdown",
   "metadata": {},
   "source": [
    "How are the features distributed? are there any outliers?"
   ]
  },
  {
   "cell_type": "code",
   "execution_count": 111,
   "metadata": {},
   "outputs": [
    {
     "data": {
      "image/png": "[encoded data removed]",
      "text/plain": [
       "<Figure size 1440x1080 with 6 Axes>"
      ]
     },
     "metadata": {
      "needs_background": "light"
     },
     "output_type": "display_data"
    }
   ],
   "source": [
    "numeric = ['CreditScore','Age','Tenure','Balance','NumOfProducts','EstimatedSalary']\n",
    "churn_data[numeric].hist(edgecolor='black', linewidth=1.2, figsize=(20,15));"
   ]
  },
  {
   "cell_type": "code",
   "execution_count": 112,
   "metadata": {},
   "outputs": [
    {
     "name": "stdout",
     "output_type": "stream",
     "text": [
      "[162711.669  185967.9854]\n"
     ]
    }
   ],
   "source": [
    "# Calculating 95 and 99 percentiles of the Balance:\n",
    "print(np.percentile(churn_data['Balance'], [95, 99])) "
   ]
  },
  {
   "cell_type": "code",
   "execution_count": 113,
   "metadata": {},
   "outputs": [
    {
     "data": {
      "image/png": "[encoded data removed]",
      "text/plain": [
       "<Figure size 432x288 with 1 Axes>"
      ]
     },
     "metadata": {
      "needs_background": "light"
     },
     "output_type": "display_data"
    }
   ],
   "source": [
    "# Balance boxplot; I want to determine if these are ectually outliers\n",
    "sns.boxplot(y='Balance', data=churn_data);"
   ]
  },
  {
   "cell_type": "markdown",
   "metadata": {},
   "source": [
    "#### Summary\n",
    "- We have 10,000 observations in our sample\n",
    "- There are 909 rows with null value in 'Tenure' column.\n",
    "- There are 2 categoricl features, 'Geography' and 'Gender', which we have to encode and convert to numeric (the model must get numerical values).\n",
    "- The other features' data types are correct.\n",
    "- The target is not balanced. 0 - 80%, 1 - 20%\n",
    "- The featurs are distributed mainly normal.\n",
    "- I checked the 'Balance' feature with box-and-wisker graph, and saw that the 95 and 99 percentile values are not outside the norml distribution boundries"
   ]
  },
  {
   "cell_type": "markdown",
   "metadata": {},
   "source": [
    "<div class=\"alert alert-success\">\n",
    "<b>Reviewer's comment</b>\n",
    "\t  \n",
    "Great, the data was loaded and inpsected. You checked the feature and target distributions (and noted class imbalance in target)\n",
    "\t  \n",
    "</div>"
   ]
  },
  {
   "cell_type": "markdown",
   "metadata": {},
   "source": [
    "### Data preprocessing"
   ]
  },
  {
   "cell_type": "markdown",
   "metadata": {},
   "source": [
    "#### Removing unnecessary columns:"
   ]
  },
  {
   "cell_type": "code",
   "execution_count": 114,
   "metadata": {},
   "outputs": [],
   "source": [
    "redundant_features = ['RowNumber','CustomerId','Surname']\n",
    "churn_data.drop(redundant_features, axis=1, inplace = True)"
   ]
  },
  {
   "cell_type": "markdown",
   "metadata": {},
   "source": [
    "<div class=\"alert alert-success\">\n",
    "<b>Reviewer's comment</b>\n",
    "\t  \n",
    "Yep, these columns can be safely dropped: there is no reasonable explanation of how they could influence target.\n",
    "\t  \n",
    "</div>"
   ]
  },
  {
   "cell_type": "markdown",
   "metadata": {},
   "source": [
    "#### Processing missing values"
   ]
  },
  {
   "cell_type": "code",
   "execution_count": 115,
   "metadata": {},
   "outputs": [
    {
     "data": {
      "text/html": [
       "<div>\n",
       "<style scoped>\n",
       "    .dataframe tbody tr th:only-of-type {\n",
       "        vertical-align: middle;\n",
       "    }\n",
       "\n",
       "    .dataframe tbody tr th {\n",
       "        vertical-align: top;\n",
       "    }\n",
       "\n",
       "    .dataframe thead th {\n",
       "        text-align: right;\n",
       "    }\n",
       "</style>\n",
       "<table border=\"1\" class=\"dataframe\">\n",
       "  <thead>\n",
       "    <tr style=\"text-align: right;\">\n",
       "      <th></th>\n",
       "      <th>CreditScore</th>\n",
       "      <th>Age</th>\n",
       "      <th>Tenure</th>\n",
       "      <th>Balance</th>\n",
       "      <th>NumOfProducts</th>\n",
       "      <th>HasCrCard</th>\n",
       "      <th>IsActiveMember</th>\n",
       "      <th>EstimatedSalary</th>\n",
       "      <th>Exited</th>\n",
       "    </tr>\n",
       "  </thead>\n",
       "  <tbody>\n",
       "    <tr>\n",
       "      <th>count</th>\n",
       "      <td>909.000000</td>\n",
       "      <td>909.000000</td>\n",
       "      <td>0.0</td>\n",
       "      <td>909.000000</td>\n",
       "      <td>909.000000</td>\n",
       "      <td>909.000000</td>\n",
       "      <td>909.000000</td>\n",
       "      <td>909.000000</td>\n",
       "      <td>909.000000</td>\n",
       "    </tr>\n",
       "    <tr>\n",
       "      <th>mean</th>\n",
       "      <td>648.451045</td>\n",
       "      <td>38.647965</td>\n",
       "      <td>NaN</td>\n",
       "      <td>76117.341474</td>\n",
       "      <td>1.530253</td>\n",
       "      <td>0.710671</td>\n",
       "      <td>0.510451</td>\n",
       "      <td>99180.389373</td>\n",
       "      <td>0.201320</td>\n",
       "    </tr>\n",
       "    <tr>\n",
       "      <th>std</th>\n",
       "      <td>99.079381</td>\n",
       "      <td>9.785438</td>\n",
       "      <td>NaN</td>\n",
       "      <td>63105.690715</td>\n",
       "      <td>0.588452</td>\n",
       "      <td>0.453701</td>\n",
       "      <td>0.500166</td>\n",
       "      <td>56378.063765</td>\n",
       "      <td>0.401207</td>\n",
       "    </tr>\n",
       "    <tr>\n",
       "      <th>min</th>\n",
       "      <td>359.000000</td>\n",
       "      <td>18.000000</td>\n",
       "      <td>NaN</td>\n",
       "      <td>0.000000</td>\n",
       "      <td>1.000000</td>\n",
       "      <td>0.000000</td>\n",
       "      <td>0.000000</td>\n",
       "      <td>106.670000</td>\n",
       "      <td>0.000000</td>\n",
       "    </tr>\n",
       "    <tr>\n",
       "      <th>25%</th>\n",
       "      <td>580.000000</td>\n",
       "      <td>32.000000</td>\n",
       "      <td>NaN</td>\n",
       "      <td>0.000000</td>\n",
       "      <td>1.000000</td>\n",
       "      <td>0.000000</td>\n",
       "      <td>0.000000</td>\n",
       "      <td>49872.330000</td>\n",
       "      <td>0.000000</td>\n",
       "    </tr>\n",
       "    <tr>\n",
       "      <th>50%</th>\n",
       "      <td>647.000000</td>\n",
       "      <td>37.000000</td>\n",
       "      <td>NaN</td>\n",
       "      <td>96674.550000</td>\n",
       "      <td>1.000000</td>\n",
       "      <td>1.000000</td>\n",
       "      <td>1.000000</td>\n",
       "      <td>99444.020000</td>\n",
       "      <td>0.000000</td>\n",
       "    </tr>\n",
       "    <tr>\n",
       "      <th>75%</th>\n",
       "      <td>718.000000</td>\n",
       "      <td>43.000000</td>\n",
       "      <td>NaN</td>\n",
       "      <td>128554.980000</td>\n",
       "      <td>2.000000</td>\n",
       "      <td>1.000000</td>\n",
       "      <td>1.000000</td>\n",
       "      <td>145759.700000</td>\n",
       "      <td>0.000000</td>\n",
       "    </tr>\n",
       "    <tr>\n",
       "      <th>max</th>\n",
       "      <td>850.000000</td>\n",
       "      <td>92.000000</td>\n",
       "      <td>NaN</td>\n",
       "      <td>206663.750000</td>\n",
       "      <td>4.000000</td>\n",
       "      <td>1.000000</td>\n",
       "      <td>1.000000</td>\n",
       "      <td>199390.450000</td>\n",
       "      <td>1.000000</td>\n",
       "    </tr>\n",
       "  </tbody>\n",
       "</table>\n",
       "</div>"
      ],
      "text/plain": [
       "       CreditScore         Age  Tenure        Balance  NumOfProducts  \\\n",
       "count   909.000000  909.000000     0.0     909.000000     909.000000   \n",
       "mean    648.451045   38.647965     NaN   76117.341474       1.530253   \n",
       "std      99.079381    9.785438     NaN   63105.690715       0.588452   \n",
       "min     359.000000   18.000000     NaN       0.000000       1.000000   \n",
       "25%     580.000000   32.000000     NaN       0.000000       1.000000   \n",
       "50%     647.000000   37.000000     NaN   96674.550000       1.000000   \n",
       "75%     718.000000   43.000000     NaN  128554.980000       2.000000   \n",
       "max     850.000000   92.000000     NaN  206663.750000       4.000000   \n",
       "\n",
       "        HasCrCard  IsActiveMember  EstimatedSalary      Exited  \n",
       "count  909.000000      909.000000       909.000000  909.000000  \n",
       "mean     0.710671        0.510451     99180.389373    0.201320  \n",
       "std      0.453701        0.500166     56378.063765    0.401207  \n",
       "min      0.000000        0.000000       106.670000    0.000000  \n",
       "25%      0.000000        0.000000     49872.330000    0.000000  \n",
       "50%      1.000000        1.000000     99444.020000    0.000000  \n",
       "75%      1.000000        1.000000    145759.700000    0.000000  \n",
       "max      1.000000        1.000000    199390.450000    1.000000  "
      ]
     },
     "execution_count": 115,
     "metadata": {},
     "output_type": "execute_result"
    }
   ],
   "source": [
    "# Looking at the data of customers with null tenure feature, to find whether this phenomenon is related with some other features' values  \n",
    "churn_data[churn_data['Tenure'].isna()].describe()"
   ]
  },
  {
   "cell_type": "code",
   "execution_count": 116,
   "metadata": {},
   "outputs": [
    {
     "name": "stdout",
     "output_type": "stream",
     "text": [
      "<class 'pandas.core.frame.DataFrame'>\n",
      "RangeIndex: 10000 entries, 0 to 9999\n",
      "Data columns (total 11 columns):\n",
      " #   Column           Non-Null Count  Dtype  \n",
      "---  ------           --------------  -----  \n",
      " 0   CreditScore      10000 non-null  int64  \n",
      " 1   Geography        10000 non-null  object \n",
      " 2   Gender           10000 non-null  object \n",
      " 3   Age              10000 non-null  int64  \n",
      " 4   Tenure           10000 non-null  float64\n",
      " 5   Balance          10000 non-null  float64\n",
      " 6   NumOfProducts    10000 non-null  int64  \n",
      " 7   HasCrCard        10000 non-null  int64  \n",
      " 8   IsActiveMember   10000 non-null  int64  \n",
      " 9   EstimatedSalary  10000 non-null  float64\n",
      " 10  Exited           10000 non-null  int64  \n",
      "dtypes: float64(3), int64(6), object(2)\n",
      "memory usage: 859.5+ KB\n"
     ]
    }
   ],
   "source": [
    "# I Didn't find any significant difference in other features for this population. \n",
    "# I will fill the missing values in Tenure with it's median\n",
    "\n",
    "churn_data['Tenure'].fillna(churn_data['Tenure'].median(), inplace = True)\n",
    "churn_data.info()"
   ]
  },
  {
   "cell_type": "markdown",
   "metadata": {},
   "source": [
    "<div class=\"alert alert-success\">\n",
    "<b>Reviewer's comment</b>\n",
    "\t  \n",
    "Missing values were dealt with reasonably!\n",
    "\t  \n",
    "</div>"
   ]
  },
  {
   "cell_type": "markdown",
   "metadata": {},
   "source": [
    "#### Encode categorical features"
   ]
  },
  {
   "cell_type": "code",
   "execution_count": 117,
   "metadata": {},
   "outputs": [
    {
     "data": {
      "text/plain": [
       "France     5014\n",
       "Germany    2509\n",
       "Spain      2477\n",
       "Name: Geography, dtype: int64"
      ]
     },
     "execution_count": 117,
     "metadata": {},
     "output_type": "execute_result"
    }
   ],
   "source": [
    "#How many different values we have in Geography?\n",
    "churn_data['Geography'].value_counts()"
   ]
  },
  {
   "cell_type": "code",
   "execution_count": 118,
   "metadata": {},
   "outputs": [
    {
     "data": {
      "text/plain": [
       "Male      5457\n",
       "Female    4543\n",
       "Name: Gender, dtype: int64"
      ]
     },
     "execution_count": 118,
     "metadata": {},
     "output_type": "execute_result"
    }
   ],
   "source": [
    "#How many different values we have in Gender?\n",
    "churn_data['Gender'].value_counts()"
   ]
  },
  {
   "cell_type": "code",
   "execution_count": 119,
   "metadata": {},
   "outputs": [],
   "source": [
    "# I decided to use label encoding, after tring OHE. since OHE method is not good for tree models and I needed tree ensemble model for better results\n",
    "#encoder = OrdinalEncoder()\n",
    "#data_ordinal = pd.DataFrame(encoder.fit_transform(churn_data), columns=churn_data.columns)"
   ]
  },
  {
   "cell_type": "markdown",
   "metadata": {},
   "source": [
    "<div class=\"alert alert-danger\">\n",
    "<s><b>Reviewer's comment</b>\n",
    "\t  \n",
    "Okay, that's a valid way of encoding categorical features. Although, considering there is a very small number of classes in each categorical feature, OHE wouldn't be so bad either (but you noted this yourself in the cell below, so I don't really understand why you gave up on OHE :D). There is a problem though that you are encoding all columns, rather than just categorical (this might also be one of the reasons why the final model's score dropped so much on the test set)\n",
    "\t  \n",
    "</div>"
   ]
  },
  {
   "cell_type": "markdown",
   "metadata": {},
   "source": [
    "<div class=\"alert alert-info\">\n",
    "  Ok, I went back to OHE. The reason I gave up on it in the first place, is this recommendation in the platform: \"To sum everything up, encoding a categorical variable with OHE will typically result in the best performance unless:\n",
    "1. It is used in a tree-based algorithm (some machine learning platforms support unencoded categorical variables for trees, but if not, Label Encoding may result in better performance in some cases)\".\n",
    "</div>"
   ]
  },
  {
   "cell_type": "markdown",
   "metadata": {},
   "source": [
    "<div class=\"alert alert-success\">\n",
    "<b>Reviewer's comment V2</b>\n",
    "\t  \n",
    "Yeah, sure, although if we have 2 categorical features, each with less than 3 unique values we won't notice the difference :)\n",
    "\t  \n",
    "</div>"
   ]
  },
  {
   "cell_type": "code",
   "execution_count": 120,
   "metadata": {},
   "outputs": [
    {
     "data": {
      "text/html": [
       "<div>\n",
       "<style scoped>\n",
       "    .dataframe tbody tr th:only-of-type {\n",
       "        vertical-align: middle;\n",
       "    }\n",
       "\n",
       "    .dataframe tbody tr th {\n",
       "        vertical-align: top;\n",
       "    }\n",
       "\n",
       "    .dataframe thead th {\n",
       "        text-align: right;\n",
       "    }\n",
       "</style>\n",
       "<table border=\"1\" class=\"dataframe\">\n",
       "  <thead>\n",
       "    <tr style=\"text-align: right;\">\n",
       "      <th></th>\n",
       "      <th>Geography_Germany</th>\n",
       "      <th>Geography_Spain</th>\n",
       "      <th>Gender_Male</th>\n",
       "    </tr>\n",
       "  </thead>\n",
       "  <tbody>\n",
       "    <tr>\n",
       "      <th>0</th>\n",
       "      <td>0</td>\n",
       "      <td>0</td>\n",
       "      <td>0</td>\n",
       "    </tr>\n",
       "    <tr>\n",
       "      <th>1</th>\n",
       "      <td>0</td>\n",
       "      <td>1</td>\n",
       "      <td>0</td>\n",
       "    </tr>\n",
       "    <tr>\n",
       "      <th>2</th>\n",
       "      <td>0</td>\n",
       "      <td>0</td>\n",
       "      <td>0</td>\n",
       "    </tr>\n",
       "    <tr>\n",
       "      <th>3</th>\n",
       "      <td>0</td>\n",
       "      <td>0</td>\n",
       "      <td>0</td>\n",
       "    </tr>\n",
       "    <tr>\n",
       "      <th>4</th>\n",
       "      <td>0</td>\n",
       "      <td>1</td>\n",
       "      <td>0</td>\n",
       "    </tr>\n",
       "  </tbody>\n",
       "</table>\n",
       "</div>"
      ],
      "text/plain": [
       "   Geography_Germany  Geography_Spain  Gender_Male\n",
       "0                  0                0            0\n",
       "1                  0                1            0\n",
       "2                  0                0            0\n",
       "3                  0                0            0\n",
       "4                  0                1            0"
      ]
     },
     "execution_count": 120,
     "metadata": {},
     "output_type": "execute_result"
    }
   ],
   "source": [
    "# We will use OHE for encoding. both features have low number of values (2 and 3), so there is no danger for dummy feature trap\n",
    "# Non of them is ordinal, so there's no need to worry for loosing the order\n",
    "# We will do OHE before Train/Test split for simplicity\n",
    "\n",
    "ohe_encoding = ['Geography', 'Gender']\n",
    "data_ohe = pd.get_dummies(churn_data[ohe_encoding], drop_first=True)\n",
    "data_ohe.head(5)"
   ]
  },
  {
   "cell_type": "code",
   "execution_count": 121,
   "metadata": {},
   "outputs": [
    {
     "data": {
      "text/html": [
       "<div>\n",
       "<style scoped>\n",
       "    .dataframe tbody tr th:only-of-type {\n",
       "        vertical-align: middle;\n",
       "    }\n",
       "\n",
       "    .dataframe tbody tr th {\n",
       "        vertical-align: top;\n",
       "    }\n",
       "\n",
       "    .dataframe thead th {\n",
       "        text-align: right;\n",
       "    }\n",
       "</style>\n",
       "<table border=\"1\" class=\"dataframe\">\n",
       "  <thead>\n",
       "    <tr style=\"text-align: right;\">\n",
       "      <th></th>\n",
       "      <th>Geography</th>\n",
       "      <th>Gender</th>\n",
       "    </tr>\n",
       "  </thead>\n",
       "  <tbody>\n",
       "    <tr>\n",
       "      <th>0</th>\n",
       "      <td>France</td>\n",
       "      <td>Female</td>\n",
       "    </tr>\n",
       "    <tr>\n",
       "      <th>1</th>\n",
       "      <td>Spain</td>\n",
       "      <td>Female</td>\n",
       "    </tr>\n",
       "    <tr>\n",
       "      <th>2</th>\n",
       "      <td>France</td>\n",
       "      <td>Female</td>\n",
       "    </tr>\n",
       "    <tr>\n",
       "      <th>3</th>\n",
       "      <td>France</td>\n",
       "      <td>Female</td>\n",
       "    </tr>\n",
       "    <tr>\n",
       "      <th>4</th>\n",
       "      <td>Spain</td>\n",
       "      <td>Female</td>\n",
       "    </tr>\n",
       "  </tbody>\n",
       "</table>\n",
       "</div>"
      ],
      "text/plain": [
       "  Geography  Gender\n",
       "0    France  Female\n",
       "1     Spain  Female\n",
       "2    France  Female\n",
       "3    France  Female\n",
       "4     Spain  Female"
      ]
     },
     "execution_count": 121,
     "metadata": {},
     "output_type": "execute_result"
    }
   ],
   "source": [
    "churn_data[ohe_encoding].head()"
   ]
  },
  {
   "cell_type": "code",
   "execution_count": 122,
   "metadata": {},
   "outputs": [],
   "source": [
    "# We join back the OHE columns and drop the original ones\n",
    "churn_data = churn_data.join(data_ohe).drop(ohe_encoding, axis=1)"
   ]
  },
  {
   "cell_type": "code",
   "execution_count": 123,
   "metadata": {},
   "outputs": [
    {
     "data": {
      "text/html": [
       "<div>\n",
       "<style scoped>\n",
       "    .dataframe tbody tr th:only-of-type {\n",
       "        vertical-align: middle;\n",
       "    }\n",
       "\n",
       "    .dataframe tbody tr th {\n",
       "        vertical-align: top;\n",
       "    }\n",
       "\n",
       "    .dataframe thead th {\n",
       "        text-align: right;\n",
       "    }\n",
       "</style>\n",
       "<table border=\"1\" class=\"dataframe\">\n",
       "  <thead>\n",
       "    <tr style=\"text-align: right;\">\n",
       "      <th></th>\n",
       "      <th>CreditScore</th>\n",
       "      <th>Age</th>\n",
       "      <th>Tenure</th>\n",
       "      <th>Balance</th>\n",
       "      <th>NumOfProducts</th>\n",
       "      <th>HasCrCard</th>\n",
       "      <th>IsActiveMember</th>\n",
       "      <th>EstimatedSalary</th>\n",
       "      <th>Exited</th>\n",
       "      <th>Geography_Germany</th>\n",
       "      <th>Geography_Spain</th>\n",
       "      <th>Gender_Male</th>\n",
       "    </tr>\n",
       "  </thead>\n",
       "  <tbody>\n",
       "    <tr>\n",
       "      <th>0</th>\n",
       "      <td>619</td>\n",
       "      <td>42</td>\n",
       "      <td>2.0</td>\n",
       "      <td>0.00</td>\n",
       "      <td>1</td>\n",
       "      <td>1</td>\n",
       "      <td>1</td>\n",
       "      <td>101348.88</td>\n",
       "      <td>1</td>\n",
       "      <td>0</td>\n",
       "      <td>0</td>\n",
       "      <td>0</td>\n",
       "    </tr>\n",
       "    <tr>\n",
       "      <th>1</th>\n",
       "      <td>608</td>\n",
       "      <td>41</td>\n",
       "      <td>1.0</td>\n",
       "      <td>83807.86</td>\n",
       "      <td>1</td>\n",
       "      <td>0</td>\n",
       "      <td>1</td>\n",
       "      <td>112542.58</td>\n",
       "      <td>0</td>\n",
       "      <td>0</td>\n",
       "      <td>1</td>\n",
       "      <td>0</td>\n",
       "    </tr>\n",
       "    <tr>\n",
       "      <th>2</th>\n",
       "      <td>502</td>\n",
       "      <td>42</td>\n",
       "      <td>8.0</td>\n",
       "      <td>159660.80</td>\n",
       "      <td>3</td>\n",
       "      <td>1</td>\n",
       "      <td>0</td>\n",
       "      <td>113931.57</td>\n",
       "      <td>1</td>\n",
       "      <td>0</td>\n",
       "      <td>0</td>\n",
       "      <td>0</td>\n",
       "    </tr>\n",
       "    <tr>\n",
       "      <th>3</th>\n",
       "      <td>699</td>\n",
       "      <td>39</td>\n",
       "      <td>1.0</td>\n",
       "      <td>0.00</td>\n",
       "      <td>2</td>\n",
       "      <td>0</td>\n",
       "      <td>0</td>\n",
       "      <td>93826.63</td>\n",
       "      <td>0</td>\n",
       "      <td>0</td>\n",
       "      <td>0</td>\n",
       "      <td>0</td>\n",
       "    </tr>\n",
       "    <tr>\n",
       "      <th>4</th>\n",
       "      <td>850</td>\n",
       "      <td>43</td>\n",
       "      <td>2.0</td>\n",
       "      <td>125510.82</td>\n",
       "      <td>1</td>\n",
       "      <td>1</td>\n",
       "      <td>1</td>\n",
       "      <td>79084.10</td>\n",
       "      <td>0</td>\n",
       "      <td>0</td>\n",
       "      <td>1</td>\n",
       "      <td>0</td>\n",
       "    </tr>\n",
       "  </tbody>\n",
       "</table>\n",
       "</div>"
      ],
      "text/plain": [
       "   CreditScore  Age  Tenure    Balance  NumOfProducts  HasCrCard  \\\n",
       "0          619   42     2.0       0.00              1          1   \n",
       "1          608   41     1.0   83807.86              1          0   \n",
       "2          502   42     8.0  159660.80              3          1   \n",
       "3          699   39     1.0       0.00              2          0   \n",
       "4          850   43     2.0  125510.82              1          1   \n",
       "\n",
       "   IsActiveMember  EstimatedSalary  Exited  Geography_Germany  \\\n",
       "0               1        101348.88       1                  0   \n",
       "1               1        112542.58       0                  0   \n",
       "2               0        113931.57       1                  0   \n",
       "3               0         93826.63       0                  0   \n",
       "4               1         79084.10       0                  0   \n",
       "\n",
       "   Geography_Spain  Gender_Male  \n",
       "0                0            0  \n",
       "1                1            0  \n",
       "2                0            0  \n",
       "3                0            0  \n",
       "4                1            0  "
      ]
     },
     "execution_count": 123,
     "metadata": {},
     "output_type": "execute_result"
    }
   ],
   "source": [
    "churn_data.head()"
   ]
  },
  {
   "cell_type": "code",
   "execution_count": 124,
   "metadata": {},
   "outputs": [
    {
     "data": {
      "text/plain": [
       "Geography_Spain      2477\n",
       "Geography_Germany    2509\n",
       "dtype: int64"
      ]
     },
     "execution_count": 124,
     "metadata": {},
     "output_type": "execute_result"
    }
   ],
   "source": [
    "# Validating the encoding\n",
    "churn_data[{'Geography_Germany','Geography_Spain'}].sum()"
   ]
  },
  {
   "cell_type": "code",
   "execution_count": 125,
   "metadata": {},
   "outputs": [
    {
     "data": {
      "text/plain": [
       "1    5457\n",
       "0    4543\n",
       "Name: Gender_Male, dtype: int64"
      ]
     },
     "execution_count": 125,
     "metadata": {},
     "output_type": "execute_result"
    }
   ],
   "source": [
    "churn_data['Gender_Male'].value_counts()"
   ]
  },
  {
   "cell_type": "markdown",
   "metadata": {},
   "source": [
    "### Split the source data into a training set, validation set, and a test set"
   ]
  },
  {
   "cell_type": "code",
   "execution_count": 126,
   "metadata": {},
   "outputs": [],
   "source": [
    "#First, we'll split the data into validation set and the rest (20%/80%)\n",
    "df_rest, df_valid = train_test_split(churn_data, test_size=0.20, random_state=12345, stratify=churn_data['Exited'])\n",
    "\n",
    "# Then, we'll split the rest data to train set and test set (25%/75%)\n",
    "df_train, df_test = train_test_split(df_rest, test_size=0.25, random_state=12345, stratify=df_rest['Exited'])"
   ]
  },
  {
   "cell_type": "code",
   "execution_count": 127,
   "metadata": {},
   "outputs": [
    {
     "name": "stdout",
     "output_type": "stream",
     "text": [
      "(6000, 12)\n",
      "(2000, 12)\n",
      "(2000, 12)\n"
     ]
    }
   ],
   "source": [
    "print(df_train.shape)\n",
    "print(df_valid.shape)\n",
    "print(df_test.shape)"
   ]
  },
  {
   "cell_type": "code",
   "execution_count": 128,
   "metadata": {},
   "outputs": [],
   "source": [
    "# declare variables for features and target feature; remove features unnecessary for the prediction\n",
    "target = ['Exited']\n",
    "\n",
    "features_train = df_train.drop(target, axis=1)\n",
    "target_train = df_train['Exited']\n",
    "features_valid = df_valid.drop(target, axis=1)\n",
    "target_valid = df_valid['Exited']\n",
    "features_test = df_test.drop(target, axis=1)\n",
    "target_test = df_test['Exited']"
   ]
  },
  {
   "cell_type": "code",
   "execution_count": 129,
   "metadata": {},
   "outputs": [
    {
     "data": {
      "text/plain": [
       "0    0.796167\n",
       "1    0.203833\n",
       "Name: Exited, dtype: float64"
      ]
     },
     "execution_count": 129,
     "metadata": {},
     "output_type": "execute_result"
    }
   ],
   "source": [
    "# Checking the proportions\n",
    "target_train.value_counts()/target_train.count()"
   ]
  },
  {
   "cell_type": "code",
   "execution_count": 130,
   "metadata": {},
   "outputs": [
    {
     "data": {
      "text/plain": [
       "0    0.7965\n",
       "1    0.2035\n",
       "Name: Exited, dtype: float64"
      ]
     },
     "execution_count": 130,
     "metadata": {},
     "output_type": "execute_result"
    }
   ],
   "source": [
    "target_valid.value_counts()/target_valid.count()"
   ]
  },
  {
   "cell_type": "markdown",
   "metadata": {},
   "source": [
    "<div class=\"alert alert-warning\">\n",
    "<b>Reviewer's comment</b>\n",
    "\t  \n",
    "The data was split into train, validation and test sets. The proportions are reasonable. Considering class imbalance, I would suggest using a stratified split to make sure that the distribution of classes is the same in these subsets as in the original dataset.\n",
    "\t  \n",
    "</div>"
   ]
  },
  {
   "cell_type": "markdown",
   "metadata": {},
   "source": [
    "<div class=\"alert alert-info\">\n",
    "  I added stratified split as you have suggested\n",
    "</div>"
   ]
  },
  {
   "cell_type": "markdown",
   "metadata": {},
   "source": [
    "<div class=\"alert alert-success\">\n",
    "<b>Reviewer's comment V2</b>\n",
    "\t  \n",
    "Great!\n",
    "\t  \n",
    "</div>"
   ]
  },
  {
   "cell_type": "markdown",
   "metadata": {},
   "source": [
    "### Standardize the numerical features"
   ]
  },
  {
   "cell_type": "code",
   "execution_count": 131,
   "metadata": {},
   "outputs": [],
   "source": [
    "# we'll use Scaling for numeric columns\n",
    "scaling = ['CreditScore', 'Age', 'Tenure', 'Balance', 'NumOfProducts', 'EstimatedSalary']"
   ]
  },
  {
   "cell_type": "code",
   "execution_count": 132,
   "metadata": {},
   "outputs": [],
   "source": [
    "# We will use Standard scaler: (Old value - Mean value) / Standard deviation\n",
    "scaler = StandardScaler()\n",
    "\n",
    "# We fit the scaler on TRAINING dataset in order to prevent data leakage\n",
    "scaler.fit(features_train[scaling])\n",
    "\n",
    "# We apply fitted scaler to both train and valid datasets\n",
    "features_train[scaling] = scaler.transform(features_train[scaling])\n",
    "features_valid[scaling] = scaler.transform(features_valid[scaling])\n",
    "\n",
    "# Added scaling of the test datasets\n",
    "features_test[scaling] = scaler.transform(features_test[scaling])"
   ]
  },
  {
   "cell_type": "code",
   "execution_count": 133,
   "metadata": {},
   "outputs": [
    {
     "data": {
      "text/html": [
       "<div>\n",
       "<style scoped>\n",
       "    .dataframe tbody tr th:only-of-type {\n",
       "        vertical-align: middle;\n",
       "    }\n",
       "\n",
       "    .dataframe tbody tr th {\n",
       "        vertical-align: top;\n",
       "    }\n",
       "\n",
       "    .dataframe thead th {\n",
       "        text-align: right;\n",
       "    }\n",
       "</style>\n",
       "<table border=\"1\" class=\"dataframe\">\n",
       "  <thead>\n",
       "    <tr style=\"text-align: right;\">\n",
       "      <th></th>\n",
       "      <th>CreditScore</th>\n",
       "      <th>Age</th>\n",
       "      <th>Tenure</th>\n",
       "      <th>Balance</th>\n",
       "      <th>NumOfProducts</th>\n",
       "      <th>HasCrCard</th>\n",
       "      <th>IsActiveMember</th>\n",
       "      <th>EstimatedSalary</th>\n",
       "      <th>Geography_Germany</th>\n",
       "      <th>Geography_Spain</th>\n",
       "      <th>Gender_Male</th>\n",
       "    </tr>\n",
       "  </thead>\n",
       "  <tbody>\n",
       "    <tr>\n",
       "      <th>5536</th>\n",
       "      <td>-0.143332</td>\n",
       "      <td>0.577533</td>\n",
       "      <td>-0.001274</td>\n",
       "      <td>-1.220573</td>\n",
       "      <td>0.797767</td>\n",
       "      <td>1</td>\n",
       "      <td>1</td>\n",
       "      <td>1.029613</td>\n",
       "      <td>0</td>\n",
       "      <td>1</td>\n",
       "      <td>1</td>\n",
       "    </tr>\n",
       "    <tr>\n",
       "      <th>8530</th>\n",
       "      <td>1.632702</td>\n",
       "      <td>-0.564119</td>\n",
       "      <td>-1.092954</td>\n",
       "      <td>0.435807</td>\n",
       "      <td>-0.916018</td>\n",
       "      <td>1</td>\n",
       "      <td>0</td>\n",
       "      <td>0.237986</td>\n",
       "      <td>0</td>\n",
       "      <td>0</td>\n",
       "      <td>0</td>\n",
       "    </tr>\n",
       "    <tr>\n",
       "      <th>1762</th>\n",
       "      <td>1.116413</td>\n",
       "      <td>-0.468981</td>\n",
       "      <td>-1.456847</td>\n",
       "      <td>1.245822</td>\n",
       "      <td>-0.916018</td>\n",
       "      <td>1</td>\n",
       "      <td>1</td>\n",
       "      <td>-0.686104</td>\n",
       "      <td>0</td>\n",
       "      <td>0</td>\n",
       "      <td>0</td>\n",
       "    </tr>\n",
       "  </tbody>\n",
       "</table>\n",
       "</div>"
      ],
      "text/plain": [
       "      CreditScore       Age    Tenure   Balance  NumOfProducts  HasCrCard  \\\n",
       "5536    -0.143332  0.577533 -0.001274 -1.220573       0.797767          1   \n",
       "8530     1.632702 -0.564119 -1.092954  0.435807      -0.916018          1   \n",
       "1762     1.116413 -0.468981 -1.456847  1.245822      -0.916018          1   \n",
       "\n",
       "      IsActiveMember  EstimatedSalary  Geography_Germany  Geography_Spain  \\\n",
       "5536               1         1.029613                  0                1   \n",
       "8530               0         0.237986                  0                0   \n",
       "1762               1        -0.686104                  0                0   \n",
       "\n",
       "      Gender_Male  \n",
       "5536            1  \n",
       "8530            0  \n",
       "1762            0  "
      ]
     },
     "execution_count": 133,
     "metadata": {},
     "output_type": "execute_result"
    }
   ],
   "source": [
    "features_train.head(3)"
   ]
  },
  {
   "cell_type": "markdown",
   "metadata": {},
   "source": [
    "<div class=\"alert alert-warning\">\n",
    "<b>Reviewer's comment</b>\n",
    "\t  \n",
    "Scaling was applied correctly (although this only works in case you don't use cross-validation, for cross-validation the proper way is using [pipelines](https://scikit-learn.org/stable/modules/generated/sklearn.pipeline.Pipeline.html), or better yet imblearn's [pipelines](https://imbalanced-learn.org/stable/references/generated/imblearn.pipeline.Pipeline.html) which can also work correctly with upsampling/downsampling).\n",
    "\t  \n",
    "</div>"
   ]
  },
  {
   "cell_type": "markdown",
   "metadata": {},
   "source": [
    "<div class=\"alert alert-info\">\n",
    "  I will not use cross validation, since it's not required\n",
    "</div>"
   ]
  },
  {
   "cell_type": "markdown",
   "metadata": {},
   "source": [
    "<div class=\"alert alert-success\">\n",
    "<b>Reviewer's comment V2</b>\n",
    "\t  \n",
    "Ok!\n",
    "\t  \n",
    "</div>"
   ]
  },
  {
   "cell_type": "markdown",
   "metadata": {},
   "source": [
    "### Explain the procedure"
   ]
  },
  {
   "cell_type": "markdown",
   "metadata": {},
   "source": [
    "First, we explored the data, seeking to understand the nature of the columns - features.\n",
    "- Looked for null values, categorical features, the distribution of the target\n",
    "- Data preprocessing:\n",
    " - Filled the missing values of 'Tenure' with the feature's median.\n",
    " - Encoded categorical features 'Geography' and 'gender'. I used One Hot Encoding \n",
    " - Splitted the data to train, validity and test sets (60-20-20)\n",
    " - Scaling the numerical features, using standard scaler, is about standardizing the data around the same mean (0), trying to eliminate the influence of features' relative value and distribution on the model. -- will be done as part of cross-validation test "
   ]
  },
  {
   "cell_type": "markdown",
   "metadata": {},
   "source": [
    "<div class=\"alert alert-success\">\n",
    "<b>Reviewer's comment</b>\n",
    "\t  \n",
    "Good!\n",
    "\t  \n",
    "</div>"
   ]
  },
  {
   "cell_type": "markdown",
   "metadata": {},
   "source": [
    "<a id=\"step2\"></a>\n",
    "## Step 2. Model training & validation\n",
    "\n",
    "[back to table of contents](#contents)"
   ]
  },
  {
   "cell_type": "markdown",
   "metadata": {},
   "source": [
    "### Examine the balance of classes. "
   ]
  },
  {
   "cell_type": "code",
   "execution_count": 134,
   "metadata": {},
   "outputs": [
    {
     "data": {
      "text/html": [
       "<div>\n",
       "<style scoped>\n",
       "    .dataframe tbody tr th:only-of-type {\n",
       "        vertical-align: middle;\n",
       "    }\n",
       "\n",
       "    .dataframe tbody tr th {\n",
       "        vertical-align: top;\n",
       "    }\n",
       "\n",
       "    .dataframe thead th {\n",
       "        text-align: right;\n",
       "    }\n",
       "</style>\n",
       "<table border=\"1\" class=\"dataframe\">\n",
       "  <thead>\n",
       "    <tr style=\"text-align: right;\">\n",
       "      <th></th>\n",
       "      <th>Exited</th>\n",
       "      <th>CreditScore</th>\n",
       "      <th>share</th>\n",
       "    </tr>\n",
       "  </thead>\n",
       "  <tbody>\n",
       "    <tr>\n",
       "      <th>0</th>\n",
       "      <td>0</td>\n",
       "      <td>7963</td>\n",
       "      <td>0.8</td>\n",
       "    </tr>\n",
       "    <tr>\n",
       "      <th>1</th>\n",
       "      <td>1</td>\n",
       "      <td>2037</td>\n",
       "      <td>0.2</td>\n",
       "    </tr>\n",
       "  </tbody>\n",
       "</table>\n",
       "</div>"
      ],
      "text/plain": [
       "   Exited  CreditScore  share\n",
       "0       0         7963    0.8\n",
       "1       1         2037    0.2"
      ]
     },
     "execution_count": 134,
     "metadata": {},
     "output_type": "execute_result"
    }
   ],
   "source": [
    "# How the target variable is distributed?\n",
    "\n",
    "churn_share = churn_data.groupby(['Exited'])['CreditScore'].count().reset_index()\n",
    "churn_share['share'] = (churn_share['CreditScore']/churn_share['CreditScore'].sum()).round(decimals=2)\n",
    "churn_share"
   ]
  },
  {
   "cell_type": "code",
   "execution_count": 135,
   "metadata": {},
   "outputs": [
    {
     "data": {
      "image/png": "[encoded data removed]",
      "text/plain": [
       "<Figure size 432x288 with 1 Axes>"
      ]
     },
     "metadata": {
      "needs_background": "light"
     },
     "output_type": "display_data"
    }
   ],
   "source": [
    "churn_share.share.plot.bar();"
   ]
  },
  {
   "cell_type": "markdown",
   "metadata": {},
   "source": [
    "#### Summary\n",
    "The data is not balanced - the exited=1 observations consist only 20% of the data, while the rest 80% are exited=0\n",
    "We will have to take care of it later"
   ]
  },
  {
   "cell_type": "markdown",
   "metadata": {},
   "source": [
    "<div class=\"alert alert-success\">\n",
    "<b>Reviewer's comment</b>\n",
    "\t  \n",
    "Yep!\n",
    "\t  \n",
    "</div>"
   ]
  },
  {
   "cell_type": "markdown",
   "metadata": {},
   "source": [
    "### Calculating a baseline model accuracy"
   ]
  },
  {
   "cell_type": "code",
   "execution_count": 136,
   "metadata": {},
   "outputs": [],
   "source": [
    "# Since we are dealing with classification task, the best constant model is the model which predict the label of the most \n",
    "# frequent class, which is in our case 0\n",
    "\n",
    "predictions = np.zeros(len(target_valid))"
   ]
  },
  {
   "cell_type": "code",
   "execution_count": 137,
   "metadata": {},
   "outputs": [
    {
     "name": "stdout",
     "output_type": "stream",
     "text": [
      "Baseline accuracy: 0.7965\n"
     ]
    }
   ],
   "source": [
    "# As can be expected, the accuracy score of the baseline model is almost 0.80 - the share of Exited=0\n",
    "accuracy = accuracy_score(target_valid, predictions)\n",
    "print(\"Baseline accuracy:\", accuracy)"
   ]
  },
  {
   "cell_type": "code",
   "execution_count": 138,
   "metadata": {},
   "outputs": [
    {
     "name": "stdout",
     "output_type": "stream",
     "text": [
      "Baseline F1: 0.0\n"
     ]
    }
   ],
   "source": [
    "\n",
    "f1 = f1_score(target_valid, predictions)\n",
    "print(\"Baseline F1:\", f1)"
   ]
  },
  {
   "cell_type": "code",
   "execution_count": 139,
   "metadata": {},
   "outputs": [
    {
     "name": "stdout",
     "output_type": "stream",
     "text": [
      "Baseline roc_auc: 0.5\n"
     ]
    }
   ],
   "source": [
    "roc_auc = roc_auc_score(target_valid, predictions)\n",
    "print(\"Baseline roc_auc:\", roc_auc)"
   ]
  },
  {
   "cell_type": "markdown",
   "metadata": {},
   "source": [
    "### Train the model without taking into account the imbalance. "
   ]
  },
  {
   "cell_type": "code",
   "execution_count": 140,
   "metadata": {},
   "outputs": [
    {
     "name": "stdout",
     "output_type": "stream",
     "text": [
      "F1: 0.2991\n",
      "roc_auc: 0.7749\n"
     ]
    }
   ],
   "source": [
    "# Logistic Regression\n",
    "\n",
    "model = LogisticRegression(random_state=12345, solver='liblinear')\n",
    "\n",
    "model.fit(features_train, target_train) \n",
    "predicted_valid = model.predict(features_valid)\n",
    "\n",
    "# Calculating F1 score\n",
    "print('F1:', f1_score(target_valid, predicted_valid).round(decimals=4))\n",
    "# roc_auc\n",
    "probabilities_valid = model.predict_proba(features_valid)\n",
    "probabilities_one_valid = probabilities_valid[:, 1]\n",
    "print('roc_auc:', roc_auc_score(target_valid, probabilities_one_valid).round(decimals=4))"
   ]
  },
  {
   "cell_type": "code",
   "execution_count": 141,
   "metadata": {},
   "outputs": [
    {
     "name": "stdout",
     "output_type": "stream",
     "text": [
      "F1: 0.5723\n",
      "roc_auc: 0.861\n"
     ]
    }
   ],
   "source": [
    "# Random Forest\n",
    "\n",
    "rf_model = RandomForestClassifier(random_state=12345)\n",
    "\n",
    "rf_model.fit(features_train, target_train) \n",
    "predicted_valid = rf_model.predict(features_valid)\n",
    "\n",
    "# Calculating F1 score\n",
    "print('F1:', f1_score(target_valid, predicted_valid).round(decimals=4))\n",
    "# roc_auc\n",
    "probabilities_valid = rf_model.predict_proba(features_valid)\n",
    "probabilities_one_valid = probabilities_valid[:, 1]\n",
    "print('roc_auc:', roc_auc_score(target_valid, probabilities_one_valid).round(decimals=4))"
   ]
  },
  {
   "cell_type": "markdown",
   "metadata": {},
   "source": [
    "#### Calculating confusion matrix for Random forest model:"
   ]
  },
  {
   "cell_type": "code",
   "execution_count": 142,
   "metadata": {},
   "outputs": [
    {
     "name": "stdout",
     "output_type": "stream",
     "text": [
      "[[1536   57]\n",
      " [ 221  186]]\n"
     ]
    }
   ],
   "source": [
    "print(confusion_matrix(target_valid, predicted_valid))"
   ]
  },
  {
   "cell_type": "code",
   "execution_count": 143,
   "metadata": {},
   "outputs": [
    {
     "name": "stdout",
     "output_type": "stream",
     "text": [
      "[[0.768  0.0285]\n",
      " [0.1105 0.093 ]]\n"
     ]
    }
   ],
   "source": [
    "print(confusion_matrix(target_valid, predicted_valid)/2000)"
   ]
  },
  {
   "cell_type": "markdown",
   "metadata": {},
   "source": [
    "TP = 0.093,  \n",
    "TN = 0.768,  \n",
    "FP = 0.0285,  \n",
    "FN = 0.1105 "
   ]
  },
  {
   "cell_type": "code",
   "execution_count": 144,
   "metadata": {},
   "outputs": [
    {
     "name": "stdout",
     "output_type": "stream",
     "text": [
      "Recall: 0.457\n"
     ]
    }
   ],
   "source": [
    "print('Recall:', recall_score(target_valid, predicted_valid).round(decimals=4))"
   ]
  },
  {
   "cell_type": "code",
   "execution_count": 145,
   "metadata": {},
   "outputs": [
    {
     "name": "stdout",
     "output_type": "stream",
     "text": [
      "Precision: 0.7654\n"
     ]
    }
   ],
   "source": [
    "print('Precision:', precision_score(target_valid, predicted_valid).round(decimals=4))"
   ]
  },
  {
   "cell_type": "markdown",
   "metadata": {},
   "source": [
    "### Briefly describe your findings"
   ]
  },
  {
   "cell_type": "markdown",
   "metadata": {},
   "source": [
    "- The data is imbalanced. this fact has influence on the model quality, because it will naturally prefer the more frequent values\n",
    "- F1 score I got for LogisticRegression is quite good - 0.5723\n",
    "- True positive (0.093) and true negative values (0.768) looks ok, taking into account the sample proportions. \n",
    "- Reccall and precision metrics are also fine, but have a place for improvement"
   ]
  },
  {
   "cell_type": "markdown",
   "metadata": {},
   "source": [
    "<div class=\"alert alert-success\">\n",
    "<b>Reviewer's comment</b>\n",
    "\t  \n",
    "Great, you trained a model without taking the class imbalance into account!\n",
    "\t  \n",
    "</div>"
   ]
  },
  {
   "cell_type": "markdown",
   "metadata": {},
   "source": [
    "<div class=\"alert alert-warning\">\n",
    "<b>Reviewer's comment</b>\n",
    "\t  \n",
    "Would be more interesting to include a random forest trained without taking the class imbalance into account (as this is your final model, we could see how it improved then)\n",
    "\t  \n",
    "</div>"
   ]
  },
  {
   "cell_type": "markdown",
   "metadata": {},
   "source": [
    "<div class=\"alert alert-info\">\n",
    "  Added Random forest\n",
    "</div>"
   ]
  },
  {
   "cell_type": "markdown",
   "metadata": {},
   "source": [
    "<div class=\"alert alert-success\">\n",
    "<b>Reviewer's comment V2</b>\n",
    "\t  \n",
    "Awesome!\n",
    "\t  \n",
    "</div>"
   ]
  },
  {
   "cell_type": "markdown",
   "metadata": {},
   "source": [
    "<a id=\"step3\"></a>\n",
    "## Step 3. Improve the quality of the model, taking into account the imbalance of classes.\n",
    "\n",
    "[back to table of contents](#contents)"
   ]
  },
  {
   "cell_type": "markdown",
   "metadata": {},
   "source": [
    "### Class weight adjustment"
   ]
  },
  {
   "cell_type": "markdown",
   "metadata": {},
   "source": [
    "The classes of the target are imbalancd. The ratio is 20% positive/80% negative.\n",
    "\n",
    "We can adjust it using upsampling technique, which basically duplicate the positive observations several times according to the ratio."
   ]
  },
  {
   "cell_type": "markdown",
   "metadata": {},
   "source": [
    "#### Using \"class_weight\" parameter"
   ]
  },
  {
   "cell_type": "code",
   "execution_count": 146,
   "metadata": {},
   "outputs": [
    {
     "name": "stdout",
     "output_type": "stream",
     "text": [
      "F1: 0.5077\n",
      "roc_auc: 0.7813\n"
     ]
    }
   ],
   "source": [
    "# Logistic Regression\n",
    "lr_model = LogisticRegression(random_state=12345, class_weight='balanced', solver='liblinear')\n",
    "\n",
    "lr_model.fit(features_train, target_train) \n",
    "predicted_valid = lr_model.predict(features_valid)\n",
    "\n",
    "print('F1:', f1_score(target_valid, predicted_valid).round(decimals=4))\n",
    "\n",
    "probabilities_valid = lr_model.predict_proba(features_valid)\n",
    "probabilities_one_valid = probabilities_valid[:, 1]\n",
    "print('roc_auc:', roc_auc_score(target_valid, probabilities_one_valid).round(decimals=4))"
   ]
  },
  {
   "cell_type": "markdown",
   "metadata": {},
   "source": [
    "- F1 score increased from 0.2991 to 0.5077! that's 70% increase!\n",
    "- roc_auc increased from 0.7749 to 0.7813."
   ]
  },
  {
   "cell_type": "code",
   "execution_count": 147,
   "metadata": {},
   "outputs": [
    {
     "name": "stdout",
     "output_type": "stream",
     "text": [
      "F1: 0.562\n",
      "roc_auc: 0.8579\n"
     ]
    }
   ],
   "source": [
    "# Random Forest\n",
    "\n",
    "rf_model = RandomForestClassifier(random_state=12345, class_weight='balanced')\n",
    "\n",
    "rf_model.fit(features_train, target_train) \n",
    "predicted_valid = rf_model.predict(features_valid)\n",
    "\n",
    "# Calculating F1 score\n",
    "print('F1:', f1_score(target_valid, predicted_valid).round(decimals=4))\n",
    "\n",
    "probabilities_valid = rf_model.predict_proba(features_valid)\n",
    "probabilities_one_valid = probabilities_valid[:, 1]\n",
    "print('roc_auc:', roc_auc_score(target_valid, probabilities_one_valid).round(decimals=4))"
   ]
  },
  {
   "cell_type": "markdown",
   "metadata": {},
   "source": [
    "- F1 score decreased from 0.5723 to 0.562 !?\n",
    "- roc_auc decreased from 0.861 to 0.8579 !?"
   ]
  },
  {
   "cell_type": "markdown",
   "metadata": {},
   "source": [
    "#### Using upsampling method"
   ]
  },
  {
   "cell_type": "code",
   "execution_count": 148,
   "metadata": {},
   "outputs": [],
   "source": [
    "# Defining upsampling function which receives features and target sets and the N to repeat\n",
    "\n",
    "def upsample(features, target, repeat):\n",
    "    features_zeros = features[target == 0]\n",
    "    features_ones = features[target == 1]\n",
    "    target_zeros = target[target == 0]\n",
    "    target_ones = target[target == 1]\n",
    "\n",
    "    features_upsampled = pd.concat([features_zeros] + [features_ones] * repeat)\n",
    "    target_upsampled = pd.concat([target_zeros] + [target_ones] * repeat)\n",
    "\n",
    "    features_upsampled, target_upsampled = shuffle(\n",
    "        features_upsampled, target_upsampled, random_state=12345\n",
    "    )\n",
    "\n",
    "    return features_upsampled, target_upsampled\n",
    "\n",
    "# Calling the function with repeat = 4 (this is the ratio between the target classes)\n",
    "features_upsampled, target_upsampled = upsample(\n",
    "    features_train, target_train, 4\n",
    ")"
   ]
  },
  {
   "cell_type": "markdown",
   "metadata": {},
   "source": [
    "Training the models after upsampling"
   ]
  },
  {
   "cell_type": "code",
   "execution_count": 149,
   "metadata": {},
   "outputs": [
    {
     "name": "stdout",
     "output_type": "stream",
     "text": [
      "F1: 0.5054\n",
      "roc_auc: 0.7813\n"
     ]
    }
   ],
   "source": [
    "# Logistic Regression\n",
    "lr_model = LogisticRegression(random_state=12345, solver='liblinear')\n",
    "\n",
    "lr_model.fit(features_upsampled, target_upsampled) \n",
    "predicted_valid = lr_model.predict(features_valid)\n",
    "\n",
    "print('F1:', f1_score(target_valid, predicted_valid).round(decimals=4))\n",
    "\n",
    "probabilities_valid = lr_model.predict_proba(features_valid)\n",
    "probabilities_one_valid = probabilities_valid[:, 1]\n",
    "print('roc_auc:', roc_auc_score(target_valid, probabilities_one_valid).round(decimals=4))"
   ]
  },
  {
   "cell_type": "markdown",
   "metadata": {},
   "source": [
    "- F1 score increased from 0.2991 to 0.5054! that's 69% increase! just the same as with using class_weight\n",
    "- roc_auc increased from 0.7749 to 0.7813 just the same as with using class_weight"
   ]
  },
  {
   "cell_type": "code",
   "execution_count": 150,
   "metadata": {},
   "outputs": [
    {
     "name": "stdout",
     "output_type": "stream",
     "text": [
      "F1: 0.5881\n",
      "roc_auc: 0.8598\n"
     ]
    }
   ],
   "source": [
    "# Random Forest\n",
    "\n",
    "rf_model = RandomForestClassifier(random_state=12345)\n",
    "\n",
    "rf_model.fit(features_upsampled, target_upsampled) \n",
    "predicted_valid = rf_model.predict(features_valid)\n",
    "\n",
    "# Calculating F1 score\n",
    "print('F1:', f1_score(target_valid, predicted_valid).round(decimals=4))\n",
    "\n",
    "probabilities_valid = rf_model.predict_proba(features_valid)\n",
    "probabilities_one_valid = probabilities_valid[:, 1]\n",
    "print('roc_auc:', roc_auc_score(target_valid, probabilities_one_valid).round(decimals=4))"
   ]
  },
  {
   "cell_type": "markdown",
   "metadata": {
    "tags": []
   },
   "source": [
    "- F1 score increased from 0.5723 to 0.5881. that 3% increaes \n",
    "- roc_auc decreased from 0.861 to 0.8598 "
   ]
  },
  {
   "cell_type": "markdown",
   "metadata": {},
   "source": [
    "<b>Summary:</b> since upsampling function produced better improvement on F1 score, I will continue the model training with the upsampled data"
   ]
  },
  {
   "cell_type": "markdown",
   "metadata": {},
   "source": [
    "<div class=\"alert alert-success\">\n",
    "<b>Reviewer's comment</b>\n",
    "\t  \n",
    "Upsampling function looks good, it was correctly applied only to the train set and the repeat value is reasonable\n",
    "\t  \n",
    "</div>"
   ]
  },
  {
   "cell_type": "markdown",
   "metadata": {},
   "source": [
    "### choosing the best threshold"
   ]
  },
  {
   "cell_type": "code",
   "execution_count": 151,
   "metadata": {},
   "outputs": [
    {
     "data": {
      "text/plain": [
       "array([0.56400455, 0.12976815, 0.14673122, ..., 0.9059213 , 0.76261411,\n",
       "       0.19686683])"
      ]
     },
     "execution_count": 151,
     "metadata": {},
     "output_type": "execute_result"
    }
   ],
   "source": [
    "model = LogisticRegression(random_state=12345, solver='liblinear')\n",
    "model.fit(features_upsampled, target_upsampled)\n",
    "\n",
    "probabilities_valid = model.predict_proba(features_valid)\n",
    "probabilities_one_valid = probabilities_valid[:, 1]\n",
    "probabilities_one_valid"
   ]
  },
  {
   "cell_type": "code",
   "execution_count": 152,
   "metadata": {},
   "outputs": [
    {
     "name": "stdout",
     "output_type": "stream",
     "text": [
      "Threshold = 0.00 |Precision = 0.203, Recall = 1.000, F1 = 0.338\n",
      "Threshold = 0.02 |Precision = 0.203, Recall = 1.000, F1 = 0.338\n",
      "Threshold = 0.04 |Precision = 0.203, Recall = 1.000, F1 = 0.338\n",
      "Threshold = 0.06 |Precision = 0.203, Recall = 0.998, F1 = 0.338\n",
      "Threshold = 0.08 |Precision = 0.204, Recall = 0.998, F1 = 0.339\n",
      "Threshold = 0.10 |Precision = 0.206, Recall = 0.998, F1 = 0.341\n",
      "Threshold = 0.12 |Precision = 0.208, Recall = 0.993, F1 = 0.344\n",
      "Threshold = 0.14 |Precision = 0.211, Recall = 0.993, F1 = 0.348\n",
      "Threshold = 0.16 |Precision = 0.217, Recall = 0.993, F1 = 0.356\n",
      "Threshold = 0.18 |Precision = 0.223, Recall = 0.988, F1 = 0.364\n",
      "Threshold = 0.20 |Precision = 0.228, Recall = 0.978, F1 = 0.370\n",
      "Threshold = 0.22 |Precision = 0.234, Recall = 0.971, F1 = 0.377\n",
      "Threshold = 0.24 |Precision = 0.242, Recall = 0.956, F1 = 0.386\n",
      "Threshold = 0.26 |Precision = 0.253, Recall = 0.953, F1 = 0.400\n",
      "Threshold = 0.28 |Precision = 0.259, Recall = 0.939, F1 = 0.406\n",
      "Threshold = 0.30 |Precision = 0.268, Recall = 0.931, F1 = 0.417\n",
      "Threshold = 0.32 |Precision = 0.277, Recall = 0.919, F1 = 0.426\n",
      "Threshold = 0.34 |Precision = 0.284, Recall = 0.902, F1 = 0.433\n",
      "Threshold = 0.36 |Precision = 0.292, Recall = 0.870, F1 = 0.437\n",
      "Threshold = 0.38 |Precision = 0.303, Recall = 0.857, F1 = 0.447\n",
      "Threshold = 0.40 |Precision = 0.317, Recall = 0.848, F1 = 0.462\n",
      "Threshold = 0.42 |Precision = 0.325, Recall = 0.826, F1 = 0.466\n",
      "Threshold = 0.44 |Precision = 0.337, Recall = 0.811, F1 = 0.476\n",
      "Threshold = 0.46 |Precision = 0.352, Recall = 0.791, F1 = 0.488\n",
      "Threshold = 0.48 |Precision = 0.366, Recall = 0.762, F1 = 0.494\n",
      "Threshold = 0.50 |Precision = 0.383, Recall = 0.742, F1 = 0.505\n",
      "Threshold = 0.52 |Precision = 0.396, Recall = 0.715, F1 = 0.510\n",
      "Threshold = 0.54 |Precision = 0.413, Recall = 0.688, F1 = 0.516\n",
      "Threshold = 0.56 |Precision = 0.427, Recall = 0.656, F1 = 0.517\n",
      "Threshold = 0.58 |Precision = 0.441, Recall = 0.619, F1 = 0.515\n",
      "Threshold = 0.60 |Precision = 0.455, Recall = 0.587, F1 = 0.513\n",
      "Threshold = 0.62 |Precision = 0.483, Recall = 0.555, F1 = 0.517\n",
      "Threshold = 0.64 |Precision = 0.506, Recall = 0.518, F1 = 0.512\n",
      "Threshold = 0.66 |Precision = 0.519, Recall = 0.469, F1 = 0.493\n",
      "Threshold = 0.68 |Precision = 0.515, Recall = 0.428, F1 = 0.467\n"
     ]
    }
   ],
   "source": [
    "for threshold in np.arange(0, 0.7, 0.02):\n",
    "    predicted_valid = probabilities_one_valid > threshold \n",
    "    precision = precision_score(target_valid, predicted_valid)\n",
    "    recall = recall_score(target_valid, predicted_valid)\n",
    "    F1 = f1_score(target_valid, predicted_valid)\n",
    "    print(\n",
    "          'Threshold = {:.2f} |Precision = {:.3f}, Recall = {:.3f}, F1 = {:.3F}'.format(\n",
    "          threshold,  precision, recall, F1\n",
    "        )\n",
    "     )"
   ]
  },
  {
   "cell_type": "markdown",
   "metadata": {},
   "source": [
    "Recall and precision scores are going the opposite ways: as the threshold grows, recall decrease and precision increase. so I added F1 score which combines both of them. F1 score is highest (0.517) at two points:for threshold of 0.56 and 0.62. \n",
    "There is a trade-off between recall and accuracy at these two points. I decide to prefare the recall, not to miss any customer who might want to leave. so I go with 0.56"
   ]
  },
  {
   "cell_type": "code",
   "execution_count": 153,
   "metadata": {},
   "outputs": [
    {
     "name": "stdout",
     "output_type": "stream",
     "text": [
      "[[1235  358]\n",
      " [ 140  267]]\n",
      "[[0.6175 0.179 ]\n",
      " [0.07   0.1335]]\n"
     ]
    }
   ],
   "source": [
    "# Confusion matrix for threshold = 0.56\n",
    "threshold = 0.56\n",
    "\n",
    "predicted_valid = probabilities_one_valid > threshold\n",
    "\n",
    "print(confusion_matrix(target_valid, predicted_valid))\n",
    "\n",
    "# As % from total 2000 inspections\n",
    "print(confusion_matrix(target_valid, predicted_valid)/2000)"
   ]
  },
  {
   "cell_type": "markdown",
   "metadata": {},
   "source": [
    "We can see that true positive rate increased from 0.093 to 0.1175, and true negative rate decrease from 0.768 to 0.7245.\n",
    "\n",
    "This is the result of increasing the threshold. F1 score balance the two metrics."
   ]
  },
  {
   "cell_type": "code",
   "execution_count": 154,
   "metadata": {},
   "outputs": [
    {
     "data": {
      "image/png": "[encoded data removed]",
      "text/plain": [
       "<Figure size 432x432 with 1 Axes>"
      ]
     },
     "metadata": {
      "needs_background": "light"
     },
     "output_type": "display_data"
    }
   ],
   "source": [
    "# Precision-Recall curve\n",
    "\n",
    "precision, recall, thresholds = precision_recall_curve(\n",
    "    target_valid, probabilities_valid[:, 1]\n",
    ")\n",
    "\n",
    "plt.figure(figsize=(6, 6))\n",
    "plt.step(recall, precision, where='post')\n",
    "plt.xlabel('Recall')\n",
    "plt.ylabel('Precision')\n",
    "plt.ylim([0.0, 1.05])\n",
    "plt.xlim([0.0, 1.0])\n",
    "plt.title('Precision-Recall Curve')\n",
    "plt.show() "
   ]
  },
  {
   "cell_type": "markdown",
   "metadata": {},
   "source": [
    "<div class=\"alert alert-success\">\n",
    "<b>Reviewer's comment</b>\n",
    "\t  \n",
    "It's nice that you tuned the threshold value, printed the confusion matrix and a precision-recall curve\n",
    "\t  \n",
    "</div>"
   ]
  },
  {
   "cell_type": "markdown",
   "metadata": {},
   "source": [
    "<div class=\"alert alert-danger\">\n",
    "<s><b>Reviewer's comment</b>\n",
    "\t  \n",
    "There's a small problem that the task requires you to try at least two different methods of dealing with class imbalance, but there is only one tried now: upsampling\n",
    "\t  \n",
    "</div>"
   ]
  },
  {
   "cell_type": "markdown",
   "metadata": {},
   "source": [
    "<div class=\"alert alert-info\">\n",
    "  Added another method. actually, I didn't understant it from the project description. I thought it is related to training some different models...\n",
    "</div>"
   ]
  },
  {
   "cell_type": "markdown",
   "metadata": {},
   "source": [
    "<div class=\"alert alert-success\">\n",
    "<b>Reviewer's comment V2</b>\n",
    "\t  \n",
    "Huh, maybe you're seeing a different description, mine says: `Make sure you use at least two approaches to fixing class imbalance` :)\n",
    "    \n",
    "Anyway, thanks for adding the second approach!\n",
    "\t  \n",
    "</div>"
   ]
  },
  {
   "cell_type": "markdown",
   "metadata": {
    "tags": []
   },
   "source": [
    "### Train different models and find the best one. "
   ]
  },
  {
   "cell_type": "markdown",
   "metadata": {},
   "source": [
    "#### Evaluating estimator performance with Cross-validation"
   ]
  },
  {
   "cell_type": "code",
   "execution_count": 155,
   "metadata": {},
   "outputs": [],
   "source": [
    "# Logistic regression\n",
    "# Runing the model over 5 folds.\n",
    "#k = 5\n",
    "#kf = StratifiedKFold(n_splits=k, random_state=None)\n",
    "#lr = LogisticRegression(random_state=12345, solver= 'liblinear')\n",
    " \n",
    "#result = cross_val_score(lr , features_upsampled, target_upsampled, cv = kf, scoring='roc_auc')\n",
    "#print(result)\n",
    "#print(\"%0.2f mean roc_auc score with a standard deviation of %0.2f\" % (result.mean(), result.std()))"
   ]
  },
  {
   "cell_type": "code",
   "execution_count": 156,
   "metadata": {},
   "outputs": [],
   "source": [
    "# Random Forest Classifier\n",
    "#k = 5\n",
    "#kf = StratifiedKFold(n_splits=k, random_state=None)\n",
    "#rfc = RandomForestClassifier(random_state=12345)\n",
    " \n",
    "#result = cross_val_score(rfc , features_upsampled, target_upsampled, cv = kf, scoring='roc_auc')\n",
    "#print(result)\n",
    "#print(\"%0.2f mean roc_auc score with a standard deviation of %0.2f\" % (result.mean(), result.std()))"
   ]
  },
  {
   "cell_type": "code",
   "execution_count": 157,
   "metadata": {},
   "outputs": [],
   "source": [
    "# Decision tree classifier\n",
    "#k = 5\n",
    "#kf = StratifiedKFold(n_splits=k, random_state=None)\n",
    "#dtc = DecisionTreeClassifier(random_state=12345)\n",
    " \n",
    "#result = cross_val_score(dtc , features_upsampled, target_upsampled, cv = kf, scoring='roc_auc')\n",
    "#print(result)\n",
    "#print(\"%0.2f mean roc_auc score with a standard deviation of %0.2f\" % (result.mean(), result.std()))"
   ]
  },
  {
   "cell_type": "markdown",
   "metadata": {},
   "source": [
    "<div class=\"alert alert-warning\">\n",
    "<b>Reviewer's comment</b>\n",
    "\t  \n",
    "Using an upsampled dataset with cross-validation is not quite correct: the proper way is using something like imblearn's [pipelines](https://imbalanced-learn.org/stable/references/generated/imblearn.pipeline.Pipeline.html), so that the train set in each fold could be upsampled, while the validation set could not. Such a pipeline can then be passed to `cross_val_score`, `GridSearchCV` and similar functions in place of a model.\n",
    "\t  \n",
    "</div>"
   ]
  },
  {
   "cell_type": "markdown",
   "metadata": {},
   "source": [
    "<div class=\"alert alert-info\">\n",
    " I decided not to use cross-validation for evaluating estimator performancethis time. There is no real need for it. Next time when I will use it I'll try your good advise and use pipelines.\n",
    "</div>"
   ]
  },
  {
   "cell_type": "markdown",
   "metadata": {},
   "source": [
    "<div class=\"alert alert-success\">\n",
    "<b>Reviewer's comment V2</b>\n",
    "\t  \n",
    "Sure, no problem!\n",
    "\t  \n",
    "</div>"
   ]
  },
  {
   "cell_type": "markdown",
   "metadata": {},
   "source": [
    "#### Calculating F1 and roc_auc score for Decision Tree and Random Forest classifiers"
   ]
  },
  {
   "cell_type": "code",
   "execution_count": 158,
   "metadata": {},
   "outputs": [
    {
     "name": "stdout",
     "output_type": "stream",
     "text": [
      "F1: 0.5053892215568863\n",
      "roc_auc: 0.6911032758490385\n"
     ]
    }
   ],
   "source": [
    "# Decision tree classifier\n",
    "\n",
    "dtc = DecisionTreeClassifier(random_state=12345)\n",
    "dtc.fit(features_upsampled, target_upsampled)\n",
    "predicted_valid = dtc.predict(features_valid)\n",
    "\n",
    "print('F1:', f1_score(target_valid, predicted_valid))\n",
    "\n",
    "probabilities_valid = dtc.predict_proba(features_valid)\n",
    "probabilities_one_valid = probabilities_valid[:, 1]\n",
    "print('roc_auc:', roc_auc_score(target_valid, probabilities_one_valid))"
   ]
  },
  {
   "cell_type": "code",
   "execution_count": 159,
   "metadata": {},
   "outputs": [
    {
     "name": "stdout",
     "output_type": "stream",
     "text": [
      "F1: 0.5880758807588076\n",
      "roc_auc: 0.8597781140154023\n"
     ]
    }
   ],
   "source": [
    "# Random Forest Classifier\n",
    "\n",
    "rfc = RandomForestClassifier(random_state=12345)\n",
    "rfc.fit(features_upsampled, target_upsampled)\n",
    "predicted_valid = rfc.predict(features_valid)\n",
    "\n",
    "print('F1:', f1_score(target_valid, predicted_valid))\n",
    "\n",
    "probabilities_valid = rfc.predict_proba(features_valid)\n",
    "probabilities_one_valid = probabilities_valid[:, 1]\n",
    "print('roc_auc:', roc_auc_score(target_valid, probabilities_one_valid))"
   ]
  },
  {
   "cell_type": "markdown",
   "metadata": {},
   "source": [
    "Random forest frovides better result in bothe metrics\n",
    "\n",
    "The score itself is much better! but there is still a place for improve"
   ]
  },
  {
   "cell_type": "markdown",
   "metadata": {},
   "source": [
    "#### Optimizing Random Forest model"
   ]
  },
  {
   "cell_type": "code",
   "execution_count": 160,
   "metadata": {},
   "outputs": [],
   "source": [
    "# Let's try to improve the quality of the model by finding the best hyperparameters\n",
    "parameters = {'n_estimators': [50, 100, 150, 200], 'max_depth': [3, 6, 9, 12, 15]}"
   ]
  },
  {
   "cell_type": "code",
   "execution_count": 161,
   "metadata": {},
   "outputs": [
    {
     "name": "stdout",
     "output_type": "stream",
     "text": [
      "RandomForestClassifier(max_depth=15, n_estimators=200, random_state=12345)\n"
     ]
    }
   ],
   "source": [
    "# Using GridSearchCV to find the best hyperparameters values\n",
    "rfc = GridSearchCV(RandomForestClassifier(random_state=12345), parameters,scoring = 'f1')\n",
    "\n",
    "rfc.fit(features_upsampled, target_upsampled)\n",
    "\n",
    "print(rfc.best_estimator_)"
   ]
  },
  {
   "cell_type": "markdown",
   "metadata": {},
   "source": [
    "<div class=\"alert alert-warning\">\n",
    "<b>Reviewer's comment</b>\n",
    "\t  \n",
    "By default `GridSearchCV` will use accuracy for classification models, while we're trying to optimize F1 score, and the hyperparameters maximizing one metric may not be the same as the hyperparameters maximizing the other\n",
    "\t  \n",
    "</div>"
   ]
  },
  {
   "cell_type": "markdown",
   "metadata": {},
   "source": [
    "<div class=\"alert alert-info\">\n",
    " Ok!\n",
    "</div>"
   ]
  },
  {
   "cell_type": "code",
   "execution_count": 162,
   "metadata": {},
   "outputs": [
    {
     "name": "stdout",
     "output_type": "stream",
     "text": [
      "F1: 0.6033810143042914\n",
      "roc_auc: 0.8596223341986053\n"
     ]
    }
   ],
   "source": [
    "predicted_valid = rfc.predict(features_valid)\n",
    "\n",
    "print('F1:', f1_score(target_valid, predicted_valid))\n",
    "\n",
    "probabilities_valid = rfc.predict_proba(features_valid)\n",
    "probabilities_one_valid = probabilities_valid[:, 1]\n",
    "print('roc_auc:', roc_auc_score(target_valid, probabilities_one_valid))"
   ]
  },
  {
   "cell_type": "markdown",
   "metadata": {},
   "source": [
    "That's good!"
   ]
  },
  {
   "cell_type": "markdown",
   "metadata": {},
   "source": [
    "#### ROC curve"
   ]
  },
  {
   "cell_type": "code",
   "execution_count": 163,
   "metadata": {},
   "outputs": [],
   "source": [
    "fpr, tpr, thresholds = roc_curve(target_valid, probabilities_one_valid) "
   ]
  },
  {
   "cell_type": "code",
   "execution_count": 164,
   "metadata": {},
   "outputs": [
    {
     "data": {
      "image/png": "[encoded data removed]",
      "text/plain": [
       "<Figure size 432x288 with 1 Axes>"
      ]
     },
     "metadata": {
      "needs_background": "light"
     },
     "output_type": "display_data"
    }
   ],
   "source": [
    "# Plotting ROC-curve graph\n",
    "plt.figure()\n",
    "plt.plot(fpr, tpr)\n",
    "plt.xlim([0.0, 1.0])\n",
    "plt.ylim([0.0, 1.0])\n",
    "plt.xlabel('False Positive Rate')\n",
    "plt.ylabel('True Positive Rate')\n",
    "plt.title('ROC curve')\n",
    "plt.show() "
   ]
  },
  {
   "cell_type": "markdown",
   "metadata": {},
   "source": [
    "### Briefly describe your findings."
   ]
  },
  {
   "cell_type": "markdown",
   "metadata": {},
   "source": [
    "- I adjusted the imbalanced data, using \"class_weight\" and upsampling techniques. I received slightly better results with upsampling.\n",
    "- After that the model's score improved by 69%!\n",
    "- I found out that for logistic regression, F1 score is highest (0.517) for threshold of 0.56\n",
    "- F1 score for RandomForestClassifier is 0.588, which is very close to the target.\n",
    "- roc_auc score: 0.73, so I decided to choose this model.\n",
    "- Using GreadsearchCV I tried to find the optimal hyperparameters for the Random forest model.\n",
    "- This fine tuned model F1 score is 0.603\n",
    "- roc_auc score is 0.859"
   ]
  },
  {
   "cell_type": "markdown",
   "metadata": {},
   "source": [
    "<div class=\"alert alert-danger\">\n",
    "<s><b>Reviewer's comment</b>\n",
    "\t  \n",
    "Please include calculation of ROC-AUC for all models, so that we could compare how balancing techniques influence the two metrics: F1 score and ROC-AUC\n",
    "\t  \n",
    "</div>"
   ]
  },
  {
   "cell_type": "markdown",
   "metadata": {},
   "source": [
    "<div class=\"alert alert-danger\">\n",
    "<s><b>Reviewer's comment V2</b>\n",
    "\t  \n",
    "It's great that you added ROC-AUC calculation for all models, but there's a small problem that binary predictions (i.e. `predict` instead of `predict_proba`) were used to calculate ROC-AUC for most models. Unfortunately this produces an incorrect value of ROC-AUC. Remember that the ROC curve is constructed by varying the threshold of assigning positive class probability. If we use binary predictions, the curve will have just 3 points: with threshold values 0, 1, and any number in between, so it's a very rough approximation of the true ROC curve.\n",
    "\t  \n",
    "</div>"
   ]
  },
  {
   "cell_type": "markdown",
   "metadata": {},
   "source": [
    "<div class=\"alert alert-success\">\n",
    "<b>Reviewer's comment V3</b>\n",
    "\t  \n",
    "Corrected!\n",
    "\t  \n",
    "</div>"
   ]
  },
  {
   "cell_type": "markdown",
   "metadata": {},
   "source": [
    "<a id=\"step4\"></a>\n",
    "## Step 4. Perform the final testing.\n",
    "\n",
    "[back to table of contents](#contents)"
   ]
  },
  {
   "cell_type": "code",
   "execution_count": 165,
   "metadata": {},
   "outputs": [
    {
     "name": "stdout",
     "output_type": "stream",
     "text": [
      "Final model accuracy: 0.8455\n",
      "RandomForestClassifier F1: 0.5971316818774446\n",
      "Final model roc_auc: 0.8561450510603051\n"
     ]
    }
   ],
   "source": [
    "## Checking the quality of the model using the test set.\n",
    "predicted_test = rfc.predict(features_test)\n",
    "\n",
    "accuracy = accuracy_score(target_test, predicted_test)\n",
    "print(\"Final model accuracy:\", accuracy)\n",
    "\n",
    "f1 = f1_score(target_test, predicted_test)\n",
    "print(\"RandomForestClassifier F1:\", f1)\n",
    "\n",
    "probabilities_valid = rfc.predict_proba(features_test)\n",
    "probabilities_one_valid = probabilities_valid[:, 1]\n",
    "\n",
    "roc_auc = roc_auc_score(target_test, probabilities_one_valid)\n",
    "print(\"Final model roc_auc:\", roc_auc)"
   ]
  },
  {
   "cell_type": "markdown",
   "metadata": {},
   "source": [
    "Yasss! 0.597!"
   ]
  },
  {
   "cell_type": "code",
   "execution_count": 166,
   "metadata": {},
   "outputs": [
    {
     "data": {
      "text/plain": [
       "0    1593\n",
       "1     407\n",
       "Name: Exited, dtype: int64"
      ]
     },
     "execution_count": 166,
     "metadata": {},
     "output_type": "execute_result"
    }
   ],
   "source": [
    "target_test.value_counts()"
   ]
  },
  {
   "cell_type": "markdown",
   "metadata": {},
   "source": [
    "### Retrain the model on the combined train+validation data"
   ]
  },
  {
   "cell_type": "code",
   "execution_count": 167,
   "metadata": {},
   "outputs": [],
   "source": [
    "# We join back the train and valid samples\n",
    "combined_features = pd.concat([features_train]+[features_valid])\n",
    "combined_target = pd.concat([target_train]+[target_valid])"
   ]
  },
  {
   "cell_type": "code",
   "execution_count": 168,
   "metadata": {},
   "outputs": [
    {
     "data": {
      "text/plain": [
       "8000"
      ]
     },
     "execution_count": 168,
     "metadata": {},
     "output_type": "execute_result"
    }
   ],
   "source": [
    "combined_features['CreditScore'].count()"
   ]
  },
  {
   "cell_type": "code",
   "execution_count": 169,
   "metadata": {},
   "outputs": [
    {
     "data": {
      "text/plain": [
       "0    6370\n",
       "1    1630\n",
       "Name: Exited, dtype: int64"
      ]
     },
     "execution_count": 169,
     "metadata": {},
     "output_type": "execute_result"
    }
   ],
   "source": [
    "combined_target.value_counts()"
   ]
  },
  {
   "cell_type": "markdown",
   "metadata": {},
   "source": [
    "The proportions remained the same (almost, 3.9)"
   ]
  },
  {
   "cell_type": "code",
   "execution_count": 170,
   "metadata": {},
   "outputs": [],
   "source": [
    "# Calling the upsample function with repeat = 4 \n",
    "combined_features_upsampled, combined_target_upsampled = upsample(\n",
    "    combined_features, combined_target, 4\n",
    ")"
   ]
  },
  {
   "cell_type": "code",
   "execution_count": 171,
   "metadata": {},
   "outputs": [
    {
     "data": {
      "text/html": [
       "<div>\n",
       "<style scoped>\n",
       "    .dataframe tbody tr th:only-of-type {\n",
       "        vertical-align: middle;\n",
       "    }\n",
       "\n",
       "    .dataframe tbody tr th {\n",
       "        vertical-align: top;\n",
       "    }\n",
       "\n",
       "    .dataframe thead th {\n",
       "        text-align: right;\n",
       "    }\n",
       "</style>\n",
       "<table border=\"1\" class=\"dataframe\">\n",
       "  <thead>\n",
       "    <tr style=\"text-align: right;\">\n",
       "      <th></th>\n",
       "      <th>CreditScore</th>\n",
       "      <th>Age</th>\n",
       "      <th>Tenure</th>\n",
       "      <th>Balance</th>\n",
       "      <th>NumOfProducts</th>\n",
       "      <th>HasCrCard</th>\n",
       "      <th>IsActiveMember</th>\n",
       "      <th>EstimatedSalary</th>\n",
       "      <th>Geography_Germany</th>\n",
       "      <th>Geography_Spain</th>\n",
       "      <th>Gender_Male</th>\n",
       "    </tr>\n",
       "  </thead>\n",
       "  <tbody>\n",
       "    <tr>\n",
       "      <th>9375</th>\n",
       "      <td>0.094161</td>\n",
       "      <td>0.862946</td>\n",
       "      <td>-0.365167</td>\n",
       "      <td>0.757050</td>\n",
       "      <td>0.797767</td>\n",
       "      <td>1</td>\n",
       "      <td>0</td>\n",
       "      <td>-0.308325</td>\n",
       "      <td>1</td>\n",
       "      <td>0</td>\n",
       "      <td>1</td>\n",
       "    </tr>\n",
       "    <tr>\n",
       "      <th>9536</th>\n",
       "      <td>-1.031349</td>\n",
       "      <td>0.292120</td>\n",
       "      <td>1.818193</td>\n",
       "      <td>0.838881</td>\n",
       "      <td>-0.916018</td>\n",
       "      <td>1</td>\n",
       "      <td>0</td>\n",
       "      <td>-0.645029</td>\n",
       "      <td>1</td>\n",
       "      <td>0</td>\n",
       "      <td>0</td>\n",
       "    </tr>\n",
       "    <tr>\n",
       "      <th>6344</th>\n",
       "      <td>2.066384</td>\n",
       "      <td>0.196983</td>\n",
       "      <td>-0.729060</td>\n",
       "      <td>-1.220573</td>\n",
       "      <td>0.797767</td>\n",
       "      <td>1</td>\n",
       "      <td>0</td>\n",
       "      <td>0.498373</td>\n",
       "      <td>0</td>\n",
       "      <td>0</td>\n",
       "      <td>1</td>\n",
       "    </tr>\n",
       "    <tr>\n",
       "      <th>4357</th>\n",
       "      <td>1.085435</td>\n",
       "      <td>-0.278706</td>\n",
       "      <td>1.090407</td>\n",
       "      <td>-1.220573</td>\n",
       "      <td>0.797767</td>\n",
       "      <td>1</td>\n",
       "      <td>0</td>\n",
       "      <td>1.331035</td>\n",
       "      <td>0</td>\n",
       "      <td>0</td>\n",
       "      <td>1</td>\n",
       "    </tr>\n",
       "    <tr>\n",
       "      <th>9120</th>\n",
       "      <td>0.548495</td>\n",
       "      <td>1.814323</td>\n",
       "      <td>-0.365167</td>\n",
       "      <td>0.266421</td>\n",
       "      <td>-0.916018</td>\n",
       "      <td>0</td>\n",
       "      <td>1</td>\n",
       "      <td>-0.261760</td>\n",
       "      <td>0</td>\n",
       "      <td>1</td>\n",
       "      <td>1</td>\n",
       "    </tr>\n",
       "    <tr>\n",
       "      <th>...</th>\n",
       "      <td>...</td>\n",
       "      <td>...</td>\n",
       "      <td>...</td>\n",
       "      <td>...</td>\n",
       "      <td>...</td>\n",
       "      <td>...</td>\n",
       "      <td>...</td>\n",
       "      <td>...</td>\n",
       "      <td>...</td>\n",
       "      <td>...</td>\n",
       "      <td>...</td>\n",
       "    </tr>\n",
       "    <tr>\n",
       "      <th>7831</th>\n",
       "      <td>1.023481</td>\n",
       "      <td>0.292120</td>\n",
       "      <td>-1.092954</td>\n",
       "      <td>-0.312883</td>\n",
       "      <td>0.797767</td>\n",
       "      <td>0</td>\n",
       "      <td>1</td>\n",
       "      <td>1.482797</td>\n",
       "      <td>0</td>\n",
       "      <td>0</td>\n",
       "      <td>1</td>\n",
       "    </tr>\n",
       "    <tr>\n",
       "      <th>9299</th>\n",
       "      <td>1.797914</td>\n",
       "      <td>-1.230083</td>\n",
       "      <td>-0.001274</td>\n",
       "      <td>1.119839</td>\n",
       "      <td>-0.916018</td>\n",
       "      <td>1</td>\n",
       "      <td>0</td>\n",
       "      <td>-1.360771</td>\n",
       "      <td>0</td>\n",
       "      <td>0</td>\n",
       "      <td>1</td>\n",
       "    </tr>\n",
       "    <tr>\n",
       "      <th>6361</th>\n",
       "      <td>-2.415003</td>\n",
       "      <td>-1.325220</td>\n",
       "      <td>-1.820741</td>\n",
       "      <td>0.343355</td>\n",
       "      <td>0.797767</td>\n",
       "      <td>1</td>\n",
       "      <td>1</td>\n",
       "      <td>1.048024</td>\n",
       "      <td>1</td>\n",
       "      <td>0</td>\n",
       "      <td>0</td>\n",
       "    </tr>\n",
       "    <tr>\n",
       "      <th>6343</th>\n",
       "      <td>-0.236264</td>\n",
       "      <td>1.528910</td>\n",
       "      <td>0.362620</td>\n",
       "      <td>-1.220573</td>\n",
       "      <td>-0.916018</td>\n",
       "      <td>0</td>\n",
       "      <td>0</td>\n",
       "      <td>-0.143680</td>\n",
       "      <td>0</td>\n",
       "      <td>1</td>\n",
       "      <td>0</td>\n",
       "    </tr>\n",
       "    <tr>\n",
       "      <th>1674</th>\n",
       "      <td>0.311002</td>\n",
       "      <td>0.292120</td>\n",
       "      <td>0.726513</td>\n",
       "      <td>0.471103</td>\n",
       "      <td>-0.916018</td>\n",
       "      <td>1</td>\n",
       "      <td>1</td>\n",
       "      <td>-0.167759</td>\n",
       "      <td>1</td>\n",
       "      <td>0</td>\n",
       "      <td>0</td>\n",
       "    </tr>\n",
       "  </tbody>\n",
       "</table>\n",
       "<p>2000 rows × 11 columns</p>\n",
       "</div>"
      ],
      "text/plain": [
       "      CreditScore       Age    Tenure   Balance  NumOfProducts  HasCrCard  \\\n",
       "9375     0.094161  0.862946 -0.365167  0.757050       0.797767          1   \n",
       "9536    -1.031349  0.292120  1.818193  0.838881      -0.916018          1   \n",
       "6344     2.066384  0.196983 -0.729060 -1.220573       0.797767          1   \n",
       "4357     1.085435 -0.278706  1.090407 -1.220573       0.797767          1   \n",
       "9120     0.548495  1.814323 -0.365167  0.266421      -0.916018          0   \n",
       "...           ...       ...       ...       ...            ...        ...   \n",
       "7831     1.023481  0.292120 -1.092954 -0.312883       0.797767          0   \n",
       "9299     1.797914 -1.230083 -0.001274  1.119839      -0.916018          1   \n",
       "6361    -2.415003 -1.325220 -1.820741  0.343355       0.797767          1   \n",
       "6343    -0.236264  1.528910  0.362620 -1.220573      -0.916018          0   \n",
       "1674     0.311002  0.292120  0.726513  0.471103      -0.916018          1   \n",
       "\n",
       "      IsActiveMember  EstimatedSalary  Geography_Germany  Geography_Spain  \\\n",
       "9375               0        -0.308325                  1                0   \n",
       "9536               0        -0.645029                  1                0   \n",
       "6344               0         0.498373                  0                0   \n",
       "4357               0         1.331035                  0                0   \n",
       "9120               1        -0.261760                  0                1   \n",
       "...              ...              ...                ...              ...   \n",
       "7831               1         1.482797                  0                0   \n",
       "9299               0        -1.360771                  0                0   \n",
       "6361               1         1.048024                  1                0   \n",
       "6343               0        -0.143680                  0                1   \n",
       "1674               1        -0.167759                  1                0   \n",
       "\n",
       "      Gender_Male  \n",
       "9375            1  \n",
       "9536            0  \n",
       "6344            1  \n",
       "4357            1  \n",
       "9120            1  \n",
       "...           ...  \n",
       "7831            1  \n",
       "9299            1  \n",
       "6361            0  \n",
       "6343            0  \n",
       "1674            0  \n",
       "\n",
       "[2000 rows x 11 columns]"
      ]
     },
     "execution_count": 171,
     "metadata": {},
     "output_type": "execute_result"
    }
   ],
   "source": [
    "features_test"
   ]
  },
  {
   "cell_type": "code",
   "execution_count": 172,
   "metadata": {},
   "outputs": [
    {
     "name": "stdout",
     "output_type": "stream",
     "text": [
      "F1: 0.6291618828932263\n",
      "roc_auc: 0.8661280695179\n"
     ]
    }
   ],
   "source": [
    "combined_rfc = RandomForestClassifier(max_depth=12, n_estimators=150, random_state=12345)\n",
    "combined_rfc.fit(combined_features_upsampled, combined_target_upsampled)\n",
    "predicted_test = combined_rfc.predict(features_test)\n",
    "\n",
    "print('F1:', f1_score(target_test, predicted_test))\n",
    "\n",
    "probabilities_valid = combined_rfc.predict_proba(features_test)\n",
    "probabilities_one_valid = probabilities_valid[:, 1]\n",
    "\n",
    "print('roc_auc:', roc_auc_score(target_test, probabilities_one_valid))"
   ]
  },
  {
   "cell_type": "markdown",
   "metadata": {},
   "source": [
    "<div class=\"alert alert-danger\">\n",
    "<b>Reviewer's comment V2</b>\n",
    "\t  \n",
    "Found the problem: the test set was not scaled the same way as the train/validation :)\n",
    "\t  \n",
    "</div>"
   ]
  },
  {
   "cell_type": "markdown",
   "metadata": {},
   "source": [
    "<div class=\"alert alert-success\">\n",
    "<b>Reviewer's comment V3</b>\n",
    "\t  \n",
    "Fixed!\n",
    "\t  \n",
    "</div>"
   ]
  },
  {
   "cell_type": "code",
   "execution_count": 173,
   "metadata": {},
   "outputs": [
    {
     "data": {
      "text/plain": [
       "0.79625"
      ]
     },
     "execution_count": 173,
     "metadata": {},
     "output_type": "execute_result"
    }
   ],
   "source": [
    "combined_target.value_counts()[0]/len(combined_target)"
   ]
  },
  {
   "cell_type": "code",
   "execution_count": 174,
   "metadata": {},
   "outputs": [
    {
     "data": {
      "text/plain": [
       "0.7965"
      ]
     },
     "execution_count": 174,
     "metadata": {},
     "output_type": "execute_result"
    }
   ],
   "source": [
    "target_test.value_counts()[0]/len(target_test)"
   ]
  },
  {
   "cell_type": "markdown",
   "metadata": {},
   "source": [
    "F1 = 0.629!"
   ]
  },
  {
   "cell_type": "markdown",
   "metadata": {},
   "source": [
    "### Trying to find the best threshold of assigning the positive class"
   ]
  },
  {
   "cell_type": "code",
   "execution_count": 175,
   "metadata": {},
   "outputs": [
    {
     "data": {
      "text/plain": [
       "array([0.67911567, 0.81118248, 0.10843354, ..., 0.21602585, 0.94660654,\n",
       "       0.6755301 ])"
      ]
     },
     "execution_count": 175,
     "metadata": {},
     "output_type": "execute_result"
    }
   ],
   "source": [
    "# Trying to find the best threshold of assigning the positive class\n",
    "probabilities_test = combined_rfc.predict_proba(features_test)\n",
    "probabilities_one_test = probabilities_test[:, 1]\n",
    "probabilities_one_test"
   ]
  },
  {
   "cell_type": "code",
   "execution_count": 176,
   "metadata": {},
   "outputs": [
    {
     "name": "stdout",
     "output_type": "stream",
     "text": [
      "Threshold = 0.00 |Precision = 0.203, Recall = 1.000, F1 = 0.338\n",
      "Threshold = 0.02 |Precision = 0.205, Recall = 1.000, F1 = 0.340\n",
      "Threshold = 0.04 |Precision = 0.213, Recall = 1.000, F1 = 0.351\n",
      "Threshold = 0.06 |Precision = 0.228, Recall = 1.000, F1 = 0.371\n",
      "Threshold = 0.08 |Precision = 0.239, Recall = 0.995, F1 = 0.385\n",
      "Threshold = 0.10 |Precision = 0.253, Recall = 0.985, F1 = 0.402\n",
      "Threshold = 0.12 |Precision = 0.265, Recall = 0.968, F1 = 0.416\n",
      "Threshold = 0.14 |Precision = 0.278, Recall = 0.963, F1 = 0.432\n",
      "Threshold = 0.16 |Precision = 0.296, Recall = 0.953, F1 = 0.452\n",
      "Threshold = 0.18 |Precision = 0.311, Recall = 0.941, F1 = 0.468\n",
      "Threshold = 0.20 |Precision = 0.327, Recall = 0.929, F1 = 0.484\n",
      "Threshold = 0.22 |Precision = 0.341, Recall = 0.909, F1 = 0.496\n",
      "Threshold = 0.24 |Precision = 0.358, Recall = 0.899, F1 = 0.512\n",
      "Threshold = 0.26 |Precision = 0.374, Recall = 0.880, F1 = 0.525\n",
      "Threshold = 0.28 |Precision = 0.392, Recall = 0.872, F1 = 0.541\n",
      "Threshold = 0.30 |Precision = 0.407, Recall = 0.850, F1 = 0.551\n",
      "Threshold = 0.32 |Precision = 0.423, Recall = 0.845, F1 = 0.564\n",
      "Threshold = 0.34 |Precision = 0.440, Recall = 0.818, F1 = 0.572\n",
      "Threshold = 0.36 |Precision = 0.462, Recall = 0.801, F1 = 0.586\n",
      "Threshold = 0.38 |Precision = 0.480, Recall = 0.784, F1 = 0.595\n",
      "Threshold = 0.40 |Precision = 0.500, Recall = 0.757, F1 = 0.602\n",
      "Threshold = 0.42 |Precision = 0.514, Recall = 0.744, F1 = 0.608\n",
      "Threshold = 0.44 |Precision = 0.526, Recall = 0.720, F1 = 0.608\n",
      "Threshold = 0.46 |Precision = 0.552, Recall = 0.710, F1 = 0.621\n",
      "Threshold = 0.48 |Precision = 0.572, Recall = 0.693, F1 = 0.627\n",
      "Threshold = 0.50 |Precision = 0.591, Recall = 0.673, F1 = 0.629\n",
      "Threshold = 0.52 |Precision = 0.602, Recall = 0.654, F1 = 0.627\n",
      "Threshold = 0.54 |Precision = 0.621, Recall = 0.629, F1 = 0.625\n",
      "Threshold = 0.56 |Precision = 0.638, Recall = 0.597, F1 = 0.617\n",
      "Threshold = 0.58 |Precision = 0.663, Recall = 0.575, F1 = 0.616\n",
      "Threshold = 0.60 |Precision = 0.677, Recall = 0.536, F1 = 0.598\n",
      "Threshold = 0.62 |Precision = 0.693, Recall = 0.521, F1 = 0.595\n",
      "Threshold = 0.64 |Precision = 0.713, Recall = 0.514, F1 = 0.597\n",
      "Threshold = 0.66 |Precision = 0.727, Recall = 0.484, F1 = 0.581\n",
      "Threshold = 0.68 |Precision = 0.743, Recall = 0.462, F1 = 0.570\n"
     ]
    }
   ],
   "source": [
    "for threshold in np.arange(0, 0.7, 0.02):\n",
    "    predicted_test = probabilities_one_test > threshold \n",
    "    precision_test = precision_score(target_test, predicted_test)\n",
    "    recall_test = recall_score(target_test, predicted_test)\n",
    "    F1_test = f1_score(target_test, predicted_test)\n",
    "    print(\n",
    "          'Threshold = {:.2f} |Precision = {:.3f}, Recall = {:.3f}, F1 = {:.3F}'.format(\n",
    "          threshold,  precision_test, recall_test, F1_test\n",
    "        )\n",
    "     )"
   ]
  },
  {
   "cell_type": "markdown",
   "metadata": {},
   "source": [
    "After threshold==0 all the metrics are getting worse"
   ]
  },
  {
   "cell_type": "markdown",
   "metadata": {},
   "source": [
    "<div class=\"alert alert-warning\">\n",
    "<b>Reviewer's comment V2</b>\n",
    "\t  \n",
    "Tuning the threshold using the test set is generally not ideal (for the same reasons why we don't tune hyperparameters using the test set), better to select the threshold using the validation set, and then use it for the test set.\n",
    "\t  \n",
    "</div>"
   ]
  },
  {
   "cell_type": "markdown",
   "metadata": {},
   "source": [
    "<div class=\"alert alert-danger\">\n",
    "<s><b>Reviewer's comment</b>\n",
    "\t  \n",
    "The final model was evaluated on the test set, however it unfortunately doesn't pass the required F1 score threshold of 0.59. A couple of things that might help:\n",
    "    \n",
    "1. You can try using a stratified split. Maybe the test set ended up having a different proportion of classes than the original data.\n",
    "2. You can also retrain the model on the combined train+validation data before evaluating it on the test set (you can also apply upsampling to this train+validation set, just make sure that the train set used to make this big set is the original train set, not the upsampled one)\n",
    "3. Also tuning the threshold of assigning the positive class may help (as you did for one of the earlier models)\n",
    "\t  \n",
    "</div>"
   ]
  },
  {
   "cell_type": "markdown",
   "metadata": {},
   "source": [
    "<div class=\"alert alert-warning\">\n",
    "<s><b>Reviewer's comment</b>\n",
    "\t  \n",
    "It would be nice to include some simple baseline (you can use [DummyClassifier](https://scikit-learn.org/stable/modules/generated/sklearn.dummy.DummyClassifier.html) for convenience)\n",
    "\t  \n",
    "</div>"
   ]
  },
  {
   "cell_type": "markdown",
   "metadata": {},
   "source": [
    " <div class=\"alert alert-info\">\n",
    "\n",
    "I made many changes\n",
    "1. Went back to OHE\n",
    "\n",
    "2. I used stratified split\n",
    "    \n",
    "3. <b> Added scaling for the test dataset</b>  \n",
    "\n",
    "4. Changed the scoring method in GridSearchCV to f1\n",
    "    \n",
    "5. Changed the parameters options I provided to GridSearchCV and thus improved a lot my model hyperparameters\n",
    "\n",
    "6. Trained the model on combined training and validation sets\n",
    "    \n",
    "7. Tried tuning the threshold\n",
    "</div>"
   ]
  },
  {
   "cell_type": "markdown",
   "metadata": {},
   "source": []
  }
 ],
 "metadata": {
  "ExecuteTimeLog": [
   {
    "duration": 1651,
    "start_time": "2021-10-11T13:51:32.314Z"
   },
   {
    "duration": 19,
    "start_time": "2021-10-11T13:51:33.967Z"
   },
   {
    "duration": 31,
    "start_time": "2021-10-11T13:52:17.156Z"
   },
   {
    "duration": 677,
    "start_time": "2021-10-11T16:03:32.304Z"
   },
   {
    "duration": 2020,
    "start_time": "2021-10-11T16:03:38.594Z"
   },
   {
    "duration": 35,
    "start_time": "2021-10-11T16:03:40.617Z"
   },
   {
    "duration": 8,
    "start_time": "2021-10-11T16:03:54.119Z"
   },
   {
    "duration": 20,
    "start_time": "2021-10-11T16:04:07.114Z"
   },
   {
    "duration": 114,
    "start_time": "2021-10-11T17:42:04.075Z"
   },
   {
    "duration": 426,
    "start_time": "2021-10-11T17:47:59.143Z"
   },
   {
    "duration": 361,
    "start_time": "2021-10-11T17:48:10.056Z"
   },
   {
    "duration": 297,
    "start_time": "2021-10-11T17:48:15.194Z"
   },
   {
    "duration": 366,
    "start_time": "2021-10-11T17:48:20.976Z"
   },
   {
    "duration": 8,
    "start_time": "2021-10-11T17:48:39.218Z"
   },
   {
    "duration": 2264,
    "start_time": "2021-10-15T15:05:21.532Z"
   },
   {
    "duration": 33,
    "start_time": "2021-10-15T15:05:23.799Z"
   },
   {
    "duration": 7,
    "start_time": "2021-10-15T15:05:23.835Z"
   },
   {
    "duration": 26,
    "start_time": "2021-10-15T15:05:23.844Z"
   },
   {
    "duration": 7,
    "start_time": "2021-10-15T15:05:23.872Z"
   },
   {
    "duration": 10,
    "start_time": "2021-10-15T15:50:37.358Z"
   },
   {
    "duration": 225,
    "start_time": "2021-10-15T15:52:38.630Z"
   },
   {
    "duration": 22,
    "start_time": "2021-10-15T15:54:58.678Z"
   },
   {
    "duration": 16,
    "start_time": "2021-10-15T15:55:11.061Z"
   },
   {
    "duration": 15,
    "start_time": "2021-10-15T15:55:20.802Z"
   },
   {
    "duration": 19,
    "start_time": "2021-10-15T16:15:48.648Z"
   },
   {
    "duration": 9,
    "start_time": "2021-10-15T16:16:51.969Z"
   },
   {
    "duration": 9,
    "start_time": "2021-10-15T16:17:12.986Z"
   },
   {
    "duration": 22,
    "start_time": "2021-10-15T16:20:44.629Z"
   },
   {
    "duration": 14,
    "start_time": "2021-10-15T16:21:50.956Z"
   },
   {
    "duration": 18,
    "start_time": "2021-10-15T16:22:06.306Z"
   },
   {
    "duration": 1349,
    "start_time": "2021-10-17T08:41:57.699Z"
   },
   {
    "duration": 26,
    "start_time": "2021-10-17T08:41:59.050Z"
   },
   {
    "duration": 4,
    "start_time": "2021-10-17T08:41:59.078Z"
   },
   {
    "duration": 13,
    "start_time": "2021-10-17T08:41:59.084Z"
   },
   {
    "duration": 8,
    "start_time": "2021-10-17T08:41:59.098Z"
   },
   {
    "duration": 8,
    "start_time": "2021-10-17T08:41:59.107Z"
   },
   {
    "duration": 11,
    "start_time": "2021-10-17T08:41:59.117Z"
   },
   {
    "duration": 148,
    "start_time": "2021-10-17T08:41:59.130Z"
   },
   {
    "duration": 13,
    "start_time": "2021-10-17T08:41:59.281Z"
   },
   {
    "duration": 14,
    "start_time": "2021-10-17T08:41:59.295Z"
   },
   {
    "duration": 21,
    "start_time": "2021-10-17T08:41:59.310Z"
   },
   {
    "duration": 12,
    "start_time": "2021-10-17T08:41:59.332Z"
   },
   {
    "duration": 14,
    "start_time": "2021-10-17T08:41:59.346Z"
   },
   {
    "duration": 293,
    "start_time": "2021-10-17T08:41:59.361Z"
   },
   {
    "duration": 176,
    "start_time": "2021-10-17T09:19:13.719Z"
   },
   {
    "duration": 4,
    "start_time": "2021-10-17T09:19:45.555Z"
   },
   {
    "duration": 31,
    "start_time": "2021-10-17T09:19:45.561Z"
   },
   {
    "duration": 4,
    "start_time": "2021-10-17T09:19:45.594Z"
   },
   {
    "duration": 13,
    "start_time": "2021-10-17T09:19:45.600Z"
   },
   {
    "duration": 8,
    "start_time": "2021-10-17T09:19:45.614Z"
   },
   {
    "duration": 4,
    "start_time": "2021-10-17T09:19:45.624Z"
   },
   {
    "duration": 14,
    "start_time": "2021-10-17T09:19:45.630Z"
   },
   {
    "duration": 157,
    "start_time": "2021-10-17T09:19:45.646Z"
   },
   {
    "duration": 7,
    "start_time": "2021-10-17T09:19:45.805Z"
   },
   {
    "duration": 7,
    "start_time": "2021-10-17T09:19:45.814Z"
   },
   {
    "duration": 21,
    "start_time": "2021-10-17T09:19:45.823Z"
   },
   {
    "duration": 8,
    "start_time": "2021-10-17T09:19:45.846Z"
   },
   {
    "duration": 10,
    "start_time": "2021-10-17T09:19:45.856Z"
   },
   {
    "duration": 183,
    "start_time": "2021-10-17T09:19:45.892Z"
   },
   {
    "duration": 46,
    "start_time": "2021-10-17T09:26:52.978Z"
   },
   {
    "duration": 42,
    "start_time": "2021-10-17T10:04:31.619Z"
   },
   {
    "duration": 42,
    "start_time": "2021-10-17T10:10:04.853Z"
   },
   {
    "duration": 5,
    "start_time": "2021-10-17T10:12:38.479Z"
   },
   {
    "duration": 10,
    "start_time": "2021-10-17T10:13:00.743Z"
   },
   {
    "duration": 65,
    "start_time": "2021-10-17T10:29:59.259Z"
   },
   {
    "duration": 164,
    "start_time": "2021-10-17T10:30:05.260Z"
   },
   {
    "duration": 4,
    "start_time": "2021-10-17T10:32:28.753Z"
   },
   {
    "duration": 27,
    "start_time": "2021-10-17T10:32:28.759Z"
   },
   {
    "duration": 4,
    "start_time": "2021-10-17T10:32:28.788Z"
   },
   {
    "duration": 13,
    "start_time": "2021-10-17T10:32:28.793Z"
   },
   {
    "duration": 38,
    "start_time": "2021-10-17T10:32:28.808Z"
   },
   {
    "duration": 6,
    "start_time": "2021-10-17T10:32:28.848Z"
   },
   {
    "duration": 55,
    "start_time": "2021-10-17T10:32:28.856Z"
   },
   {
    "duration": 7,
    "start_time": "2021-10-17T10:32:28.913Z"
   },
   {
    "duration": 4,
    "start_time": "2021-10-17T10:32:28.923Z"
   },
   {
    "duration": 10,
    "start_time": "2021-10-17T10:32:28.929Z"
   },
   {
    "duration": 160,
    "start_time": "2021-10-17T10:32:28.940Z"
   },
   {
    "duration": 7,
    "start_time": "2021-10-17T10:32:29.101Z"
   },
   {
    "duration": 7,
    "start_time": "2021-10-17T10:32:29.109Z"
   },
   {
    "duration": 13,
    "start_time": "2021-10-17T10:32:29.118Z"
   },
   {
    "duration": 8,
    "start_time": "2021-10-17T10:32:29.132Z"
   },
   {
    "duration": 11,
    "start_time": "2021-10-17T10:32:29.141Z"
   },
   {
    "duration": 37,
    "start_time": "2021-10-17T10:32:29.154Z"
   },
   {
    "duration": 2,
    "start_time": "2021-10-17T10:32:29.193Z"
   },
   {
    "duration": 9,
    "start_time": "2021-10-17T10:32:46.366Z"
   },
   {
    "duration": 2,
    "start_time": "2021-10-17T10:32:48.557Z"
   },
   {
    "duration": 3,
    "start_time": "2021-10-17T10:32:50.028Z"
   },
   {
    "duration": 2,
    "start_time": "2021-10-17T10:32:54.724Z"
   },
   {
    "duration": 20,
    "start_time": "2021-10-17T10:32:56.420Z"
   },
   {
    "duration": 5,
    "start_time": "2021-10-17T10:34:18.190Z"
   },
   {
    "duration": 33,
    "start_time": "2021-10-17T10:34:18.197Z"
   },
   {
    "duration": 4,
    "start_time": "2021-10-17T10:34:18.233Z"
   },
   {
    "duration": 11,
    "start_time": "2021-10-17T10:34:18.239Z"
   },
   {
    "duration": 60,
    "start_time": "2021-10-17T10:34:18.252Z"
   },
   {
    "duration": 7,
    "start_time": "2021-10-17T10:34:18.314Z"
   },
   {
    "duration": 42,
    "start_time": "2021-10-17T10:34:18.323Z"
   },
   {
    "duration": 26,
    "start_time": "2021-10-17T10:34:18.367Z"
   },
   {
    "duration": 4,
    "start_time": "2021-10-17T10:34:18.395Z"
   },
   {
    "duration": 11,
    "start_time": "2021-10-17T10:34:18.401Z"
   },
   {
    "duration": 161,
    "start_time": "2021-10-17T10:34:18.414Z"
   },
   {
    "duration": 6,
    "start_time": "2021-10-17T10:34:18.577Z"
   },
   {
    "duration": 6,
    "start_time": "2021-10-17T10:34:18.591Z"
   },
   {
    "duration": 13,
    "start_time": "2021-10-17T10:34:18.599Z"
   },
   {
    "duration": 9,
    "start_time": "2021-10-17T10:34:18.614Z"
   },
   {
    "duration": 12,
    "start_time": "2021-10-17T10:34:18.624Z"
   },
   {
    "duration": 8,
    "start_time": "2021-10-17T10:34:18.638Z"
   },
   {
    "duration": 2,
    "start_time": "2021-10-17T10:34:18.647Z"
   },
   {
    "duration": 8,
    "start_time": "2021-10-17T10:34:18.651Z"
   },
   {
    "duration": 3,
    "start_time": "2021-10-17T10:34:18.692Z"
   },
   {
    "duration": 22,
    "start_time": "2021-10-17T10:34:18.696Z"
   },
   {
    "duration": 15,
    "start_time": "2021-10-17T11:02:07.561Z"
   },
   {
    "duration": 8,
    "start_time": "2021-10-17T11:33:17.980Z"
   },
   {
    "duration": 7,
    "start_time": "2021-10-17T11:36:48.797Z"
   },
   {
    "duration": 31,
    "start_time": "2021-10-17T11:36:48.807Z"
   },
   {
    "duration": 4,
    "start_time": "2021-10-17T11:36:48.840Z"
   },
   {
    "duration": 102,
    "start_time": "2021-10-17T11:36:48.845Z"
   },
   {
    "duration": 44,
    "start_time": "2021-10-17T11:36:48.949Z"
   },
   {
    "duration": 9,
    "start_time": "2021-10-17T11:36:48.995Z"
   },
   {
    "duration": 37,
    "start_time": "2021-10-17T11:36:49.007Z"
   },
   {
    "duration": 7,
    "start_time": "2021-10-17T11:36:49.046Z"
   },
   {
    "duration": 4,
    "start_time": "2021-10-17T11:36:49.055Z"
   },
   {
    "duration": 44,
    "start_time": "2021-10-17T11:36:49.061Z"
   },
   {
    "duration": 159,
    "start_time": "2021-10-17T11:36:49.107Z"
   },
   {
    "duration": 6,
    "start_time": "2021-10-17T11:36:49.268Z"
   },
   {
    "duration": 24,
    "start_time": "2021-10-17T11:36:49.275Z"
   },
   {
    "duration": 15,
    "start_time": "2021-10-17T11:36:49.301Z"
   },
   {
    "duration": 10,
    "start_time": "2021-10-17T11:36:49.318Z"
   },
   {
    "duration": 11,
    "start_time": "2021-10-17T11:36:49.330Z"
   },
   {
    "duration": 9,
    "start_time": "2021-10-17T11:36:49.343Z"
   },
   {
    "duration": 3,
    "start_time": "2021-10-17T11:36:49.354Z"
   },
   {
    "duration": 42,
    "start_time": "2021-10-17T11:36:49.358Z"
   },
   {
    "duration": 7,
    "start_time": "2021-10-17T11:36:49.403Z"
   },
   {
    "duration": 19,
    "start_time": "2021-10-17T11:36:49.412Z"
   },
   {
    "duration": 11,
    "start_time": "2021-10-17T11:36:49.432Z"
   },
   {
    "duration": 255,
    "start_time": "2021-10-17T12:37:42.390Z"
   },
   {
    "duration": 5,
    "start_time": "2021-10-17T12:39:35.500Z"
   },
   {
    "duration": 41,
    "start_time": "2021-10-17T12:39:35.507Z"
   },
   {
    "duration": 4,
    "start_time": "2021-10-17T12:39:35.551Z"
   },
   {
    "duration": 14,
    "start_time": "2021-10-17T12:39:35.556Z"
   },
   {
    "duration": 44,
    "start_time": "2021-10-17T12:39:35.571Z"
   },
   {
    "duration": 6,
    "start_time": "2021-10-17T12:39:35.616Z"
   },
   {
    "duration": 62,
    "start_time": "2021-10-17T12:39:35.624Z"
   },
   {
    "duration": 10,
    "start_time": "2021-10-17T12:39:35.688Z"
   },
   {
    "duration": 10,
    "start_time": "2021-10-17T12:39:35.700Z"
   },
   {
    "duration": 11,
    "start_time": "2021-10-17T12:39:35.711Z"
   },
   {
    "duration": 141,
    "start_time": "2021-10-17T12:39:35.724Z"
   },
   {
    "duration": 6,
    "start_time": "2021-10-17T12:39:35.867Z"
   },
   {
    "duration": 22,
    "start_time": "2021-10-17T12:39:35.875Z"
   },
   {
    "duration": 26,
    "start_time": "2021-10-17T12:39:35.899Z"
   },
   {
    "duration": 11,
    "start_time": "2021-10-17T12:39:35.927Z"
   },
   {
    "duration": 19,
    "start_time": "2021-10-17T12:39:35.940Z"
   },
   {
    "duration": 19,
    "start_time": "2021-10-17T12:39:35.961Z"
   },
   {
    "duration": 10,
    "start_time": "2021-10-17T12:39:35.981Z"
   },
   {
    "duration": 13,
    "start_time": "2021-10-17T12:39:35.993Z"
   },
   {
    "duration": 12,
    "start_time": "2021-10-17T12:39:36.007Z"
   },
   {
    "duration": 32,
    "start_time": "2021-10-17T12:39:36.021Z"
   },
   {
    "duration": 20,
    "start_time": "2021-10-17T12:39:36.055Z"
   },
   {
    "duration": 187,
    "start_time": "2021-10-17T12:39:42.744Z"
   },
   {
    "duration": 187,
    "start_time": "2021-10-17T12:48:49.045Z"
   },
   {
    "duration": 4,
    "start_time": "2021-10-17T12:52:40.864Z"
   },
   {
    "duration": 179,
    "start_time": "2021-10-17T12:53:21.340Z"
   },
   {
    "duration": 4,
    "start_time": "2021-10-17T12:53:55.041Z"
   },
   {
    "duration": 199,
    "start_time": "2021-10-17T12:54:01.165Z"
   },
   {
    "duration": 171,
    "start_time": "2021-10-17T13:01:11.805Z"
   },
   {
    "duration": 184,
    "start_time": "2021-10-17T13:01:59.799Z"
   },
   {
    "duration": 7,
    "start_time": "2021-10-17T13:02:46.899Z"
   },
   {
    "duration": 29,
    "start_time": "2021-10-17T13:02:46.909Z"
   },
   {
    "duration": 4,
    "start_time": "2021-10-17T13:02:46.941Z"
   },
   {
    "duration": 13,
    "start_time": "2021-10-17T13:02:46.948Z"
   },
   {
    "duration": 59,
    "start_time": "2021-10-17T13:02:46.963Z"
   },
   {
    "duration": 8,
    "start_time": "2021-10-17T13:02:47.024Z"
   },
   {
    "duration": 58,
    "start_time": "2021-10-17T13:02:47.034Z"
   },
   {
    "duration": 10,
    "start_time": "2021-10-17T13:02:47.095Z"
   },
   {
    "duration": 5,
    "start_time": "2021-10-17T13:02:47.107Z"
   },
   {
    "duration": 8,
    "start_time": "2021-10-17T13:02:47.114Z"
   },
   {
    "duration": 7,
    "start_time": "2021-10-17T13:02:47.123Z"
   },
   {
    "duration": 13,
    "start_time": "2021-10-17T13:02:47.132Z"
   },
   {
    "duration": 48,
    "start_time": "2021-10-17T13:02:47.147Z"
   },
   {
    "duration": 11,
    "start_time": "2021-10-17T13:02:47.197Z"
   },
   {
    "duration": 9,
    "start_time": "2021-10-17T13:02:47.209Z"
   },
   {
    "duration": 3,
    "start_time": "2021-10-17T13:02:50.753Z"
   },
   {
    "duration": 173,
    "start_time": "2021-10-17T13:02:52.819Z"
   },
   {
    "duration": 8,
    "start_time": "2021-10-17T13:03:19.311Z"
   },
   {
    "duration": 7,
    "start_time": "2021-10-17T13:03:45.729Z"
   },
   {
    "duration": 3,
    "start_time": "2021-10-17T13:03:49.592Z"
   },
   {
    "duration": 19,
    "start_time": "2021-10-17T13:03:50.490Z"
   },
   {
    "duration": 11,
    "start_time": "2021-10-17T13:03:51.440Z"
   },
   {
    "duration": 632,
    "start_time": "2021-10-17T13:04:07.472Z"
   },
   {
    "duration": 297,
    "start_time": "2021-10-17T17:24:34.741Z"
   },
   {
    "duration": 1464,
    "start_time": "2021-10-17T17:25:09.882Z"
   },
   {
    "duration": 382,
    "start_time": "2021-10-17T17:25:16.674Z"
   },
   {
    "duration": 5,
    "start_time": "2021-10-17T17:25:23.677Z"
   },
   {
    "duration": 50,
    "start_time": "2021-10-17T17:25:23.685Z"
   },
   {
    "duration": 6,
    "start_time": "2021-10-17T17:25:23.737Z"
   },
   {
    "duration": 25,
    "start_time": "2021-10-17T17:25:23.746Z"
   },
   {
    "duration": 36,
    "start_time": "2021-10-17T17:25:23.773Z"
   },
   {
    "duration": 8,
    "start_time": "2021-10-17T17:25:23.811Z"
   },
   {
    "duration": 52,
    "start_time": "2021-10-17T17:25:23.821Z"
   },
   {
    "duration": 10,
    "start_time": "2021-10-17T17:25:23.876Z"
   },
   {
    "duration": 5,
    "start_time": "2021-10-17T17:25:23.888Z"
   },
   {
    "duration": 10,
    "start_time": "2021-10-17T17:25:23.895Z"
   },
   {
    "duration": 11,
    "start_time": "2021-10-17T17:25:23.907Z"
   },
   {
    "duration": 32,
    "start_time": "2021-10-17T17:25:23.919Z"
   },
   {
    "duration": 9,
    "start_time": "2021-10-17T17:25:23.953Z"
   },
   {
    "duration": 10,
    "start_time": "2021-10-17T17:25:23.964Z"
   },
   {
    "duration": 9,
    "start_time": "2021-10-17T17:25:23.975Z"
   },
   {
    "duration": 3,
    "start_time": "2021-10-17T17:25:23.986Z"
   },
   {
    "duration": 11,
    "start_time": "2021-10-17T17:25:23.991Z"
   },
   {
    "duration": 7,
    "start_time": "2021-10-17T17:25:24.003Z"
   },
   {
    "duration": 49,
    "start_time": "2021-10-17T17:25:24.011Z"
   },
   {
    "duration": 10,
    "start_time": "2021-10-17T17:25:24.062Z"
   },
   {
    "duration": 14,
    "start_time": "2021-10-17T17:25:24.073Z"
   },
   {
    "duration": 145,
    "start_time": "2021-10-17T17:25:24.089Z"
   },
   {
    "duration": 615,
    "start_time": "2021-10-17T17:25:24.236Z"
   },
   {
    "duration": 200,
    "start_time": "2021-10-17T17:25:24.853Z"
   },
   {
    "duration": 273,
    "start_time": "2021-10-17T17:25:25.055Z"
   },
   {
    "duration": 575,
    "start_time": "2021-10-17T17:25:47.776Z"
   },
   {
    "duration": 17,
    "start_time": "2021-10-17T17:47:27.308Z"
   },
   {
    "duration": 268,
    "start_time": "2021-10-17T17:47:29.553Z"
   },
   {
    "duration": 30,
    "start_time": "2021-10-17T17:49:34.357Z"
   },
   {
    "duration": 246,
    "start_time": "2021-10-17T17:49:35.523Z"
   },
   {
    "duration": 4,
    "start_time": "2021-10-17T17:49:51.325Z"
   },
   {
    "duration": 33,
    "start_time": "2021-10-17T17:49:51.332Z"
   },
   {
    "duration": 3,
    "start_time": "2021-10-17T17:49:51.367Z"
   },
   {
    "duration": 13,
    "start_time": "2021-10-17T17:49:51.372Z"
   },
   {
    "duration": 40,
    "start_time": "2021-10-17T17:49:51.386Z"
   },
   {
    "duration": 22,
    "start_time": "2021-10-17T17:49:51.427Z"
   },
   {
    "duration": 35,
    "start_time": "2021-10-17T17:49:51.451Z"
   },
   {
    "duration": 8,
    "start_time": "2021-10-17T17:49:51.488Z"
   },
   {
    "duration": 9,
    "start_time": "2021-10-17T17:49:51.498Z"
   },
   {
    "duration": 8,
    "start_time": "2021-10-17T17:49:51.508Z"
   },
   {
    "duration": 30,
    "start_time": "2021-10-17T17:49:51.518Z"
   },
   {
    "duration": 21,
    "start_time": "2021-10-17T17:49:51.549Z"
   },
   {
    "duration": 8,
    "start_time": "2021-10-17T17:49:51.572Z"
   },
   {
    "duration": 22,
    "start_time": "2021-10-17T17:49:51.582Z"
   },
   {
    "duration": 14,
    "start_time": "2021-10-17T17:49:51.606Z"
   },
   {
    "duration": 6,
    "start_time": "2021-10-17T17:49:51.622Z"
   },
   {
    "duration": 14,
    "start_time": "2021-10-17T17:49:51.630Z"
   },
   {
    "duration": 10,
    "start_time": "2021-10-17T17:49:51.646Z"
   },
   {
    "duration": 29,
    "start_time": "2021-10-17T17:49:51.657Z"
   },
   {
    "duration": 11,
    "start_time": "2021-10-17T17:49:51.688Z"
   },
   {
    "duration": 23,
    "start_time": "2021-10-17T17:49:51.700Z"
   },
   {
    "duration": 124,
    "start_time": "2021-10-17T17:49:51.725Z"
   },
   {
    "duration": 96,
    "start_time": "2021-10-17T17:50:02.148Z"
   },
   {
    "duration": 257,
    "start_time": "2021-10-17T17:50:07.198Z"
   },
   {
    "duration": 16,
    "start_time": "2021-10-17T18:01:10.991Z"
   },
   {
    "duration": 29,
    "start_time": "2021-10-17T18:01:14.907Z"
   },
   {
    "duration": 343,
    "start_time": "2021-10-17T18:01:20.008Z"
   },
   {
    "duration": 5,
    "start_time": "2021-10-17T18:02:18.722Z"
   },
   {
    "duration": 17,
    "start_time": "2021-10-17T18:02:40.113Z"
   },
   {
    "duration": 260,
    "start_time": "2021-10-17T18:02:41.006Z"
   },
   {
    "duration": 5,
    "start_time": "2021-10-17T18:02:58.351Z"
   },
   {
    "duration": 6,
    "start_time": "2021-10-17T18:03:39.471Z"
   },
   {
    "duration": 39,
    "start_time": "2021-10-17T18:03:39.480Z"
   },
   {
    "duration": 4,
    "start_time": "2021-10-17T18:03:39.522Z"
   },
   {
    "duration": 12,
    "start_time": "2021-10-17T18:03:39.527Z"
   },
   {
    "duration": 38,
    "start_time": "2021-10-17T18:03:39.540Z"
   },
   {
    "duration": 6,
    "start_time": "2021-10-17T18:03:39.579Z"
   },
   {
    "duration": 32,
    "start_time": "2021-10-17T18:03:39.587Z"
   },
   {
    "duration": 25,
    "start_time": "2021-10-17T18:03:39.621Z"
   },
   {
    "duration": 4,
    "start_time": "2021-10-17T18:03:39.648Z"
   },
   {
    "duration": 9,
    "start_time": "2021-10-17T18:03:39.653Z"
   },
   {
    "duration": 8,
    "start_time": "2021-10-17T18:03:39.663Z"
   },
   {
    "duration": 13,
    "start_time": "2021-10-17T18:03:39.673Z"
   },
   {
    "duration": 8,
    "start_time": "2021-10-17T18:03:39.687Z"
   },
   {
    "duration": 9,
    "start_time": "2021-10-17T18:03:39.697Z"
   },
   {
    "duration": 38,
    "start_time": "2021-10-17T18:03:39.708Z"
   },
   {
    "duration": 2,
    "start_time": "2021-10-17T18:03:39.748Z"
   },
   {
    "duration": 11,
    "start_time": "2021-10-17T18:03:39.752Z"
   },
   {
    "duration": 6,
    "start_time": "2021-10-17T18:03:39.764Z"
   },
   {
    "duration": 18,
    "start_time": "2021-10-17T18:03:39.772Z"
   },
   {
    "duration": 11,
    "start_time": "2021-10-17T18:03:39.792Z"
   },
   {
    "duration": 9,
    "start_time": "2021-10-17T18:03:39.804Z"
   },
   {
    "duration": 141,
    "start_time": "2021-10-17T18:03:39.815Z"
   },
   {
    "duration": 23,
    "start_time": "2021-10-17T18:03:39.959Z"
   },
   {
    "duration": 365,
    "start_time": "2021-10-17T18:03:40.046Z"
   },
   {
    "duration": 183,
    "start_time": "2021-10-17T18:03:40.230Z"
   },
   {
    "duration": 181,
    "start_time": "2021-10-17T18:03:40.233Z"
   },
   {
    "duration": 181,
    "start_time": "2021-10-17T18:03:40.234Z"
   },
   {
    "duration": 180,
    "start_time": "2021-10-17T18:03:40.236Z"
   },
   {
    "duration": 179,
    "start_time": "2021-10-17T18:03:40.237Z"
   },
   {
    "duration": 178,
    "start_time": "2021-10-17T18:03:40.239Z"
   },
   {
    "duration": 43,
    "start_time": "2021-10-17T18:04:09.047Z"
   },
   {
    "duration": 254,
    "start_time": "2021-10-17T18:04:09.632Z"
   },
   {
    "duration": 906,
    "start_time": "2021-10-17T18:04:55.721Z"
   },
   {
    "duration": 21,
    "start_time": "2021-10-17T18:06:22.786Z"
   },
   {
    "duration": 6,
    "start_time": "2021-10-17T18:06:23.642Z"
   },
   {
    "duration": 6,
    "start_time": "2021-10-17T18:06:31.466Z"
   },
   {
    "duration": 6,
    "start_time": "2021-10-17T18:06:39.024Z"
   },
   {
    "duration": 574,
    "start_time": "2021-10-17T18:51:49.877Z"
   },
   {
    "duration": 285,
    "start_time": "2021-10-17T18:55:05.644Z"
   },
   {
    "duration": 2,
    "start_time": "2021-10-17T19:02:50.897Z"
   },
   {
    "duration": 282,
    "start_time": "2021-10-17T19:11:10.554Z"
   },
   {
    "duration": 5,
    "start_time": "2021-10-17T19:11:35.308Z"
   },
   {
    "duration": 35,
    "start_time": "2021-10-17T19:11:42.397Z"
   },
   {
    "duration": 33,
    "start_time": "2021-10-17T19:20:16.188Z"
   },
   {
    "duration": 31,
    "start_time": "2021-10-17T19:23:06.860Z"
   },
   {
    "duration": 5,
    "start_time": "2021-10-17T19:23:07.796Z"
   },
   {
    "duration": 32,
    "start_time": "2021-10-17T19:32:04.743Z"
   },
   {
    "duration": 47,
    "start_time": "2021-10-17T19:34:18.993Z"
   },
   {
    "duration": 274,
    "start_time": "2021-10-17T19:37:25.192Z"
   },
   {
    "duration": 46,
    "start_time": "2021-10-17T19:40:17.856Z"
   },
   {
    "duration": 4,
    "start_time": "2021-10-17T19:41:20.661Z"
   },
   {
    "duration": 33,
    "start_time": "2021-10-17T19:42:21.776Z"
   },
   {
    "duration": 34,
    "start_time": "2021-10-17T19:43:41.688Z"
   },
   {
    "duration": 7,
    "start_time": "2021-10-17T19:43:42.671Z"
   },
   {
    "duration": 7,
    "start_time": "2021-10-17T19:43:46.760Z"
   },
   {
    "duration": 34,
    "start_time": "2021-10-17T19:49:25.474Z"
   },
   {
    "duration": 33,
    "start_time": "2021-10-17T19:50:00.945Z"
   },
   {
    "duration": 32,
    "start_time": "2021-10-17T19:50:07.169Z"
   },
   {
    "duration": 36,
    "start_time": "2021-10-17T19:50:44.690Z"
   },
   {
    "duration": 17,
    "start_time": "2021-10-17T19:52:39.522Z"
   },
   {
    "duration": 20,
    "start_time": "2021-10-17T19:52:51.153Z"
   },
   {
    "duration": 49,
    "start_time": "2021-10-17T19:53:26.267Z"
   },
   {
    "duration": 75,
    "start_time": "2021-10-17T19:55:19.458Z"
   },
   {
    "duration": 110,
    "start_time": "2021-10-17T19:57:01.249Z"
   },
   {
    "duration": 150,
    "start_time": "2021-10-17T20:00:14.940Z"
   },
   {
    "duration": 148,
    "start_time": "2021-10-17T20:01:13.145Z"
   },
   {
    "duration": 10,
    "start_time": "2021-10-17T20:08:26.573Z"
   },
   {
    "duration": 9,
    "start_time": "2021-10-17T20:08:46.820Z"
   },
   {
    "duration": 9,
    "start_time": "2021-10-17T20:16:48.009Z"
   },
   {
    "duration": 9,
    "start_time": "2021-10-17T20:16:48.736Z"
   },
   {
    "duration": 4,
    "start_time": "2021-10-17T20:16:59.971Z"
   },
   {
    "duration": 31,
    "start_time": "2021-10-17T20:16:59.977Z"
   },
   {
    "duration": 3,
    "start_time": "2021-10-17T20:17:00.010Z"
   },
   {
    "duration": 12,
    "start_time": "2021-10-17T20:17:00.015Z"
   },
   {
    "duration": 36,
    "start_time": "2021-10-17T20:17:00.029Z"
   },
   {
    "duration": 6,
    "start_time": "2021-10-17T20:17:00.066Z"
   },
   {
    "duration": 38,
    "start_time": "2021-10-17T20:17:00.074Z"
   },
   {
    "duration": 8,
    "start_time": "2021-10-17T20:17:00.113Z"
   },
   {
    "duration": 23,
    "start_time": "2021-10-17T20:17:00.124Z"
   },
   {
    "duration": 7,
    "start_time": "2021-10-17T20:17:00.149Z"
   },
   {
    "duration": 12,
    "start_time": "2021-10-17T20:17:00.158Z"
   },
   {
    "duration": 17,
    "start_time": "2021-10-17T20:17:00.171Z"
   },
   {
    "duration": 7,
    "start_time": "2021-10-17T20:17:00.190Z"
   },
   {
    "duration": 11,
    "start_time": "2021-10-17T20:17:00.198Z"
   },
   {
    "duration": 18,
    "start_time": "2021-10-17T20:17:00.210Z"
   },
   {
    "duration": 16,
    "start_time": "2021-10-17T20:17:00.230Z"
   },
   {
    "duration": 10,
    "start_time": "2021-10-17T20:17:00.248Z"
   },
   {
    "duration": 16,
    "start_time": "2021-10-17T20:17:00.259Z"
   },
   {
    "duration": 21,
    "start_time": "2021-10-17T20:17:00.277Z"
   },
   {
    "duration": 10,
    "start_time": "2021-10-17T20:17:00.300Z"
   },
   {
    "duration": 14,
    "start_time": "2021-10-17T20:17:00.311Z"
   },
   {
    "duration": 131,
    "start_time": "2021-10-17T20:17:00.327Z"
   },
   {
    "duration": 685,
    "start_time": "2021-10-17T20:17:00.460Z"
   },
   {
    "duration": 456,
    "start_time": "2021-10-17T20:17:01.148Z"
   },
   {
    "duration": 41,
    "start_time": "2021-10-17T20:17:01.606Z"
   },
   {
    "duration": 5,
    "start_time": "2021-10-17T20:17:01.648Z"
   },
   {
    "duration": 24,
    "start_time": "2021-10-17T20:17:01.657Z"
   },
   {
    "duration": 247,
    "start_time": "2021-10-17T20:17:01.746Z"
   },
   {
    "duration": 10,
    "start_time": "2021-10-17T20:17:01.995Z"
   },
   {
    "duration": 11,
    "start_time": "2021-10-17T20:17:02.006Z"
   },
   {
    "duration": 35,
    "start_time": "2021-10-17T20:21:28.832Z"
   },
   {
    "duration": 8,
    "start_time": "2021-10-17T20:21:31.407Z"
   },
   {
    "duration": 40,
    "start_time": "2021-10-17T20:24:24.336Z"
   },
   {
    "duration": 10,
    "start_time": "2021-10-17T20:25:02.800Z"
   },
   {
    "duration": 2258,
    "start_time": "2021-10-18T06:14:47.340Z"
   },
   {
    "duration": 33,
    "start_time": "2021-10-18T06:14:49.601Z"
   },
   {
    "duration": 8,
    "start_time": "2021-10-18T06:14:49.637Z"
   },
   {
    "duration": 30,
    "start_time": "2021-10-18T06:14:49.647Z"
   },
   {
    "duration": 96,
    "start_time": "2021-10-18T06:14:49.680Z"
   },
   {
    "duration": 11,
    "start_time": "2021-10-18T06:14:49.779Z"
   },
   {
    "duration": 86,
    "start_time": "2021-10-18T06:14:49.793Z"
   },
   {
    "duration": 14,
    "start_time": "2021-10-18T06:14:49.883Z"
   },
   {
    "duration": 9,
    "start_time": "2021-10-18T06:14:49.900Z"
   },
   {
    "duration": 10,
    "start_time": "2021-10-18T06:14:49.912Z"
   },
   {
    "duration": 42,
    "start_time": "2021-10-18T06:14:49.925Z"
   },
   {
    "duration": 23,
    "start_time": "2021-10-18T06:14:49.971Z"
   },
   {
    "duration": 13,
    "start_time": "2021-10-18T06:14:49.997Z"
   },
   {
    "duration": 51,
    "start_time": "2021-10-18T06:14:50.012Z"
   },
   {
    "duration": 12,
    "start_time": "2021-10-18T06:14:50.066Z"
   },
   {
    "duration": 6,
    "start_time": "2021-10-18T06:14:50.080Z"
   },
   {
    "duration": 14,
    "start_time": "2021-10-18T06:14:50.088Z"
   },
   {
    "duration": 9,
    "start_time": "2021-10-18T06:14:50.105Z"
   },
   {
    "duration": 61,
    "start_time": "2021-10-18T06:14:50.117Z"
   },
   {
    "duration": 17,
    "start_time": "2021-10-18T06:14:50.181Z"
   },
   {
    "duration": 20,
    "start_time": "2021-10-18T06:14:50.200Z"
   },
   {
    "duration": 262,
    "start_time": "2021-10-18T06:14:50.222Z"
   },
   {
    "duration": 580,
    "start_time": "2021-10-18T06:14:50.488Z"
   },
   {
    "duration": 625,
    "start_time": "2021-10-18T06:14:51.071Z"
   },
   {
    "duration": 47,
    "start_time": "2021-10-18T06:14:51.698Z"
   },
   {
    "duration": 20,
    "start_time": "2021-10-18T06:14:51.747Z"
   },
   {
    "duration": 34,
    "start_time": "2021-10-18T06:14:51.770Z"
   },
   {
    "duration": 408,
    "start_time": "2021-10-18T06:14:51.806Z"
   },
   {
    "duration": 69,
    "start_time": "2021-10-18T06:14:52.217Z"
   },
   {
    "duration": 14,
    "start_time": "2021-10-18T06:14:52.289Z"
   },
   {
    "duration": 219,
    "start_time": "2021-10-18T09:08:56.594Z"
   },
   {
    "duration": 215,
    "start_time": "2021-10-18T09:09:01.496Z"
   },
   {
    "duration": 13,
    "start_time": "2021-10-18T09:16:21.924Z"
   },
   {
    "duration": 220,
    "start_time": "2021-10-18T09:40:06.681Z"
   },
   {
    "duration": 223,
    "start_time": "2021-10-18T09:40:14.530Z"
   },
   {
    "duration": 207,
    "start_time": "2021-10-18T09:44:10.587Z"
   },
   {
    "duration": 106,
    "start_time": "2021-10-18T09:47:07.051Z"
   },
   {
    "duration": 3,
    "start_time": "2021-10-18T10:38:17.601Z"
   },
   {
    "duration": 5,
    "start_time": "2021-10-18T10:42:15.473Z"
   },
   {
    "duration": 58,
    "start_time": "2021-10-18T10:42:21.088Z"
   },
   {
    "duration": 11,
    "start_time": "2021-10-18T10:42:33.143Z"
   },
   {
    "duration": 8,
    "start_time": "2021-10-18T10:42:53.032Z"
   },
   {
    "duration": 43,
    "start_time": "2021-10-18T10:42:53.043Z"
   },
   {
    "duration": 5,
    "start_time": "2021-10-18T10:42:53.089Z"
   },
   {
    "duration": 21,
    "start_time": "2021-10-18T10:42:53.097Z"
   },
   {
    "duration": 95,
    "start_time": "2021-10-18T10:42:53.121Z"
   },
   {
    "duration": 9,
    "start_time": "2021-10-18T10:42:53.219Z"
   },
   {
    "duration": 33,
    "start_time": "2021-10-18T10:42:53.231Z"
   },
   {
    "duration": 224,
    "start_time": "2021-10-18T10:42:53.267Z"
   },
   {
    "duration": 6,
    "start_time": "2021-10-18T10:42:53.495Z"
   },
   {
    "duration": 72,
    "start_time": "2021-10-18T10:42:53.504Z"
   },
   {
    "duration": 14,
    "start_time": "2021-10-18T10:42:53.579Z"
   },
   {
    "duration": 9,
    "start_time": "2021-10-18T10:42:53.596Z"
   },
   {
    "duration": 11,
    "start_time": "2021-10-18T10:42:53.608Z"
   },
   {
    "duration": 62,
    "start_time": "2021-10-18T10:42:53.621Z"
   },
   {
    "duration": 12,
    "start_time": "2021-10-18T10:42:53.686Z"
   },
   {
    "duration": 18,
    "start_time": "2021-10-18T10:42:53.701Z"
   },
   {
    "duration": 50,
    "start_time": "2021-10-18T10:42:53.722Z"
   },
   {
    "duration": 11,
    "start_time": "2021-10-18T10:42:53.775Z"
   },
   {
    "duration": 17,
    "start_time": "2021-10-18T10:42:53.789Z"
   },
   {
    "duration": 8,
    "start_time": "2021-10-18T10:42:53.809Z"
   },
   {
    "duration": 54,
    "start_time": "2021-10-18T10:42:53.819Z"
   },
   {
    "duration": 15,
    "start_time": "2021-10-18T10:42:53.876Z"
   },
   {
    "duration": 768,
    "start_time": "2021-10-18T10:42:53.895Z"
   },
   {
    "duration": 662,
    "start_time": "2021-10-18T10:42:54.004Z"
   },
   {
    "duration": 558,
    "start_time": "2021-10-18T10:42:54.110Z"
   },
   {
    "duration": 558,
    "start_time": "2021-10-18T10:42:54.112Z"
   },
   {
    "duration": 559,
    "start_time": "2021-10-18T10:42:54.113Z"
   },
   {
    "duration": 558,
    "start_time": "2021-10-18T10:42:54.116Z"
   },
   {
    "duration": 557,
    "start_time": "2021-10-18T10:42:54.118Z"
   },
   {
    "duration": 558,
    "start_time": "2021-10-18T10:42:54.119Z"
   },
   {
    "duration": 18,
    "start_time": "2021-10-18T10:44:18.653Z"
   },
   {
    "duration": 7,
    "start_time": "2021-10-18T10:44:24.516Z"
   },
   {
    "duration": 40,
    "start_time": "2021-10-18T10:44:24.526Z"
   },
   {
    "duration": 5,
    "start_time": "2021-10-18T10:44:24.569Z"
   },
   {
    "duration": 20,
    "start_time": "2021-10-18T10:44:24.577Z"
   },
   {
    "duration": 99,
    "start_time": "2021-10-18T10:44:24.600Z"
   },
   {
    "duration": 10,
    "start_time": "2021-10-18T10:44:24.701Z"
   },
   {
    "duration": 21,
    "start_time": "2021-10-18T10:44:24.716Z"
   },
   {
    "duration": 232,
    "start_time": "2021-10-18T10:44:24.741Z"
   },
   {
    "duration": 5,
    "start_time": "2021-10-18T10:44:24.977Z"
   },
   {
    "duration": 66,
    "start_time": "2021-10-18T10:44:24.984Z"
   },
   {
    "duration": 12,
    "start_time": "2021-10-18T10:44:25.061Z"
   },
   {
    "duration": 11,
    "start_time": "2021-10-18T10:44:25.076Z"
   },
   {
    "duration": 15,
    "start_time": "2021-10-18T10:44:25.090Z"
   },
   {
    "duration": 61,
    "start_time": "2021-10-18T10:44:25.107Z"
   },
   {
    "duration": 12,
    "start_time": "2021-10-18T10:44:25.170Z"
   },
   {
    "duration": 16,
    "start_time": "2021-10-18T10:44:25.185Z"
   },
   {
    "duration": 12,
    "start_time": "2021-10-18T10:44:25.204Z"
   },
   {
    "duration": 42,
    "start_time": "2021-10-18T10:44:25.219Z"
   },
   {
    "duration": 16,
    "start_time": "2021-10-18T10:44:25.264Z"
   },
   {
    "duration": 9,
    "start_time": "2021-10-18T10:44:25.282Z"
   },
   {
    "duration": 32,
    "start_time": "2021-10-18T10:44:25.294Z"
   },
   {
    "duration": 43,
    "start_time": "2021-10-18T10:44:25.328Z"
   },
   {
    "duration": 17,
    "start_time": "2021-10-18T10:44:25.375Z"
   },
   {
    "duration": 249,
    "start_time": "2021-10-18T10:44:25.395Z"
   },
   {
    "duration": 828,
    "start_time": "2021-10-18T10:44:25.647Z"
   },
   {
    "duration": 629,
    "start_time": "2021-10-18T10:44:26.481Z"
   },
   {
    "duration": 127,
    "start_time": "2021-10-18T10:44:27.112Z"
   },
   {
    "duration": 57,
    "start_time": "2021-10-18T10:44:27.242Z"
   },
   {
    "duration": 9,
    "start_time": "2021-10-18T10:44:27.302Z"
   },
   {
    "duration": 98,
    "start_time": "2021-10-18T10:44:27.313Z"
   },
   {
    "duration": 15,
    "start_time": "2021-10-18T11:28:58.303Z"
   },
   {
    "duration": 1923,
    "start_time": "2021-10-18T13:44:18.569Z"
   },
   {
    "duration": 33,
    "start_time": "2021-10-18T13:44:20.494Z"
   },
   {
    "duration": 7,
    "start_time": "2021-10-18T13:44:20.530Z"
   },
   {
    "duration": 26,
    "start_time": "2021-10-18T13:44:20.540Z"
   },
   {
    "duration": 73,
    "start_time": "2021-10-18T13:44:20.569Z"
   },
   {
    "duration": 10,
    "start_time": "2021-10-18T13:44:20.644Z"
   },
   {
    "duration": 16,
    "start_time": "2021-10-18T13:44:20.656Z"
   },
   {
    "duration": 229,
    "start_time": "2021-10-18T13:44:20.676Z"
   },
   {
    "duration": 13,
    "start_time": "2021-10-18T13:44:20.909Z"
   },
   {
    "duration": 53,
    "start_time": "2021-10-18T13:44:20.925Z"
   },
   {
    "duration": 15,
    "start_time": "2021-10-18T13:44:20.981Z"
   },
   {
    "duration": 31,
    "start_time": "2021-10-18T13:44:20.998Z"
   },
   {
    "duration": 19,
    "start_time": "2021-10-18T13:44:21.032Z"
   },
   {
    "duration": 22,
    "start_time": "2021-10-18T13:44:21.054Z"
   },
   {
    "duration": 44,
    "start_time": "2021-10-18T13:44:21.079Z"
   },
   {
    "duration": 17,
    "start_time": "2021-10-18T13:44:21.126Z"
   },
   {
    "duration": 10,
    "start_time": "2021-10-18T13:44:21.146Z"
   },
   {
    "duration": 4,
    "start_time": "2021-10-18T13:44:21.158Z"
   },
   {
    "duration": 10,
    "start_time": "2021-10-18T13:44:21.165Z"
   },
   {
    "duration": 53,
    "start_time": "2021-10-18T13:44:21.177Z"
   },
   {
    "duration": 34,
    "start_time": "2021-10-18T13:44:21.232Z"
   },
   {
    "duration": 18,
    "start_time": "2021-10-18T13:44:21.268Z"
   },
   {
    "duration": 34,
    "start_time": "2021-10-18T13:44:21.290Z"
   },
   {
    "duration": 217,
    "start_time": "2021-10-18T13:44:21.326Z"
   },
   {
    "duration": 793,
    "start_time": "2021-10-18T13:44:21.546Z"
   },
   {
    "duration": 533,
    "start_time": "2021-10-18T13:44:22.423Z"
   },
   {
    "duration": 116,
    "start_time": "2021-10-18T13:44:22.959Z"
   },
   {
    "duration": 59,
    "start_time": "2021-10-18T13:44:23.077Z"
   },
   {
    "duration": 8,
    "start_time": "2021-10-18T13:44:23.138Z"
   },
   {
    "duration": 19,
    "start_time": "2021-10-18T13:44:23.149Z"
   },
   {
    "duration": 486,
    "start_time": "2021-10-18T13:44:23.170Z"
   },
   {
    "duration": 622,
    "start_time": "2021-10-18T13:44:23.037Z"
   },
   {
    "duration": 7,
    "start_time": "2021-10-18T14:39:05.927Z"
   },
   {
    "duration": 63,
    "start_time": "2021-10-18T14:39:05.938Z"
   },
   {
    "duration": 5,
    "start_time": "2021-10-18T14:39:06.004Z"
   },
   {
    "duration": 34,
    "start_time": "2021-10-18T14:39:06.012Z"
   },
   {
    "duration": 68,
    "start_time": "2021-10-18T14:39:06.049Z"
   },
   {
    "duration": 9,
    "start_time": "2021-10-18T14:39:06.120Z"
   },
   {
    "duration": 17,
    "start_time": "2021-10-18T14:39:06.131Z"
   },
   {
    "duration": 234,
    "start_time": "2021-10-18T14:39:06.152Z"
   },
   {
    "duration": 7,
    "start_time": "2021-10-18T14:39:06.390Z"
   },
   {
    "duration": 67,
    "start_time": "2021-10-18T14:39:06.400Z"
   },
   {
    "duration": 15,
    "start_time": "2021-10-18T14:39:06.470Z"
   },
   {
    "duration": 36,
    "start_time": "2021-10-18T14:39:06.488Z"
   },
   {
    "duration": 17,
    "start_time": "2021-10-18T14:39:06.526Z"
   },
   {
    "duration": 24,
    "start_time": "2021-10-18T14:39:06.546Z"
   },
   {
    "duration": 10,
    "start_time": "2021-10-18T14:39:06.573Z"
   },
   {
    "duration": 45,
    "start_time": "2021-10-18T14:39:06.585Z"
   },
   {
    "duration": 13,
    "start_time": "2021-10-18T14:39:06.632Z"
   },
   {
    "duration": 10,
    "start_time": "2021-10-18T14:39:06.647Z"
   },
   {
    "duration": 15,
    "start_time": "2021-10-18T14:39:06.659Z"
   },
   {
    "duration": 10,
    "start_time": "2021-10-18T14:39:06.677Z"
   },
   {
    "duration": 51,
    "start_time": "2021-10-18T14:39:06.689Z"
   },
   {
    "duration": 15,
    "start_time": "2021-10-18T14:39:06.743Z"
   },
   {
    "duration": 20,
    "start_time": "2021-10-18T14:39:06.763Z"
   },
   {
    "duration": 250,
    "start_time": "2021-10-18T14:39:06.786Z"
   },
   {
    "duration": 800,
    "start_time": "2021-10-18T14:39:07.039Z"
   },
   {
    "duration": 810,
    "start_time": "2021-10-18T14:39:16.729Z"
   },
   {
    "duration": 519,
    "start_time": "2021-10-18T14:39:19.075Z"
   },
   {
    "duration": 112,
    "start_time": "2021-10-18T14:39:21.898Z"
   },
   {
    "duration": 72,
    "start_time": "2021-10-18T14:39:25.650Z"
   },
   {
    "duration": 16,
    "start_time": "2021-10-18T14:39:49.346Z"
   },
   {
    "duration": 465,
    "start_time": "2021-10-18T14:39:55.796Z"
   },
   {
    "duration": 8,
    "start_time": "2021-10-18T14:41:14.974Z"
   },
   {
    "duration": 17,
    "start_time": "2021-10-18T14:41:24.135Z"
   },
   {
    "duration": 79,
    "start_time": "2021-10-18T14:41:29.444Z"
   },
   {
    "duration": 35,
    "start_time": "2021-10-18T14:50:09.165Z"
   },
   {
    "duration": 73,
    "start_time": "2021-10-18T14:50:41.550Z"
   },
   {
    "duration": 410,
    "start_time": "2021-10-18T14:55:12.835Z"
   },
   {
    "duration": 94,
    "start_time": "2021-10-18T14:58:22.210Z"
   },
   {
    "duration": 42,
    "start_time": "2021-10-18T15:00:16.591Z"
   },
   {
    "duration": 231,
    "start_time": "2021-10-18T15:00:24.537Z"
   },
   {
    "duration": 22,
    "start_time": "2021-10-18T15:02:53.674Z"
   },
   {
    "duration": 329,
    "start_time": "2021-10-18T15:16:55.077Z"
   },
   {
    "duration": 8,
    "start_time": "2021-10-18T15:17:01.801Z"
   },
   {
    "duration": 264,
    "start_time": "2021-10-18T15:17:06.163Z"
   },
   {
    "duration": 325,
    "start_time": "2021-10-18T15:18:34.169Z"
   },
   {
    "duration": 2491,
    "start_time": "2021-10-18T15:27:11.336Z"
   },
   {
    "duration": 3113,
    "start_time": "2021-10-18T15:27:35.592Z"
   },
   {
    "duration": 4949,
    "start_time": "2021-10-18T15:28:00.879Z"
   },
   {
    "duration": 10787,
    "start_time": "2021-10-18T15:28:23.041Z"
   },
   {
    "duration": 3375,
    "start_time": "2021-10-18T15:28:58.160Z"
   },
   {
    "duration": 10,
    "start_time": "2021-10-18T15:29:56.551Z"
   },
   {
    "duration": 42,
    "start_time": "2021-10-18T15:29:56.564Z"
   },
   {
    "duration": 14,
    "start_time": "2021-10-18T15:29:56.610Z"
   },
   {
    "duration": 26,
    "start_time": "2021-10-18T15:29:56.628Z"
   },
   {
    "duration": 113,
    "start_time": "2021-10-18T15:29:56.656Z"
   },
   {
    "duration": 10,
    "start_time": "2021-10-18T15:29:56.771Z"
   },
   {
    "duration": 8,
    "start_time": "2021-10-18T15:29:56.783Z"
   },
   {
    "duration": 241,
    "start_time": "2021-10-18T15:29:56.795Z"
   },
   {
    "duration": 3108,
    "start_time": "2021-10-18T15:29:57.039Z"
   },
   {
    "duration": 6,
    "start_time": "2021-10-18T15:30:00.150Z"
   },
   {
    "duration": 75,
    "start_time": "2021-10-18T15:30:00.159Z"
   },
   {
    "duration": 12,
    "start_time": "2021-10-18T15:30:00.237Z"
   },
   {
    "duration": 18,
    "start_time": "2021-10-18T15:30:00.252Z"
   },
   {
    "duration": 26,
    "start_time": "2021-10-18T15:30:00.272Z"
   },
   {
    "duration": 32,
    "start_time": "2021-10-18T15:30:00.300Z"
   },
   {
    "duration": 10,
    "start_time": "2021-10-18T15:30:00.335Z"
   },
   {
    "duration": 26,
    "start_time": "2021-10-18T15:30:00.348Z"
   },
   {
    "duration": 14,
    "start_time": "2021-10-18T15:30:00.377Z"
   },
   {
    "duration": 29,
    "start_time": "2021-10-18T15:30:00.393Z"
   },
   {
    "duration": 19,
    "start_time": "2021-10-18T15:30:00.426Z"
   },
   {
    "duration": 13,
    "start_time": "2021-10-18T15:30:00.448Z"
   },
   {
    "duration": 30,
    "start_time": "2021-10-18T15:30:00.464Z"
   },
   {
    "duration": 34,
    "start_time": "2021-10-18T15:30:00.501Z"
   },
   {
    "duration": 22,
    "start_time": "2021-10-18T15:30:00.539Z"
   },
   {
    "duration": 246,
    "start_time": "2021-10-18T15:30:00.564Z"
   },
   {
    "duration": 811,
    "start_time": "2021-10-18T15:30:00.813Z"
   },
   {
    "duration": 539,
    "start_time": "2021-10-18T15:30:01.627Z"
   },
   {
    "duration": 122,
    "start_time": "2021-10-18T15:30:02.168Z"
   },
   {
    "duration": 39,
    "start_time": "2021-10-18T15:30:02.292Z"
   },
   {
    "duration": 221,
    "start_time": "2021-10-18T15:30:02.334Z"
   },
   {
    "duration": 9,
    "start_time": "2021-10-18T15:30:02.558Z"
   },
   {
    "duration": 23,
    "start_time": "2021-10-18T15:30:02.570Z"
   },
   {
    "duration": 41,
    "start_time": "2021-10-18T15:30:02.621Z"
   },
   {
    "duration": 184,
    "start_time": "2021-10-18T15:30:02.665Z"
   },
   {
    "duration": 442,
    "start_time": "2021-10-18T15:30:02.922Z"
   },
   {
    "duration": 21,
    "start_time": "2021-10-18T15:30:03.366Z"
   },
   {
    "duration": 289,
    "start_time": "2021-10-18T15:30:03.389Z"
   },
   {
    "duration": 7248,
    "start_time": "2021-10-18T15:32:20.856Z"
   },
   {
    "duration": 260,
    "start_time": "2021-10-18T15:32:51.731Z"
   },
   {
    "duration": 10589,
    "start_time": "2021-10-18T15:33:11.378Z"
   },
   {
    "duration": 914,
    "start_time": "2021-10-18T15:34:38.761Z"
   },
   {
    "duration": 369,
    "start_time": "2021-10-18T15:34:56.481Z"
   },
   {
    "duration": 272,
    "start_time": "2021-10-18T15:35:47.330Z"
   },
   {
    "duration": 278,
    "start_time": "2021-10-18T15:35:58.299Z"
   },
   {
    "duration": 1461,
    "start_time": "2021-10-18T15:36:11.819Z"
   },
   {
    "duration": 1877,
    "start_time": "2021-10-18T15:36:26.212Z"
   },
   {
    "duration": 1912,
    "start_time": "2021-10-18T15:36:44.617Z"
   },
   {
    "duration": 2189,
    "start_time": "2021-10-18T15:40:16.719Z"
   },
   {
    "duration": 265,
    "start_time": "2021-10-18T15:42:38.164Z"
   },
   {
    "duration": 253,
    "start_time": "2021-10-18T15:43:57.980Z"
   },
   {
    "duration": 249,
    "start_time": "2021-10-18T15:45:22.956Z"
   },
   {
    "duration": 7461,
    "start_time": "2021-10-18T15:45:57.725Z"
   },
   {
    "duration": 495,
    "start_time": "2021-10-18T15:46:29.521Z"
   },
   {
    "duration": 515,
    "start_time": "2021-10-18T15:47:07.255Z"
   },
   {
    "duration": 6,
    "start_time": "2021-10-18T17:14:51.815Z"
   },
   {
    "duration": 260,
    "start_time": "2021-10-18T17:15:39.549Z"
   },
   {
    "duration": 251,
    "start_time": "2021-10-18T17:16:06.741Z"
   },
   {
    "duration": 27,
    "start_time": "2021-10-18T17:16:47.279Z"
   },
   {
    "duration": 8,
    "start_time": "2021-10-18T17:17:54.258Z"
   },
   {
    "duration": 10,
    "start_time": "2021-10-18T17:18:07.095Z"
   },
   {
    "duration": 10,
    "start_time": "2021-10-18T17:19:10.847Z"
   },
   {
    "duration": 85,
    "start_time": "2021-10-18T20:04:06.075Z"
   },
   {
    "duration": 285,
    "start_time": "2021-10-18T20:04:23.751Z"
   },
   {
    "duration": 1650,
    "start_time": "2021-10-18T20:04:31.146Z"
   },
   {
    "duration": 28,
    "start_time": "2021-10-18T20:04:32.798Z"
   },
   {
    "duration": 7,
    "start_time": "2021-10-18T20:04:32.829Z"
   },
   {
    "duration": 17,
    "start_time": "2021-10-18T20:04:32.837Z"
   },
   {
    "duration": 38,
    "start_time": "2021-10-18T20:04:32.856Z"
   },
   {
    "duration": 6,
    "start_time": "2021-10-18T20:04:32.895Z"
   },
   {
    "duration": 7,
    "start_time": "2021-10-18T20:04:32.903Z"
   },
   {
    "duration": 145,
    "start_time": "2021-10-18T20:04:32.912Z"
   },
   {
    "duration": 1209,
    "start_time": "2021-10-18T20:04:33.059Z"
   },
   {
    "duration": 4,
    "start_time": "2021-10-18T20:04:34.270Z"
   },
   {
    "duration": 8,
    "start_time": "2021-10-18T20:04:34.276Z"
   },
   {
    "duration": 8,
    "start_time": "2021-10-18T20:04:34.286Z"
   },
   {
    "duration": 57,
    "start_time": "2021-10-18T20:04:34.295Z"
   },
   {
    "duration": 40,
    "start_time": "2021-10-18T20:04:34.354Z"
   },
   {
    "duration": 10,
    "start_time": "2021-10-18T20:04:34.395Z"
   },
   {
    "duration": 7,
    "start_time": "2021-10-18T20:04:34.406Z"
   },
   {
    "duration": 33,
    "start_time": "2021-10-18T20:04:34.415Z"
   },
   {
    "duration": 13,
    "start_time": "2021-10-18T20:04:34.450Z"
   },
   {
    "duration": 7,
    "start_time": "2021-10-18T20:04:34.465Z"
   },
   {
    "duration": 14,
    "start_time": "2021-10-18T20:04:34.474Z"
   },
   {
    "duration": 14,
    "start_time": "2021-10-18T20:04:34.490Z"
   },
   {
    "duration": 16,
    "start_time": "2021-10-18T20:04:34.506Z"
   },
   {
    "duration": 21,
    "start_time": "2021-10-18T20:04:34.525Z"
   },
   {
    "duration": 2,
    "start_time": "2021-10-18T20:04:34.548Z"
   },
   {
    "duration": 19,
    "start_time": "2021-10-18T20:04:34.552Z"
   },
   {
    "duration": 10,
    "start_time": "2021-10-18T20:04:34.572Z"
   },
   {
    "duration": 21,
    "start_time": "2021-10-18T20:04:34.584Z"
   },
   {
    "duration": 144,
    "start_time": "2021-10-18T20:04:34.606Z"
   },
   {
    "duration": 896,
    "start_time": "2021-10-18T20:04:34.752Z"
   },
   {
    "duration": 490,
    "start_time": "2021-10-18T20:04:35.650Z"
   },
   {
    "duration": 82,
    "start_time": "2021-10-18T20:04:36.144Z"
   },
   {
    "duration": 120,
    "start_time": "2021-10-18T20:04:36.228Z"
   },
   {
    "duration": 125,
    "start_time": "2021-10-18T20:04:36.350Z"
   },
   {
    "duration": 6,
    "start_time": "2021-10-18T20:04:36.477Z"
   },
   {
    "duration": 14,
    "start_time": "2021-10-18T20:04:36.485Z"
   },
   {
    "duration": 144,
    "start_time": "2021-10-18T20:04:36.501Z"
   },
   {
    "duration": 113,
    "start_time": "2021-10-18T20:04:36.648Z"
   },
   {
    "duration": 393,
    "start_time": "2021-10-18T20:04:36.764Z"
   },
   {
    "duration": 14,
    "start_time": "2021-10-18T20:04:37.158Z"
   },
   {
    "duration": 172,
    "start_time": "2021-10-18T20:04:37.174Z"
   },
   {
    "duration": 15,
    "start_time": "2021-10-18T20:07:23.459Z"
   },
   {
    "duration": 6,
    "start_time": "2021-10-18T20:14:41.200Z"
   },
   {
    "duration": 30,
    "start_time": "2021-10-18T20:14:41.208Z"
   },
   {
    "duration": 4,
    "start_time": "2021-10-18T20:14:41.240Z"
   },
   {
    "duration": 13,
    "start_time": "2021-10-18T20:14:41.246Z"
   },
   {
    "duration": 40,
    "start_time": "2021-10-18T20:14:41.260Z"
   },
   {
    "duration": 7,
    "start_time": "2021-10-18T20:14:41.301Z"
   },
   {
    "duration": 5,
    "start_time": "2021-10-18T20:14:41.345Z"
   },
   {
    "duration": 138,
    "start_time": "2021-10-18T20:14:41.352Z"
   },
   {
    "duration": 1161,
    "start_time": "2021-10-18T20:14:41.492Z"
   },
   {
    "duration": 4,
    "start_time": "2021-10-18T20:14:42.654Z"
   },
   {
    "duration": 13,
    "start_time": "2021-10-18T20:14:42.660Z"
   },
   {
    "duration": 5,
    "start_time": "2021-10-18T20:14:42.674Z"
   },
   {
    "duration": 34,
    "start_time": "2021-10-18T20:14:42.681Z"
   },
   {
    "duration": 34,
    "start_time": "2021-10-18T20:14:42.717Z"
   },
   {
    "duration": 6,
    "start_time": "2021-10-18T20:14:42.753Z"
   },
   {
    "duration": 7,
    "start_time": "2021-10-18T20:14:42.761Z"
   },
   {
    "duration": 22,
    "start_time": "2021-10-18T20:14:42.769Z"
   },
   {
    "duration": 7,
    "start_time": "2021-10-18T20:14:42.793Z"
   },
   {
    "duration": 11,
    "start_time": "2021-10-18T20:14:42.801Z"
   },
   {
    "duration": 8,
    "start_time": "2021-10-18T20:14:42.845Z"
   },
   {
    "duration": 4,
    "start_time": "2021-10-18T20:14:42.855Z"
   },
   {
    "duration": 19,
    "start_time": "2021-10-18T20:14:42.861Z"
   },
   {
    "duration": 6,
    "start_time": "2021-10-18T20:14:42.883Z"
   },
   {
    "duration": 19,
    "start_time": "2021-10-18T20:14:42.891Z"
   },
   {
    "duration": 11,
    "start_time": "2021-10-18T20:14:42.912Z"
   },
   {
    "duration": 29,
    "start_time": "2021-10-18T20:14:42.925Z"
   },
   {
    "duration": 145,
    "start_time": "2021-10-18T20:14:42.956Z"
   },
   {
    "duration": 48,
    "start_time": "2021-10-18T20:14:43.103Z"
   },
   {
    "duration": 193,
    "start_time": "2021-10-18T20:14:43.153Z"
   },
   {
    "duration": 6,
    "start_time": "2021-10-18T20:14:43.348Z"
   },
   {
    "duration": 13,
    "start_time": "2021-10-18T20:14:43.355Z"
   },
   {
    "duration": 76,
    "start_time": "2021-10-18T20:14:43.369Z"
   },
   {
    "duration": 114,
    "start_time": "2021-10-18T20:14:43.448Z"
   },
   {
    "duration": 393,
    "start_time": "2021-10-18T20:14:43.565Z"
   },
   {
    "duration": 14,
    "start_time": "2021-10-18T20:14:43.960Z"
   },
   {
    "duration": 183,
    "start_time": "2021-10-18T20:14:43.976Z"
   },
   {
    "duration": 629,
    "start_time": "2021-10-18T20:15:03.624Z"
   },
   {
    "duration": 307,
    "start_time": "2021-10-18T20:15:05.698Z"
   },
   {
    "duration": 712,
    "start_time": "2021-10-18T20:16:11.645Z"
   },
   {
    "duration": 409,
    "start_time": "2021-10-18T20:16:38.034Z"
   },
   {
    "duration": 770,
    "start_time": "2021-10-18T20:22:12.915Z"
   },
   {
    "duration": 89,
    "start_time": "2021-10-18T20:29:40.227Z"
   },
   {
    "duration": 3,
    "start_time": "2021-10-18T20:32:57.604Z"
   },
   {
    "duration": 1131,
    "start_time": "2021-10-18T20:36:00.132Z"
   },
   {
    "duration": 11,
    "start_time": "2021-10-18T20:37:19.253Z"
   },
   {
    "duration": 1026,
    "start_time": "2021-10-18T20:37:33.853Z"
   },
   {
    "duration": 10,
    "start_time": "2021-10-18T20:37:36.532Z"
   },
   {
    "duration": 147,
    "start_time": "2021-10-18T20:39:53.551Z"
   },
   {
    "duration": 13,
    "start_time": "2021-10-18T20:46:50.334Z"
   },
   {
    "duration": 382,
    "start_time": "2021-10-18T20:56:24.142Z"
   },
   {
    "duration": 6,
    "start_time": "2021-10-18T20:56:31.980Z"
   },
   {
    "duration": 9,
    "start_time": "2021-10-18T20:56:37.475Z"
   },
   {
    "duration": 157,
    "start_time": "2021-10-18T20:56:39.961Z"
   },
   {
    "duration": 7,
    "start_time": "2021-10-18T20:56:53.976Z"
   },
   {
    "duration": 13,
    "start_time": "2021-10-18T20:59:27.275Z"
   },
   {
    "duration": 6,
    "start_time": "2021-10-18T21:02:32.053Z"
   },
   {
    "duration": 32,
    "start_time": "2021-10-18T21:02:32.061Z"
   },
   {
    "duration": 3,
    "start_time": "2021-10-18T21:02:32.095Z"
   },
   {
    "duration": 13,
    "start_time": "2021-10-18T21:02:32.100Z"
   },
   {
    "duration": 55,
    "start_time": "2021-10-18T21:02:32.114Z"
   },
   {
    "duration": 9,
    "start_time": "2021-10-18T21:02:32.172Z"
   },
   {
    "duration": 5,
    "start_time": "2021-10-18T21:02:32.187Z"
   },
   {
    "duration": 141,
    "start_time": "2021-10-18T21:02:32.195Z"
   },
   {
    "duration": 1336,
    "start_time": "2021-10-18T21:02:32.343Z"
   },
   {
    "duration": 4,
    "start_time": "2021-10-18T21:02:33.680Z"
   },
   {
    "duration": 8,
    "start_time": "2021-10-18T21:02:33.686Z"
   },
   {
    "duration": 4,
    "start_time": "2021-10-18T21:02:33.695Z"
   },
   {
    "duration": 53,
    "start_time": "2021-10-18T21:02:33.701Z"
   },
   {
    "duration": 9,
    "start_time": "2021-10-18T21:02:33.756Z"
   },
   {
    "duration": 6,
    "start_time": "2021-10-18T21:02:33.767Z"
   },
   {
    "duration": 8,
    "start_time": "2021-10-18T21:02:33.775Z"
   },
   {
    "duration": 13,
    "start_time": "2021-10-18T21:02:33.784Z"
   },
   {
    "duration": 11,
    "start_time": "2021-10-18T21:02:33.799Z"
   },
   {
    "duration": 11,
    "start_time": "2021-10-18T21:02:33.844Z"
   },
   {
    "duration": 12,
    "start_time": "2021-10-18T21:02:33.857Z"
   },
   {
    "duration": 7,
    "start_time": "2021-10-18T21:02:33.870Z"
   },
   {
    "duration": 10,
    "start_time": "2021-10-18T21:02:33.879Z"
   },
   {
    "duration": 15,
    "start_time": "2021-10-18T21:02:33.892Z"
   },
   {
    "duration": 19,
    "start_time": "2021-10-18T21:02:33.909Z"
   },
   {
    "duration": 11,
    "start_time": "2021-10-18T21:02:33.944Z"
   },
   {
    "duration": 12,
    "start_time": "2021-10-18T21:02:33.957Z"
   },
   {
    "duration": 130,
    "start_time": "2021-10-18T21:02:33.971Z"
   },
   {
    "duration": 44,
    "start_time": "2021-10-18T21:02:34.103Z"
   },
   {
    "duration": 199,
    "start_time": "2021-10-18T21:02:34.149Z"
   },
   {
    "duration": 6,
    "start_time": "2021-10-18T21:02:34.350Z"
   },
   {
    "duration": 19,
    "start_time": "2021-10-18T21:02:34.357Z"
   },
   {
    "duration": 66,
    "start_time": "2021-10-18T21:02:34.377Z"
   },
   {
    "duration": 119,
    "start_time": "2021-10-18T21:02:34.446Z"
   },
   {
    "duration": 328,
    "start_time": "2021-10-18T21:02:34.567Z"
   },
   {
    "duration": 15,
    "start_time": "2021-10-18T21:02:34.897Z"
   },
   {
    "duration": 171,
    "start_time": "2021-10-18T21:02:34.914Z"
   },
   {
    "duration": 672,
    "start_time": "2021-10-18T21:02:35.087Z"
   },
   {
    "duration": 574,
    "start_time": "2021-10-18T21:02:35.762Z"
   },
   {
    "duration": 108,
    "start_time": "2021-10-18T21:02:36.338Z"
   },
   {
    "duration": 4,
    "start_time": "2021-10-18T21:02:36.447Z"
   },
   {
    "duration": 1039,
    "start_time": "2021-10-18T21:02:36.453Z"
   },
   {
    "duration": 11,
    "start_time": "2021-10-18T21:02:37.494Z"
   },
   {
    "duration": 9,
    "start_time": "2021-10-18T21:02:37.506Z"
   },
   {
    "duration": 162,
    "start_time": "2021-10-18T21:02:37.516Z"
   },
   {
    "duration": 7,
    "start_time": "2021-10-18T21:02:37.679Z"
   },
   {
    "duration": 12,
    "start_time": "2021-10-18T21:02:37.687Z"
   },
   {
    "duration": 1527,
    "start_time": "2021-10-18T21:03:29.808Z"
   },
   {
    "duration": 28,
    "start_time": "2021-10-18T21:03:31.336Z"
   },
   {
    "duration": 5,
    "start_time": "2021-10-18T21:03:31.366Z"
   },
   {
    "duration": 22,
    "start_time": "2021-10-18T21:03:31.373Z"
   },
   {
    "duration": 41,
    "start_time": "2021-10-18T21:03:31.396Z"
   },
   {
    "duration": 5,
    "start_time": "2021-10-18T21:03:31.439Z"
   },
   {
    "duration": 22,
    "start_time": "2021-10-18T21:03:31.446Z"
   },
   {
    "duration": 125,
    "start_time": "2021-10-18T21:03:31.470Z"
   },
   {
    "duration": 1252,
    "start_time": "2021-10-18T21:03:31.597Z"
   },
   {
    "duration": 4,
    "start_time": "2021-10-18T21:03:32.851Z"
   },
   {
    "duration": 10,
    "start_time": "2021-10-18T21:03:32.856Z"
   },
   {
    "duration": 7,
    "start_time": "2021-10-18T21:03:32.867Z"
   },
   {
    "duration": 36,
    "start_time": "2021-10-18T21:03:32.876Z"
   },
   {
    "duration": 7,
    "start_time": "2021-10-18T21:03:32.913Z"
   },
   {
    "duration": 24,
    "start_time": "2021-10-18T21:03:32.921Z"
   },
   {
    "duration": 6,
    "start_time": "2021-10-18T21:03:32.946Z"
   },
   {
    "duration": 16,
    "start_time": "2021-10-18T21:03:32.953Z"
   },
   {
    "duration": 6,
    "start_time": "2021-10-18T21:03:32.970Z"
   },
   {
    "duration": 10,
    "start_time": "2021-10-18T21:03:32.978Z"
   },
   {
    "duration": 7,
    "start_time": "2021-10-18T21:03:32.989Z"
   },
   {
    "duration": 6,
    "start_time": "2021-10-18T21:03:32.997Z"
   },
   {
    "duration": 8,
    "start_time": "2021-10-18T21:03:33.004Z"
   },
   {
    "duration": 3,
    "start_time": "2021-10-18T21:03:33.044Z"
   },
   {
    "duration": 20,
    "start_time": "2021-10-18T21:03:33.049Z"
   },
   {
    "duration": 11,
    "start_time": "2021-10-18T21:03:33.070Z"
   },
   {
    "duration": 14,
    "start_time": "2021-10-18T21:03:33.083Z"
   },
   {
    "duration": 145,
    "start_time": "2021-10-18T21:03:33.099Z"
   },
   {
    "duration": 27,
    "start_time": "2021-10-18T21:03:33.246Z"
   },
   {
    "duration": 192,
    "start_time": "2021-10-18T21:03:33.275Z"
   },
   {
    "duration": 5,
    "start_time": "2021-10-18T21:03:33.469Z"
   },
   {
    "duration": 12,
    "start_time": "2021-10-18T21:03:33.476Z"
   },
   {
    "duration": 59,
    "start_time": "2021-10-18T21:03:33.490Z"
   },
   {
    "duration": 109,
    "start_time": "2021-10-18T21:03:33.551Z"
   },
   {
    "duration": 333,
    "start_time": "2021-10-18T21:03:33.662Z"
   },
   {
    "duration": 14,
    "start_time": "2021-10-18T21:03:33.997Z"
   },
   {
    "duration": 169,
    "start_time": "2021-10-18T21:03:34.013Z"
   },
   {
    "duration": 674,
    "start_time": "2021-10-18T21:03:34.184Z"
   },
   {
    "duration": 580,
    "start_time": "2021-10-18T21:03:34.860Z"
   },
   {
    "duration": 93,
    "start_time": "2021-10-18T21:03:35.444Z"
   },
   {
    "duration": 2,
    "start_time": "2021-10-18T21:03:35.545Z"
   },
   {
    "duration": 1040,
    "start_time": "2021-10-18T21:03:35.549Z"
   },
   {
    "duration": 11,
    "start_time": "2021-10-18T21:03:36.591Z"
   },
   {
    "duration": 9,
    "start_time": "2021-10-18T21:03:36.603Z"
   },
   {
    "duration": 163,
    "start_time": "2021-10-18T21:03:36.614Z"
   },
   {
    "duration": 6,
    "start_time": "2021-10-18T21:03:36.779Z"
   },
   {
    "duration": 16,
    "start_time": "2021-10-18T21:03:36.786Z"
   },
   {
    "duration": 85,
    "start_time": "2021-10-18T21:28:58.541Z"
   },
   {
    "duration": 11,
    "start_time": "2021-10-18T21:29:15.198Z"
   },
   {
    "duration": 52,
    "start_time": "2021-10-18T21:29:51.846Z"
   },
   {
    "duration": 10,
    "start_time": "2021-10-18T21:29:55.299Z"
   },
   {
    "duration": 8,
    "start_time": "2021-10-18T21:30:09.315Z"
   },
   {
    "duration": 146,
    "start_time": "2021-10-18T21:30:09.325Z"
   },
   {
    "duration": 8,
    "start_time": "2021-10-18T21:30:09.473Z"
   },
   {
    "duration": 11,
    "start_time": "2021-10-18T21:30:09.482Z"
   },
   {
    "duration": 3,
    "start_time": "2021-10-18T21:32:07.883Z"
   },
   {
    "duration": 2947,
    "start_time": "2021-10-18T21:32:16.358Z"
   },
   {
    "duration": 12,
    "start_time": "2021-10-18T21:32:32.359Z"
   },
   {
    "duration": 13,
    "start_time": "2021-10-18T21:32:52.464Z"
   },
   {
    "duration": 49,
    "start_time": "2021-10-18T21:34:28.111Z"
   },
   {
    "duration": 9,
    "start_time": "2021-10-18T21:34:31.338Z"
   },
   {
    "duration": 12,
    "start_time": "2021-10-18T21:34:42.727Z"
   },
   {
    "duration": 2073,
    "start_time": "2021-10-19T08:31:39.417Z"
   },
   {
    "duration": 360,
    "start_time": "2021-10-19T08:31:41.492Z"
   },
   {
    "duration": 8,
    "start_time": "2021-10-19T08:31:41.854Z"
   },
   {
    "duration": 22,
    "start_time": "2021-10-19T08:31:41.864Z"
   },
   {
    "duration": 70,
    "start_time": "2021-10-19T08:31:41.888Z"
   },
   {
    "duration": 8,
    "start_time": "2021-10-19T08:31:41.961Z"
   },
   {
    "duration": 8,
    "start_time": "2021-10-19T08:31:41.972Z"
   },
   {
    "duration": 240,
    "start_time": "2021-10-19T08:31:42.001Z"
   },
   {
    "duration": 2296,
    "start_time": "2021-10-19T08:31:42.245Z"
   },
   {
    "duration": 7,
    "start_time": "2021-10-19T08:31:44.543Z"
   },
   {
    "duration": 11,
    "start_time": "2021-10-19T08:31:44.552Z"
   },
   {
    "duration": 35,
    "start_time": "2021-10-19T08:31:44.566Z"
   },
   {
    "duration": 62,
    "start_time": "2021-10-19T08:31:44.604Z"
   },
   {
    "duration": 12,
    "start_time": "2021-10-19T08:31:44.668Z"
   },
   {
    "duration": 28,
    "start_time": "2021-10-19T08:31:44.682Z"
   },
   {
    "duration": 11,
    "start_time": "2021-10-19T08:31:44.712Z"
   },
   {
    "duration": 23,
    "start_time": "2021-10-19T08:31:44.725Z"
   },
   {
    "duration": 9,
    "start_time": "2021-10-19T08:31:44.751Z"
   },
   {
    "duration": 54,
    "start_time": "2021-10-19T08:31:44.763Z"
   },
   {
    "duration": 16,
    "start_time": "2021-10-19T08:31:44.820Z"
   },
   {
    "duration": 5,
    "start_time": "2021-10-19T08:31:44.838Z"
   },
   {
    "duration": 17,
    "start_time": "2021-10-19T08:31:44.845Z"
   },
   {
    "duration": 5,
    "start_time": "2021-10-19T08:31:44.868Z"
   },
   {
    "duration": 52,
    "start_time": "2021-10-19T08:31:44.875Z"
   },
   {
    "duration": 18,
    "start_time": "2021-10-19T08:31:44.929Z"
   },
   {
    "duration": 22,
    "start_time": "2021-10-19T08:31:44.950Z"
   },
   {
    "duration": 275,
    "start_time": "2021-10-19T08:31:44.975Z"
   },
   {
    "duration": 63,
    "start_time": "2021-10-19T08:31:45.253Z"
   },
   {
    "duration": 114,
    "start_time": "2021-10-19T08:31:45.401Z"
   },
   {
    "duration": 9,
    "start_time": "2021-10-19T08:31:45.519Z"
   },
   {
    "duration": 19,
    "start_time": "2021-10-19T08:31:45.530Z"
   },
   {
    "duration": 153,
    "start_time": "2021-10-19T08:31:45.552Z"
   },
   {
    "duration": 129,
    "start_time": "2021-10-19T08:31:45.708Z"
   },
   {
    "duration": 349,
    "start_time": "2021-10-19T08:31:45.902Z"
   },
   {
    "duration": 24,
    "start_time": "2021-10-19T08:31:46.254Z"
   },
   {
    "duration": 311,
    "start_time": "2021-10-19T08:31:46.281Z"
   },
   {
    "duration": 809,
    "start_time": "2021-10-19T08:31:46.594Z"
   },
   {
    "duration": 779,
    "start_time": "2021-10-19T08:31:47.408Z"
   },
   {
    "duration": 173,
    "start_time": "2021-10-19T08:31:48.189Z"
   },
   {
    "duration": 4,
    "start_time": "2021-10-19T08:31:48.364Z"
   },
   {
    "duration": 9,
    "start_time": "2021-10-19T08:31:48.370Z"
   },
   {
    "duration": 100,
    "start_time": "2021-10-19T08:31:48.381Z"
   },
   {
    "duration": 24,
    "start_time": "2021-10-19T08:31:48.483Z"
   },
   {
    "duration": 11,
    "start_time": "2021-10-19T08:31:48.509Z"
   },
   {
    "duration": 292,
    "start_time": "2021-10-19T08:31:48.523Z"
   },
   {
    "duration": 9,
    "start_time": "2021-10-19T08:31:48.818Z"
   },
   {
    "duration": 16,
    "start_time": "2021-10-19T08:31:48.830Z"
   },
   {
    "duration": 13,
    "start_time": "2021-10-19T08:35:52.000Z"
   },
   {
    "duration": 8,
    "start_time": "2021-10-19T08:56:59.723Z"
   },
   {
    "duration": 42,
    "start_time": "2021-10-19T08:56:59.734Z"
   },
   {
    "duration": 5,
    "start_time": "2021-10-19T08:56:59.779Z"
   },
   {
    "duration": 39,
    "start_time": "2021-10-19T08:56:59.787Z"
   },
   {
    "duration": 63,
    "start_time": "2021-10-19T08:56:59.829Z"
   },
   {
    "duration": 16,
    "start_time": "2021-10-19T08:56:59.894Z"
   },
   {
    "duration": 9,
    "start_time": "2021-10-19T08:56:59.916Z"
   },
   {
    "duration": 256,
    "start_time": "2021-10-19T08:56:59.928Z"
   },
   {
    "duration": 2246,
    "start_time": "2021-10-19T08:57:00.188Z"
   },
   {
    "duration": 5,
    "start_time": "2021-10-19T08:57:02.436Z"
   },
   {
    "duration": 15,
    "start_time": "2021-10-19T08:57:02.444Z"
   },
   {
    "duration": 25,
    "start_time": "2021-10-19T08:57:02.462Z"
   },
   {
    "duration": 74,
    "start_time": "2021-10-19T08:57:02.489Z"
   },
   {
    "duration": 12,
    "start_time": "2021-10-19T08:57:02.565Z"
   },
   {
    "duration": 30,
    "start_time": "2021-10-19T08:57:02.580Z"
   },
   {
    "duration": 10,
    "start_time": "2021-10-19T08:57:02.613Z"
   },
   {
    "duration": 12,
    "start_time": "2021-10-19T08:57:10.603Z"
   },
   {
    "duration": 9474,
    "start_time": "2021-10-19T08:57:12.662Z"
   },
   {
    "duration": -101,
    "start_time": "2021-10-19T08:57:22.241Z"
   },
   {
    "duration": -102,
    "start_time": "2021-10-19T08:57:22.244Z"
   },
   {
    "duration": -102,
    "start_time": "2021-10-19T08:57:22.246Z"
   },
   {
    "duration": 38,
    "start_time": "2021-10-19T09:01:16.705Z"
   },
   {
    "duration": 17,
    "start_time": "2021-10-19T09:01:25.817Z"
   },
   {
    "duration": 24,
    "start_time": "2021-10-19T09:02:27.498Z"
   },
   {
    "duration": 111,
    "start_time": "2021-10-19T09:03:08.961Z"
   },
   {
    "duration": 9,
    "start_time": "2021-10-19T09:03:19.643Z"
   },
   {
    "duration": 9,
    "start_time": "2021-10-19T09:03:46.257Z"
   },
   {
    "duration": 12,
    "start_time": "2021-10-19T09:04:15.132Z"
   },
   {
    "duration": 11,
    "start_time": "2021-10-19T09:05:38.558Z"
   },
   {
    "duration": 57,
    "start_time": "2021-10-19T09:05:38.573Z"
   },
   {
    "duration": 5,
    "start_time": "2021-10-19T09:05:38.633Z"
   },
   {
    "duration": 20,
    "start_time": "2021-10-19T09:05:38.640Z"
   },
   {
    "duration": 82,
    "start_time": "2021-10-19T09:05:38.663Z"
   },
   {
    "duration": 11,
    "start_time": "2021-10-19T09:05:38.748Z"
   },
   {
    "duration": 8,
    "start_time": "2021-10-19T09:05:38.762Z"
   },
   {
    "duration": 272,
    "start_time": "2021-10-19T09:05:38.772Z"
   },
   {
    "duration": 2272,
    "start_time": "2021-10-19T09:05:39.049Z"
   },
   {
    "duration": 6,
    "start_time": "2021-10-19T09:05:41.326Z"
   },
   {
    "duration": 17,
    "start_time": "2021-10-19T09:05:41.336Z"
   },
   {
    "duration": 12,
    "start_time": "2021-10-19T09:05:41.356Z"
   },
   {
    "duration": 86,
    "start_time": "2021-10-19T09:05:41.371Z"
   },
   {
    "duration": 12,
    "start_time": "2021-10-19T09:05:41.459Z"
   },
   {
    "duration": 30,
    "start_time": "2021-10-19T09:05:41.474Z"
   },
   {
    "duration": 9,
    "start_time": "2021-10-19T09:05:41.507Z"
   },
   {
    "duration": 43,
    "start_time": "2021-10-19T09:05:41.518Z"
   },
   {
    "duration": 38,
    "start_time": "2021-10-19T09:05:41.563Z"
   },
   {
    "duration": 8,
    "start_time": "2021-10-19T09:05:41.604Z"
   },
   {
    "duration": 26,
    "start_time": "2021-10-19T09:05:41.617Z"
   },
   {
    "duration": 9,
    "start_time": "2021-10-19T09:05:41.645Z"
   },
   {
    "duration": 7,
    "start_time": "2021-10-19T09:05:41.657Z"
   },
   {
    "duration": 10,
    "start_time": "2021-10-19T09:05:41.706Z"
   },
   {
    "duration": 5,
    "start_time": "2021-10-19T09:05:41.720Z"
   },
   {
    "duration": 12,
    "start_time": "2021-10-19T09:05:41.727Z"
   },
   {
    "duration": 8,
    "start_time": "2021-10-19T09:05:41.742Z"
   },
   {
    "duration": 60,
    "start_time": "2021-10-19T09:05:41.756Z"
   },
   {
    "duration": 19,
    "start_time": "2021-10-19T09:05:41.819Z"
   },
   {
    "duration": 16,
    "start_time": "2021-10-19T09:05:41.842Z"
   },
   {
    "duration": 254,
    "start_time": "2021-10-19T09:05:41.861Z"
   },
   {
    "duration": 184,
    "start_time": "2021-10-19T09:05:42.118Z"
   },
   {
    "duration": 48,
    "start_time": "2021-10-19T09:05:42.308Z"
   },
   {
    "duration": 8,
    "start_time": "2021-10-19T09:05:42.359Z"
   },
   {
    "duration": 9,
    "start_time": "2021-10-19T09:06:08.937Z"
   },
   {
    "duration": 44,
    "start_time": "2021-10-19T09:06:08.948Z"
   },
   {
    "duration": 5,
    "start_time": "2021-10-19T09:06:08.995Z"
   },
   {
    "duration": 21,
    "start_time": "2021-10-19T09:06:09.008Z"
   },
   {
    "duration": 105,
    "start_time": "2021-10-19T09:06:09.032Z"
   },
   {
    "duration": 10,
    "start_time": "2021-10-19T09:06:09.140Z"
   },
   {
    "duration": 7,
    "start_time": "2021-10-19T09:06:09.153Z"
   },
   {
    "duration": 367,
    "start_time": "2021-10-19T09:06:09.167Z"
   },
   {
    "duration": 2782,
    "start_time": "2021-10-19T09:06:09.539Z"
   },
   {
    "duration": 6,
    "start_time": "2021-10-19T09:06:12.324Z"
   },
   {
    "duration": 18,
    "start_time": "2021-10-19T09:06:12.333Z"
   },
   {
    "duration": 16,
    "start_time": "2021-10-19T09:06:12.355Z"
   },
   {
    "duration": 89,
    "start_time": "2021-10-19T09:06:12.374Z"
   },
   {
    "duration": 13,
    "start_time": "2021-10-19T09:06:12.466Z"
   },
   {
    "duration": 20,
    "start_time": "2021-10-19T09:06:12.500Z"
   },
   {
    "duration": 9,
    "start_time": "2021-10-19T09:06:12.523Z"
   },
   {
    "duration": 44,
    "start_time": "2021-10-19T09:06:12.535Z"
   },
   {
    "duration": 3,
    "start_time": "2021-10-19T09:06:12.581Z"
   },
   {
    "duration": 4,
    "start_time": "2021-10-19T09:06:12.613Z"
   },
   {
    "duration": 25,
    "start_time": "2021-10-19T09:06:12.619Z"
   },
   {
    "duration": 10,
    "start_time": "2021-10-19T09:06:12.647Z"
   },
   {
    "duration": 10,
    "start_time": "2021-10-19T09:06:12.660Z"
   },
   {
    "duration": 11,
    "start_time": "2021-10-19T09:06:12.713Z"
   },
   {
    "duration": 5,
    "start_time": "2021-10-19T09:06:12.727Z"
   },
   {
    "duration": 16,
    "start_time": "2021-10-19T09:06:12.735Z"
   },
   {
    "duration": 24,
    "start_time": "2021-10-19T09:06:12.754Z"
   },
   {
    "duration": 31,
    "start_time": "2021-10-19T09:06:12.781Z"
   },
   {
    "duration": 23,
    "start_time": "2021-10-19T09:06:12.814Z"
   },
   {
    "duration": 22,
    "start_time": "2021-10-19T09:06:12.840Z"
   },
   {
    "duration": 253,
    "start_time": "2021-10-19T09:06:12.865Z"
   },
   {
    "duration": 85,
    "start_time": "2021-10-19T09:06:13.120Z"
   },
   {
    "duration": 142,
    "start_time": "2021-10-19T09:06:13.212Z"
   },
   {
    "duration": 11,
    "start_time": "2021-10-19T09:06:13.358Z"
   },
   {
    "duration": 39,
    "start_time": "2021-10-19T09:06:13.372Z"
   },
   {
    "duration": 188,
    "start_time": "2021-10-19T09:06:13.414Z"
   },
   {
    "duration": 13,
    "start_time": "2021-10-19T09:06:29.495Z"
   },
   {
    "duration": 657,
    "start_time": "2021-10-19T09:06:29.511Z"
   },
   {
    "duration": 5,
    "start_time": "2021-10-19T09:06:30.171Z"
   },
   {
    "duration": 18,
    "start_time": "2021-10-19T09:06:30.179Z"
   },
   {
    "duration": 69,
    "start_time": "2021-10-19T09:06:30.200Z"
   },
   {
    "duration": 8,
    "start_time": "2021-10-19T09:06:30.272Z"
   },
   {
    "duration": 10,
    "start_time": "2021-10-19T09:06:30.301Z"
   },
   {
    "duration": 233,
    "start_time": "2021-10-19T09:06:30.314Z"
   },
   {
    "duration": 2361,
    "start_time": "2021-10-19T09:06:30.553Z"
   },
   {
    "duration": 5,
    "start_time": "2021-10-19T09:06:32.919Z"
   },
   {
    "duration": 19,
    "start_time": "2021-10-19T09:06:32.926Z"
   },
   {
    "duration": 9,
    "start_time": "2021-10-19T09:06:32.948Z"
   },
   {
    "duration": 77,
    "start_time": "2021-10-19T09:06:32.960Z"
   },
   {
    "duration": 13,
    "start_time": "2021-10-19T09:06:33.039Z"
   },
   {
    "duration": 22,
    "start_time": "2021-10-19T09:06:33.054Z"
   },
   {
    "duration": 26,
    "start_time": "2021-10-19T09:06:33.079Z"
   },
   {
    "duration": 35,
    "start_time": "2021-10-19T09:06:33.113Z"
   },
   {
    "duration": 3,
    "start_time": "2021-10-19T09:06:33.151Z"
   },
   {
    "duration": 22,
    "start_time": "2021-10-19T09:06:33.157Z"
   },
   {
    "duration": 38,
    "start_time": "2021-10-19T09:06:33.181Z"
   },
   {
    "duration": 10,
    "start_time": "2021-10-19T09:06:33.223Z"
   },
   {
    "duration": 21,
    "start_time": "2021-10-19T09:06:33.236Z"
   },
   {
    "duration": 12,
    "start_time": "2021-10-19T09:06:33.259Z"
   },
   {
    "duration": 27,
    "start_time": "2021-10-19T09:06:33.273Z"
   },
   {
    "duration": 26,
    "start_time": "2021-10-19T09:06:33.303Z"
   },
   {
    "duration": 21,
    "start_time": "2021-10-19T09:06:33.331Z"
   },
   {
    "duration": 35,
    "start_time": "2021-10-19T09:06:33.357Z"
   },
   {
    "duration": 26,
    "start_time": "2021-10-19T09:06:33.395Z"
   },
   {
    "duration": 15,
    "start_time": "2021-10-19T09:06:33.423Z"
   },
   {
    "duration": 248,
    "start_time": "2021-10-19T09:06:33.440Z"
   },
   {
    "duration": 120,
    "start_time": "2021-10-19T09:06:33.691Z"
   },
   {
    "duration": 127,
    "start_time": "2021-10-19T09:06:33.818Z"
   },
   {
    "duration": 8,
    "start_time": "2021-10-19T09:06:33.948Z"
   },
   {
    "duration": 50,
    "start_time": "2021-10-19T09:06:33.958Z"
   },
   {
    "duration": 92,
    "start_time": "2021-10-19T09:06:34.010Z"
   },
   {
    "duration": 140,
    "start_time": "2021-10-19T09:06:34.106Z"
   },
   {
    "duration": 385,
    "start_time": "2021-10-19T09:06:34.302Z"
   },
   {
    "duration": 930,
    "start_time": "2021-10-19T09:07:23.371Z"
   },
   {
    "duration": 672,
    "start_time": "2021-10-19T09:07:27.565Z"
   },
   {
    "duration": 166,
    "start_time": "2021-10-19T09:07:38.873Z"
   },
   {
    "duration": 4,
    "start_time": "2021-10-19T09:07:47.587Z"
   },
   {
    "duration": 2,
    "start_time": "2021-10-19T09:07:49.892Z"
   },
   {
    "duration": 86,
    "start_time": "2021-10-19T09:07:52.514Z"
   },
   {
    "duration": 13,
    "start_time": "2021-10-19T09:08:01.778Z"
   },
   {
    "duration": 9,
    "start_time": "2021-10-19T09:08:06.090Z"
   },
   {
    "duration": 261,
    "start_time": "2021-10-19T09:08:09.049Z"
   },
   {
    "duration": 10,
    "start_time": "2021-10-19T09:08:10.874Z"
   },
   {
    "duration": 17,
    "start_time": "2021-10-19T09:08:21.251Z"
   },
   {
    "duration": 4831,
    "start_time": "2021-10-19T09:09:20.196Z"
   },
   {
    "duration": 25,
    "start_time": "2021-10-19T09:09:42.403Z"
   },
   {
    "duration": 16,
    "start_time": "2021-10-19T09:09:45.715Z"
   },
   {
    "duration": 264,
    "start_time": "2021-10-19T09:09:48.467Z"
   },
   {
    "duration": 11,
    "start_time": "2021-10-19T09:09:53.060Z"
   },
   {
    "duration": 20,
    "start_time": "2021-10-19T09:09:57.450Z"
   },
   {
    "duration": 134,
    "start_time": "2021-10-19T09:33:31.668Z"
   },
   {
    "duration": 224,
    "start_time": "2021-10-19T09:35:37.908Z"
   },
   {
    "duration": 238,
    "start_time": "2021-10-19T09:35:47.646Z"
   },
   {
    "duration": 8,
    "start_time": "2021-10-19T09:43:16.374Z"
   },
   {
    "duration": 43,
    "start_time": "2021-10-19T09:43:16.385Z"
   },
   {
    "duration": 5,
    "start_time": "2021-10-19T09:43:16.430Z"
   },
   {
    "duration": 21,
    "start_time": "2021-10-19T09:43:16.437Z"
   },
   {
    "duration": 93,
    "start_time": "2021-10-19T09:43:16.460Z"
   },
   {
    "duration": 9,
    "start_time": "2021-10-19T09:43:16.556Z"
   },
   {
    "duration": 39,
    "start_time": "2021-10-19T09:43:16.567Z"
   },
   {
    "duration": 224,
    "start_time": "2021-10-19T09:43:16.610Z"
   },
   {
    "duration": 2335,
    "start_time": "2021-10-19T09:43:16.837Z"
   },
   {
    "duration": 6,
    "start_time": "2021-10-19T09:43:19.175Z"
   },
   {
    "duration": 228,
    "start_time": "2021-10-19T09:43:19.183Z"
   },
   {
    "duration": 6,
    "start_time": "2021-10-19T09:43:19.414Z"
   },
   {
    "duration": 54,
    "start_time": "2021-10-19T09:43:19.423Z"
   },
   {
    "duration": 18,
    "start_time": "2021-10-19T09:43:19.500Z"
   },
   {
    "duration": 8,
    "start_time": "2021-10-19T09:43:19.521Z"
   },
   {
    "duration": 12,
    "start_time": "2021-10-19T09:43:19.531Z"
   },
   {
    "duration": 68,
    "start_time": "2021-10-19T09:43:19.546Z"
   },
   {
    "duration": 3,
    "start_time": "2021-10-19T09:43:19.617Z"
   },
   {
    "duration": 9,
    "start_time": "2021-10-19T09:43:19.622Z"
   },
   {
    "duration": 23,
    "start_time": "2021-10-19T09:43:19.633Z"
   },
   {
    "duration": 13,
    "start_time": "2021-10-19T09:43:19.659Z"
   },
   {
    "duration": 40,
    "start_time": "2021-10-19T09:43:19.675Z"
   },
   {
    "duration": 10,
    "start_time": "2021-10-19T09:43:19.721Z"
   },
   {
    "duration": 7,
    "start_time": "2021-10-19T09:43:19.734Z"
   },
   {
    "duration": 12,
    "start_time": "2021-10-19T09:43:19.743Z"
   },
   {
    "duration": 7,
    "start_time": "2021-10-19T09:43:19.757Z"
   },
   {
    "duration": 50,
    "start_time": "2021-10-19T09:43:19.766Z"
   },
   {
    "duration": 18,
    "start_time": "2021-10-19T09:43:19.818Z"
   },
   {
    "duration": 18,
    "start_time": "2021-10-19T09:43:19.838Z"
   },
   {
    "duration": 249,
    "start_time": "2021-10-19T09:43:19.858Z"
   },
   {
    "duration": 90,
    "start_time": "2021-10-19T09:43:20.110Z"
   },
   {
    "duration": 103,
    "start_time": "2021-10-19T09:43:20.203Z"
   },
   {
    "duration": 100,
    "start_time": "2021-10-19T09:43:20.311Z"
   },
   {
    "duration": 14,
    "start_time": "2021-10-19T09:45:07.565Z"
   },
   {
    "duration": 72,
    "start_time": "2021-10-19T09:45:08.735Z"
   },
   {
    "duration": 47,
    "start_time": "2021-10-19T09:46:07.942Z"
   },
   {
    "duration": 295,
    "start_time": "2021-10-19T09:46:16.519Z"
   },
   {
    "duration": 28,
    "start_time": "2021-10-19T09:47:03.895Z"
   },
   {
    "duration": 23,
    "start_time": "2021-10-19T09:48:23.353Z"
   },
   {
    "duration": 300,
    "start_time": "2021-10-19T09:48:48.256Z"
   },
   {
    "duration": 669,
    "start_time": "2021-10-19T09:49:05.150Z"
   },
   {
    "duration": 692,
    "start_time": "2021-10-19T09:49:07.336Z"
   },
   {
    "duration": 727,
    "start_time": "2021-10-19T09:50:51.892Z"
   },
   {
    "duration": 690,
    "start_time": "2021-10-19T09:50:53.750Z"
   },
   {
    "duration": 254,
    "start_time": "2021-10-19T09:50:55.509Z"
   },
   {
    "duration": 186,
    "start_time": "2021-10-19T09:51:24.601Z"
   },
   {
    "duration": 176,
    "start_time": "2021-10-19T09:53:25.954Z"
   },
   {
    "duration": 175,
    "start_time": "2021-10-19T09:55:08.434Z"
   },
   {
    "duration": 71,
    "start_time": "2021-10-19T09:55:20.056Z"
   },
   {
    "duration": 4,
    "start_time": "2021-10-19T10:00:05.610Z"
   },
   {
    "duration": 5009,
    "start_time": "2021-10-19T10:00:36.596Z"
   },
   {
    "duration": 19,
    "start_time": "2021-10-19T10:01:09.928Z"
   },
   {
    "duration": 19,
    "start_time": "2021-10-19T10:01:50.612Z"
   },
   {
    "duration": 270,
    "start_time": "2021-10-19T10:01:51.347Z"
   },
   {
    "duration": 10,
    "start_time": "2021-10-19T10:01:54.826Z"
   },
   {
    "duration": 119,
    "start_time": "2021-10-19T10:02:02.170Z"
   },
   {
    "duration": 21,
    "start_time": "2021-10-19T10:02:15.439Z"
   },
   {
    "duration": 15,
    "start_time": "2021-10-19T10:15:47.151Z"
   },
   {
    "duration": 264,
    "start_time": "2021-10-19T10:15:49.020Z"
   },
   {
    "duration": 9,
    "start_time": "2021-10-19T10:15:56.983Z"
   },
   {
    "duration": 21,
    "start_time": "2021-10-19T10:16:13.900Z"
   },
   {
    "duration": 397,
    "start_time": "2021-10-19T10:17:59.822Z"
   },
   {
    "duration": 3,
    "start_time": "2021-10-19T10:18:40.233Z"
   },
   {
    "duration": 574,
    "start_time": "2021-10-19T10:18:41.783Z"
   },
   {
    "duration": 570,
    "start_time": "2021-10-19T10:19:34.366Z"
   },
   {
    "duration": 686,
    "start_time": "2021-10-19T10:19:48.797Z"
   },
   {
    "duration": 12,
    "start_time": "2021-10-19T10:20:24.788Z"
   },
   {
    "duration": 17,
    "start_time": "2021-10-19T10:20:53.943Z"
   },
   {
    "duration": 459,
    "start_time": "2021-10-19T10:22:55.573Z"
   },
   {
    "duration": 58,
    "start_time": "2021-10-19T10:23:04.648Z"
   },
   {
    "duration": 10,
    "start_time": "2021-10-19T10:23:11.111Z"
   },
   {
    "duration": 52,
    "start_time": "2021-10-19T10:23:26.264Z"
   },
   {
    "duration": 10,
    "start_time": "2021-10-19T10:23:27.735Z"
   },
   {
    "duration": 7,
    "start_time": "2021-10-19T10:23:42.565Z"
   },
   {
    "duration": 253,
    "start_time": "2021-10-19T10:23:43.559Z"
   },
   {
    "duration": 10,
    "start_time": "2021-10-19T10:23:52.137Z"
   },
   {
    "duration": 15,
    "start_time": "2021-10-19T10:23:59.804Z"
   },
   {
    "duration": 2083,
    "start_time": "2021-10-19T10:25:10.358Z"
   },
   {
    "duration": 1704,
    "start_time": "2021-10-19T10:25:44.062Z"
   },
   {
    "duration": 15,
    "start_time": "2021-10-19T10:26:11.610Z"
   },
   {
    "duration": 13,
    "start_time": "2021-10-19T10:26:17.695Z"
   },
   {
    "duration": 256,
    "start_time": "2021-10-19T10:26:18.024Z"
   },
   {
    "duration": 11,
    "start_time": "2021-10-19T10:26:22.455Z"
   },
   {
    "duration": 15,
    "start_time": "2021-10-19T10:26:33.704Z"
   },
   {
    "duration": 20,
    "start_time": "2021-10-19T10:26:41.351Z"
   },
   {
    "duration": 508,
    "start_time": "2021-10-19T10:27:34.617Z"
   },
   {
    "duration": 84,
    "start_time": "2021-10-19T10:27:47.758Z"
   },
   {
    "duration": 13,
    "start_time": "2021-10-19T10:27:51.242Z"
   },
   {
    "duration": 18,
    "start_time": "2021-10-19T10:28:00.760Z"
   },
   {
    "duration": 105,
    "start_time": "2021-10-19T10:28:25.689Z"
   },
   {
    "duration": 13,
    "start_time": "2021-10-19T10:28:27.231Z"
   },
   {
    "duration": 18,
    "start_time": "2021-10-19T10:28:34.338Z"
   },
   {
    "duration": 132,
    "start_time": "2021-10-19T10:29:06.640Z"
   },
   {
    "duration": 14,
    "start_time": "2021-10-19T10:29:08.176Z"
   },
   {
    "duration": 19,
    "start_time": "2021-10-19T10:29:14.866Z"
   },
   {
    "duration": 144,
    "start_time": "2021-10-19T10:29:26.514Z"
   },
   {
    "duration": 15,
    "start_time": "2021-10-19T10:29:36.081Z"
   },
   {
    "duration": 19,
    "start_time": "2021-10-19T10:29:42.529Z"
   },
   {
    "duration": 12976,
    "start_time": "2021-10-19T10:37:04.717Z"
   },
   {
    "duration": 17282,
    "start_time": "2021-10-19T10:38:28.389Z"
   },
   {
    "duration": 126,
    "start_time": "2021-10-19T10:42:58.172Z"
   },
   {
    "duration": 15,
    "start_time": "2021-10-19T10:43:02.187Z"
   },
   {
    "duration": 19,
    "start_time": "2021-10-19T10:43:09.099Z"
   },
   {
    "duration": 123,
    "start_time": "2021-10-19T10:44:11.132Z"
   },
   {
    "duration": 15,
    "start_time": "2021-10-19T10:44:11.709Z"
   },
   {
    "duration": 138,
    "start_time": "2021-10-19T10:44:17.789Z"
   },
   {
    "duration": 14,
    "start_time": "2021-10-19T10:44:19.284Z"
   },
   {
    "duration": 166,
    "start_time": "2021-10-19T10:44:26.439Z"
   },
   {
    "duration": 15,
    "start_time": "2021-10-19T10:44:27.804Z"
   },
   {
    "duration": 145,
    "start_time": "2021-10-19T10:44:40.396Z"
   },
   {
    "duration": 15,
    "start_time": "2021-10-19T10:44:40.981Z"
   },
   {
    "duration": 164,
    "start_time": "2021-10-19T10:45:00.036Z"
   },
   {
    "duration": 15,
    "start_time": "2021-10-19T10:45:01.143Z"
   },
   {
    "duration": 20,
    "start_time": "2021-10-19T10:45:07.319Z"
   },
   {
    "duration": 108,
    "start_time": "2021-10-19T10:45:23.626Z"
   },
   {
    "duration": 14,
    "start_time": "2021-10-19T10:45:24.692Z"
   },
   {
    "duration": 18,
    "start_time": "2021-10-19T10:45:29.574Z"
   },
   {
    "duration": 137,
    "start_time": "2021-10-19T10:45:43.820Z"
   },
   {
    "duration": 14,
    "start_time": "2021-10-19T10:45:44.325Z"
   },
   {
    "duration": 158,
    "start_time": "2021-10-19T10:46:05.525Z"
   },
   {
    "duration": 15,
    "start_time": "2021-10-19T10:46:06.955Z"
   },
   {
    "duration": 152,
    "start_time": "2021-10-19T10:46:38.086Z"
   },
   {
    "duration": 15,
    "start_time": "2021-10-19T10:46:38.613Z"
   },
   {
    "duration": 18,
    "start_time": "2021-10-19T10:46:42.165Z"
   },
   {
    "duration": 1714,
    "start_time": "2021-10-19T10:46:58.054Z"
   },
   {
    "duration": 154,
    "start_time": "2021-10-19T10:47:12.559Z"
   },
   {
    "duration": 16,
    "start_time": "2021-10-19T10:47:13.566Z"
   },
   {
    "duration": 13,
    "start_time": "2021-10-19T10:47:16.142Z"
   },
   {
    "duration": 256,
    "start_time": "2021-10-19T10:47:16.991Z"
   },
   {
    "duration": 12,
    "start_time": "2021-10-19T10:47:21.215Z"
   },
   {
    "duration": 19,
    "start_time": "2021-10-19T10:47:25.414Z"
   },
   {
    "duration": 164,
    "start_time": "2021-10-19T10:49:44.992Z"
   },
   {
    "duration": 15,
    "start_time": "2021-10-19T10:49:46.060Z"
   },
   {
    "duration": 140,
    "start_time": "2021-10-19T10:49:52.415Z"
   },
   {
    "duration": 15,
    "start_time": "2021-10-19T10:49:52.943Z"
   },
   {
    "duration": 19,
    "start_time": "2021-10-19T10:50:06.277Z"
   },
   {
    "duration": 130,
    "start_time": "2021-10-19T10:50:23.636Z"
   },
   {
    "duration": 15,
    "start_time": "2021-10-19T10:50:24.476Z"
   },
   {
    "duration": 20,
    "start_time": "2021-10-19T10:50:30.820Z"
   },
   {
    "duration": 140,
    "start_time": "2021-10-19T10:50:47.100Z"
   },
   {
    "duration": 15,
    "start_time": "2021-10-19T10:50:48.174Z"
   },
   {
    "duration": 19,
    "start_time": "2021-10-19T10:50:53.232Z"
   },
   {
    "duration": 18,
    "start_time": "2021-10-19T10:51:04.263Z"
   },
   {
    "duration": 132,
    "start_time": "2021-10-19T10:51:15.422Z"
   },
   {
    "duration": 14,
    "start_time": "2021-10-19T10:51:16.732Z"
   },
   {
    "duration": 13,
    "start_time": "2021-10-19T10:51:20.317Z"
   },
   {
    "duration": 261,
    "start_time": "2021-10-19T10:51:21.235Z"
   },
   {
    "duration": 10,
    "start_time": "2021-10-19T10:51:21.533Z"
   },
   {
    "duration": 19,
    "start_time": "2021-10-19T10:51:26.054Z"
   },
   {
    "duration": 110,
    "start_time": "2021-10-19T10:54:32.239Z"
   },
   {
    "duration": 16,
    "start_time": "2021-10-19T10:54:32.854Z"
   },
   {
    "duration": 18,
    "start_time": "2021-10-19T10:54:39.159Z"
   },
   {
    "duration": 125,
    "start_time": "2021-10-19T10:54:53.006Z"
   },
   {
    "duration": 14,
    "start_time": "2021-10-19T10:54:54.419Z"
   },
   {
    "duration": 18,
    "start_time": "2021-10-19T10:54:58.959Z"
   },
   {
    "duration": 130,
    "start_time": "2021-10-19T10:55:13.752Z"
   },
   {
    "duration": 15,
    "start_time": "2021-10-19T10:55:13.885Z"
   },
   {
    "duration": 19,
    "start_time": "2021-10-19T10:55:17.734Z"
   },
   {
    "duration": 116,
    "start_time": "2021-10-19T10:55:28.983Z"
   },
   {
    "duration": 14,
    "start_time": "2021-10-19T10:55:30.679Z"
   },
   {
    "duration": 19,
    "start_time": "2021-10-19T10:55:35.311Z"
   },
   {
    "duration": 129,
    "start_time": "2021-10-19T10:55:44.240Z"
   },
   {
    "duration": 15,
    "start_time": "2021-10-19T10:55:45.320Z"
   },
   {
    "duration": 12,
    "start_time": "2021-10-19T10:56:23.862Z"
   },
   {
    "duration": 265,
    "start_time": "2021-10-19T10:56:24.269Z"
   },
   {
    "duration": 10,
    "start_time": "2021-10-19T10:56:25.167Z"
   },
   {
    "duration": 28,
    "start_time": "2021-10-19T10:56:32.762Z"
   },
   {
    "duration": 4,
    "start_time": "2021-10-19T11:01:53.887Z"
   },
   {
    "duration": 6108,
    "start_time": "2021-10-19T11:01:56.451Z"
   },
   {
    "duration": 129,
    "start_time": "2021-10-19T11:02:40.480Z"
   },
   {
    "duration": 15,
    "start_time": "2021-10-19T11:02:42.798Z"
   },
   {
    "duration": 6420,
    "start_time": "2021-10-19T11:03:49.029Z"
   },
   {
    "duration": 2089,
    "start_time": "2021-10-19T11:04:33.548Z"
   },
   {
    "duration": 35,
    "start_time": "2021-10-19T11:04:35.640Z"
   },
   {
    "duration": 8,
    "start_time": "2021-10-19T11:04:35.678Z"
   },
   {
    "duration": 27,
    "start_time": "2021-10-19T11:04:35.688Z"
   },
   {
    "duration": 64,
    "start_time": "2021-10-19T11:04:35.718Z"
   },
   {
    "duration": 9,
    "start_time": "2021-10-19T11:04:35.800Z"
   },
   {
    "duration": 10,
    "start_time": "2021-10-19T11:04:35.812Z"
   },
   {
    "duration": 249,
    "start_time": "2021-10-19T11:04:35.826Z"
   },
   {
    "duration": 2170,
    "start_time": "2021-10-19T11:04:36.078Z"
   },
   {
    "duration": 7,
    "start_time": "2021-10-19T11:04:38.250Z"
   },
   {
    "duration": 223,
    "start_time": "2021-10-19T11:04:38.259Z"
   },
   {
    "duration": 6,
    "start_time": "2021-10-19T11:04:38.484Z"
   },
   {
    "duration": 49,
    "start_time": "2021-10-19T11:04:38.502Z"
   },
   {
    "duration": 12,
    "start_time": "2021-10-19T11:04:38.554Z"
   },
   {
    "duration": 37,
    "start_time": "2021-10-19T11:04:38.568Z"
   },
   {
    "duration": 9,
    "start_time": "2021-10-19T11:04:38.608Z"
   },
   {
    "duration": 46,
    "start_time": "2021-10-19T11:04:38.619Z"
   },
   {
    "duration": 3,
    "start_time": "2021-10-19T11:04:38.667Z"
   },
   {
    "duration": 27,
    "start_time": "2021-10-19T11:04:38.673Z"
   },
   {
    "duration": 34,
    "start_time": "2021-10-19T11:04:38.703Z"
   },
   {
    "duration": 14,
    "start_time": "2021-10-19T11:04:38.740Z"
   },
   {
    "duration": 27,
    "start_time": "2021-10-19T11:04:38.756Z"
   },
   {
    "duration": 18,
    "start_time": "2021-10-19T11:04:38.789Z"
   },
   {
    "duration": 5,
    "start_time": "2021-10-19T11:04:38.810Z"
   },
   {
    "duration": 15,
    "start_time": "2021-10-19T11:04:38.818Z"
   },
   {
    "duration": 12,
    "start_time": "2021-10-19T11:04:38.835Z"
   },
   {
    "duration": 22,
    "start_time": "2021-10-19T11:04:38.849Z"
   },
   {
    "duration": 29,
    "start_time": "2021-10-19T11:04:38.874Z"
   },
   {
    "duration": 23,
    "start_time": "2021-10-19T11:04:38.906Z"
   },
   {
    "duration": 236,
    "start_time": "2021-10-19T11:04:38.931Z"
   },
   {
    "duration": 55,
    "start_time": "2021-10-19T11:04:39.169Z"
   },
   {
    "duration": 100,
    "start_time": "2021-10-19T11:04:39.302Z"
   },
   {
    "duration": 98,
    "start_time": "2021-10-19T11:04:39.405Z"
   },
   {
    "duration": 15,
    "start_time": "2021-10-19T11:04:39.506Z"
   },
   {
    "duration": 80,
    "start_time": "2021-10-19T11:04:39.524Z"
   },
   {
    "duration": 193,
    "start_time": "2021-10-19T11:04:39.607Z"
   },
   {
    "duration": 387,
    "start_time": "2021-10-19T11:04:39.804Z"
   },
   {
    "duration": 23,
    "start_time": "2021-10-19T11:04:40.201Z"
   },
   {
    "duration": 305,
    "start_time": "2021-10-19T11:04:40.227Z"
   },
   {
    "duration": 867,
    "start_time": "2021-10-19T11:04:40.535Z"
   },
   {
    "duration": 766,
    "start_time": "2021-10-19T11:04:41.405Z"
   },
   {
    "duration": 259,
    "start_time": "2021-10-19T11:04:42.174Z"
   },
   {
    "duration": 178,
    "start_time": "2021-10-19T11:04:42.435Z"
   },
   {
    "duration": 288,
    "start_time": "2021-10-19T11:04:42.617Z"
   },
   {
    "duration": 94,
    "start_time": "2021-10-19T11:04:42.908Z"
   },
   {
    "duration": 6200,
    "start_time": "2021-10-19T11:04:43.004Z"
   },
   {
    "duration": 137,
    "start_time": "2021-10-19T11:04:49.206Z"
   },
   {
    "duration": 15,
    "start_time": "2021-10-19T11:04:49.345Z"
   },
   {
    "duration": 18,
    "start_time": "2021-10-19T11:04:49.362Z"
   },
   {
    "duration": 318,
    "start_time": "2021-10-19T11:04:49.383Z"
   },
   {
    "duration": 10,
    "start_time": "2021-10-19T11:04:49.703Z"
   },
   {
    "duration": 19,
    "start_time": "2021-10-19T11:04:49.716Z"
   },
   {
    "duration": 2527,
    "start_time": "2021-10-21T11:45:38.627Z"
   },
   {
    "duration": 29,
    "start_time": "2021-10-21T11:45:41.156Z"
   },
   {
    "duration": 6,
    "start_time": "2021-10-21T11:45:41.188Z"
   },
   {
    "duration": 26,
    "start_time": "2021-10-21T11:45:41.196Z"
   },
   {
    "duration": 50,
    "start_time": "2021-10-21T11:45:41.224Z"
   },
   {
    "duration": 7,
    "start_time": "2021-10-21T11:45:41.276Z"
   },
   {
    "duration": 13,
    "start_time": "2021-10-21T11:45:41.285Z"
   },
   {
    "duration": 140,
    "start_time": "2021-10-21T11:45:41.300Z"
   },
   {
    "duration": 1249,
    "start_time": "2021-10-21T11:45:41.446Z"
   },
   {
    "duration": 4,
    "start_time": "2021-10-21T11:45:42.697Z"
   },
   {
    "duration": 131,
    "start_time": "2021-10-21T11:45:42.703Z"
   },
   {
    "duration": 10,
    "start_time": "2021-10-21T11:45:42.836Z"
   },
   {
    "duration": 46,
    "start_time": "2021-10-21T11:45:42.847Z"
   },
   {
    "duration": 9,
    "start_time": "2021-10-21T11:45:42.894Z"
   },
   {
    "duration": 24,
    "start_time": "2021-10-21T11:45:42.904Z"
   },
   {
    "duration": 22,
    "start_time": "2021-10-21T11:45:42.929Z"
   },
   {
    "duration": 43,
    "start_time": "2021-10-21T11:45:42.953Z"
   },
   {
    "duration": 3,
    "start_time": "2021-10-21T11:45:42.998Z"
   },
   {
    "duration": 14,
    "start_time": "2021-10-21T11:45:43.003Z"
   },
   {
    "duration": 27,
    "start_time": "2021-10-21T11:45:43.019Z"
   },
   {
    "duration": 17,
    "start_time": "2021-10-21T11:45:43.048Z"
   },
   {
    "duration": 22,
    "start_time": "2021-10-21T11:45:43.067Z"
   },
   {
    "duration": 13,
    "start_time": "2021-10-21T11:45:43.091Z"
   },
   {
    "duration": 10,
    "start_time": "2021-10-21T11:45:43.105Z"
   },
   {
    "duration": 25,
    "start_time": "2021-10-21T11:45:43.116Z"
   },
   {
    "duration": 14,
    "start_time": "2021-10-21T11:45:43.143Z"
   },
   {
    "duration": 21,
    "start_time": "2021-10-21T11:45:43.160Z"
   },
   {
    "duration": 10,
    "start_time": "2021-10-21T11:45:43.183Z"
   },
   {
    "duration": 22,
    "start_time": "2021-10-21T11:45:43.195Z"
   },
   {
    "duration": 123,
    "start_time": "2021-10-21T11:45:43.219Z"
   },
   {
    "duration": 112,
    "start_time": "2021-10-21T11:45:43.344Z"
   },
   {
    "duration": 92,
    "start_time": "2021-10-21T11:45:43.459Z"
   },
   {
    "duration": 93,
    "start_time": "2021-10-21T11:45:43.555Z"
   },
   {
    "duration": 15,
    "start_time": "2021-10-21T11:45:43.650Z"
   },
   {
    "duration": 102,
    "start_time": "2021-10-21T11:45:43.667Z"
   },
   {
    "duration": 188,
    "start_time": "2021-10-21T11:45:43.771Z"
   },
   {
    "duration": 360,
    "start_time": "2021-10-21T11:45:43.962Z"
   },
   {
    "duration": 24,
    "start_time": "2021-10-21T11:45:44.324Z"
   },
   {
    "duration": 180,
    "start_time": "2021-10-21T11:45:44.349Z"
   },
   {
    "duration": 729,
    "start_time": "2021-10-21T11:45:44.532Z"
   },
   {
    "duration": 548,
    "start_time": "2021-10-21T11:45:45.344Z"
   },
   {
    "duration": 177,
    "start_time": "2021-10-21T11:45:45.893Z"
   },
   {
    "duration": 121,
    "start_time": "2021-10-21T11:45:46.072Z"
   },
   {
    "duration": 132,
    "start_time": "2021-10-21T11:45:46.246Z"
   },
   {
    "duration": 71,
    "start_time": "2021-10-21T11:45:46.380Z"
   },
   {
    "duration": 2049,
    "start_time": "2021-10-22T09:32:58.194Z"
   },
   {
    "duration": 38,
    "start_time": "2021-10-22T09:33:00.245Z"
   },
   {
    "duration": 7,
    "start_time": "2021-10-22T09:33:00.286Z"
   },
   {
    "duration": 31,
    "start_time": "2021-10-22T09:33:00.296Z"
   },
   {
    "duration": 63,
    "start_time": "2021-10-22T09:33:00.329Z"
   },
   {
    "duration": 29,
    "start_time": "2021-10-22T09:33:00.394Z"
   },
   {
    "duration": 7,
    "start_time": "2021-10-22T09:33:00.425Z"
   },
   {
    "duration": 232,
    "start_time": "2021-10-22T09:33:00.435Z"
   },
   {
    "duration": 2117,
    "start_time": "2021-10-22T09:33:00.670Z"
   },
   {
    "duration": 6,
    "start_time": "2021-10-22T09:33:02.789Z"
   },
   {
    "duration": 225,
    "start_time": "2021-10-22T09:33:02.797Z"
   },
   {
    "duration": 8,
    "start_time": "2021-10-22T09:33:03.024Z"
   },
   {
    "duration": 56,
    "start_time": "2021-10-22T09:33:03.035Z"
   },
   {
    "duration": 35,
    "start_time": "2021-10-22T09:33:03.094Z"
   },
   {
    "duration": 11,
    "start_time": "2021-10-22T09:33:03.131Z"
   },
   {
    "duration": 12,
    "start_time": "2021-10-22T09:33:03.145Z"
   },
   {
    "duration": 75,
    "start_time": "2021-10-22T09:33:03.160Z"
   },
   {
    "duration": 3,
    "start_time": "2021-10-22T09:33:03.238Z"
   },
   {
    "duration": 12,
    "start_time": "2021-10-22T09:33:03.244Z"
   },
   {
    "duration": 21,
    "start_time": "2021-10-22T09:33:03.259Z"
   },
   {
    "duration": 10,
    "start_time": "2021-10-22T09:33:03.283Z"
   },
   {
    "duration": 11,
    "start_time": "2021-10-22T09:33:03.323Z"
   },
   {
    "duration": 13,
    "start_time": "2021-10-22T09:33:03.339Z"
   },
   {
    "duration": 8,
    "start_time": "2021-10-22T09:33:03.356Z"
   },
   {
    "duration": 17,
    "start_time": "2021-10-22T09:33:03.366Z"
   },
   {
    "duration": 37,
    "start_time": "2021-10-22T09:33:03.385Z"
   },
   {
    "duration": 18,
    "start_time": "2021-10-22T09:33:03.424Z"
   },
   {
    "duration": 17,
    "start_time": "2021-10-22T09:33:03.445Z"
   },
   {
    "duration": 20,
    "start_time": "2021-10-22T09:33:03.464Z"
   },
   {
    "duration": 268,
    "start_time": "2021-10-22T09:33:03.487Z"
   },
   {
    "duration": 69,
    "start_time": "2021-10-22T09:33:03.758Z"
   },
   {
    "duration": 103,
    "start_time": "2021-10-22T09:33:03.830Z"
   },
   {
    "duration": 99,
    "start_time": "2021-10-22T09:33:04.024Z"
   },
   {
    "duration": 15,
    "start_time": "2021-10-22T09:33:04.125Z"
   },
   {
    "duration": 81,
    "start_time": "2021-10-22T09:33:04.143Z"
   },
   {
    "duration": 195,
    "start_time": "2021-10-22T09:33:04.228Z"
   },
   {
    "duration": 376,
    "start_time": "2021-10-22T09:33:04.426Z"
   },
   {
    "duration": 34,
    "start_time": "2021-10-22T09:33:04.804Z"
   },
   {
    "duration": 292,
    "start_time": "2021-10-22T09:33:04.841Z"
   },
   {
    "duration": 889,
    "start_time": "2021-10-22T09:33:05.135Z"
   },
   {
    "duration": 742,
    "start_time": "2021-10-22T09:33:06.028Z"
   },
   {
    "duration": 247,
    "start_time": "2021-10-22T09:33:06.772Z"
   },
   {
    "duration": 204,
    "start_time": "2021-10-22T09:33:07.021Z"
   },
   {
    "duration": 196,
    "start_time": "2021-10-22T09:33:07.229Z"
   },
   {
    "duration": 95,
    "start_time": "2021-10-22T09:33:07.428Z"
   },
   {
    "duration": 6597,
    "start_time": "2021-10-22T09:33:07.525Z"
   },
   {
    "duration": 129,
    "start_time": "2021-10-22T09:33:14.125Z"
   },
   {
    "duration": 14,
    "start_time": "2021-10-22T09:33:14.256Z"
   },
   {
    "duration": 14,
    "start_time": "2021-10-22T09:33:14.273Z"
   },
   {
    "duration": 287,
    "start_time": "2021-10-22T09:33:14.289Z"
   },
   {
    "duration": 9,
    "start_time": "2021-10-22T09:33:14.580Z"
   },
   {
    "duration": 41,
    "start_time": "2021-10-22T09:33:14.592Z"
   },
   {
    "duration": 8,
    "start_time": "2021-10-22T10:16:33.552Z"
   },
   {
    "duration": 42,
    "start_time": "2021-10-22T10:16:33.563Z"
   },
   {
    "duration": 7,
    "start_time": "2021-10-22T10:16:33.676Z"
   },
   {
    "duration": 22,
    "start_time": "2021-10-22T10:16:33.686Z"
   },
   {
    "duration": 64,
    "start_time": "2021-10-22T10:16:33.712Z"
   },
   {
    "duration": 9,
    "start_time": "2021-10-22T10:16:33.778Z"
   },
   {
    "duration": 11,
    "start_time": "2021-10-22T10:16:33.790Z"
   },
   {
    "duration": 228,
    "start_time": "2021-10-22T10:16:33.824Z"
   },
   {
    "duration": 2054,
    "start_time": "2021-10-22T10:16:34.055Z"
   },
   {
    "duration": 12,
    "start_time": "2021-10-22T10:16:36.112Z"
   },
   {
    "duration": 208,
    "start_time": "2021-10-22T10:16:36.128Z"
   },
   {
    "duration": 6,
    "start_time": "2021-10-22T10:16:36.339Z"
   },
   {
    "duration": 51,
    "start_time": "2021-10-22T10:16:36.348Z"
   },
   {
    "duration": 30,
    "start_time": "2021-10-22T10:16:36.401Z"
   },
   {
    "duration": 8,
    "start_time": "2021-10-22T10:16:36.433Z"
   },
   {
    "duration": 11,
    "start_time": "2021-10-22T10:16:36.444Z"
   },
   {
    "duration": 9,
    "start_time": "2021-10-22T10:16:43.631Z"
   },
   {
    "duration": 3,
    "start_time": "2021-10-22T10:16:44.504Z"
   },
   {
    "duration": 20,
    "start_time": "2021-10-22T10:16:47.452Z"
   },
   {
    "duration": 17,
    "start_time": "2021-10-22T10:19:46.557Z"
   },
   {
    "duration": 8,
    "start_time": "2021-10-22T10:20:21.907Z"
   },
   {
    "duration": 11,
    "start_time": "2021-10-22T10:20:25.355Z"
   },
   {
    "duration": 17,
    "start_time": "2021-10-22T10:20:26.779Z"
   },
   {
    "duration": 9,
    "start_time": "2021-10-22T10:21:03.559Z"
   },
   {
    "duration": 46,
    "start_time": "2021-10-22T10:21:03.571Z"
   },
   {
    "duration": 5,
    "start_time": "2021-10-22T10:21:03.620Z"
   },
   {
    "duration": 39,
    "start_time": "2021-10-22T10:21:03.627Z"
   },
   {
    "duration": 74,
    "start_time": "2021-10-22T10:21:03.668Z"
   },
   {
    "duration": 9,
    "start_time": "2021-10-22T10:21:03.744Z"
   },
   {
    "duration": 19,
    "start_time": "2021-10-22T10:21:03.755Z"
   },
   {
    "duration": 218,
    "start_time": "2021-10-22T10:21:03.776Z"
   },
   {
    "duration": 2096,
    "start_time": "2021-10-22T10:21:03.998Z"
   },
   {
    "duration": 6,
    "start_time": "2021-10-22T10:21:06.097Z"
   },
   {
    "duration": 221,
    "start_time": "2021-10-22T10:21:06.105Z"
   },
   {
    "duration": 6,
    "start_time": "2021-10-22T10:21:06.328Z"
   },
   {
    "duration": 56,
    "start_time": "2021-10-22T10:21:06.336Z"
   },
   {
    "duration": 32,
    "start_time": "2021-10-22T10:21:06.395Z"
   },
   {
    "duration": 9,
    "start_time": "2021-10-22T10:21:06.429Z"
   },
   {
    "duration": 29,
    "start_time": "2021-10-22T10:21:06.440Z"
   },
   {
    "duration": 6,
    "start_time": "2021-10-22T10:21:06.471Z"
   },
   {
    "duration": 34,
    "start_time": "2021-10-22T10:21:06.479Z"
   },
   {
    "duration": 14,
    "start_time": "2021-10-22T10:21:06.523Z"
   },
   {
    "duration": 17,
    "start_time": "2021-10-22T10:21:06.539Z"
   },
   {
    "duration": 25,
    "start_time": "2021-10-22T10:21:06.558Z"
   },
   {
    "duration": 581,
    "start_time": "2021-10-22T10:21:19.185Z"
   },
   {
    "duration": 8,
    "start_time": "2021-10-22T10:21:29.789Z"
   },
   {
    "duration": 44,
    "start_time": "2021-10-22T10:21:29.800Z"
   },
   {
    "duration": 6,
    "start_time": "2021-10-22T10:21:29.847Z"
   },
   {
    "duration": 17,
    "start_time": "2021-10-22T10:21:29.856Z"
   },
   {
    "duration": 85,
    "start_time": "2021-10-22T10:21:29.876Z"
   },
   {
    "duration": 9,
    "start_time": "2021-10-22T10:21:29.964Z"
   },
   {
    "duration": 8,
    "start_time": "2021-10-22T10:21:29.976Z"
   },
   {
    "duration": 246,
    "start_time": "2021-10-22T10:21:29.988Z"
   },
   {
    "duration": 2001,
    "start_time": "2021-10-22T10:21:30.237Z"
   },
   {
    "duration": 6,
    "start_time": "2021-10-22T10:21:32.241Z"
   },
   {
    "duration": 217,
    "start_time": "2021-10-22T10:21:32.250Z"
   },
   {
    "duration": 6,
    "start_time": "2021-10-22T10:21:32.470Z"
   },
   {
    "duration": 68,
    "start_time": "2021-10-22T10:21:32.479Z"
   },
   {
    "duration": 14,
    "start_time": "2021-10-22T10:21:32.550Z"
   },
   {
    "duration": 10,
    "start_time": "2021-10-22T10:21:32.567Z"
   },
   {
    "duration": 44,
    "start_time": "2021-10-22T10:21:32.580Z"
   },
   {
    "duration": 9,
    "start_time": "2021-10-22T10:21:32.627Z"
   },
   {
    "duration": 151,
    "start_time": "2021-10-22T10:21:32.638Z"
   },
   {
    "duration": 18,
    "start_time": "2021-10-22T10:21:32.792Z"
   },
   {
    "duration": 9,
    "start_time": "2021-10-22T10:21:32.823Z"
   },
   {
    "duration": 16,
    "start_time": "2021-10-22T10:21:32.834Z"
   },
   {
    "duration": 9076,
    "start_time": "2021-10-22T10:22:30.788Z"
   },
   {
    "duration": 8,
    "start_time": "2021-10-22T10:22:53.527Z"
   },
   {
    "duration": 9142,
    "start_time": "2021-10-22T10:24:39.575Z"
   },
   {
    "duration": 9566,
    "start_time": "2021-10-22T10:25:14.550Z"
   },
   {
    "duration": 510,
    "start_time": "2021-10-22T10:25:34.383Z"
   },
   {
    "duration": 370,
    "start_time": "2021-10-22T10:26:05.344Z"
   },
   {
    "duration": 461,
    "start_time": "2021-10-22T10:26:12.928Z"
   },
   {
    "duration": 339,
    "start_time": "2021-10-22T10:26:34.879Z"
   },
   {
    "duration": 402,
    "start_time": "2021-10-22T10:27:13.975Z"
   },
   {
    "duration": 6,
    "start_time": "2021-10-22T10:27:47.152Z"
   },
   {
    "duration": 8,
    "start_time": "2021-10-22T10:28:18.291Z"
   },
   {
    "duration": 6,
    "start_time": "2021-10-22T10:28:24.711Z"
   },
   {
    "duration": 8,
    "start_time": "2021-10-22T10:28:36.018Z"
   },
   {
    "duration": 10,
    "start_time": "2021-10-22T10:29:19.439Z"
   },
   {
    "duration": 5,
    "start_time": "2021-10-22T10:29:21.510Z"
   },
   {
    "duration": 10,
    "start_time": "2021-10-22T10:29:28.415Z"
   },
   {
    "duration": 362,
    "start_time": "2021-10-22T10:37:52.848Z"
   },
   {
    "duration": 20,
    "start_time": "2021-10-22T10:43:22.932Z"
   },
   {
    "duration": 5,
    "start_time": "2021-10-22T10:43:31.338Z"
   },
   {
    "duration": 11,
    "start_time": "2021-10-22T10:43:36.429Z"
   },
   {
    "duration": 92,
    "start_time": "2021-10-22T10:44:53.651Z"
   },
   {
    "duration": 287,
    "start_time": "2021-10-22T12:26:53.308Z"
   },
   {
    "duration": -521,
    "start_time": "2021-10-22T12:26:54.120Z"
   },
   {
    "duration": -604,
    "start_time": "2021-10-22T12:26:54.205Z"
   },
   {
    "duration": -662,
    "start_time": "2021-10-22T12:26:54.264Z"
   },
   {
    "duration": -666,
    "start_time": "2021-10-22T12:26:54.270Z"
   },
   {
    "duration": -668,
    "start_time": "2021-10-22T12:26:54.273Z"
   },
   {
    "duration": -669,
    "start_time": "2021-10-22T12:26:54.275Z"
   },
   {
    "duration": -673,
    "start_time": "2021-10-22T12:26:54.281Z"
   },
   {
    "duration": -675,
    "start_time": "2021-10-22T12:26:54.284Z"
   },
   {
    "duration": -675,
    "start_time": "2021-10-22T12:26:54.286Z"
   },
   {
    "duration": -706,
    "start_time": "2021-10-22T12:26:54.318Z"
   },
   {
    "duration": -706,
    "start_time": "2021-10-22T12:26:54.320Z"
   },
   {
    "duration": -735,
    "start_time": "2021-10-22T12:26:54.350Z"
   },
   {
    "duration": -739,
    "start_time": "2021-10-22T12:26:54.356Z"
   },
   {
    "duration": -740,
    "start_time": "2021-10-22T12:26:54.358Z"
   },
   {
    "duration": -743,
    "start_time": "2021-10-22T12:26:54.364Z"
   },
   {
    "duration": -766,
    "start_time": "2021-10-22T12:26:54.388Z"
   },
   {
    "duration": -799,
    "start_time": "2021-10-22T12:26:54.422Z"
   },
   {
    "duration": -813,
    "start_time": "2021-10-22T12:26:54.438Z"
   },
   {
    "duration": -815,
    "start_time": "2021-10-22T12:26:54.441Z"
   },
   {
    "duration": -825,
    "start_time": "2021-10-22T12:26:54.452Z"
   },
   {
    "duration": -828,
    "start_time": "2021-10-22T12:26:54.457Z"
   },
   {
    "duration": -829,
    "start_time": "2021-10-22T12:26:54.459Z"
   },
   {
    "duration": -832,
    "start_time": "2021-10-22T12:26:54.463Z"
   },
   {
    "duration": -833,
    "start_time": "2021-10-22T12:26:54.466Z"
   },
   {
    "duration": -835,
    "start_time": "2021-10-22T12:26:54.469Z"
   },
   {
    "duration": -856,
    "start_time": "2021-10-22T12:26:54.491Z"
   },
   {
    "duration": -857,
    "start_time": "2021-10-22T12:26:54.494Z"
   },
   {
    "duration": -897,
    "start_time": "2021-10-22T12:26:54.535Z"
   },
   {
    "duration": -907,
    "start_time": "2021-10-22T12:26:54.546Z"
   },
   {
    "duration": -939,
    "start_time": "2021-10-22T12:26:54.580Z"
   },
   {
    "duration": 10938,
    "start_time": "2021-10-22T12:30:43.149Z"
   },
   {
    "duration": 316,
    "start_time": "2021-10-22T12:30:54.091Z"
   },
   {
    "duration": 3765,
    "start_time": "2021-10-22T12:31:19.437Z"
   },
   {
    "duration": 2073,
    "start_time": "2021-10-22T12:31:23.205Z"
   },
   {
    "duration": 36,
    "start_time": "2021-10-22T12:31:25.282Z"
   },
   {
    "duration": 1478,
    "start_time": "2021-10-22T12:31:25.320Z"
   },
   {
    "duration": 455,
    "start_time": "2021-10-22T12:31:26.800Z"
   },
   {
    "duration": 145,
    "start_time": "2021-10-22T12:31:27.258Z"
   },
   {
    "duration": 8,
    "start_time": "2021-10-22T12:31:27.405Z"
   },
   {
    "duration": 10,
    "start_time": "2021-10-22T12:31:27.416Z"
   },
   {
    "duration": 225,
    "start_time": "2021-10-22T12:31:27.429Z"
   },
   {
    "duration": 2066,
    "start_time": "2021-10-22T12:31:27.656Z"
   },
   {
    "duration": 5,
    "start_time": "2021-10-22T12:31:29.725Z"
   },
   {
    "duration": 210,
    "start_time": "2021-10-22T12:31:29.733Z"
   },
   {
    "duration": 6,
    "start_time": "2021-10-22T12:31:29.945Z"
   },
   {
    "duration": 74,
    "start_time": "2021-10-22T12:31:29.954Z"
   },
   {
    "duration": 11,
    "start_time": "2021-10-22T12:31:30.031Z"
   },
   {
    "duration": 15,
    "start_time": "2021-10-22T12:31:30.045Z"
   },
   {
    "duration": 18,
    "start_time": "2021-10-22T12:31:30.063Z"
   },
   {
    "duration": 14,
    "start_time": "2021-10-22T12:31:30.084Z"
   },
   {
    "duration": 40,
    "start_time": "2021-10-22T12:31:30.101Z"
   },
   {
    "duration": 12,
    "start_time": "2021-10-22T12:31:30.143Z"
   },
   {
    "duration": 20,
    "start_time": "2021-10-22T12:31:30.157Z"
   },
   {
    "duration": 26,
    "start_time": "2021-10-22T12:31:30.179Z"
   },
   {
    "duration": 13,
    "start_time": "2021-10-22T12:31:30.223Z"
   },
   {
    "duration": 14,
    "start_time": "2021-10-22T12:31:30.239Z"
   },
   {
    "duration": 20,
    "start_time": "2021-10-22T12:31:30.256Z"
   },
   {
    "duration": 5,
    "start_time": "2021-10-22T12:31:30.279Z"
   },
   {
    "duration": 41,
    "start_time": "2021-10-22T12:31:30.286Z"
   },
   {
    "duration": 10,
    "start_time": "2021-10-22T12:31:30.329Z"
   },
   {
    "duration": 38,
    "start_time": "2021-10-22T12:31:30.342Z"
   },
   {
    "duration": 17,
    "start_time": "2021-10-22T12:31:30.382Z"
   },
   {
    "duration": 37,
    "start_time": "2021-10-22T12:31:30.402Z"
   },
   {
    "duration": 234,
    "start_time": "2021-10-22T12:31:30.442Z"
   },
   {
    "duration": 143,
    "start_time": "2021-10-22T12:31:30.679Z"
   },
   {
    "duration": 1216,
    "start_time": "2021-10-22T12:31:30.826Z"
   },
   {
    "duration": 63,
    "start_time": "2021-10-22T12:31:32.044Z"
   },
   {
    "duration": 6,
    "start_time": "2021-10-22T12:31:32.122Z"
   },
   {
    "duration": 21,
    "start_time": "2021-10-22T12:31:32.131Z"
   },
   {
    "duration": 170,
    "start_time": "2021-10-22T12:31:32.154Z"
   },
   {
    "duration": 104,
    "start_time": "2021-10-22T12:31:32.327Z"
   },
   {
    "duration": 273,
    "start_time": "2021-10-22T12:31:32.523Z"
   },
   {
    "duration": 9,
    "start_time": "2021-10-22T12:31:32.798Z"
   },
   {
    "duration": 300,
    "start_time": "2021-10-22T12:31:32.822Z"
   },
   {
    "duration": 817,
    "start_time": "2021-10-22T12:31:33.124Z"
   },
   {
    "duration": 5931,
    "start_time": "2021-10-22T12:31:34.025Z"
   },
   {
    "duration": 282,
    "start_time": "2021-10-22T12:31:39.959Z"
   },
   {
    "duration": 1433,
    "start_time": "2021-10-22T12:31:40.243Z"
   },
   {
    "duration": 200,
    "start_time": "2021-10-22T12:31:41.724Z"
   },
   {
    "duration": 95,
    "start_time": "2021-10-22T12:31:41.928Z"
   },
   {
    "duration": 6149,
    "start_time": "2021-10-22T12:31:42.025Z"
   },
   {
    "duration": 123,
    "start_time": "2021-10-22T12:31:48.176Z"
   },
   {
    "duration": 21,
    "start_time": "2021-10-22T12:31:48.301Z"
   },
   {
    "duration": 13,
    "start_time": "2021-10-22T12:31:48.325Z"
   },
   {
    "duration": 263,
    "start_time": "2021-10-22T12:31:48.340Z"
   },
   {
    "duration": 18,
    "start_time": "2021-10-22T12:31:48.606Z"
   },
   {
    "duration": 19,
    "start_time": "2021-10-22T12:31:48.626Z"
   },
   {
    "duration": 3660,
    "start_time": "2021-10-22T12:34:02.502Z"
   },
   {
    "duration": 9,
    "start_time": "2021-10-22T12:34:06.165Z"
   },
   {
    "duration": 43,
    "start_time": "2021-10-22T12:34:06.176Z"
   },
   {
    "duration": 5,
    "start_time": "2021-10-22T12:34:06.222Z"
   },
   {
    "duration": 24,
    "start_time": "2021-10-22T12:34:06.230Z"
   },
   {
    "duration": 84,
    "start_time": "2021-10-22T12:34:06.256Z"
   },
   {
    "duration": 10,
    "start_time": "2021-10-22T12:34:06.342Z"
   },
   {
    "duration": 6,
    "start_time": "2021-10-22T12:34:06.355Z"
   },
   {
    "duration": 339,
    "start_time": "2021-10-22T12:34:06.364Z"
   },
   {
    "duration": 2089,
    "start_time": "2021-10-22T12:34:06.706Z"
   },
   {
    "duration": 7,
    "start_time": "2021-10-22T12:34:08.798Z"
   },
   {
    "duration": 227,
    "start_time": "2021-10-22T12:34:08.807Z"
   },
   {
    "duration": 7,
    "start_time": "2021-10-22T12:34:09.037Z"
   },
   {
    "duration": 53,
    "start_time": "2021-10-22T12:34:09.047Z"
   },
   {
    "duration": 14,
    "start_time": "2021-10-22T12:34:09.124Z"
   },
   {
    "duration": 11,
    "start_time": "2021-10-22T12:34:09.141Z"
   },
   {
    "duration": 11,
    "start_time": "2021-10-22T12:34:09.154Z"
   },
   {
    "duration": 5,
    "start_time": "2021-10-22T12:34:09.168Z"
   },
   {
    "duration": 217,
    "start_time": "2021-10-22T12:34:09.176Z"
   },
   {
    "duration": 28,
    "start_time": "2021-10-22T12:34:09.396Z"
   },
   {
    "duration": 17,
    "start_time": "2021-10-22T12:34:09.427Z"
   },
   {
    "duration": 21,
    "start_time": "2021-10-22T12:34:09.446Z"
   },
   {
    "duration": 19,
    "start_time": "2021-10-22T12:34:09.472Z"
   },
   {
    "duration": 19,
    "start_time": "2021-10-22T12:34:09.494Z"
   },
   {
    "duration": 23,
    "start_time": "2021-10-22T12:34:09.515Z"
   },
   {
    "duration": 5,
    "start_time": "2021-10-22T12:34:09.540Z"
   },
   {
    "duration": 19,
    "start_time": "2021-10-22T12:34:09.547Z"
   },
   {
    "duration": 9,
    "start_time": "2021-10-22T12:34:09.569Z"
   },
   {
    "duration": 10,
    "start_time": "2021-10-22T12:34:09.581Z"
   },
   {
    "duration": 41,
    "start_time": "2021-10-22T12:34:09.593Z"
   },
   {
    "duration": 18,
    "start_time": "2021-10-22T12:34:09.637Z"
   },
   {
    "duration": 236,
    "start_time": "2021-10-22T12:34:09.658Z"
   },
   {
    "duration": 130,
    "start_time": "2021-10-22T12:34:09.896Z"
   },
   {
    "duration": 1235,
    "start_time": "2021-10-22T12:34:10.030Z"
   },
   {
    "duration": 53,
    "start_time": "2021-10-22T12:35:43.101Z"
   },
   {
    "duration": 1005,
    "start_time": "2021-10-22T12:35:44.107Z"
   },
   {
    "duration": 17,
    "start_time": "2021-10-22T12:35:59.460Z"
   },
   {
    "duration": 6,
    "start_time": "2021-10-22T12:36:10.198Z"
   },
   {
    "duration": 1121,
    "start_time": "2021-10-22T12:36:47.970Z"
   },
   {
    "duration": 7,
    "start_time": "2021-10-22T12:36:51.138Z"
   },
   {
    "duration": 7,
    "start_time": "2021-10-22T12:36:58.456Z"
   },
   {
    "duration": 1032,
    "start_time": "2021-10-22T12:38:02.626Z"
   },
   {
    "duration": 7,
    "start_time": "2021-10-22T12:38:06.119Z"
   },
   {
    "duration": 7,
    "start_time": "2021-10-22T12:38:07.009Z"
   },
   {
    "duration": 42,
    "start_time": "2021-10-22T13:03:31.909Z"
   },
   {
    "duration": 21,
    "start_time": "2021-10-22T13:03:48.317Z"
   },
   {
    "duration": 73,
    "start_time": "2021-10-22T13:03:51.268Z"
   },
   {
    "duration": 1487,
    "start_time": "2021-10-22T13:03:54.466Z"
   },
   {
    "duration": 470,
    "start_time": "2021-10-22T13:05:17.475Z"
   },
   {
    "duration": 89,
    "start_time": "2021-10-22T13:05:25.037Z"
   },
   {
    "duration": 3,
    "start_time": "2021-10-22T13:06:46.777Z"
   },
   {
    "duration": 124,
    "start_time": "2021-10-22T13:17:40.701Z"
   },
   {
    "duration": 1555,
    "start_time": "2021-10-22T13:20:32.250Z"
   },
   {
    "duration": 5,
    "start_time": "2021-10-22T13:34:43.439Z"
   },
   {
    "duration": 299,
    "start_time": "2021-10-22T13:34:45.086Z"
   },
   {
    "duration": 76877,
    "start_time": "2021-10-22T13:35:18.195Z"
   },
   {
    "duration": 445,
    "start_time": "2021-10-22T13:40:21.285Z"
   },
   {
    "duration": 2500,
    "start_time": "2021-10-22T13:40:45.618Z"
   },
   {
    "duration": 114,
    "start_time": "2021-10-22T13:40:51.799Z"
   },
   {
    "duration": 128,
    "start_time": "2021-10-22T13:41:10.981Z"
   },
   {
    "duration": 265,
    "start_time": "2021-10-22T13:41:12.133Z"
   },
   {
    "duration": 12,
    "start_time": "2021-10-22T13:41:17.573Z"
   },
   {
    "duration": 124,
    "start_time": "2021-10-22T13:41:37.279Z"
   },
   {
    "duration": 9,
    "start_time": "2021-10-22T13:53:25.727Z"
   },
   {
    "duration": 10,
    "start_time": "2021-10-22T13:58:54.932Z"
   },
   {
    "duration": 278,
    "start_time": "2021-10-22T14:00:48.545Z"
   },
   {
    "duration": 375,
    "start_time": "2021-10-22T14:04:37.481Z"
   },
   {
    "duration": 9,
    "start_time": "2021-10-22T14:04:47.868Z"
   },
   {
    "duration": 4,
    "start_time": "2021-10-22T14:05:09.329Z"
   },
   {
    "duration": 8,
    "start_time": "2021-10-22T14:05:20.696Z"
   },
   {
    "duration": 8,
    "start_time": "2021-10-22T14:05:34.641Z"
   },
   {
    "duration": 4,
    "start_time": "2021-10-22T14:06:28.233Z"
   },
   {
    "duration": 6,
    "start_time": "2021-10-22T14:06:29.848Z"
   },
   {
    "duration": 9,
    "start_time": "2021-10-22T14:06:30.601Z"
   },
   {
    "duration": 3813,
    "start_time": "2021-10-22T14:14:48.754Z"
   },
   {
    "duration": 8,
    "start_time": "2021-10-22T14:14:52.570Z"
   },
   {
    "duration": 49,
    "start_time": "2021-10-22T14:14:52.582Z"
   },
   {
    "duration": 5,
    "start_time": "2021-10-22T14:14:52.633Z"
   },
   {
    "duration": 21,
    "start_time": "2021-10-22T14:14:52.640Z"
   },
   {
    "duration": 86,
    "start_time": "2021-10-22T14:14:52.665Z"
   },
   {
    "duration": 12,
    "start_time": "2021-10-22T14:14:52.754Z"
   },
   {
    "duration": 8,
    "start_time": "2021-10-22T14:14:52.770Z"
   },
   {
    "duration": 255,
    "start_time": "2021-10-22T14:14:52.781Z"
   },
   {
    "duration": 1991,
    "start_time": "2021-10-22T14:14:53.039Z"
   },
   {
    "duration": 7,
    "start_time": "2021-10-22T14:14:55.033Z"
   },
   {
    "duration": 226,
    "start_time": "2021-10-22T14:14:55.042Z"
   },
   {
    "duration": 6,
    "start_time": "2021-10-22T14:14:55.271Z"
   },
   {
    "duration": 67,
    "start_time": "2021-10-22T14:14:55.280Z"
   },
   {
    "duration": 13,
    "start_time": "2021-10-22T14:14:55.349Z"
   },
   {
    "duration": 32,
    "start_time": "2021-10-22T14:14:55.364Z"
   },
   {
    "duration": 24,
    "start_time": "2021-10-22T14:14:55.399Z"
   },
   {
    "duration": 17,
    "start_time": "2021-10-22T14:14:55.426Z"
   },
   {
    "duration": 40,
    "start_time": "2021-10-22T14:14:55.447Z"
   },
   {
    "duration": 16,
    "start_time": "2021-10-22T14:14:55.490Z"
   },
   {
    "duration": 29,
    "start_time": "2021-10-22T14:14:55.509Z"
   },
   {
    "duration": 25,
    "start_time": "2021-10-22T14:14:55.540Z"
   },
   {
    "duration": 23,
    "start_time": "2021-10-22T14:14:55.570Z"
   },
   {
    "duration": 17,
    "start_time": "2021-10-22T14:14:55.597Z"
   },
   {
    "duration": 29,
    "start_time": "2021-10-22T14:14:55.616Z"
   },
   {
    "duration": 6,
    "start_time": "2021-10-22T14:14:55.647Z"
   },
   {
    "duration": 36,
    "start_time": "2021-10-22T14:14:55.655Z"
   },
   {
    "duration": 23,
    "start_time": "2021-10-22T14:14:55.694Z"
   },
   {
    "duration": 14,
    "start_time": "2021-10-22T14:14:55.720Z"
   },
   {
    "duration": 41,
    "start_time": "2021-10-22T14:14:55.736Z"
   },
   {
    "duration": 31,
    "start_time": "2021-10-22T14:14:55.779Z"
   },
   {
    "duration": 257,
    "start_time": "2021-10-22T14:14:55.812Z"
   },
   {
    "duration": 4,
    "start_time": "2021-10-22T14:14:56.071Z"
   },
   {
    "duration": 23,
    "start_time": "2021-10-22T14:14:56.077Z"
   },
   {
    "duration": 23,
    "start_time": "2021-10-22T14:14:56.103Z"
   },
   {
    "duration": 98,
    "start_time": "2021-10-22T14:14:56.128Z"
   },
   {
    "duration": 1414,
    "start_time": "2021-10-22T14:14:56.230Z"
   },
   {
    "duration": 7,
    "start_time": "2021-10-22T14:14:57.646Z"
   },
   {
    "duration": 10,
    "start_time": "2021-10-22T14:14:57.655Z"
   },
   {
    "duration": 156,
    "start_time": "2021-10-22T14:14:57.667Z"
   },
   {
    "duration": 1526,
    "start_time": "2021-10-22T14:14:57.829Z"
   },
   {
    "duration": 19,
    "start_time": "2021-10-22T14:14:59.357Z"
   },
   {
    "duration": 144,
    "start_time": "2021-10-22T14:14:59.379Z"
   },
   {
    "duration": 1525,
    "start_time": "2021-10-22T14:14:59.527Z"
   },
   {
    "duration": 78,
    "start_time": "2021-10-22T14:15:01.054Z"
   },
   {
    "duration": 457,
    "start_time": "2021-10-22T14:15:01.136Z"
   },
   {
    "duration": 8,
    "start_time": "2021-10-22T14:15:01.596Z"
   },
   {
    "duration": 301,
    "start_time": "2021-10-22T14:15:01.606Z"
   },
   {
    "duration": 3,
    "start_time": "2021-10-22T14:15:01.910Z"
   },
   {
    "duration": 29,
    "start_time": "2021-10-22T14:15:01.922Z"
   },
   {
    "duration": 21,
    "start_time": "2021-10-22T14:15:01.954Z"
   },
   {
    "duration": 1546,
    "start_time": "2021-10-22T14:15:01.977Z"
   },
   {
    "duration": 124,
    "start_time": "2021-10-22T14:15:03.527Z"
   },
   {
    "duration": 95,
    "start_time": "2021-10-22T14:15:03.727Z"
   },
   {
    "duration": 75659,
    "start_time": "2021-10-22T14:15:03.825Z"
   },
   {
    "duration": 2480,
    "start_time": "2021-10-22T14:16:19.486Z"
   },
   {
    "duration": 124,
    "start_time": "2021-10-22T14:16:21.969Z"
   },
   {
    "duration": 116,
    "start_time": "2021-10-22T14:16:22.095Z"
   },
   {
    "duration": 270,
    "start_time": "2021-10-22T14:16:22.213Z"
   },
   {
    "duration": 10,
    "start_time": "2021-10-22T14:16:22.485Z"
   },
   {
    "duration": 133,
    "start_time": "2021-10-22T14:16:22.497Z"
   },
   {
    "duration": 7,
    "start_time": "2021-10-22T14:17:59.300Z"
   },
   {
    "duration": 8,
    "start_time": "2021-10-22T14:18:01.382Z"
   },
   {
    "duration": 125,
    "start_time": "2021-10-22T14:19:29.697Z"
   },
   {
    "duration": 1128,
    "start_time": "2021-10-22T14:19:54.548Z"
   },
   {
    "duration": 119,
    "start_time": "2021-10-22T14:23:22.292Z"
   },
   {
    "duration": 94,
    "start_time": "2021-10-22T14:23:52.228Z"
   },
   {
    "duration": 1430,
    "start_time": "2021-10-22T14:24:04.694Z"
   },
   {
    "duration": 159,
    "start_time": "2021-10-22T14:24:07.364Z"
   },
   {
    "duration": 4031,
    "start_time": "2021-10-22T14:33:33.436Z"
   },
   {
    "duration": 10,
    "start_time": "2021-10-22T14:33:37.470Z"
   },
   {
    "duration": 46,
    "start_time": "2021-10-22T14:33:37.483Z"
   },
   {
    "duration": 7,
    "start_time": "2021-10-22T14:33:37.532Z"
   },
   {
    "duration": 23,
    "start_time": "2021-10-22T14:33:37.541Z"
   },
   {
    "duration": 101,
    "start_time": "2021-10-22T14:33:37.566Z"
   },
   {
    "duration": 10,
    "start_time": "2021-10-22T14:33:37.670Z"
   },
   {
    "duration": 7,
    "start_time": "2021-10-22T14:33:37.684Z"
   },
   {
    "duration": 253,
    "start_time": "2021-10-22T14:33:37.694Z"
   },
   {
    "duration": 2021,
    "start_time": "2021-10-22T14:33:37.949Z"
   },
   {
    "duration": 6,
    "start_time": "2021-10-22T14:33:39.972Z"
   },
   {
    "duration": 229,
    "start_time": "2021-10-22T14:33:39.981Z"
   },
   {
    "duration": 6,
    "start_time": "2021-10-22T14:33:40.212Z"
   },
   {
    "duration": 49,
    "start_time": "2021-10-22T14:33:40.223Z"
   },
   {
    "duration": 14,
    "start_time": "2021-10-22T14:33:40.274Z"
   },
   {
    "duration": 38,
    "start_time": "2021-10-22T14:33:40.290Z"
   },
   {
    "duration": 14,
    "start_time": "2021-10-22T14:33:40.331Z"
   },
   {
    "duration": 5,
    "start_time": "2021-10-22T14:33:40.347Z"
   },
   {
    "duration": 25,
    "start_time": "2021-10-22T14:33:40.354Z"
   },
   {
    "duration": 50,
    "start_time": "2021-10-22T14:33:40.381Z"
   },
   {
    "duration": 11,
    "start_time": "2021-10-22T14:33:40.433Z"
   },
   {
    "duration": 16,
    "start_time": "2021-10-22T14:33:40.446Z"
   },
   {
    "duration": 8,
    "start_time": "2021-10-22T14:33:40.469Z"
   },
   {
    "duration": 46,
    "start_time": "2021-10-22T14:33:40.480Z"
   },
   {
    "duration": 21,
    "start_time": "2021-10-22T14:33:40.529Z"
   },
   {
    "duration": 5,
    "start_time": "2021-10-22T14:33:40.553Z"
   },
   {
    "duration": 14,
    "start_time": "2021-10-22T14:33:40.561Z"
   },
   {
    "duration": 45,
    "start_time": "2021-10-22T14:33:40.578Z"
   },
   {
    "duration": 33,
    "start_time": "2021-10-22T14:33:40.625Z"
   },
   {
    "duration": 18,
    "start_time": "2021-10-22T14:33:40.660Z"
   },
   {
    "duration": 49,
    "start_time": "2021-10-22T14:33:40.680Z"
   },
   {
    "duration": 234,
    "start_time": "2021-10-22T14:33:40.732Z"
   },
   {
    "duration": 4,
    "start_time": "2021-10-22T14:33:40.969Z"
   },
   {
    "duration": 12,
    "start_time": "2021-10-22T14:33:40.976Z"
   },
   {
    "duration": 38,
    "start_time": "2021-10-22T14:33:40.991Z"
   },
   {
    "duration": 9,
    "start_time": "2021-10-22T14:33:41.032Z"
   },
   {
    "duration": 91,
    "start_time": "2021-10-22T14:33:41.044Z"
   },
   {
    "duration": 1326,
    "start_time": "2021-10-22T14:33:41.137Z"
   },
   {
    "duration": 7,
    "start_time": "2021-10-22T14:33:42.466Z"
   },
   {
    "duration": 9,
    "start_time": "2021-10-22T14:33:42.475Z"
   },
   {
    "duration": 238,
    "start_time": "2021-10-22T14:33:42.486Z"
   },
   {
    "duration": 1539,
    "start_time": "2021-10-22T14:33:42.726Z"
   },
   {
    "duration": 20,
    "start_time": "2021-10-22T14:33:44.267Z"
   },
   {
    "duration": 140,
    "start_time": "2021-10-22T14:33:44.289Z"
   },
   {
    "duration": 1530,
    "start_time": "2021-10-22T14:33:44.432Z"
   },
   {
    "duration": 61,
    "start_time": "2021-10-22T14:33:45.964Z"
   },
   {
    "duration": 435,
    "start_time": "2021-10-22T14:33:46.028Z"
   },
   {
    "duration": 8,
    "start_time": "2021-10-22T14:33:46.465Z"
   },
   {
    "duration": 298,
    "start_time": "2021-10-22T14:33:46.477Z"
   },
   {
    "duration": 3,
    "start_time": "2021-10-22T14:33:46.778Z"
   },
   {
    "duration": 12,
    "start_time": "2021-10-22T14:33:46.783Z"
   },
   {
    "duration": 18,
    "start_time": "2021-10-22T14:33:46.797Z"
   },
   {
    "duration": 1407,
    "start_time": "2021-10-22T14:33:46.817Z"
   },
   {
    "duration": 298,
    "start_time": "2021-10-22T14:33:48.227Z"
   },
   {
    "duration": 93,
    "start_time": "2021-10-22T14:33:48.528Z"
   },
   {
    "duration": 86670,
    "start_time": "2021-10-22T14:33:48.624Z"
   },
   {
    "duration": 2466,
    "start_time": "2021-10-22T14:35:15.296Z"
   },
   {
    "duration": 127,
    "start_time": "2021-10-22T14:35:17.765Z"
   },
   {
    "duration": 128,
    "start_time": "2021-10-22T14:35:17.895Z"
   },
   {
    "duration": 269,
    "start_time": "2021-10-22T14:35:18.025Z"
   },
   {
    "duration": 10,
    "start_time": "2021-10-22T14:35:18.296Z"
   },
   {
    "duration": 114,
    "start_time": "2021-10-22T14:35:18.308Z"
   },
   {
    "duration": 95697,
    "start_time": "2021-10-22T14:36:02.855Z"
   },
   {
    "duration": 4,
    "start_time": "2021-10-22T14:37:46.848Z"
   },
   {
    "duration": 47,
    "start_time": "2021-10-22T14:37:48.831Z"
   },
   {
    "duration": 37,
    "start_time": "2021-10-22T14:37:51.774Z"
   },
   {
    "duration": 334,
    "start_time": "2021-10-22T14:37:53.477Z"
   },
   {
    "duration": 10,
    "start_time": "2021-10-22T14:37:57.263Z"
   },
   {
    "duration": 36,
    "start_time": "2021-10-22T14:38:02.410Z"
   },
   {
    "duration": 8,
    "start_time": "2021-10-22T14:40:59.098Z"
   },
   {
    "duration": 3703,
    "start_time": "2021-10-22T14:41:06.863Z"
   },
   {
    "duration": 9,
    "start_time": "2021-10-22T14:41:10.569Z"
   },
   {
    "duration": 43,
    "start_time": "2021-10-22T14:41:10.581Z"
   },
   {
    "duration": 7,
    "start_time": "2021-10-22T14:41:10.626Z"
   },
   {
    "duration": 25,
    "start_time": "2021-10-22T14:41:10.635Z"
   },
   {
    "duration": 89,
    "start_time": "2021-10-22T14:41:10.662Z"
   },
   {
    "duration": 12,
    "start_time": "2021-10-22T14:41:10.754Z"
   },
   {
    "duration": 6,
    "start_time": "2021-10-22T14:41:10.770Z"
   },
   {
    "duration": 271,
    "start_time": "2021-10-22T14:41:10.778Z"
   },
   {
    "duration": 2160,
    "start_time": "2021-10-22T14:41:11.052Z"
   },
   {
    "duration": 8,
    "start_time": "2021-10-22T14:41:13.215Z"
   },
   {
    "duration": 216,
    "start_time": "2021-10-22T14:41:13.226Z"
   },
   {
    "duration": 6,
    "start_time": "2021-10-22T14:41:13.444Z"
   },
   {
    "duration": 70,
    "start_time": "2021-10-22T14:41:13.453Z"
   },
   {
    "duration": 14,
    "start_time": "2021-10-22T14:41:13.526Z"
   },
   {
    "duration": 10,
    "start_time": "2021-10-22T14:41:13.543Z"
   },
   {
    "duration": 11,
    "start_time": "2021-10-22T14:41:13.556Z"
   },
   {
    "duration": 6,
    "start_time": "2021-10-22T14:41:13.570Z"
   },
   {
    "duration": 62,
    "start_time": "2021-10-22T14:41:13.578Z"
   },
   {
    "duration": 12,
    "start_time": "2021-10-22T14:41:13.642Z"
   },
   {
    "duration": 13,
    "start_time": "2021-10-22T14:41:13.657Z"
   },
   {
    "duration": 52,
    "start_time": "2021-10-22T14:41:13.672Z"
   },
   {
    "duration": 8,
    "start_time": "2021-10-22T14:41:13.733Z"
   },
   {
    "duration": 8,
    "start_time": "2021-10-22T14:41:13.745Z"
   },
   {
    "duration": 24,
    "start_time": "2021-10-22T14:41:13.755Z"
   },
   {
    "duration": 42,
    "start_time": "2021-10-22T14:41:13.781Z"
   },
   {
    "duration": 10,
    "start_time": "2021-10-22T14:41:13.825Z"
   },
   {
    "duration": 5,
    "start_time": "2021-10-22T14:41:13.838Z"
   },
   {
    "duration": 33,
    "start_time": "2021-10-22T14:41:13.845Z"
   },
   {
    "duration": 45,
    "start_time": "2021-10-22T14:41:13.880Z"
   },
   {
    "duration": 16,
    "start_time": "2021-10-22T14:41:13.928Z"
   },
   {
    "duration": 236,
    "start_time": "2021-10-22T14:41:13.946Z"
   },
   {
    "duration": 4,
    "start_time": "2021-10-22T14:41:14.184Z"
   },
   {
    "duration": 16,
    "start_time": "2021-10-22T14:41:14.190Z"
   },
   {
    "duration": 18,
    "start_time": "2021-10-22T14:41:14.209Z"
   },
   {
    "duration": 8,
    "start_time": "2021-10-22T14:41:14.230Z"
   },
   {
    "duration": 181,
    "start_time": "2021-10-22T14:41:14.241Z"
   },
   {
    "duration": 1174,
    "start_time": "2021-10-22T14:41:14.425Z"
   },
   {
    "duration": 7,
    "start_time": "2021-10-22T14:41:15.602Z"
   },
   {
    "duration": 6,
    "start_time": "2021-10-22T14:41:15.623Z"
   },
   {
    "duration": 199,
    "start_time": "2021-10-22T14:41:15.631Z"
   },
   {
    "duration": 1682,
    "start_time": "2021-10-22T14:41:15.832Z"
   },
   {
    "duration": 26,
    "start_time": "2021-10-22T14:41:17.522Z"
   },
   {
    "duration": 74,
    "start_time": "2021-10-22T14:41:17.551Z"
   },
   {
    "duration": 1777,
    "start_time": "2021-10-22T14:41:17.629Z"
   },
   {
    "duration": 43,
    "start_time": "2021-10-22T14:41:19.408Z"
   },
   {
    "duration": 440,
    "start_time": "2021-10-22T14:41:19.454Z"
   },
   {
    "duration": 26,
    "start_time": "2021-10-22T14:41:19.896Z"
   },
   {
    "duration": 409,
    "start_time": "2021-10-22T14:41:19.926Z"
   },
   {
    "duration": 3,
    "start_time": "2021-10-22T14:41:20.338Z"
   },
   {
    "duration": 9,
    "start_time": "2021-10-22T14:41:20.343Z"
   },
   {
    "duration": 13,
    "start_time": "2021-10-22T14:41:20.354Z"
   },
   {
    "duration": 1465,
    "start_time": "2021-10-22T14:41:20.369Z"
   },
   {
    "duration": 201,
    "start_time": "2021-10-22T14:41:21.924Z"
   },
   {
    "duration": 6,
    "start_time": "2021-10-22T14:41:22.128Z"
   },
   {
    "duration": 77322,
    "start_time": "2021-10-22T14:41:22.138Z"
   },
   {
    "duration": 4,
    "start_time": "2021-10-22T14:42:39.462Z"
   },
   {
    "duration": 58,
    "start_time": "2021-10-22T14:42:39.468Z"
   },
   {
    "duration": 37,
    "start_time": "2021-10-22T14:42:39.529Z"
   },
   {
    "duration": 284,
    "start_time": "2021-10-22T14:42:39.568Z"
   },
   {
    "duration": 11,
    "start_time": "2021-10-22T14:42:39.854Z"
   },
   {
    "duration": 55,
    "start_time": "2021-10-22T14:42:39.868Z"
   },
   {
    "duration": 3904,
    "start_time": "2021-10-22T14:48:56.515Z"
   },
   {
    "duration": 2287,
    "start_time": "2021-10-22T14:49:00.422Z"
   },
   {
    "duration": 39,
    "start_time": "2021-10-22T14:49:02.713Z"
   },
   {
    "duration": 8,
    "start_time": "2021-10-22T14:49:02.755Z"
   },
   {
    "duration": 29,
    "start_time": "2021-10-22T14:49:02.772Z"
   },
   {
    "duration": 82,
    "start_time": "2021-10-22T14:49:02.803Z"
   },
   {
    "duration": 10,
    "start_time": "2021-10-22T14:49:02.888Z"
   },
   {
    "duration": 25,
    "start_time": "2021-10-22T14:49:02.902Z"
   },
   {
    "duration": 246,
    "start_time": "2021-10-22T14:49:02.930Z"
   },
   {
    "duration": 2419,
    "start_time": "2021-10-22T14:49:03.179Z"
   },
   {
    "duration": 7,
    "start_time": "2021-10-22T14:49:05.601Z"
   },
   {
    "duration": 276,
    "start_time": "2021-10-22T14:49:05.623Z"
   },
   {
    "duration": 7,
    "start_time": "2021-10-22T14:49:05.902Z"
   },
   {
    "duration": 56,
    "start_time": "2021-10-22T14:49:05.922Z"
   },
   {
    "duration": 13,
    "start_time": "2021-10-22T14:49:05.980Z"
   },
   {
    "duration": 30,
    "start_time": "2021-10-22T14:49:05.995Z"
   },
   {
    "duration": 21,
    "start_time": "2021-10-22T14:49:06.027Z"
   },
   {
    "duration": 21,
    "start_time": "2021-10-22T14:49:06.050Z"
   },
   {
    "duration": 28,
    "start_time": "2021-10-22T14:49:06.073Z"
   },
   {
    "duration": 20,
    "start_time": "2021-10-22T14:49:06.103Z"
   },
   {
    "duration": 16,
    "start_time": "2021-10-22T14:49:06.126Z"
   },
   {
    "duration": 29,
    "start_time": "2021-10-22T14:49:06.144Z"
   },
   {
    "duration": 23,
    "start_time": "2021-10-22T14:49:06.178Z"
   },
   {
    "duration": 20,
    "start_time": "2021-10-22T14:49:06.205Z"
   },
   {
    "duration": 31,
    "start_time": "2021-10-22T14:49:06.228Z"
   },
   {
    "duration": 11,
    "start_time": "2021-10-22T14:49:06.262Z"
   },
   {
    "duration": 24,
    "start_time": "2021-10-22T14:49:06.276Z"
   },
   {
    "duration": 23,
    "start_time": "2021-10-22T14:49:06.302Z"
   },
   {
    "duration": 45,
    "start_time": "2021-10-22T14:49:06.328Z"
   },
   {
    "duration": 17,
    "start_time": "2021-10-22T14:49:06.375Z"
   },
   {
    "duration": 29,
    "start_time": "2021-10-22T14:49:06.395Z"
   },
   {
    "duration": 230,
    "start_time": "2021-10-22T14:49:06.426Z"
   },
   {
    "duration": 4,
    "start_time": "2021-10-22T14:49:06.659Z"
   },
   {
    "duration": 25,
    "start_time": "2021-10-22T14:49:06.665Z"
   },
   {
    "duration": 11,
    "start_time": "2021-10-22T14:49:06.693Z"
   },
   {
    "duration": 21,
    "start_time": "2021-10-22T14:49:06.706Z"
   },
   {
    "duration": 100,
    "start_time": "2021-10-22T14:49:06.729Z"
   },
   {
    "duration": 1146,
    "start_time": "2021-10-22T14:49:06.832Z"
   },
   {
    "duration": 6,
    "start_time": "2021-10-22T14:49:07.980Z"
   },
   {
    "duration": 30,
    "start_time": "2021-10-22T14:49:07.988Z"
   },
   {
    "duration": 484,
    "start_time": "2021-10-22T14:49:08.021Z"
   },
   {
    "duration": -487,
    "start_time": "2021-10-22T14:49:08.994Z"
   },
   {
    "duration": -614,
    "start_time": "2021-10-22T14:49:09.122Z"
   },
   {
    "duration": -621,
    "start_time": "2021-10-22T14:49:09.131Z"
   },
   {
    "duration": -623,
    "start_time": "2021-10-22T14:49:09.134Z"
   },
   {
    "duration": -624,
    "start_time": "2021-10-22T14:49:09.137Z"
   },
   {
    "duration": -625,
    "start_time": "2021-10-22T14:49:09.139Z"
   },
   {
    "duration": -627,
    "start_time": "2021-10-22T14:49:09.142Z"
   },
   {
    "duration": -627,
    "start_time": "2021-10-22T14:49:09.144Z"
   },
   {
    "duration": -629,
    "start_time": "2021-10-22T14:49:09.147Z"
   },
   {
    "duration": -630,
    "start_time": "2021-10-22T14:49:09.150Z"
   },
   {
    "duration": -786,
    "start_time": "2021-10-22T14:49:09.307Z"
   },
   {
    "duration": -788,
    "start_time": "2021-10-22T14:49:09.310Z"
   },
   {
    "duration": -789,
    "start_time": "2021-10-22T14:49:09.313Z"
   },
   {
    "duration": -790,
    "start_time": "2021-10-22T14:49:09.315Z"
   },
   {
    "duration": -793,
    "start_time": "2021-10-22T14:49:09.319Z"
   },
   {
    "duration": -793,
    "start_time": "2021-10-22T14:49:09.321Z"
   },
   {
    "duration": -795,
    "start_time": "2021-10-22T14:49:09.324Z"
   },
   {
    "duration": -796,
    "start_time": "2021-10-22T14:49:09.326Z"
   },
   {
    "duration": -797,
    "start_time": "2021-10-22T14:49:09.329Z"
   },
   {
    "duration": -798,
    "start_time": "2021-10-22T14:49:09.331Z"
   },
   {
    "duration": -799,
    "start_time": "2021-10-22T14:49:09.334Z"
   },
   {
    "duration": 195,
    "start_time": "2021-10-22T14:53:18.527Z"
   },
   {
    "duration": 996,
    "start_time": "2021-10-22T14:53:18.726Z"
   },
   {
    "duration": 17,
    "start_time": "2021-10-22T14:53:19.725Z"
   },
   {
    "duration": 86,
    "start_time": "2021-10-22T14:53:19.745Z"
   },
   {
    "duration": 1439,
    "start_time": "2021-10-22T14:53:19.924Z"
   },
   {
    "duration": 60,
    "start_time": "2021-10-22T14:53:21.365Z"
   },
   {
    "duration": 447,
    "start_time": "2021-10-22T14:53:21.428Z"
   },
   {
    "duration": 9,
    "start_time": "2021-10-22T14:53:21.878Z"
   },
   {
    "duration": 297,
    "start_time": "2021-10-22T14:53:21.890Z"
   },
   {
    "duration": 3,
    "start_time": "2021-10-22T14:53:22.190Z"
   },
   {
    "duration": 9,
    "start_time": "2021-10-22T14:53:22.195Z"
   },
   {
    "duration": 17,
    "start_time": "2021-10-22T14:53:22.206Z"
   },
   {
    "duration": 1404,
    "start_time": "2021-10-22T14:53:22.226Z"
   },
   {
    "duration": 103,
    "start_time": "2021-10-22T14:53:23.723Z"
   },
   {
    "duration": 94,
    "start_time": "2021-10-22T14:53:23.830Z"
   },
   {
    "duration": 90038,
    "start_time": "2021-10-22T14:53:23.926Z"
   },
   {
    "duration": 3,
    "start_time": "2021-10-22T14:54:53.967Z"
   },
   {
    "duration": 62,
    "start_time": "2021-10-22T14:54:53.973Z"
   },
   {
    "duration": 35,
    "start_time": "2021-10-22T14:54:54.038Z"
   },
   {
    "duration": 279,
    "start_time": "2021-10-22T14:54:54.076Z"
   },
   {
    "duration": 10,
    "start_time": "2021-10-22T14:54:54.358Z"
   },
   {
    "duration": 61,
    "start_time": "2021-10-22T14:54:54.371Z"
   },
   {
    "duration": 68,
    "start_time": "2021-10-22T14:58:15.976Z"
   },
   {
    "duration": 1474,
    "start_time": "2021-10-22T14:58:16.047Z"
   },
   {
    "duration": 5,
    "start_time": "2021-10-22T14:58:17.525Z"
   },
   {
    "duration": 75115,
    "start_time": "2021-10-22T14:58:17.533Z"
   },
   {
    "duration": 3,
    "start_time": "2021-10-22T14:59:32.651Z"
   },
   {
    "duration": 62,
    "start_time": "2021-10-22T14:59:32.656Z"
   },
   {
    "duration": 37,
    "start_time": "2021-10-22T14:59:32.721Z"
   },
   {
    "duration": 284,
    "start_time": "2021-10-22T14:59:32.763Z"
   },
   {
    "duration": 13,
    "start_time": "2021-10-22T14:59:33.050Z"
   },
   {
    "duration": 62,
    "start_time": "2021-10-22T14:59:33.065Z"
   },
   {
    "duration": 127,
    "start_time": "2021-10-23T09:02:40.647Z"
   },
   {
    "duration": 95,
    "start_time": "2021-10-23T09:03:29.816Z"
   },
   {
    "duration": 93,
    "start_time": "2021-10-23T09:04:48.953Z"
   },
   {
    "duration": 95,
    "start_time": "2021-10-23T09:05:24.738Z"
   },
   {
    "duration": 9153,
    "start_time": "2021-10-23T09:06:10.559Z"
   },
   {
    "duration": 1715,
    "start_time": "2021-10-23T09:06:19.714Z"
   },
   {
    "duration": 90,
    "start_time": "2021-10-23T09:06:21.431Z"
   },
   {
    "duration": -146,
    "start_time": "2021-10-23T09:06:21.671Z"
   },
   {
    "duration": -150,
    "start_time": "2021-10-23T09:06:21.676Z"
   },
   {
    "duration": -152,
    "start_time": "2021-10-23T09:06:21.679Z"
   },
   {
    "duration": -153,
    "start_time": "2021-10-23T09:06:21.681Z"
   },
   {
    "duration": -156,
    "start_time": "2021-10-23T09:06:21.685Z"
   },
   {
    "duration": -159,
    "start_time": "2021-10-23T09:06:21.689Z"
   },
   {
    "duration": -161,
    "start_time": "2021-10-23T09:06:21.692Z"
   },
   {
    "duration": -167,
    "start_time": "2021-10-23T09:06:21.699Z"
   },
   {
    "duration": -171,
    "start_time": "2021-10-23T09:06:21.703Z"
   },
   {
    "duration": -174,
    "start_time": "2021-10-23T09:06:21.707Z"
   },
   {
    "duration": -177,
    "start_time": "2021-10-23T09:06:21.711Z"
   },
   {
    "duration": -216,
    "start_time": "2021-10-23T09:06:21.751Z"
   },
   {
    "duration": -222,
    "start_time": "2021-10-23T09:06:21.758Z"
   },
   {
    "duration": -224,
    "start_time": "2021-10-23T09:06:21.761Z"
   },
   {
    "duration": -227,
    "start_time": "2021-10-23T09:06:21.765Z"
   },
   {
    "duration": -229,
    "start_time": "2021-10-23T09:06:21.768Z"
   },
   {
    "duration": -233,
    "start_time": "2021-10-23T09:06:21.772Z"
   },
   {
    "duration": -235,
    "start_time": "2021-10-23T09:06:21.775Z"
   },
   {
    "duration": -239,
    "start_time": "2021-10-23T09:06:21.780Z"
   },
   {
    "duration": -241,
    "start_time": "2021-10-23T09:06:21.783Z"
   },
   {
    "duration": -244,
    "start_time": "2021-10-23T09:06:21.787Z"
   },
   {
    "duration": -246,
    "start_time": "2021-10-23T09:06:21.790Z"
   },
   {
    "duration": -248,
    "start_time": "2021-10-23T09:06:21.793Z"
   },
   {
    "duration": -250,
    "start_time": "2021-10-23T09:06:21.796Z"
   },
   {
    "duration": -252,
    "start_time": "2021-10-23T09:06:21.799Z"
   },
   {
    "duration": -254,
    "start_time": "2021-10-23T09:06:21.802Z"
   },
   {
    "duration": -256,
    "start_time": "2021-10-23T09:06:21.805Z"
   },
   {
    "duration": -258,
    "start_time": "2021-10-23T09:06:21.808Z"
   },
   {
    "duration": -260,
    "start_time": "2021-10-23T09:06:21.811Z"
   },
   {
    "duration": -261,
    "start_time": "2021-10-23T09:06:21.814Z"
   },
   {
    "duration": -263,
    "start_time": "2021-10-23T09:06:21.817Z"
   },
   {
    "duration": -263,
    "start_time": "2021-10-23T09:06:21.819Z"
   },
   {
    "duration": -265,
    "start_time": "2021-10-23T09:06:21.822Z"
   },
   {
    "duration": -267,
    "start_time": "2021-10-23T09:06:21.825Z"
   },
   {
    "duration": -270,
    "start_time": "2021-10-23T09:06:21.829Z"
   },
   {
    "duration": -271,
    "start_time": "2021-10-23T09:06:21.831Z"
   },
   {
    "duration": -272,
    "start_time": "2021-10-23T09:06:21.834Z"
   },
   {
    "duration": -274,
    "start_time": "2021-10-23T09:06:21.837Z"
   },
   {
    "duration": -276,
    "start_time": "2021-10-23T09:06:21.840Z"
   },
   {
    "duration": -356,
    "start_time": "2021-10-23T09:06:21.921Z"
   },
   {
    "duration": -359,
    "start_time": "2021-10-23T09:06:21.925Z"
   },
   {
    "duration": -479,
    "start_time": "2021-10-23T09:06:22.046Z"
   },
   {
    "duration": -583,
    "start_time": "2021-10-23T09:06:22.151Z"
   },
   {
    "duration": -584,
    "start_time": "2021-10-23T09:06:22.154Z"
   },
   {
    "duration": -585,
    "start_time": "2021-10-23T09:06:22.157Z"
   },
   {
    "duration": -586,
    "start_time": "2021-10-23T09:06:22.159Z"
   },
   {
    "duration": -587,
    "start_time": "2021-10-23T09:06:22.162Z"
   },
   {
    "duration": -588,
    "start_time": "2021-10-23T09:06:22.164Z"
   },
   {
    "duration": -596,
    "start_time": "2021-10-23T09:06:22.173Z"
   },
   {
    "duration": -596,
    "start_time": "2021-10-23T09:06:22.175Z"
   },
   {
    "duration": -598,
    "start_time": "2021-10-23T09:06:22.178Z"
   },
   {
    "duration": -599,
    "start_time": "2021-10-23T09:06:22.180Z"
   },
   {
    "duration": -602,
    "start_time": "2021-10-23T09:06:22.184Z"
   },
   {
    "duration": -603,
    "start_time": "2021-10-23T09:06:22.186Z"
   },
   {
    "duration": -606,
    "start_time": "2021-10-23T09:06:22.190Z"
   },
   {
    "duration": -607,
    "start_time": "2021-10-23T09:06:22.192Z"
   },
   {
    "duration": -609,
    "start_time": "2021-10-23T09:06:22.195Z"
   },
   {
    "duration": -610,
    "start_time": "2021-10-23T09:06:22.197Z"
   },
   {
    "duration": -612,
    "start_time": "2021-10-23T09:06:22.200Z"
   },
   {
    "duration": -613,
    "start_time": "2021-10-23T09:06:22.202Z"
   },
   {
    "duration": -616,
    "start_time": "2021-10-23T09:06:22.206Z"
   },
   {
    "duration": -617,
    "start_time": "2021-10-23T09:06:22.208Z"
   },
   {
    "duration": -620,
    "start_time": "2021-10-23T09:06:22.212Z"
   },
   {
    "duration": 93,
    "start_time": "2021-10-23T09:06:48.524Z"
   },
   {
    "duration": 94,
    "start_time": "2021-10-23T09:07:36.589Z"
   },
   {
    "duration": 7372,
    "start_time": "2021-10-23T09:09:31.839Z"
   },
   {
    "duration": 5,
    "start_time": "2021-10-23T09:09:41.665Z"
   },
   {
    "duration": 88,
    "start_time": "2021-10-23T09:09:47.975Z"
   },
   {
    "duration": 2889,
    "start_time": "2021-10-23T09:10:12.380Z"
   },
   {
    "duration": 3080,
    "start_time": "2021-10-23T09:10:15.272Z"
   },
   {
    "duration": 8,
    "start_time": "2021-10-23T09:10:18.355Z"
   },
   {
    "duration": 36,
    "start_time": "2021-10-23T09:10:18.365Z"
   },
   {
    "duration": 7,
    "start_time": "2021-10-23T09:10:18.403Z"
   },
   {
    "duration": 17,
    "start_time": "2021-10-23T09:10:18.412Z"
   },
   {
    "duration": 57,
    "start_time": "2021-10-23T09:10:18.430Z"
   },
   {
    "duration": 7,
    "start_time": "2021-10-23T09:10:18.490Z"
   },
   {
    "duration": 17,
    "start_time": "2021-10-23T09:10:18.499Z"
   },
   {
    "duration": 173,
    "start_time": "2021-10-23T09:10:18.517Z"
   },
   {
    "duration": 1340,
    "start_time": "2021-10-23T09:10:18.691Z"
   },
   {
    "duration": 19,
    "start_time": "2021-10-23T09:10:20.033Z"
   },
   {
    "duration": 135,
    "start_time": "2021-10-23T09:10:20.055Z"
   },
   {
    "duration": 5,
    "start_time": "2021-10-23T09:10:20.192Z"
   },
   {
    "duration": 49,
    "start_time": "2021-10-23T09:10:20.198Z"
   },
   {
    "duration": 14,
    "start_time": "2021-10-23T09:10:20.249Z"
   },
   {
    "duration": 10,
    "start_time": "2021-10-23T09:10:20.265Z"
   },
   {
    "duration": 12,
    "start_time": "2021-10-23T09:10:20.277Z"
   },
   {
    "duration": 16,
    "start_time": "2021-10-23T09:10:20.291Z"
   },
   {
    "duration": 28,
    "start_time": "2021-10-23T09:10:20.309Z"
   },
   {
    "duration": 30,
    "start_time": "2021-10-23T09:10:20.339Z"
   },
   {
    "duration": 23,
    "start_time": "2021-10-23T09:10:20.371Z"
   },
   {
    "duration": 15,
    "start_time": "2021-10-23T09:10:20.398Z"
   },
   {
    "duration": 20,
    "start_time": "2021-10-23T09:10:20.415Z"
   },
   {
    "duration": 36,
    "start_time": "2021-10-23T09:10:20.437Z"
   },
   {
    "duration": 24,
    "start_time": "2021-10-23T09:10:20.474Z"
   },
   {
    "duration": 4,
    "start_time": "2021-10-23T09:10:20.500Z"
   },
   {
    "duration": 13,
    "start_time": "2021-10-23T09:10:20.506Z"
   },
   {
    "duration": 7,
    "start_time": "2021-10-23T09:10:20.521Z"
   },
   {
    "duration": 44,
    "start_time": "2021-10-23T09:10:20.531Z"
   },
   {
    "duration": 33,
    "start_time": "2021-10-23T09:10:20.578Z"
   },
   {
    "duration": 137,
    "start_time": "2021-10-23T09:10:20.613Z"
   },
   {
    "duration": -196,
    "start_time": "2021-10-23T09:10:20.949Z"
   },
   {
    "duration": -199,
    "start_time": "2021-10-23T09:10:20.953Z"
   },
   {
    "duration": -200,
    "start_time": "2021-10-23T09:10:20.956Z"
   },
   {
    "duration": -204,
    "start_time": "2021-10-23T09:10:20.961Z"
   },
   {
    "duration": -206,
    "start_time": "2021-10-23T09:10:20.965Z"
   },
   {
    "duration": -208,
    "start_time": "2021-10-23T09:10:20.968Z"
   },
   {
    "duration": -210,
    "start_time": "2021-10-23T09:10:20.971Z"
   },
   {
    "duration": -213,
    "start_time": "2021-10-23T09:10:20.975Z"
   },
   {
    "duration": -214,
    "start_time": "2021-10-23T09:10:20.978Z"
   },
   {
    "duration": -216,
    "start_time": "2021-10-23T09:10:20.981Z"
   },
   {
    "duration": -217,
    "start_time": "2021-10-23T09:10:20.983Z"
   },
   {
    "duration": -219,
    "start_time": "2021-10-23T09:10:20.986Z"
   },
   {
    "duration": -220,
    "start_time": "2021-10-23T09:10:20.989Z"
   },
   {
    "duration": -222,
    "start_time": "2021-10-23T09:10:20.992Z"
   },
   {
    "duration": -224,
    "start_time": "2021-10-23T09:10:20.996Z"
   },
   {
    "duration": -282,
    "start_time": "2021-10-23T09:10:21.055Z"
   },
   {
    "duration": -285,
    "start_time": "2021-10-23T09:10:21.059Z"
   },
   {
    "duration": -289,
    "start_time": "2021-10-23T09:10:21.064Z"
   },
   {
    "duration": -291,
    "start_time": "2021-10-23T09:10:21.067Z"
   },
   {
    "duration": -292,
    "start_time": "2021-10-23T09:10:21.069Z"
   },
   {
    "duration": -294,
    "start_time": "2021-10-23T09:10:21.072Z"
   },
   {
    "duration": -297,
    "start_time": "2021-10-23T09:10:21.076Z"
   },
   {
    "duration": -300,
    "start_time": "2021-10-23T09:10:21.080Z"
   },
   {
    "duration": -302,
    "start_time": "2021-10-23T09:10:21.083Z"
   },
   {
    "duration": -304,
    "start_time": "2021-10-23T09:10:21.086Z"
   },
   {
    "duration": -307,
    "start_time": "2021-10-23T09:10:21.089Z"
   },
   {
    "duration": -309,
    "start_time": "2021-10-23T09:10:21.092Z"
   },
   {
    "duration": -317,
    "start_time": "2021-10-23T09:10:21.101Z"
   },
   {
    "duration": -318,
    "start_time": "2021-10-23T09:10:21.103Z"
   },
   {
    "duration": -320,
    "start_time": "2021-10-23T09:10:21.106Z"
   },
   {
    "duration": -322,
    "start_time": "2021-10-23T09:10:21.109Z"
   },
   {
    "duration": -324,
    "start_time": "2021-10-23T09:10:21.112Z"
   },
   {
    "duration": -325,
    "start_time": "2021-10-23T09:10:21.114Z"
   },
   {
    "duration": -273,
    "start_time": "2021-10-23T09:10:21.117Z"
   },
   {
    "duration": 90,
    "start_time": "2021-10-23T09:13:28.834Z"
   },
   {
    "duration": 3299,
    "start_time": "2021-10-23T09:16:59.100Z"
   },
   {
    "duration": 2930,
    "start_time": "2021-10-23T09:17:02.402Z"
   },
   {
    "duration": 5,
    "start_time": "2021-10-23T09:17:05.335Z"
   },
   {
    "duration": 38,
    "start_time": "2021-10-23T09:17:05.342Z"
   },
   {
    "duration": 4,
    "start_time": "2021-10-23T09:17:05.382Z"
   },
   {
    "duration": 14,
    "start_time": "2021-10-23T09:17:05.387Z"
   },
   {
    "duration": 43,
    "start_time": "2021-10-23T09:17:05.403Z"
   },
   {
    "duration": 10,
    "start_time": "2021-10-23T09:17:05.452Z"
   },
   {
    "duration": 5,
    "start_time": "2021-10-23T09:17:05.464Z"
   },
   {
    "duration": 154,
    "start_time": "2021-10-23T09:17:05.471Z"
   },
   {
    "duration": 1357,
    "start_time": "2021-10-23T09:17:05.627Z"
   },
   {
    "duration": 5,
    "start_time": "2021-10-23T09:17:06.986Z"
   },
   {
    "duration": 150,
    "start_time": "2021-10-23T09:17:06.993Z"
   },
   {
    "duration": 6,
    "start_time": "2021-10-23T09:17:07.146Z"
   },
   {
    "duration": 39,
    "start_time": "2021-10-23T09:17:07.154Z"
   },
   {
    "duration": 9,
    "start_time": "2021-10-23T09:17:07.194Z"
   },
   {
    "duration": 25,
    "start_time": "2021-10-23T09:17:07.205Z"
   },
   {
    "duration": 24,
    "start_time": "2021-10-23T09:17:07.232Z"
   },
   {
    "duration": 25,
    "start_time": "2021-10-23T09:17:07.259Z"
   },
   {
    "duration": 28,
    "start_time": "2021-10-23T09:17:07.286Z"
   },
   {
    "duration": 28,
    "start_time": "2021-10-23T09:17:07.316Z"
   },
   {
    "duration": 10,
    "start_time": "2021-10-23T09:17:07.347Z"
   },
   {
    "duration": 10,
    "start_time": "2021-10-23T09:17:07.363Z"
   },
   {
    "duration": 7,
    "start_time": "2021-10-23T09:17:07.376Z"
   },
   {
    "duration": 9,
    "start_time": "2021-10-23T09:17:07.384Z"
   },
   {
    "duration": 15,
    "start_time": "2021-10-23T09:17:07.395Z"
   },
   {
    "duration": 34,
    "start_time": "2021-10-23T09:17:07.411Z"
   },
   {
    "duration": 12,
    "start_time": "2021-10-23T09:17:07.447Z"
   },
   {
    "duration": 3,
    "start_time": "2021-10-23T09:17:07.462Z"
   },
   {
    "duration": 22,
    "start_time": "2021-10-23T09:17:07.467Z"
   },
   {
    "duration": 10,
    "start_time": "2021-10-23T09:17:07.491Z"
   },
   {
    "duration": 51,
    "start_time": "2021-10-23T09:17:07.503Z"
   },
   {
    "duration": 144,
    "start_time": "2021-10-23T09:17:07.556Z"
   },
   {
    "duration": 2,
    "start_time": "2021-10-23T09:17:07.702Z"
   },
   {
    "duration": 9,
    "start_time": "2021-10-23T09:17:07.706Z"
   },
   {
    "duration": 8,
    "start_time": "2021-10-23T09:17:07.717Z"
   },
   {
    "duration": 22,
    "start_time": "2021-10-23T09:17:07.727Z"
   },
   {
    "duration": 94,
    "start_time": "2021-10-23T09:17:07.751Z"
   },
   {
    "duration": 816,
    "start_time": "2021-10-23T09:17:07.848Z"
   },
   {
    "duration": 4,
    "start_time": "2021-10-23T09:17:08.666Z"
   },
   {
    "duration": 6,
    "start_time": "2021-10-23T09:17:08.672Z"
   },
   {
    "duration": 96,
    "start_time": "2021-10-23T09:17:08.679Z"
   },
   {
    "duration": -102,
    "start_time": "2021-10-23T09:17:08.878Z"
   },
   {
    "duration": -118,
    "start_time": "2021-10-23T09:17:08.896Z"
   },
   {
    "duration": -122,
    "start_time": "2021-10-23T09:17:08.901Z"
   },
   {
    "duration": -131,
    "start_time": "2021-10-23T09:17:08.910Z"
   },
   {
    "duration": -132,
    "start_time": "2021-10-23T09:17:08.913Z"
   },
   {
    "duration": -138,
    "start_time": "2021-10-23T09:17:08.920Z"
   },
   {
    "duration": -145,
    "start_time": "2021-10-23T09:17:08.928Z"
   },
   {
    "duration": -150,
    "start_time": "2021-10-23T09:17:08.934Z"
   },
   {
    "duration": -152,
    "start_time": "2021-10-23T09:17:08.937Z"
   },
   {
    "duration": -160,
    "start_time": "2021-10-23T09:17:08.946Z"
   },
   {
    "duration": -163,
    "start_time": "2021-10-23T09:17:08.950Z"
   },
   {
    "duration": -165,
    "start_time": "2021-10-23T09:17:08.953Z"
   },
   {
    "duration": -167,
    "start_time": "2021-10-23T09:17:08.956Z"
   },
   {
    "duration": -174,
    "start_time": "2021-10-23T09:17:08.964Z"
   },
   {
    "duration": -177,
    "start_time": "2021-10-23T09:17:08.968Z"
   },
   {
    "duration": -179,
    "start_time": "2021-10-23T09:17:08.971Z"
   },
   {
    "duration": -188,
    "start_time": "2021-10-23T09:17:08.981Z"
   },
   {
    "duration": -191,
    "start_time": "2021-10-23T09:17:08.985Z"
   },
   {
    "duration": -217,
    "start_time": "2021-10-23T09:17:09.012Z"
   },
   {
    "duration": -220,
    "start_time": "2021-10-23T09:17:09.016Z"
   },
   {
    "duration": -223,
    "start_time": "2021-10-23T09:17:09.020Z"
   },
   {
    "duration": -227,
    "start_time": "2021-10-23T09:17:09.025Z"
   },
   {
    "duration": -230,
    "start_time": "2021-10-23T09:17:09.029Z"
   },
   {
    "duration": 38,
    "start_time": "2021-10-23T09:18:48.118Z"
   },
   {
    "duration": 880,
    "start_time": "2021-10-23T09:18:48.160Z"
   },
   {
    "duration": 18,
    "start_time": "2021-10-23T09:18:49.044Z"
   },
   {
    "duration": 83,
    "start_time": "2021-10-23T09:18:49.064Z"
   },
   {
    "duration": 1068,
    "start_time": "2021-10-23T09:18:49.149Z"
   },
   {
    "duration": 35,
    "start_time": "2021-10-23T09:18:50.219Z"
   },
   {
    "duration": 362,
    "start_time": "2021-10-23T09:18:50.256Z"
   },
   {
    "duration": 7,
    "start_time": "2021-10-23T09:18:50.620Z"
   },
   {
    "duration": 202,
    "start_time": "2021-10-23T09:18:50.629Z"
   },
   {
    "duration": 2,
    "start_time": "2021-10-23T09:18:50.833Z"
   },
   {
    "duration": 9,
    "start_time": "2021-10-23T09:18:50.837Z"
   },
   {
    "duration": 11,
    "start_time": "2021-10-23T09:18:50.848Z"
   },
   {
    "duration": 44,
    "start_time": "2021-10-23T09:18:50.862Z"
   },
   {
    "duration": 1053,
    "start_time": "2021-10-23T09:18:50.907Z"
   },
   {
    "duration": 3,
    "start_time": "2021-10-23T09:18:51.961Z"
   },
   {
    "duration": 51652,
    "start_time": "2021-10-23T09:18:51.966Z"
   },
   {
    "duration": 2,
    "start_time": "2021-10-23T09:19:43.620Z"
   },
   {
    "duration": 38,
    "start_time": "2021-10-23T09:19:43.623Z"
   },
   {
    "duration": 28,
    "start_time": "2021-10-23T09:19:43.663Z"
   },
   {
    "duration": 173,
    "start_time": "2021-10-23T09:19:43.693Z"
   },
   {
    "duration": 9,
    "start_time": "2021-10-23T09:19:43.868Z"
   },
   {
    "duration": 25,
    "start_time": "2021-10-23T09:19:43.879Z"
   },
   {
    "duration": 452,
    "start_time": "2021-10-23T09:23:57.449Z"
   },
   {
    "duration": 310,
    "start_time": "2021-10-23T09:24:08.080Z"
   },
   {
    "duration": 295,
    "start_time": "2021-10-23T09:24:18.866Z"
   },
   {
    "duration": 7,
    "start_time": "2021-10-23T09:24:46.961Z"
   },
   {
    "duration": 7,
    "start_time": "2021-10-23T09:25:16.269Z"
   },
   {
    "duration": 7,
    "start_time": "2021-10-23T09:25:55.955Z"
   },
   {
    "duration": 9,
    "start_time": "2021-10-23T09:27:13.451Z"
   },
   {
    "duration": 7,
    "start_time": "2021-10-23T09:27:27.338Z"
   },
   {
    "duration": 2900,
    "start_time": "2021-10-23T10:20:33.871Z"
   },
   {
    "duration": 7,
    "start_time": "2021-10-23T10:21:20.968Z"
   },
   {
    "duration": 6,
    "start_time": "2021-10-23T10:21:49.346Z"
   },
   {
    "duration": 94,
    "start_time": "2021-10-23T10:29:39.273Z"
   },
   {
    "duration": 710,
    "start_time": "2021-10-23T10:34:31.791Z"
   },
   {
    "duration": 124,
    "start_time": "2021-10-23T10:38:44.451Z"
   },
   {
    "duration": 14065,
    "start_time": "2021-10-23T12:35:48.316Z"
   },
   {
    "duration": 9917,
    "start_time": "2021-10-23T12:36:02.385Z"
   },
   {
    "duration": 2096,
    "start_time": "2021-10-23T12:36:12.305Z"
   },
   {
    "duration": 35,
    "start_time": "2021-10-23T12:36:14.404Z"
   },
   {
    "duration": 8,
    "start_time": "2021-10-23T12:36:14.441Z"
   },
   {
    "duration": 34,
    "start_time": "2021-10-23T12:36:14.451Z"
   },
   {
    "duration": 57,
    "start_time": "2021-10-23T12:36:14.487Z"
   },
   {
    "duration": 29,
    "start_time": "2021-10-23T12:36:14.547Z"
   },
   {
    "duration": 7,
    "start_time": "2021-10-23T12:36:14.581Z"
   },
   {
    "duration": 741,
    "start_time": "2021-10-23T12:36:14.592Z"
   },
   {
    "duration": 2145,
    "start_time": "2021-10-23T12:36:15.336Z"
   },
   {
    "duration": 5,
    "start_time": "2021-10-23T12:36:17.484Z"
   },
   {
    "duration": 218,
    "start_time": "2021-10-23T12:36:17.492Z"
   },
   {
    "duration": 7,
    "start_time": "2021-10-23T12:36:17.713Z"
   },
   {
    "duration": 69,
    "start_time": "2021-10-23T12:36:17.723Z"
   },
   {
    "duration": 19,
    "start_time": "2021-10-23T12:36:17.795Z"
   },
   {
    "duration": 7,
    "start_time": "2021-10-23T12:36:17.817Z"
   },
   {
    "duration": 41,
    "start_time": "2021-10-23T12:36:17.826Z"
   },
   {
    "duration": 3,
    "start_time": "2021-10-23T12:36:17.869Z"
   },
   {
    "duration": 21,
    "start_time": "2021-10-23T12:36:17.874Z"
   },
   {
    "duration": 10,
    "start_time": "2021-10-23T12:36:17.898Z"
   },
   {
    "duration": 13,
    "start_time": "2021-10-23T12:36:17.911Z"
   },
   {
    "duration": 55,
    "start_time": "2021-10-23T12:36:17.927Z"
   },
   {
    "duration": 10,
    "start_time": "2021-10-23T12:36:17.984Z"
   },
   {
    "duration": 7,
    "start_time": "2021-10-23T12:36:17.997Z"
   },
   {
    "duration": 20,
    "start_time": "2021-10-23T12:36:18.006Z"
   },
   {
    "duration": 6,
    "start_time": "2021-10-23T12:36:18.068Z"
   },
   {
    "duration": 10,
    "start_time": "2021-10-23T12:36:18.077Z"
   },
   {
    "duration": 9,
    "start_time": "2021-10-23T12:36:18.089Z"
   },
   {
    "duration": 9,
    "start_time": "2021-10-23T12:36:18.101Z"
   },
   {
    "duration": 5,
    "start_time": "2021-10-23T12:36:18.112Z"
   },
   {
    "duration": 60,
    "start_time": "2021-10-23T12:36:18.119Z"
   },
   {
    "duration": 16,
    "start_time": "2021-10-23T12:36:18.182Z"
   },
   {
    "duration": 17,
    "start_time": "2021-10-23T12:36:18.201Z"
   },
   {
    "duration": 261,
    "start_time": "2021-10-23T12:36:18.221Z"
   },
   {
    "duration": 5,
    "start_time": "2021-10-23T12:36:18.485Z"
   },
   {
    "duration": 7,
    "start_time": "2021-10-23T12:36:18.493Z"
   },
   {
    "duration": 11,
    "start_time": "2021-10-23T12:36:18.503Z"
   },
   {
    "duration": 50,
    "start_time": "2021-10-23T12:36:18.517Z"
   },
   {
    "duration": 101,
    "start_time": "2021-10-23T12:36:18.570Z"
   },
   {
    "duration": 1163,
    "start_time": "2021-10-23T12:36:18.675Z"
   },
   {
    "duration": 6,
    "start_time": "2021-10-23T12:36:19.841Z"
   },
   {
    "duration": 20,
    "start_time": "2021-10-23T12:36:19.850Z"
   },
   {
    "duration": 7,
    "start_time": "2021-10-23T12:36:19.872Z"
   },
   {
    "duration": 7,
    "start_time": "2021-10-23T12:36:19.881Z"
   },
   {
    "duration": 78,
    "start_time": "2021-10-23T12:36:19.891Z"
   },
   {
    "duration": 1130,
    "start_time": "2021-10-23T12:36:19.972Z"
   },
   {
    "duration": 15,
    "start_time": "2021-10-23T12:36:21.105Z"
   },
   {
    "duration": 65,
    "start_time": "2021-10-23T12:36:21.122Z"
   },
   {
    "duration": 1703,
    "start_time": "2021-10-23T12:36:21.269Z"
   },
   {
    "duration": 40,
    "start_time": "2021-10-23T12:36:22.974Z"
   },
   {
    "duration": 327,
    "start_time": "2021-10-23T12:36:23.070Z"
   },
   {
    "duration": 7,
    "start_time": "2021-10-23T12:36:23.400Z"
   },
   {
    "duration": 302,
    "start_time": "2021-10-23T12:36:23.410Z"
   },
   {
    "duration": 3,
    "start_time": "2021-10-23T12:36:23.714Z"
   },
   {
    "duration": 6,
    "start_time": "2021-10-23T12:36:23.719Z"
   },
   {
    "duration": 10,
    "start_time": "2021-10-23T12:36:23.727Z"
   },
   {
    "duration": 85,
    "start_time": "2021-10-23T12:36:23.739Z"
   },
   {
    "duration": 1495,
    "start_time": "2021-10-23T12:36:23.827Z"
   },
   {
    "duration": 4,
    "start_time": "2021-10-23T12:36:25.324Z"
   },
   {
    "duration": 76393,
    "start_time": "2021-10-23T12:36:25.330Z"
   },
   {
    "duration": 3,
    "start_time": "2021-10-23T12:37:41.725Z"
   },
   {
    "duration": 50,
    "start_time": "2021-10-23T12:37:41.731Z"
   },
   {
    "duration": 34,
    "start_time": "2021-10-23T12:37:41.784Z"
   },
   {
    "duration": 290,
    "start_time": "2021-10-23T12:37:41.821Z"
   },
   {
    "duration": 10,
    "start_time": "2021-10-23T12:37:42.113Z"
   },
   {
    "duration": 63,
    "start_time": "2021-10-23T12:37:42.125Z"
   },
   {
    "duration": 9,
    "start_time": "2021-10-23T12:48:59.233Z"
   },
   {
    "duration": 8,
    "start_time": "2021-10-23T12:49:20.343Z"
   },
   {
    "duration": 9,
    "start_time": "2021-10-23T12:50:25.274Z"
   },
   {
    "duration": 284,
    "start_time": "2021-10-23T12:55:47.215Z"
   },
   {
    "duration": 65,
    "start_time": "2021-10-23T12:58:14.409Z"
   },
   {
    "duration": 1503,
    "start_time": "2021-10-23T12:58:16.481Z"
   },
   {
    "duration": 4,
    "start_time": "2021-10-23T13:00:03.226Z"
   },
   {
    "duration": 123596,
    "start_time": "2021-10-23T13:00:06.497Z"
   },
   {
    "duration": 90,
    "start_time": "2021-10-23T13:02:24.652Z"
   },
   {
    "duration": 88,
    "start_time": "2021-10-23T13:02:43.117Z"
   },
   {
    "duration": 252,
    "start_time": "2021-10-23T13:02:52.233Z"
   },
   {
    "duration": 10,
    "start_time": "2021-10-23T13:02:53.986Z"
   },
   {
    "duration": 369,
    "start_time": "2021-10-23T13:04:07.156Z"
   },
   {
    "duration": 10,
    "start_time": "2021-10-23T13:04:08.861Z"
   },
   {
    "duration": 72,
    "start_time": "2021-10-23T13:04:41.340Z"
   },
   {
    "duration": 73,
    "start_time": "2021-10-23T13:08:50.072Z"
   },
   {
    "duration": 4,
    "start_time": "2021-10-23T13:10:08.196Z"
   },
   {
    "duration": 530,
    "start_time": "2021-10-23T13:25:14.662Z"
   },
   {
    "duration": 237,
    "start_time": "2021-10-23T13:25:50.863Z"
   },
   {
    "duration": 16,
    "start_time": "2021-10-23T13:27:08.945Z"
   },
   {
    "duration": 2691,
    "start_time": "2021-10-23T13:30:21.194Z"
   },
   {
    "duration": 2852,
    "start_time": "2021-10-23T13:31:10.083Z"
   },
   {
    "duration": 66,
    "start_time": "2021-10-23T13:35:07.175Z"
   },
   {
    "duration": 66,
    "start_time": "2021-10-23T13:36:21.572Z"
   },
   {
    "duration": 67,
    "start_time": "2021-10-23T13:36:42.537Z"
   },
   {
    "duration": 466,
    "start_time": "2021-10-23T13:39:05.595Z"
   },
   {
    "duration": 68,
    "start_time": "2021-10-23T13:39:18.971Z"
   },
   {
    "duration": 251,
    "start_time": "2021-10-23T13:39:23.468Z"
   },
   {
    "duration": 2769,
    "start_time": "2021-10-23T13:43:04.612Z"
   },
   {
    "duration": 10,
    "start_time": "2021-10-23T13:44:31.390Z"
   },
   {
    "duration": 21,
    "start_time": "2021-10-23T13:44:48.435Z"
   },
   {
    "duration": 301,
    "start_time": "2021-10-23T13:45:15.475Z"
   },
   {
    "duration": 5,
    "start_time": "2021-10-23T13:45:23.374Z"
   },
   {
    "duration": 265,
    "start_time": "2021-10-23T13:45:45.118Z"
   },
   {
    "duration": 7,
    "start_time": "2021-10-23T13:45:58.765Z"
   },
   {
    "duration": 481,
    "start_time": "2021-10-23T13:49:06.357Z"
   },
   {
    "duration": 19,
    "start_time": "2021-10-23T13:49:24.188Z"
   },
   {
    "duration": 2795,
    "start_time": "2021-10-23T13:49:26.450Z"
   },
   {
    "duration": 68,
    "start_time": "2021-10-23T13:50:23.782Z"
   },
   {
    "duration": 242,
    "start_time": "2021-10-23T13:50:39.815Z"
   },
   {
    "duration": 4521,
    "start_time": "2021-10-23T13:53:52.201Z"
   },
   {
    "duration": 4292,
    "start_time": "2021-10-23T13:53:56.725Z"
   },
   {
    "duration": 9,
    "start_time": "2021-10-23T13:54:01.021Z"
   },
   {
    "duration": 43,
    "start_time": "2021-10-23T13:54:01.033Z"
   },
   {
    "duration": 6,
    "start_time": "2021-10-23T13:54:01.079Z"
   },
   {
    "duration": 33,
    "start_time": "2021-10-23T13:54:01.088Z"
   },
   {
    "duration": 79,
    "start_time": "2021-10-23T13:54:01.123Z"
   },
   {
    "duration": 13,
    "start_time": "2021-10-23T13:54:01.206Z"
   },
   {
    "duration": 7,
    "start_time": "2021-10-23T13:54:01.224Z"
   },
   {
    "duration": 275,
    "start_time": "2021-10-23T13:54:01.234Z"
   },
   {
    "duration": 2389,
    "start_time": "2021-10-23T13:54:01.513Z"
   },
   {
    "duration": 6,
    "start_time": "2021-10-23T13:54:03.905Z"
   },
   {
    "duration": 232,
    "start_time": "2021-10-23T13:54:03.914Z"
   },
   {
    "duration": 6,
    "start_time": "2021-10-23T13:54:04.148Z"
   },
   {
    "duration": 52,
    "start_time": "2021-10-23T13:54:04.168Z"
   },
   {
    "duration": 49,
    "start_time": "2021-10-23T13:54:04.223Z"
   },
   {
    "duration": 10,
    "start_time": "2021-10-23T13:54:04.275Z"
   },
   {
    "duration": 10,
    "start_time": "2021-10-23T13:54:04.288Z"
   },
   {
    "duration": 4,
    "start_time": "2021-10-23T13:54:04.301Z"
   },
   {
    "duration": 59,
    "start_time": "2021-10-23T13:54:04.308Z"
   },
   {
    "duration": 16,
    "start_time": "2021-10-23T13:54:04.369Z"
   },
   {
    "duration": 9,
    "start_time": "2021-10-23T13:54:04.387Z"
   },
   {
    "duration": 18,
    "start_time": "2021-10-23T13:54:04.402Z"
   },
   {
    "duration": 45,
    "start_time": "2021-10-23T13:54:04.424Z"
   },
   {
    "duration": 8,
    "start_time": "2021-10-23T13:54:04.473Z"
   },
   {
    "duration": 23,
    "start_time": "2021-10-23T13:54:04.483Z"
   },
   {
    "duration": 5,
    "start_time": "2021-10-23T13:54:04.509Z"
   },
   {
    "duration": 20,
    "start_time": "2021-10-23T13:54:04.516Z"
   },
   {
    "duration": 33,
    "start_time": "2021-10-23T13:54:04.538Z"
   },
   {
    "duration": 10,
    "start_time": "2021-10-23T13:54:04.573Z"
   },
   {
    "duration": 5,
    "start_time": "2021-10-23T13:54:04.585Z"
   },
   {
    "duration": 23,
    "start_time": "2021-10-23T13:54:04.592Z"
   },
   {
    "duration": 55,
    "start_time": "2021-10-23T13:54:04.618Z"
   },
   {
    "duration": 24,
    "start_time": "2021-10-23T13:54:04.676Z"
   },
   {
    "duration": 352,
    "start_time": "2021-10-23T13:54:04.702Z"
   },
   {
    "duration": 3,
    "start_time": "2021-10-23T13:54:05.057Z"
   },
   {
    "duration": 8,
    "start_time": "2021-10-23T13:54:05.068Z"
   },
   {
    "duration": 10,
    "start_time": "2021-10-23T13:54:05.079Z"
   },
   {
    "duration": 11,
    "start_time": "2021-10-23T13:54:05.092Z"
   },
   {
    "duration": 165,
    "start_time": "2021-10-23T13:54:05.106Z"
   },
   {
    "duration": 1179,
    "start_time": "2021-10-23T13:54:05.274Z"
   },
   {
    "duration": 15,
    "start_time": "2021-10-23T13:54:06.456Z"
   },
   {
    "duration": 16,
    "start_time": "2021-10-23T13:54:06.475Z"
   },
   {
    "duration": 9,
    "start_time": "2021-10-23T13:54:06.494Z"
   },
   {
    "duration": 18,
    "start_time": "2021-10-23T13:54:06.505Z"
   },
   {
    "duration": 158,
    "start_time": "2021-10-23T13:54:06.525Z"
   },
   {
    "duration": 1079,
    "start_time": "2021-10-23T13:54:06.768Z"
   },
   {
    "duration": 24,
    "start_time": "2021-10-23T13:54:07.850Z"
   },
   {
    "duration": 96,
    "start_time": "2021-10-23T13:54:07.876Z"
   },
   {
    "duration": 1677,
    "start_time": "2021-10-23T13:54:07.976Z"
   },
   {
    "duration": 114,
    "start_time": "2021-10-23T13:54:09.655Z"
   },
   {
    "duration": 324,
    "start_time": "2021-10-23T13:54:09.772Z"
   },
   {
    "duration": 9,
    "start_time": "2021-10-23T13:54:10.098Z"
   },
   {
    "duration": 321,
    "start_time": "2021-10-23T13:54:10.110Z"
   },
   {
    "duration": 3,
    "start_time": "2021-10-23T13:54:10.433Z"
   },
   {
    "duration": 9,
    "start_time": "2021-10-23T13:54:10.438Z"
   },
   {
    "duration": 4,
    "start_time": "2021-10-23T13:54:10.449Z"
   },
   {
    "duration": 64,
    "start_time": "2021-10-23T13:54:10.469Z"
   },
   {
    "duration": 1562,
    "start_time": "2021-10-23T13:54:10.536Z"
   },
   {
    "duration": 4,
    "start_time": "2021-10-23T13:54:12.101Z"
   },
   {
    "duration": 93817,
    "start_time": "2021-10-23T13:54:12.107Z"
   },
   {
    "duration": 116,
    "start_time": "2021-10-23T13:55:45.926Z"
   },
   {
    "duration": 103,
    "start_time": "2021-10-23T13:55:46.044Z"
   },
   {
    "duration": 286,
    "start_time": "2021-10-23T13:55:46.149Z"
   },
   {
    "duration": 10,
    "start_time": "2021-10-23T13:55:46.438Z"
   },
   {
    "duration": 90,
    "start_time": "2021-10-23T13:55:46.450Z"
   },
   {
    "duration": 7,
    "start_time": "2021-10-23T13:55:46.542Z"
   },
   {
    "duration": 15,
    "start_time": "2021-10-23T13:55:46.572Z"
   },
   {
    "duration": 7,
    "start_time": "2021-10-23T13:55:46.590Z"
   },
   {
    "duration": 15,
    "start_time": "2021-10-23T13:55:46.600Z"
   },
   {
    "duration": 2731,
    "start_time": "2021-10-23T13:55:46.618Z"
   },
   {
    "duration": 77,
    "start_time": "2021-10-23T13:55:49.352Z"
   },
   {
    "duration": 257,
    "start_time": "2021-10-23T13:55:49.432Z"
   },
   {
    "duration": 117,
    "start_time": "2021-10-23T13:58:24.022Z"
   },
   {
    "duration": 9477,
    "start_time": "2021-10-23T17:11:17.437Z"
   },
   {
    "duration": 9349,
    "start_time": "2021-10-23T17:11:26.917Z"
   },
   {
    "duration": 2047,
    "start_time": "2021-10-23T17:11:36.270Z"
   },
   {
    "duration": 34,
    "start_time": "2021-10-23T17:11:38.320Z"
   },
   {
    "duration": 7,
    "start_time": "2021-10-23T17:11:38.356Z"
   },
   {
    "duration": 23,
    "start_time": "2021-10-23T17:11:38.365Z"
   },
   {
    "duration": 86,
    "start_time": "2021-10-23T17:11:38.390Z"
   },
   {
    "duration": 11,
    "start_time": "2021-10-23T17:11:38.481Z"
   },
   {
    "duration": 8,
    "start_time": "2021-10-23T17:11:38.494Z"
   },
   {
    "duration": 570,
    "start_time": "2021-10-23T17:11:38.530Z"
   },
   {
    "duration": 2056,
    "start_time": "2021-10-23T17:11:39.103Z"
   },
   {
    "duration": 5,
    "start_time": "2021-10-23T17:11:41.161Z"
   },
   {
    "duration": 212,
    "start_time": "2021-10-23T17:11:41.168Z"
   },
   {
    "duration": 6,
    "start_time": "2021-10-23T17:11:41.382Z"
   },
   {
    "duration": 67,
    "start_time": "2021-10-23T17:11:41.390Z"
   },
   {
    "duration": 18,
    "start_time": "2021-10-23T17:11:41.460Z"
   },
   {
    "duration": 7,
    "start_time": "2021-10-23T17:11:41.480Z"
   },
   {
    "duration": 9,
    "start_time": "2021-10-23T17:11:41.489Z"
   },
   {
    "duration": 3,
    "start_time": "2021-10-23T17:11:41.529Z"
   },
   {
    "duration": 20,
    "start_time": "2021-10-23T17:11:41.534Z"
   },
   {
    "duration": 10,
    "start_time": "2021-10-23T17:11:41.556Z"
   },
   {
    "duration": 11,
    "start_time": "2021-10-23T17:11:41.568Z"
   },
   {
    "duration": 54,
    "start_time": "2021-10-23T17:11:41.584Z"
   },
   {
    "duration": 8,
    "start_time": "2021-10-23T17:11:41.641Z"
   },
   {
    "duration": 7,
    "start_time": "2021-10-23T17:11:41.652Z"
   },
   {
    "duration": 21,
    "start_time": "2021-10-23T17:11:41.661Z"
   },
   {
    "duration": 5,
    "start_time": "2021-10-23T17:11:41.684Z"
   },
   {
    "duration": 9,
    "start_time": "2021-10-23T17:11:41.730Z"
   },
   {
    "duration": 10,
    "start_time": "2021-10-23T17:11:41.741Z"
   },
   {
    "duration": 8,
    "start_time": "2021-10-23T17:11:41.753Z"
   },
   {
    "duration": 7,
    "start_time": "2021-10-23T17:11:41.763Z"
   },
   {
    "duration": 21,
    "start_time": "2021-10-23T17:11:41.772Z"
   },
   {
    "duration": 48,
    "start_time": "2021-10-23T17:11:41.795Z"
   },
   {
    "duration": 17,
    "start_time": "2021-10-23T17:11:41.846Z"
   },
   {
    "duration": 233,
    "start_time": "2021-10-23T17:11:41.866Z"
   },
   {
    "duration": 3,
    "start_time": "2021-10-23T17:11:42.101Z"
   },
   {
    "duration": 8,
    "start_time": "2021-10-23T17:11:42.106Z"
   },
   {
    "duration": 8,
    "start_time": "2021-10-23T17:11:42.129Z"
   },
   {
    "duration": 6,
    "start_time": "2021-10-23T17:11:42.139Z"
   },
   {
    "duration": 89,
    "start_time": "2021-10-23T17:11:42.147Z"
   },
   {
    "duration": 1210,
    "start_time": "2021-10-23T17:11:42.239Z"
   },
   {
    "duration": 6,
    "start_time": "2021-10-23T17:11:43.452Z"
   },
   {
    "duration": 7,
    "start_time": "2021-10-23T17:11:43.461Z"
   },
   {
    "duration": 10,
    "start_time": "2021-10-23T17:11:43.471Z"
   },
   {
    "duration": 50,
    "start_time": "2021-10-23T17:11:43.483Z"
   },
   {
    "duration": 106,
    "start_time": "2021-10-23T17:11:43.536Z"
   },
   {
    "duration": 1065,
    "start_time": "2021-10-23T17:11:43.730Z"
   },
   {
    "duration": 13,
    "start_time": "2021-10-23T17:11:44.798Z"
   },
   {
    "duration": 119,
    "start_time": "2021-10-23T17:11:44.814Z"
   },
   {
    "duration": 1499,
    "start_time": "2021-10-23T17:11:44.936Z"
   },
   {
    "duration": 91,
    "start_time": "2021-10-23T17:11:46.438Z"
   },
   {
    "duration": 331,
    "start_time": "2021-10-23T17:11:46.533Z"
   },
   {
    "duration": 10,
    "start_time": "2021-10-23T17:11:46.867Z"
   },
   {
    "duration": 311,
    "start_time": "2021-10-23T17:11:46.880Z"
   },
   {
    "duration": 4,
    "start_time": "2021-10-23T17:11:47.194Z"
   },
   {
    "duration": 13,
    "start_time": "2021-10-23T17:11:47.201Z"
   },
   {
    "duration": 17,
    "start_time": "2021-10-23T17:11:47.217Z"
   },
   {
    "duration": 72,
    "start_time": "2021-10-23T17:11:47.236Z"
   },
   {
    "duration": 1455,
    "start_time": "2021-10-23T17:11:47.311Z"
   },
   {
    "duration": 5,
    "start_time": "2021-10-23T17:11:48.769Z"
   },
   {
    "duration": 81729,
    "start_time": "2021-10-23T17:11:48.777Z"
   },
   {
    "duration": 98,
    "start_time": "2021-10-23T17:13:10.508Z"
   },
   {
    "duration": 93,
    "start_time": "2021-10-23T17:13:10.609Z"
   },
   {
    "duration": 274,
    "start_time": "2021-10-23T17:13:10.704Z"
   },
   {
    "duration": 9,
    "start_time": "2021-10-23T17:13:10.981Z"
   },
   {
    "duration": 88,
    "start_time": "2021-10-23T17:13:10.992Z"
   },
   {
    "duration": 6,
    "start_time": "2021-10-23T17:13:11.082Z"
   },
   {
    "duration": 14,
    "start_time": "2021-10-23T17:13:11.095Z"
   },
   {
    "duration": 22,
    "start_time": "2021-10-23T17:13:11.111Z"
   },
   {
    "duration": 27,
    "start_time": "2021-10-23T17:13:11.135Z"
   },
   {
    "duration": 2488,
    "start_time": "2021-10-23T17:13:11.164Z"
   },
   {
    "duration": 76,
    "start_time": "2021-10-23T17:13:13.654Z"
   },
   {
    "duration": 234,
    "start_time": "2021-10-23T17:13:13.732Z"
   },
   {
    "duration": 92,
    "start_time": "2021-10-23T17:16:40.871Z"
   },
   {
    "duration": 101,
    "start_time": "2021-10-23T17:32:17.046Z"
   },
   {
    "duration": 4,
    "start_time": "2021-10-23T17:32:36.012Z"
   },
   {
    "duration": 112967,
    "start_time": "2021-10-23T17:32:37.480Z"
   },
   {
    "duration": 114009,
    "start_time": "2021-10-23T17:51:02.271Z"
   },
   {
    "duration": 134,
    "start_time": "2021-10-23T17:52:56.282Z"
   },
   {
    "duration": 118,
    "start_time": "2021-10-23T17:58:55.538Z"
   },
   {
    "duration": 247,
    "start_time": "2021-10-23T17:58:56.448Z"
   },
   {
    "duration": 9,
    "start_time": "2021-10-23T17:58:59.332Z"
   },
   {
    "duration": 86,
    "start_time": "2021-10-23T17:59:45.256Z"
   },
   {
    "duration": 8,
    "start_time": "2021-10-23T17:59:53.782Z"
   },
   {
    "duration": 6,
    "start_time": "2021-10-23T17:59:54.726Z"
   },
   {
    "duration": 7,
    "start_time": "2021-10-23T17:59:55.866Z"
   },
   {
    "duration": 12,
    "start_time": "2021-10-23T18:00:02.040Z"
   },
   {
    "duration": 2490,
    "start_time": "2021-10-23T18:00:23.879Z"
   },
   {
    "duration": 63,
    "start_time": "2021-10-23T18:00:34.067Z"
   },
   {
    "duration": 292,
    "start_time": "2021-10-23T18:00:39.656Z"
   },
   {
    "duration": 12,
    "start_time": "2021-10-23T18:10:45.632Z"
   },
   {
    "duration": 9,
    "start_time": "2021-10-23T18:11:10.481Z"
   },
   {
    "duration": 4398,
    "start_time": "2021-10-23T18:24:40.703Z"
   },
   {
    "duration": 3734,
    "start_time": "2021-10-23T18:24:45.104Z"
   },
   {
    "duration": 9,
    "start_time": "2021-10-23T18:24:48.842Z"
   },
   {
    "duration": 41,
    "start_time": "2021-10-23T18:24:48.855Z"
   },
   {
    "duration": 5,
    "start_time": "2021-10-23T18:24:48.898Z"
   },
   {
    "duration": 28,
    "start_time": "2021-10-23T18:24:48.906Z"
   },
   {
    "duration": 60,
    "start_time": "2021-10-23T18:24:48.938Z"
   },
   {
    "duration": 37,
    "start_time": "2021-10-23T18:24:49.001Z"
   },
   {
    "duration": 8,
    "start_time": "2021-10-23T18:24:49.044Z"
   },
   {
    "duration": 257,
    "start_time": "2021-10-23T18:24:49.055Z"
   },
   {
    "duration": 2115,
    "start_time": "2021-10-23T18:24:49.314Z"
   },
   {
    "duration": 6,
    "start_time": "2021-10-23T18:24:51.433Z"
   },
   {
    "duration": 240,
    "start_time": "2021-10-23T18:24:51.441Z"
   },
   {
    "duration": 5,
    "start_time": "2021-10-23T18:24:51.684Z"
   },
   {
    "duration": 64,
    "start_time": "2021-10-23T18:24:51.691Z"
   },
   {
    "duration": 20,
    "start_time": "2021-10-23T18:24:51.757Z"
   },
   {
    "duration": 7,
    "start_time": "2021-10-23T18:24:51.780Z"
   },
   {
    "duration": 42,
    "start_time": "2021-10-23T18:24:51.789Z"
   },
   {
    "duration": 4,
    "start_time": "2021-10-23T18:24:51.834Z"
   },
   {
    "duration": 22,
    "start_time": "2021-10-23T18:24:51.840Z"
   },
   {
    "duration": 17,
    "start_time": "2021-10-23T18:24:51.865Z"
   },
   {
    "duration": 9,
    "start_time": "2021-10-23T18:24:51.884Z"
   },
   {
    "duration": 18,
    "start_time": "2021-10-23T18:24:51.930Z"
   },
   {
    "duration": 15,
    "start_time": "2021-10-23T18:24:51.951Z"
   },
   {
    "duration": 10,
    "start_time": "2021-10-23T18:24:51.969Z"
   },
   {
    "duration": 54,
    "start_time": "2021-10-23T18:24:51.982Z"
   },
   {
    "duration": 5,
    "start_time": "2021-10-23T18:24:52.042Z"
   },
   {
    "duration": 13,
    "start_time": "2021-10-23T18:24:52.051Z"
   },
   {
    "duration": 17,
    "start_time": "2021-10-23T18:24:52.067Z"
   },
   {
    "duration": 14,
    "start_time": "2021-10-23T18:24:52.088Z"
   },
   {
    "duration": 31,
    "start_time": "2021-10-23T18:24:52.104Z"
   },
   {
    "duration": 21,
    "start_time": "2021-10-23T18:24:52.138Z"
   },
   {
    "duration": 16,
    "start_time": "2021-10-23T18:24:52.161Z"
   },
   {
    "duration": 16,
    "start_time": "2021-10-23T18:24:52.179Z"
   },
   {
    "duration": 257,
    "start_time": "2021-10-23T18:24:52.197Z"
   },
   {
    "duration": 4,
    "start_time": "2021-10-23T18:24:52.457Z"
   },
   {
    "duration": 9,
    "start_time": "2021-10-23T18:24:52.464Z"
   },
   {
    "duration": 7,
    "start_time": "2021-10-23T18:24:52.476Z"
   },
   {
    "duration": 48,
    "start_time": "2021-10-23T18:24:52.485Z"
   },
   {
    "duration": 94,
    "start_time": "2021-10-23T18:24:52.536Z"
   },
   {
    "duration": 1199,
    "start_time": "2021-10-23T18:24:52.634Z"
   },
   {
    "duration": 6,
    "start_time": "2021-10-23T18:24:53.835Z"
   },
   {
    "duration": 12,
    "start_time": "2021-10-23T18:24:53.843Z"
   },
   {
    "duration": 9,
    "start_time": "2021-10-23T18:24:53.859Z"
   },
   {
    "duration": 8,
    "start_time": "2021-10-23T18:24:53.871Z"
   },
   {
    "duration": 148,
    "start_time": "2021-10-23T18:24:53.881Z"
   },
   {
    "duration": 1152,
    "start_time": "2021-10-23T18:24:54.034Z"
   },
   {
    "duration": 14,
    "start_time": "2021-10-23T18:24:55.188Z"
   },
   {
    "duration": 63,
    "start_time": "2021-10-23T18:24:55.204Z"
   },
   {
    "duration": 1700,
    "start_time": "2021-10-23T18:24:55.332Z"
   },
   {
    "duration": 41,
    "start_time": "2021-10-23T18:24:57.035Z"
   },
   {
    "duration": 344,
    "start_time": "2021-10-23T18:24:57.131Z"
   },
   {
    "duration": 11,
    "start_time": "2021-10-23T18:24:57.478Z"
   },
   {
    "duration": 330,
    "start_time": "2021-10-23T18:24:57.491Z"
   },
   {
    "duration": 3,
    "start_time": "2021-10-23T18:24:57.829Z"
   },
   {
    "duration": 33,
    "start_time": "2021-10-23T18:24:57.834Z"
   },
   {
    "duration": 27,
    "start_time": "2021-10-23T18:24:57.869Z"
   },
   {
    "duration": 86,
    "start_time": "2021-10-23T18:24:57.899Z"
   },
   {
    "duration": 1560,
    "start_time": "2021-10-23T18:24:57.987Z"
   },
   {
    "duration": 5,
    "start_time": "2021-10-23T18:24:59.550Z"
   },
   {
    "duration": 123932,
    "start_time": "2021-10-23T18:24:59.558Z"
   },
   {
    "duration": 142,
    "start_time": "2021-10-23T18:27:03.493Z"
   },
   {
    "duration": 131,
    "start_time": "2021-10-23T18:27:03.638Z"
   },
   {
    "duration": 265,
    "start_time": "2021-10-23T18:27:03.771Z"
   },
   {
    "duration": 10,
    "start_time": "2021-10-23T18:27:04.038Z"
   },
   {
    "duration": 242,
    "start_time": "2021-10-23T18:27:04.051Z"
   },
   {
    "duration": 7,
    "start_time": "2021-10-23T18:27:04.295Z"
   },
   {
    "duration": 25,
    "start_time": "2021-10-23T18:27:04.305Z"
   },
   {
    "duration": 6,
    "start_time": "2021-10-23T18:27:04.333Z"
   },
   {
    "duration": 8,
    "start_time": "2021-10-23T18:27:04.341Z"
   },
   {
    "duration": 13,
    "start_time": "2021-10-23T18:27:04.351Z"
   },
   {
    "duration": 2589,
    "start_time": "2021-10-23T18:27:04.366Z"
   },
   {
    "duration": 77,
    "start_time": "2021-10-23T18:27:06.957Z"
   },
   {
    "duration": 242,
    "start_time": "2021-10-23T18:27:07.036Z"
   },
   {
    "duration": 18652,
    "start_time": "2021-10-23T20:30:15.859Z"
   },
   {
    "duration": 18751,
    "start_time": "2021-10-23T20:30:34.514Z"
   },
   {
    "duration": 2901,
    "start_time": "2021-10-23T22:35:21.487Z"
   },
   {
    "duration": 38,
    "start_time": "2021-10-23T22:35:24.391Z"
   },
   {
    "duration": 12,
    "start_time": "2021-10-23T22:35:24.436Z"
   },
   {
    "duration": 23,
    "start_time": "2021-10-23T22:35:24.450Z"
   },
   {
    "duration": 99,
    "start_time": "2021-10-23T22:35:24.476Z"
   },
   {
    "duration": 10,
    "start_time": "2021-10-23T22:35:24.577Z"
   },
   {
    "duration": 35,
    "start_time": "2021-10-23T22:35:24.591Z"
   },
   {
    "duration": 3257,
    "start_time": "2021-10-23T22:35:24.629Z"
   },
   {
    "duration": 2272,
    "start_time": "2021-10-23T22:35:27.889Z"
   },
   {
    "duration": 6,
    "start_time": "2021-10-23T22:35:30.164Z"
   },
   {
    "duration": 237,
    "start_time": "2021-10-23T22:35:30.173Z"
   },
   {
    "duration": 10,
    "start_time": "2021-10-23T22:35:30.415Z"
   },
   {
    "duration": 64,
    "start_time": "2021-10-23T22:35:30.428Z"
   },
   {
    "duration": 51,
    "start_time": "2021-10-23T22:35:30.494Z"
   },
   {
    "duration": 11,
    "start_time": "2021-10-23T22:35:39.695Z"
   },
   {
    "duration": 11,
    "start_time": "2021-10-23T22:35:39.920Z"
   },
   {
    "duration": 4,
    "start_time": "2021-10-23T22:35:40.307Z"
   },
   {
    "duration": 18,
    "start_time": "2021-10-23T22:35:42.662Z"
   },
   {
    "duration": 13,
    "start_time": "2021-10-23T22:35:42.684Z"
   },
   {
    "duration": 11,
    "start_time": "2021-10-23T22:35:42.944Z"
   },
   {
    "duration": 17,
    "start_time": "2021-10-23T22:35:44.364Z"
   },
   {
    "duration": 10,
    "start_time": "2021-10-23T22:35:45.046Z"
   },
   {
    "duration": 9,
    "start_time": "2021-10-23T22:35:45.540Z"
   },
   {
    "duration": 20,
    "start_time": "2021-10-23T22:35:52.058Z"
   },
   {
    "duration": 5,
    "start_time": "2021-10-23T22:35:52.260Z"
   },
   {
    "duration": 10,
    "start_time": "2021-10-23T22:35:52.484Z"
   },
   {
    "duration": 8,
    "start_time": "2021-10-23T22:35:54.408Z"
   },
   {
    "duration": 8,
    "start_time": "2021-10-23T22:35:55.038Z"
   },
   {
    "duration": 4,
    "start_time": "2021-10-23T22:36:17.072Z"
   },
   {
    "duration": 19,
    "start_time": "2021-10-23T22:36:17.274Z"
   },
   {
    "duration": 17,
    "start_time": "2021-10-23T22:36:18.045Z"
   },
   {
    "duration": 15,
    "start_time": "2021-10-23T22:36:33.188Z"
   },
   {
    "duration": 222,
    "start_time": "2021-10-23T22:36:33.391Z"
   },
   {
    "duration": 4,
    "start_time": "2021-10-23T22:36:38.262Z"
   },
   {
    "duration": 6,
    "start_time": "2021-10-23T22:36:38.512Z"
   },
   {
    "duration": 8,
    "start_time": "2021-10-23T22:36:38.762Z"
   },
   {
    "duration": 8,
    "start_time": "2021-10-23T22:36:39.258Z"
   },
   {
    "duration": 92,
    "start_time": "2021-10-23T22:36:50.532Z"
   },
   {
    "duration": 1139,
    "start_time": "2021-10-23T22:36:52.937Z"
   },
   {
    "duration": 7,
    "start_time": "2021-10-23T22:36:57.722Z"
   },
   {
    "duration": 7,
    "start_time": "2021-10-23T22:36:57.883Z"
   },
   {
    "duration": 7,
    "start_time": "2021-10-23T22:36:58.267Z"
   },
   {
    "duration": 8,
    "start_time": "2021-10-23T22:36:58.883Z"
   },
   {
    "duration": 156,
    "start_time": "2021-10-23T22:37:02.967Z"
   },
   {
    "duration": 1471,
    "start_time": "2021-10-23T22:37:04.359Z"
   },
   {
    "duration": 21,
    "start_time": "2021-10-23T22:37:17.262Z"
   },
   {
    "duration": 84,
    "start_time": "2021-10-23T22:37:18.159Z"
   },
   {
    "duration": 1527,
    "start_time": "2021-10-23T22:37:22.134Z"
   },
   {
    "duration": 42,
    "start_time": "2021-10-23T22:37:32.087Z"
   },
   {
    "duration": 253,
    "start_time": "2021-10-23T22:37:47.122Z"
   },
   {
    "duration": 11,
    "start_time": "2021-10-23T22:37:53.620Z"
   },
   {
    "duration": 319,
    "start_time": "2021-10-23T22:37:55.736Z"
   },
   {
    "duration": 63,
    "start_time": "2021-10-23T22:38:01.845Z"
   },
   {
    "duration": 1548,
    "start_time": "2021-10-23T22:38:08.930Z"
   },
   {
    "duration": 10,
    "start_time": "2021-10-23T22:39:20.685Z"
   },
   {
    "duration": 6,
    "start_time": "2021-10-23T22:39:21.877Z"
   },
   {
    "duration": 9,
    "start_time": "2021-10-23T22:39:23.034Z"
   },
   {
    "duration": 20,
    "start_time": "2021-10-23T22:39:29.764Z"
   },
   {
    "duration": 2721,
    "start_time": "2021-10-23T22:39:31.698Z"
   },
   {
    "duration": 1013,
    "start_time": "2021-10-23T22:39:42.549Z"
   },
   {
    "duration": 605,
    "start_time": "2021-10-23T22:39:46.273Z"
   },
   {
    "duration": 577,
    "start_time": "2021-10-23T22:39:48.653Z"
   },
   {
    "duration": 1597,
    "start_time": "2021-10-23T22:39:56.470Z"
   },
   {
    "duration": 4149,
    "start_time": "2021-10-23T22:40:00.525Z"
   },
   {
    "duration": 4572,
    "start_time": "2021-10-23T22:40:09.629Z"
   },
   {
    "duration": 3580,
    "start_time": "2021-10-23T22:40:15.870Z"
   },
   {
    "duration": 7,
    "start_time": "2021-10-23T22:40:31.184Z"
   },
   {
    "duration": 17,
    "start_time": "2021-10-23T22:40:33.048Z"
   },
   {
    "duration": 9,
    "start_time": "2021-10-23T22:40:40.233Z"
   },
   {
    "duration": 7,
    "start_time": "2021-10-23T22:40:49.776Z"
   },
   {
    "duration": 569,
    "start_time": "2021-10-23T22:41:15.240Z"
   },
   {
    "duration": 7,
    "start_time": "2021-10-23T22:41:23.372Z"
   },
   {
    "duration": 3194,
    "start_time": "2021-10-23T22:45:00.090Z"
   },
   {
    "duration": 23,
    "start_time": "2021-10-23T22:45:21.236Z"
   },
   {
    "duration": 2945,
    "start_time": "2021-10-23T22:46:34.284Z"
   },
   {
    "duration": 2686,
    "start_time": "2021-10-23T22:48:04.755Z"
   },
   {
    "duration": 399,
    "start_time": "2021-10-24T05:22:10.499Z"
   },
   {
    "duration": 16091,
    "start_time": "2021-10-24T05:22:22.317Z"
   },
   {
    "duration": 11076,
    "start_time": "2021-10-24T05:22:38.411Z"
   },
   {
    "duration": 2264,
    "start_time": "2021-10-24T05:22:49.490Z"
   },
   {
    "duration": 37,
    "start_time": "2021-10-24T05:22:51.757Z"
   },
   {
    "duration": 7,
    "start_time": "2021-10-24T05:22:51.797Z"
   },
   {
    "duration": 29,
    "start_time": "2021-10-24T05:22:51.806Z"
   },
   {
    "duration": 70,
    "start_time": "2021-10-24T05:22:51.838Z"
   },
   {
    "duration": 11,
    "start_time": "2021-10-24T05:22:51.912Z"
   },
   {
    "duration": 8,
    "start_time": "2021-10-24T05:22:51.927Z"
   },
   {
    "duration": 812,
    "start_time": "2021-10-24T05:22:51.938Z"
   },
   {
    "duration": 2124,
    "start_time": "2021-10-24T05:22:52.753Z"
   },
   {
    "duration": 6,
    "start_time": "2021-10-24T05:22:54.880Z"
   },
   {
    "duration": 221,
    "start_time": "2021-10-24T05:22:54.901Z"
   },
   {
    "duration": 7,
    "start_time": "2021-10-24T05:22:55.125Z"
   },
   {
    "duration": 69,
    "start_time": "2021-10-24T05:22:55.135Z"
   },
   {
    "duration": 19,
    "start_time": "2021-10-24T05:22:55.207Z"
   },
   {
    "duration": 8,
    "start_time": "2021-10-24T05:22:55.229Z"
   },
   {
    "duration": 10,
    "start_time": "2021-10-24T05:22:55.240Z"
   },
   {
    "duration": 47,
    "start_time": "2021-10-24T05:22:55.253Z"
   },
   {
    "duration": 19,
    "start_time": "2021-10-24T05:22:55.303Z"
   },
   {
    "duration": 11,
    "start_time": "2021-10-24T05:22:55.324Z"
   },
   {
    "duration": 13,
    "start_time": "2021-10-24T05:22:55.337Z"
   },
   {
    "duration": 53,
    "start_time": "2021-10-24T05:22:55.356Z"
   },
   {
    "duration": 10,
    "start_time": "2021-10-24T05:22:55.413Z"
   },
   {
    "duration": 8,
    "start_time": "2021-10-24T05:22:55.425Z"
   },
   {
    "duration": 18,
    "start_time": "2021-10-24T05:22:55.436Z"
   },
   {
    "duration": 5,
    "start_time": "2021-10-24T05:22:55.457Z"
   },
   {
    "duration": 42,
    "start_time": "2021-10-24T05:22:55.464Z"
   },
   {
    "duration": 7,
    "start_time": "2021-10-24T05:22:55.509Z"
   },
   {
    "duration": 8,
    "start_time": "2021-10-24T05:22:55.519Z"
   },
   {
    "duration": 5,
    "start_time": "2021-10-24T05:22:55.529Z"
   },
   {
    "duration": 64,
    "start_time": "2021-10-24T05:22:55.536Z"
   },
   {
    "duration": 15,
    "start_time": "2021-10-24T05:22:55.603Z"
   },
   {
    "duration": 15,
    "start_time": "2021-10-24T05:22:55.621Z"
   },
   {
    "duration": 241,
    "start_time": "2021-10-24T05:22:55.639Z"
   },
   {
    "duration": 3,
    "start_time": "2021-10-24T05:22:55.883Z"
   },
   {
    "duration": 17,
    "start_time": "2021-10-24T05:22:55.888Z"
   },
   {
    "duration": 8,
    "start_time": "2021-10-24T05:22:55.907Z"
   },
   {
    "duration": 8,
    "start_time": "2021-10-24T05:22:55.917Z"
   },
   {
    "duration": 78,
    "start_time": "2021-10-24T05:22:55.928Z"
   },
   {
    "duration": 1155,
    "start_time": "2021-10-24T05:22:56.009Z"
   },
   {
    "duration": 6,
    "start_time": "2021-10-24T05:22:57.167Z"
   },
   {
    "duration": 27,
    "start_time": "2021-10-24T05:22:57.175Z"
   },
   {
    "duration": 8,
    "start_time": "2021-10-24T05:22:57.205Z"
   },
   {
    "duration": 7,
    "start_time": "2021-10-24T05:22:57.216Z"
   },
   {
    "duration": 82,
    "start_time": "2021-10-24T05:22:57.226Z"
   },
   {
    "duration": 1122,
    "start_time": "2021-10-24T05:22:57.311Z"
   },
   {
    "duration": 17,
    "start_time": "2021-10-24T05:22:58.436Z"
   },
   {
    "duration": 146,
    "start_time": "2021-10-24T05:22:58.455Z"
   },
   {
    "duration": 1654,
    "start_time": "2021-10-24T05:22:58.604Z"
   },
   {
    "duration": 62,
    "start_time": "2021-10-24T05:23:00.261Z"
   },
   {
    "duration": 338,
    "start_time": "2021-10-24T05:23:00.401Z"
   },
   {
    "duration": 11,
    "start_time": "2021-10-24T05:23:00.742Z"
   },
   {
    "duration": 318,
    "start_time": "2021-10-24T05:23:00.756Z"
   },
   {
    "duration": 4,
    "start_time": "2021-10-24T05:23:01.077Z"
   },
   {
    "duration": 28,
    "start_time": "2021-10-24T05:23:01.084Z"
   },
   {
    "duration": 26,
    "start_time": "2021-10-24T05:23:01.114Z"
   },
   {
    "duration": 73,
    "start_time": "2021-10-24T05:23:01.143Z"
   },
   {
    "duration": 1511,
    "start_time": "2021-10-24T05:23:01.219Z"
   },
   {
    "duration": 4,
    "start_time": "2021-10-24T05:23:02.734Z"
   },
   {
    "duration": 116854,
    "start_time": "2021-10-24T05:23:02.741Z"
   },
   {
    "duration": 256,
    "start_time": "2021-10-24T05:24:59.600Z"
   },
   {
    "duration": 143,
    "start_time": "2021-10-24T05:24:59.859Z"
   },
   {
    "duration": 275,
    "start_time": "2021-10-24T05:25:00.005Z"
   },
   {
    "duration": 23,
    "start_time": "2021-10-24T05:25:00.282Z"
   },
   {
    "duration": 143,
    "start_time": "2021-10-24T05:25:00.307Z"
   },
   {
    "duration": 6,
    "start_time": "2021-10-24T05:25:00.452Z"
   },
   {
    "duration": 14,
    "start_time": "2021-10-24T05:25:00.466Z"
   },
   {
    "duration": 19,
    "start_time": "2021-10-24T05:25:00.483Z"
   },
   {
    "duration": 32,
    "start_time": "2021-10-24T05:25:00.505Z"
   },
   {
    "duration": 39,
    "start_time": "2021-10-24T05:25:00.539Z"
   },
   {
    "duration": 23,
    "start_time": "2021-10-24T05:25:00.581Z"
   },
   {
    "duration": 2682,
    "start_time": "2021-10-24T05:25:00.607Z"
   },
   {
    "duration": 11,
    "start_time": "2021-10-24T05:25:03.292Z"
   },
   {
    "duration": 20,
    "start_time": "2021-10-24T05:25:03.305Z"
   },
   {
    "duration": 113,
    "start_time": "2021-10-24T05:25:03.328Z"
   },
   {
    "duration": 238,
    "start_time": "2021-10-24T05:25:03.444Z"
   },
   {
    "duration": 254,
    "start_time": "2021-10-24T05:29:03.072Z"
   },
   {
    "duration": 2713,
    "start_time": "2021-10-24T05:31:29.198Z"
   },
   {
    "duration": 111,
    "start_time": "2021-10-24T05:41:38.991Z"
   },
   {
    "duration": 1095,
    "start_time": "2021-10-24T05:42:06.506Z"
   },
   {
    "duration": 174,
    "start_time": "2021-10-24T05:43:06.834Z"
   },
   {
    "duration": 1094,
    "start_time": "2021-10-24T05:45:06.602Z"
   },
   {
    "duration": 117,
    "start_time": "2021-10-24T05:46:25.985Z"
   },
   {
    "duration": 1552,
    "start_time": "2021-10-24T05:49:31.367Z"
   },
   {
    "duration": 67,
    "start_time": "2021-10-24T05:54:44.840Z"
   },
   {
    "duration": 1530,
    "start_time": "2021-10-24T05:55:09.487Z"
   },
   {
    "duration": 68,
    "start_time": "2021-10-24T05:56:34.509Z"
   },
   {
    "duration": 1526,
    "start_time": "2021-10-24T05:56:36.813Z"
   },
   {
    "duration": 1535,
    "start_time": "2021-10-24T05:57:10.079Z"
   },
   {
    "duration": 87,
    "start_time": "2021-10-24T05:57:21.221Z"
   },
   {
    "duration": 8,
    "start_time": "2021-10-24T06:00:36.948Z"
   },
   {
    "duration": 125,
    "start_time": "2021-10-24T06:00:40.078Z"
   },
   {
    "duration": 81,
    "start_time": "2021-10-24T06:01:09.430Z"
   },
   {
    "duration": 1102,
    "start_time": "2021-10-24T06:01:28.063Z"
   },
   {
    "duration": 1083,
    "start_time": "2021-10-24T06:01:47.936Z"
   },
   {
    "duration": 91,
    "start_time": "2021-10-24T06:02:32.918Z"
   },
   {
    "duration": 1541,
    "start_time": "2021-10-24T06:03:10.848Z"
   },
   {
    "duration": 141,
    "start_time": "2021-10-24T06:05:22.475Z"
   },
   {
    "duration": 3685,
    "start_time": "2021-10-24T06:05:52.302Z"
   },
   {
    "duration": 4080,
    "start_time": "2021-10-24T06:05:55.990Z"
   },
   {
    "duration": 10,
    "start_time": "2021-10-24T06:06:00.074Z"
   },
   {
    "duration": 58,
    "start_time": "2021-10-24T06:06:00.086Z"
   },
   {
    "duration": 5,
    "start_time": "2021-10-24T06:06:00.147Z"
   },
   {
    "duration": 29,
    "start_time": "2021-10-24T06:06:00.154Z"
   },
   {
    "duration": 69,
    "start_time": "2021-10-24T06:06:00.186Z"
   },
   {
    "duration": 10,
    "start_time": "2021-10-24T06:06:00.261Z"
   },
   {
    "duration": 28,
    "start_time": "2021-10-24T06:06:00.274Z"
   },
   {
    "duration": 232,
    "start_time": "2021-10-24T06:06:00.305Z"
   },
   {
    "duration": 2198,
    "start_time": "2021-10-24T06:06:00.540Z"
   },
   {
    "duration": 6,
    "start_time": "2021-10-24T06:06:02.741Z"
   },
   {
    "duration": 219,
    "start_time": "2021-10-24T06:06:02.750Z"
   },
   {
    "duration": 6,
    "start_time": "2021-10-24T06:06:02.971Z"
   },
   {
    "duration": 68,
    "start_time": "2021-10-24T06:06:02.979Z"
   },
   {
    "duration": 17,
    "start_time": "2021-10-24T06:06:03.049Z"
   },
   {
    "duration": 33,
    "start_time": "2021-10-24T06:06:03.069Z"
   },
   {
    "duration": 9,
    "start_time": "2021-10-24T06:06:03.104Z"
   },
   {
    "duration": 4,
    "start_time": "2021-10-24T06:06:03.115Z"
   },
   {
    "duration": 20,
    "start_time": "2021-10-24T06:06:03.122Z"
   },
   {
    "duration": 11,
    "start_time": "2021-10-24T06:06:03.145Z"
   },
   {
    "duration": 10,
    "start_time": "2021-10-24T06:06:03.201Z"
   },
   {
    "duration": 18,
    "start_time": "2021-10-24T06:06:03.217Z"
   },
   {
    "duration": 7,
    "start_time": "2021-10-24T06:06:03.239Z"
   },
   {
    "duration": 7,
    "start_time": "2021-10-24T06:06:03.249Z"
   },
   {
    "duration": 57,
    "start_time": "2021-10-24T06:06:03.258Z"
   },
   {
    "duration": 5,
    "start_time": "2021-10-24T06:06:03.317Z"
   },
   {
    "duration": 11,
    "start_time": "2021-10-24T06:06:03.324Z"
   },
   {
    "duration": 8,
    "start_time": "2021-10-24T06:06:03.337Z"
   },
   {
    "duration": 9,
    "start_time": "2021-10-24T06:06:03.348Z"
   },
   {
    "duration": 3,
    "start_time": "2021-10-24T06:06:03.402Z"
   },
   {
    "duration": 24,
    "start_time": "2021-10-24T06:06:03.408Z"
   },
   {
    "duration": 14,
    "start_time": "2021-10-24T06:06:03.435Z"
   },
   {
    "duration": 21,
    "start_time": "2021-10-24T06:06:03.452Z"
   },
   {
    "duration": 242,
    "start_time": "2021-10-24T06:06:03.475Z"
   },
   {
    "duration": 4,
    "start_time": "2021-10-24T06:06:03.719Z"
   },
   {
    "duration": 16,
    "start_time": "2021-10-24T06:06:03.725Z"
   },
   {
    "duration": 8,
    "start_time": "2021-10-24T06:06:03.743Z"
   },
   {
    "duration": 9,
    "start_time": "2021-10-24T06:06:03.754Z"
   },
   {
    "duration": 142,
    "start_time": "2021-10-24T06:06:03.766Z"
   },
   {
    "duration": 1187,
    "start_time": "2021-10-24T06:06:04.001Z"
   },
   {
    "duration": 12,
    "start_time": "2021-10-24T06:06:05.191Z"
   },
   {
    "duration": 7,
    "start_time": "2021-10-24T06:06:05.206Z"
   },
   {
    "duration": 7,
    "start_time": "2021-10-24T06:06:05.215Z"
   },
   {
    "duration": 8,
    "start_time": "2021-10-24T06:06:05.224Z"
   },
   {
    "duration": 173,
    "start_time": "2021-10-24T06:06:05.234Z"
   },
   {
    "duration": 1180,
    "start_time": "2021-10-24T06:06:05.410Z"
   },
   {
    "duration": 19,
    "start_time": "2021-10-24T06:06:06.593Z"
   },
   {
    "duration": 187,
    "start_time": "2021-10-24T06:06:06.614Z"
   },
   {
    "duration": 1633,
    "start_time": "2021-10-24T06:06:06.806Z"
   },
   {
    "duration": 62,
    "start_time": "2021-10-24T06:06:08.441Z"
   },
   {
    "duration": 393,
    "start_time": "2021-10-24T06:06:08.507Z"
   },
   {
    "duration": 8,
    "start_time": "2021-10-24T06:06:08.903Z"
   },
   {
    "duration": 304,
    "start_time": "2021-10-24T06:06:08.913Z"
   },
   {
    "duration": 3,
    "start_time": "2021-10-24T06:06:09.219Z"
   },
   {
    "duration": 8,
    "start_time": "2021-10-24T06:06:09.224Z"
   },
   {
    "duration": 7,
    "start_time": "2021-10-24T06:06:09.234Z"
   },
   {
    "duration": 88,
    "start_time": "2021-10-24T06:06:09.243Z"
   },
   {
    "duration": 1538,
    "start_time": "2021-10-24T06:06:09.333Z"
   },
   {
    "duration": 4,
    "start_time": "2021-10-24T06:06:10.873Z"
   },
   {
    "duration": 116851,
    "start_time": "2021-10-24T06:06:10.879Z"
   },
   {
    "duration": 369,
    "start_time": "2021-10-24T06:08:07.733Z"
   },
   {
    "duration": 5,
    "start_time": "2021-10-24T06:08:08.104Z"
   },
   {
    "duration": 267,
    "start_time": "2021-10-24T06:08:08.112Z"
   },
   {
    "duration": 260,
    "start_time": "2021-10-24T06:08:08.381Z"
   },
   {
    "duration": 6,
    "start_time": "2021-10-24T06:08:08.644Z"
   },
   {
    "duration": 8,
    "start_time": "2021-10-24T06:08:08.653Z"
   },
   {
    "duration": 32,
    "start_time": "2021-10-24T06:08:08.668Z"
   },
   {
    "duration": 7,
    "start_time": "2021-10-24T06:08:08.703Z"
   },
   {
    "duration": 13,
    "start_time": "2021-10-24T06:08:08.713Z"
   },
   {
    "duration": 21,
    "start_time": "2021-10-24T06:08:08.729Z"
   },
   {
    "duration": 2750,
    "start_time": "2021-10-24T06:08:08.752Z"
   },
   {
    "duration": 6,
    "start_time": "2021-10-24T06:08:11.504Z"
   },
   {
    "duration": 13,
    "start_time": "2021-10-24T06:08:11.513Z"
   },
   {
    "duration": 115,
    "start_time": "2021-10-24T06:08:11.528Z"
   },
   {
    "duration": 230,
    "start_time": "2021-10-24T06:08:11.645Z"
   }
  ],
  "kernelspec": {
   "display_name": "Python 3",
   "language": "python",
   "name": "python3"
  },
  "language_info": {
   "codemirror_mode": {
    "name": "ipython",
    "version": 3
   },
   "file_extension": ".py",
   "mimetype": "text/x-python",
   "name": "python",
   "nbconvert_exporter": "python",
   "pygments_lexer": "ipython3",
   "version": "3.8.5"
  },
  "toc": {
   "base_numbering": 1,
   "nav_menu": {},
   "number_sections": true,
   "sideBar": true,
   "skip_h1_title": true,
   "title_cell": "Table of Contents",
   "title_sidebar": "Contents",
   "toc_cell": false,
   "toc_position": {},
   "toc_section_display": true,
   "toc_window_display": false
  },
  "toc-showtags": false
 },
 "nbformat": 4,
 "nbformat_minor": 4
}
