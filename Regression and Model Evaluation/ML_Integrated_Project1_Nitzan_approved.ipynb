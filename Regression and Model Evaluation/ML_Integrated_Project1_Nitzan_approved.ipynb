{
 "cells": [
  {
   "cell_type": "markdown",
   "metadata": {},
   "source": [
    "# Machine Learning Integrated Project\n",
    "### Project Description:"
   ]
  },
  {
   "cell_type": "markdown",
   "metadata": {},
   "source": [
    "Our goal in this project is to build a model that predicts the amount of gold recovered from gold ore.\n",
    "We have historical data on extraction and purification.\n",
    "\n",
    "The model will help to optimize the production and eliminate unprofitable parameters.\n",
    "\n",
    "We want to predict two values:\n",
    "\n",
    "- Rougher.output.recovery\n",
    "- Final.output.recovery\n",
    "\n",
    "In the following sections, we will prepare the data, train and test machine learning models, and evaluate the machine learning models performance with dummy model."
   ]
  },
  {
   "cell_type": "markdown",
   "metadata": {},
   "source": [
    "<a id=\"contents\"></a>\n",
    "# Table of contents\n",
    "\n",
    "- [Step 1](#step1) Prepare the data\n",
    "- [Step 2](#step2) Analyze the data\n",
    "- [Step 3](#step3) Build the model"
   ]
  },
  {
   "cell_type": "markdown",
   "metadata": {},
   "source": [
    "#### Importing Python libraries"
   ]
  },
  {
   "cell_type": "code",
   "execution_count": 1,
   "metadata": {},
   "outputs": [],
   "source": [
    "!pip install -q --upgrade pandas"
   ]
  },
  {
   "cell_type": "code",
   "execution_count": 2,
   "metadata": {},
   "outputs": [
    {
     "name": "stdout",
     "output_type": "stream",
     "text": [
      "Defaulting to user installation because normal site-packages is not writeable\n",
      "Collecting scikit-learn\n",
      "  Downloading scikit_learn-1.0.1-cp37-cp37m-manylinux_2_12_x86_64.manylinux2010_x86_64.whl (23.2 MB)\n",
      "\u001b[K     |████████████████████████████████| 23.2 MB 129 kB/s ta 0:00:010\n",
      "\u001b[?25hCollecting threadpoolctl>=2.0.0\n",
      "  Downloading threadpoolctl-3.0.0-py3-none-any.whl (14 kB)\n",
      "Requirement already satisfied, skipping upgrade: joblib>=0.11 in /opt/conda/lib/python3.7/site-packages (from scikit-learn) (1.0.1)\n",
      "Requirement already satisfied, skipping upgrade: scipy>=1.1.0 in /opt/conda/lib/python3.7/site-packages (from scikit-learn) (1.4.1)\n",
      "Requirement already satisfied, skipping upgrade: numpy>=1.14.6 in /opt/conda/lib/python3.7/site-packages (from scikit-learn) (1.19.5)\n",
      "Installing collected packages: threadpoolctl, scikit-learn\n",
      "Successfully installed scikit-learn-1.0.1 threadpoolctl-3.0.0\n"
     ]
    }
   ],
   "source": [
    "!pip install --upgrade scikit-learn"
   ]
  },
  {
   "cell_type": "code",
   "execution_count": 3,
   "metadata": {},
   "outputs": [],
   "source": [
    "#pip install -U imbalanced-learn"
   ]
  },
  {
   "cell_type": "code",
   "execution_count": 1,
   "metadata": {},
   "outputs": [
    {
     "name": "stderr",
     "output_type": "stream",
     "text": [
      "/opt/conda/lib/python3.7/site-packages/statsmodels/tools/_testing.py:19: FutureWarning: pandas.util.testing is deprecated. Use the functions in the public API at pandas.testing instead.\n",
      "  import pandas.util.testing as tm\n"
     ]
    }
   ],
   "source": [
    "# Basic\n",
    "import pandas as pd\n",
    "import numpy as np\n",
    "import seaborn as sns\n",
    "import matplotlib.pyplot as plt\n",
    "import plotly.express as px\n",
    "import warnings\n",
    "from scipy import stats as st\n",
    "from pprint import pprint\n",
    "warnings.filterwarnings(\"ignore\")\n",
    "\n",
    "# Preprocessing\n",
    "from sklearn.model_selection import train_test_split\n",
    "from sklearn.preprocessing import StandardScaler \n",
    "from sklearn.utils import shuffle\n",
    "from sklearn.preprocessing import OrdinalEncoder \n",
    "from sklearn.impute import KNNImputer\n",
    "\n",
    "# Modelling\n",
    "from sklearn.tree import DecisionTreeClassifier\n",
    "from sklearn.ensemble import RandomForestClassifier\n",
    "from sklearn.ensemble import RandomForestRegressor\n",
    "from sklearn.model_selection import RandomizedSearchCV\n",
    "from sklearn.linear_model import LogisticRegression \n",
    "from sklearn.model_selection import GridSearchCV\n",
    "from sklearn import tree\n",
    "from sklearn.linear_model import LogisticRegressionCV\n",
    "from sklearn.model_selection import cross_val_score\n",
    "from sklearn.model_selection import StratifiedKFold\n",
    "#from imblearn.pipeline import Pipeline\n",
    "from sklearn.linear_model import LinearRegression\n",
    "from sklearn.linear_model import Lasso\n",
    "from sklearn.tree import DecisionTreeRegressor\n",
    "\n",
    "# Metrics\n",
    "from sklearn.metrics import accuracy_score \n",
    "from sklearn.metrics import roc_auc_score\n",
    "from sklearn.metrics import precision_score\n",
    "from sklearn.metrics import recall_score\n",
    "from sklearn.metrics import f1_score\n",
    "from sklearn.metrics import confusion_matrix\n",
    "from sklearn.metrics import precision_recall_curve\n",
    "from sklearn.metrics import roc_curve \n",
    "from sklearn.dummy import DummyClassifier\n",
    "from sklearn.metrics import mean_squared_error\n",
    "from sklearn.metrics import mean_absolute_error\n",
    "from sklearn.metrics import make_scorer\n",
    "\n",
    "# Visualization\n",
    "import seaborn as sns"
   ]
  },
  {
   "cell_type": "markdown",
   "metadata": {},
   "source": [
    "<a id=\"step1\"></a>\n",
    "## Step 1. Prepare the data\n",
    "\n",
    "[back to table of contents](#contents)"
   ]
  },
  {
   "cell_type": "markdown",
   "metadata": {},
   "source": [
    "### Open the files and look into the data."
   ]
  },
  {
   "cell_type": "code",
   "execution_count": 2,
   "metadata": {},
   "outputs": [],
   "source": [
    "# Downloading the files and saving it as a datafarme\n",
    "\n",
    "try:\n",
    "    data_train     = pd.read_csv('/datasets/gold_recovery_train.csv')\n",
    "    data_test     = pd.read_csv('/datasets/gold_recovery_test.csv')\n",
    "    data_full     = pd.read_csv('/datasets/gold_recovery_full.csv')\n",
    "except:\n",
    "    data_train     = pd.read_csv('gold_recovery_train.csv' , encoding = \"ISO-8859-1\")\n",
    "    data_test     = pd.read_csv('gold_recovery_test.csv' , encoding = \"ISO-8859-1\")\n",
    "    data_full     = pd.read_csv('gold_recovery_full.csv' , encoding = \"ISO-8859-1\")"
   ]
  },
  {
   "cell_type": "code",
   "execution_count": 3,
   "metadata": {},
   "outputs": [
    {
     "data": {
      "text/plain": [
       "(16860, 87)"
      ]
     },
     "execution_count": 3,
     "metadata": {},
     "output_type": "execute_result"
    }
   ],
   "source": [
    "data_train.shape"
   ]
  },
  {
   "cell_type": "code",
   "execution_count": 4,
   "metadata": {},
   "outputs": [
    {
     "data": {
      "text/plain": [
       "(5856, 53)"
      ]
     },
     "execution_count": 4,
     "metadata": {},
     "output_type": "execute_result"
    }
   ],
   "source": [
    "data_test.shape"
   ]
  },
  {
   "cell_type": "code",
   "execution_count": 5,
   "metadata": {},
   "outputs": [
    {
     "data": {
      "text/plain": [
       "(22716, 87)"
      ]
     },
     "execution_count": 5,
     "metadata": {},
     "output_type": "execute_result"
    }
   ],
   "source": [
    "data_full.shape"
   ]
  },
  {
   "cell_type": "code",
   "execution_count": 6,
   "metadata": {},
   "outputs": [
    {
     "data": {
      "text/html": [
       "<div>\n",
       "<style scoped>\n",
       "    .dataframe tbody tr th:only-of-type {\n",
       "        vertical-align: middle;\n",
       "    }\n",
       "\n",
       "    .dataframe tbody tr th {\n",
       "        vertical-align: top;\n",
       "    }\n",
       "\n",
       "    .dataframe thead th {\n",
       "        text-align: right;\n",
       "    }\n",
       "</style>\n",
       "<table border=\"1\" class=\"dataframe\">\n",
       "  <thead>\n",
       "    <tr style=\"text-align: right;\">\n",
       "      <th></th>\n",
       "      <th>date</th>\n",
       "      <th>final.output.concentrate_ag</th>\n",
       "      <th>final.output.concentrate_pb</th>\n",
       "      <th>final.output.concentrate_sol</th>\n",
       "      <th>final.output.concentrate_au</th>\n",
       "      <th>final.output.recovery</th>\n",
       "      <th>final.output.tail_ag</th>\n",
       "      <th>final.output.tail_pb</th>\n",
       "      <th>final.output.tail_sol</th>\n",
       "      <th>final.output.tail_au</th>\n",
       "      <th>...</th>\n",
       "      <th>secondary_cleaner.state.floatbank4_a_air</th>\n",
       "      <th>secondary_cleaner.state.floatbank4_a_level</th>\n",
       "      <th>secondary_cleaner.state.floatbank4_b_air</th>\n",
       "      <th>secondary_cleaner.state.floatbank4_b_level</th>\n",
       "      <th>secondary_cleaner.state.floatbank5_a_air</th>\n",
       "      <th>secondary_cleaner.state.floatbank5_a_level</th>\n",
       "      <th>secondary_cleaner.state.floatbank5_b_air</th>\n",
       "      <th>secondary_cleaner.state.floatbank5_b_level</th>\n",
       "      <th>secondary_cleaner.state.floatbank6_a_air</th>\n",
       "      <th>secondary_cleaner.state.floatbank6_a_level</th>\n",
       "    </tr>\n",
       "  </thead>\n",
       "  <tbody>\n",
       "    <tr>\n",
       "      <th>0</th>\n",
       "      <td>2016-01-15 00:00:00</td>\n",
       "      <td>6.055403</td>\n",
       "      <td>9.889648</td>\n",
       "      <td>5.507324</td>\n",
       "      <td>42.192020</td>\n",
       "      <td>70.541216</td>\n",
       "      <td>10.411962</td>\n",
       "      <td>0.895447</td>\n",
       "      <td>16.904297</td>\n",
       "      <td>2.143149</td>\n",
       "      <td>...</td>\n",
       "      <td>14.016835</td>\n",
       "      <td>-502.488007</td>\n",
       "      <td>12.099931</td>\n",
       "      <td>-504.715942</td>\n",
       "      <td>9.925633</td>\n",
       "      <td>-498.310211</td>\n",
       "      <td>8.079666</td>\n",
       "      <td>-500.470978</td>\n",
       "      <td>14.151341</td>\n",
       "      <td>-605.841980</td>\n",
       "    </tr>\n",
       "    <tr>\n",
       "      <th>1</th>\n",
       "      <td>2016-01-15 01:00:00</td>\n",
       "      <td>6.029369</td>\n",
       "      <td>9.968944</td>\n",
       "      <td>5.257781</td>\n",
       "      <td>42.701629</td>\n",
       "      <td>69.266198</td>\n",
       "      <td>10.462676</td>\n",
       "      <td>0.927452</td>\n",
       "      <td>16.634514</td>\n",
       "      <td>2.224930</td>\n",
       "      <td>...</td>\n",
       "      <td>13.992281</td>\n",
       "      <td>-505.503262</td>\n",
       "      <td>11.950531</td>\n",
       "      <td>-501.331529</td>\n",
       "      <td>10.039245</td>\n",
       "      <td>-500.169983</td>\n",
       "      <td>7.984757</td>\n",
       "      <td>-500.582168</td>\n",
       "      <td>13.998353</td>\n",
       "      <td>-599.787184</td>\n",
       "    </tr>\n",
       "    <tr>\n",
       "      <th>2</th>\n",
       "      <td>2016-01-15 02:00:00</td>\n",
       "      <td>6.055926</td>\n",
       "      <td>10.213995</td>\n",
       "      <td>5.383759</td>\n",
       "      <td>42.657501</td>\n",
       "      <td>68.116445</td>\n",
       "      <td>10.507046</td>\n",
       "      <td>0.953716</td>\n",
       "      <td>16.208849</td>\n",
       "      <td>2.257889</td>\n",
       "      <td>...</td>\n",
       "      <td>14.015015</td>\n",
       "      <td>-502.520901</td>\n",
       "      <td>11.912783</td>\n",
       "      <td>-501.133383</td>\n",
       "      <td>10.070913</td>\n",
       "      <td>-500.129135</td>\n",
       "      <td>8.013877</td>\n",
       "      <td>-500.517572</td>\n",
       "      <td>14.028663</td>\n",
       "      <td>-601.427363</td>\n",
       "    </tr>\n",
       "  </tbody>\n",
       "</table>\n",
       "<p>3 rows × 87 columns</p>\n",
       "</div>"
      ],
      "text/plain": [
       "                  date  final.output.concentrate_ag  \\\n",
       "0  2016-01-15 00:00:00                     6.055403   \n",
       "1  2016-01-15 01:00:00                     6.029369   \n",
       "2  2016-01-15 02:00:00                     6.055926   \n",
       "\n",
       "   final.output.concentrate_pb  final.output.concentrate_sol  \\\n",
       "0                     9.889648                      5.507324   \n",
       "1                     9.968944                      5.257781   \n",
       "2                    10.213995                      5.383759   \n",
       "\n",
       "   final.output.concentrate_au  final.output.recovery  final.output.tail_ag  \\\n",
       "0                    42.192020              70.541216             10.411962   \n",
       "1                    42.701629              69.266198             10.462676   \n",
       "2                    42.657501              68.116445             10.507046   \n",
       "\n",
       "   final.output.tail_pb  final.output.tail_sol  final.output.tail_au  ...  \\\n",
       "0              0.895447              16.904297              2.143149  ...   \n",
       "1              0.927452              16.634514              2.224930  ...   \n",
       "2              0.953716              16.208849              2.257889  ...   \n",
       "\n",
       "   secondary_cleaner.state.floatbank4_a_air  \\\n",
       "0                                 14.016835   \n",
       "1                                 13.992281   \n",
       "2                                 14.015015   \n",
       "\n",
       "   secondary_cleaner.state.floatbank4_a_level  \\\n",
       "0                                 -502.488007   \n",
       "1                                 -505.503262   \n",
       "2                                 -502.520901   \n",
       "\n",
       "   secondary_cleaner.state.floatbank4_b_air  \\\n",
       "0                                 12.099931   \n",
       "1                                 11.950531   \n",
       "2                                 11.912783   \n",
       "\n",
       "   secondary_cleaner.state.floatbank4_b_level  \\\n",
       "0                                 -504.715942   \n",
       "1                                 -501.331529   \n",
       "2                                 -501.133383   \n",
       "\n",
       "   secondary_cleaner.state.floatbank5_a_air  \\\n",
       "0                                  9.925633   \n",
       "1                                 10.039245   \n",
       "2                                 10.070913   \n",
       "\n",
       "   secondary_cleaner.state.floatbank5_a_level  \\\n",
       "0                                 -498.310211   \n",
       "1                                 -500.169983   \n",
       "2                                 -500.129135   \n",
       "\n",
       "   secondary_cleaner.state.floatbank5_b_air  \\\n",
       "0                                  8.079666   \n",
       "1                                  7.984757   \n",
       "2                                  8.013877   \n",
       "\n",
       "   secondary_cleaner.state.floatbank5_b_level  \\\n",
       "0                                 -500.470978   \n",
       "1                                 -500.582168   \n",
       "2                                 -500.517572   \n",
       "\n",
       "   secondary_cleaner.state.floatbank6_a_air  \\\n",
       "0                                 14.151341   \n",
       "1                                 13.998353   \n",
       "2                                 14.028663   \n",
       "\n",
       "   secondary_cleaner.state.floatbank6_a_level  \n",
       "0                                 -605.841980  \n",
       "1                                 -599.787184  \n",
       "2                                 -601.427363  \n",
       "\n",
       "[3 rows x 87 columns]"
      ]
     },
     "execution_count": 6,
     "metadata": {},
     "output_type": "execute_result"
    }
   ],
   "source": [
    "data_train.head(3)"
   ]
  },
  {
   "cell_type": "code",
   "execution_count": 7,
   "metadata": {},
   "outputs": [
    {
     "name": "stdout",
     "output_type": "stream",
     "text": [
      "<class 'pandas.core.frame.DataFrame'>\n",
      "RangeIndex: 16860 entries, 0 to 16859\n",
      "Data columns (total 87 columns):\n",
      " #   Column                                              Non-Null Count  Dtype  \n",
      "---  ------                                              --------------  -----  \n",
      " 0   date                                                16860 non-null  object \n",
      " 1   final.output.concentrate_ag                         16788 non-null  float64\n",
      " 2   final.output.concentrate_pb                         16788 non-null  float64\n",
      " 3   final.output.concentrate_sol                        16490 non-null  float64\n",
      " 4   final.output.concentrate_au                         16789 non-null  float64\n",
      " 5   final.output.recovery                               15339 non-null  float64\n",
      " 6   final.output.tail_ag                                16794 non-null  float64\n",
      " 7   final.output.tail_pb                                16677 non-null  float64\n",
      " 8   final.output.tail_sol                               16715 non-null  float64\n",
      " 9   final.output.tail_au                                16794 non-null  float64\n",
      " 10  primary_cleaner.input.sulfate                       15553 non-null  float64\n",
      " 11  primary_cleaner.input.depressant                    15598 non-null  float64\n",
      " 12  primary_cleaner.input.feed_size                     16860 non-null  float64\n",
      " 13  primary_cleaner.input.xanthate                      15875 non-null  float64\n",
      " 14  primary_cleaner.output.concentrate_ag               16778 non-null  float64\n",
      " 15  primary_cleaner.output.concentrate_pb               16502 non-null  float64\n",
      " 16  primary_cleaner.output.concentrate_sol              16224 non-null  float64\n",
      " 17  primary_cleaner.output.concentrate_au               16778 non-null  float64\n",
      " 18  primary_cleaner.output.tail_ag                      16777 non-null  float64\n",
      " 19  primary_cleaner.output.tail_pb                      16761 non-null  float64\n",
      " 20  primary_cleaner.output.tail_sol                     16579 non-null  float64\n",
      " 21  primary_cleaner.output.tail_au                      16777 non-null  float64\n",
      " 22  primary_cleaner.state.floatbank8_a_air              16820 non-null  float64\n",
      " 23  primary_cleaner.state.floatbank8_a_level            16827 non-null  float64\n",
      " 24  primary_cleaner.state.floatbank8_b_air              16820 non-null  float64\n",
      " 25  primary_cleaner.state.floatbank8_b_level            16833 non-null  float64\n",
      " 26  primary_cleaner.state.floatbank8_c_air              16822 non-null  float64\n",
      " 27  primary_cleaner.state.floatbank8_c_level            16833 non-null  float64\n",
      " 28  primary_cleaner.state.floatbank8_d_air              16821 non-null  float64\n",
      " 29  primary_cleaner.state.floatbank8_d_level            16833 non-null  float64\n",
      " 30  rougher.calculation.sulfate_to_au_concentrate       16833 non-null  float64\n",
      " 31  rougher.calculation.floatbank10_sulfate_to_au_feed  16833 non-null  float64\n",
      " 32  rougher.calculation.floatbank11_sulfate_to_au_feed  16833 non-null  float64\n",
      " 33  rougher.calculation.au_pb_ratio                     15618 non-null  float64\n",
      " 34  rougher.input.feed_ag                               16778 non-null  float64\n",
      " 35  rougher.input.feed_pb                               16632 non-null  float64\n",
      " 36  rougher.input.feed_rate                             16347 non-null  float64\n",
      " 37  rougher.input.feed_size                             16443 non-null  float64\n",
      " 38  rougher.input.feed_sol                              16568 non-null  float64\n",
      " 39  rougher.input.feed_au                               16777 non-null  float64\n",
      " 40  rougher.input.floatbank10_sulfate                   15816 non-null  float64\n",
      " 41  rougher.input.floatbank10_xanthate                  16514 non-null  float64\n",
      " 42  rougher.input.floatbank11_sulfate                   16237 non-null  float64\n",
      " 43  rougher.input.floatbank11_xanthate                  14956 non-null  float64\n",
      " 44  rougher.output.concentrate_ag                       16778 non-null  float64\n",
      " 45  rougher.output.concentrate_pb                       16778 non-null  float64\n",
      " 46  rougher.output.concentrate_sol                      16698 non-null  float64\n",
      " 47  rougher.output.concentrate_au                       16778 non-null  float64\n",
      " 48  rougher.output.recovery                             14287 non-null  float64\n",
      " 49  rougher.output.tail_ag                              14610 non-null  float64\n",
      " 50  rougher.output.tail_pb                              16778 non-null  float64\n",
      " 51  rougher.output.tail_sol                             14611 non-null  float64\n",
      " 52  rougher.output.tail_au                              14611 non-null  float64\n",
      " 53  rougher.state.floatbank10_a_air                     16807 non-null  float64\n",
      " 54  rougher.state.floatbank10_a_level                   16807 non-null  float64\n",
      " 55  rougher.state.floatbank10_b_air                     16807 non-null  float64\n",
      " 56  rougher.state.floatbank10_b_level                   16807 non-null  float64\n",
      " 57  rougher.state.floatbank10_c_air                     16807 non-null  float64\n",
      " 58  rougher.state.floatbank10_c_level                   16814 non-null  float64\n",
      " 59  rougher.state.floatbank10_d_air                     16802 non-null  float64\n",
      " 60  rougher.state.floatbank10_d_level                   16809 non-null  float64\n",
      " 61  rougher.state.floatbank10_e_air                     16257 non-null  float64\n",
      " 62  rougher.state.floatbank10_e_level                   16809 non-null  float64\n",
      " 63  rougher.state.floatbank10_f_air                     16802 non-null  float64\n",
      " 64  rougher.state.floatbank10_f_level                   16802 non-null  float64\n",
      " 65  secondary_cleaner.output.tail_ag                    16776 non-null  float64\n",
      " 66  secondary_cleaner.output.tail_pb                    16764 non-null  float64\n",
      " 67  secondary_cleaner.output.tail_sol                   14874 non-null  float64\n",
      " 68  secondary_cleaner.output.tail_au                    16778 non-null  float64\n",
      " 69  secondary_cleaner.state.floatbank2_a_air            16497 non-null  float64\n",
      " 70  secondary_cleaner.state.floatbank2_a_level          16751 non-null  float64\n",
      " 71  secondary_cleaner.state.floatbank2_b_air            16705 non-null  float64\n",
      " 72  secondary_cleaner.state.floatbank2_b_level          16748 non-null  float64\n",
      " 73  secondary_cleaner.state.floatbank3_a_air            16763 non-null  float64\n",
      " 74  secondary_cleaner.state.floatbank3_a_level          16747 non-null  float64\n",
      " 75  secondary_cleaner.state.floatbank3_b_air            16752 non-null  float64\n",
      " 76  secondary_cleaner.state.floatbank3_b_level          16750 non-null  float64\n",
      " 77  secondary_cleaner.state.floatbank4_a_air            16731 non-null  float64\n",
      " 78  secondary_cleaner.state.floatbank4_a_level          16747 non-null  float64\n",
      " 79  secondary_cleaner.state.floatbank4_b_air            16768 non-null  float64\n",
      " 80  secondary_cleaner.state.floatbank4_b_level          16767 non-null  float64\n",
      " 81  secondary_cleaner.state.floatbank5_a_air            16775 non-null  float64\n",
      " 82  secondary_cleaner.state.floatbank5_a_level          16775 non-null  float64\n",
      " 83  secondary_cleaner.state.floatbank5_b_air            16775 non-null  float64\n",
      " 84  secondary_cleaner.state.floatbank5_b_level          16776 non-null  float64\n",
      " 85  secondary_cleaner.state.floatbank6_a_air            16757 non-null  float64\n",
      " 86  secondary_cleaner.state.floatbank6_a_level          16775 non-null  float64\n",
      "dtypes: float64(86), object(1)\n",
      "memory usage: 11.2+ MB\n"
     ]
    }
   ],
   "source": [
    "data_train.info()"
   ]
  },
  {
   "cell_type": "markdown",
   "metadata": {},
   "source": [
    "### Check that recovery is calculated correctly. \n",
    "Using the training set, calculate recovery for the rougher.output.recovery feature. "
   ]
  },
  {
   "cell_type": "code",
   "execution_count": 8,
   "metadata": {},
   "outputs": [],
   "source": [
    "# Recovery calculation formula: RECOVERY =  ((C * (F - T))/(F * (C - T))) * 100\n",
    "\n",
    "# target =  rougher.output.recovery\n",
    "#C = rougher.output.concentrate_au\n",
    "#F = rougher.input.feed_au\n",
    "#T = rougher.output.tail_au\n",
    "\n",
    "# filtering rows where target column is null\n",
    "# calculating recovery from the filtered data set\n",
    "\n",
    "recovery_data = data_train.dropna(subset=['rougher.output.recovery'])\n",
    "calculated_recovery = ((recovery_data['rougher.output.concentrate_au'] * (recovery_data['rougher.input.feed_au'] - recovery_data['rougher.output.tail_au']))/ (recovery_data['rougher.input.feed_au'] * (recovery_data['rougher.output.concentrate_au'] - recovery_data['rougher.output.tail_au'])))*100"
   ]
  },
  {
   "cell_type": "code",
   "execution_count": 9,
   "metadata": {},
   "outputs": [
    {
     "data": {
      "text/plain": [
       "(14287,)"
      ]
     },
     "execution_count": 9,
     "metadata": {},
     "output_type": "execute_result"
    }
   ],
   "source": [
    "calculated_recovery.shape"
   ]
  },
  {
   "cell_type": "code",
   "execution_count": 10,
   "metadata": {},
   "outputs": [],
   "source": [
    "actual_recovery = data_train['rougher.output.recovery'].dropna().to_list()"
   ]
  },
  {
   "cell_type": "code",
   "execution_count": 11,
   "metadata": {},
   "outputs": [
    {
     "data": {
      "text/plain": [
       "14287"
      ]
     },
     "execution_count": 11,
     "metadata": {},
     "output_type": "execute_result"
    }
   ],
   "source": [
    "len(actual_recovery)"
   ]
  },
  {
   "cell_type": "markdown",
   "metadata": {},
   "source": [
    "#### Find the MAE between your calculations and the feature values. Provide findings."
   ]
  },
  {
   "cell_type": "code",
   "execution_count": 12,
   "metadata": {},
   "outputs": [
    {
     "name": "stdout",
     "output_type": "stream",
     "text": [
      "Mean Absolute Error: 9.303415616264301e-15\n"
     ]
    }
   ],
   "source": [
    "# Calculating MAE betwwen calculated and actual target\n",
    "\n",
    "print(f\"Mean Absolute Error: {mean_absolute_error(actual_recovery, calculated_recovery)}\")"
   ]
  },
  {
   "cell_type": "markdown",
   "metadata": {},
   "source": [
    "#### Conclusions:\n",
    "As a preliminary stage, we wanted to check the correctness of the data set. We did it by manualy calculating the rougher process recovery based on a given formula, and comparing our results with those given in the data set.\n",
    "We filtered out inspections with NaN target.\n",
    "We calculated the Mean Absolute Error between the two values.\n",
    "The result is 9.3e-15, which is very small. Hence, we can conclude that the calculated and actual recovery do not differ, and that the data set we have is valid."
   ]
  },
  {
   "cell_type": "markdown",
   "metadata": {},
   "source": [
    "### Analyze the features not available in the test set. What are these parameters? What is their type?"
   ]
  },
  {
   "cell_type": "code",
   "execution_count": 13,
   "metadata": {},
   "outputs": [
    {
     "data": {
      "text/plain": [
       "(22716, 87)"
      ]
     },
     "execution_count": 13,
     "metadata": {},
     "output_type": "execute_result"
    }
   ],
   "source": [
    "data_full.shape"
   ]
  },
  {
   "cell_type": "code",
   "execution_count": 14,
   "metadata": {},
   "outputs": [
    {
     "data": {
      "text/plain": [
       "(5856, 53)"
      ]
     },
     "execution_count": 14,
     "metadata": {},
     "output_type": "execute_result"
    }
   ],
   "source": [
    "data_test.shape"
   ]
  },
  {
   "cell_type": "code",
   "execution_count": 15,
   "metadata": {},
   "outputs": [
    {
     "name": "stdout",
     "output_type": "stream",
     "text": [
      "['final.output.concentrate_ag',\n",
      " 'final.output.concentrate_pb',\n",
      " 'final.output.concentrate_sol',\n",
      " 'final.output.concentrate_au',\n",
      " 'final.output.recovery',\n",
      " 'final.output.tail_ag',\n",
      " 'final.output.tail_pb',\n",
      " 'final.output.tail_sol',\n",
      " 'final.output.tail_au',\n",
      " 'primary_cleaner.output.concentrate_ag',\n",
      " 'primary_cleaner.output.concentrate_pb',\n",
      " 'primary_cleaner.output.concentrate_sol',\n",
      " 'primary_cleaner.output.concentrate_au',\n",
      " 'primary_cleaner.output.tail_ag',\n",
      " 'primary_cleaner.output.tail_pb',\n",
      " 'primary_cleaner.output.tail_sol',\n",
      " 'primary_cleaner.output.tail_au',\n",
      " 'rougher.calculation.sulfate_to_au_concentrate',\n",
      " 'rougher.calculation.floatbank10_sulfate_to_au_feed',\n",
      " 'rougher.calculation.floatbank11_sulfate_to_au_feed',\n",
      " 'rougher.calculation.au_pb_ratio',\n",
      " 'rougher.output.concentrate_ag',\n",
      " 'rougher.output.concentrate_pb',\n",
      " 'rougher.output.concentrate_sol',\n",
      " 'rougher.output.concentrate_au',\n",
      " 'rougher.output.recovery',\n",
      " 'rougher.output.tail_ag',\n",
      " 'rougher.output.tail_pb',\n",
      " 'rougher.output.tail_sol',\n",
      " 'rougher.output.tail_au',\n",
      " 'secondary_cleaner.output.tail_ag',\n",
      " 'secondary_cleaner.output.tail_pb',\n",
      " 'secondary_cleaner.output.tail_sol',\n",
      " 'secondary_cleaner.output.tail_au']\n"
     ]
    }
   ],
   "source": [
    "features_not_in_test = [x for x in data_full.columns if x not in data_test.columns]\n",
    "\n",
    "pprint(features_not_in_test)"
   ]
  },
  {
   "cell_type": "code",
   "execution_count": 16,
   "metadata": {},
   "outputs": [
    {
     "data": {
      "text/plain": [
       "34"
      ]
     },
     "execution_count": 16,
     "metadata": {},
     "output_type": "execute_result"
    }
   ],
   "source": [
    "len(features_not_in_test)"
   ]
  },
  {
   "cell_type": "markdown",
   "metadata": {},
   "source": [
    "**Conclusions:**\n",
    "\n",
    "There are 34 features on the full data set that does not exist in the test set.\n",
    "We can see that these parameters are of output or calculation types. Probably these featues are missing because their values are known only after the purification process.\n",
    "\n",
    "We must have the same number and identity of features in the training and test sets, so we must remove these features from the training set.\n",
    "\n",
    "Two of the features that are missing from the test dataset, are required as target: 'final.output.recovery' and 'rougher.output.recovery', and these two should be merged from the full dataset to the test dataset."
   ]
  },
  {
   "cell_type": "code",
   "execution_count": 17,
   "metadata": {},
   "outputs": [],
   "source": [
    "# Merge target values from data_full into data_test.\n",
    "data_test = pd.merge(data_test, data_full[['date', 'final.output.recovery', 'rougher.output.recovery']],\n",
    "                     on='date',\n",
    "                     how='left'\n",
    "                    )"
   ]
  },
  {
   "cell_type": "code",
   "execution_count": 18,
   "metadata": {},
   "outputs": [],
   "source": [
    "# Drop features that are missing at data_test from data_train \n",
    "\n",
    "data_train = data_train.drop(columns=[x for x in data_train if x not in data_test], axis=1)"
   ]
  },
  {
   "cell_type": "code",
   "execution_count": 19,
   "metadata": {},
   "outputs": [
    {
     "name": "stdout",
     "output_type": "stream",
     "text": [
      "[]\n"
     ]
    }
   ],
   "source": [
    "# Are there features in data_test that are missing from data_train? \n",
    "features_not_in_train = [x for x in data_test.columns if x not in data_train.columns]\n",
    "\n",
    "pprint(features_not_in_train)"
   ]
  },
  {
   "cell_type": "markdown",
   "metadata": {},
   "source": [
    "There are no features that can be found only at the test set"
   ]
  },
  {
   "cell_type": "code",
   "execution_count": 20,
   "metadata": {},
   "outputs": [
    {
     "data": {
      "text/plain": [
       "(16860, 55)"
      ]
     },
     "execution_count": 20,
     "metadata": {},
     "output_type": "execute_result"
    }
   ],
   "source": [
    "data_train.shape"
   ]
  },
  {
   "cell_type": "code",
   "execution_count": 21,
   "metadata": {},
   "outputs": [
    {
     "data": {
      "text/plain": [
       "(5856, 55)"
      ]
     },
     "execution_count": 21,
     "metadata": {},
     "output_type": "execute_result"
    }
   ],
   "source": [
    "data_test.shape"
   ]
  },
  {
   "cell_type": "markdown",
   "metadata": {},
   "source": [
    "Now both data sets have the same number of features"
   ]
  },
  {
   "cell_type": "markdown",
   "metadata": {},
   "source": [
    "### Perform data preprocessing."
   ]
  },
  {
   "cell_type": "code",
   "execution_count": 22,
   "metadata": {},
   "outputs": [
    {
     "name": "stdout",
     "output_type": "stream",
     "text": [
      "<class 'pandas.core.frame.DataFrame'>\n",
      "RangeIndex: 16860 entries, 0 to 16859\n",
      "Data columns (total 55 columns):\n",
      " #   Column                                      Non-Null Count  Dtype  \n",
      "---  ------                                      --------------  -----  \n",
      " 0   date                                        16860 non-null  object \n",
      " 1   final.output.recovery                       15339 non-null  float64\n",
      " 2   primary_cleaner.input.sulfate               15553 non-null  float64\n",
      " 3   primary_cleaner.input.depressant            15598 non-null  float64\n",
      " 4   primary_cleaner.input.feed_size             16860 non-null  float64\n",
      " 5   primary_cleaner.input.xanthate              15875 non-null  float64\n",
      " 6   primary_cleaner.state.floatbank8_a_air      16820 non-null  float64\n",
      " 7   primary_cleaner.state.floatbank8_a_level    16827 non-null  float64\n",
      " 8   primary_cleaner.state.floatbank8_b_air      16820 non-null  float64\n",
      " 9   primary_cleaner.state.floatbank8_b_level    16833 non-null  float64\n",
      " 10  primary_cleaner.state.floatbank8_c_air      16822 non-null  float64\n",
      " 11  primary_cleaner.state.floatbank8_c_level    16833 non-null  float64\n",
      " 12  primary_cleaner.state.floatbank8_d_air      16821 non-null  float64\n",
      " 13  primary_cleaner.state.floatbank8_d_level    16833 non-null  float64\n",
      " 14  rougher.input.feed_ag                       16778 non-null  float64\n",
      " 15  rougher.input.feed_pb                       16632 non-null  float64\n",
      " 16  rougher.input.feed_rate                     16347 non-null  float64\n",
      " 17  rougher.input.feed_size                     16443 non-null  float64\n",
      " 18  rougher.input.feed_sol                      16568 non-null  float64\n",
      " 19  rougher.input.feed_au                       16777 non-null  float64\n",
      " 20  rougher.input.floatbank10_sulfate           15816 non-null  float64\n",
      " 21  rougher.input.floatbank10_xanthate          16514 non-null  float64\n",
      " 22  rougher.input.floatbank11_sulfate           16237 non-null  float64\n",
      " 23  rougher.input.floatbank11_xanthate          14956 non-null  float64\n",
      " 24  rougher.output.recovery                     14287 non-null  float64\n",
      " 25  rougher.state.floatbank10_a_air             16807 non-null  float64\n",
      " 26  rougher.state.floatbank10_a_level           16807 non-null  float64\n",
      " 27  rougher.state.floatbank10_b_air             16807 non-null  float64\n",
      " 28  rougher.state.floatbank10_b_level           16807 non-null  float64\n",
      " 29  rougher.state.floatbank10_c_air             16807 non-null  float64\n",
      " 30  rougher.state.floatbank10_c_level           16814 non-null  float64\n",
      " 31  rougher.state.floatbank10_d_air             16802 non-null  float64\n",
      " 32  rougher.state.floatbank10_d_level           16809 non-null  float64\n",
      " 33  rougher.state.floatbank10_e_air             16257 non-null  float64\n",
      " 34  rougher.state.floatbank10_e_level           16809 non-null  float64\n",
      " 35  rougher.state.floatbank10_f_air             16802 non-null  float64\n",
      " 36  rougher.state.floatbank10_f_level           16802 non-null  float64\n",
      " 37  secondary_cleaner.state.floatbank2_a_air    16497 non-null  float64\n",
      " 38  secondary_cleaner.state.floatbank2_a_level  16751 non-null  float64\n",
      " 39  secondary_cleaner.state.floatbank2_b_air    16705 non-null  float64\n",
      " 40  secondary_cleaner.state.floatbank2_b_level  16748 non-null  float64\n",
      " 41  secondary_cleaner.state.floatbank3_a_air    16763 non-null  float64\n",
      " 42  secondary_cleaner.state.floatbank3_a_level  16747 non-null  float64\n",
      " 43  secondary_cleaner.state.floatbank3_b_air    16752 non-null  float64\n",
      " 44  secondary_cleaner.state.floatbank3_b_level  16750 non-null  float64\n",
      " 45  secondary_cleaner.state.floatbank4_a_air    16731 non-null  float64\n",
      " 46  secondary_cleaner.state.floatbank4_a_level  16747 non-null  float64\n",
      " 47  secondary_cleaner.state.floatbank4_b_air    16768 non-null  float64\n",
      " 48  secondary_cleaner.state.floatbank4_b_level  16767 non-null  float64\n",
      " 49  secondary_cleaner.state.floatbank5_a_air    16775 non-null  float64\n",
      " 50  secondary_cleaner.state.floatbank5_a_level  16775 non-null  float64\n",
      " 51  secondary_cleaner.state.floatbank5_b_air    16775 non-null  float64\n",
      " 52  secondary_cleaner.state.floatbank5_b_level  16776 non-null  float64\n",
      " 53  secondary_cleaner.state.floatbank6_a_air    16757 non-null  float64\n",
      " 54  secondary_cleaner.state.floatbank6_a_level  16775 non-null  float64\n",
      "dtypes: float64(54), object(1)\n",
      "memory usage: 7.1+ MB\n"
     ]
    }
   ],
   "source": [
    "data_train.info()"
   ]
  },
  {
   "cell_type": "code",
   "execution_count": 23,
   "metadata": {},
   "outputs": [
    {
     "name": "stdout",
     "output_type": "stream",
     "text": [
      "<class 'pandas.core.frame.DataFrame'>\n",
      "Int64Index: 5856 entries, 0 to 5855\n",
      "Data columns (total 55 columns):\n",
      " #   Column                                      Non-Null Count  Dtype  \n",
      "---  ------                                      --------------  -----  \n",
      " 0   date                                        5856 non-null   object \n",
      " 1   primary_cleaner.input.sulfate               5554 non-null   float64\n",
      " 2   primary_cleaner.input.depressant            5572 non-null   float64\n",
      " 3   primary_cleaner.input.feed_size             5856 non-null   float64\n",
      " 4   primary_cleaner.input.xanthate              5690 non-null   float64\n",
      " 5   primary_cleaner.state.floatbank8_a_air      5840 non-null   float64\n",
      " 6   primary_cleaner.state.floatbank8_a_level    5840 non-null   float64\n",
      " 7   primary_cleaner.state.floatbank8_b_air      5840 non-null   float64\n",
      " 8   primary_cleaner.state.floatbank8_b_level    5840 non-null   float64\n",
      " 9   primary_cleaner.state.floatbank8_c_air      5840 non-null   float64\n",
      " 10  primary_cleaner.state.floatbank8_c_level    5840 non-null   float64\n",
      " 11  primary_cleaner.state.floatbank8_d_air      5840 non-null   float64\n",
      " 12  primary_cleaner.state.floatbank8_d_level    5840 non-null   float64\n",
      " 13  rougher.input.feed_ag                       5840 non-null   float64\n",
      " 14  rougher.input.feed_pb                       5840 non-null   float64\n",
      " 15  rougher.input.feed_rate                     5816 non-null   float64\n",
      " 16  rougher.input.feed_size                     5834 non-null   float64\n",
      " 17  rougher.input.feed_sol                      5789 non-null   float64\n",
      " 18  rougher.input.feed_au                       5840 non-null   float64\n",
      " 19  rougher.input.floatbank10_sulfate           5599 non-null   float64\n",
      " 20  rougher.input.floatbank10_xanthate          5733 non-null   float64\n",
      " 21  rougher.input.floatbank11_sulfate           5801 non-null   float64\n",
      " 22  rougher.input.floatbank11_xanthate          5503 non-null   float64\n",
      " 23  rougher.state.floatbank10_a_air             5839 non-null   float64\n",
      " 24  rougher.state.floatbank10_a_level           5840 non-null   float64\n",
      " 25  rougher.state.floatbank10_b_air             5839 non-null   float64\n",
      " 26  rougher.state.floatbank10_b_level           5840 non-null   float64\n",
      " 27  rougher.state.floatbank10_c_air             5839 non-null   float64\n",
      " 28  rougher.state.floatbank10_c_level           5840 non-null   float64\n",
      " 29  rougher.state.floatbank10_d_air             5839 non-null   float64\n",
      " 30  rougher.state.floatbank10_d_level           5840 non-null   float64\n",
      " 31  rougher.state.floatbank10_e_air             5839 non-null   float64\n",
      " 32  rougher.state.floatbank10_e_level           5840 non-null   float64\n",
      " 33  rougher.state.floatbank10_f_air             5839 non-null   float64\n",
      " 34  rougher.state.floatbank10_f_level           5840 non-null   float64\n",
      " 35  secondary_cleaner.state.floatbank2_a_air    5836 non-null   float64\n",
      " 36  secondary_cleaner.state.floatbank2_a_level  5840 non-null   float64\n",
      " 37  secondary_cleaner.state.floatbank2_b_air    5833 non-null   float64\n",
      " 38  secondary_cleaner.state.floatbank2_b_level  5840 non-null   float64\n",
      " 39  secondary_cleaner.state.floatbank3_a_air    5822 non-null   float64\n",
      " 40  secondary_cleaner.state.floatbank3_a_level  5840 non-null   float64\n",
      " 41  secondary_cleaner.state.floatbank3_b_air    5840 non-null   float64\n",
      " 42  secondary_cleaner.state.floatbank3_b_level  5840 non-null   float64\n",
      " 43  secondary_cleaner.state.floatbank4_a_air    5840 non-null   float64\n",
      " 44  secondary_cleaner.state.floatbank4_a_level  5840 non-null   float64\n",
      " 45  secondary_cleaner.state.floatbank4_b_air    5840 non-null   float64\n",
      " 46  secondary_cleaner.state.floatbank4_b_level  5840 non-null   float64\n",
      " 47  secondary_cleaner.state.floatbank5_a_air    5840 non-null   float64\n",
      " 48  secondary_cleaner.state.floatbank5_a_level  5840 non-null   float64\n",
      " 49  secondary_cleaner.state.floatbank5_b_air    5840 non-null   float64\n",
      " 50  secondary_cleaner.state.floatbank5_b_level  5840 non-null   float64\n",
      " 51  secondary_cleaner.state.floatbank6_a_air    5840 non-null   float64\n",
      " 52  secondary_cleaner.state.floatbank6_a_level  5840 non-null   float64\n",
      " 53  final.output.recovery                       5414 non-null   float64\n",
      " 54  rougher.output.recovery                     5310 non-null   float64\n",
      "dtypes: float64(54), object(1)\n",
      "memory usage: 2.5+ MB\n"
     ]
    }
   ],
   "source": [
    "data_test.info()"
   ]
  },
  {
   "cell_type": "markdown",
   "metadata": {},
   "source": [
    "#### Checking for duplications"
   ]
  },
  {
   "cell_type": "code",
   "execution_count": 24,
   "metadata": {},
   "outputs": [
    {
     "data": {
      "text/plain": [
       "0"
      ]
     },
     "execution_count": 24,
     "metadata": {},
     "output_type": "execute_result"
    }
   ],
   "source": [
    "data_train.duplicated().sum()"
   ]
  },
  {
   "cell_type": "code",
   "execution_count": 25,
   "metadata": {},
   "outputs": [
    {
     "data": {
      "text/plain": [
       "0"
      ]
     },
     "execution_count": 25,
     "metadata": {},
     "output_type": "execute_result"
    }
   ],
   "source": [
    "data_train['date'].duplicated().sum()"
   ]
  },
  {
   "cell_type": "code",
   "execution_count": 26,
   "metadata": {},
   "outputs": [
    {
     "data": {
      "text/plain": [
       "0"
      ]
     },
     "execution_count": 26,
     "metadata": {},
     "output_type": "execute_result"
    }
   ],
   "source": [
    "data_test.duplicated().sum()"
   ]
  },
  {
   "cell_type": "code",
   "execution_count": 27,
   "metadata": {},
   "outputs": [
    {
     "data": {
      "text/plain": [
       "0"
      ]
     },
     "execution_count": 27,
     "metadata": {},
     "output_type": "execute_result"
    }
   ],
   "source": [
    "data_test['date'].duplicated().sum()"
   ]
  },
  {
   "cell_type": "markdown",
   "metadata": {},
   "source": [
    "**Summary:** \n",
    "\n",
    "I checked for duplicated rows, once as a complete inspection, and once only for the date column, wich should be unique. the other features does not have to be unique.\n",
    "\n",
    "I didn't find any duplications"
   ]
  },
  {
   "cell_type": "markdown",
   "metadata": {},
   "source": [
    "#### Data types"
   ]
  },
  {
   "cell_type": "markdown",
   "metadata": {},
   "source": [
    "Except for the date column, all the other features are of the 'float64' data type, so there is no need to convert them. We also don't have any boolean features.\n",
    "\n",
    "Regarding the date, which is of 'Object' data type, since it does not have any function in our prediction, we will drop it later on and we don't need to change it's data type."
   ]
  },
  {
   "cell_type": "markdown",
   "metadata": {},
   "source": [
    "#### Looking for missing values"
   ]
  },
  {
   "cell_type": "markdown",
   "metadata": {},
   "source": [
    "As we can see from the df.info(), there are many features with missing values. The ratio of NaN values changes from feature to feature between 1% to 16%.\n",
    "\n"
   ]
  },
  {
   "cell_type": "code",
   "execution_count": 28,
   "metadata": {},
   "outputs": [
    {
     "name": "stdout",
     "output_type": "stream",
     "text": [
      "Rows with missing values in the data_train set: 4181\n",
      "Rate of missing values in the data_train set: 0.25\n",
      "Rows with missing values in the data_test set: 627\n",
      "Rate missing values in the data_test set: 0.11\n"
     ]
    }
   ],
   "source": [
    "print(\"Rows with missing values in the data_train set:\", round(data_train.isnull().any(axis=1).sum(), 2))\n",
    "print(\"Rate of missing values in the data_train set:\", round(data_train.isnull().any(axis=1).sum()/len(data_train), 2))\n",
    "\n",
    "print(\"Rows with missing values in the data_test set:\", round(data_test.isna().any(axis=1).sum(), 2))\n",
    "print(\"Rate missing values in the data_test set:\", round(data_test.isna().any(axis=1).sum()/len(data_test), 2))"
   ]
  },
  {
   "cell_type": "code",
   "execution_count": 29,
   "metadata": {},
   "outputs": [
    {
     "data": {
      "text/plain": [
       "rougher.output.recovery                       0.1801\n",
       "rougher.input.floatbank11_xanthate            0.1273\n",
       "final.output.recovery                         0.0992\n",
       "primary_cleaner.input.sulfate                 0.0840\n",
       "primary_cleaner.input.depressant              0.0809\n",
       "rougher.input.floatbank10_sulfate             0.0660\n",
       "primary_cleaner.input.xanthate                0.0620\n",
       "rougher.input.floatbank11_sulfate             0.0384\n",
       "rougher.state.floatbank10_e_air               0.0371\n",
       "rougher.input.feed_rate                       0.0314\n",
       "rougher.input.feed_size                       0.0254\n",
       "secondary_cleaner.state.floatbank2_a_air      0.0220\n",
       "rougher.input.floatbank10_xanthate            0.0210\n",
       "rougher.input.feed_sol                        0.0176\n",
       "rougher.input.feed_pb                         0.0137\n",
       "secondary_cleaner.state.floatbank2_b_air      0.0093\n",
       "secondary_cleaner.state.floatbank4_a_air      0.0077\n",
       "secondary_cleaner.state.floatbank4_a_level    0.0067\n",
       "secondary_cleaner.state.floatbank3_a_level    0.0067\n",
       "secondary_cleaner.state.floatbank2_b_level    0.0067\n",
       "secondary_cleaner.state.floatbank3_b_level    0.0066\n",
       "secondary_cleaner.state.floatbank2_a_level    0.0065\n",
       "secondary_cleaner.state.floatbank3_b_air      0.0064\n",
       "secondary_cleaner.state.floatbank6_a_air      0.0061\n",
       "secondary_cleaner.state.floatbank3_a_air      0.0058\n",
       "secondary_cleaner.state.floatbank4_b_air      0.0055\n",
       "secondary_cleaner.state.floatbank4_b_level    0.0055\n",
       "secondary_cleaner.state.floatbank6_a_level    0.0051\n",
       "secondary_cleaner.state.floatbank5_a_air      0.0051\n",
       "secondary_cleaner.state.floatbank5_a_level    0.0051\n",
       "secondary_cleaner.state.floatbank5_b_air      0.0051\n",
       "secondary_cleaner.state.floatbank5_b_level    0.0050\n",
       "rougher.input.feed_au                         0.0049\n",
       "rougher.input.feed_ag                         0.0049\n",
       "rougher.state.floatbank10_d_air               0.0035\n",
       "rougher.state.floatbank10_f_air               0.0035\n",
       "rougher.state.floatbank10_f_level             0.0035\n",
       "rougher.state.floatbank10_b_air               0.0032\n",
       "rougher.state.floatbank10_c_air               0.0032\n",
       "rougher.state.floatbank10_b_level             0.0032\n",
       "rougher.state.floatbank10_a_level             0.0032\n",
       "rougher.state.floatbank10_a_air               0.0032\n",
       "rougher.state.floatbank10_e_level             0.0030\n",
       "rougher.state.floatbank10_d_level             0.0030\n",
       "rougher.state.floatbank10_c_level             0.0027\n",
       "primary_cleaner.state.floatbank8_a_air        0.0024\n",
       "primary_cleaner.state.floatbank8_b_air        0.0024\n",
       "primary_cleaner.state.floatbank8_c_air        0.0023\n",
       "primary_cleaner.state.floatbank8_d_air        0.0023\n",
       "primary_cleaner.state.floatbank8_a_level      0.0020\n",
       "primary_cleaner.state.floatbank8_b_level      0.0016\n",
       "primary_cleaner.state.floatbank8_c_level      0.0016\n",
       "primary_cleaner.state.floatbank8_d_level      0.0016\n",
       "primary_cleaner.input.feed_size               0.0000\n",
       "date                                          0.0000\n",
       "dtype: float64"
      ]
     },
     "execution_count": 29,
     "metadata": {},
     "output_type": "execute_result"
    }
   ],
   "source": [
    "# What is the rate of NaNs for each column?\n",
    "\n",
    "round(data_train.loc[:,data_train.columns].isnull().sum()/data_train.loc[:,data_train.columns].count(),4).sort_values(ascending=False)"
   ]
  },
  {
   "cell_type": "markdown",
   "metadata": {},
   "source": [
    "**Summary:**\n",
    "\n",
    "- 25% of the rows in the train dataset have some missing values! thats a lot, and as so we can't just drop these inspections. filling the missing values with statistical measurements like mean or mode is not suitable in this case, since the features' values are very precise and will lost their correlation with the target and with other features.\n",
    "\n",
    "- We have a better way of filling the missing values: since we know that \"Parameters that are next to each other in terms of time are often similar\", we beleive that the KNN - K-Nearest Neighbor method - can provide us the best estimation of a NaNs value.\n",
    "\n",
    "- Since this method is a distance-based algorithm and in order not to give more weight to one variable over the other, we will scale the data before filling the NaNs.\n",
    "\n",
    "- Analysing each feature's missing values' rate, is showing that there are about 10 features having more then 2.5% missing values, and that the two targets are in the top rank of missing values rate: 18% and 10%\n",
    "- For the targets, we can fill the NaN's using the recovery calculation formula, which was found to be accurate."
   ]
  },
  {
   "cell_type": "markdown",
   "metadata": {},
   "source": [
    "#### Standardize numerical features"
   ]
  },
  {
   "cell_type": "code",
   "execution_count": 30,
   "metadata": {},
   "outputs": [],
   "source": [
    "# we'll use Scaling for numeric columns\n",
    "\n",
    "non_scaling_features = ['date', 'rougher.output.recovery', 'final.output.recovery']\n",
    "scaling_features = [x for x in data_train.columns if x  not in non_scaling_features]"
   ]
  },
  {
   "cell_type": "code",
   "execution_count": 31,
   "metadata": {},
   "outputs": [],
   "source": [
    "# We will use Standard scaler: (Old value - Mean value) / Standard deviation\n",
    "scaler = StandardScaler()\n",
    "\n",
    "# We fit the scaler on TRAINING dataset in order to prevent data leakage\n",
    "scaler.fit(data_train[scaling_features])\n",
    "\n",
    "# We apply fitted scaler to both train and test datasets\n",
    "data_train_scaled = pd.DataFrame(scaler.transform(data_train[scaling_features].copy()), columns = scaling_features)\n",
    "data_test_scaled = pd.DataFrame(scaler.transform(data_test[scaling_features].copy()), columns = scaling_features)"
   ]
  },
  {
   "cell_type": "code",
   "execution_count": 32,
   "metadata": {},
   "outputs": [
    {
     "data": {
      "text/html": [
       "<div>\n",
       "<style scoped>\n",
       "    .dataframe tbody tr th:only-of-type {\n",
       "        vertical-align: middle;\n",
       "    }\n",
       "\n",
       "    .dataframe tbody tr th {\n",
       "        vertical-align: top;\n",
       "    }\n",
       "\n",
       "    .dataframe thead th {\n",
       "        text-align: right;\n",
       "    }\n",
       "</style>\n",
       "<table border=\"1\" class=\"dataframe\">\n",
       "  <thead>\n",
       "    <tr style=\"text-align: right;\">\n",
       "      <th></th>\n",
       "      <th>primary_cleaner.input.sulfate</th>\n",
       "      <th>primary_cleaner.input.depressant</th>\n",
       "      <th>primary_cleaner.input.feed_size</th>\n",
       "      <th>primary_cleaner.input.xanthate</th>\n",
       "      <th>primary_cleaner.state.floatbank8_a_air</th>\n",
       "      <th>primary_cleaner.state.floatbank8_a_level</th>\n",
       "      <th>primary_cleaner.state.floatbank8_b_air</th>\n",
       "      <th>primary_cleaner.state.floatbank8_b_level</th>\n",
       "      <th>primary_cleaner.state.floatbank8_c_air</th>\n",
       "      <th>primary_cleaner.state.floatbank8_c_level</th>\n",
       "      <th>...</th>\n",
       "      <th>secondary_cleaner.state.floatbank4_a_air</th>\n",
       "      <th>secondary_cleaner.state.floatbank4_a_level</th>\n",
       "      <th>secondary_cleaner.state.floatbank4_b_air</th>\n",
       "      <th>secondary_cleaner.state.floatbank4_b_level</th>\n",
       "      <th>secondary_cleaner.state.floatbank5_a_air</th>\n",
       "      <th>secondary_cleaner.state.floatbank5_a_level</th>\n",
       "      <th>secondary_cleaner.state.floatbank5_b_air</th>\n",
       "      <th>secondary_cleaner.state.floatbank5_b_level</th>\n",
       "      <th>secondary_cleaner.state.floatbank6_a_air</th>\n",
       "      <th>secondary_cleaner.state.floatbank6_a_level</th>\n",
       "    </tr>\n",
       "  </thead>\n",
       "  <tbody>\n",
       "    <tr>\n",
       "      <th>0</th>\n",
       "      <td>-0.052611</td>\n",
       "      <td>0.406453</td>\n",
       "      <td>-0.076371</td>\n",
       "      <td>0.345866</td>\n",
       "      <td>0.074948</td>\n",
       "      <td>0.088861</td>\n",
       "      <td>0.072276</td>\n",
       "      <td>-0.113460</td>\n",
       "      <td>0.089595</td>\n",
       "      <td>0.106923</td>\n",
       "      <td>...</td>\n",
       "      <td>-0.738787</td>\n",
       "      <td>-0.098154</td>\n",
       "      <td>-0.446449</td>\n",
       "      <td>-0.314571</td>\n",
       "      <td>-0.856516</td>\n",
       "      <td>0.024940</td>\n",
       "      <td>-0.690950</td>\n",
       "      <td>-0.018440</td>\n",
       "      <td>-0.614805</td>\n",
       "      <td>-1.089046</td>\n",
       "    </tr>\n",
       "    <tr>\n",
       "      <th>1</th>\n",
       "      <td>-0.084841</td>\n",
       "      <td>0.451865</td>\n",
       "      <td>-0.076371</td>\n",
       "      <td>0.379043</td>\n",
       "      <td>0.144388</td>\n",
       "      <td>0.063192</td>\n",
       "      <td>0.136584</td>\n",
       "      <td>0.093704</td>\n",
       "      <td>0.155475</td>\n",
       "      <td>0.098696</td>\n",
       "      <td>...</td>\n",
       "      <td>-0.742354</td>\n",
       "      <td>-0.133711</td>\n",
       "      <td>-0.471353</td>\n",
       "      <td>-0.276705</td>\n",
       "      <td>-0.839892</td>\n",
       "      <td>0.000782</td>\n",
       "      <td>-0.706210</td>\n",
       "      <td>-0.019793</td>\n",
       "      <td>-0.636792</td>\n",
       "      <td>-1.010584</td>\n",
       "    </tr>\n",
       "    <tr>\n",
       "      <th>2</th>\n",
       "      <td>-0.124709</td>\n",
       "      <td>0.727659</td>\n",
       "      <td>-0.076371</td>\n",
       "      <td>0.351847</td>\n",
       "      <td>0.211193</td>\n",
       "      <td>0.074877</td>\n",
       "      <td>0.200682</td>\n",
       "      <td>0.084410</td>\n",
       "      <td>0.221076</td>\n",
       "      <td>0.078968</td>\n",
       "      <td>...</td>\n",
       "      <td>-0.739051</td>\n",
       "      <td>-0.098542</td>\n",
       "      <td>-0.477646</td>\n",
       "      <td>-0.274488</td>\n",
       "      <td>-0.835259</td>\n",
       "      <td>0.001312</td>\n",
       "      <td>-0.701528</td>\n",
       "      <td>-0.019007</td>\n",
       "      <td>-0.632436</td>\n",
       "      <td>-1.031839</td>\n",
       "    </tr>\n",
       "  </tbody>\n",
       "</table>\n",
       "<p>3 rows × 52 columns</p>\n",
       "</div>"
      ],
      "text/plain": [
       "   primary_cleaner.input.sulfate  primary_cleaner.input.depressant  \\\n",
       "0                      -0.052611                          0.406453   \n",
       "1                      -0.084841                          0.451865   \n",
       "2                      -0.124709                          0.727659   \n",
       "\n",
       "   primary_cleaner.input.feed_size  primary_cleaner.input.xanthate  \\\n",
       "0                        -0.076371                        0.345866   \n",
       "1                        -0.076371                        0.379043   \n",
       "2                        -0.076371                        0.351847   \n",
       "\n",
       "   primary_cleaner.state.floatbank8_a_air  \\\n",
       "0                                0.074948   \n",
       "1                                0.144388   \n",
       "2                                0.211193   \n",
       "\n",
       "   primary_cleaner.state.floatbank8_a_level  \\\n",
       "0                                  0.088861   \n",
       "1                                  0.063192   \n",
       "2                                  0.074877   \n",
       "\n",
       "   primary_cleaner.state.floatbank8_b_air  \\\n",
       "0                                0.072276   \n",
       "1                                0.136584   \n",
       "2                                0.200682   \n",
       "\n",
       "   primary_cleaner.state.floatbank8_b_level  \\\n",
       "0                                 -0.113460   \n",
       "1                                  0.093704   \n",
       "2                                  0.084410   \n",
       "\n",
       "   primary_cleaner.state.floatbank8_c_air  \\\n",
       "0                                0.089595   \n",
       "1                                0.155475   \n",
       "2                                0.221076   \n",
       "\n",
       "   primary_cleaner.state.floatbank8_c_level  ...  \\\n",
       "0                                  0.106923  ...   \n",
       "1                                  0.098696  ...   \n",
       "2                                  0.078968  ...   \n",
       "\n",
       "   secondary_cleaner.state.floatbank4_a_air  \\\n",
       "0                                 -0.738787   \n",
       "1                                 -0.742354   \n",
       "2                                 -0.739051   \n",
       "\n",
       "   secondary_cleaner.state.floatbank4_a_level  \\\n",
       "0                                   -0.098154   \n",
       "1                                   -0.133711   \n",
       "2                                   -0.098542   \n",
       "\n",
       "   secondary_cleaner.state.floatbank4_b_air  \\\n",
       "0                                 -0.446449   \n",
       "1                                 -0.471353   \n",
       "2                                 -0.477646   \n",
       "\n",
       "   secondary_cleaner.state.floatbank4_b_level  \\\n",
       "0                                   -0.314571   \n",
       "1                                   -0.276705   \n",
       "2                                   -0.274488   \n",
       "\n",
       "   secondary_cleaner.state.floatbank5_a_air  \\\n",
       "0                                 -0.856516   \n",
       "1                                 -0.839892   \n",
       "2                                 -0.835259   \n",
       "\n",
       "   secondary_cleaner.state.floatbank5_a_level  \\\n",
       "0                                    0.024940   \n",
       "1                                    0.000782   \n",
       "2                                    0.001312   \n",
       "\n",
       "   secondary_cleaner.state.floatbank5_b_air  \\\n",
       "0                                 -0.690950   \n",
       "1                                 -0.706210   \n",
       "2                                 -0.701528   \n",
       "\n",
       "   secondary_cleaner.state.floatbank5_b_level  \\\n",
       "0                                   -0.018440   \n",
       "1                                   -0.019793   \n",
       "2                                   -0.019007   \n",
       "\n",
       "   secondary_cleaner.state.floatbank6_a_air  \\\n",
       "0                                 -0.614805   \n",
       "1                                 -0.636792   \n",
       "2                                 -0.632436   \n",
       "\n",
       "   secondary_cleaner.state.floatbank6_a_level  \n",
       "0                                   -1.089046  \n",
       "1                                   -1.010584  \n",
       "2                                   -1.031839  \n",
       "\n",
       "[3 rows x 52 columns]"
      ]
     },
     "execution_count": 32,
     "metadata": {},
     "output_type": "execute_result"
    }
   ],
   "source": [
    "data_train_scaled.head(3)"
   ]
  },
  {
   "cell_type": "markdown",
   "metadata": {},
   "source": [
    "#### Fill missing values using K-Nearest Neighbor imputer"
   ]
  },
  {
   "cell_type": "code",
   "execution_count": 33,
   "metadata": {},
   "outputs": [],
   "source": [
    "#Create instance of KNNImputer class using default parameters.\n",
    "imputer = KNNImputer()\n",
    "\n",
    "# Fill NaNs; fit and transform the train dataset. Impute all missing values in test dataset\n",
    "data_train_filled = imputer.fit_transform(data_train[scaling_features])\n",
    "data_test_filled = imputer.transform(data_test[scaling_features])"
   ]
  },
  {
   "cell_type": "code",
   "execution_count": 34,
   "metadata": {},
   "outputs": [],
   "source": [
    "# Add the non scaled columns (date + targets) back to each dataset.\n",
    "data_train_scaled = pd.concat([data_train[non_scaling_features]] + \\\n",
    "                              [pd.DataFrame(data_train_filled, columns=scaling_features)], axis = 1)\n",
    "\n",
    "data_test_scaled = pd.concat([data_test[non_scaling_features]] + \\\n",
    "                             [pd.DataFrame(data_test_filled, columns=scaling_features)], axis = 1)"
   ]
  },
  {
   "cell_type": "code",
   "execution_count": 35,
   "metadata": {},
   "outputs": [
    {
     "name": "stdout",
     "output_type": "stream",
     "text": [
      "Rows with missing values in the data_train_scaled set: 2711\n",
      "Rate of missing values in the data_train_scaled set: 0.16\n",
      "Rows with missing values in the data_test_scaled set: 566\n",
      "Rate missing values in the data_test_scaled set: 0.1\n"
     ]
    }
   ],
   "source": [
    "# We should check for missing values in the target colums\n",
    "\n",
    "print(\"Rows with missing values in the data_train_scaled set:\", round(data_train_scaled.isnull().any(axis=1).sum(), 2))\n",
    "print(\"Rate of missing values in the data_train_scaled set:\", round(data_train_scaled.isnull().any(axis=1).sum()/len(data_train_scaled), 2))\n",
    "\n",
    "print(\"Rows with missing values in the data_test_scaled set:\", round(data_test_scaled.isnull().any(axis=1).sum(), 2))\n",
    "print(\"Rate missing values in the data_test_scaled set:\", round(data_test_scaled.isnull().any(axis=1).sum()/len(data_test_scaled), 2))"
   ]
  },
  {
   "cell_type": "markdown",
   "metadata": {},
   "source": [
    "We have around 16% of the inspections with NaN value in a target column. filling the target is not an option. So, we have to drop these rows and we still have a big enough dataset for our purpose."
   ]
  },
  {
   "cell_type": "code",
   "execution_count": 36,
   "metadata": {},
   "outputs": [],
   "source": [
    "#Drop rows with NaNs in test dataset.\n",
    "data_train_scaled = data_train_scaled.dropna().reset_index(drop=True)\n",
    "data_test_scaled = data_test_scaled.dropna().reset_index(drop=True)"
   ]
  },
  {
   "cell_type": "markdown",
   "metadata": {},
   "source": [
    "#### Summary:\n",
    "\n",
    "- No duplicate rows found in the datasets\n",
    "- Data types are all float, so we don't have to convert them to numeric values for the models\n",
    "- The only exceptional is the data, but we will not use it as a feature in our prediction\n",
    "- Missing values: There were a lot of them.\n",
    " - Features' missing values were filled using K nearest neighbor imputer, which uses the fact that parameters that are next to each other in terms of time are often similar.\n",
    " - Target columns were not filled, and were dropped, leaving us enough data for our mission.\n",
    "- Before filling the missing values, we normalized the data, in order to avoid giving un balanced weights to the variables.   "
   ]
  },
  {
   "cell_type": "markdown",
   "metadata": {},
   "source": [
    "<a id=\"step2\"></a>\n",
    "## Step 2. Analyze the data\n",
    "\n",
    "[back to table of contents](#contents)"
   ]
  },
  {
   "cell_type": "markdown",
   "metadata": {},
   "source": [
    "### Take note of how the concentrations of metals (Au, Ag, Pb) change depending on the purification stage."
   ]
  },
  {
   "cell_type": "code",
   "execution_count": 37,
   "metadata": {},
   "outputs": [
    {
     "data": {
      "image/png": "[encoded data removed]",
      "text/plain": [
       "<Figure size 936x1080 with 3 Axes>"
      ]
     },
     "metadata": {
      "needs_background": "light"
     },
     "output_type": "display_data"
    }
   ],
   "source": [
    "metals = ['au', 'ag', 'pb']\n",
    "stage_columns = ['rougher.input.feed','rougher.output.concentrate', 'primary_cleaner.output.concentrate', 'final.output.concentrate']\n",
    "\n",
    "fig, axes = plt.subplots(nrows=3, ncols=1, figsize=(13, 15))\n",
    "for i, metal in enumerate(metals):\n",
    "    for column in stage_columns:\n",
    "        ax = i\n",
    "        sns.kdeplot(data_full[(column+'_'+ metal)], ax=axes[ax], shade='fill', label=(column+'_'+ metal))\n",
    "        axes[ax].legend()\n",
    "        axes[ax].set_title(metal)\n",
    "        axes[ax].set_xlabel('Concentration (%)', fontsize=12, labelpad = 10)\n",
    "\n",
    "fig.suptitle('Metal Concentration by Purification Stage', fontsize=15, y=1)        \n",
    "plt.tight_layout()\n",
    "plt.show()        "
   ]
  },
  {
   "cell_type": "markdown",
   "metadata": {},
   "source": [
    "**Conclusions:**\n",
    "- Au (Gold): We can see in the first graph, that from stage to stage the concentration of gold is getting higher. from around 10% in the first stage as ore mixture, to around 45% in the final stage \n",
    "- Ag (Silver): The concentration of silver is increasing between the first and second stages, but then it decresed back to the initial stage's rate, and decresed even more in the final stage. \n",
    "- Pb (Lead): The lead concentration is increasing between the 1'st, 2'nd and 3'rd stages and also improving in the final stage, the average does not change but the variation gets lower.\n",
    "- All the metals at all stages have a small 'tail' around 0. My assumption is that these are batches of very low quality ore mixture. Maybe we should treat them as outliers. I will decide on it later."
   ]
  },
  {
   "cell_type": "markdown",
   "metadata": {},
   "source": [
    "### Compare the feed particle size distributions in the training set and in the test set. If the distributions vary significantly, the model evaluation will be incorrect."
   ]
  },
  {
   "cell_type": "code",
   "execution_count": 38,
   "metadata": {},
   "outputs": [
    {
     "data": {
      "image/png": "[encoded data removed]",
      "text/plain": [
       "<Figure size 720x720 with 2 Axes>"
      ]
     },
     "metadata": {
      "needs_background": "light"
     },
     "output_type": "display_data"
    }
   ],
   "source": [
    "# Create graphs to visualize the distribution of feed_size in training and testing datasets\n",
    "\n",
    "columns = ['rougher.input.feed_size','primary_cleaner.input.feed_size']\n",
    "\n",
    "fig = plt.figure(figsize=(10, 10))\n",
    "for i, column in enumerate(columns):\n",
    "        plt.subplot(2, 1, i+1)\n",
    "        sns.kdeplot(data_train[column], shade='fill', label='Train')\n",
    "        sns.kdeplot(data_test[column], shade='fill', label='Test')\n",
    "        plt.legend(fontsize=12)\n",
    "        plt.title(column)\n",
    "        plt.xlabel('Feed Size', fontsize=12, labelpad = 10)\n",
    "\n",
    "fig.suptitle('Rougher Input And Primary Cleaner Input Feed Size Distribution (Density)', fontsize=15, y=1)        \n",
    "plt.tight_layout()\n",
    "plt.show();  "
   ]
  },
  {
   "cell_type": "markdown",
   "metadata": {},
   "source": [
    "**Conclusions:**\n",
    "The graphes that visualize the distributions of practical size on 'Rougher input' and 'Primary cleaner input' stages, show roughly the same distributions for train and test datasets at each stage.\n",
    "\n",
    "This finding confirms the feasibility of building a good model based on the provided datasets."
   ]
  },
  {
   "cell_type": "markdown",
   "metadata": {},
   "source": [
    "### Consider the total concentrations of all substances at different stages: raw feed, rougher concentrate, and final concentrate. Do you notice any abnormal values in the total distribution? If you do, is it worth removing such values from both samples? "
   ]
  },
  {
   "cell_type": "code",
   "execution_count": 39,
   "metadata": {},
   "outputs": [
    {
     "data": {
      "image/png": "[encoded data removed]",
      "text/plain": [
       "<Figure size 936x360 with 1 Axes>"
      ]
     },
     "metadata": {
      "needs_background": "light"
     },
     "output_type": "display_data"
    }
   ],
   "source": [
    "# Plotting the distribution of total concentration of all metals at different stages.\n",
    "metals = ['au', 'ag', 'pb']\n",
    "stage_columns = ['rougher.input.feed','rougher.output.concentrate', 'final.output.concentrate']\n",
    "\n",
    "fig = plt.figure(figsize=(13, 5))\n",
    "for column in stage_columns:\n",
    "        sns.kdeplot(data_full[(column+'_au')]+data_full[(column+'_ag')]+data_full[(column+'_pb')], label=column, shade='fill')\n",
    "        plt.legend(fontsize=12)\n",
    "\n",
    "plt.xlabel('Total Metal Concentration (%)', fontsize=12)\n",
    "    \n",
    "plt.tight_layout()\n",
    "plt.show()       "
   ]
  },
  {
   "cell_type": "markdown",
   "metadata": {},
   "source": [
    "### Describe the findings and eliminate anomalies."
   ]
  },
  {
   "cell_type": "markdown",
   "metadata": {},
   "source": [
    "As we noticed earlier, we can see it also with the total concentration of all metals, for every stage there is a small but noticeable population of inspections around zero concentration. \n",
    "\n",
    "These inspections does not represent a normal inspection in the process we analyse, so we will filter them out in order not to negatively affect the model results. I will set the threshold value to 7.\n",
    "\n",
    "Our data sets now are normalized, so we can't filter the outliers based on calculating the threshold value out of them. We have to filter rows from the original full data set and then remove the corresponding rows from the train and test based on the date index. "
   ]
  },
  {
   "cell_type": "code",
   "execution_count": 40,
   "metadata": {},
   "outputs": [],
   "source": [
    "# Filtering out the outliers, keeping just the 'main' inspections, where the total concentration of all metals > 7\n",
    "\n",
    "data_full_main = data_full.loc[(data_full[['rougher.input.feed_au', 'rougher.input.feed_pb', 'rougher.input.feed_ag']].sum(axis=1) > 7) \\\n",
    "     & (data_full[['rougher.output.concentrate_au', 'rougher.output.concentrate_pb', 'rougher.output.concentrate_ag']].sum(axis=1) > 7) \\\n",
    "     & (data_full[['final.output.concentrate_au', 'final.output.concentrate_pb', 'final.output.concentrate_ag']].sum(axis=1) > 7)]"
   ]
  },
  {
   "cell_type": "code",
   "execution_count": 41,
   "metadata": {},
   "outputs": [
    {
     "name": "stdout",
     "output_type": "stream",
     "text": [
      "data_train_scaled rows:  14149\n",
      "data_test_scaled rows:  5290\n"
     ]
    }
   ],
   "source": [
    "print('data_train_scaled rows: ', len(data_train_scaled))\n",
    "print('data_test_scaled rows: ', len(data_test_scaled))"
   ]
  },
  {
   "cell_type": "code",
   "execution_count": 42,
   "metadata": {},
   "outputs": [],
   "source": [
    "#Remove outliers from scaled testing and training datasets based on whether date is in gold_full_no_outliers.\n",
    "\n",
    "data_train_scaled = data_train_scaled.loc[data_train_scaled['date'].isin(data_full_main['date'])].reset_index(drop=True)\n",
    "data_test_scaled = data_test_scaled.loc[data_test_scaled['date'].isin(data_full_main['date'])].reset_index(drop=True)"
   ]
  },
  {
   "cell_type": "code",
   "execution_count": 43,
   "metadata": {},
   "outputs": [
    {
     "name": "stdout",
     "output_type": "stream",
     "text": [
      "data_train_scaled no outliers:  13772\n",
      "data_test_scaled no outliers:  5149\n"
     ]
    }
   ],
   "source": [
    "print('data_train_scaled no outliers: ', len(data_train_scaled))\n",
    "print('data_test_scaled no outliers: ', len(data_test_scaled))"
   ]
  },
  {
   "cell_type": "markdown",
   "metadata": {},
   "source": [
    "<a id=\"step3\"></a>\n",
    "## Step 3. Build the model\n",
    "\n",
    "[back to table of contents](#contents)"
   ]
  },
  {
   "cell_type": "markdown",
   "metadata": {},
   "source": [
    "### Write a function to calculate the final sMAPE value."
   ]
  },
  {
   "cell_type": "code",
   "execution_count": 44,
   "metadata": {},
   "outputs": [],
   "source": [
    "#Create function to calculate sMAPE.\n",
    "def smape(y_true, y_pred):\n",
    "    smape = (np.abs(y_true - y_pred) / ((np.abs(y_true) + np.abs(y_pred)) / 2)).mean() * 100 \n",
    "    return smape"
   ]
  },
  {
   "cell_type": "code",
   "execution_count": 45,
   "metadata": {},
   "outputs": [],
   "source": [
    "#Create function to calculate final sMAPE.\n",
    "def final_smape(y_true, y_pred):\n",
    "    smape_rougher_out = smape(y_true[:, 0], y_pred[:, 0]) \n",
    "    smape_final_out = smape(y_true[:, 1], y_pred[:, 1]) \n",
    "    final = (0.25 * smape_rougher_out) + (0.75 * smape_final_out)\n",
    "    return final"
   ]
  },
  {
   "cell_type": "markdown",
   "metadata": {},
   "source": [
    "### Train different models. Evaluate them using cross-validation. "
   ]
  },
  {
   "cell_type": "code",
   "execution_count": 46,
   "metadata": {},
   "outputs": [],
   "source": [
    "# Splitting the datasets to features and targets\n",
    "\n",
    "# Preparing list of feature and training columns.\n",
    "targets = ['rougher.output.recovery', 'final.output.recovery']\n",
    "features = [col for col in data_train_scaled if col not in targets and col != 'date']\n",
    "\n",
    "# Split the datasets to features and targets.\n",
    "\n",
    "features_train, features_test = data_train_scaled[features].values, data_test_scaled[features].values\n",
    "target_train, target_test = data_train_scaled[targets].values, data_test_scaled[targets].values"
   ]
  },
  {
   "cell_type": "code",
   "execution_count": 47,
   "metadata": {},
   "outputs": [],
   "source": [
    "# Defining a function for model evaluation using cross-validation and sMAPE scoring\n",
    "\n",
    "def cv_model_evaluation(model):\n",
    "    scores = cross_val_score(model, features_train, target_train, scoring=smape_score)\n",
    "    print('Mean smape: {:0.3f}. folds: {}'.format(scores.mean(), scores))"
   ]
  },
  {
   "cell_type": "code",
   "execution_count": 48,
   "metadata": {},
   "outputs": [],
   "source": [
    "# Defining scorer\n",
    "smape_score = make_scorer(final_smape, greater_is_better=False)"
   ]
  },
  {
   "cell_type": "code",
   "execution_count": 51,
   "metadata": {
    "scrolled": true
   },
   "outputs": [
    {
     "name": "stdout",
     "output_type": "stream",
     "text": [
      "9.162695475899033 {'max_depth': 3, 'min_samples_split': 3}\n"
     ]
    }
   ],
   "source": [
    "# Decision Tree Regressor\n",
    "\n",
    "# Let's optimize the model by finding the best hyperparameters\n",
    "parameters = {'max_depth': range(3, 15, 3), 'min_samples_split' : range(1, 10, 2)}\n",
    "dtr = GridSearchCV(DecisionTreeRegressor(random_state=12345), parameters, cv=5, scoring = smape_score)\n",
    "dtr.fit(features_train, target_train)\n",
    "\n",
    "#cv_model_evaluation(dtr)\n",
    "print(abs(dtr.best_score_), dtr.best_params_)"
   ]
  },
  {
   "cell_type": "code",
   "execution_count": 52,
   "metadata": {},
   "outputs": [
    {
     "name": "stdout",
     "output_type": "stream",
     "text": [
      "Mean smape: -10.006. folds: [-12.13328895  -8.90417575  -8.30502138  -8.07818073 -12.60894352]\n"
     ]
    }
   ],
   "source": [
    "# Linear Regression\n",
    "\n",
    "lr = LinearRegression()\n",
    "lr.fit(features_train, target_train)\n",
    "\n",
    "cv_model_evaluation(lr)"
   ]
  },
  {
   "cell_type": "code",
   "execution_count": null,
   "metadata": {},
   "outputs": [],
   "source": [
    "# Random Forest Regressor\n",
    "\n",
    "# Let's optimize the model by finding the best hyperparameters\n",
    "parameters = {'n_estimators': range(10, 70, 20), 'max_depth': range(3, 12, 3), 'min_samples_split' : range(1, 4, 1)}\n",
    "rfr = GridSearchCV(RandomForestRegressor(random_state=12345), parameters, cv=5,scoring = smape_score)\n",
    "rfr.fit(features_train, target_train)\n",
    "\n",
    "#cv_model_evaluation(rfr)\n",
    "print(abs(rfr.best_score_), rfr.best_params_)"
   ]
  },
  {
   "cell_type": "code",
   "execution_count": null,
   "metadata": {},
   "outputs": [],
   "source": [
    "# Lasso Regressor\n",
    "\n",
    "parameters = {'alpha' : np.arange(.01, 1, 0.1)}\n",
    "LassoRegressor = GridSearchCV(Lasso(), parameters, cv=5,scoring = smape_score)\n",
    "LassoRegressor.fit(features_train, target_train)\n",
    "\n",
    "#cv_model_evaluation(LassoRegressor)\n",
    "print(abs(LassoRegressor.best_score_), LassoRegressor.best_params_)"
   ]
  },
  {
   "cell_type": "markdown",
   "metadata": {},
   "source": [
    "**Summary:**\n",
    "\n",
    "We trained 4 different models, where in some of them we used GridSearchCV for obtaining the mean of scores and also optimizing the model by choosing best hyperparameters, and in others we used only cross validation.\n",
    "Our metric for evaluations is sMAPE score, and for each model we have the mean sMAPE score out of 5 itterations.\n",
    "\n",
    "**The results (from the best model down):**\n",
    "1. Random Forest Regressor: 8.68\n",
    "2. Decision Tree Regressor: 9.16\n",
    "3. Lasso Regressor: 9.29 \n",
    "4. Linear Regression: 10.006"
   ]
  },
  {
   "cell_type": "markdown",
   "metadata": {},
   "source": [
    "### Pick the best model and test it using the test sample. Provide findings."
   ]
  },
  {
   "cell_type": "code",
   "execution_count": 49,
   "metadata": {},
   "outputs": [
    {
     "name": "stdout",
     "output_type": "stream",
     "text": [
      "sMAPE score for best model on test datasets: 7.12\n"
     ]
    }
   ],
   "source": [
    "#Create instance of best regression model and fit it to training data.\n",
    "\n",
    "best_model = RandomForestRegressor(random_state=12345, max_depth= 3, min_samples_split= 3, n_estimators= 50).fit(features_train, target_train)\n",
    "\n",
    "#Obtain final sMAPE score for model using testing datasets.\n",
    "best_model_smape = round(final_smape(target_test, best_model.predict(features_test)), 2)\n",
    "\n",
    "print(f'sMAPE score for best model on test datasets: {best_model_smape}')"
   ]
  },
  {
   "cell_type": "code",
   "execution_count": 50,
   "metadata": {
    "scrolled": true
   },
   "outputs": [
    {
     "name": "stdout",
     "output_type": "stream",
     "text": [
      "sMAPE score for sanity check model: 7.710530795316553\n"
     ]
    }
   ],
   "source": [
    "# Sanity check the model: find the dummy (average) model scoring\n",
    "\n",
    "dummy_model_smape = final_smape(target_test, np.tile(np.mean(target_train, axis=0), (len(target_test), 1)))\n",
    "\n",
    "print(f'sMAPE score for sanity check model: {dummy_model_smape}')"
   ]
  },
  {
   "cell_type": "markdown",
   "metadata": {},
   "source": [
    "**Summary & Conclusions:**\n",
    "\n",
    "Our goal was to build a model that predicts the amount of gold recovered from gold ore. We have historical data on extraction and purification. We received 3 data sets: full one, and two pre-divided sets of train and test.\n",
    "\n",
    "1. We had to solve the issue of train and test datasets not having identical features. In the test dataset, some advanced parameters were missing. we solved it by dropping these features also from the train dataset.\n",
    "2. We validated the data by comparing the provided values of rougher recovery to the values we calculated based on the recovery formula. The mean_absolute_error we received was absolutely negligible, what confirms the data validity.\n",
    "3. Data preproccesing:\n",
    "   - the data contains relatively high rate of missing values. luckily, we could use KNN method and fill the NaNs with the mean value of nearest inspections in time, which suppose to be close in value.\n",
    "   - Yet, around 16% of the data had NaN in the target columns. these inspections were droped from the datasets.\n",
    "4. All numerical features (beside the targets) were normalized.\n",
    "5. Analysis:\n",
    "   - We examined the concentration of metals at various stages and sow that the gold concentration is gradually improving, while the other metals behaviour is not consistent.\n",
    "   - We exemined the distributions of practical size in train and test data sets, to ensure the distributions are generaly the same - and confirmed it.\n",
    "   - Outliers existed around zero, and we decided to remove all rows with total metals concentration below 7.\n",
    "6. Model: finally, we defined functions for calculating sMAPE score and the weighted final sMAPE \n",
    "   - 4 Models were trained and optimized and selected the estimator which provided the lowest sMAPE score\n",
    "   - The best mean score was given by Random Forest Regressor (8.68)\n",
    "7. Testing the model:\n",
    "   - We have tested the random forest regressor model, with its best hyperparameters on the test set.\n",
    "   - The results were better then what we received on the train set (7.12)\n",
    "   - Sanity check - score of dummy model also provided better score then the one of the best model on test set(7.71)\n",
    "   \n",
    "**Recommendations:**   \n",
    "The last two findings may imply for the test set being less distributed and more concentrated around the mean. If this is the case, then retraining and testing with randomized datasets would be a good idea.   \n",
    "We would also recommend on studing the correlations between the features and the targets and use only those features who predict better."
   ]
  },
  {
   "cell_type": "code",
   "execution_count": null,
   "metadata": {},
   "outputs": [],
   "source": []
  }
 ],
 "metadata": {
  "ExecuteTimeLog": [
   {
    "duration": 8405,
    "start_time": "2021-11-11T05:08:44.875Z"
   },
   {
    "duration": 6300,
    "start_time": "2021-11-11T05:08:53.282Z"
   },
   {
    "duration": 4,
    "start_time": "2021-11-11T05:08:59.585Z"
   },
   {
    "duration": 1706,
    "start_time": "2021-11-11T05:08:59.591Z"
   },
   {
    "duration": 824,
    "start_time": "2021-11-11T05:09:01.299Z"
   },
   {
    "duration": 7,
    "start_time": "2021-11-11T05:09:02.125Z"
   },
   {
    "duration": 20,
    "start_time": "2021-11-11T05:09:02.134Z"
   },
   {
    "duration": 18,
    "start_time": "2021-11-11T05:09:02.158Z"
   },
   {
    "duration": 32,
    "start_time": "2021-11-11T05:09:02.178Z"
   },
   {
    "duration": 22,
    "start_time": "2021-11-11T05:09:02.212Z"
   },
   {
    "duration": 14,
    "start_time": "2021-11-11T05:09:02.235Z"
   },
   {
    "duration": 15,
    "start_time": "2021-11-11T05:09:02.251Z"
   },
   {
    "duration": 22,
    "start_time": "2021-11-11T05:09:02.268Z"
   },
   {
    "duration": 16,
    "start_time": "2021-11-11T05:09:02.292Z"
   },
   {
    "duration": 20,
    "start_time": "2021-11-11T05:09:02.310Z"
   },
   {
    "duration": 21,
    "start_time": "2021-11-11T05:09:02.332Z"
   },
   {
    "duration": 14,
    "start_time": "2021-11-11T05:09:02.354Z"
   },
   {
    "duration": 20,
    "start_time": "2021-11-11T05:09:02.370Z"
   },
   {
    "duration": 12,
    "start_time": "2021-11-11T05:09:02.392Z"
   },
   {
    "duration": 31,
    "start_time": "2021-11-11T05:09:02.407Z"
   },
   {
    "duration": 9,
    "start_time": "2021-11-11T05:09:02.440Z"
   },
   {
    "duration": 13,
    "start_time": "2021-11-11T05:09:02.451Z"
   },
   {
    "duration": 9,
    "start_time": "2021-11-11T05:09:02.468Z"
   },
   {
    "duration": 7,
    "start_time": "2021-11-11T05:09:02.480Z"
   },
   {
    "duration": 26,
    "start_time": "2021-11-11T05:09:02.489Z"
   },
   {
    "duration": 12,
    "start_time": "2021-11-11T05:09:02.517Z"
   },
   {
    "duration": 73,
    "start_time": "2021-11-11T05:09:02.531Z"
   },
   {
    "duration": 6,
    "start_time": "2021-11-11T05:09:02.606Z"
   },
   {
    "duration": 27,
    "start_time": "2021-11-11T05:09:02.614Z"
   },
   {
    "duration": 24,
    "start_time": "2021-11-11T05:09:02.642Z"
   },
   {
    "duration": 17,
    "start_time": "2021-11-11T05:09:02.667Z"
   },
   {
    "duration": 23,
    "start_time": "2021-11-11T05:09:02.686Z"
   },
   {
    "duration": 2,
    "start_time": "2021-11-11T05:09:02.711Z"
   },
   {
    "duration": 78,
    "start_time": "2021-11-11T05:09:02.715Z"
   },
   {
    "duration": 18,
    "start_time": "2021-11-11T05:09:02.795Z"
   },
   {
    "duration": 15378,
    "start_time": "2021-11-11T05:09:02.814Z"
   },
   {
    "duration": 9,
    "start_time": "2021-11-11T05:09:18.194Z"
   },
   {
    "duration": 15,
    "start_time": "2021-11-11T05:09:18.205Z"
   },
   {
    "duration": 19,
    "start_time": "2021-11-11T05:09:18.221Z"
   },
   {
    "duration": 1261,
    "start_time": "2021-11-11T05:09:18.264Z"
   },
   {
    "duration": 600,
    "start_time": "2021-11-11T05:09:19.527Z"
   },
   {
    "duration": 413,
    "start_time": "2021-11-11T05:09:20.129Z"
   },
   {
    "duration": 19,
    "start_time": "2021-11-11T05:09:20.544Z"
   },
   {
    "duration": 4,
    "start_time": "2021-11-11T05:09:20.565Z"
   },
   {
    "duration": 16,
    "start_time": "2021-11-11T05:09:20.571Z"
   },
   {
    "duration": 4,
    "start_time": "2021-11-11T05:09:20.589Z"
   },
   {
    "duration": 6,
    "start_time": "2021-11-11T05:09:20.595Z"
   },
   {
    "duration": 6,
    "start_time": "2021-11-11T05:09:20.602Z"
   },
   {
    "duration": 10,
    "start_time": "2021-11-11T05:09:20.610Z"
   },
   {
    "duration": 11,
    "start_time": "2021-11-11T05:09:20.622Z"
   },
   {
    "duration": 3,
    "start_time": "2021-11-11T05:09:20.664Z"
   },
   {
    "duration": 31809,
    "start_time": "2021-11-11T05:09:20.668Z"
   },
   {
    "duration": 1485,
    "start_time": "2021-11-11T05:09:52.479Z"
   },
   {
    "duration": 78743,
    "start_time": "2021-11-11T19:06:14.257Z"
   },
   {
    "duration": 107319,
    "start_time": "2021-11-11T19:07:33.003Z"
   },
   {
    "duration": 21768,
    "start_time": "2021-11-11T19:09:51.770Z"
   },
   {
    "duration": 915,
    "start_time": "2021-11-11T19:10:13.541Z"
   },
   {
    "duration": 8,
    "start_time": "2021-11-11T19:10:14.459Z"
   },
   {
    "duration": 15,
    "start_time": "2021-11-11T19:10:14.469Z"
   },
   {
    "duration": 8,
    "start_time": "2021-11-11T19:10:14.487Z"
   },
   {
    "duration": 32,
    "start_time": "2021-11-11T19:10:14.497Z"
   },
   {
    "duration": 57,
    "start_time": "2021-11-11T19:10:14.535Z"
   },
   {
    "duration": 17,
    "start_time": "2021-11-11T19:10:14.596Z"
   },
   {
    "duration": 6,
    "start_time": "2021-11-11T19:10:14.615Z"
   },
   {
    "duration": 6,
    "start_time": "2021-11-11T19:10:14.624Z"
   },
   {
    "duration": 6,
    "start_time": "2021-11-11T19:10:14.633Z"
   },
   {
    "duration": 8,
    "start_time": "2021-11-11T19:10:14.683Z"
   },
   {
    "duration": 8,
    "start_time": "2021-11-11T19:10:14.694Z"
   },
   {
    "duration": 8,
    "start_time": "2021-11-11T19:10:14.705Z"
   },
   {
    "duration": 16,
    "start_time": "2021-11-11T19:10:14.715Z"
   },
   {
    "duration": 6,
    "start_time": "2021-11-11T19:10:14.782Z"
   },
   {
    "duration": 23,
    "start_time": "2021-11-11T19:10:14.790Z"
   },
   {
    "duration": 11,
    "start_time": "2021-11-11T19:10:14.815Z"
   },
   {
    "duration": 6,
    "start_time": "2021-11-11T19:10:14.829Z"
   },
   {
    "duration": 45,
    "start_time": "2021-11-11T19:10:14.838Z"
   },
   {
    "duration": 5,
    "start_time": "2021-11-11T19:10:14.886Z"
   },
   {
    "duration": 31,
    "start_time": "2021-11-11T19:10:14.894Z"
   },
   {
    "duration": 23,
    "start_time": "2021-11-11T19:10:14.927Z"
   },
   {
    "duration": 125,
    "start_time": "2021-11-11T19:10:14.981Z"
   },
   {
    "duration": 10,
    "start_time": "2021-11-11T19:10:15.113Z"
   },
   {
    "duration": 69,
    "start_time": "2021-11-11T19:10:15.126Z"
   },
   {
    "duration": 8,
    "start_time": "2021-11-11T19:10:15.198Z"
   },
   {
    "duration": 24,
    "start_time": "2021-11-11T19:10:15.212Z"
   },
   {
    "duration": 69,
    "start_time": "2021-11-11T19:10:15.239Z"
   },
   {
    "duration": 5,
    "start_time": "2021-11-11T19:10:15.311Z"
   },
   {
    "duration": 89,
    "start_time": "2021-11-11T19:10:15.319Z"
   },
   {
    "duration": 38,
    "start_time": "2021-11-11T19:10:15.411Z"
   },
   {
    "duration": 18880,
    "start_time": "2021-11-11T19:10:15.452Z"
   },
   {
    "duration": 12,
    "start_time": "2021-11-11T19:10:34.335Z"
   },
   {
    "duration": 36,
    "start_time": "2021-11-11T19:10:34.350Z"
   },
   {
    "duration": 25,
    "start_time": "2021-11-11T19:10:34.389Z"
   },
   {
    "duration": 2766,
    "start_time": "2021-11-11T19:10:34.418Z"
   },
   {
    "duration": 1309,
    "start_time": "2021-11-11T19:10:37.187Z"
   },
   {
    "duration": 825,
    "start_time": "2021-11-11T19:10:38.499Z"
   },
   {
    "duration": 20,
    "start_time": "2021-11-11T19:10:39.327Z"
   },
   {
    "duration": 4,
    "start_time": "2021-11-11T19:10:39.349Z"
   },
   {
    "duration": 44,
    "start_time": "2021-11-11T19:10:39.355Z"
   },
   {
    "duration": 6,
    "start_time": "2021-11-11T19:10:39.401Z"
   },
   {
    "duration": 12,
    "start_time": "2021-11-11T19:10:39.409Z"
   },
   {
    "duration": 11,
    "start_time": "2021-11-11T19:10:39.424Z"
   },
   {
    "duration": 51,
    "start_time": "2021-11-11T19:10:39.437Z"
   },
   {
    "duration": 4,
    "start_time": "2021-11-11T19:10:39.491Z"
   },
   {
    "duration": 7,
    "start_time": "2021-11-11T19:10:39.497Z"
   },
   {
    "duration": 9343,
    "start_time": "2021-11-11T19:10:39.507Z"
   },
   {
    "duration": 5,
    "start_time": "2021-11-11T19:10:48.853Z"
   },
   {
    "duration": 41594,
    "start_time": "2021-11-11T19:11:44.597Z"
   },
   {
    "duration": 2088,
    "start_time": "2021-11-11T19:12:26.194Z"
   }
  ],
  "kernelspec": {
   "display_name": "Python 3",
   "language": "python",
   "name": "python3"
  },
  "language_info": {
   "codemirror_mode": {
    "name": "ipython",
    "version": 3
   },
   "file_extension": ".py",
   "mimetype": "text/x-python",
   "name": "python",
   "nbconvert_exporter": "python",
   "pygments_lexer": "ipython3",
   "version": "3.8.5"
  },
  "toc": {
   "base_numbering": 1,
   "nav_menu": {},
   "number_sections": true,
   "sideBar": true,
   "skip_h1_title": true,
   "title_cell": "Table of Contents",
   "title_sidebar": "Contents",
   "toc_cell": false,
   "toc_position": {},
   "toc_section_display": true,
   "toc_window_display": false
  }
 },
 "nbformat": 4,
 "nbformat_minor": 2
}
