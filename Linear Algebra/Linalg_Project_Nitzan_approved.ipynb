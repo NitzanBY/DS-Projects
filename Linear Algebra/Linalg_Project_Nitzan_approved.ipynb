{
 "cells": [
  {
   "cell_type": "markdown",
   "metadata": {},
   "source": [
    "# Statement"
   ]
  },
  {
   "cell_type": "markdown",
   "metadata": {},
   "source": [
    "The Sure Tomorrow insurance company wants to solve several tasks with the help of Machine Learning and you are asked to evaluate that possibility.\n",
    "\n",
    "- Task 1: Find customers who are similar to a given customer. This will help the company's agents with marketing.\n",
    "- Task 2: Predict whether a new customer is likely to receive an insurance benefit. Can a prediction model do better than a dummy model?\n",
    "- Task 3: Predict the number of insurance benefits a new customer is likely to receive using a linear regression model.\n",
    "- Task 4: Protect clients' personal data without breaking the model from the previous task. It's necessary to develop a data transformation algorithm that would make it hard to recover personal information if the data fell into the wrong hands. This is called data masking, or data obfuscation. But the data should be protected in such a way that the quality of machine learning models doesn't suffer. You don't need to pick the best model, just prove that the algorithm works correctly."
   ]
  },
  {
   "cell_type": "markdown",
   "metadata": {},
   "source": [
    "# Data Preprocessing & Exploration\n",
    "\n",
    "## Initialization"
   ]
  },
  {
   "cell_type": "code",
   "execution_count": 3,
   "metadata": {},
   "outputs": [
    {
     "name": "stdout",
     "output_type": "stream",
     "text": [
      "Defaulting to user installation because normal site-packages is not writeable\n",
      "Collecting scikit-learn\n",
      "  Downloading scikit_learn-1.0.1-cp37-cp37m-manylinux_2_12_x86_64.manylinux2010_x86_64.whl (23.2 MB)\n",
      "\u001b[K     |████████████████████████████████| 23.2 MB 133 kB/s eta 0:00:01\n",
      "\u001b[?25hRequirement already satisfied, skipping upgrade: joblib>=0.11 in /opt/conda/lib/python3.7/site-packages (from scikit-learn) (1.0.1)\n",
      "Collecting threadpoolctl>=2.0.0\n",
      "  Downloading threadpoolctl-3.0.0-py3-none-any.whl (14 kB)\n",
      "Requirement already satisfied, skipping upgrade: scipy>=1.1.0 in /opt/conda/lib/python3.7/site-packages (from scikit-learn) (1.4.1)\n",
      "Requirement already satisfied, skipping upgrade: numpy>=1.14.6 in /opt/conda/lib/python3.7/site-packages (from scikit-learn) (1.19.5)\n",
      "Installing collected packages: threadpoolctl, scikit-learn\n",
      "Successfully installed scikit-learn-1.0.1 threadpoolctl-3.0.0\n",
      "Note: you may need to restart the kernel to use updated packages.\n"
     ]
    }
   ],
   "source": [
    "pip install scikit-learn --upgrade"
   ]
  },
  {
   "cell_type": "code",
   "execution_count": 4,
   "metadata": {},
   "outputs": [],
   "source": [
    "# Basic\n",
    "import numpy as np\n",
    "import pandas as pd\n",
    "from scipy import math\n",
    "import warnings\n",
    "warnings.filterwarnings(\"ignore\")\n",
    "\n",
    "# Visualization\n",
    "import seaborn as sns\n",
    "\n",
    "# Metrics\n",
    "from sklearn.metrics import r2_score\n",
    "from sklearn.metrics import mean_squared_error\n",
    "\n",
    "# Modelling\n",
    "import sklearn.linear_model\n",
    "import sklearn.metrics\n",
    "import sklearn.neighbors\n",
    "import sklearn.preprocessing\n",
    "from sklearn.neighbors import NearestNeighbors\n",
    "\n",
    "# Preprocessing\n",
    "from sklearn.model_selection import train_test_split\n",
    "\n",
    "from IPython.display import display"
   ]
  },
  {
   "cell_type": "markdown",
   "metadata": {},
   "source": [
    "## Load Data"
   ]
  },
  {
   "cell_type": "markdown",
   "metadata": {},
   "source": [
    "Load data and conduct a basic check that it's free from obvious issues."
   ]
  },
  {
   "cell_type": "code",
   "execution_count": 5,
   "metadata": {},
   "outputs": [],
   "source": [
    "df = pd.read_csv('/datasets/insurance_us.csv')"
   ]
  },
  {
   "cell_type": "markdown",
   "metadata": {},
   "source": [
    "We rename the colums to make the code look more consistent with its style."
   ]
  },
  {
   "cell_type": "code",
   "execution_count": 6,
   "metadata": {},
   "outputs": [],
   "source": [
    "df = df.rename(columns={'Gender': 'gender', 'Age': 'age', 'Salary': 'income', 'Family members': 'family_members', 'Insurance benefits': 'insurance_benefits'})"
   ]
  },
  {
   "cell_type": "markdown",
   "metadata": {},
   "source": [
    "## df.sample(10)"
   ]
  },
  {
   "cell_type": "code",
   "execution_count": 7,
   "metadata": {},
   "outputs": [
    {
     "name": "stdout",
     "output_type": "stream",
     "text": [
      "<class 'pandas.core.frame.DataFrame'>\n",
      "RangeIndex: 5000 entries, 0 to 4999\n",
      "Data columns (total 5 columns):\n",
      "gender                5000 non-null int64\n",
      "age                   5000 non-null float64\n",
      "income                5000 non-null float64\n",
      "family_members        5000 non-null int64\n",
      "insurance_benefits    5000 non-null int64\n",
      "dtypes: float64(2), int64(3)\n",
      "memory usage: 195.4 KB\n"
     ]
    }
   ],
   "source": [
    "df.info()"
   ]
  },
  {
   "cell_type": "code",
   "execution_count": 8,
   "metadata": {},
   "outputs": [],
   "source": [
    "# we may want to fix the age type (from float to int) though this is not critical\n",
    "\n",
    "# write your conversion here if you choose:\n",
    "df['age'] = df['age'].astype('int32')"
   ]
  },
  {
   "cell_type": "code",
   "execution_count": 9,
   "metadata": {},
   "outputs": [
    {
     "name": "stdout",
     "output_type": "stream",
     "text": [
      "<class 'pandas.core.frame.DataFrame'>\n",
      "RangeIndex: 5000 entries, 0 to 4999\n",
      "Data columns (total 5 columns):\n",
      "gender                5000 non-null int64\n",
      "age                   5000 non-null int32\n",
      "income                5000 non-null float64\n",
      "family_members        5000 non-null int64\n",
      "insurance_benefits    5000 non-null int64\n",
      "dtypes: float64(1), int32(1), int64(3)\n",
      "memory usage: 175.9 KB\n"
     ]
    }
   ],
   "source": [
    "# check to see that the conversion was successful\n",
    "df.info()"
   ]
  },
  {
   "cell_type": "code",
   "execution_count": 10,
   "metadata": {},
   "outputs": [],
   "source": [
    "# now have a look at the data's descriptive statistics. \n",
    "# Does everything look okay?"
   ]
  },
  {
   "cell_type": "code",
   "execution_count": 11,
   "metadata": {},
   "outputs": [
    {
     "data": {
      "text/html": [
       "<div>\n",
       "<style scoped>\n",
       "    .dataframe tbody tr th:only-of-type {\n",
       "        vertical-align: middle;\n",
       "    }\n",
       "\n",
       "    .dataframe tbody tr th {\n",
       "        vertical-align: top;\n",
       "    }\n",
       "\n",
       "    .dataframe thead th {\n",
       "        text-align: right;\n",
       "    }\n",
       "</style>\n",
       "<table border=\"1\" class=\"dataframe\">\n",
       "  <thead>\n",
       "    <tr style=\"text-align: right;\">\n",
       "      <th></th>\n",
       "      <th>gender</th>\n",
       "      <th>age</th>\n",
       "      <th>income</th>\n",
       "      <th>family_members</th>\n",
       "      <th>insurance_benefits</th>\n",
       "    </tr>\n",
       "  </thead>\n",
       "  <tbody>\n",
       "    <tr>\n",
       "      <td>count</td>\n",
       "      <td>5000.000000</td>\n",
       "      <td>5000.000000</td>\n",
       "      <td>5000.000000</td>\n",
       "      <td>5000.000000</td>\n",
       "      <td>5000.000000</td>\n",
       "    </tr>\n",
       "    <tr>\n",
       "      <td>mean</td>\n",
       "      <td>0.499000</td>\n",
       "      <td>30.952800</td>\n",
       "      <td>39916.360000</td>\n",
       "      <td>1.194200</td>\n",
       "      <td>0.148000</td>\n",
       "    </tr>\n",
       "    <tr>\n",
       "      <td>std</td>\n",
       "      <td>0.500049</td>\n",
       "      <td>8.440807</td>\n",
       "      <td>9900.083569</td>\n",
       "      <td>1.091387</td>\n",
       "      <td>0.463183</td>\n",
       "    </tr>\n",
       "    <tr>\n",
       "      <td>min</td>\n",
       "      <td>0.000000</td>\n",
       "      <td>18.000000</td>\n",
       "      <td>5300.000000</td>\n",
       "      <td>0.000000</td>\n",
       "      <td>0.000000</td>\n",
       "    </tr>\n",
       "    <tr>\n",
       "      <td>25%</td>\n",
       "      <td>0.000000</td>\n",
       "      <td>24.000000</td>\n",
       "      <td>33300.000000</td>\n",
       "      <td>0.000000</td>\n",
       "      <td>0.000000</td>\n",
       "    </tr>\n",
       "    <tr>\n",
       "      <td>50%</td>\n",
       "      <td>0.000000</td>\n",
       "      <td>30.000000</td>\n",
       "      <td>40200.000000</td>\n",
       "      <td>1.000000</td>\n",
       "      <td>0.000000</td>\n",
       "    </tr>\n",
       "    <tr>\n",
       "      <td>75%</td>\n",
       "      <td>1.000000</td>\n",
       "      <td>37.000000</td>\n",
       "      <td>46600.000000</td>\n",
       "      <td>2.000000</td>\n",
       "      <td>0.000000</td>\n",
       "    </tr>\n",
       "    <tr>\n",
       "      <td>max</td>\n",
       "      <td>1.000000</td>\n",
       "      <td>65.000000</td>\n",
       "      <td>79000.000000</td>\n",
       "      <td>6.000000</td>\n",
       "      <td>5.000000</td>\n",
       "    </tr>\n",
       "  </tbody>\n",
       "</table>\n",
       "</div>"
      ],
      "text/plain": [
       "            gender          age        income  family_members  \\\n",
       "count  5000.000000  5000.000000   5000.000000     5000.000000   \n",
       "mean      0.499000    30.952800  39916.360000        1.194200   \n",
       "std       0.500049     8.440807   9900.083569        1.091387   \n",
       "min       0.000000    18.000000   5300.000000        0.000000   \n",
       "25%       0.000000    24.000000  33300.000000        0.000000   \n",
       "50%       0.000000    30.000000  40200.000000        1.000000   \n",
       "75%       1.000000    37.000000  46600.000000        2.000000   \n",
       "max       1.000000    65.000000  79000.000000        6.000000   \n",
       "\n",
       "       insurance_benefits  \n",
       "count         5000.000000  \n",
       "mean             0.148000  \n",
       "std              0.463183  \n",
       "min              0.000000  \n",
       "25%              0.000000  \n",
       "50%              0.000000  \n",
       "75%              0.000000  \n",
       "max              5.000000  "
      ]
     },
     "execution_count": 11,
     "metadata": {},
     "output_type": "execute_result"
    }
   ],
   "source": [
    "df.describe()"
   ]
  },
  {
   "cell_type": "markdown",
   "metadata": {},
   "source": [
    "Everything looks fine. The values are logical and there are no extreme ones.\n",
    "\n",
    "We have 5,000 inspections\n",
    "- Gender: we have to values, 0 and 1\n",
    "- Age: rage between 18 and 65, which is logical, the mean is almost equal to the meadian, so the distribution of ages should be   quite simetric\n",
    "- Income: ranges between 5,300 and 79,000. that also logical. and also mean and median are very close.\n",
    "- Family members: ranges between 0 and 6. logical\n",
    "- Insurance benefits: ranges between 0 and 5, where the mean in 0.148"
   ]
  },
  {
   "cell_type": "code",
   "execution_count": 12,
   "metadata": {},
   "outputs": [
    {
     "data": {
      "text/plain": [
       "gender                0\n",
       "age                   0\n",
       "income                0\n",
       "family_members        0\n",
       "insurance_benefits    0\n",
       "dtype: int64"
      ]
     },
     "execution_count": 12,
     "metadata": {},
     "output_type": "execute_result"
    }
   ],
   "source": [
    "# Looking for missing values\n",
    "df.isna().sum()"
   ]
  },
  {
   "cell_type": "markdown",
   "metadata": {},
   "source": [
    "There are no missing values"
   ]
  },
  {
   "cell_type": "code",
   "execution_count": 13,
   "metadata": {},
   "outputs": [
    {
     "data": {
      "text/plain": [
       "153"
      ]
     },
     "execution_count": 13,
     "metadata": {},
     "output_type": "execute_result"
    }
   ],
   "source": [
    "# Checking for duplications\n",
    "df.duplicated().sum()"
   ]
  },
  {
   "cell_type": "code",
   "execution_count": 14,
   "metadata": {},
   "outputs": [
    {
     "data": {
      "text/html": [
       "<div>\n",
       "<style scoped>\n",
       "    .dataframe tbody tr th:only-of-type {\n",
       "        vertical-align: middle;\n",
       "    }\n",
       "\n",
       "    .dataframe tbody tr th {\n",
       "        vertical-align: top;\n",
       "    }\n",
       "\n",
       "    .dataframe thead th {\n",
       "        text-align: right;\n",
       "    }\n",
       "</style>\n",
       "<table border=\"1\" class=\"dataframe\">\n",
       "  <thead>\n",
       "    <tr style=\"text-align: right;\">\n",
       "      <th></th>\n",
       "      <th>gender</th>\n",
       "      <th>age</th>\n",
       "      <th>income</th>\n",
       "      <th>family_members</th>\n",
       "      <th>insurance_benefits</th>\n",
       "    </tr>\n",
       "  </thead>\n",
       "  <tbody>\n",
       "    <tr>\n",
       "      <td>2429</td>\n",
       "      <td>1</td>\n",
       "      <td>18</td>\n",
       "      <td>39800.0</td>\n",
       "      <td>2</td>\n",
       "      <td>0</td>\n",
       "    </tr>\n",
       "    <tr>\n",
       "      <td>2512</td>\n",
       "      <td>1</td>\n",
       "      <td>19</td>\n",
       "      <td>43200.0</td>\n",
       "      <td>1</td>\n",
       "      <td>0</td>\n",
       "    </tr>\n",
       "    <tr>\n",
       "      <td>2269</td>\n",
       "      <td>1</td>\n",
       "      <td>19</td>\n",
       "      <td>43200.0</td>\n",
       "      <td>1</td>\n",
       "      <td>0</td>\n",
       "    </tr>\n",
       "    <tr>\n",
       "      <td>4129</td>\n",
       "      <td>1</td>\n",
       "      <td>19</td>\n",
       "      <td>35600.0</td>\n",
       "      <td>2</td>\n",
       "      <td>0</td>\n",
       "    </tr>\n",
       "    <tr>\n",
       "      <td>2853</td>\n",
       "      <td>0</td>\n",
       "      <td>19</td>\n",
       "      <td>51700.0</td>\n",
       "      <td>0</td>\n",
       "      <td>0</td>\n",
       "    </tr>\n",
       "    <tr>\n",
       "      <td>...</td>\n",
       "      <td>...</td>\n",
       "      <td>...</td>\n",
       "      <td>...</td>\n",
       "      <td>...</td>\n",
       "      <td>...</td>\n",
       "    </tr>\n",
       "    <tr>\n",
       "      <td>1485</td>\n",
       "      <td>1</td>\n",
       "      <td>41</td>\n",
       "      <td>32700.0</td>\n",
       "      <td>0</td>\n",
       "      <td>0</td>\n",
       "    </tr>\n",
       "    <tr>\n",
       "      <td>3365</td>\n",
       "      <td>1</td>\n",
       "      <td>41</td>\n",
       "      <td>47100.0</td>\n",
       "      <td>1</td>\n",
       "      <td>0</td>\n",
       "    </tr>\n",
       "    <tr>\n",
       "      <td>3923</td>\n",
       "      <td>1</td>\n",
       "      <td>41</td>\n",
       "      <td>48900.0</td>\n",
       "      <td>0</td>\n",
       "      <td>0</td>\n",
       "    </tr>\n",
       "    <tr>\n",
       "      <td>1091</td>\n",
       "      <td>1</td>\n",
       "      <td>41</td>\n",
       "      <td>34000.0</td>\n",
       "      <td>1</td>\n",
       "      <td>0</td>\n",
       "    </tr>\n",
       "    <tr>\n",
       "      <td>2869</td>\n",
       "      <td>0</td>\n",
       "      <td>50</td>\n",
       "      <td>24700.0</td>\n",
       "      <td>1</td>\n",
       "      <td>2</td>\n",
       "    </tr>\n",
       "  </tbody>\n",
       "</table>\n",
       "<p>153 rows × 5 columns</p>\n",
       "</div>"
      ],
      "text/plain": [
       "      gender  age   income  family_members  insurance_benefits\n",
       "2429       1   18  39800.0               2                   0\n",
       "2512       1   19  43200.0               1                   0\n",
       "2269       1   19  43200.0               1                   0\n",
       "4129       1   19  35600.0               2                   0\n",
       "2853       0   19  51700.0               0                   0\n",
       "...      ...  ...      ...             ...                 ...\n",
       "1485       1   41  32700.0               0                   0\n",
       "3365       1   41  47100.0               1                   0\n",
       "3923       1   41  48900.0               0                   0\n",
       "1091       1   41  34000.0               1                   0\n",
       "2869       0   50  24700.0               1                   2\n",
       "\n",
       "[153 rows x 5 columns]"
      ]
     },
     "execution_count": 14,
     "metadata": {},
     "output_type": "execute_result"
    }
   ],
   "source": [
    "df.loc[df.duplicated()].sort_values('age')"
   ]
  },
  {
   "cell_type": "markdown",
   "metadata": {},
   "source": [
    "There are 153 customers' inspections with the same values. Since we don't have any customer identity record, there is no issue having customers with the same features "
   ]
  },
  {
   "cell_type": "markdown",
   "metadata": {},
   "source": [
    "## EDA"
   ]
  },
  {
   "cell_type": "markdown",
   "metadata": {},
   "source": [
    "Let's quickly check whether there are certain groups of customers by looking at the pair plot."
   ]
  },
  {
   "cell_type": "code",
   "execution_count": 15,
   "metadata": {},
   "outputs": [
    {
     "data": {
      "image/png": "[encoded data removed]",
      "text/plain": [
       "<Figure size 864x864 with 30 Axes>"
      ]
     },
     "metadata": {
      "needs_background": "light"
     },
     "output_type": "display_data"
    }
   ],
   "source": [
    "g = sns.pairplot(df, kind='hist')\n",
    "g.fig.set_size_inches(12, 12)"
   ]
  },
  {
   "cell_type": "markdown",
   "metadata": {},
   "source": [
    "Ok, it is a bit difficult to spot obvious groups (clusters) as it is difficult to combine several variables simultaneously (to analyze multivariate distributions). That's where LA and ML can be quite handy."
   ]
  },
  {
   "cell_type": "markdown",
   "metadata": {},
   "source": [
    "# Task 1. Similar Customers"
   ]
  },
  {
   "cell_type": "markdown",
   "metadata": {},
   "source": [
    "In the language of ML, it is necessary to develop a procedure that returns k nearest neighbors (objects) for a given object based on the distance between the objects.\n",
    "\n",
    "You may want to review the following lessons (chapter -> lesson)\n",
    "- Distance Between Vectors -> Euclidean Distance\n",
    "- Distance Between Vectors -> Manhattan Distance\n",
    "\n",
    "To solve the task, we can try different distance metrics."
   ]
  },
  {
   "cell_type": "markdown",
   "metadata": {},
   "source": [
    "Write a function that returns k nearest neighbors for an $n^{th}$ object based on a specified distance metric. The number of received insurance benefits should not be taken into account for this task. \n",
    "\n",
    "You can use a ready implementation of the kNN algorithm from scikit-learn (check [the link](https://scikit-learn.org/stable/modules/generated/sklearn.neighbors.NearestNeighbors.html#sklearn.neighbors.NearestNeighbors)) or use your own.\n",
    "\n",
    "Test it for four combination of two cases\n",
    "- Scaling\n",
    "  - the data is not scaled\n",
    "  - the data is scaled with the [MaxAbsScaler](https://scikit-learn.org/stable/modules/generated/sklearn.preprocessing.MaxAbsScaler.html) scaler\n",
    "- Distance Metrics\n",
    "  - Euclidean\n",
    "  - Manhattan\n",
    "\n",
    "Answer these questions:\n",
    "- Does the data being not scaled affect the kNN algorithm? If so, how does that appear?\n",
    "- How similar are the results using the Manhattan distance metric (regardless of the scaling)?"
   ]
  },
  {
   "cell_type": "code",
   "execution_count": 16,
   "metadata": {},
   "outputs": [],
   "source": [
    "feature_names = ['gender', 'age', 'income', 'family_members']"
   ]
  },
  {
   "cell_type": "code",
   "execution_count": 17,
   "metadata": {},
   "outputs": [],
   "source": [
    "def get_knn(df, n, k, metric):\n",
    "    \n",
    "    \"\"\"\n",
    "    Returns k nearest neighbors\n",
    "\n",
    "    :param df: pandas DataFrame used to find similar objects within\n",
    "    :param n: object no for which the nearest neighbours are looked for\n",
    "    :param k: the number of the nearest neighbours to return\n",
    "    :param metric: name of distance metric\n",
    "    \"\"\"\n",
    "    \n",
    "    nbrs = NearestNeighbors(metric=metric) \n",
    "    nbrs.fit(df[feature_names])\n",
    "    nbrs_distances, nbrs_indices = nbrs.kneighbors([df.iloc[n][feature_names]], k, return_distance=True)\n",
    "    \n",
    "    df_res = pd.concat([\n",
    "        df.iloc[nbrs_indices[0]], \n",
    "        pd.DataFrame(nbrs_distances.T, index=nbrs_indices[0], columns=['distance'])\n",
    "        ], axis=1)\n",
    "    \n",
    "    return df_res"
   ]
  },
  {
   "cell_type": "markdown",
   "metadata": {},
   "source": [
    "**Scaling the data.**"
   ]
  },
  {
   "cell_type": "code",
   "execution_count": 18,
   "metadata": {},
   "outputs": [],
   "source": [
    "feature_names = ['gender', 'age', 'income', 'family_members']\n",
    "\n",
    "transformer_mas = sklearn.preprocessing.MaxAbsScaler().fit(df[feature_names].to_numpy())\n",
    "\n",
    "df_scaled = df.copy()\n",
    "df_scaled.loc[:, feature_names] = transformer_mas.transform(df[feature_names].to_numpy())"
   ]
  },
  {
   "cell_type": "code",
   "execution_count": 19,
   "metadata": {},
   "outputs": [
    {
     "data": {
      "text/html": [
       "<div>\n",
       "<style scoped>\n",
       "    .dataframe tbody tr th:only-of-type {\n",
       "        vertical-align: middle;\n",
       "    }\n",
       "\n",
       "    .dataframe tbody tr th {\n",
       "        vertical-align: top;\n",
       "    }\n",
       "\n",
       "    .dataframe thead th {\n",
       "        text-align: right;\n",
       "    }\n",
       "</style>\n",
       "<table border=\"1\" class=\"dataframe\">\n",
       "  <thead>\n",
       "    <tr style=\"text-align: right;\">\n",
       "      <th></th>\n",
       "      <th>gender</th>\n",
       "      <th>age</th>\n",
       "      <th>income</th>\n",
       "      <th>family_members</th>\n",
       "      <th>insurance_benefits</th>\n",
       "    </tr>\n",
       "  </thead>\n",
       "  <tbody>\n",
       "    <tr>\n",
       "      <td>3477</td>\n",
       "      <td>1.0</td>\n",
       "      <td>0.292308</td>\n",
       "      <td>0.581013</td>\n",
       "      <td>0.333333</td>\n",
       "      <td>0</td>\n",
       "    </tr>\n",
       "    <tr>\n",
       "      <td>3098</td>\n",
       "      <td>0.0</td>\n",
       "      <td>0.446154</td>\n",
       "      <td>0.469620</td>\n",
       "      <td>0.166667</td>\n",
       "      <td>0</td>\n",
       "    </tr>\n",
       "    <tr>\n",
       "      <td>2052</td>\n",
       "      <td>1.0</td>\n",
       "      <td>0.753846</td>\n",
       "      <td>0.500000</td>\n",
       "      <td>0.000000</td>\n",
       "      <td>2</td>\n",
       "    </tr>\n",
       "    <tr>\n",
       "      <td>456</td>\n",
       "      <td>1.0</td>\n",
       "      <td>0.492308</td>\n",
       "      <td>0.625316</td>\n",
       "      <td>0.166667</td>\n",
       "      <td>0</td>\n",
       "    </tr>\n",
       "    <tr>\n",
       "      <td>3721</td>\n",
       "      <td>0.0</td>\n",
       "      <td>0.569231</td>\n",
       "      <td>0.550633</td>\n",
       "      <td>0.500000</td>\n",
       "      <td>0</td>\n",
       "    </tr>\n",
       "  </tbody>\n",
       "</table>\n",
       "</div>"
      ],
      "text/plain": [
       "      gender       age    income  family_members  insurance_benefits\n",
       "3477     1.0  0.292308  0.581013        0.333333                   0\n",
       "3098     0.0  0.446154  0.469620        0.166667                   0\n",
       "2052     1.0  0.753846  0.500000        0.000000                   2\n",
       "456      1.0  0.492308  0.625316        0.166667                   0\n",
       "3721     0.0  0.569231  0.550633        0.500000                   0"
      ]
     },
     "execution_count": 19,
     "metadata": {},
     "output_type": "execute_result"
    }
   ],
   "source": [
    "df_scaled.sample(5)"
   ]
  },
  {
   "cell_type": "markdown",
   "metadata": {},
   "source": [
    "Now, let's get similar records for a given one for every combination"
   ]
  },
  {
   "cell_type": "code",
   "execution_count": 20,
   "metadata": {},
   "outputs": [],
   "source": [
    "# Defining a functions that will get similar records for given n and k in four cmbinations\n",
    "def four_combinations_knn(n,k):\n",
    "# 1. Distance Metric: Euclidean + the data is not scaled\n",
    "    print('Distance Metric: Euclidean')\n",
    "    print('1. The data is not scaled')\n",
    "    print(get_knn(df, n, k, 'euclidean'))\n",
    "    print('')\n",
    "# 2. Distance Metric: Euclidean + the data is scaled with the MaxAbsScaler scaler\n",
    "    print('2. The data is scaled')\n",
    "    print(get_knn(df_scaled, n, k, 'euclidean')) \n",
    "    print('')\n",
    "    \n",
    "# 3. Distance Metric: Manhattan + the data is not scaled\n",
    "    print('Distance Metric: Manhattan')\n",
    "    print('1. The data is not scaled')\n",
    "    print(get_knn(df, n, k, 'manhattan')) \n",
    "    print('')\n",
    "# 4. Distance Metric: Manhattan + the data is scaled with the MaxAbsScaler scaler\n",
    "    print('2. The data is scaled')\n",
    "    print(get_knn(df_scaled, n, k, 'manhattan')) \n"
   ]
  },
  {
   "cell_type": "code",
   "execution_count": 21,
   "metadata": {},
   "outputs": [
    {
     "name": "stdout",
     "output_type": "stream",
     "text": [
      "Distance Metric: Euclidean\n",
      "1. The data is not scaled\n",
      "      gender  age   income  family_members  insurance_benefits  distance\n",
      "22         0   41  26600.0               0                   0  0.000000\n",
      "2181       0   40  26600.0               2                   0  2.236068\n",
      "1776       1   37  26600.0               1                   0  4.242641\n",
      "1063       0   46  26600.0               1                   1  5.099020\n",
      "1267       1   33  26600.0               2                   0  8.306624\n",
      "\n",
      "2. The data is scaled\n",
      "      gender       age    income  family_members  insurance_benefits  distance\n",
      "22       0.0  0.630769  0.336709             0.0                   0  0.000000\n",
      "2873     0.0  0.630769  0.326582             0.0                   0  0.010127\n",
      "435      0.0  0.646154  0.354430             0.0                   1  0.023468\n",
      "894      0.0  0.615385  0.355696             0.0                   0  0.024438\n",
      "2148     0.0  0.630769  0.310127             0.0                   0  0.026582\n",
      "\n",
      "Distance Metric: Manhattan\n",
      "1. The data is not scaled\n",
      "      gender  age   income  family_members  insurance_benefits  distance\n",
      "22         0   41  26600.0               0                   0       0.0\n",
      "2181       0   40  26600.0               2                   0       3.0\n",
      "1063       0   46  26600.0               1                   1       6.0\n",
      "1776       1   37  26600.0               1                   0       6.0\n",
      "1267       1   33  26600.0               2                   0      11.0\n",
      "\n",
      "2. The data is scaled\n",
      "      gender       age    income  family_members  insurance_benefits  distance\n",
      "22       0.0  0.630769  0.336709             0.0                   0  0.000000\n",
      "2873     0.0  0.630769  0.326582             0.0                   0  0.010127\n",
      "2148     0.0  0.630769  0.310127             0.0                   0  0.026582\n",
      "435      0.0  0.646154  0.354430             0.0                   1  0.033106\n",
      "894      0.0  0.615385  0.355696             0.0                   0  0.034372\n"
     ]
    }
   ],
   "source": [
    "# Testing n=22, k=5\n",
    "n=22\n",
    "k=5\n",
    "four_combinations_knn(n,k)"
   ]
  },
  {
   "cell_type": "code",
   "execution_count": 22,
   "metadata": {},
   "outputs": [
    {
     "name": "stdout",
     "output_type": "stream",
     "text": [
      "Distance Metric: Euclidean\n",
      "1. The data is not scaled\n",
      "      gender  age   income  family_members  insurance_benefits  distance\n",
      "2920       0   35  56400.0               3                   0  0.000000\n",
      "4119       0   35  56400.0               1                   0  2.000000\n",
      "3327       1   39  56400.0               2                   0  4.242641\n",
      "\n",
      "2. The data is scaled\n",
      "      gender       age    income  family_members  insurance_benefits  distance\n",
      "2920     0.0  0.538462  0.713924             0.5                   0  0.000000\n",
      "915      0.0  0.553846  0.732911             0.5                   0  0.024438\n",
      "4166     0.0  0.523077  0.688608             0.5                   0  0.029624\n",
      "\n",
      "Distance Metric: Manhattan\n",
      "1. The data is not scaled\n",
      "      gender  age   income  family_members  insurance_benefits  distance\n",
      "2920       0   35  56400.0               3                   0       0.0\n",
      "4119       0   35  56400.0               1                   0       2.0\n",
      "3327       1   39  56400.0               2                   0       6.0\n",
      "\n",
      "2. The data is scaled\n",
      "      gender       age    income  family_members  insurance_benefits  distance\n",
      "2920     0.0  0.538462  0.713924             0.5                   0  0.000000\n",
      "915      0.0  0.553846  0.732911             0.5                   0  0.034372\n",
      "4166     0.0  0.523077  0.688608             0.5                   0  0.040701\n"
     ]
    }
   ],
   "source": [
    "# Testing n=2920, k=3\n",
    "n=2920\n",
    "k=3\n",
    "four_combinations_knn(n,3)"
   ]
  },
  {
   "cell_type": "markdown",
   "metadata": {},
   "source": [
    "Answers to the questions"
   ]
  },
  {
   "cell_type": "markdown",
   "metadata": {},
   "source": [
    "**Does the data being not scaled affect the kNN algorithm? If so, how does that appear?** \n",
    "\n",
    "Yes, the results obtained by the scaled data are different from those obtained by the not scaled data.\n",
    "\n",
    "When the data is not scaled the kNN algorithm, which gives same weight to all features, is heavily influenced by the big numbers features, like income in our case. when calculating distances between points the income have the highest weight. \n",
    "\n",
    "It appears by the fact that all the kneighbors found have the same income, but not the same gender, age or family members. meaning that the algorithm prefered the income feature when looking for the closest inspections."
   ]
  },
  {
   "cell_type": "markdown",
   "metadata": {},
   "source": [
    "**How similar are the results using the Manhattan distance metric (regardless of the scaling)?** \n",
    "\n",
    "The results provided using the Manhatten distance metric are the same as those provided using the Euclidean distance metric, regardless of the scaling.\n",
    "Both metrics returned the same indices, although the order is sometimes different, when the results are very close, because of the different methods. "
   ]
  },
  {
   "cell_type": "markdown",
   "metadata": {},
   "source": [
    "# Task 2. Is Customer Likely to Receive Insurance Benefit?"
   ]
  },
  {
   "cell_type": "markdown",
   "metadata": {},
   "source": [
    "In terms of machine learning we can look at this like a binary classification task."
   ]
  },
  {
   "cell_type": "markdown",
   "metadata": {},
   "source": [
    "With `insurance_benefits` being more than zero as the target, evaluate whether the kNN classification approach can do better than a dummy model.\n",
    "\n",
    "Instructions:\n",
    "- Build a KNN-based classifier and measure its quality with the F1 metric for k=1..10 for both the original data and the scaled one. That'd be interesting to see how k may influece the evaluation metric, and whether scaling the data makes any difference. You can use a ready implemention of the kNN classification algorithm from scikit-learn (check [the link](https://scikit-learn.org/stable/modules/generated/sklearn.neighbors.KNeighborsClassifier.html)) or use your own.\n",
    "- Build the dummy model which is just random for this case. It should return \"1\" with some probability. Let's test the model with four probability values: 0, the probability of paying any insurance benefit, 0.5, 1.\n",
    "\n",
    "The probability of paying any insurance benefit can be defined as\n",
    "\n",
    "$$\n",
    "P\\{\\text{insurance benefit received}\\}=\\frac{\\text{number of clients received any insurance benefit}}{\\text{total number of clients}}.\n",
    "$$\n",
    "\n",
    "Split the whole data in the 70:30 proportion for the training/testing parts."
   ]
  },
  {
   "cell_type": "code",
   "execution_count": 23,
   "metadata": {},
   "outputs": [],
   "source": [
    "# calculate the target\n",
    "# Converting the target to binary value by replacing all values higher then 0 to 1\n",
    "\n",
    "df['insurance_benefits_received'] = df['insurance_benefits']\n",
    "df.loc[df['insurance_benefits'] > 0 , ['insurance_benefits_received']] = 1"
   ]
  },
  {
   "cell_type": "code",
   "execution_count": 24,
   "metadata": {},
   "outputs": [
    {
     "data": {
      "text/plain": [
       "0    0.8872\n",
       "1    0.1128\n",
       "Name: insurance_benefits_received, dtype: float64"
      ]
     },
     "execution_count": 24,
     "metadata": {},
     "output_type": "execute_result"
    }
   ],
   "source": [
    "# check for the class imbalance with value_counts()\n",
    "\n",
    "df['insurance_benefits_received'].value_counts()/df['insurance_benefits_received'].count()"
   ]
  },
  {
   "cell_type": "code",
   "execution_count": 25,
   "metadata": {},
   "outputs": [
    {
     "data": {
      "text/plain": [
       "0.1128"
      ]
     },
     "execution_count": 25,
     "metadata": {},
     "output_type": "execute_result"
    }
   ],
   "source": [
    "# Calculating the probability of paying any insurance benefit \n",
    "df['insurance_benefits_received'].sum() / len(df)"
   ]
  },
  {
   "cell_type": "code",
   "execution_count": 26,
   "metadata": {},
   "outputs": [],
   "source": [
    "def eval_classifier(y_true, y_pred):\n",
    "    \n",
    "    f1_score = sklearn.metrics.f1_score(y_true, y_pred)\n",
    "    print(f'F1: {f1_score:.2f}')\n",
    "    \n",
    "# if you have an issue with the following line, restart the kernel and run the notebook again\n",
    "    cm = sklearn.metrics.confusion_matrix(y_true, y_pred, normalize='all')\n",
    "    print('Confusion Matrix')\n",
    "    print(cm)"
   ]
  },
  {
   "cell_type": "code",
   "execution_count": 27,
   "metadata": {},
   "outputs": [],
   "source": [
    "# generating output of a random model\n",
    "\n",
    "def rnd_model_predict(P, size, seed=42):\n",
    "\n",
    "    rng = np.random.default_rng(seed=seed)\n",
    "    return rng.binomial(n=1, p=P, size=size)"
   ]
  },
  {
   "cell_type": "code",
   "execution_count": 28,
   "metadata": {},
   "outputs": [
    {
     "name": "stdout",
     "output_type": "stream",
     "text": [
      "The probability: 0.00\n",
      "F1: 0.00\n",
      "Confusion Matrix\n",
      "[[0.8872 0.    ]\n",
      " [0.1128 0.    ]]\n",
      "\n",
      "The probability: 0.11\n",
      "F1: 0.12\n",
      "Confusion Matrix\n",
      "[[0.7914 0.0958]\n",
      " [0.0994 0.0134]]\n",
      "\n",
      "The probability: 0.50\n",
      "F1: 0.20\n",
      "Confusion Matrix\n",
      "[[0.456  0.4312]\n",
      " [0.053  0.0598]]\n",
      "\n",
      "The probability: 1.00\n",
      "F1: 0.20\n",
      "Confusion Matrix\n",
      "[[0.     0.8872]\n",
      " [0.     0.1128]]\n",
      "\n"
     ]
    }
   ],
   "source": [
    "for P in [0, df['insurance_benefits_received'].sum() / len(df), 0.5, 1]:\n",
    "\n",
    "    print(f'The probability: {P:.2f}')\n",
    "    y_pred_rnd = rnd_model_predict(P, len(df), seed=42)\n",
    "        \n",
    "    eval_classifier(df['insurance_benefits_received'], y_pred_rnd)\n",
    "    \n",
    "    print()"
   ]
  },
  {
   "cell_type": "code",
   "execution_count": 29,
   "metadata": {},
   "outputs": [],
   "source": [
    "def customer_benefit_pred(features, target):\n",
    "    # Split the data into train and test sets\n",
    "    features_train, features_test, target_train, target_test = train_test_split(features, target, test_size=0.3, random_state=12345)\n",
    "\n",
    "    for k in range (1,11):\n",
    "        print(f'K: {k}')\n",
    "        knn_model = sklearn.neighbors.KNeighborsClassifier(n_neighbors=k)\n",
    "        # Model train\n",
    "        knn_model.fit(features_train, target_train)\n",
    "        # Preict targets from test set\n",
    "        y_pred = knn_model.predict(features_test)\n",
    "        # Calculating F1\n",
    "        F1_score = eval_classifier(target_test, y_pred)\n",
    "    return F1_score"
   ]
  },
  {
   "cell_type": "code",
   "execution_count": 30,
   "metadata": {},
   "outputs": [
    {
     "name": "stdout",
     "output_type": "stream",
     "text": [
      "K: 1\n",
      "F1: 0.62\n",
      "Confusion Matrix\n",
      "[[0.87133333 0.02      ]\n",
      " [0.05133333 0.05733333]]\n",
      "K: 2\n",
      "F1: 0.41\n",
      "Confusion Matrix\n",
      "[[0.88733333 0.004     ]\n",
      " [0.08       0.02866667]]\n",
      "K: 3\n",
      "F1: 0.41\n",
      "Confusion Matrix\n",
      "[[0.88       0.01133333]\n",
      " [0.07733333 0.03133333]]\n",
      "K: 4\n",
      "F1: 0.28\n",
      "Confusion Matrix\n",
      "[[0.88866667 0.00266667]\n",
      " [0.09066667 0.018     ]]\n",
      "K: 5\n",
      "F1: 0.27\n",
      "Confusion Matrix\n",
      "[[0.88533333 0.006     ]\n",
      " [0.09066667 0.018     ]]\n",
      "K: 6\n",
      "F1: 0.11\n",
      "Confusion Matrix\n",
      "[[0.89       0.00133333]\n",
      " [0.102      0.00666667]]\n",
      "K: 7\n",
      "F1: 0.11\n",
      "Confusion Matrix\n",
      "[[0.88866667 0.00266667]\n",
      " [0.102      0.00666667]]\n",
      "K: 8\n",
      "F1: 0.07\n",
      "Confusion Matrix\n",
      "[[0.89133333 0.        ]\n",
      " [0.10466667 0.004     ]]\n",
      "K: 9\n",
      "F1: 0.08\n",
      "Confusion Matrix\n",
      "[[0.89133333 0.        ]\n",
      " [0.104      0.00466667]]\n",
      "K: 10\n",
      "F1: 0.00\n",
      "Confusion Matrix\n",
      "[[0.89133333 0.        ]\n",
      " [0.10866667 0.        ]]\n"
     ]
    }
   ],
   "source": [
    "# Measure model quality with original data:\n",
    "features = df.drop(['insurance_benefits','insurance_benefits_received'], axis=1)\n",
    "target = df['insurance_benefits_received']\n",
    "\n",
    "customer_benefit_pred(features, target)"
   ]
  },
  {
   "cell_type": "code",
   "execution_count": 31,
   "metadata": {},
   "outputs": [
    {
     "name": "stdout",
     "output_type": "stream",
     "text": [
      "K: 1\n",
      "F1: 0.97\n",
      "Confusion Matrix\n",
      "[[0.88866667 0.00266667]\n",
      " [0.00466667 0.104     ]]\n",
      "K: 2\n",
      "F1: 0.93\n",
      "Confusion Matrix\n",
      "[[8.90666667e-01 6.66666667e-04]\n",
      " [1.40000000e-02 9.46666667e-02]]\n",
      "K: 3\n",
      "F1: 0.95\n",
      "Confusion Matrix\n",
      "[[0.88933333 0.002     ]\n",
      " [0.00866667 0.1       ]]\n",
      "K: 4\n",
      "F1: 0.91\n",
      "Confusion Matrix\n",
      "[[0.88933333 0.002     ]\n",
      " [0.01666667 0.092     ]]\n",
      "K: 5\n",
      "F1: 0.92\n",
      "Confusion Matrix\n",
      "[[0.88666667 0.00466667]\n",
      " [0.01133333 0.09733333]]\n",
      "K: 6\n",
      "F1: 0.90\n",
      "Confusion Matrix\n",
      "[[0.89       0.00133333]\n",
      " [0.018      0.09066667]]\n",
      "K: 7\n",
      "F1: 0.92\n",
      "Confusion Matrix\n",
      "[[0.88733333 0.004     ]\n",
      " [0.01266667 0.096     ]]\n",
      "K: 8\n",
      "F1: 0.90\n",
      "Confusion Matrix\n",
      "[[0.88866667 0.00266667]\n",
      " [0.01733333 0.09133333]]\n",
      "K: 9\n",
      "F1: 0.92\n",
      "Confusion Matrix\n",
      "[[0.88866667 0.00266667]\n",
      " [0.01466667 0.094     ]]\n",
      "K: 10\n",
      "F1: 0.88\n",
      "Confusion Matrix\n",
      "[[0.88866667 0.00266667]\n",
      " [0.02133333 0.08733333]]\n"
     ]
    }
   ],
   "source": [
    "# Measure model quality with scaled data:\n",
    "\n",
    "# calculate the target\n",
    "# Converting the target to binary value by replacing all values higher then 0 to 1\n",
    "df_scaled['insurance_benefits_received'] = df_scaled['insurance_benefits']\n",
    "df_scaled.loc[df_scaled['insurance_benefits'] > 0 , ['insurance_benefits_received']] = 1\n",
    "\n",
    "features = df_scaled.drop(['insurance_benefits','insurance_benefits_received'], axis=1)\n",
    "target = df_scaled['insurance_benefits_received']\n",
    "\n",
    "customer_benefit_pred(features, target)"
   ]
  },
  {
   "cell_type": "markdown",
   "metadata": {},
   "source": [
    "**Conclusions**:\n",
    "\n",
    "**\"The F1 score can be interpreted as a harmonic mean of the precision and recall\"*\n",
    "- The dummy model's best F1 score was 0.2, in P value of 0.50 and higher.\n",
    "- Our KNN-based classifier F1 score is much better then the dummy model.\n",
    "- We can see that as k parameter is growing, F1 score decrease (from 0.62 for k=1 to 0, for k=10 in the original data testing). We see that the true positive rate is quite stable, but the true negative is decreasing\n",
    "- With the scaled data, the resultsed F1 score is much better then for the original data. from 0.97 for k=1 to 0.88 for k=10. We can see also in this case, that the true positive rate stayed the same, but true negative rate decreased and false positive also decreased. We can understand that as k parameters is higher, more positive predictions are given (not necessarily true ones)\n",
    "\n",
    "**The conclusion in this case may be that higher k is not necessarily good. it may lead to predicting according to non relevant and miss-leading neighbors**"
   ]
  },
  {
   "cell_type": "markdown",
   "metadata": {},
   "source": [
    "# Task 3. Regression (with Linear Regression)"
   ]
  },
  {
   "cell_type": "markdown",
   "metadata": {},
   "source": [
    "With `insurance_benefits` as the target, evaluate what RMSE would be for a Linear Regression model."
   ]
  },
  {
   "cell_type": "markdown",
   "metadata": {},
   "source": [
    "Build your own implementation of LR. For that, recall how the linear regression task's solution is formulated in terms of LA. Check RMSE for both the original data and the scaled one. Can you see any difference in RMSE between these two cases?\n",
    "\n",
    "Let's denote\n",
    "- $X$ — feature matrix, each row is a case, each column is a feature, the first column consists of unities\n",
    "- $y$ — target (a vector)\n",
    "- $\\hat{y}$ — estimated tagret (a vector)\n",
    "- $w$ — weight vector\n",
    "\n",
    "The task of linear regression in the language of matrices can be formulated as\n",
    "\n",
    "$$\n",
    "y = Xw\n",
    "$$\n",
    "\n",
    "The training objective then is to find such $w$ that it would minimize the L2-distance (MSE) between $Xw$ and $y$:\n",
    "\n",
    "$$\n",
    "\\min_w d_2(Xw, y) \\quad \\text{or} \\quad \\min_w \\text{MSE}(Xw, y)\n",
    "$$\n",
    "\n",
    "It appears that there is analytical solution for the above:\n",
    "\n",
    "$$\n",
    "w = (X^T X)^{-1} X^T y\n",
    "$$\n",
    "\n",
    "The formula above can be used to find the weights $w$ and the latter can be used to calculate predicted values\n",
    "\n",
    "$$\n",
    "\\hat{y} = X_{val}w\n",
    "$$"
   ]
  },
  {
   "cell_type": "markdown",
   "metadata": {},
   "source": [
    "Split the whole data in the 70:30 proportion for the training/validation parts. Use the RMSE metric for the model evaluation."
   ]
  },
  {
   "cell_type": "code",
   "execution_count": 32,
   "metadata": {},
   "outputs": [],
   "source": [
    "class MyLinearRegression:\n",
    "    \n",
    "    def __init__(self):\n",
    "        \n",
    "        self.weights = None\n",
    "    \n",
    "    def fit(self, X, y):\n",
    "        \n",
    "        # adding the unities\n",
    "        X2 = np.append(np.ones([len(X), 1]), X, axis=1)\n",
    "        \n",
    "        self.weights = np.linalg.inv(X2.T.dot(X2)).dot(X2.T).dot(y)\n",
    "        \n",
    "        self.w0 = self.weights[0]\n",
    "        self.weights = self.weights[1:]\n",
    "\n",
    "    def predict(self, X):\n",
    "        \n",
    "        # adding the unities\n",
    "        X2 = X\n",
    "        y_pred = X2.dot(self.weights) + self.w0\n",
    "        \n",
    "        return y_pred"
   ]
  },
  {
   "cell_type": "code",
   "execution_count": 33,
   "metadata": {},
   "outputs": [],
   "source": [
    "def eval_regressor(y_true, y_pred):\n",
    "    \n",
    "    rmse = math.sqrt(sklearn.metrics.mean_squared_error(y_true, y_pred))\n",
    "    print(f'RMSE: {rmse:.2f}')\n",
    "    \n",
    "    r2_score = math.sqrt(sklearn.metrics.r2_score(y_true, y_pred))\n",
    "    print(f'R2: {r2_score:.2f}')    "
   ]
  },
  {
   "cell_type": "code",
   "execution_count": 34,
   "metadata": {},
   "outputs": [
    {
     "name": "stdout",
     "output_type": "stream",
     "text": [
      "[ 3.57495491e-02  1.64272726e-02 -2.60743659e-07 -1.16902127e-02]\n",
      "RMSE: 0.34\n",
      "R2: 0.66\n"
     ]
    }
   ],
   "source": [
    "# Train and test the model with original data\n",
    "\n",
    "X = df[['age', 'gender', 'income', 'family_members']].to_numpy()\n",
    "y = df['insurance_benefits'].to_numpy()\n",
    "\n",
    "X_train, X_test, y_train, y_test = train_test_split(X, y, test_size=0.3, random_state=12345)\n",
    "\n",
    "lr = MyLinearRegression()\n",
    "\n",
    "lr.fit(X_train, y_train)\n",
    "print(lr.weights)\n",
    "\n",
    "y_test_pred = lr.predict(X_test)\n",
    "eval_regressor(y_test, y_test_pred)"
   ]
  },
  {
   "cell_type": "code",
   "execution_count": 35,
   "metadata": {},
   "outputs": [
    {
     "name": "stdout",
     "output_type": "stream",
     "text": [
      "[ 2.32372069  0.01642727 -0.02059875 -0.07014128]\n",
      "RMSE: 0.34\n",
      "R2: 0.66\n"
     ]
    }
   ],
   "source": [
    "# Train and test the model with scaled data\n",
    "\n",
    "X = df_scaled[['age', 'gender', 'income', 'family_members']].to_numpy()\n",
    "y = df_scaled['insurance_benefits'].to_numpy()\n",
    "\n",
    "X_train, X_test, y_train, y_test = train_test_split(X, y, test_size=0.3, random_state=12345)\n",
    "\n",
    "lr = MyLinearRegression()\n",
    "\n",
    "lr.fit(X_train, y_train)\n",
    "print(lr.weights)\n",
    "\n",
    "y_test_pred = lr.predict(X_test)\n",
    "eval_regressor(y_test, y_test_pred)"
   ]
  },
  {
   "cell_type": "markdown",
   "metadata": {},
   "source": [
    "**Conclusions**\n",
    "\n",
    "There is no difference in RMSE (or R2) between the original and scaled data"
   ]
  },
  {
   "cell_type": "markdown",
   "metadata": {},
   "source": [
    "# Task 4. Obfuscating Data"
   ]
  },
  {
   "cell_type": "markdown",
   "metadata": {},
   "source": [
    "It best to obfuscate data by multiplying the numerical features (remember, they can be seen as the matrix $X$) by an invertible matrix $P$. \n",
    "\n",
    "$$\n",
    "X' = X \\times P\n",
    "$$\n",
    "\n",
    "Try to do that and check how the features' values will look like after the transformation. By the way, the intertible property is important here so make sure that $P$ is indeed invertible.\n",
    "\n",
    "You may want to review the 'Matrices and Matrix Operations -> Matrix Multiplication' lesson to recall the rule of matrix multiplication and its implementation with NumPy."
   ]
  },
  {
   "cell_type": "code",
   "execution_count": 36,
   "metadata": {},
   "outputs": [],
   "source": [
    "personal_info_column_list = ['gender', 'age', 'income', 'family_members']\n",
    "df_pn = df[personal_info_column_list]"
   ]
  },
  {
   "cell_type": "code",
   "execution_count": 37,
   "metadata": {},
   "outputs": [],
   "source": [
    "X = df_pn.to_numpy()"
   ]
  },
  {
   "cell_type": "code",
   "execution_count": 38,
   "metadata": {},
   "outputs": [
    {
     "data": {
      "text/html": [
       "<div>\n",
       "<style scoped>\n",
       "    .dataframe tbody tr th:only-of-type {\n",
       "        vertical-align: middle;\n",
       "    }\n",
       "\n",
       "    .dataframe tbody tr th {\n",
       "        vertical-align: top;\n",
       "    }\n",
       "\n",
       "    .dataframe thead th {\n",
       "        text-align: right;\n",
       "    }\n",
       "</style>\n",
       "<table border=\"1\" class=\"dataframe\">\n",
       "  <thead>\n",
       "    <tr style=\"text-align: right;\">\n",
       "      <th></th>\n",
       "      <th>gender</th>\n",
       "      <th>age</th>\n",
       "      <th>income</th>\n",
       "      <th>family_members</th>\n",
       "    </tr>\n",
       "  </thead>\n",
       "  <tbody>\n",
       "    <tr>\n",
       "      <td>0</td>\n",
       "      <td>1</td>\n",
       "      <td>41</td>\n",
       "      <td>49600.0</td>\n",
       "      <td>1</td>\n",
       "    </tr>\n",
       "    <tr>\n",
       "      <td>1</td>\n",
       "      <td>0</td>\n",
       "      <td>46</td>\n",
       "      <td>38000.0</td>\n",
       "      <td>1</td>\n",
       "    </tr>\n",
       "    <tr>\n",
       "      <td>2</td>\n",
       "      <td>0</td>\n",
       "      <td>29</td>\n",
       "      <td>21000.0</td>\n",
       "      <td>0</td>\n",
       "    </tr>\n",
       "    <tr>\n",
       "      <td>3</td>\n",
       "      <td>0</td>\n",
       "      <td>21</td>\n",
       "      <td>41700.0</td>\n",
       "      <td>2</td>\n",
       "    </tr>\n",
       "    <tr>\n",
       "      <td>4</td>\n",
       "      <td>1</td>\n",
       "      <td>28</td>\n",
       "      <td>26100.0</td>\n",
       "      <td>0</td>\n",
       "    </tr>\n",
       "  </tbody>\n",
       "</table>\n",
       "</div>"
      ],
      "text/plain": [
       "   gender  age   income  family_members\n",
       "0       1   41  49600.0               1\n",
       "1       0   46  38000.0               1\n",
       "2       0   29  21000.0               0\n",
       "3       0   21  41700.0               2\n",
       "4       1   28  26100.0               0"
      ]
     },
     "execution_count": 38,
     "metadata": {},
     "output_type": "execute_result"
    }
   ],
   "source": [
    "df_pn.head()"
   ]
  },
  {
   "cell_type": "markdown",
   "metadata": {},
   "source": [
    "Generating a random matrix $P$."
   ]
  },
  {
   "cell_type": "code",
   "execution_count": 39,
   "metadata": {},
   "outputs": [],
   "source": [
    "rng = np.random.default_rng(seed=42)\n",
    "P = rng.random(size=(X.shape[1], X.shape[1]))"
   ]
  },
  {
   "cell_type": "markdown",
   "metadata": {},
   "source": [
    "Checking the matrix $P$ is invertible"
   ]
  },
  {
   "cell_type": "code",
   "execution_count": 40,
   "metadata": {},
   "outputs": [
    {
     "data": {
      "text/plain": [
       "array([[ 0.41467992, -1.43783972,  0.62798546,  1.14001268],\n",
       "       [-1.06101789,  0.44219337,  0.1329549 ,  1.18425933],\n",
       "       [ 1.42362442,  1.60461607, -2.0553823 , -1.53699695],\n",
       "       [-0.11128575, -0.65813802,  1.74995517, -0.11816316]])"
      ]
     },
     "execution_count": 40,
     "metadata": {},
     "output_type": "execute_result"
    }
   ],
   "source": [
    "np.linalg.inv(P)"
   ]
  },
  {
   "cell_type": "markdown",
   "metadata": {},
   "source": [
    "Yes, it is invertible"
   ]
  },
  {
   "cell_type": "code",
   "execution_count": 41,
   "metadata": {},
   "outputs": [],
   "source": [
    "# Obfuscating personal info\n",
    "obs_df = X.dot(P)"
   ]
  },
  {
   "cell_type": "markdown",
   "metadata": {},
   "source": [
    "Can you guess the customers' ages or income after the transformation?"
   ]
  },
  {
   "cell_type": "code",
   "execution_count": 42,
   "metadata": {},
   "outputs": [
    {
     "data": {
      "text/plain": [
       "array([[22380.40467609],\n",
       "       [17160.36702982],\n",
       "       [ 9486.397744  ],\n",
       "       [18803.22720286],\n",
       "       [11782.82928336],\n",
       "       [18509.8596165 ],\n",
       "       [17920.45540783],\n",
       "       [17413.01768645],\n",
       "       [22420.56515812],\n",
       "       [23317.43454451]])"
      ]
     },
     "execution_count": 42,
     "metadata": {},
     "output_type": "execute_result"
    }
   ],
   "source": [
    "# Age\n",
    "obs_df[0:10,[1]]"
   ]
  },
  {
   "cell_type": "code",
   "execution_count": 43,
   "metadata": {},
   "outputs": [
    {
     "data": {
      "text/plain": [
       "array([[18424.09074184],\n",
       "       [14125.78076133],\n",
       "       [ 7808.83156024],\n",
       "       [15479.14837264],\n",
       "       [ 9699.99894205],\n",
       "       [15237.19342704],\n",
       "       [14752.11143673],\n",
       "       [14334.46448264],\n",
       "       [18457.36484575],\n",
       "       [19195.91633541]])"
      ]
     },
     "execution_count": 43,
     "metadata": {},
     "output_type": "execute_result"
    }
   ],
   "source": [
    "# Income\n",
    "obs_df[0:10,[2]]"
   ]
  },
  {
   "cell_type": "markdown",
   "metadata": {},
   "source": [
    "No, its impossible to guess the values of age or income out of the transformed data"
   ]
  },
  {
   "cell_type": "markdown",
   "metadata": {},
   "source": [
    "Can you recover the original data from $X'$ if you know $P$? Try to check that with calculations by moving $P$ from the right side of the formula above to the left one. The rules of matrix multiplcation are really helpful here."
   ]
  },
  {
   "cell_type": "code",
   "execution_count": 44,
   "metadata": {},
   "outputs": [
    {
     "name": "stdout",
     "output_type": "stream",
     "text": [
      "[[    1.    41. 49600.     1.]\n",
      " [    0.    46. 38000.     1.]\n",
      " [   -0.    29. 21000.    -0.]\n",
      " [   -0.    21. 41700.     2.]\n",
      " [    1.    28. 26100.    -0.]\n",
      " [    1.    43. 41000.     2.]\n",
      " [    1.    39. 39700.     2.]\n",
      " [    1.    25. 38600.     4.]\n",
      " [    1.    36. 49700.     1.]\n",
      " [    1.    32. 51700.     1.]]\n"
     ]
    }
   ],
   "source": [
    "# Explaining the steps:\n",
    "# obs_df = X.dot(P)\n",
    "# obs_df.dot(np.linalg.inv(P)) = (X.dot(P)).dot(np.linalg.inv(P))\n",
    "# we can remove  P(P)−1  of the equation\n",
    "# obs_df.dot(np.linalg.inv(P)) = X\n",
    "# X = obs_df.dot(np.linalg.inv(P))\n",
    "\n",
    "X_recovered = obs_df.dot(np.linalg.inv(P))\n",
    "with np.printoptions(suppress=True): \n",
    "    print(X_recovered[0:10])"
   ]
  },
  {
   "cell_type": "markdown",
   "metadata": {},
   "source": [
    "Print all three cases for a few customers\n",
    "- The original data\n",
    "- The transformed one\n",
    "- The reversed (recovered) one"
   ]
  },
  {
   "cell_type": "code",
   "execution_count": 45,
   "metadata": {},
   "outputs": [
    {
     "name": "stdout",
     "output_type": "stream",
     "text": [
      "[    1.    43. 41000.     2.]\n",
      "[    0.    19. 37300.     1.]\n",
      "[    1.    41. 42600.     1.]\n",
      "[    1.    25. 35600.     2.]\n"
     ]
    }
   ],
   "source": [
    "# Original data\n",
    "\n",
    "for i in[5,100,1000,1500]:\n",
    "    with np.printoptions(suppress=True): \n",
    "        print(X[i])"
   ]
  },
  {
   "cell_type": "code",
   "execution_count": 46,
   "metadata": {},
   "outputs": [
    {
     "name": "stdout",
     "output_type": "stream",
     "text": [
      "[ 5258.77025195 18509.8596165  15237.19342704 38032.31715339]\n",
      "[ 4781.07173353 16818.7550698  13845.67137241 34583.49654457]\n",
      "[ 5462.91984441 19227.70311082 15828.50457221 39513.34176822]\n",
      "[ 4565.26144324 16060.21434954 13221.18358155 33013.63705611]\n"
     ]
    }
   ],
   "source": [
    "# Transformed data\n",
    "\n",
    "for i in[5,100,1000,1500]:\n",
    "    print(obs_df[i])"
   ]
  },
  {
   "cell_type": "code",
   "execution_count": 47,
   "metadata": {},
   "outputs": [
    {
     "name": "stdout",
     "output_type": "stream",
     "text": [
      "[    1.    43. 41000.     2.]\n",
      "[    0.    19. 37300.     1.]\n",
      "[    1.    41. 42600.     1.]\n",
      "[    1.    25. 35600.     2.]\n"
     ]
    }
   ],
   "source": [
    "# Recovered data\n",
    "\n",
    "for i in[5,100,1000,1500]:\n",
    "    with np.printoptions(suppress=True): \n",
    "        print(X_recovered[i,:])"
   ]
  },
  {
   "cell_type": "markdown",
   "metadata": {},
   "source": [
    "You can probably see that some values are not exactly the same as they are in the original data. What might be the reason for that?"
   ]
  },
  {
   "cell_type": "markdown",
   "metadata": {},
   "source": [
    "Answer:\n",
    "\n",
    "I saw that there are some difference between the original and the recovered values. The reason is that some decimals were lost\n",
    "in the way of multiplication and divisionץ\n",
    "I had to use the printoptions(suppress=True) since the notebook started to represent all the values in scientific mode."
   ]
  },
  {
   "cell_type": "markdown",
   "metadata": {},
   "source": [
    "## Proof That Data Obfuscation Can Work with LR"
   ]
  },
  {
   "cell_type": "markdown",
   "metadata": {},
   "source": [
    "The regression task has been solved with linear regression in this project. Your next task is to prove _analytically_ that the given obfuscation method won't affect linear regression in terms of predicted values i.e. their values will remain the same. Can you believe that? Well, you don't have to, you should prove it!"
   ]
  },
  {
   "cell_type": "markdown",
   "metadata": {},
   "source": [
    "So, the data is obfuscated and there is $X \\times P$ instead of just $X$ now. Consequently, there are other weights $w_P$ as\n",
    "$$\n",
    "w = (X^T X)^{-1} X^T y \\quad \\Rightarrow \\quad w_P = [(XP)^T XP]^{-1} (XP)^T y\n",
    "$$\n",
    "\n",
    "How would $w$ and $w_P$ be linked if you simplify the formula for $w_P$ above? \n",
    "\n",
    "What would be predicted values with $w_P$? \n",
    "\n",
    "What does that mean for the quality of linear regression if you measure it with RMSE?\n",
    "\n",
    "Check Appendix B Properties of Matrices in the end of the notebook. There are useful formulas in there!\n",
    "\n",
    "No code is necessary in this section, only analytical explanation!"
   ]
  },
  {
   "cell_type": "markdown",
   "metadata": {},
   "source": [
    "**Answer**"
   ]
  },
  {
   "cell_type": "markdown",
   "metadata": {},
   "source": [
    "$w_P$ is $w$ multiplied by the inversion matrix of $P$ matrix\n",
    "\n",
    "The predicted values will be the same with $w_P$\n",
    "\n",
    "The quality of linear regression measured with RMSE will have the same values."
   ]
  },
  {
   "cell_type": "markdown",
   "metadata": {},
   "source": [
    "**Analytical proof**"
   ]
  },
  {
   "cell_type": "markdown",
   "metadata": {},
   "source": [
    "Data is obfuscated and there is $X \\times P$ instead of just $X$ now\n",
    "\n",
    "$w_P = [(XP)^T XP]^{-1} (XP)^T y$"
   ]
  },
  {
   "cell_type": "markdown",
   "metadata": {},
   "source": [
    "Applying Matrix Property \"Reversivity of the transpose of a product of matrices\": $(AB)^T = B^TA^T$\n",
    "\n",
    "\n",
    "$w_P = [(P^TX^T)XP]^{-1}(P^TX^T)y$"
   ]
  },
  {
   "cell_type": "markdown",
   "metadata": {},
   "source": [
    "Applying Matrix Property \"Multiplicative identity property\": $(AB)^{-1} = B^{-1}A^{-1}$\n",
    "\n",
    "\n",
    "$w_P = (XP)^{-1}(P^TX^T)^{-1}(P^TX^T)y$"
   ]
  },
  {
   "cell_type": "markdown",
   "metadata": {},
   "source": [
    "And again:  \n",
    "\n",
    "$w_P = (P)^{-1}(X)^{-1}(X^T)^{-1}(P^T)^{-1}(P^TX^T)y$  "
   ]
  },
  {
   "cell_type": "markdown",
   "metadata": {},
   "source": [
    "We know $(P^T)^{-1}P^{T} = I$. $I$ refers to the identity matrix and the product of any square matrix and the identity matrix is always the original matrix. Hence, we can remove $(P^T)^{-1}P^{T}$ of the equation \n",
    "\n",
    "\n",
    "$w_P = [P^{-1}X^{-1}(X^T)^{-1}X^T]y$"
   ]
  },
  {
   "cell_type": "markdown",
   "metadata": {},
   "source": [
    "Using Matrix Property \"Multiplicative identity property\", $X^{-1}(X^{T})^{-1}$ can be also expressed by $(X^{T}X)^{-1}$\n",
    "\n",
    "\n",
    "$w_P = [P^{-1}(X^TX)^{-1}X^T]y$"
   ]
  },
  {
   "cell_type": "markdown",
   "metadata": {},
   "source": [
    "We know that $w = (X^T X)^{-1} X^T y$\n",
    "Hence, we can replace this part of the equation with w\n",
    "\n",
    "$w_P = P^{-1}w$\n",
    "\n",
    "wp is w multiplied by the inversed P matrix"
   ]
  },
  {
   "cell_type": "markdown",
   "metadata": {},
   "source": [
    "This formula can be used to calculate predicted values\n",
    "$\\hat{y} = X_{val}w$\n",
    "\n",
    "And this is how we calculate predicted values \n",
    "$\\hat{y_2} = (XP)(P^{-1}w)$\n",
    "\n",
    "We can remove $P(P^{-1})$  of the equation\n",
    "and we get $\\hat{y_2} = X_{val}w$\n",
    "\n",
    "Conclusion: The predicted y from the obfuscated data is the same as the one from the original data"
   ]
  },
  {
   "cell_type": "markdown",
   "metadata": {},
   "source": [
    "## Test Linear Regression With Data Obfuscation"
   ]
  },
  {
   "cell_type": "markdown",
   "metadata": {},
   "source": [
    "Now, let's prove Linear Regression can work computationally with the chosen obfuscation transformation.\n",
    "\n",
    "Build a procedure or a class that runs Linear Regression optionally with the obfuscation. You can use either a ready implementation of Linear Regression from sciki-learn or your own.\n",
    "\n",
    "Run Linear Regression for the original data and the obfuscated one, compare the predicted values and the RMSE, $R^2$ metric values. Is there any difference?"
   ]
  },
  {
   "cell_type": "markdown",
   "metadata": {},
   "source": [
    "**Procedure**\n",
    "\n",
    "- Create a square matrix $P$ of random numbers.\n",
    "- Check that it is invertible. If not, repeat the first point until we get an invertible matrix.\n",
    "- <! your comment here !>\n",
    "- Use $XP$ as the new feature matrix"
   ]
  },
  {
   "cell_type": "code",
   "execution_count": 48,
   "metadata": {},
   "outputs": [],
   "source": [
    "# Creating square random numbers matrix\n",
    "\n",
    "rng = np.random.default_rng(seed=123)\n",
    "P = rng.random(size=(X.shape[1], X.shape[1]))"
   ]
  },
  {
   "cell_type": "code",
   "execution_count": 49,
   "metadata": {},
   "outputs": [
    {
     "data": {
      "text/plain": [
       "array([[ 2.19450806, -0.03188876,  0.05217293, -0.64857954],\n",
       "       [-2.32630105, -0.66611646,  1.8073291 ,  0.27050733],\n",
       "       [ 3.47767967,  2.46318223, -2.15521329, -1.2612122 ],\n",
       "       [-6.1753682 , -2.63150913,  1.85521818,  3.82879052]])"
      ]
     },
     "execution_count": 49,
     "metadata": {},
     "output_type": "execute_result"
    }
   ],
   "source": [
    "# Checking P is invertible\n",
    "np.linalg.inv(P)"
   ]
  },
  {
   "cell_type": "code",
   "execution_count": 50,
   "metadata": {},
   "outputs": [],
   "source": [
    "class LinearRegression:\n",
    "    def fit(self, train_features, train_target):\n",
    "        X = np.concatenate((np.ones((train_features.shape[0], 1)), train_features), axis=1)\n",
    "        y = train_target\n",
    "        w = np.linalg.inv(X.T.dot(X)).dot(X.T).dot(y)\n",
    "        self.w = w[1:]\n",
    "        self.w0 = w[0]\n",
    "\n",
    "    def predict(self, test_features):\n",
    "        return test_features.dot(self.w) + self.w0"
   ]
  },
  {
   "cell_type": "code",
   "execution_count": 51,
   "metadata": {},
   "outputs": [
    {
     "name": "stdout",
     "output_type": "stream",
     "text": [
      "[ 0.51172715  0.68431581  0.09373365 ... -0.25697046 -0.19099161\n",
      "  0.04904991]\n"
     ]
    }
   ],
   "source": [
    "# Original data\n",
    "\n",
    "features = df[['age', 'gender', 'income', 'family_members']].to_numpy()\n",
    "target = df['insurance_benefits'].to_numpy()\n",
    "\n",
    "LR1 = LinearRegression()\n",
    "LR1.fit(features, target)\n",
    "predictions_lr1 = LR1.predict(features)\n",
    "print(predictions_lr1)"
   ]
  },
  {
   "cell_type": "code",
   "execution_count": 52,
   "metadata": {},
   "outputs": [
    {
     "name": "stdout",
     "output_type": "stream",
     "text": [
      "R2:  0.42494550286668\n",
      "RMSE:  0.3512077581960692\n"
     ]
    }
   ],
   "source": [
    "print('R2: ', r2_score(target, predictions_lr1))\n",
    "mse = mean_squared_error(target, predictions_lr1)\n",
    "print('RMSE: ',math.sqrt(mse))"
   ]
  },
  {
   "cell_type": "code",
   "execution_count": 53,
   "metadata": {},
   "outputs": [
    {
     "name": "stdout",
     "output_type": "stream",
     "text": [
      "[ 0.51172736  0.68431566  0.09373344 ... -0.2569706  -0.19099138\n",
      "  0.0490501 ]\n"
     ]
    }
   ],
   "source": [
    "# Obfuscated data\n",
    "\n",
    "# Creating obfuscated data:\n",
    "#X2 = df.dot(P)\n",
    "features2 = features.dot(P)\n",
    "\n",
    "LR2 = LinearRegression()\n",
    "LR2.fit(features2, target)\n",
    "predictions_lr2 = LR2.predict(features2)\n",
    "print(predictions_lr2)"
   ]
  },
  {
   "cell_type": "code",
   "execution_count": 54,
   "metadata": {},
   "outputs": [
    {
     "name": "stdout",
     "output_type": "stream",
     "text": [
      "R2:  0.42494550286646104\n",
      "RMSE:  0.35120775819613603\n"
     ]
    }
   ],
   "source": [
    "print('R2: ',r2_score(target, predictions_lr2))\n",
    "mse = mean_squared_error(target, predictions_lr2)\n",
    "print('RMSE: ',math.sqrt(mse))"
   ]
  },
  {
   "cell_type": "markdown",
   "metadata": {},
   "source": [
    "# Conclusions"
   ]
  },
  {
   "cell_type": "markdown",
   "metadata": {},
   "source": [
    "There is no difference between the original and obfuscated data in the predicted values and the RMSE & $R^2$ metric values."
   ]
  },
  {
   "cell_type": "markdown",
   "metadata": {},
   "source": [
    "**Summary:**\n",
    "\n",
    "We received data of 5,000 customer of inssurance company. our goal was to predict which of the customers is prone to claim some inssurance benefits according to personal characteristics and his claims history.\n",
    "\n",
    "- We found that for knn scailed data brought more precise results of k neighbors \n",
    "- We found that there was no different in k neighbors between the Euclidean Distance and Manhattan Distance methods\n",
    "- Our KNN-based classifier F1 score is much better then the dummy model.\n",
    " - We saw that as k parameter was growing, F1 score decreased  \n",
    " - With the scaled data, the resultsed F1 score is much better then for the original data.\n",
    "- Linear regression - we found no difference in RMSE (or R2) between original and scaled data \n",
    "- We found that obfuscated data can protect sensetive data efficiently using random matrix, and this does not affect linear regression in terms of predicted values."
   ]
  },
  {
   "cell_type": "code",
   "execution_count": null,
   "metadata": {},
   "outputs": [],
   "source": []
  }
 ],
 "metadata": {
  "ExecuteTimeLog": [
   {
    "duration": 451,
    "start_time": "2021-11-15T16:02:18.620Z"
   },
   {
    "duration": 16417,
    "start_time": "2021-11-15T16:02:27.574Z"
   },
   {
    "duration": 1663,
    "start_time": "2021-11-15T16:02:43.994Z"
   },
   {
    "duration": 20,
    "start_time": "2021-11-15T16:02:45.660Z"
   },
   {
    "duration": 6,
    "start_time": "2021-11-15T16:02:45.683Z"
   },
   {
    "duration": 18,
    "start_time": "2021-11-15T16:02:45.700Z"
   },
   {
    "duration": 9,
    "start_time": "2021-11-15T16:02:45.721Z"
   },
   {
    "duration": 7,
    "start_time": "2021-11-15T16:02:54.581Z"
   },
   {
    "duration": 9,
    "start_time": "2021-11-15T16:03:10.849Z"
   },
   {
    "duration": 5,
    "start_time": "2021-11-15T16:07:29.503Z"
   },
   {
    "duration": 9,
    "start_time": "2021-11-15T16:07:31.465Z"
   },
   {
    "duration": 4,
    "start_time": "2021-11-15T16:08:02.026Z"
   },
   {
    "duration": 9,
    "start_time": "2021-11-15T16:08:20.689Z"
   },
   {
    "duration": 36,
    "start_time": "2021-11-15T16:08:57.441Z"
   },
   {
    "duration": 285,
    "start_time": "2021-11-20T18:19:21.862Z"
   },
   {
    "duration": 6672,
    "start_time": "2021-11-20T18:19:31.197Z"
   },
   {
    "duration": 1118,
    "start_time": "2021-11-20T18:19:37.871Z"
   },
   {
    "duration": 30,
    "start_time": "2021-11-20T18:19:38.991Z"
   },
   {
    "duration": 3,
    "start_time": "2021-11-20T18:19:39.023Z"
   },
   {
    "duration": 11,
    "start_time": "2021-11-20T18:19:39.028Z"
   },
   {
    "duration": 5,
    "start_time": "2021-11-20T18:19:39.041Z"
   },
   {
    "duration": 3,
    "start_time": "2021-11-20T18:19:39.048Z"
   },
   {
    "duration": 7,
    "start_time": "2021-11-20T18:19:39.054Z"
   },
   {
    "duration": 2,
    "start_time": "2021-11-20T18:19:39.063Z"
   },
   {
    "duration": 33,
    "start_time": "2021-11-20T18:19:39.066Z"
   },
   {
    "duration": 4444,
    "start_time": "2021-11-20T18:19:39.100Z"
   },
   {
    "duration": 2,
    "start_time": "2021-11-20T18:19:43.545Z"
   },
   {
    "duration": 82,
    "start_time": "2021-11-20T18:19:43.549Z"
   },
   {
    "duration": -633,
    "start_time": "2021-11-20T18:19:44.265Z"
   },
   {
    "duration": -634,
    "start_time": "2021-11-20T18:19:44.267Z"
   },
   {
    "duration": -636,
    "start_time": "2021-11-20T18:19:44.270Z"
   },
   {
    "duration": -638,
    "start_time": "2021-11-20T18:19:44.273Z"
   },
   {
    "duration": -639,
    "start_time": "2021-11-20T18:19:44.275Z"
   },
   {
    "duration": -807,
    "start_time": "2021-11-20T18:19:44.443Z"
   },
   {
    "duration": -810,
    "start_time": "2021-11-20T18:19:44.447Z"
   },
   {
    "duration": -812,
    "start_time": "2021-11-20T18:19:44.450Z"
   },
   {
    "duration": -816,
    "start_time": "2021-11-20T18:19:44.455Z"
   },
   {
    "duration": -820,
    "start_time": "2021-11-20T18:19:44.460Z"
   },
   {
    "duration": -822,
    "start_time": "2021-11-20T18:19:44.463Z"
   },
   {
    "duration": -825,
    "start_time": "2021-11-20T18:19:44.467Z"
   },
   {
    "duration": -831,
    "start_time": "2021-11-20T18:19:44.474Z"
   },
   {
    "duration": 4668,
    "start_time": "2021-11-20T19:08:59.000Z"
   },
   {
    "duration": 4,
    "start_time": "2021-11-20T19:36:11.263Z"
   },
   {
    "duration": 10,
    "start_time": "2021-11-20T19:36:35.332Z"
   },
   {
    "duration": 8,
    "start_time": "2021-11-20T19:36:36.332Z"
   },
   {
    "duration": 3,
    "start_time": "2021-11-20T19:40:11.399Z"
   },
   {
    "duration": 2,
    "start_time": "2021-11-20T19:41:21.216Z"
   },
   {
    "duration": 4,
    "start_time": "2021-11-20T19:47:58.651Z"
   },
   {
    "duration": 4,
    "start_time": "2021-11-20T19:52:46.306Z"
   },
   {
    "duration": 4,
    "start_time": "2021-11-20T20:01:31.845Z"
   },
   {
    "duration": 10,
    "start_time": "2021-11-20T20:01:34.960Z"
   },
   {
    "duration": 10,
    "start_time": "2021-11-20T20:01:36.460Z"
   },
   {
    "duration": 86,
    "start_time": "2021-11-20T20:01:42.654Z"
   },
   {
    "duration": 3,
    "start_time": "2021-11-20T20:02:16.257Z"
   },
   {
    "duration": 697,
    "start_time": "2021-11-20T20:02:20.602Z"
   },
   {
    "duration": 4,
    "start_time": "2021-11-20T20:05:07.781Z"
   },
   {
    "duration": 10,
    "start_time": "2021-11-20T20:05:10.544Z"
   },
   {
    "duration": 10,
    "start_time": "2021-11-20T20:05:11.652Z"
   },
   {
    "duration": 3,
    "start_time": "2021-11-20T20:05:16.540Z"
   },
   {
    "duration": 705,
    "start_time": "2021-11-20T20:05:18.169Z"
   },
   {
    "duration": 3,
    "start_time": "2021-11-20T20:24:25.349Z"
   },
   {
    "duration": 4,
    "start_time": "2021-11-20T20:25:07.942Z"
   },
   {
    "duration": 9,
    "start_time": "2021-11-20T20:25:11.029Z"
   },
   {
    "duration": 9,
    "start_time": "2021-11-20T20:25:11.571Z"
   },
   {
    "duration": 4,
    "start_time": "2021-11-20T20:25:12.864Z"
   },
   {
    "duration": 820,
    "start_time": "2021-11-20T20:25:14.849Z"
   },
   {
    "duration": 3,
    "start_time": "2021-11-20T20:26:05.250Z"
   },
   {
    "duration": 10,
    "start_time": "2021-11-20T20:26:07.058Z"
   },
   {
    "duration": 9,
    "start_time": "2021-11-20T20:26:07.316Z"
   },
   {
    "duration": 4,
    "start_time": "2021-11-20T20:26:09.997Z"
   },
   {
    "duration": 38,
    "start_time": "2021-11-20T20:26:13.436Z"
   },
   {
    "duration": 214,
    "start_time": "2021-11-20T20:29:10.705Z"
   },
   {
    "duration": 4,
    "start_time": "2021-11-20T20:29:43.038Z"
   },
   {
    "duration": 3,
    "start_time": "2021-11-20T20:31:00.543Z"
   },
   {
    "duration": 36,
    "start_time": "2021-11-20T20:31:04.731Z"
   },
   {
    "duration": 4,
    "start_time": "2021-11-20T20:32:15.739Z"
   },
   {
    "duration": 36,
    "start_time": "2021-11-20T20:32:18.016Z"
   },
   {
    "duration": 3,
    "start_time": "2021-11-20T20:32:57.017Z"
   },
   {
    "duration": 36,
    "start_time": "2021-11-20T20:33:00.647Z"
   },
   {
    "duration": 3,
    "start_time": "2021-11-20T20:34:42.368Z"
   },
   {
    "duration": 38,
    "start_time": "2021-11-20T20:34:43.800Z"
   },
   {
    "duration": 4,
    "start_time": "2021-11-20T20:35:21.361Z"
   },
   {
    "duration": 37,
    "start_time": "2021-11-20T20:35:22.705Z"
   },
   {
    "duration": 4,
    "start_time": "2021-11-20T20:35:46.116Z"
   },
   {
    "duration": 37,
    "start_time": "2021-11-20T20:35:46.926Z"
   },
   {
    "duration": 37,
    "start_time": "2021-11-20T20:36:40.031Z"
   },
   {
    "duration": 220,
    "start_time": "2021-11-20T21:16:56.941Z"
   },
   {
    "duration": 3,
    "start_time": "2021-11-20T21:17:40.045Z"
   },
   {
    "duration": 5,
    "start_time": "2021-11-20T21:18:40.210Z"
   },
   {
    "duration": 6,
    "start_time": "2021-11-20T21:26:51.176Z"
   },
   {
    "duration": 5,
    "start_time": "2021-11-20T21:26:55.688Z"
   },
   {
    "duration": 6,
    "start_time": "2021-11-20T21:28:33.238Z"
   },
   {
    "duration": 6,
    "start_time": "2021-11-20T21:28:33.933Z"
   },
   {
    "duration": 235,
    "start_time": "2021-11-20T21:29:59.017Z"
   },
   {
    "duration": 219,
    "start_time": "2021-11-20T21:30:21.080Z"
   },
   {
    "duration": 219,
    "start_time": "2021-11-20T21:30:50.008Z"
   },
   {
    "duration": 259,
    "start_time": "2021-11-20T21:31:38.210Z"
   },
   {
    "duration": 77,
    "start_time": "2021-11-20T21:37:44.794Z"
   },
   {
    "duration": 255,
    "start_time": "2021-11-20T21:37:53.675Z"
   },
   {
    "duration": 227,
    "start_time": "2021-11-20T21:42:51.500Z"
   },
   {
    "duration": 6,
    "start_time": "2021-11-20T21:43:05.820Z"
   },
   {
    "duration": 5,
    "start_time": "2021-11-20T21:43:16.498Z"
   },
   {
    "duration": 6,
    "start_time": "2021-11-20T21:43:47.672Z"
   },
   {
    "duration": 6,
    "start_time": "2021-11-20T21:43:48.676Z"
   },
   {
    "duration": 231,
    "start_time": "2021-11-20T21:43:53.694Z"
   },
   {
    "duration": 5,
    "start_time": "2021-11-20T21:43:54.353Z"
   },
   {
    "duration": 11,
    "start_time": "2021-11-20T21:45:55.796Z"
   },
   {
    "duration": 7,
    "start_time": "2021-11-20T21:45:58.289Z"
   },
   {
    "duration": 10,
    "start_time": "2021-11-20T21:46:29.116Z"
   },
   {
    "duration": 2984,
    "start_time": "2021-11-20T21:47:09.887Z"
   },
   {
    "duration": 4,
    "start_time": "2021-11-20T21:47:12.874Z"
   },
   {
    "duration": 20,
    "start_time": "2021-11-20T21:47:12.880Z"
   },
   {
    "duration": 4,
    "start_time": "2021-11-20T21:47:12.901Z"
   },
   {
    "duration": 11,
    "start_time": "2021-11-20T21:47:12.907Z"
   },
   {
    "duration": 3,
    "start_time": "2021-11-20T21:47:12.920Z"
   },
   {
    "duration": 10,
    "start_time": "2021-11-20T21:47:12.925Z"
   },
   {
    "duration": 2,
    "start_time": "2021-11-20T21:47:12.937Z"
   },
   {
    "duration": 25,
    "start_time": "2021-11-20T21:47:12.941Z"
   },
   {
    "duration": 4595,
    "start_time": "2021-11-20T21:47:12.968Z"
   },
   {
    "duration": 2,
    "start_time": "2021-11-20T21:47:17.565Z"
   },
   {
    "duration": 9,
    "start_time": "2021-11-20T21:47:17.569Z"
   },
   {
    "duration": 37,
    "start_time": "2021-11-20T21:47:17.579Z"
   },
   {
    "duration": 8,
    "start_time": "2021-11-20T21:47:17.618Z"
   },
   {
    "duration": 4,
    "start_time": "2021-11-20T21:47:17.628Z"
   },
   {
    "duration": 52,
    "start_time": "2021-11-20T21:47:17.633Z"
   },
   {
    "duration": 36,
    "start_time": "2021-11-20T21:47:17.686Z"
   },
   {
    "duration": 5555,
    "start_time": "2021-11-20T21:47:17.723Z"
   },
   {
    "duration": 5971,
    "start_time": "2021-11-20T21:48:00.115Z"
   },
   {
    "duration": 4,
    "start_time": "2021-11-20T21:49:46.328Z"
   },
   {
    "duration": 225,
    "start_time": "2021-11-20T21:50:22.292Z"
   },
   {
    "duration": 7,
    "start_time": "2021-11-20T21:50:45.724Z"
   },
   {
    "duration": 6,
    "start_time": "2021-11-20T21:50:57.908Z"
   },
   {
    "duration": 2522,
    "start_time": "2021-11-20T21:51:57.899Z"
   },
   {
    "duration": 4,
    "start_time": "2021-11-20T21:52:00.423Z"
   },
   {
    "duration": 27,
    "start_time": "2021-11-20T21:52:00.428Z"
   },
   {
    "duration": 7,
    "start_time": "2021-11-20T21:52:00.457Z"
   },
   {
    "duration": 15,
    "start_time": "2021-11-20T21:52:00.465Z"
   },
   {
    "duration": 4,
    "start_time": "2021-11-20T21:52:00.482Z"
   },
   {
    "duration": 10,
    "start_time": "2021-11-20T21:52:00.487Z"
   },
   {
    "duration": 6,
    "start_time": "2021-11-20T21:52:00.499Z"
   },
   {
    "duration": 26,
    "start_time": "2021-11-20T21:52:00.507Z"
   },
   {
    "duration": 4596,
    "start_time": "2021-11-20T21:52:00.534Z"
   },
   {
    "duration": 3,
    "start_time": "2021-11-20T21:52:05.132Z"
   },
   {
    "duration": 4,
    "start_time": "2021-11-20T21:52:05.137Z"
   },
   {
    "duration": 12,
    "start_time": "2021-11-20T21:52:05.143Z"
   },
   {
    "duration": 17,
    "start_time": "2021-11-20T21:52:05.156Z"
   },
   {
    "duration": 4,
    "start_time": "2021-11-20T21:52:05.189Z"
   },
   {
    "duration": 49,
    "start_time": "2021-11-20T21:52:05.194Z"
   },
   {
    "duration": 47,
    "start_time": "2021-11-20T21:52:05.244Z"
   },
   {
    "duration": 7,
    "start_time": "2021-11-20T21:52:05.293Z"
   },
   {
    "duration": 7,
    "start_time": "2021-11-20T21:52:09.106Z"
   },
   {
    "duration": 6,
    "start_time": "2021-11-20T21:52:13.517Z"
   },
   {
    "duration": 251,
    "start_time": "2021-11-20T21:53:57.455Z"
   },
   {
    "duration": 297,
    "start_time": "2021-11-20T21:55:17.968Z"
   },
   {
    "duration": 218,
    "start_time": "2021-11-20T21:55:46.734Z"
   },
   {
    "duration": 8,
    "start_time": "2021-11-20T21:56:04.848Z"
   },
   {
    "duration": 5,
    "start_time": "2021-11-20T21:56:10.539Z"
   },
   {
    "duration": 2599,
    "start_time": "2021-11-20T21:56:29.722Z"
   },
   {
    "duration": 4,
    "start_time": "2021-11-20T21:56:32.323Z"
   },
   {
    "duration": 31,
    "start_time": "2021-11-20T21:56:32.328Z"
   },
   {
    "duration": 4,
    "start_time": "2021-11-20T21:56:32.361Z"
   },
   {
    "duration": 22,
    "start_time": "2021-11-20T21:56:32.367Z"
   },
   {
    "duration": 18,
    "start_time": "2021-11-20T21:56:32.391Z"
   },
   {
    "duration": 39,
    "start_time": "2021-11-20T21:56:32.410Z"
   },
   {
    "duration": 8,
    "start_time": "2021-11-20T21:56:32.451Z"
   },
   {
    "duration": 30,
    "start_time": "2021-11-20T21:56:32.461Z"
   },
   {
    "duration": 4778,
    "start_time": "2021-11-20T21:56:32.492Z"
   },
   {
    "duration": 2,
    "start_time": "2021-11-20T21:56:37.272Z"
   },
   {
    "duration": 13,
    "start_time": "2021-11-20T21:56:37.276Z"
   },
   {
    "duration": 10,
    "start_time": "2021-11-20T21:56:37.290Z"
   },
   {
    "duration": 8,
    "start_time": "2021-11-20T21:56:37.302Z"
   },
   {
    "duration": 3,
    "start_time": "2021-11-20T21:56:37.311Z"
   },
   {
    "duration": 37,
    "start_time": "2021-11-20T21:56:37.316Z"
   },
   {
    "duration": 57,
    "start_time": "2021-11-20T21:56:37.355Z"
   },
   {
    "duration": 8,
    "start_time": "2021-11-20T21:56:37.414Z"
   },
   {
    "duration": 8,
    "start_time": "2021-11-20T21:56:43.367Z"
   },
   {
    "duration": 5,
    "start_time": "2021-11-20T21:56:45.432Z"
   },
   {
    "duration": 6,
    "start_time": "2021-11-20T21:57:59.140Z"
   },
   {
    "duration": 3,
    "start_time": "2021-11-20T21:58:41.352Z"
   },
   {
    "duration": 3,
    "start_time": "2021-11-20T21:59:02.775Z"
   },
   {
    "duration": 5,
    "start_time": "2021-11-21T06:34:54.697Z"
   },
   {
    "duration": 602,
    "start_time": "2021-11-21T06:36:02.865Z"
   },
   {
    "duration": 12025,
    "start_time": "2021-11-21T06:36:11.583Z"
   },
   {
    "duration": 1791,
    "start_time": "2021-11-21T06:36:23.611Z"
   },
   {
    "duration": 71,
    "start_time": "2021-11-21T06:36:25.406Z"
   },
   {
    "duration": 6,
    "start_time": "2021-11-21T06:36:25.480Z"
   },
   {
    "duration": 15,
    "start_time": "2021-11-21T06:36:25.488Z"
   },
   {
    "duration": 5,
    "start_time": "2021-11-21T06:36:25.506Z"
   },
   {
    "duration": 11,
    "start_time": "2021-11-21T06:36:25.513Z"
   },
   {
    "duration": 3,
    "start_time": "2021-11-21T06:36:25.528Z"
   },
   {
    "duration": 71,
    "start_time": "2021-11-21T06:36:25.534Z"
   },
   {
    "duration": 8589,
    "start_time": "2021-11-21T06:36:25.608Z"
   },
   {
    "duration": 4,
    "start_time": "2021-11-21T06:36:34.199Z"
   },
   {
    "duration": 10,
    "start_time": "2021-11-21T06:36:34.205Z"
   },
   {
    "duration": 21,
    "start_time": "2021-11-21T06:36:34.217Z"
   },
   {
    "duration": 13,
    "start_time": "2021-11-21T06:36:34.241Z"
   },
   {
    "duration": 5,
    "start_time": "2021-11-21T06:36:34.257Z"
   },
   {
    "duration": 69,
    "start_time": "2021-11-21T06:36:34.301Z"
   },
   {
    "duration": 82,
    "start_time": "2021-11-21T06:36:34.373Z"
   },
   {
    "duration": 9,
    "start_time": "2021-11-21T06:36:34.457Z"
   },
   {
    "duration": 33,
    "start_time": "2021-11-21T06:36:34.469Z"
   },
   {
    "duration": 6,
    "start_time": "2021-11-21T06:36:34.504Z"
   },
   {
    "duration": 5,
    "start_time": "2021-11-21T06:36:34.512Z"
   },
   {
    "duration": 6,
    "start_time": "2021-11-21T06:36:34.520Z"
   },
   {
    "duration": 135,
    "start_time": "2021-11-21T06:36:34.530Z"
   },
   {
    "duration": -968,
    "start_time": "2021-11-21T06:36:35.635Z"
   },
   {
    "duration": -969,
    "start_time": "2021-11-21T06:36:35.638Z"
   },
   {
    "duration": -970,
    "start_time": "2021-11-21T06:36:35.640Z"
   },
   {
    "duration": -972,
    "start_time": "2021-11-21T06:36:35.643Z"
   },
   {
    "duration": -972,
    "start_time": "2021-11-21T06:36:35.645Z"
   },
   {
    "duration": -973,
    "start_time": "2021-11-21T06:36:35.647Z"
   },
   {
    "duration": 503,
    "start_time": "2021-11-21T19:17:39.875Z"
   },
   {
    "duration": 11708,
    "start_time": "2021-11-21T19:17:55.011Z"
   },
   {
    "duration": 1834,
    "start_time": "2021-11-21T19:18:06.722Z"
   },
   {
    "duration": 26,
    "start_time": "2021-11-21T19:18:08.559Z"
   },
   {
    "duration": 8,
    "start_time": "2021-11-21T19:18:08.589Z"
   },
   {
    "duration": 18,
    "start_time": "2021-11-21T19:18:08.600Z"
   },
   {
    "duration": 16,
    "start_time": "2021-11-21T19:18:08.621Z"
   },
   {
    "duration": 19,
    "start_time": "2021-11-21T19:18:08.640Z"
   },
   {
    "duration": 3,
    "start_time": "2021-11-21T19:18:08.665Z"
   },
   {
    "duration": 53,
    "start_time": "2021-11-21T19:18:08.672Z"
   },
   {
    "duration": 8409,
    "start_time": "2021-11-21T19:18:08.730Z"
   },
   {
    "duration": 4,
    "start_time": "2021-11-21T19:18:17.141Z"
   },
   {
    "duration": 7,
    "start_time": "2021-11-21T19:18:17.159Z"
   },
   {
    "duration": 20,
    "start_time": "2021-11-21T19:18:17.168Z"
   },
   {
    "duration": 13,
    "start_time": "2021-11-21T19:18:17.190Z"
   },
   {
    "duration": 6,
    "start_time": "2021-11-21T19:18:17.205Z"
   },
   {
    "duration": 97,
    "start_time": "2021-11-21T19:18:17.213Z"
   },
   {
    "duration": 77,
    "start_time": "2021-11-21T19:18:17.313Z"
   },
   {
    "duration": 10,
    "start_time": "2021-11-21T19:18:17.393Z"
   },
   {
    "duration": 20,
    "start_time": "2021-11-21T19:18:17.406Z"
   },
   {
    "duration": 32,
    "start_time": "2021-11-21T19:18:17.429Z"
   },
   {
    "duration": 7,
    "start_time": "2021-11-21T19:18:17.464Z"
   },
   {
    "duration": 8,
    "start_time": "2021-11-21T19:18:17.473Z"
   },
   {
    "duration": 5,
    "start_time": "2021-11-21T19:18:25.868Z"
   },
   {
    "duration": 523,
    "start_time": "2021-11-21T19:18:26.848Z"
   },
   {
    "duration": 34,
    "start_time": "2021-11-21T19:19:15.712Z"
   },
   {
    "duration": 5,
    "start_time": "2021-11-21T19:30:12.580Z"
   },
   {
    "duration": 417,
    "start_time": "2021-11-21T19:30:15.110Z"
   },
   {
    "duration": 401,
    "start_time": "2021-11-21T19:30:31.516Z"
   },
   {
    "duration": 6,
    "start_time": "2021-11-21T19:30:59.923Z"
   },
   {
    "duration": 10,
    "start_time": "2021-11-21T19:36:43.293Z"
   },
   {
    "duration": 18989,
    "start_time": "2021-11-22T12:55:53.777Z"
   },
   {
    "duration": 2094,
    "start_time": "2021-11-22T12:56:12.770Z"
   },
   {
    "duration": 20,
    "start_time": "2021-11-22T12:56:14.867Z"
   },
   {
    "duration": 9,
    "start_time": "2021-11-22T12:56:14.890Z"
   },
   {
    "duration": 33,
    "start_time": "2021-11-22T12:56:14.902Z"
   },
   {
    "duration": 5,
    "start_time": "2021-11-22T12:56:14.938Z"
   },
   {
    "duration": 13,
    "start_time": "2021-11-22T12:56:14.945Z"
   },
   {
    "duration": 3,
    "start_time": "2021-11-22T12:56:14.962Z"
   },
   {
    "duration": 53,
    "start_time": "2021-11-22T12:56:14.968Z"
   },
   {
    "duration": 9057,
    "start_time": "2021-11-22T12:56:15.024Z"
   },
   {
    "duration": 3,
    "start_time": "2021-11-22T12:56:24.084Z"
   },
   {
    "duration": 7,
    "start_time": "2021-11-22T12:56:24.101Z"
   },
   {
    "duration": 28,
    "start_time": "2021-11-22T12:56:24.110Z"
   },
   {
    "duration": 21,
    "start_time": "2021-11-22T12:56:24.140Z"
   },
   {
    "duration": 5,
    "start_time": "2021-11-22T12:56:24.163Z"
   },
   {
    "duration": 88,
    "start_time": "2021-11-22T12:56:24.171Z"
   },
   {
    "duration": 87,
    "start_time": "2021-11-22T12:56:24.262Z"
   },
   {
    "duration": 9,
    "start_time": "2021-11-22T12:56:24.352Z"
   },
   {
    "duration": 20,
    "start_time": "2021-11-22T12:56:24.363Z"
   },
   {
    "duration": 17,
    "start_time": "2021-11-22T12:56:24.386Z"
   },
   {
    "duration": 12,
    "start_time": "2021-11-22T12:56:24.406Z"
   },
   {
    "duration": 16,
    "start_time": "2021-11-22T12:56:24.420Z"
   },
   {
    "duration": 36,
    "start_time": "2021-11-22T12:56:24.441Z"
   },
   {
    "duration": 21,
    "start_time": "2021-11-22T12:56:24.480Z"
   },
   {
    "duration": 17,
    "start_time": "2021-11-22T12:56:24.504Z"
   },
   {
    "duration": 117,
    "start_time": "2021-11-22T12:56:24.523Z"
   },
   {
    "duration": -846,
    "start_time": "2021-11-22T12:56:25.489Z"
   },
   {
    "duration": -848,
    "start_time": "2021-11-22T12:56:25.492Z"
   },
   {
    "duration": -852,
    "start_time": "2021-11-22T12:56:25.497Z"
   },
   {
    "duration": -853,
    "start_time": "2021-11-22T12:56:25.500Z"
   },
   {
    "duration": -854,
    "start_time": "2021-11-22T12:56:25.502Z"
   },
   {
    "duration": 5,
    "start_time": "2021-11-22T14:04:17.766Z"
   },
   {
    "duration": 5,
    "start_time": "2021-11-22T14:04:18.995Z"
   },
   {
    "duration": 35,
    "start_time": "2021-11-22T14:04:20.017Z"
   },
   {
    "duration": 6,
    "start_time": "2021-11-22T14:04:22.746Z"
   },
   {
    "duration": 816,
    "start_time": "2021-11-22T14:04:28.200Z"
   },
   {
    "duration": 6,
    "start_time": "2021-11-22T14:04:42.653Z"
   },
   {
    "duration": 1160,
    "start_time": "2021-11-22T14:04:43.473Z"
   },
   {
    "duration": 844,
    "start_time": "2021-11-22T14:09:17.389Z"
   },
   {
    "duration": 6,
    "start_time": "2021-11-22T14:09:37.667Z"
   },
   {
    "duration": 691,
    "start_time": "2021-11-22T14:09:38.458Z"
   },
   {
    "duration": 6,
    "start_time": "2021-11-22T14:10:04.579Z"
   },
   {
    "duration": 864,
    "start_time": "2021-11-22T14:10:09.771Z"
   },
   {
    "duration": 373,
    "start_time": "2021-11-22T14:11:42.242Z"
   },
   {
    "duration": 347,
    "start_time": "2021-11-22T14:15:21.640Z"
   },
   {
    "duration": 905,
    "start_time": "2021-11-22T14:16:40.093Z"
   },
   {
    "duration": 7,
    "start_time": "2021-11-22T15:14:43.311Z"
   },
   {
    "duration": 5,
    "start_time": "2021-11-22T15:16:32.361Z"
   },
   {
    "duration": 770,
    "start_time": "2021-11-22T15:17:17.026Z"
   },
   {
    "duration": 9,
    "start_time": "2021-11-22T15:18:39.744Z"
   },
   {
    "duration": 5,
    "start_time": "2021-11-22T15:18:40.567Z"
   },
   {
    "duration": 729,
    "start_time": "2021-11-22T15:18:42.287Z"
   },
   {
    "duration": 358,
    "start_time": "2021-11-22T15:20:18.992Z"
   },
   {
    "duration": 692,
    "start_time": "2021-11-22T15:21:54.754Z"
   },
   {
    "duration": 8,
    "start_time": "2021-11-22T15:28:50.923Z"
   },
   {
    "duration": 5,
    "start_time": "2021-11-22T15:28:51.962Z"
   },
   {
    "duration": 716,
    "start_time": "2021-11-22T15:28:52.745Z"
   },
   {
    "duration": 7,
    "start_time": "2021-11-22T15:31:36.780Z"
   },
   {
    "duration": 4,
    "start_time": "2021-11-22T15:31:38.788Z"
   },
   {
    "duration": 855,
    "start_time": "2021-11-22T15:31:40.085Z"
   },
   {
    "duration": 7,
    "start_time": "2021-11-22T15:32:01.715Z"
   },
   {
    "duration": 5,
    "start_time": "2021-11-22T15:32:02.323Z"
   },
   {
    "duration": 941,
    "start_time": "2021-11-22T15:32:02.878Z"
   },
   {
    "duration": 7,
    "start_time": "2021-11-22T15:33:55.947Z"
   },
   {
    "duration": 5,
    "start_time": "2021-11-22T15:33:57.516Z"
   },
   {
    "duration": 1175,
    "start_time": "2021-11-22T15:33:59.083Z"
   },
   {
    "duration": 691,
    "start_time": "2021-11-22T15:42:16.229Z"
   },
   {
    "duration": 7,
    "start_time": "2021-11-22T15:43:37.901Z"
   },
   {
    "duration": 5,
    "start_time": "2021-11-22T15:43:40.543Z"
   },
   {
    "duration": 697,
    "start_time": "2021-11-22T15:43:40.668Z"
   },
   {
    "duration": 5,
    "start_time": "2021-11-22T15:47:00.066Z"
   },
   {
    "duration": 15,
    "start_time": "2021-11-22T15:47:13.615Z"
   },
   {
    "duration": 13,
    "start_time": "2021-11-22T15:53:49.407Z"
   },
   {
    "duration": 1269,
    "start_time": "2021-11-22T15:54:39.607Z"
   },
   {
    "duration": 111,
    "start_time": "2021-11-22T15:55:15.006Z"
   },
   {
    "duration": 14,
    "start_time": "2021-11-22T15:55:26.663Z"
   },
   {
    "duration": 13,
    "start_time": "2021-11-22T15:55:44.089Z"
   },
   {
    "duration": 6,
    "start_time": "2021-11-22T16:16:39.474Z"
   },
   {
    "duration": 5,
    "start_time": "2021-11-22T16:16:47.619Z"
   },
   {
    "duration": 4,
    "start_time": "2021-11-22T16:16:48.617Z"
   },
   {
    "duration": 6,
    "start_time": "2021-11-22T16:16:50.850Z"
   },
   {
    "duration": 4,
    "start_time": "2021-11-22T16:17:13.458Z"
   },
   {
    "duration": 7,
    "start_time": "2021-11-22T16:25:19.042Z"
   },
   {
    "duration": 4,
    "start_time": "2021-11-22T16:28:47.402Z"
   },
   {
    "duration": 337,
    "start_time": "2021-11-22T16:29:42.661Z"
   },
   {
    "duration": 353,
    "start_time": "2021-11-22T16:30:01.620Z"
   },
   {
    "duration": 6,
    "start_time": "2021-11-22T16:30:18.100Z"
   },
   {
    "duration": 6,
    "start_time": "2021-11-22T16:31:31.316Z"
   },
   {
    "duration": 6,
    "start_time": "2021-11-22T16:31:43.887Z"
   },
   {
    "duration": 6,
    "start_time": "2021-11-22T16:32:04.059Z"
   },
   {
    "duration": 355,
    "start_time": "2021-11-22T16:43:45.274Z"
   },
   {
    "duration": 403,
    "start_time": "2021-11-22T17:12:41.974Z"
   },
   {
    "duration": 393,
    "start_time": "2021-11-22T17:12:49.606Z"
   },
   {
    "duration": 360,
    "start_time": "2021-11-22T17:13:14.853Z"
   },
   {
    "duration": 7,
    "start_time": "2021-11-22T20:14:37.758Z"
   },
   {
    "duration": 891,
    "start_time": "2021-11-22T20:28:52.382Z"
   },
   {
    "duration": 878,
    "start_time": "2021-11-22T20:37:02.427Z"
   },
   {
    "duration": 852,
    "start_time": "2021-11-22T20:38:28.484Z"
   },
   {
    "duration": 917,
    "start_time": "2021-11-22T20:41:27.387Z"
   },
   {
    "duration": 5,
    "start_time": "2021-11-22T20:42:42.516Z"
   },
   {
    "duration": 1569,
    "start_time": "2021-11-22T20:43:15.282Z"
   },
   {
    "duration": 4,
    "start_time": "2021-11-22T20:43:33.684Z"
   },
   {
    "duration": 916,
    "start_time": "2021-11-22T20:44:17.514Z"
   },
   {
    "duration": 5,
    "start_time": "2021-11-22T20:46:41.920Z"
   },
   {
    "duration": 9,
    "start_time": "2021-11-22T20:47:37.281Z"
   },
   {
    "duration": 9,
    "start_time": "2021-11-22T20:48:12.538Z"
   },
   {
    "duration": 7,
    "start_time": "2021-11-22T20:54:44.628Z"
   },
   {
    "duration": 18,
    "start_time": "2021-11-22T21:29:51.450Z"
   },
   {
    "duration": 8584,
    "start_time": "2021-11-22T21:30:15.534Z"
   },
   {
    "duration": 3329,
    "start_time": "2021-11-22T21:31:00.203Z"
   },
   {
    "duration": 360,
    "start_time": "2021-11-22T21:31:21.127Z"
   },
   {
    "duration": 356,
    "start_time": "2021-11-22T21:33:42.266Z"
   },
   {
    "duration": 338,
    "start_time": "2021-11-22T21:33:51.749Z"
   },
   {
    "duration": 360,
    "start_time": "2021-11-22T21:36:12.091Z"
   },
   {
    "duration": 7,
    "start_time": "2021-11-22T21:36:42.916Z"
   },
   {
    "duration": 348,
    "start_time": "2021-11-22T21:37:21.603Z"
   },
   {
    "duration": 7,
    "start_time": "2021-11-22T21:37:31.298Z"
   },
   {
    "duration": 6,
    "start_time": "2021-11-22T21:38:19.485Z"
   },
   {
    "duration": 5,
    "start_time": "2021-11-22T21:39:21.817Z"
   },
   {
    "duration": 6,
    "start_time": "2021-11-22T21:39:32.861Z"
   },
   {
    "duration": 6,
    "start_time": "2021-11-22T21:40:07.578Z"
   },
   {
    "duration": 6,
    "start_time": "2021-11-22T21:43:32.107Z"
   },
   {
    "duration": 8,
    "start_time": "2021-11-22T21:44:23.675Z"
   },
   {
    "duration": 7,
    "start_time": "2021-11-22T21:47:57.166Z"
   },
   {
    "duration": 358,
    "start_time": "2021-11-22T21:48:06.725Z"
   },
   {
    "duration": 6,
    "start_time": "2021-11-22T21:48:42.740Z"
   },
   {
    "duration": 7,
    "start_time": "2021-11-22T21:49:53.644Z"
   },
   {
    "duration": 337,
    "start_time": "2021-11-22T21:50:22.741Z"
   },
   {
    "duration": 5,
    "start_time": "2021-11-22T21:51:17.556Z"
   },
   {
    "duration": 7,
    "start_time": "2021-11-22T21:51:24.823Z"
   },
   {
    "duration": 7,
    "start_time": "2021-11-22T21:54:13.782Z"
   },
   {
    "duration": 6,
    "start_time": "2021-11-22T21:54:15.039Z"
   },
   {
    "duration": 8,
    "start_time": "2021-11-22T21:56:01.009Z"
   },
   {
    "duration": 7,
    "start_time": "2021-11-22T21:56:31.941Z"
   },
   {
    "duration": 6,
    "start_time": "2021-11-22T21:56:32.521Z"
   },
   {
    "duration": 8,
    "start_time": "2021-11-22T21:56:33.447Z"
   },
   {
    "duration": 6,
    "start_time": "2021-11-22T21:56:34.390Z"
   },
   {
    "duration": 5,
    "start_time": "2021-11-22T22:01:33.195Z"
   },
   {
    "duration": 8,
    "start_time": "2021-11-22T22:01:48.968Z"
   },
   {
    "duration": 8,
    "start_time": "2021-11-22T22:01:52.377Z"
   },
   {
    "duration": 10,
    "start_time": "2021-11-22T22:04:05.059Z"
   },
   {
    "duration": 9,
    "start_time": "2021-11-22T22:04:08.742Z"
   },
   {
    "duration": 14,
    "start_time": "2021-11-22T22:04:48.201Z"
   },
   {
    "duration": 8,
    "start_time": "2021-11-22T22:05:01.328Z"
   },
   {
    "duration": 115,
    "start_time": "2021-11-22T22:07:48.577Z"
   },
   {
    "duration": 7,
    "start_time": "2021-11-22T22:07:56.521Z"
   },
   {
    "duration": 6,
    "start_time": "2021-11-22T22:08:24.537Z"
   },
   {
    "duration": 8,
    "start_time": "2021-11-22T22:08:50.666Z"
   },
   {
    "duration": 7,
    "start_time": "2021-11-22T22:09:01.123Z"
   },
   {
    "duration": 8988,
    "start_time": "2021-11-23T05:55:32.833Z"
   },
   {
    "duration": 1656,
    "start_time": "2021-11-23T05:55:41.824Z"
   },
   {
    "duration": 37,
    "start_time": "2021-11-23T05:55:43.483Z"
   },
   {
    "duration": 6,
    "start_time": "2021-11-23T05:55:43.523Z"
   },
   {
    "duration": 15,
    "start_time": "2021-11-23T05:55:43.531Z"
   },
   {
    "duration": 8,
    "start_time": "2021-11-23T05:55:43.549Z"
   },
   {
    "duration": 11,
    "start_time": "2021-11-23T05:55:43.560Z"
   },
   {
    "duration": 3,
    "start_time": "2021-11-23T05:55:43.575Z"
   },
   {
    "duration": 69,
    "start_time": "2021-11-23T05:55:43.581Z"
   },
   {
    "duration": 8483,
    "start_time": "2021-11-23T05:55:43.653Z"
   },
   {
    "duration": 4,
    "start_time": "2021-11-23T05:55:52.139Z"
   },
   {
    "duration": 8,
    "start_time": "2021-11-23T05:55:52.145Z"
   },
   {
    "duration": 18,
    "start_time": "2021-11-23T05:55:52.155Z"
   },
   {
    "duration": 13,
    "start_time": "2021-11-23T05:55:52.175Z"
   },
   {
    "duration": 39,
    "start_time": "2021-11-23T05:55:52.191Z"
   },
   {
    "duration": 69,
    "start_time": "2021-11-23T05:55:52.232Z"
   },
   {
    "duration": 84,
    "start_time": "2021-11-23T05:55:52.303Z"
   },
   {
    "duration": 9,
    "start_time": "2021-11-23T05:55:52.390Z"
   },
   {
    "duration": 38,
    "start_time": "2021-11-23T05:55:52.401Z"
   },
   {
    "duration": 5,
    "start_time": "2021-11-23T05:55:52.441Z"
   },
   {
    "duration": 5,
    "start_time": "2021-11-23T05:55:52.449Z"
   },
   {
    "duration": 11,
    "start_time": "2021-11-23T05:55:52.456Z"
   },
   {
    "duration": 62,
    "start_time": "2021-11-23T05:55:52.472Z"
   },
   {
    "duration": 6,
    "start_time": "2021-11-23T05:55:52.537Z"
   },
   {
    "duration": 813,
    "start_time": "2021-11-23T05:55:52.545Z"
   },
   {
    "duration": 869,
    "start_time": "2021-11-23T05:55:53.360Z"
   },
   {
    "duration": 7,
    "start_time": "2021-11-23T05:55:54.232Z"
   },
   {
    "duration": 20,
    "start_time": "2021-11-23T05:55:54.241Z"
   },
   {
    "duration": 40,
    "start_time": "2021-11-23T05:55:54.264Z"
   },
   {
    "duration": -260,
    "start_time": "2021-11-23T05:55:55.934Z"
   },
   {
    "duration": -261,
    "start_time": "2021-11-23T05:55:55.937Z"
   },
   {
    "duration": -261,
    "start_time": "2021-11-23T05:55:55.940Z"
   },
   {
    "duration": -273,
    "start_time": "2021-11-23T05:55:55.954Z"
   },
   {
    "duration": -280,
    "start_time": "2021-11-23T05:55:55.963Z"
   },
   {
    "duration": -282,
    "start_time": "2021-11-23T05:55:55.966Z"
   },
   {
    "duration": -284,
    "start_time": "2021-11-23T05:55:55.970Z"
   },
   {
    "duration": -284,
    "start_time": "2021-11-23T05:55:55.973Z"
   },
   {
    "duration": -286,
    "start_time": "2021-11-23T05:55:55.977Z"
   },
   {
    "duration": -288,
    "start_time": "2021-11-23T05:55:55.981Z"
   },
   {
    "duration": -296,
    "start_time": "2021-11-23T05:55:55.990Z"
   },
   {
    "duration": -296,
    "start_time": "2021-11-23T05:55:55.993Z"
   },
   {
    "duration": -297,
    "start_time": "2021-11-23T05:55:55.996Z"
   },
   {
    "duration": -297,
    "start_time": "2021-11-23T05:55:55.998Z"
   },
   {
    "duration": -298,
    "start_time": "2021-11-23T05:55:56.001Z"
   },
   {
    "duration": -299,
    "start_time": "2021-11-23T05:55:56.004Z"
   },
   {
    "duration": -300,
    "start_time": "2021-11-23T05:55:56.007Z"
   },
   {
    "duration": -306,
    "start_time": "2021-11-23T05:55:56.015Z"
   },
   {
    "duration": -288,
    "start_time": "2021-11-23T05:55:56.017Z"
   },
   {
    "duration": -339,
    "start_time": "2021-11-23T05:55:56.071Z"
   },
   {
    "duration": -340,
    "start_time": "2021-11-23T05:55:56.074Z"
   },
   {
    "duration": -341,
    "start_time": "2021-11-23T05:55:56.077Z"
   },
   {
    "duration": -342,
    "start_time": "2021-11-23T05:55:56.080Z"
   },
   {
    "duration": -342,
    "start_time": "2021-11-23T05:55:56.082Z"
   },
   {
    "duration": -447,
    "start_time": "2021-11-23T05:55:56.189Z"
   },
   {
    "duration": -469,
    "start_time": "2021-11-23T05:55:56.214Z"
   },
   {
    "duration": -470,
    "start_time": "2021-11-23T05:55:56.217Z"
   },
   {
    "duration": -471,
    "start_time": "2021-11-23T05:55:56.220Z"
   },
   {
    "duration": -472,
    "start_time": "2021-11-23T05:55:56.223Z"
   },
   {
    "duration": -472,
    "start_time": "2021-11-23T05:55:56.225Z"
   },
   {
    "duration": -473,
    "start_time": "2021-11-23T05:55:56.228Z"
   },
   {
    "duration": -473,
    "start_time": "2021-11-23T05:55:56.230Z"
   },
   {
    "duration": -473,
    "start_time": "2021-11-23T05:55:56.232Z"
   },
   {
    "duration": -475,
    "start_time": "2021-11-23T05:55:56.236Z"
   },
   {
    "duration": -475,
    "start_time": "2021-11-23T05:55:56.238Z"
   },
   {
    "duration": -477,
    "start_time": "2021-11-23T05:55:56.242Z"
   },
   {
    "duration": -415,
    "start_time": "2021-11-23T05:55:56.244Z"
   },
   {
    "duration": -415,
    "start_time": "2021-11-23T05:55:56.246Z"
   },
   {
    "duration": -416,
    "start_time": "2021-11-23T05:55:56.249Z"
   },
   {
    "duration": -416,
    "start_time": "2021-11-23T05:55:56.251Z"
   },
   {
    "duration": -416,
    "start_time": "2021-11-23T05:55:56.253Z"
   },
   {
    "duration": -427,
    "start_time": "2021-11-23T05:55:56.266Z"
   },
   {
    "duration": -430,
    "start_time": "2021-11-23T05:55:56.271Z"
   },
   {
    "duration": -429,
    "start_time": "2021-11-23T05:55:56.273Z"
   },
   {
    "duration": -429,
    "start_time": "2021-11-23T05:55:56.275Z"
   },
   {
    "duration": -430,
    "start_time": "2021-11-23T05:55:56.278Z"
   },
   {
    "duration": -430,
    "start_time": "2021-11-23T05:55:56.280Z"
   },
   {
    "duration": -430,
    "start_time": "2021-11-23T05:55:56.282Z"
   },
   {
    "duration": 4679,
    "start_time": "2021-11-23T05:56:10.532Z"
   },
   {
    "duration": 6,
    "start_time": "2021-11-23T05:56:15.214Z"
   },
   {
    "duration": 28,
    "start_time": "2021-11-23T05:56:15.223Z"
   },
   {
    "duration": 8,
    "start_time": "2021-11-23T05:56:15.253Z"
   },
   {
    "duration": 13,
    "start_time": "2021-11-23T05:56:15.263Z"
   },
   {
    "duration": 7,
    "start_time": "2021-11-23T05:56:15.279Z"
   },
   {
    "duration": 16,
    "start_time": "2021-11-23T05:56:15.288Z"
   },
   {
    "duration": 5,
    "start_time": "2021-11-23T05:56:15.308Z"
   },
   {
    "duration": 42,
    "start_time": "2021-11-23T05:56:15.316Z"
   },
   {
    "duration": 8348,
    "start_time": "2021-11-23T05:56:15.360Z"
   },
   {
    "duration": 4,
    "start_time": "2021-11-23T05:56:23.710Z"
   },
   {
    "duration": 17,
    "start_time": "2021-11-23T05:56:23.728Z"
   },
   {
    "duration": 43,
    "start_time": "2021-11-23T05:56:23.747Z"
   },
   {
    "duration": 24,
    "start_time": "2021-11-23T05:56:23.793Z"
   },
   {
    "duration": 10,
    "start_time": "2021-11-23T05:56:23.820Z"
   },
   {
    "duration": 83,
    "start_time": "2021-11-23T05:56:23.832Z"
   },
   {
    "duration": 64,
    "start_time": "2021-11-23T05:56:23.918Z"
   },
   {
    "duration": 8,
    "start_time": "2021-11-23T05:56:23.984Z"
   },
   {
    "duration": 28,
    "start_time": "2021-11-23T05:56:23.995Z"
   },
   {
    "duration": 6,
    "start_time": "2021-11-23T05:56:24.030Z"
   },
   {
    "duration": 17,
    "start_time": "2021-11-23T05:56:24.038Z"
   },
   {
    "duration": 11,
    "start_time": "2021-11-23T05:56:24.057Z"
   },
   {
    "duration": 38,
    "start_time": "2021-11-23T05:56:24.074Z"
   },
   {
    "duration": 18,
    "start_time": "2021-11-23T05:56:24.114Z"
   },
   {
    "duration": 817,
    "start_time": "2021-11-23T05:56:24.134Z"
   },
   {
    "duration": 899,
    "start_time": "2021-11-23T05:56:24.954Z"
   },
   {
    "duration": 7,
    "start_time": "2021-11-23T05:56:25.856Z"
   },
   {
    "duration": 7,
    "start_time": "2021-11-23T05:56:25.867Z"
   },
   {
    "duration": 54,
    "start_time": "2021-11-23T05:56:25.876Z"
   },
   {
    "duration": 105,
    "start_time": "2021-11-23T05:56:25.933Z"
   },
   {
    "duration": 91,
    "start_time": "2021-11-23T05:56:26.041Z"
   },
   {
    "duration": 95,
    "start_time": "2021-11-23T05:56:26.135Z"
   },
   {
    "duration": 40,
    "start_time": "2021-11-23T05:56:26.232Z"
   },
   {
    "duration": 14,
    "start_time": "2021-11-23T05:56:26.275Z"
   },
   {
    "duration": 37,
    "start_time": "2021-11-23T05:56:26.292Z"
   },
   {
    "duration": 97,
    "start_time": "2021-11-23T05:56:26.333Z"
   },
   {
    "duration": 7,
    "start_time": "2021-11-23T05:56:26.433Z"
   },
   {
    "duration": 18,
    "start_time": "2021-11-23T05:56:26.442Z"
   },
   {
    "duration": 70,
    "start_time": "2021-11-23T05:56:26.462Z"
   },
   {
    "duration": 9,
    "start_time": "2021-11-23T05:56:26.535Z"
   },
   {
    "duration": 8,
    "start_time": "2021-11-23T05:56:26.630Z"
   },
   {
    "duration": 22,
    "start_time": "2021-11-23T05:56:26.640Z"
   },
   {
    "duration": 30,
    "start_time": "2021-11-23T05:56:26.664Z"
   },
   {
    "duration": 39,
    "start_time": "2021-11-23T05:56:26.697Z"
   },
   {
    "duration": 191,
    "start_time": "2021-11-23T05:56:26.738Z"
   },
   {
    "duration": 99,
    "start_time": "2021-11-23T05:56:26.932Z"
   },
   {
    "duration": 340,
    "start_time": "2021-11-23T05:56:27.034Z"
   },
   {
    "duration": -334,
    "start_time": "2021-11-23T05:56:27.711Z"
   },
   {
    "duration": 261,
    "start_time": "2021-11-23T05:58:10.018Z"
   },
   {
    "duration": 5,
    "start_time": "2021-11-23T06:05:20.599Z"
   },
   {
    "duration": 7,
    "start_time": "2021-11-23T06:05:23.883Z"
   },
   {
    "duration": 5,
    "start_time": "2021-11-23T06:05:27.983Z"
   },
   {
    "duration": 11,
    "start_time": "2021-11-23T06:05:40.342Z"
   },
   {
    "duration": 8,
    "start_time": "2021-11-23T06:05:41.744Z"
   },
   {
    "duration": 258,
    "start_time": "2021-11-23T06:06:06.770Z"
   },
   {
    "duration": 282,
    "start_time": "2021-11-23T06:08:49.904Z"
   },
   {
    "duration": 8,
    "start_time": "2021-11-23T06:10:22.346Z"
   },
   {
    "duration": 7,
    "start_time": "2021-11-23T06:10:24.086Z"
   },
   {
    "duration": 7,
    "start_time": "2021-11-23T06:10:30.341Z"
   },
   {
    "duration": 6,
    "start_time": "2021-11-23T06:11:17.728Z"
   },
   {
    "duration": 7,
    "start_time": "2021-11-23T06:12:21.628Z"
   },
   {
    "duration": 3611,
    "start_time": "2021-11-23T06:17:42.568Z"
   },
   {
    "duration": 6,
    "start_time": "2021-11-23T06:17:46.182Z"
   },
   {
    "duration": 25,
    "start_time": "2021-11-23T06:17:46.191Z"
   },
   {
    "duration": 8,
    "start_time": "2021-11-23T06:17:46.219Z"
   },
   {
    "duration": 33,
    "start_time": "2021-11-23T06:17:46.229Z"
   },
   {
    "duration": 26,
    "start_time": "2021-11-23T06:17:46.265Z"
   },
   {
    "duration": 27,
    "start_time": "2021-11-23T06:17:46.293Z"
   },
   {
    "duration": 13,
    "start_time": "2021-11-23T06:17:46.325Z"
   },
   {
    "duration": 47,
    "start_time": "2021-11-23T06:17:46.341Z"
   },
   {
    "duration": 8906,
    "start_time": "2021-11-23T06:17:46.390Z"
   },
   {
    "duration": 3,
    "start_time": "2021-11-23T06:17:55.299Z"
   },
   {
    "duration": 27,
    "start_time": "2021-11-23T06:17:55.305Z"
   },
   {
    "duration": 43,
    "start_time": "2021-11-23T06:17:55.335Z"
   },
   {
    "duration": 33,
    "start_time": "2021-11-23T06:17:55.380Z"
   },
   {
    "duration": 7,
    "start_time": "2021-11-23T06:17:55.415Z"
   },
   {
    "duration": 80,
    "start_time": "2021-11-23T06:17:55.425Z"
   },
   {
    "duration": 63,
    "start_time": "2021-11-23T06:17:55.508Z"
   },
   {
    "duration": 9,
    "start_time": "2021-11-23T06:17:55.573Z"
   },
   {
    "duration": 11,
    "start_time": "2021-11-23T06:17:55.585Z"
   },
   {
    "duration": 32,
    "start_time": "2021-11-23T06:17:55.599Z"
   },
   {
    "duration": 7,
    "start_time": "2021-11-23T06:17:55.633Z"
   },
   {
    "duration": 7,
    "start_time": "2021-11-23T06:17:55.643Z"
   },
   {
    "duration": 35,
    "start_time": "2021-11-23T06:17:55.656Z"
   },
   {
    "duration": 35,
    "start_time": "2021-11-23T06:17:55.694Z"
   },
   {
    "duration": 830,
    "start_time": "2021-11-23T06:17:55.732Z"
   },
   {
    "duration": 905,
    "start_time": "2021-11-23T06:17:56.566Z"
   },
   {
    "duration": 7,
    "start_time": "2021-11-23T06:17:57.473Z"
   },
   {
    "duration": 13,
    "start_time": "2021-11-23T06:17:57.482Z"
   },
   {
    "duration": 32,
    "start_time": "2021-11-23T06:17:57.497Z"
   },
   {
    "duration": 100,
    "start_time": "2021-11-23T06:17:57.533Z"
   },
   {
    "duration": 6,
    "start_time": "2021-11-23T06:17:57.636Z"
   },
   {
    "duration": 89,
    "start_time": "2021-11-23T06:17:57.645Z"
   },
   {
    "duration": 7,
    "start_time": "2021-11-23T06:17:57.736Z"
   },
   {
    "duration": 8,
    "start_time": "2021-11-23T06:17:57.745Z"
   },
   {
    "duration": 5,
    "start_time": "2021-11-23T06:17:57.756Z"
   },
   {
    "duration": 69,
    "start_time": "2021-11-23T06:17:57.764Z"
   },
   {
    "duration": 8,
    "start_time": "2021-11-23T06:17:57.836Z"
   },
   {
    "duration": 87,
    "start_time": "2021-11-23T06:17:57.848Z"
   },
   {
    "duration": 10,
    "start_time": "2021-11-23T06:17:57.938Z"
   },
   {
    "duration": 85,
    "start_time": "2021-11-23T06:17:57.951Z"
   },
   {
    "duration": 90,
    "start_time": "2021-11-23T06:17:58.039Z"
   },
   {
    "duration": 5,
    "start_time": "2021-11-23T06:17:58.131Z"
   },
   {
    "duration": 11,
    "start_time": "2021-11-23T06:17:58.138Z"
   },
   {
    "duration": 7,
    "start_time": "2021-11-23T06:17:58.151Z"
   },
   {
    "duration": 81,
    "start_time": "2021-11-23T06:17:58.161Z"
   },
   {
    "duration": 98,
    "start_time": "2021-11-23T06:17:58.331Z"
   },
   {
    "duration": 8,
    "start_time": "2021-11-23T06:17:58.432Z"
   },
   {
    "duration": 92,
    "start_time": "2021-11-23T06:17:58.444Z"
   },
   {
    "duration": 6517,
    "start_time": "2021-11-23T20:12:12.400Z"
   },
   {
    "duration": 1203,
    "start_time": "2021-11-23T20:12:18.919Z"
   },
   {
    "duration": 31,
    "start_time": "2021-11-23T20:12:20.124Z"
   },
   {
    "duration": 5,
    "start_time": "2021-11-23T20:12:20.157Z"
   },
   {
    "duration": 7,
    "start_time": "2021-11-23T20:12:20.164Z"
   },
   {
    "duration": 3,
    "start_time": "2021-11-23T20:12:20.173Z"
   },
   {
    "duration": 7,
    "start_time": "2021-11-23T20:12:20.178Z"
   },
   {
    "duration": 2,
    "start_time": "2021-11-23T20:12:20.188Z"
   },
   {
    "duration": 26,
    "start_time": "2021-11-23T20:12:20.192Z"
   },
   {
    "duration": 4742,
    "start_time": "2021-11-23T20:12:20.220Z"
   },
   {
    "duration": 3,
    "start_time": "2021-11-23T20:12:24.963Z"
   },
   {
    "duration": 8,
    "start_time": "2021-11-23T20:12:24.967Z"
   },
   {
    "duration": 12,
    "start_time": "2021-11-23T20:12:24.976Z"
   },
   {
    "duration": 8,
    "start_time": "2021-11-23T20:12:24.990Z"
   },
   {
    "duration": 4,
    "start_time": "2021-11-23T20:12:24.999Z"
   },
   {
    "duration": 66,
    "start_time": "2021-11-23T20:12:25.005Z"
   },
   {
    "duration": 39,
    "start_time": "2021-11-23T20:12:25.072Z"
   },
   {
    "duration": 6,
    "start_time": "2021-11-23T20:12:25.113Z"
   },
   {
    "duration": 26,
    "start_time": "2021-11-23T20:12:25.121Z"
   },
   {
    "duration": 4,
    "start_time": "2021-11-23T20:12:25.149Z"
   },
   {
    "duration": 5,
    "start_time": "2021-11-23T20:12:25.154Z"
   },
   {
    "duration": 7,
    "start_time": "2021-11-23T20:12:25.160Z"
   },
   {
    "duration": 31,
    "start_time": "2021-11-23T20:12:25.171Z"
   },
   {
    "duration": 4,
    "start_time": "2021-11-23T20:12:25.204Z"
   },
   {
    "duration": 510,
    "start_time": "2021-11-23T20:12:25.209Z"
   },
   {
    "duration": 541,
    "start_time": "2021-11-23T20:12:25.721Z"
   },
   {
    "duration": 5,
    "start_time": "2021-11-23T20:12:26.264Z"
   },
   {
    "duration": 9,
    "start_time": "2021-11-23T20:12:26.271Z"
   },
   {
    "duration": 12,
    "start_time": "2021-11-23T20:12:26.282Z"
   },
   {
    "duration": 11,
    "start_time": "2021-11-23T20:12:26.344Z"
   },
   {
    "duration": 85,
    "start_time": "2021-11-23T20:12:26.360Z"
   },
   {
    "duration": 88,
    "start_time": "2021-11-23T20:12:26.458Z"
   },
   {
    "duration": 4,
    "start_time": "2021-11-23T20:12:26.548Z"
   },
   {
    "duration": 7,
    "start_time": "2021-11-23T20:12:26.554Z"
   },
   {
    "duration": 81,
    "start_time": "2021-11-23T20:12:26.563Z"
   },
   {
    "duration": 6,
    "start_time": "2021-11-23T20:12:26.647Z"
   },
   {
    "duration": 89,
    "start_time": "2021-11-23T20:12:26.657Z"
   },
   {
    "duration": 7,
    "start_time": "2021-11-23T20:12:26.748Z"
   },
   {
    "duration": 5,
    "start_time": "2021-11-23T20:12:26.757Z"
   },
   {
    "duration": 81,
    "start_time": "2021-11-23T20:12:26.765Z"
   },
   {
    "duration": 6,
    "start_time": "2021-11-23T20:12:26.848Z"
   },
   {
    "duration": 88,
    "start_time": "2021-11-23T20:12:26.856Z"
   },
   {
    "duration": 12,
    "start_time": "2021-11-23T20:12:26.946Z"
   },
   {
    "duration": 5,
    "start_time": "2021-11-23T20:12:26.960Z"
   },
   {
    "duration": 81,
    "start_time": "2021-11-23T20:12:26.968Z"
   },
   {
    "duration": 195,
    "start_time": "2021-11-23T20:12:27.051Z"
   },
   {
    "duration": 11,
    "start_time": "2021-11-23T20:12:27.247Z"
   },
   {
    "duration": 86,
    "start_time": "2021-11-23T20:12:27.260Z"
   },
   {
    "duration": 5,
    "start_time": "2021-11-23T22:29:33.277Z"
   },
   {
    "duration": 12,
    "start_time": "2021-11-23T22:29:53.347Z"
   },
   {
    "duration": 4,
    "start_time": "2021-11-23T22:30:04.721Z"
   },
   {
    "duration": 11,
    "start_time": "2021-11-23T22:31:04.026Z"
   },
   {
    "duration": 7,
    "start_time": "2021-11-23T22:31:25.378Z"
   },
   {
    "duration": 7,
    "start_time": "2021-11-23T22:31:52.826Z"
   },
   {
    "duration": 5,
    "start_time": "2021-11-23T22:32:16.501Z"
   },
   {
    "duration": 6,
    "start_time": "2021-11-23T22:32:22.362Z"
   },
   {
    "duration": 7,
    "start_time": "2021-11-23T22:32:32.074Z"
   },
   {
    "duration": 7,
    "start_time": "2021-11-23T22:32:38.177Z"
   },
   {
    "duration": 4,
    "start_time": "2021-11-23T22:34:04.854Z"
   },
   {
    "duration": 4,
    "start_time": "2021-11-23T22:34:08.601Z"
   },
   {
    "duration": 4,
    "start_time": "2021-11-23T22:34:10.262Z"
   },
   {
    "duration": 2887,
    "start_time": "2021-11-23T22:34:55.433Z"
   },
   {
    "duration": 4,
    "start_time": "2021-11-23T22:34:58.322Z"
   },
   {
    "duration": 28,
    "start_time": "2021-11-23T22:34:58.328Z"
   },
   {
    "duration": 12,
    "start_time": "2021-11-23T22:34:58.358Z"
   },
   {
    "duration": 12,
    "start_time": "2021-11-23T22:34:58.372Z"
   },
   {
    "duration": 14,
    "start_time": "2021-11-23T22:34:58.385Z"
   },
   {
    "duration": 22,
    "start_time": "2021-11-23T22:34:58.401Z"
   },
   {
    "duration": 12,
    "start_time": "2021-11-23T22:34:58.425Z"
   },
   {
    "duration": 45,
    "start_time": "2021-11-23T22:34:58.439Z"
   },
   {
    "duration": 5275,
    "start_time": "2021-11-23T22:34:58.485Z"
   },
   {
    "duration": 2,
    "start_time": "2021-11-23T22:35:03.762Z"
   },
   {
    "duration": 6,
    "start_time": "2021-11-23T22:35:03.765Z"
   },
   {
    "duration": 14,
    "start_time": "2021-11-23T22:35:03.773Z"
   },
   {
    "duration": 8,
    "start_time": "2021-11-23T22:35:03.789Z"
   },
   {
    "duration": 4,
    "start_time": "2021-11-23T22:35:03.799Z"
   },
   {
    "duration": 68,
    "start_time": "2021-11-23T22:35:03.804Z"
   },
   {
    "duration": 40,
    "start_time": "2021-11-23T22:35:03.873Z"
   },
   {
    "duration": 6,
    "start_time": "2021-11-23T22:35:03.914Z"
   },
   {
    "duration": 23,
    "start_time": "2021-11-23T22:35:03.922Z"
   },
   {
    "duration": 14,
    "start_time": "2021-11-23T22:35:03.947Z"
   },
   {
    "duration": 21,
    "start_time": "2021-11-23T22:35:03.963Z"
   },
   {
    "duration": 12,
    "start_time": "2021-11-23T22:35:03.986Z"
   },
   {
    "duration": 46,
    "start_time": "2021-11-23T22:35:04.001Z"
   },
   {
    "duration": 4,
    "start_time": "2021-11-23T22:35:04.049Z"
   },
   {
    "duration": 478,
    "start_time": "2021-11-23T22:35:04.054Z"
   },
   {
    "duration": 527,
    "start_time": "2021-11-23T22:35:04.534Z"
   },
   {
    "duration": 4,
    "start_time": "2021-11-23T22:35:05.063Z"
   },
   {
    "duration": 7,
    "start_time": "2021-11-23T22:35:05.068Z"
   },
   {
    "duration": 15,
    "start_time": "2021-11-23T22:35:05.076Z"
   },
   {
    "duration": 13,
    "start_time": "2021-11-23T22:35:05.145Z"
   },
   {
    "duration": 89,
    "start_time": "2021-11-23T22:35:05.160Z"
   },
   {
    "duration": 7,
    "start_time": "2021-11-23T22:35:05.251Z"
   },
   {
    "duration": 11,
    "start_time": "2021-11-23T22:35:05.345Z"
   },
   {
    "duration": 4,
    "start_time": "2021-11-23T22:35:05.358Z"
   },
   {
    "duration": 8,
    "start_time": "2021-11-23T22:35:05.364Z"
   },
   {
    "duration": 69,
    "start_time": "2021-11-23T22:35:05.374Z"
   },
   {
    "duration": 6,
    "start_time": "2021-11-23T22:35:05.446Z"
   },
   {
    "duration": 13,
    "start_time": "2021-11-23T22:35:05.454Z"
   },
   {
    "duration": 7,
    "start_time": "2021-11-23T22:35:05.544Z"
   },
   {
    "duration": 7,
    "start_time": "2021-11-23T22:35:05.553Z"
   },
   {
    "duration": 86,
    "start_time": "2021-11-23T22:35:05.562Z"
   },
   {
    "duration": 6,
    "start_time": "2021-11-23T22:35:05.650Z"
   },
   {
    "duration": 6,
    "start_time": "2021-11-23T22:35:05.658Z"
   },
   {
    "duration": 6,
    "start_time": "2021-11-23T22:35:05.745Z"
   },
   {
    "duration": 5,
    "start_time": "2021-11-23T22:35:05.754Z"
   },
   {
    "duration": 97,
    "start_time": "2021-11-23T22:35:05.762Z"
   },
   {
    "duration": 99,
    "start_time": "2021-11-23T22:35:05.945Z"
   },
   {
    "duration": 7,
    "start_time": "2021-11-23T22:35:06.046Z"
   },
   {
    "duration": 96,
    "start_time": "2021-11-23T22:35:06.056Z"
   },
   {
    "duration": 4,
    "start_time": "2021-11-23T22:36:42.227Z"
   },
   {
    "duration": 3242,
    "start_time": "2021-11-23T22:37:15.399Z"
   },
   {
    "duration": 4,
    "start_time": "2021-11-23T22:37:18.643Z"
   },
   {
    "duration": 23,
    "start_time": "2021-11-23T22:37:18.650Z"
   },
   {
    "duration": 8,
    "start_time": "2021-11-23T22:37:18.675Z"
   },
   {
    "duration": 23,
    "start_time": "2021-11-23T22:37:18.684Z"
   },
   {
    "duration": 10,
    "start_time": "2021-11-23T22:37:18.709Z"
   },
   {
    "duration": 26,
    "start_time": "2021-11-23T22:37:18.721Z"
   },
   {
    "duration": 13,
    "start_time": "2021-11-23T22:37:18.750Z"
   },
   {
    "duration": 40,
    "start_time": "2021-11-23T22:37:18.765Z"
   },
   {
    "duration": 4853,
    "start_time": "2021-11-23T22:37:18.806Z"
   },
   {
    "duration": 2,
    "start_time": "2021-11-23T22:37:23.661Z"
   },
   {
    "duration": 5,
    "start_time": "2021-11-23T22:37:23.665Z"
   },
   {
    "duration": 13,
    "start_time": "2021-11-23T22:37:23.672Z"
   },
   {
    "duration": 9,
    "start_time": "2021-11-23T22:37:23.686Z"
   },
   {
    "duration": 4,
    "start_time": "2021-11-23T22:37:23.696Z"
   },
   {
    "duration": 68,
    "start_time": "2021-11-23T22:37:23.701Z"
   },
   {
    "duration": 38,
    "start_time": "2021-11-23T22:37:23.770Z"
   },
   {
    "duration": 6,
    "start_time": "2021-11-23T22:37:23.810Z"
   },
   {
    "duration": 15,
    "start_time": "2021-11-23T22:37:23.817Z"
   },
   {
    "duration": 14,
    "start_time": "2021-11-23T22:37:23.833Z"
   },
   {
    "duration": 5,
    "start_time": "2021-11-23T22:37:23.848Z"
   },
   {
    "duration": 4,
    "start_time": "2021-11-23T22:37:23.855Z"
   },
   {
    "duration": 21,
    "start_time": "2021-11-23T22:37:23.863Z"
   },
   {
    "duration": 4,
    "start_time": "2021-11-23T22:37:23.886Z"
   },
   {
    "duration": 493,
    "start_time": "2021-11-23T22:37:23.891Z"
   },
   {
    "duration": 527,
    "start_time": "2021-11-23T22:37:24.386Z"
   },
   {
    "duration": 4,
    "start_time": "2021-11-23T22:37:24.915Z"
   },
   {
    "duration": 14,
    "start_time": "2021-11-23T22:37:24.920Z"
   },
   {
    "duration": 21,
    "start_time": "2021-11-23T22:37:24.945Z"
   },
   {
    "duration": 82,
    "start_time": "2021-11-23T22:37:24.969Z"
   },
   {
    "duration": 6,
    "start_time": "2021-11-23T22:37:25.053Z"
   },
   {
    "duration": 4,
    "start_time": "2021-11-23T22:37:25.146Z"
   },
   {
    "duration": 99,
    "start_time": "2021-11-23T22:37:25.153Z"
   },
   {
    "duration": 3,
    "start_time": "2021-11-23T22:37:25.254Z"
   },
   {
    "duration": 8,
    "start_time": "2021-11-23T22:37:25.258Z"
   },
   {
    "duration": 7,
    "start_time": "2021-11-23T22:37:25.268Z"
   },
   {
    "duration": 69,
    "start_time": "2021-11-23T22:37:25.277Z"
   },
   {
    "duration": 6,
    "start_time": "2021-11-23T22:37:25.348Z"
   },
   {
    "duration": 90,
    "start_time": "2021-11-23T22:37:25.356Z"
   },
   {
    "duration": 5,
    "start_time": "2021-11-23T22:37:25.448Z"
   },
   {
    "duration": 6,
    "start_time": "2021-11-23T22:37:25.455Z"
   },
   {
    "duration": 83,
    "start_time": "2021-11-23T22:37:25.462Z"
   },
   {
    "duration": 3,
    "start_time": "2021-11-23T22:37:25.547Z"
   },
   {
    "duration": 8,
    "start_time": "2021-11-23T22:37:25.551Z"
   },
   {
    "duration": 5,
    "start_time": "2021-11-23T22:37:25.561Z"
   },
   {
    "duration": 94,
    "start_time": "2021-11-23T22:37:25.568Z"
   },
   {
    "duration": 102,
    "start_time": "2021-11-23T22:37:25.745Z"
   },
   {
    "duration": 23,
    "start_time": "2021-11-23T22:37:25.848Z"
   },
   {
    "duration": 171,
    "start_time": "2021-11-23T22:37:25.873Z"
   },
   {
    "duration": 424,
    "start_time": "2021-11-23T22:38:18.677Z"
   },
   {
    "duration": 316,
    "start_time": "2021-11-23T22:38:41.291Z"
   },
   {
    "duration": 7,
    "start_time": "2021-11-23T22:39:30.289Z"
   },
   {
    "duration": 5,
    "start_time": "2021-11-23T22:40:49.149Z"
   },
   {
    "duration": 4,
    "start_time": "2021-11-23T22:41:19.650Z"
   },
   {
    "duration": 5,
    "start_time": "2021-11-23T22:41:42.971Z"
   },
   {
    "duration": 5,
    "start_time": "2021-11-23T22:41:50.588Z"
   },
   {
    "duration": 4,
    "start_time": "2021-11-23T22:41:58.820Z"
   },
   {
    "duration": 5,
    "start_time": "2021-11-23T22:42:01.278Z"
   },
   {
    "duration": 2518,
    "start_time": "2021-11-23T22:42:13.783Z"
   },
   {
    "duration": 4,
    "start_time": "2021-11-23T22:42:16.303Z"
   },
   {
    "duration": 22,
    "start_time": "2021-11-23T22:42:16.309Z"
   },
   {
    "duration": 4,
    "start_time": "2021-11-23T22:42:16.333Z"
   },
   {
    "duration": 7,
    "start_time": "2021-11-23T22:42:16.339Z"
   },
   {
    "duration": 4,
    "start_time": "2021-11-23T22:42:16.348Z"
   },
   {
    "duration": 8,
    "start_time": "2021-11-23T22:42:16.353Z"
   },
   {
    "duration": 2,
    "start_time": "2021-11-23T22:42:16.364Z"
   },
   {
    "duration": 26,
    "start_time": "2021-11-23T22:42:16.368Z"
   },
   {
    "duration": 4805,
    "start_time": "2021-11-23T22:42:16.396Z"
   },
   {
    "duration": 2,
    "start_time": "2021-11-23T22:42:21.203Z"
   },
   {
    "duration": 5,
    "start_time": "2021-11-23T22:42:21.207Z"
   },
   {
    "duration": 12,
    "start_time": "2021-11-23T22:42:21.214Z"
   },
   {
    "duration": 13,
    "start_time": "2021-11-23T22:42:21.244Z"
   },
   {
    "duration": 4,
    "start_time": "2021-11-23T22:42:21.258Z"
   },
   {
    "duration": 45,
    "start_time": "2021-11-23T22:42:21.263Z"
   },
   {
    "duration": 58,
    "start_time": "2021-11-23T22:42:21.309Z"
   },
   {
    "duration": 8,
    "start_time": "2021-11-23T22:42:21.369Z"
   },
   {
    "duration": 10,
    "start_time": "2021-11-23T22:42:21.378Z"
   },
   {
    "duration": 5,
    "start_time": "2021-11-23T22:42:21.390Z"
   },
   {
    "duration": 4,
    "start_time": "2021-11-23T22:42:21.397Z"
   },
   {
    "duration": 6,
    "start_time": "2021-11-23T22:42:21.403Z"
   },
   {
    "duration": 51,
    "start_time": "2021-11-23T22:42:21.413Z"
   },
   {
    "duration": 4,
    "start_time": "2021-11-23T22:42:21.467Z"
   },
   {
    "duration": 487,
    "start_time": "2021-11-23T22:42:21.473Z"
   },
   {
    "duration": 535,
    "start_time": "2021-11-23T22:42:21.962Z"
   },
   {
    "duration": 4,
    "start_time": "2021-11-23T22:42:22.499Z"
   },
   {
    "duration": 7,
    "start_time": "2021-11-23T22:42:22.505Z"
   },
   {
    "duration": 32,
    "start_time": "2021-11-23T22:42:22.513Z"
   },
   {
    "duration": 11,
    "start_time": "2021-11-23T22:42:22.547Z"
   },
   {
    "duration": 6,
    "start_time": "2021-11-23T22:42:22.644Z"
   },
   {
    "duration": 93,
    "start_time": "2021-11-23T22:42:22.652Z"
   },
   {
    "duration": 12,
    "start_time": "2021-11-23T22:42:22.747Z"
   },
   {
    "duration": 5,
    "start_time": "2021-11-23T22:42:22.761Z"
   },
   {
    "duration": 6,
    "start_time": "2021-11-23T22:42:22.768Z"
   },
   {
    "duration": 3,
    "start_time": "2021-11-23T22:42:22.776Z"
   },
   {
    "duration": 66,
    "start_time": "2021-11-23T22:42:22.781Z"
   },
   {
    "duration": 5,
    "start_time": "2021-11-23T22:42:22.848Z"
   },
   {
    "duration": 6,
    "start_time": "2021-11-23T22:42:22.855Z"
   },
   {
    "duration": 86,
    "start_time": "2021-11-23T22:42:22.863Z"
   },
   {
    "duration": 7,
    "start_time": "2021-11-23T22:42:22.951Z"
   },
   {
    "duration": 85,
    "start_time": "2021-11-23T22:42:22.960Z"
   },
   {
    "duration": 5,
    "start_time": "2021-11-23T22:42:23.047Z"
   },
   {
    "duration": 7,
    "start_time": "2021-11-23T22:42:23.053Z"
   },
   {
    "duration": 6,
    "start_time": "2021-11-23T22:42:23.062Z"
   },
   {
    "duration": 83,
    "start_time": "2021-11-23T22:42:23.070Z"
   },
   {
    "duration": 10,
    "start_time": "2021-11-23T22:42:23.244Z"
   },
   {
    "duration": 4,
    "start_time": "2021-11-23T22:42:23.345Z"
   },
   {
    "duration": 97,
    "start_time": "2021-11-23T22:42:23.352Z"
   },
   {
    "duration": 302,
    "start_time": "2021-11-24T08:56:06.643Z"
   },
   {
    "duration": 6327,
    "start_time": "2021-11-24T08:56:21.436Z"
   },
   {
    "duration": 1298,
    "start_time": "2021-11-24T08:56:27.765Z"
   },
   {
    "duration": 21,
    "start_time": "2021-11-24T08:56:29.065Z"
   },
   {
    "duration": 14,
    "start_time": "2021-11-24T08:56:29.088Z"
   },
   {
    "duration": 25,
    "start_time": "2021-11-24T08:56:29.104Z"
   },
   {
    "duration": 26,
    "start_time": "2021-11-24T08:56:29.131Z"
   },
   {
    "duration": 29,
    "start_time": "2021-11-24T08:56:29.159Z"
   },
   {
    "duration": 13,
    "start_time": "2021-11-24T08:56:29.191Z"
   },
   {
    "duration": 49,
    "start_time": "2021-11-24T08:56:29.206Z"
   },
   {
    "duration": 4810,
    "start_time": "2021-11-24T08:56:29.257Z"
   },
   {
    "duration": 3,
    "start_time": "2021-11-24T08:56:34.070Z"
   },
   {
    "duration": 5,
    "start_time": "2021-11-24T08:56:34.075Z"
   },
   {
    "duration": 16,
    "start_time": "2021-11-24T08:56:34.082Z"
   },
   {
    "duration": 9,
    "start_time": "2021-11-24T08:56:34.100Z"
   },
   {
    "duration": 4,
    "start_time": "2021-11-24T08:56:34.111Z"
   },
   {
    "duration": 73,
    "start_time": "2021-11-24T08:56:34.116Z"
   },
   {
    "duration": 42,
    "start_time": "2021-11-24T08:56:34.191Z"
   },
   {
    "duration": 6,
    "start_time": "2021-11-24T08:56:34.235Z"
   },
   {
    "duration": 29,
    "start_time": "2021-11-24T08:56:34.243Z"
   },
   {
    "duration": 12,
    "start_time": "2021-11-24T08:56:34.273Z"
   },
   {
    "duration": 3,
    "start_time": "2021-11-24T08:56:34.287Z"
   },
   {
    "duration": 6,
    "start_time": "2021-11-24T08:56:34.292Z"
   },
   {
    "duration": 28,
    "start_time": "2021-11-24T08:56:34.302Z"
   },
   {
    "duration": 4,
    "start_time": "2021-11-24T08:56:34.332Z"
   },
   {
    "duration": 498,
    "start_time": "2021-11-24T08:56:34.338Z"
   },
   {
    "duration": 538,
    "start_time": "2021-11-24T08:56:34.838Z"
   },
   {
    "duration": 5,
    "start_time": "2021-11-24T08:56:35.378Z"
   },
   {
    "duration": 6,
    "start_time": "2021-11-24T08:56:35.384Z"
   },
   {
    "duration": 14,
    "start_time": "2021-11-24T08:56:35.392Z"
   },
   {
    "duration": 13,
    "start_time": "2021-11-24T08:56:35.464Z"
   },
   {
    "duration": 98,
    "start_time": "2021-11-24T08:56:35.565Z"
   },
   {
    "duration": 3,
    "start_time": "2021-11-24T08:56:35.666Z"
   },
   {
    "duration": 17,
    "start_time": "2021-11-24T08:56:35.670Z"
   },
   {
    "duration": 11,
    "start_time": "2021-11-24T08:56:35.689Z"
   },
   {
    "duration": 14,
    "start_time": "2021-11-24T08:56:35.701Z"
   },
   {
    "duration": 6,
    "start_time": "2021-11-24T08:56:35.717Z"
   },
   {
    "duration": 5,
    "start_time": "2021-11-24T08:56:35.764Z"
   },
   {
    "duration": 9,
    "start_time": "2021-11-24T08:56:35.772Z"
   },
   {
    "duration": 91,
    "start_time": "2021-11-24T08:56:35.783Z"
   },
   {
    "duration": 10,
    "start_time": "2021-11-24T08:56:35.876Z"
   },
   {
    "duration": 75,
    "start_time": "2021-11-24T08:56:35.888Z"
   },
   {
    "duration": 14,
    "start_time": "2021-11-24T08:56:35.966Z"
   },
   {
    "duration": 93,
    "start_time": "2021-11-24T08:56:35.983Z"
   },
   {
    "duration": 19,
    "start_time": "2021-11-24T08:56:36.078Z"
   },
   {
    "duration": 12,
    "start_time": "2021-11-24T08:56:36.099Z"
   },
   {
    "duration": 61,
    "start_time": "2021-11-24T08:56:36.113Z"
   },
   {
    "duration": 100,
    "start_time": "2021-11-24T08:56:36.265Z"
   },
   {
    "duration": 9,
    "start_time": "2021-11-24T08:56:36.367Z"
   },
   {
    "duration": 88,
    "start_time": "2021-11-24T08:56:36.378Z"
   },
   {
    "duration": 7,
    "start_time": "2021-11-24T08:56:57.553Z"
   },
   {
    "duration": 441,
    "start_time": "2021-11-24T08:58:01.279Z"
   },
   {
    "duration": 346,
    "start_time": "2021-11-24T08:58:44.379Z"
   },
   {
    "duration": 417,
    "start_time": "2021-11-24T09:01:32.559Z"
   },
   {
    "duration": 537,
    "start_time": "2021-11-24T09:08:15.090Z"
   },
   {
    "duration": 3,
    "start_time": "2021-11-24T09:13:45.557Z"
   },
   {
    "duration": 402,
    "start_time": "2021-11-24T09:13:58.258Z"
   },
   {
    "duration": 85,
    "start_time": "2021-11-24T09:14:04.321Z"
   },
   {
    "duration": 495,
    "start_time": "2021-11-24T09:14:11.372Z"
   },
   {
    "duration": 81,
    "start_time": "2021-11-24T09:15:17.946Z"
   },
   {
    "duration": 6,
    "start_time": "2021-11-24T09:15:27.587Z"
   },
   {
    "duration": 5,
    "start_time": "2021-11-24T09:15:36.321Z"
   },
   {
    "duration": 4,
    "start_time": "2021-11-24T09:15:39.371Z"
   },
   {
    "duration": 4,
    "start_time": "2021-11-24T09:16:37.140Z"
   },
   {
    "duration": 9,
    "start_time": "2021-11-24T09:16:52.914Z"
   },
   {
    "duration": 6,
    "start_time": "2021-11-24T09:17:03.356Z"
   },
   {
    "duration": 2889,
    "start_time": "2021-11-24T09:17:30.256Z"
   },
   {
    "duration": 4,
    "start_time": "2021-11-24T09:17:33.148Z"
   },
   {
    "duration": 67,
    "start_time": "2021-11-24T09:17:33.154Z"
   },
   {
    "duration": 41,
    "start_time": "2021-11-24T09:17:33.224Z"
   },
   {
    "duration": 47,
    "start_time": "2021-11-24T09:17:33.266Z"
   },
   {
    "duration": 48,
    "start_time": "2021-11-24T09:17:33.315Z"
   },
   {
    "duration": 54,
    "start_time": "2021-11-24T09:17:33.365Z"
   },
   {
    "duration": 33,
    "start_time": "2021-11-24T09:17:33.422Z"
   },
   {
    "duration": 53,
    "start_time": "2021-11-24T09:17:33.457Z"
   },
   {
    "duration": 5620,
    "start_time": "2021-11-24T09:17:33.512Z"
   },
   {
    "duration": 3,
    "start_time": "2021-11-24T09:17:39.134Z"
   },
   {
    "duration": 26,
    "start_time": "2021-11-24T09:17:39.139Z"
   },
   {
    "duration": 27,
    "start_time": "2021-11-24T09:17:39.167Z"
   },
   {
    "duration": 26,
    "start_time": "2021-11-24T09:17:39.196Z"
   },
   {
    "duration": 8,
    "start_time": "2021-11-24T09:17:39.224Z"
   },
   {
    "duration": 63,
    "start_time": "2021-11-24T09:17:39.234Z"
   },
   {
    "duration": 45,
    "start_time": "2021-11-24T09:17:39.299Z"
   },
   {
    "duration": 19,
    "start_time": "2021-11-24T09:17:39.346Z"
   },
   {
    "duration": 9,
    "start_time": "2021-11-24T09:17:39.367Z"
   },
   {
    "duration": 8,
    "start_time": "2021-11-24T09:17:39.378Z"
   },
   {
    "duration": 7,
    "start_time": "2021-11-24T09:17:39.388Z"
   },
   {
    "duration": 9,
    "start_time": "2021-11-24T09:17:39.397Z"
   },
   {
    "duration": 28,
    "start_time": "2021-11-24T09:17:39.411Z"
   },
   {
    "duration": 4,
    "start_time": "2021-11-24T09:17:39.464Z"
   },
   {
    "duration": 510,
    "start_time": "2021-11-24T09:17:39.470Z"
   },
   {
    "duration": 552,
    "start_time": "2021-11-24T09:17:39.982Z"
   },
   {
    "duration": 4,
    "start_time": "2021-11-24T09:17:40.536Z"
   },
   {
    "duration": 22,
    "start_time": "2021-11-24T09:17:40.542Z"
   },
   {
    "duration": 18,
    "start_time": "2021-11-24T09:17:40.566Z"
   },
   {
    "duration": 82,
    "start_time": "2021-11-24T09:17:40.587Z"
   },
   {
    "duration": 7,
    "start_time": "2021-11-24T09:17:40.671Z"
   },
   {
    "duration": 6,
    "start_time": "2021-11-24T09:17:40.765Z"
   },
   {
    "duration": 96,
    "start_time": "2021-11-24T09:17:40.774Z"
   },
   {
    "duration": 5,
    "start_time": "2021-11-24T09:17:40.872Z"
   },
   {
    "duration": 7,
    "start_time": "2021-11-24T09:17:40.879Z"
   },
   {
    "duration": 7,
    "start_time": "2021-11-24T09:17:40.888Z"
   },
   {
    "duration": 6,
    "start_time": "2021-11-24T09:17:40.964Z"
   },
   {
    "duration": 5,
    "start_time": "2021-11-24T09:17:40.972Z"
   },
   {
    "duration": 88,
    "start_time": "2021-11-24T09:17:40.979Z"
   },
   {
    "duration": 8,
    "start_time": "2021-11-24T09:17:41.069Z"
   },
   {
    "duration": 85,
    "start_time": "2021-11-24T09:17:41.079Z"
   },
   {
    "duration": 8,
    "start_time": "2021-11-24T09:17:41.167Z"
   },
   {
    "duration": 87,
    "start_time": "2021-11-24T09:17:41.178Z"
   },
   {
    "duration": 9,
    "start_time": "2021-11-24T09:17:41.267Z"
   },
   {
    "duration": 7,
    "start_time": "2021-11-24T09:17:41.279Z"
   },
   {
    "duration": 86,
    "start_time": "2021-11-24T09:17:41.289Z"
   },
   {
    "duration": 93,
    "start_time": "2021-11-24T09:17:41.378Z"
   },
   {
    "duration": 5,
    "start_time": "2021-11-24T09:17:41.564Z"
   },
   {
    "duration": 97,
    "start_time": "2021-11-24T09:17:41.571Z"
   },
   {
    "duration": 6,
    "start_time": "2021-11-24T09:19:17.294Z"
   },
   {
    "duration": 6,
    "start_time": "2021-11-24T09:19:34.471Z"
   },
   {
    "duration": 11392,
    "start_time": "2021-11-25T09:36:58.781Z"
   },
   {
    "duration": 1654,
    "start_time": "2021-11-25T09:37:10.177Z"
   },
   {
    "duration": 46,
    "start_time": "2021-11-25T09:37:11.835Z"
   },
   {
    "duration": 6,
    "start_time": "2021-11-25T09:37:11.884Z"
   },
   {
    "duration": 19,
    "start_time": "2021-11-25T09:37:11.893Z"
   },
   {
    "duration": 4,
    "start_time": "2021-11-25T09:37:11.915Z"
   },
   {
    "duration": 12,
    "start_time": "2021-11-25T09:37:11.922Z"
   },
   {
    "duration": 3,
    "start_time": "2021-11-25T09:37:11.938Z"
   },
   {
    "duration": 92,
    "start_time": "2021-11-25T09:37:11.945Z"
   },
   {
    "duration": 14518,
    "start_time": "2021-11-25T09:37:12.041Z"
   },
   {
    "duration": 4,
    "start_time": "2021-11-25T09:37:26.567Z"
   },
   {
    "duration": 11,
    "start_time": "2021-11-25T09:37:26.574Z"
   },
   {
    "duration": 27,
    "start_time": "2021-11-25T09:37:26.587Z"
   },
   {
    "duration": 16,
    "start_time": "2021-11-25T09:37:26.616Z"
   },
   {
    "duration": 35,
    "start_time": "2021-11-25T09:37:26.634Z"
   },
   {
    "duration": 95,
    "start_time": "2021-11-25T09:37:26.672Z"
   },
   {
    "duration": 70,
    "start_time": "2021-11-25T09:37:26.770Z"
   },
   {
    "duration": 30,
    "start_time": "2021-11-25T09:37:26.843Z"
   },
   {
    "duration": 15,
    "start_time": "2021-11-25T09:37:26.875Z"
   },
   {
    "duration": 5,
    "start_time": "2021-11-25T09:37:26.892Z"
   },
   {
    "duration": 6,
    "start_time": "2021-11-25T09:37:26.899Z"
   },
   {
    "duration": 59,
    "start_time": "2021-11-25T09:37:26.908Z"
   },
   {
    "duration": 32,
    "start_time": "2021-11-25T09:37:26.973Z"
   },
   {
    "duration": 6,
    "start_time": "2021-11-25T09:37:27.008Z"
   },
   {
    "duration": 893,
    "start_time": "2021-11-25T09:37:27.016Z"
   },
   {
    "duration": 939,
    "start_time": "2021-11-25T09:37:27.911Z"
   },
   {
    "duration": 15,
    "start_time": "2021-11-25T09:37:28.852Z"
   },
   {
    "duration": 6,
    "start_time": "2021-11-25T09:37:28.871Z"
   },
   {
    "duration": 21,
    "start_time": "2021-11-25T09:37:28.880Z"
   },
   {
    "duration": 163,
    "start_time": "2021-11-25T09:37:28.905Z"
   },
   {
    "duration": 9,
    "start_time": "2021-11-25T09:37:29.073Z"
   },
   {
    "duration": 4,
    "start_time": "2021-11-25T09:37:29.167Z"
   },
   {
    "duration": 28,
    "start_time": "2021-11-25T09:37:29.174Z"
   },
   {
    "duration": 11,
    "start_time": "2021-11-25T09:37:29.204Z"
   },
   {
    "duration": 11,
    "start_time": "2021-11-25T09:37:29.218Z"
   },
   {
    "duration": 5,
    "start_time": "2021-11-25T09:37:29.269Z"
   },
   {
    "duration": 92,
    "start_time": "2021-11-25T09:37:29.277Z"
   },
   {
    "duration": 9,
    "start_time": "2021-11-25T09:37:29.372Z"
   },
   {
    "duration": 8,
    "start_time": "2021-11-25T09:37:29.384Z"
   },
   {
    "duration": 80,
    "start_time": "2021-11-25T09:37:29.396Z"
   },
   {
    "duration": 89,
    "start_time": "2021-11-25T09:37:29.480Z"
   },
   {
    "duration": 8,
    "start_time": "2021-11-25T09:37:29.571Z"
   },
   {
    "duration": 6,
    "start_time": "2021-11-25T09:37:29.582Z"
   },
   {
    "duration": 76,
    "start_time": "2021-11-25T09:37:29.591Z"
   },
   {
    "duration": 10,
    "start_time": "2021-11-25T09:37:29.672Z"
   },
   {
    "duration": 89,
    "start_time": "2021-11-25T09:37:29.686Z"
   },
   {
    "duration": 96,
    "start_time": "2021-11-25T09:37:29.779Z"
   },
   {
    "duration": 91,
    "start_time": "2021-11-25T09:37:29.879Z"
   },
   {
    "duration": 99,
    "start_time": "2021-11-25T09:37:29.974Z"
   },
   {
    "duration": 4294,
    "start_time": "2021-11-25T09:37:56.164Z"
   },
   {
    "duration": 8,
    "start_time": "2021-11-25T09:38:00.462Z"
   },
   {
    "duration": 37,
    "start_time": "2021-11-25T09:38:00.475Z"
   },
   {
    "duration": 15,
    "start_time": "2021-11-25T09:38:00.515Z"
   },
   {
    "duration": 25,
    "start_time": "2021-11-25T09:38:00.533Z"
   },
   {
    "duration": 10,
    "start_time": "2021-11-25T09:38:00.561Z"
   },
   {
    "duration": 21,
    "start_time": "2021-11-25T09:38:00.574Z"
   },
   {
    "duration": 9,
    "start_time": "2021-11-25T09:38:00.601Z"
   },
   {
    "duration": 51,
    "start_time": "2021-11-25T09:38:00.614Z"
   },
   {
    "duration": 10349,
    "start_time": "2021-11-25T09:38:00.668Z"
   },
   {
    "duration": 4,
    "start_time": "2021-11-25T09:38:11.020Z"
   },
   {
    "duration": 15,
    "start_time": "2021-11-25T09:38:11.026Z"
   },
   {
    "duration": 33,
    "start_time": "2021-11-25T09:38:11.044Z"
   },
   {
    "duration": 18,
    "start_time": "2021-11-25T09:38:11.079Z"
   },
   {
    "duration": 9,
    "start_time": "2021-11-25T09:38:11.100Z"
   },
   {
    "duration": 119,
    "start_time": "2021-11-25T09:38:11.112Z"
   },
   {
    "duration": 105,
    "start_time": "2021-11-25T09:38:11.234Z"
   },
   {
    "duration": 30,
    "start_time": "2021-11-25T09:38:11.341Z"
   },
   {
    "duration": 17,
    "start_time": "2021-11-25T09:38:11.373Z"
   },
   {
    "duration": 6,
    "start_time": "2021-11-25T09:38:11.393Z"
   },
   {
    "duration": 7,
    "start_time": "2021-11-25T09:38:11.402Z"
   },
   {
    "duration": 7,
    "start_time": "2021-11-25T09:38:11.411Z"
   },
   {
    "duration": 49,
    "start_time": "2021-11-25T09:38:11.469Z"
   },
   {
    "duration": 6,
    "start_time": "2021-11-25T09:38:11.521Z"
   },
   {
    "duration": 981,
    "start_time": "2021-11-25T09:38:11.529Z"
   },
   {
    "duration": 1024,
    "start_time": "2021-11-25T09:38:12.514Z"
   },
   {
    "duration": 7,
    "start_time": "2021-11-25T09:38:13.540Z"
   },
   {
    "duration": 9,
    "start_time": "2021-11-25T09:38:13.549Z"
   },
   {
    "duration": 20,
    "start_time": "2021-11-25T09:38:13.568Z"
   },
   {
    "duration": 107,
    "start_time": "2021-11-25T09:38:13.669Z"
   },
   {
    "duration": 88,
    "start_time": "2021-11-25T09:38:13.780Z"
   },
   {
    "duration": 9,
    "start_time": "2021-11-25T09:38:13.872Z"
   },
   {
    "duration": 18,
    "start_time": "2021-11-25T09:38:13.969Z"
   },
   {
    "duration": 5,
    "start_time": "2021-11-25T09:38:13.989Z"
   },
   {
    "duration": 11,
    "start_time": "2021-11-25T09:38:13.996Z"
   },
   {
    "duration": 4,
    "start_time": "2021-11-25T09:38:14.068Z"
   },
   {
    "duration": 9,
    "start_time": "2021-11-25T09:38:14.075Z"
   },
   {
    "duration": 84,
    "start_time": "2021-11-25T09:38:14.086Z"
   },
   {
    "duration": 10,
    "start_time": "2021-11-25T09:38:14.173Z"
   },
   {
    "duration": 84,
    "start_time": "2021-11-25T09:38:14.186Z"
   },
   {
    "duration": 8,
    "start_time": "2021-11-25T09:38:14.273Z"
   },
   {
    "duration": 90,
    "start_time": "2021-11-25T09:38:14.284Z"
   },
   {
    "duration": 11,
    "start_time": "2021-11-25T09:38:14.376Z"
   },
   {
    "duration": 16,
    "start_time": "2021-11-25T09:38:14.389Z"
   },
   {
    "duration": 159,
    "start_time": "2021-11-25T09:38:14.408Z"
   },
   {
    "duration": 98,
    "start_time": "2021-11-25T09:38:14.570Z"
   },
   {
    "duration": 102,
    "start_time": "2021-11-25T09:38:14.674Z"
   },
   {
    "duration": 7,
    "start_time": "2021-11-25T09:38:14.779Z"
   },
   {
    "duration": 179,
    "start_time": "2021-11-25T09:38:14.790Z"
   },
   {
    "duration": 9,
    "start_time": "2021-11-25T10:53:53.179Z"
   },
   {
    "duration": 10,
    "start_time": "2021-11-25T10:57:03.465Z"
   },
   {
    "duration": 766,
    "start_time": "2021-11-25T10:57:52.258Z"
   },
   {
    "duration": 138,
    "start_time": "2021-11-25T10:58:03.096Z"
   },
   {
    "duration": 9614,
    "start_time": "2021-11-25T10:58:12.257Z"
   },
   {
    "duration": 5853,
    "start_time": "2021-11-25T10:58:33.074Z"
   },
   {
    "duration": 11,
    "start_time": "2021-11-25T11:00:29.586Z"
   },
   {
    "duration": 9,
    "start_time": "2021-11-25T11:01:35.573Z"
   },
   {
    "duration": 9,
    "start_time": "2021-11-25T11:01:37.234Z"
   },
   {
    "duration": 313,
    "start_time": "2021-11-25T11:01:51.075Z"
   },
   {
    "duration": 11,
    "start_time": "2021-11-25T11:05:05.435Z"
   },
   {
    "duration": 9,
    "start_time": "2021-11-25T11:05:15.378Z"
   },
   {
    "duration": 29,
    "start_time": "2021-11-25T11:05:32.297Z"
   },
   {
    "duration": 22,
    "start_time": "2021-11-25T11:06:18.749Z"
   },
   {
    "duration": 21,
    "start_time": "2021-11-25T11:06:40.212Z"
   },
   {
    "duration": 292,
    "start_time": "2021-11-25T11:07:15.189Z"
   },
   {
    "duration": 8,
    "start_time": "2021-11-25T11:07:26.312Z"
   },
   {
    "duration": 320,
    "start_time": "2021-11-25T11:07:29.308Z"
   },
   {
    "duration": 308,
    "start_time": "2021-11-25T11:07:58.251Z"
   },
   {
    "duration": 22,
    "start_time": "2021-11-25T11:08:10.508Z"
   },
   {
    "duration": 22,
    "start_time": "2021-11-25T11:08:23.819Z"
   },
   {
    "duration": 24,
    "start_time": "2021-11-25T11:08:47.707Z"
   },
   {
    "duration": 23,
    "start_time": "2021-11-25T11:09:19.491Z"
   },
   {
    "duration": 71,
    "start_time": "2021-11-25T11:55:19.660Z"
   },
   {
    "duration": 83,
    "start_time": "2021-11-25T11:56:05.741Z"
   },
   {
    "duration": 69,
    "start_time": "2021-11-25T11:57:07.590Z"
   },
   {
    "duration": 70,
    "start_time": "2021-11-25T11:57:23.188Z"
   },
   {
    "duration": 69,
    "start_time": "2021-11-25T11:57:32.204Z"
   },
   {
    "duration": 11,
    "start_time": "2021-11-25T11:59:46.709Z"
   },
   {
    "duration": 101,
    "start_time": "2021-11-25T12:05:06.576Z"
   },
   {
    "duration": 11,
    "start_time": "2021-11-25T13:02:53.748Z"
   },
   {
    "duration": 7,
    "start_time": "2021-11-25T13:02:58.978Z"
   },
   {
    "duration": 9,
    "start_time": "2021-11-25T13:03:02.421Z"
   },
   {
    "duration": 110,
    "start_time": "2021-11-25T13:04:34.629Z"
   },
   {
    "duration": 4277,
    "start_time": "2021-11-25T13:04:49.248Z"
   },
   {
    "duration": 6,
    "start_time": "2021-11-25T13:04:53.529Z"
   },
   {
    "duration": 47,
    "start_time": "2021-11-25T13:04:53.539Z"
   },
   {
    "duration": 8,
    "start_time": "2021-11-25T13:04:53.589Z"
   },
   {
    "duration": 13,
    "start_time": "2021-11-25T13:04:53.600Z"
   },
   {
    "duration": 6,
    "start_time": "2021-11-25T13:04:53.616Z"
   },
   {
    "duration": 19,
    "start_time": "2021-11-25T13:04:53.625Z"
   },
   {
    "duration": 20,
    "start_time": "2021-11-25T13:04:53.648Z"
   },
   {
    "duration": 38,
    "start_time": "2021-11-25T13:04:53.671Z"
   },
   {
    "duration": 8,
    "start_time": "2021-11-25T13:04:53.712Z"
   },
   {
    "duration": 10,
    "start_time": "2021-11-25T13:04:53.722Z"
   },
   {
    "duration": 22,
    "start_time": "2021-11-25T13:04:53.768Z"
   },
   {
    "duration": 9017,
    "start_time": "2021-11-25T13:04:53.792Z"
   },
   {
    "duration": 5,
    "start_time": "2021-11-25T13:05:02.812Z"
   },
   {
    "duration": 9,
    "start_time": "2021-11-25T13:05:02.820Z"
   },
   {
    "duration": 45,
    "start_time": "2021-11-25T13:05:02.832Z"
   },
   {
    "duration": 17,
    "start_time": "2021-11-25T13:05:02.880Z"
   },
   {
    "duration": 7,
    "start_time": "2021-11-25T13:05:02.900Z"
   },
   {
    "duration": 105,
    "start_time": "2021-11-25T13:05:02.910Z"
   },
   {
    "duration": 81,
    "start_time": "2021-11-25T13:05:03.018Z"
   },
   {
    "duration": 10,
    "start_time": "2021-11-25T13:05:03.102Z"
   },
   {
    "duration": 16,
    "start_time": "2021-11-25T13:05:03.115Z"
   },
   {
    "duration": 32,
    "start_time": "2021-11-25T13:05:03.139Z"
   },
   {
    "duration": 7,
    "start_time": "2021-11-25T13:05:03.175Z"
   },
   {
    "duration": 12,
    "start_time": "2021-11-25T13:05:03.185Z"
   },
   {
    "duration": 71,
    "start_time": "2021-11-25T13:05:03.200Z"
   },
   {
    "duration": 7,
    "start_time": "2021-11-25T13:05:03.274Z"
   },
   {
    "duration": 908,
    "start_time": "2021-11-25T13:05:03.284Z"
   },
   {
    "duration": 1005,
    "start_time": "2021-11-25T13:05:04.194Z"
   },
   {
    "duration": 7,
    "start_time": "2021-11-25T13:05:05.201Z"
   },
   {
    "duration": 24,
    "start_time": "2021-11-25T13:05:05.210Z"
   },
   {
    "duration": 39,
    "start_time": "2021-11-25T13:05:05.236Z"
   },
   {
    "duration": 97,
    "start_time": "2021-11-25T13:05:05.279Z"
   },
   {
    "duration": 93,
    "start_time": "2021-11-25T13:05:05.381Z"
   },
   {
    "duration": 91,
    "start_time": "2021-11-25T13:05:05.478Z"
   },
   {
    "duration": 16,
    "start_time": "2021-11-25T13:05:05.572Z"
   },
   {
    "duration": 8,
    "start_time": "2021-11-25T13:05:05.590Z"
   },
   {
    "duration": 11,
    "start_time": "2021-11-25T13:05:05.600Z"
   },
   {
    "duration": 5,
    "start_time": "2021-11-25T13:05:05.668Z"
   },
   {
    "duration": 92,
    "start_time": "2021-11-25T13:05:05.677Z"
   },
   {
    "duration": 7,
    "start_time": "2021-11-25T13:05:05.773Z"
   },
   {
    "duration": 9,
    "start_time": "2021-11-25T13:05:05.782Z"
   },
   {
    "duration": 80,
    "start_time": "2021-11-25T13:05:05.794Z"
   },
   {
    "duration": 7,
    "start_time": "2021-11-25T13:05:05.877Z"
   },
   {
    "duration": 86,
    "start_time": "2021-11-25T13:05:05.886Z"
   },
   {
    "duration": 14,
    "start_time": "2021-11-25T13:05:05.975Z"
   },
   {
    "duration": 20,
    "start_time": "2021-11-25T13:05:05.991Z"
   },
   {
    "duration": 62,
    "start_time": "2021-11-25T13:05:06.014Z"
   },
   {
    "duration": 93,
    "start_time": "2021-11-25T13:05:06.079Z"
   },
   {
    "duration": 102,
    "start_time": "2021-11-25T13:05:06.176Z"
   },
   {
    "duration": 102,
    "start_time": "2021-11-25T13:05:06.282Z"
   },
   {
    "duration": 12,
    "start_time": "2021-11-25T13:05:06.470Z"
   },
   {
    "duration": 5,
    "start_time": "2021-11-25T13:12:58.861Z"
   },
   {
    "duration": 4928,
    "start_time": "2021-11-25T13:30:53.151Z"
   },
   {
    "duration": 7,
    "start_time": "2021-11-25T13:30:58.082Z"
   },
   {
    "duration": 24,
    "start_time": "2021-11-25T13:30:58.093Z"
   },
   {
    "duration": 8,
    "start_time": "2021-11-25T13:30:58.120Z"
   },
   {
    "duration": 14,
    "start_time": "2021-11-25T13:30:58.130Z"
   },
   {
    "duration": 22,
    "start_time": "2021-11-25T13:30:58.148Z"
   },
   {
    "duration": 12,
    "start_time": "2021-11-25T13:30:58.173Z"
   },
   {
    "duration": 4,
    "start_time": "2021-11-25T13:30:58.188Z"
   },
   {
    "duration": 69,
    "start_time": "2021-11-25T13:30:58.198Z"
   },
   {
    "duration": 11,
    "start_time": "2021-11-25T13:30:58.272Z"
   },
   {
    "duration": 11,
    "start_time": "2021-11-25T13:30:58.286Z"
   },
   {
    "duration": 28,
    "start_time": "2021-11-25T13:30:58.300Z"
   },
   {
    "duration": 9000,
    "start_time": "2021-11-25T13:30:58.368Z"
   },
   {
    "duration": 4,
    "start_time": "2021-11-25T13:31:07.370Z"
   },
   {
    "duration": 9,
    "start_time": "2021-11-25T13:31:07.376Z"
   },
   {
    "duration": 21,
    "start_time": "2021-11-25T13:31:07.387Z"
   },
   {
    "duration": 17,
    "start_time": "2021-11-25T13:31:07.411Z"
   },
   {
    "duration": 38,
    "start_time": "2021-11-25T13:31:07.430Z"
   },
   {
    "duration": 80,
    "start_time": "2021-11-25T13:31:07.471Z"
   },
   {
    "duration": 77,
    "start_time": "2021-11-25T13:31:07.553Z"
   },
   {
    "duration": 10,
    "start_time": "2021-11-25T13:31:07.632Z"
   },
   {
    "duration": 30,
    "start_time": "2021-11-25T13:31:07.644Z"
   },
   {
    "duration": 8,
    "start_time": "2021-11-25T13:31:07.676Z"
   },
   {
    "duration": 5,
    "start_time": "2021-11-25T13:31:07.686Z"
   },
   {
    "duration": 7,
    "start_time": "2021-11-25T13:31:07.693Z"
   },
   {
    "duration": 69,
    "start_time": "2021-11-25T13:31:07.702Z"
   },
   {
    "duration": 6,
    "start_time": "2021-11-25T13:31:07.778Z"
   },
   {
    "duration": 868,
    "start_time": "2021-11-25T13:31:07.788Z"
   },
   {
    "duration": 921,
    "start_time": "2021-11-25T13:31:08.659Z"
   },
   {
    "duration": 7,
    "start_time": "2021-11-25T13:31:09.583Z"
   },
   {
    "duration": 6,
    "start_time": "2021-11-25T13:31:09.594Z"
   },
   {
    "duration": 17,
    "start_time": "2021-11-25T13:31:09.602Z"
   },
   {
    "duration": 14,
    "start_time": "2021-11-25T13:31:09.668Z"
   },
   {
    "duration": 10,
    "start_time": "2021-11-25T13:31:09.769Z"
   },
   {
    "duration": 7,
    "start_time": "2021-11-25T13:31:09.866Z"
   },
   {
    "duration": 14,
    "start_time": "2021-11-25T13:31:09.875Z"
   },
   {
    "duration": 7,
    "start_time": "2021-11-25T13:31:09.891Z"
   },
   {
    "duration": 14,
    "start_time": "2021-11-25T13:31:09.901Z"
   },
   {
    "duration": 5,
    "start_time": "2021-11-25T13:31:09.969Z"
   },
   {
    "duration": 93,
    "start_time": "2021-11-25T13:31:09.977Z"
   },
   {
    "duration": 6,
    "start_time": "2021-11-25T13:31:10.072Z"
   },
   {
    "duration": 11,
    "start_time": "2021-11-25T13:31:10.080Z"
   },
   {
    "duration": 82,
    "start_time": "2021-11-25T13:31:10.094Z"
   },
   {
    "duration": 93,
    "start_time": "2021-11-25T13:31:10.179Z"
   },
   {
    "duration": 11,
    "start_time": "2021-11-25T13:31:10.275Z"
   },
   {
    "duration": 7,
    "start_time": "2021-11-25T13:31:10.289Z"
   },
   {
    "duration": 12,
    "start_time": "2021-11-25T13:31:10.299Z"
   },
   {
    "duration": 59,
    "start_time": "2021-11-25T13:31:10.314Z"
   },
   {
    "duration": 104,
    "start_time": "2021-11-25T13:31:10.376Z"
   },
   {
    "duration": 88,
    "start_time": "2021-11-25T13:31:10.483Z"
   },
   {
    "duration": 102,
    "start_time": "2021-11-25T13:31:10.577Z"
   },
   {
    "duration": 99,
    "start_time": "2021-11-25T13:31:10.769Z"
   },
   {
    "duration": 61,
    "start_time": "2021-11-25T19:03:33.691Z"
   },
   {
    "duration": 72,
    "start_time": "2021-11-25T19:08:32.795Z"
   },
   {
    "duration": 8049,
    "start_time": "2021-11-25T19:08:59.392Z"
   },
   {
    "duration": 1119,
    "start_time": "2021-11-25T19:09:07.443Z"
   },
   {
    "duration": 50,
    "start_time": "2021-11-25T19:09:08.564Z"
   },
   {
    "duration": 4,
    "start_time": "2021-11-25T19:09:08.617Z"
   },
   {
    "duration": 13,
    "start_time": "2021-11-25T19:09:08.622Z"
   },
   {
    "duration": 11,
    "start_time": "2021-11-25T19:09:08.636Z"
   },
   {
    "duration": 7,
    "start_time": "2021-11-25T19:09:08.648Z"
   },
   {
    "duration": 3,
    "start_time": "2021-11-25T19:09:08.657Z"
   },
   {
    "duration": 27,
    "start_time": "2021-11-25T19:09:08.662Z"
   },
   {
    "duration": 4,
    "start_time": "2021-11-25T19:09:08.691Z"
   },
   {
    "duration": 21,
    "start_time": "2021-11-25T19:09:08.697Z"
   },
   {
    "duration": 25,
    "start_time": "2021-11-25T19:09:08.720Z"
   },
   {
    "duration": 5221,
    "start_time": "2021-11-25T19:09:08.747Z"
   },
   {
    "duration": 2,
    "start_time": "2021-11-25T19:09:13.970Z"
   },
   {
    "duration": 6,
    "start_time": "2021-11-25T19:09:13.974Z"
   },
   {
    "duration": 11,
    "start_time": "2021-11-25T19:09:13.991Z"
   },
   {
    "duration": 9,
    "start_time": "2021-11-25T19:09:14.003Z"
   },
   {
    "duration": 4,
    "start_time": "2021-11-25T19:09:14.014Z"
   },
   {
    "duration": 45,
    "start_time": "2021-11-25T19:09:14.019Z"
   },
   {
    "duration": 67,
    "start_time": "2021-11-25T19:09:14.065Z"
   },
   {
    "duration": 6,
    "start_time": "2021-11-25T19:09:14.133Z"
   },
   {
    "duration": 15,
    "start_time": "2021-11-25T19:09:14.141Z"
   },
   {
    "duration": 13,
    "start_time": "2021-11-25T19:09:14.160Z"
   },
   {
    "duration": 4,
    "start_time": "2021-11-25T19:09:14.176Z"
   },
   {
    "duration": 2,
    "start_time": "2021-11-25T19:09:14.192Z"
   },
   {
    "duration": 26,
    "start_time": "2021-11-25T19:09:14.196Z"
   },
   {
    "duration": 4,
    "start_time": "2021-11-25T19:09:14.224Z"
   },
   {
    "duration": 481,
    "start_time": "2021-11-25T19:09:14.230Z"
   },
   {
    "duration": 537,
    "start_time": "2021-11-25T19:09:14.712Z"
   },
   {
    "duration": 4,
    "start_time": "2021-11-25T19:09:15.251Z"
   },
   {
    "duration": 6,
    "start_time": "2021-11-25T19:09:15.256Z"
   },
   {
    "duration": 30,
    "start_time": "2021-11-25T19:09:15.264Z"
   },
   {
    "duration": 10,
    "start_time": "2021-11-25T19:09:15.296Z"
   },
   {
    "duration": 6,
    "start_time": "2021-11-25T19:09:15.392Z"
   },
   {
    "duration": 5,
    "start_time": "2021-11-25T19:09:15.400Z"
   },
   {
    "duration": 91,
    "start_time": "2021-11-25T19:09:15.407Z"
   },
   {
    "duration": 7,
    "start_time": "2021-11-25T19:09:15.500Z"
   },
   {
    "duration": 7,
    "start_time": "2021-11-25T19:09:15.508Z"
   },
   {
    "duration": 5,
    "start_time": "2021-11-25T19:09:15.517Z"
   },
   {
    "duration": 72,
    "start_time": "2021-11-25T19:09:15.524Z"
   },
   {
    "duration": 6,
    "start_time": "2021-11-25T19:09:15.598Z"
   },
   {
    "duration": 88,
    "start_time": "2021-11-25T19:09:15.606Z"
   },
   {
    "duration": 6,
    "start_time": "2021-11-25T19:09:15.696Z"
   },
   {
    "duration": 88,
    "start_time": "2021-11-25T19:09:15.704Z"
   },
   {
    "duration": 4,
    "start_time": "2021-11-25T19:09:15.794Z"
   },
   {
    "duration": 6,
    "start_time": "2021-11-25T19:09:15.800Z"
   },
   {
    "duration": 8,
    "start_time": "2021-11-25T19:09:15.807Z"
   },
   {
    "duration": 6,
    "start_time": "2021-11-25T19:09:15.816Z"
   },
   {
    "duration": 77,
    "start_time": "2021-11-25T19:09:15.824Z"
   },
   {
    "duration": 6,
    "start_time": "2021-11-25T19:09:15.992Z"
   },
   {
    "duration": 104,
    "start_time": "2021-11-25T19:09:16.000Z"
   },
   {
    "duration": 86,
    "start_time": "2021-11-25T19:09:16.107Z"
   }
  ],
  "kernelspec": {
   "display_name": "Python 3",
   "language": "python",
   "name": "python3"
  },
  "language_info": {
   "codemirror_mode": {
    "name": "ipython",
    "version": 3
   },
   "file_extension": ".py",
   "mimetype": "text/x-python",
   "name": "python",
   "nbconvert_exporter": "python",
   "pygments_lexer": "ipython3",
   "version": "3.8.5"
  },
  "toc": {
   "base_numbering": 1,
   "nav_menu": {},
   "number_sections": true,
   "sideBar": true,
   "skip_h1_title": true,
   "title_cell": "Table of Contents",
   "title_sidebar": "Contents",
   "toc_cell": false,
   "toc_position": {},
   "toc_section_display": true,
   "toc_window_display": false
  }
 },
 "nbformat": 4,
 "nbformat_minor": 4
}
