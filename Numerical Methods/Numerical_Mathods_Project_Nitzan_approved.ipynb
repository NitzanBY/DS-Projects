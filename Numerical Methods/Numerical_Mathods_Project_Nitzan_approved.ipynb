{
 "cells": [
  {
   "cell_type": "markdown",
   "metadata": {},
   "source": [
    "# Numerical Methods Project\n",
    "### Project Description:"
   ]
  },
  {
   "cell_type": "markdown",
   "metadata": {},
   "source": [
    "Rusty Bargain used car sales service is developing an app to attract new customers. In that app, you can quickly find out the market value of your car. You have access to historical data: technical specifications, trim versions, and prices. You need to build the model to determine the value. \n",
    "\n",
    "Rusty Bargain is interested in:\n",
    "\n",
    "- the quality of the prediction;\n",
    "- the speed of the prediction;\n",
    "- the time required for training"
   ]
  },
  {
   "cell_type": "markdown",
   "metadata": {},
   "source": [
    "The information given is as follows:\n",
    "\n",
    "Features:\n",
    "\n",
    "- DateCrawled — date profile was downloaded from the database\n",
    "- VehicleType — vehicle body type\n",
    "- RegistrationYear — vehicle registration year\n",
    "- Gearbox — gearbox type\n",
    "- Power — power (hp)\n",
    "- Model — vehicle model\n",
    "- Mileage — mileage (measured in km due to dataset's regional specifics)\n",
    "- RegistrationMonth — vehicle registration month\n",
    "- FuelType — fuel type\n",
    "- Brand — vehicle brand\n",
    "- NotRepaired — vehicle repaired or not\n",
    "- DateCreated — date of profile creation\n",
    "- NumberOfPictures — number of vehicle pictures\n",
    "- PostalCode — postal code of profile owner (user)\n",
    "- LastSeen — date of the last activity of the user\n",
    "\n",
    "Target:\n",
    "\n",
    "- Price — price (Euro)"
   ]
  },
  {
   "cell_type": "markdown",
   "metadata": {},
   "source": [
    "#### Importing Python libraries"
   ]
  },
  {
   "cell_type": "code",
   "execution_count": 1,
   "metadata": {},
   "outputs": [],
   "source": [
    "!pip install -q --upgrade pandas"
   ]
  },
  {
   "cell_type": "code",
   "execution_count": 2,
   "metadata": {},
   "outputs": [
    {
     "name": "stdout",
     "output_type": "stream",
     "text": [
      "Defaulting to user installation because normal site-packages is not writeable\n",
      "Collecting scikit-learn\n",
      "  Downloading scikit_learn-1.0.1-cp37-cp37m-manylinux_2_12_x86_64.manylinux2010_x86_64.whl (23.2 MB)\n",
      "\u001b[K     |████████████████████████████████| 23.2 MB 135 kB/s eta 0:00:01\n",
      "\u001b[?25hRequirement already satisfied, skipping upgrade: scipy>=1.1.0 in /opt/conda/lib/python3.7/site-packages (from scikit-learn) (1.4.1)\n",
      "Collecting threadpoolctl>=2.0.0\n",
      "  Downloading threadpoolctl-3.0.0-py3-none-any.whl (14 kB)\n",
      "Requirement already satisfied, skipping upgrade: numpy>=1.14.6 in /opt/conda/lib/python3.7/site-packages (from scikit-learn) (1.19.5)\n",
      "Requirement already satisfied, skipping upgrade: joblib>=0.11 in /opt/conda/lib/python3.7/site-packages (from scikit-learn) (1.0.1)\n",
      "Installing collected packages: threadpoolctl, scikit-learn\n",
      "Successfully installed scikit-learn-1.0.1 threadpoolctl-3.0.0\n",
      "Note: you may need to restart the kernel to use updated packages.\n"
     ]
    }
   ],
   "source": [
    "pip install --upgrade scikit-learn"
   ]
  },
  {
   "cell_type": "code",
   "execution_count": 3,
   "metadata": {},
   "outputs": [
    {
     "name": "stdout",
     "output_type": "stream",
     "text": [
      "Defaulting to user installation because normal site-packages is not writeable\n",
      "Requirement already satisfied: lightgbm in /opt/conda/lib/python3.7/site-packages (2.3.1)\n",
      "Requirement already satisfied: scikit-learn in /home/jovyan/.local/lib/python3.7/site-packages (from lightgbm) (1.0.1)\n",
      "Requirement already satisfied: numpy in /opt/conda/lib/python3.7/site-packages (from lightgbm) (1.19.5)\n",
      "Requirement already satisfied: scipy in /opt/conda/lib/python3.7/site-packages (from lightgbm) (1.4.1)\n",
      "Requirement already satisfied: joblib>=0.11 in /opt/conda/lib/python3.7/site-packages (from scikit-learn->lightgbm) (1.0.1)\n",
      "Requirement already satisfied: threadpoolctl>=2.0.0 in /home/jovyan/.local/lib/python3.7/site-packages (from scikit-learn->lightgbm) (3.0.0)\n",
      "Note: you may need to restart the kernel to use updated packages.\n"
     ]
    }
   ],
   "source": [
    "pip install lightgbm"
   ]
  },
  {
   "cell_type": "code",
   "execution_count": 4,
   "metadata": {},
   "outputs": [
    {
     "name": "stdout",
     "output_type": "stream",
     "text": [
      "Defaulting to user installation because normal site-packages is not writeable\n",
      "Requirement already satisfied: catboost in /opt/conda/lib/python3.7/site-packages (0.20.2)\n",
      "Requirement already satisfied: graphviz in /opt/conda/lib/python3.7/site-packages (from catboost) (0.16)\n",
      "Requirement already satisfied: matplotlib in /opt/conda/lib/python3.7/site-packages (from catboost) (3.1.0)\n",
      "Requirement already satisfied: plotly in /opt/conda/lib/python3.7/site-packages (from catboost) (4.1.0)\n",
      "Requirement already satisfied: numpy>=1.16.0 in /opt/conda/lib/python3.7/site-packages (from catboost) (1.19.5)\n",
      "Requirement already satisfied: pandas>=0.24.0 in /home/jovyan/.local/lib/python3.7/site-packages (from catboost) (1.3.5)\n",
      "Requirement already satisfied: scipy in /opt/conda/lib/python3.7/site-packages (from catboost) (1.4.1)\n",
      "Requirement already satisfied: six in /opt/conda/lib/python3.7/site-packages (from catboost) (1.15.0)\n",
      "Requirement already satisfied: cycler>=0.10 in /opt/conda/lib/python3.7/site-packages (from matplotlib->catboost) (0.10.0)\n",
      "Requirement already satisfied: kiwisolver>=1.0.1 in /opt/conda/lib/python3.7/site-packages (from matplotlib->catboost) (1.3.1)\n",
      "Requirement already satisfied: pyparsing!=2.0.4,!=2.1.2,!=2.1.6,>=2.0.1 in /opt/conda/lib/python3.7/site-packages (from matplotlib->catboost) (2.4.7)\n",
      "Requirement already satisfied: python-dateutil>=2.1 in /opt/conda/lib/python3.7/site-packages (from matplotlib->catboost) (2.8.1)\n",
      "Requirement already satisfied: retrying>=1.3.3 in /opt/conda/lib/python3.7/site-packages (from plotly->catboost) (1.3.3)\n",
      "Requirement already satisfied: pytz>=2017.3 in /opt/conda/lib/python3.7/site-packages (from pandas>=0.24.0->catboost) (2021.1)\n",
      "Note: you may need to restart the kernel to use updated packages.\n"
     ]
    }
   ],
   "source": [
    "pip install catboost"
   ]
  },
  {
   "cell_type": "code",
   "execution_count": 5,
   "metadata": {},
   "outputs": [
    {
     "name": "stdout",
     "output_type": "stream",
     "text": [
      "Defaulting to user installation because normal site-packages is not writeable\n",
      "Collecting category_encoders\n",
      "  Downloading category_encoders-2.3.0-py2.py3-none-any.whl (82 kB)\n",
      "\u001b[K     |████████████████████████████████| 82 kB 256 kB/s eta 0:00:011\n",
      "\u001b[?25hRequirement already satisfied: statsmodels>=0.9.0 in /opt/conda/lib/python3.7/site-packages (from category_encoders) (0.10.1)\n",
      "Requirement already satisfied: scikit-learn>=0.20.0 in /home/jovyan/.local/lib/python3.7/site-packages (from category_encoders) (1.0.1)\n",
      "Requirement already satisfied: scipy>=1.0.0 in /opt/conda/lib/python3.7/site-packages (from category_encoders) (1.4.1)\n",
      "Requirement already satisfied: numpy>=1.14.0 in /opt/conda/lib/python3.7/site-packages (from category_encoders) (1.19.5)\n",
      "Requirement already satisfied: patsy>=0.5.1 in /opt/conda/lib/python3.7/site-packages (from category_encoders) (0.5.1)\n",
      "Requirement already satisfied: pandas>=0.21.1 in /home/jovyan/.local/lib/python3.7/site-packages (from category_encoders) (1.3.5)\n",
      "Requirement already satisfied: threadpoolctl>=2.0.0 in /home/jovyan/.local/lib/python3.7/site-packages (from scikit-learn>=0.20.0->category_encoders) (3.0.0)\n",
      "Requirement already satisfied: joblib>=0.11 in /opt/conda/lib/python3.7/site-packages (from scikit-learn>=0.20.0->category_encoders) (1.0.1)\n",
      "Requirement already satisfied: six in /opt/conda/lib/python3.7/site-packages (from patsy>=0.5.1->category_encoders) (1.15.0)\n",
      "Requirement already satisfied: python-dateutil>=2.7.3 in /opt/conda/lib/python3.7/site-packages (from pandas>=0.21.1->category_encoders) (2.8.1)\n",
      "Requirement already satisfied: pytz>=2017.3 in /opt/conda/lib/python3.7/site-packages (from pandas>=0.21.1->category_encoders) (2021.1)\n",
      "Installing collected packages: category-encoders\n",
      "Successfully installed category-encoders-2.3.0\n",
      "Note: you may need to restart the kernel to use updated packages.\n"
     ]
    }
   ],
   "source": [
    "pip install category_encoders"
   ]
  },
  {
   "cell_type": "code",
   "execution_count": 1,
   "metadata": {},
   "outputs": [],
   "source": [
    "# Basic\n",
    "import pandas as pd\n",
    "import numpy as np\n",
    "import warnings\n",
    "from scipy import stats as st\n",
    "from pprint import pprint\n",
    "warnings.filterwarnings(\"ignore\")\n",
    "import time\n",
    "import math\n",
    "\n",
    "# Preprocessing\n",
    "from sklearn.model_selection import train_test_split\n",
    "from sklearn.preprocessing import StandardScaler, OneHotEncoder \n",
    "from sklearn.utils import shuffle\n",
    "from sklearn.preprocessing import OrdinalEncoder \n",
    "from sklearn.impute import KNNImputer, SimpleImputer\n",
    "from sklearn.pipeline import Pipeline\n",
    "from category_encoders.target_encoder import TargetEncoder\n",
    "from sklearn.compose import ColumnTransformer\n",
    "\n",
    "\n",
    "# Modelling\n",
    "from sklearn.tree import DecisionTreeClassifier\n",
    "from sklearn.ensemble import RandomForestClassifier\n",
    "from sklearn.ensemble import RandomForestRegressor\n",
    "from sklearn.model_selection import RandomizedSearchCV\n",
    "from sklearn.linear_model import LogisticRegression \n",
    "from sklearn.model_selection import GridSearchCV\n",
    "from sklearn.linear_model import LogisticRegressionCV\n",
    "from sklearn.model_selection import cross_val_score\n",
    "from sklearn.model_selection import StratifiedKFold\n",
    "from sklearn.linear_model import LinearRegression\n",
    "from sklearn.linear_model import Lasso\n",
    "from sklearn.tree import DecisionTreeRegressor\n",
    "from catboost import CatBoostRegressor\n",
    "import lightgbm as lgb\n",
    "import xgboost as xgb\n",
    "\n",
    "\n",
    "\n",
    "# Metrics\n",
    "from sklearn.metrics import accuracy_score \n",
    "from sklearn.metrics import roc_auc_score\n",
    "from sklearn.metrics import precision_score\n",
    "from sklearn.metrics import recall_score\n",
    "from sklearn.metrics import f1_score\n",
    "from sklearn.metrics import confusion_matrix\n",
    "from sklearn.metrics import precision_recall_curve\n",
    "from sklearn.metrics import roc_curve \n",
    "from sklearn.dummy import DummyClassifier\n",
    "from sklearn.metrics import mean_squared_error\n",
    "from sklearn.metrics import mean_absolute_error\n",
    "from sklearn.metrics import make_scorer\n",
    "\n",
    "# Visualization\n",
    "import seaborn as sns\n",
    "from matplotlib import pyplot as plt"
   ]
  },
  {
   "cell_type": "markdown",
   "metadata": {},
   "source": [
    "<a id=\"contents\"></a>\n",
    "# Table of contents\n",
    "\n",
    "- [Step 1](#step1) Data loading and preprocessing\n",
    "- [Step 2](#step2) Model training\n",
    "- [Step 3](#step3) Model analysis"
   ]
  },
  {
   "cell_type": "markdown",
   "metadata": {},
   "source": [
    "<a id=\"step1\"></a>\n",
    "## Step 1. Data loading and preprocessing\n",
    "\n",
    "[back to table of contents](#contents)"
   ]
  },
  {
   "cell_type": "markdown",
   "metadata": {},
   "source": [
    "### Download and study the data"
   ]
  },
  {
   "cell_type": "code",
   "execution_count": 2,
   "metadata": {},
   "outputs": [],
   "source": [
    "# Downloading the file and saving it as a datafarme\n",
    "\n",
    "try:\n",
    "    car_data     = pd.read_csv('/datasets/car_data.csv')\n",
    "except:\n",
    "    car_data     = pd.read_csv('car_data.csv' , encoding = \"ISO-8859-1\")"
   ]
  },
  {
   "cell_type": "code",
   "execution_count": 3,
   "metadata": {},
   "outputs": [
    {
     "data": {
      "text/html": [
       "<div>\n",
       "<style scoped>\n",
       "    .dataframe tbody tr th:only-of-type {\n",
       "        vertical-align: middle;\n",
       "    }\n",
       "\n",
       "    .dataframe tbody tr th {\n",
       "        vertical-align: top;\n",
       "    }\n",
       "\n",
       "    .dataframe thead th {\n",
       "        text-align: right;\n",
       "    }\n",
       "</style>\n",
       "<table border=\"1\" class=\"dataframe\">\n",
       "  <thead>\n",
       "    <tr style=\"text-align: right;\">\n",
       "      <th></th>\n",
       "      <th>DateCrawled</th>\n",
       "      <th>Price</th>\n",
       "      <th>VehicleType</th>\n",
       "      <th>RegistrationYear</th>\n",
       "      <th>Gearbox</th>\n",
       "      <th>Power</th>\n",
       "      <th>Model</th>\n",
       "      <th>Mileage</th>\n",
       "      <th>RegistrationMonth</th>\n",
       "      <th>FuelType</th>\n",
       "      <th>Brand</th>\n",
       "      <th>NotRepaired</th>\n",
       "      <th>DateCreated</th>\n",
       "      <th>NumberOfPictures</th>\n",
       "      <th>PostalCode</th>\n",
       "      <th>LastSeen</th>\n",
       "    </tr>\n",
       "  </thead>\n",
       "  <tbody>\n",
       "    <tr>\n",
       "      <th>23622</th>\n",
       "      <td>14/03/2016 11:48</td>\n",
       "      <td>14990</td>\n",
       "      <td>coupe</td>\n",
       "      <td>2009</td>\n",
       "      <td>manual</td>\n",
       "      <td>170</td>\n",
       "      <td>a5</td>\n",
       "      <td>150000</td>\n",
       "      <td>11</td>\n",
       "      <td>gasoline</td>\n",
       "      <td>audi</td>\n",
       "      <td>no</td>\n",
       "      <td>14/03/2016 00:00</td>\n",
       "      <td>0</td>\n",
       "      <td>86971</td>\n",
       "      <td>07/04/2016 14:56</td>\n",
       "    </tr>\n",
       "    <tr>\n",
       "      <th>259282</th>\n",
       "      <td>07/03/2016 11:48</td>\n",
       "      <td>3499</td>\n",
       "      <td>bus</td>\n",
       "      <td>2007</td>\n",
       "      <td>auto</td>\n",
       "      <td>109</td>\n",
       "      <td>c4</td>\n",
       "      <td>150000</td>\n",
       "      <td>9</td>\n",
       "      <td>gasoline</td>\n",
       "      <td>citroen</td>\n",
       "      <td>no</td>\n",
       "      <td>07/03/2016 00:00</td>\n",
       "      <td>0</td>\n",
       "      <td>63579</td>\n",
       "      <td>11/03/2016 14:17</td>\n",
       "    </tr>\n",
       "    <tr>\n",
       "      <th>148717</th>\n",
       "      <td>25/03/2016 23:52</td>\n",
       "      <td>13700</td>\n",
       "      <td>wagon</td>\n",
       "      <td>2011</td>\n",
       "      <td>manual</td>\n",
       "      <td>160</td>\n",
       "      <td>astra</td>\n",
       "      <td>80000</td>\n",
       "      <td>7</td>\n",
       "      <td>gasoline</td>\n",
       "      <td>opel</td>\n",
       "      <td>no</td>\n",
       "      <td>25/03/2016 00:00</td>\n",
       "      <td>0</td>\n",
       "      <td>92693</td>\n",
       "      <td>01/04/2016 18:47</td>\n",
       "    </tr>\n",
       "    <tr>\n",
       "      <th>88693</th>\n",
       "      <td>16/03/2016 11:47</td>\n",
       "      <td>8900</td>\n",
       "      <td>convertible</td>\n",
       "      <td>2005</td>\n",
       "      <td>manual</td>\n",
       "      <td>150</td>\n",
       "      <td>3er</td>\n",
       "      <td>150000</td>\n",
       "      <td>12</td>\n",
       "      <td>petrol</td>\n",
       "      <td>bmw</td>\n",
       "      <td>no</td>\n",
       "      <td>16/03/2016 00:00</td>\n",
       "      <td>0</td>\n",
       "      <td>14478</td>\n",
       "      <td>06/04/2016 04:45</td>\n",
       "    </tr>\n",
       "    <tr>\n",
       "      <th>73034</th>\n",
       "      <td>22/03/2016 14:55</td>\n",
       "      <td>1300</td>\n",
       "      <td>bus</td>\n",
       "      <td>1997</td>\n",
       "      <td>manual</td>\n",
       "      <td>68</td>\n",
       "      <td>transporter</td>\n",
       "      <td>150000</td>\n",
       "      <td>4</td>\n",
       "      <td>gasoline</td>\n",
       "      <td>volkswagen</td>\n",
       "      <td>yes</td>\n",
       "      <td>22/03/2016 00:00</td>\n",
       "      <td>0</td>\n",
       "      <td>22453</td>\n",
       "      <td>06/04/2016 04:16</td>\n",
       "    </tr>\n",
       "  </tbody>\n",
       "</table>\n",
       "</div>"
      ],
      "text/plain": [
       "             DateCrawled  Price  VehicleType  RegistrationYear Gearbox  Power  \\\n",
       "23622   14/03/2016 11:48  14990        coupe              2009  manual    170   \n",
       "259282  07/03/2016 11:48   3499          bus              2007    auto    109   \n",
       "148717  25/03/2016 23:52  13700        wagon              2011  manual    160   \n",
       "88693   16/03/2016 11:47   8900  convertible              2005  manual    150   \n",
       "73034   22/03/2016 14:55   1300          bus              1997  manual     68   \n",
       "\n",
       "              Model  Mileage  RegistrationMonth  FuelType       Brand  \\\n",
       "23622            a5   150000                 11  gasoline        audi   \n",
       "259282           c4   150000                  9  gasoline     citroen   \n",
       "148717        astra    80000                  7  gasoline        opel   \n",
       "88693           3er   150000                 12    petrol         bmw   \n",
       "73034   transporter   150000                  4  gasoline  volkswagen   \n",
       "\n",
       "       NotRepaired       DateCreated  NumberOfPictures  PostalCode  \\\n",
       "23622           no  14/03/2016 00:00                 0       86971   \n",
       "259282          no  07/03/2016 00:00                 0       63579   \n",
       "148717          no  25/03/2016 00:00                 0       92693   \n",
       "88693           no  16/03/2016 00:00                 0       14478   \n",
       "73034          yes  22/03/2016 00:00                 0       22453   \n",
       "\n",
       "                LastSeen  \n",
       "23622   07/04/2016 14:56  \n",
       "259282  11/03/2016 14:17  \n",
       "148717  01/04/2016 18:47  \n",
       "88693   06/04/2016 04:45  \n",
       "73034   06/04/2016 04:16  "
      ]
     },
     "execution_count": 3,
     "metadata": {},
     "output_type": "execute_result"
    }
   ],
   "source": [
    "car_data.sample(5)"
   ]
  },
  {
   "cell_type": "code",
   "execution_count": 4,
   "metadata": {},
   "outputs": [
    {
     "name": "stdout",
     "output_type": "stream",
     "text": [
      "<class 'pandas.core.frame.DataFrame'>\n",
      "RangeIndex: 354369 entries, 0 to 354368\n",
      "Data columns (total 16 columns):\n",
      " #   Column             Non-Null Count   Dtype \n",
      "---  ------             --------------   ----- \n",
      " 0   DateCrawled        354369 non-null  object\n",
      " 1   Price              354369 non-null  int64 \n",
      " 2   VehicleType        316879 non-null  object\n",
      " 3   RegistrationYear   354369 non-null  int64 \n",
      " 4   Gearbox            334536 non-null  object\n",
      " 5   Power              354369 non-null  int64 \n",
      " 6   Model              334664 non-null  object\n",
      " 7   Mileage            354369 non-null  int64 \n",
      " 8   RegistrationMonth  354369 non-null  int64 \n",
      " 9   FuelType           321474 non-null  object\n",
      " 10  Brand              354369 non-null  object\n",
      " 11  NotRepaired        283215 non-null  object\n",
      " 12  DateCreated        354369 non-null  object\n",
      " 13  NumberOfPictures   354369 non-null  int64 \n",
      " 14  PostalCode         354369 non-null  int64 \n",
      " 15  LastSeen           354369 non-null  object\n",
      "dtypes: int64(7), object(9)\n",
      "memory usage: 43.3+ MB\n"
     ]
    }
   ],
   "source": [
    "car_data.info()"
   ]
  },
  {
   "cell_type": "code",
   "execution_count": 5,
   "metadata": {},
   "outputs": [
    {
     "data": {
      "text/html": [
       "<div>\n",
       "<style scoped>\n",
       "    .dataframe tbody tr th:only-of-type {\n",
       "        vertical-align: middle;\n",
       "    }\n",
       "\n",
       "    .dataframe tbody tr th {\n",
       "        vertical-align: top;\n",
       "    }\n",
       "\n",
       "    .dataframe thead th {\n",
       "        text-align: right;\n",
       "    }\n",
       "</style>\n",
       "<table border=\"1\" class=\"dataframe\">\n",
       "  <thead>\n",
       "    <tr style=\"text-align: right;\">\n",
       "      <th></th>\n",
       "      <th>Price</th>\n",
       "      <th>RegistrationYear</th>\n",
       "      <th>Power</th>\n",
       "      <th>Mileage</th>\n",
       "      <th>RegistrationMonth</th>\n",
       "      <th>NumberOfPictures</th>\n",
       "      <th>PostalCode</th>\n",
       "    </tr>\n",
       "  </thead>\n",
       "  <tbody>\n",
       "    <tr>\n",
       "      <th>count</th>\n",
       "      <td>354369.000000</td>\n",
       "      <td>354369.000000</td>\n",
       "      <td>354369.000000</td>\n",
       "      <td>354369.000000</td>\n",
       "      <td>354369.000000</td>\n",
       "      <td>354369.0</td>\n",
       "      <td>354369.000000</td>\n",
       "    </tr>\n",
       "    <tr>\n",
       "      <th>mean</th>\n",
       "      <td>4416.656776</td>\n",
       "      <td>2004.234448</td>\n",
       "      <td>110.094337</td>\n",
       "      <td>128211.172535</td>\n",
       "      <td>5.714645</td>\n",
       "      <td>0.0</td>\n",
       "      <td>50508.689087</td>\n",
       "    </tr>\n",
       "    <tr>\n",
       "      <th>std</th>\n",
       "      <td>4514.158514</td>\n",
       "      <td>90.227958</td>\n",
       "      <td>189.850405</td>\n",
       "      <td>37905.341530</td>\n",
       "      <td>3.726421</td>\n",
       "      <td>0.0</td>\n",
       "      <td>25783.096248</td>\n",
       "    </tr>\n",
       "    <tr>\n",
       "      <th>min</th>\n",
       "      <td>0.000000</td>\n",
       "      <td>1000.000000</td>\n",
       "      <td>0.000000</td>\n",
       "      <td>5000.000000</td>\n",
       "      <td>0.000000</td>\n",
       "      <td>0.0</td>\n",
       "      <td>1067.000000</td>\n",
       "    </tr>\n",
       "    <tr>\n",
       "      <th>25%</th>\n",
       "      <td>1050.000000</td>\n",
       "      <td>1999.000000</td>\n",
       "      <td>69.000000</td>\n",
       "      <td>125000.000000</td>\n",
       "      <td>3.000000</td>\n",
       "      <td>0.0</td>\n",
       "      <td>30165.000000</td>\n",
       "    </tr>\n",
       "    <tr>\n",
       "      <th>50%</th>\n",
       "      <td>2700.000000</td>\n",
       "      <td>2003.000000</td>\n",
       "      <td>105.000000</td>\n",
       "      <td>150000.000000</td>\n",
       "      <td>6.000000</td>\n",
       "      <td>0.0</td>\n",
       "      <td>49413.000000</td>\n",
       "    </tr>\n",
       "    <tr>\n",
       "      <th>75%</th>\n",
       "      <td>6400.000000</td>\n",
       "      <td>2008.000000</td>\n",
       "      <td>143.000000</td>\n",
       "      <td>150000.000000</td>\n",
       "      <td>9.000000</td>\n",
       "      <td>0.0</td>\n",
       "      <td>71083.000000</td>\n",
       "    </tr>\n",
       "    <tr>\n",
       "      <th>max</th>\n",
       "      <td>20000.000000</td>\n",
       "      <td>9999.000000</td>\n",
       "      <td>20000.000000</td>\n",
       "      <td>150000.000000</td>\n",
       "      <td>12.000000</td>\n",
       "      <td>0.0</td>\n",
       "      <td>99998.000000</td>\n",
       "    </tr>\n",
       "  </tbody>\n",
       "</table>\n",
       "</div>"
      ],
      "text/plain": [
       "               Price  RegistrationYear          Power        Mileage  \\\n",
       "count  354369.000000     354369.000000  354369.000000  354369.000000   \n",
       "mean     4416.656776       2004.234448     110.094337  128211.172535   \n",
       "std      4514.158514         90.227958     189.850405   37905.341530   \n",
       "min         0.000000       1000.000000       0.000000    5000.000000   \n",
       "25%      1050.000000       1999.000000      69.000000  125000.000000   \n",
       "50%      2700.000000       2003.000000     105.000000  150000.000000   \n",
       "75%      6400.000000       2008.000000     143.000000  150000.000000   \n",
       "max     20000.000000       9999.000000   20000.000000  150000.000000   \n",
       "\n",
       "       RegistrationMonth  NumberOfPictures     PostalCode  \n",
       "count      354369.000000          354369.0  354369.000000  \n",
       "mean            5.714645               0.0   50508.689087  \n",
       "std             3.726421               0.0   25783.096248  \n",
       "min             0.000000               0.0    1067.000000  \n",
       "25%             3.000000               0.0   30165.000000  \n",
       "50%             6.000000               0.0   49413.000000  \n",
       "75%             9.000000               0.0   71083.000000  \n",
       "max            12.000000               0.0   99998.000000  "
      ]
     },
     "execution_count": 5,
     "metadata": {},
     "output_type": "execute_result"
    }
   ],
   "source": [
    "car_data.describe()"
   ]
  },
  {
   "cell_type": "code",
   "execution_count": 6,
   "metadata": {},
   "outputs": [
    {
     "data": {
      "text/plain": [
       "min    01/02/2016 00:00\n",
       "max    31/03/2016 00:00\n",
       "Name: DateCreated, dtype: object"
      ]
     },
     "execution_count": 6,
     "metadata": {},
     "output_type": "execute_result"
    }
   ],
   "source": [
    "car_data['DateCreated'].agg(['min','max'])"
   ]
  },
  {
   "cell_type": "code",
   "execution_count": 7,
   "metadata": {},
   "outputs": [
    {
     "data": {
      "text/plain": [
       "NotRepaired          0.2512\n",
       "VehicleType          0.1183\n",
       "FuelType             0.1023\n",
       "Gearbox              0.0593\n",
       "Model                0.0589\n",
       "DateCrawled          0.0000\n",
       "Price                0.0000\n",
       "RegistrationYear     0.0000\n",
       "Power                0.0000\n",
       "Mileage              0.0000\n",
       "RegistrationMonth    0.0000\n",
       "Brand                0.0000\n",
       "DateCreated          0.0000\n",
       "NumberOfPictures     0.0000\n",
       "PostalCode           0.0000\n",
       "LastSeen             0.0000\n",
       "dtype: float64"
      ]
     },
     "execution_count": 7,
     "metadata": {},
     "output_type": "execute_result"
    }
   ],
   "source": [
    "(car_data.isna().sum()/car_data.count()).round(4).sort_values(ascending=False)"
   ]
  },
  {
   "cell_type": "markdown",
   "metadata": {},
   "source": [
    "#### How are the categorical features distributed?"
   ]
  },
  {
   "cell_type": "code",
   "execution_count": 8,
   "metadata": {},
   "outputs": [
    {
     "data": {
      "text/plain": [
       "no     247161\n",
       "yes     36054\n",
       "Name: NotRepaired, dtype: int64"
      ]
     },
     "execution_count": 8,
     "metadata": {},
     "output_type": "execute_result"
    }
   ],
   "source": [
    "# How NotRepaired feature values' distributed\n",
    "car_data['NotRepaired'].value_counts()"
   ]
  },
  {
   "cell_type": "code",
   "execution_count": 9,
   "metadata": {},
   "outputs": [
    {
     "data": {
      "text/plain": [
       "sedan          91457\n",
       "small          79831\n",
       "wagon          65166\n",
       "bus            28775\n",
       "convertible    20203\n",
       "coupe          16163\n",
       "suv            11996\n",
       "other           3288\n",
       "Name: VehicleType, dtype: int64"
      ]
     },
     "execution_count": 9,
     "metadata": {},
     "output_type": "execute_result"
    }
   ],
   "source": [
    "# How VehicleType feature values' distributed\n",
    "car_data['VehicleType'].value_counts()"
   ]
  },
  {
   "cell_type": "code",
   "execution_count": 10,
   "metadata": {},
   "outputs": [
    {
     "data": {
      "text/plain": [
       "petrol      216352\n",
       "gasoline     98720\n",
       "lpg           5310\n",
       "cng            565\n",
       "hybrid         233\n",
       "other          204\n",
       "electric        90\n",
       "Name: FuelType, dtype: int64"
      ]
     },
     "execution_count": 10,
     "metadata": {},
     "output_type": "execute_result"
    }
   ],
   "source": [
    "# How FuelType feature values' distributed\n",
    "car_data['FuelType'].value_counts()"
   ]
  },
  {
   "cell_type": "code",
   "execution_count": 11,
   "metadata": {},
   "outputs": [
    {
     "data": {
      "text/plain": [
       "manual    268251\n",
       "auto       66285\n",
       "Name: Gearbox, dtype: int64"
      ]
     },
     "execution_count": 11,
     "metadata": {},
     "output_type": "execute_result"
    }
   ],
   "source": [
    "# How Gearbox feature values' distributed\n",
    "car_data['Gearbox'].value_counts()"
   ]
  },
  {
   "cell_type": "code",
   "execution_count": 12,
   "metadata": {
    "scrolled": false
   },
   "outputs": [
    {
     "data": {
      "text/plain": [
       "0    354369\n",
       "Name: NumberOfPictures, dtype: int64"
      ]
     },
     "execution_count": 12,
     "metadata": {},
     "output_type": "execute_result"
    }
   ],
   "source": [
    "# How NumberOfPictures feature values' distributed\n",
    "car_data['NumberOfPictures'].value_counts()"
   ]
  },
  {
   "cell_type": "code",
   "execution_count": 13,
   "metadata": {},
   "outputs": [
    {
     "data": {
      "text/plain": [
       "250"
      ]
     },
     "execution_count": 13,
     "metadata": {},
     "output_type": "execute_result"
    }
   ],
   "source": [
    "# How many unique values Model feature have\n",
    "car_data['Model'].nunique()"
   ]
  },
  {
   "cell_type": "code",
   "execution_count": 14,
   "metadata": {},
   "outputs": [
    {
     "data": {
      "text/plain": [
       "40"
      ]
     },
     "execution_count": 14,
     "metadata": {},
     "output_type": "execute_result"
    }
   ],
   "source": [
    "# How many unique values Brand feature have\n",
    "car_data['Brand'].nunique()"
   ]
  },
  {
   "cell_type": "markdown",
   "metadata": {},
   "source": [
    "#### How are the numerical features distributed? are there any outliers?"
   ]
  },
  {
   "cell_type": "code",
   "execution_count": 15,
   "metadata": {},
   "outputs": [
    {
     "data": {
      "image/png": "[encoded data removed]",
      "text/plain": [
       "<Figure size 576x360 with 1 Axes>"
      ]
     },
     "metadata": {
      "needs_background": "light"
     },
     "output_type": "display_data"
    }
   ],
   "source": [
    "#\n",
    "car_data['RegistrationYear'].hist(edgecolor='black', linewidth=1.2, figsize=(8,5), bins=50);"
   ]
  },
  {
   "cell_type": "markdown",
   "metadata": {},
   "source": [
    "The historam shows there are outliers. but since their rate is very small, they are actually not seen in the graph.\n",
    "\n",
    "I will have to find them by other way then visualization.\n",
    "\n",
    "Same with power outliers"
   ]
  },
  {
   "cell_type": "code",
   "execution_count": 16,
   "metadata": {},
   "outputs": [
    {
     "data": {
      "image/png": "[encoded data removed]",
      "text/plain": [
       "<Figure size 576x360 with 1 Axes>"
      ]
     },
     "metadata": {
      "needs_background": "light"
     },
     "output_type": "display_data"
    }
   ],
   "source": [
    "car_data['Power'].hist(edgecolor='black', linewidth=1.2, figsize=(8,5));"
   ]
  },
  {
   "cell_type": "code",
   "execution_count": 17,
   "metadata": {},
   "outputs": [
    {
     "data": {
      "text/plain": [
       "552"
      ]
     },
     "execution_count": 17,
     "metadata": {},
     "output_type": "execute_result"
    }
   ],
   "source": [
    "len(car_data.query('RegistrationYear < 1960 or RegistrationYear > 2018'))"
   ]
  },
  {
   "cell_type": "markdown",
   "metadata": {},
   "source": [
    "There are 552 inspections with registration year too old (before 1960) or in the future... (I added 2017 and 2018 even though its later then 2016)"
   ]
  },
  {
   "cell_type": "code",
   "execution_count": 18,
   "metadata": {},
   "outputs": [
    {
     "data": {
      "text/plain": [
       "120"
      ]
     },
     "execution_count": 18,
     "metadata": {},
     "output_type": "execute_result"
    }
   ],
   "source": [
    "len(car_data.query('Power > 2000'))"
   ]
  },
  {
   "cell_type": "markdown",
   "metadata": {},
   "source": [
    "There are 120 inspections with power higher then 2,000 hp, which is illogical (in 2021, the strongest cars has no more then 2,000 hp)"
   ]
  },
  {
   "cell_type": "code",
   "execution_count": 19,
   "metadata": {},
   "outputs": [
    {
     "data": {
      "text/plain": [
       "0    10772\n",
       "Name: Price, dtype: int64"
      ]
     },
     "execution_count": 19,
     "metadata": {},
     "output_type": "execute_result"
    }
   ],
   "source": [
    "car_data['Price'][car_data['Price'] == 0].value_counts()"
   ]
  },
  {
   "cell_type": "markdown",
   "metadata": {},
   "source": [
    "There are 10,772 inspections with price = 0. since its the target, I will not fill it, but drop these inspections which are 3% of the data"
   ]
  },
  {
   "cell_type": "code",
   "execution_count": 20,
   "metadata": {},
   "outputs": [
    {
     "data": {
      "text/plain": [
       "0    40225\n",
       "Name: Power, dtype: int64"
      ]
     },
     "execution_count": 20,
     "metadata": {},
     "output_type": "execute_result"
    }
   ],
   "source": [
    "car_data['Power'][car_data['Power'] == 0].value_counts()"
   ]
  },
  {
   "cell_type": "markdown",
   "metadata": {},
   "source": [
    "There are 40,225 inspections with power = 0. this value can be filled with the feature's mean or median"
   ]
  },
  {
   "cell_type": "code",
   "execution_count": 21,
   "metadata": {},
   "outputs": [
    {
     "data": {
      "text/plain": [
       "0    37352\n",
       "Name: RegistrationMonth, dtype: int64"
      ]
     },
     "execution_count": 21,
     "metadata": {},
     "output_type": "execute_result"
    }
   ],
   "source": [
    "car_data['RegistrationMonth'][car_data['RegistrationMonth'] == 0].value_counts()"
   ]
  },
  {
   "cell_type": "markdown",
   "metadata": {},
   "source": [
    "There are 37,352 inspections with registration month = 0. this value can be filled with the feature's median. it can also be left as is, since I assume it does not have much influence on the car's price."
   ]
  },
  {
   "cell_type": "code",
   "execution_count": 22,
   "metadata": {},
   "outputs": [
    {
     "data": {
      "image/png": "[encoded data removed]",
      "text/plain": [
       "<Figure size 1080x360 with 2 Axes>"
      ]
     },
     "metadata": {
      "needs_background": "light"
     },
     "output_type": "display_data"
    }
   ],
   "source": [
    "# Correlations\n",
    "plt.figure(figsize=(15,5))\n",
    "ax = sns.heatmap(car_data.corr(), annot=True, cmap='rocket')\n",
    "\n",
    "bottom, top = ax.get_ylim()\n",
    "ax.set_ylim(bottom + 0.5, top - 0.5);\n",
    "plt.yticks(rotation=0);"
   ]
  },
  {
   "cell_type": "markdown",
   "metadata": {},
   "source": [
    "This heatmap provides us little information on features' weight, since the categorical features are not included, and they have a lot of weight - like Brand, Model and type.\n",
    "And also because the data is not yet clean from NaNs and outliers.\n",
    "\n",
    "We do see that Mileage is moderately (negaively) correlated to the price "
   ]
  },
  {
   "cell_type": "markdown",
   "metadata": {},
   "source": [
    "### Summary\n",
    "- We have 354,369 observations in our sample\n",
    "- The profiles in the data set were created during two months: from 01/02/2016 until 31/03/2016\n",
    "- There are null values in 5 of the columns: NotRepaired (25% NaN), VehicleType (12%), FuelType (10%), Gearbox (6%), Model (6%). some can be filled with the most popular value or 'other', and some not - like Model that is highly related to the price and i'll rather not try to fill it. \n",
    "- There are 6 categoricl features, 'VehicleType', 'FuelType', 'Gearbox', 'Model', 'Brand', 'NotRepaired', 'DateCreated', which we have to encode and convert to numeric.\n",
    "- We found anomalies in RegistrationYear and Power. the number of anomalies is relatively small, so they can be dropped from the data set.\n",
    "- 3% of the inspections have price=0. this is probably a humen mistake. they can't be left or filled, so they will be dropped.\n",
    "- 11% of the inspection have power=0, which is not rational. but these values can be filled with the mean or median.\n",
    "- Some of the columns does not seem to have any influence on the car's price: DateCrawled (what may be interesting is the date of creation, which datecrawled is correlated to), PostalCode (no meaning without geographic interpretaion), NumberOfPictures (is always zero), LastSeen (the user behaviour does not relate to the car price), so I will remove them. "
   ]
  },
  {
   "cell_type": "markdown",
   "metadata": {},
   "source": [
    "### Data preprocessing"
   ]
  },
  {
   "cell_type": "markdown",
   "metadata": {},
   "source": [
    "#### Removing unnecessary columns:"
   ]
  },
  {
   "cell_type": "code",
   "execution_count": 23,
   "metadata": {},
   "outputs": [],
   "source": [
    "redundant_features = ['DateCrawled','PostalCode','NumberOfPictures','LastSeen']\n",
    "car_data.drop(redundant_features, axis=1, inplace = True)"
   ]
  },
  {
   "cell_type": "markdown",
   "metadata": {},
   "source": [
    "#### Looking for duplicae records:"
   ]
  },
  {
   "cell_type": "code",
   "execution_count": 24,
   "metadata": {},
   "outputs": [
    {
     "data": {
      "text/plain": [
       "11834"
      ]
     },
     "execution_count": 24,
     "metadata": {},
     "output_type": "execute_result"
    }
   ],
   "source": [
    "# Check for duplicated data\n",
    "car_data.duplicated().sum()"
   ]
  },
  {
   "cell_type": "code",
   "execution_count": 25,
   "metadata": {},
   "outputs": [
    {
     "data": {
      "text/html": [
       "<div>\n",
       "<style scoped>\n",
       "    .dataframe tbody tr th:only-of-type {\n",
       "        vertical-align: middle;\n",
       "    }\n",
       "\n",
       "    .dataframe tbody tr th {\n",
       "        vertical-align: top;\n",
       "    }\n",
       "\n",
       "    .dataframe thead th {\n",
       "        text-align: right;\n",
       "    }\n",
       "</style>\n",
       "<table border=\"1\" class=\"dataframe\">\n",
       "  <thead>\n",
       "    <tr style=\"text-align: right;\">\n",
       "      <th></th>\n",
       "      <th>Price</th>\n",
       "      <th>VehicleType</th>\n",
       "      <th>RegistrationYear</th>\n",
       "      <th>Gearbox</th>\n",
       "      <th>Power</th>\n",
       "      <th>Model</th>\n",
       "      <th>Mileage</th>\n",
       "      <th>RegistrationMonth</th>\n",
       "      <th>FuelType</th>\n",
       "      <th>Brand</th>\n",
       "      <th>NotRepaired</th>\n",
       "      <th>DateCreated</th>\n",
       "    </tr>\n",
       "  </thead>\n",
       "  <tbody>\n",
       "    <tr>\n",
       "      <th>150717</th>\n",
       "      <td>200</td>\n",
       "      <td>NaN</td>\n",
       "      <td>5000</td>\n",
       "      <td>manual</td>\n",
       "      <td>0</td>\n",
       "      <td>corsa</td>\n",
       "      <td>5000</td>\n",
       "      <td>0</td>\n",
       "      <td>petrol</td>\n",
       "      <td>opel</td>\n",
       "      <td>yes</td>\n",
       "      <td>31/03/2016 00:00</td>\n",
       "    </tr>\n",
       "    <tr>\n",
       "      <th>231437</th>\n",
       "      <td>200</td>\n",
       "      <td>NaN</td>\n",
       "      <td>5000</td>\n",
       "      <td>manual</td>\n",
       "      <td>0</td>\n",
       "      <td>corsa</td>\n",
       "      <td>5000</td>\n",
       "      <td>0</td>\n",
       "      <td>petrol</td>\n",
       "      <td>opel</td>\n",
       "      <td>yes</td>\n",
       "      <td>31/03/2016 00:00</td>\n",
       "    </tr>\n",
       "    <tr>\n",
       "      <th>18916</th>\n",
       "      <td>6800</td>\n",
       "      <td>NaN</td>\n",
       "      <td>2018</td>\n",
       "      <td>manual</td>\n",
       "      <td>105</td>\n",
       "      <td>fabia</td>\n",
       "      <td>100000</td>\n",
       "      <td>4</td>\n",
       "      <td>petrol</td>\n",
       "      <td>skoda</td>\n",
       "      <td>NaN</td>\n",
       "      <td>31/03/2016 00:00</td>\n",
       "    </tr>\n",
       "    <tr>\n",
       "      <th>57546</th>\n",
       "      <td>6800</td>\n",
       "      <td>NaN</td>\n",
       "      <td>2018</td>\n",
       "      <td>manual</td>\n",
       "      <td>105</td>\n",
       "      <td>fabia</td>\n",
       "      <td>100000</td>\n",
       "      <td>4</td>\n",
       "      <td>petrol</td>\n",
       "      <td>skoda</td>\n",
       "      <td>NaN</td>\n",
       "      <td>31/03/2016 00:00</td>\n",
       "    </tr>\n",
       "    <tr>\n",
       "      <th>108431</th>\n",
       "      <td>1399</td>\n",
       "      <td>NaN</td>\n",
       "      <td>2018</td>\n",
       "      <td>manual</td>\n",
       "      <td>150</td>\n",
       "      <td>3er</td>\n",
       "      <td>150000</td>\n",
       "      <td>2</td>\n",
       "      <td>NaN</td>\n",
       "      <td>bmw</td>\n",
       "      <td>no</td>\n",
       "      <td>31/03/2016 00:00</td>\n",
       "    </tr>\n",
       "    <tr>\n",
       "      <th>...</th>\n",
       "      <td>...</td>\n",
       "      <td>...</td>\n",
       "      <td>...</td>\n",
       "      <td>...</td>\n",
       "      <td>...</td>\n",
       "      <td>...</td>\n",
       "      <td>...</td>\n",
       "      <td>...</td>\n",
       "      <td>...</td>\n",
       "      <td>...</td>\n",
       "      <td>...</td>\n",
       "      <td>...</td>\n",
       "    </tr>\n",
       "    <tr>\n",
       "      <th>143791</th>\n",
       "      <td>2250</td>\n",
       "      <td>coupe</td>\n",
       "      <td>2002</td>\n",
       "      <td>manual</td>\n",
       "      <td>75</td>\n",
       "      <td>corsa</td>\n",
       "      <td>125000</td>\n",
       "      <td>3</td>\n",
       "      <td>petrol</td>\n",
       "      <td>opel</td>\n",
       "      <td>no</td>\n",
       "      <td>01/03/2016 00:00</td>\n",
       "    </tr>\n",
       "    <tr>\n",
       "      <th>175699</th>\n",
       "      <td>2250</td>\n",
       "      <td>coupe</td>\n",
       "      <td>2002</td>\n",
       "      <td>manual</td>\n",
       "      <td>75</td>\n",
       "      <td>corsa</td>\n",
       "      <td>125000</td>\n",
       "      <td>3</td>\n",
       "      <td>petrol</td>\n",
       "      <td>opel</td>\n",
       "      <td>no</td>\n",
       "      <td>01/03/2016 00:00</td>\n",
       "    </tr>\n",
       "    <tr>\n",
       "      <th>183358</th>\n",
       "      <td>2250</td>\n",
       "      <td>coupe</td>\n",
       "      <td>2002</td>\n",
       "      <td>manual</td>\n",
       "      <td>75</td>\n",
       "      <td>corsa</td>\n",
       "      <td>125000</td>\n",
       "      <td>3</td>\n",
       "      <td>petrol</td>\n",
       "      <td>opel</td>\n",
       "      <td>no</td>\n",
       "      <td>01/03/2016 00:00</td>\n",
       "    </tr>\n",
       "    <tr>\n",
       "      <th>298966</th>\n",
       "      <td>290</td>\n",
       "      <td>small</td>\n",
       "      <td>2000</td>\n",
       "      <td>manual</td>\n",
       "      <td>50</td>\n",
       "      <td>lupo</td>\n",
       "      <td>150000</td>\n",
       "      <td>5</td>\n",
       "      <td>petrol</td>\n",
       "      <td>volkswagen</td>\n",
       "      <td>yes</td>\n",
       "      <td>01/03/2016 00:00</td>\n",
       "    </tr>\n",
       "    <tr>\n",
       "      <th>323205</th>\n",
       "      <td>290</td>\n",
       "      <td>small</td>\n",
       "      <td>2000</td>\n",
       "      <td>manual</td>\n",
       "      <td>50</td>\n",
       "      <td>lupo</td>\n",
       "      <td>150000</td>\n",
       "      <td>5</td>\n",
       "      <td>petrol</td>\n",
       "      <td>volkswagen</td>\n",
       "      <td>yes</td>\n",
       "      <td>01/03/2016 00:00</td>\n",
       "    </tr>\n",
       "  </tbody>\n",
       "</table>\n",
       "<p>22810 rows × 12 columns</p>\n",
       "</div>"
      ],
      "text/plain": [
       "        Price VehicleType  RegistrationYear Gearbox  Power  Model  Mileage  \\\n",
       "150717    200         NaN              5000  manual      0  corsa     5000   \n",
       "231437    200         NaN              5000  manual      0  corsa     5000   \n",
       "18916    6800         NaN              2018  manual    105  fabia   100000   \n",
       "57546    6800         NaN              2018  manual    105  fabia   100000   \n",
       "108431   1399         NaN              2018  manual    150    3er   150000   \n",
       "...       ...         ...               ...     ...    ...    ...      ...   \n",
       "143791   2250       coupe              2002  manual     75  corsa   125000   \n",
       "175699   2250       coupe              2002  manual     75  corsa   125000   \n",
       "183358   2250       coupe              2002  manual     75  corsa   125000   \n",
       "298966    290       small              2000  manual     50   lupo   150000   \n",
       "323205    290       small              2000  manual     50   lupo   150000   \n",
       "\n",
       "        RegistrationMonth FuelType       Brand NotRepaired       DateCreated  \n",
       "150717                  0   petrol        opel         yes  31/03/2016 00:00  \n",
       "231437                  0   petrol        opel         yes  31/03/2016 00:00  \n",
       "18916                   4   petrol       skoda         NaN  31/03/2016 00:00  \n",
       "57546                   4   petrol       skoda         NaN  31/03/2016 00:00  \n",
       "108431                  2      NaN         bmw          no  31/03/2016 00:00  \n",
       "...                   ...      ...         ...         ...               ...  \n",
       "143791                  3   petrol        opel          no  01/03/2016 00:00  \n",
       "175699                  3   petrol        opel          no  01/03/2016 00:00  \n",
       "183358                  3   petrol        opel          no  01/03/2016 00:00  \n",
       "298966                  5   petrol  volkswagen         yes  01/03/2016 00:00  \n",
       "323205                  5   petrol  volkswagen         yes  01/03/2016 00:00  \n",
       "\n",
       "[22810 rows x 12 columns]"
      ]
     },
     "execution_count": 25,
     "metadata": {},
     "output_type": "execute_result"
    }
   ],
   "source": [
    "# Reviewing the duplicated inspections\n",
    "car_data[car_data.duplicated(keep=False)].sort_values(by=['DateCreated','RegistrationYear','Price'],ascending=False)"
   ]
  },
  {
   "cell_type": "code",
   "execution_count": 26,
   "metadata": {},
   "outputs": [],
   "source": [
    "# The duplications are indeed double inserted inspections. We can drop the duplicates\n",
    "car_data.drop_duplicates(inplace=True)"
   ]
  },
  {
   "cell_type": "markdown",
   "metadata": {},
   "source": [
    "#### Renaming the columns names to make it easier to code."
   ]
  },
  {
   "cell_type": "code",
   "execution_count": 27,
   "metadata": {},
   "outputs": [],
   "source": [
    "car_data = car_data.rename(columns={'Price': 'price', 'VehicleType': 'type', 'RegistrationYear': 'year', 'Gearbox': 'gearbox',\\\n",
    "'Power': 'power', 'Model': 'model', 'Mileage': 'mileage', 'RegistrationMonth': 'month', 'FuelType': 'fuel', 'Brand': 'brand',\\\n",
    "'NotRepaired': 'repaired', 'DateCreated': 'datecreated'})"
   ]
  },
  {
   "cell_type": "code",
   "execution_count": 28,
   "metadata": {},
   "outputs": [
    {
     "name": "stdout",
     "output_type": "stream",
     "text": [
      "<class 'pandas.core.frame.DataFrame'>\n",
      "Int64Index: 342535 entries, 0 to 354368\n",
      "Data columns (total 12 columns):\n",
      " #   Column       Non-Null Count   Dtype \n",
      "---  ------       --------------   ----- \n",
      " 0   price        342535 non-null  int64 \n",
      " 1   type         305693 non-null  object\n",
      " 2   year         342535 non-null  int64 \n",
      " 3   gearbox      323526 non-null  object\n",
      " 4   power        342535 non-null  int64 \n",
      " 5   model        323191 non-null  object\n",
      " 6   mileage      342535 non-null  int64 \n",
      " 7   month        342535 non-null  int64 \n",
      " 8   fuel         310182 non-null  object\n",
      " 9   brand        342535 non-null  object\n",
      " 10  repaired     272904 non-null  object\n",
      " 11  datecreated  342535 non-null  object\n",
      "dtypes: int64(5), object(7)\n",
      "memory usage: 34.0+ MB\n"
     ]
    }
   ],
   "source": [
    "car_data.info()"
   ]
  },
  {
   "cell_type": "markdown",
   "metadata": {},
   "source": [
    "#### Processing missing values"
   ]
  },
  {
   "cell_type": "code",
   "execution_count": 29,
   "metadata": {},
   "outputs": [],
   "source": [
    "# Filling missing values in type with 'other'\n",
    "\n",
    "car_data['type'].fillna('other', inplace = True)"
   ]
  },
  {
   "cell_type": "code",
   "execution_count": 30,
   "metadata": {},
   "outputs": [],
   "source": [
    "# Filling missing values in gearbox with 'manual', which holds about 80%  \n",
    "\n",
    "car_data['gearbox'].fillna('manual', inplace = True)"
   ]
  },
  {
   "cell_type": "code",
   "execution_count": 31,
   "metadata": {},
   "outputs": [],
   "source": [
    "# Filling missing values in fuel with 'petrol', which present the majority of the cars\n",
    "\n",
    "car_data['fuel'].fillna('petrol', inplace = True)"
   ]
  },
  {
   "cell_type": "code",
   "execution_count": 32,
   "metadata": {},
   "outputs": [],
   "source": [
    "# Filling missing values in repaired with 'no', which present the majority of the cars\n",
    "\n",
    "car_data['repaired'].fillna('no', inplace = True)"
   ]
  },
  {
   "cell_type": "code",
   "execution_count": 33,
   "metadata": {},
   "outputs": [],
   "source": [
    "# Dropping rows with missing values in model column\n",
    "\n",
    "car_data.dropna(subset=['model'], inplace = True)"
   ]
  },
  {
   "cell_type": "code",
   "execution_count": 34,
   "metadata": {},
   "outputs": [
    {
     "data": {
      "text/html": [
       "<div>\n",
       "<style scoped>\n",
       "    .dataframe tbody tr th:only-of-type {\n",
       "        vertical-align: middle;\n",
       "    }\n",
       "\n",
       "    .dataframe tbody tr th {\n",
       "        vertical-align: top;\n",
       "    }\n",
       "\n",
       "    .dataframe thead th {\n",
       "        text-align: right;\n",
       "    }\n",
       "</style>\n",
       "<table border=\"1\" class=\"dataframe\">\n",
       "  <thead>\n",
       "    <tr style=\"text-align: right;\">\n",
       "      <th></th>\n",
       "      <th>price</th>\n",
       "      <th>year</th>\n",
       "      <th>power</th>\n",
       "      <th>mileage</th>\n",
       "      <th>month</th>\n",
       "    </tr>\n",
       "  </thead>\n",
       "  <tbody>\n",
       "    <tr>\n",
       "      <th>count</th>\n",
       "      <td>323191.000000</td>\n",
       "      <td>323191.000000</td>\n",
       "      <td>323191.000000</td>\n",
       "      <td>323191.000000</td>\n",
       "      <td>323191.000000</td>\n",
       "    </tr>\n",
       "    <tr>\n",
       "      <th>mean</th>\n",
       "      <td>4485.771117</td>\n",
       "      <td>2003.909960</td>\n",
       "      <td>111.255576</td>\n",
       "      <td>128581.860262</td>\n",
       "      <td>5.791015</td>\n",
       "    </tr>\n",
       "    <tr>\n",
       "      <th>std</th>\n",
       "      <td>4529.421690</td>\n",
       "      <td>70.054819</td>\n",
       "      <td>187.096231</td>\n",
       "      <td>37223.939744</td>\n",
       "      <td>3.692097</td>\n",
       "    </tr>\n",
       "    <tr>\n",
       "      <th>min</th>\n",
       "      <td>0.000000</td>\n",
       "      <td>1000.000000</td>\n",
       "      <td>0.000000</td>\n",
       "      <td>5000.000000</td>\n",
       "      <td>0.000000</td>\n",
       "    </tr>\n",
       "    <tr>\n",
       "      <th>25%</th>\n",
       "      <td>1100.000000</td>\n",
       "      <td>1999.000000</td>\n",
       "      <td>70.000000</td>\n",
       "      <td>125000.000000</td>\n",
       "      <td>3.000000</td>\n",
       "    </tr>\n",
       "    <tr>\n",
       "      <th>50%</th>\n",
       "      <td>2800.000000</td>\n",
       "      <td>2003.000000</td>\n",
       "      <td>105.000000</td>\n",
       "      <td>150000.000000</td>\n",
       "      <td>6.000000</td>\n",
       "    </tr>\n",
       "    <tr>\n",
       "      <th>75%</th>\n",
       "      <td>6500.000000</td>\n",
       "      <td>2008.000000</td>\n",
       "      <td>143.000000</td>\n",
       "      <td>150000.000000</td>\n",
       "      <td>9.000000</td>\n",
       "    </tr>\n",
       "    <tr>\n",
       "      <th>max</th>\n",
       "      <td>20000.000000</td>\n",
       "      <td>9999.000000</td>\n",
       "      <td>20000.000000</td>\n",
       "      <td>150000.000000</td>\n",
       "      <td>12.000000</td>\n",
       "    </tr>\n",
       "  </tbody>\n",
       "</table>\n",
       "</div>"
      ],
      "text/plain": [
       "               price           year          power        mileage  \\\n",
       "count  323191.000000  323191.000000  323191.000000  323191.000000   \n",
       "mean     4485.771117    2003.909960     111.255576  128581.860262   \n",
       "std      4529.421690      70.054819     187.096231   37223.939744   \n",
       "min         0.000000    1000.000000       0.000000    5000.000000   \n",
       "25%      1100.000000    1999.000000      70.000000  125000.000000   \n",
       "50%      2800.000000    2003.000000     105.000000  150000.000000   \n",
       "75%      6500.000000    2008.000000     143.000000  150000.000000   \n",
       "max     20000.000000    9999.000000   20000.000000  150000.000000   \n",
       "\n",
       "               month  \n",
       "count  323191.000000  \n",
       "mean        5.791015  \n",
       "std         3.692097  \n",
       "min         0.000000  \n",
       "25%         3.000000  \n",
       "50%         6.000000  \n",
       "75%         9.000000  \n",
       "max        12.000000  "
      ]
     },
     "execution_count": 34,
     "metadata": {},
     "output_type": "execute_result"
    }
   ],
   "source": [
    "car_data.describe()"
   ]
  },
  {
   "cell_type": "code",
   "execution_count": 35,
   "metadata": {},
   "outputs": [
    {
     "data": {
      "text/plain": [
       "0    8355\n",
       "Name: price, dtype: int64"
      ]
     },
     "execution_count": 35,
     "metadata": {},
     "output_type": "execute_result"
    }
   ],
   "source": [
    "car_data['price'][car_data['price'] == 0].value_counts()"
   ]
  },
  {
   "cell_type": "markdown",
   "metadata": {},
   "source": [
    "#### Processing zero values"
   ]
  },
  {
   "cell_type": "code",
   "execution_count": 36,
   "metadata": {},
   "outputs": [],
   "source": [
    "# Droppping inspections with price = 0\n",
    "\n",
    "car_data = car_data[car_data['price'] > 0]"
   ]
  },
  {
   "cell_type": "code",
   "execution_count": 37,
   "metadata": {},
   "outputs": [],
   "source": [
    "# Replacing inspections with power = 0 with power feature median\n",
    "\n",
    "car_data.loc[car_data['power'] == 0, ['power']] = car_data['power'].median()"
   ]
  },
  {
   "cell_type": "markdown",
   "metadata": {},
   "source": [
    "#### Processing anomalies"
   ]
  },
  {
   "cell_type": "code",
   "execution_count": 38,
   "metadata": {},
   "outputs": [],
   "source": [
    "# Dropping inspections with year before 1960 or after 2018\n",
    "\n",
    "car_data = car_data[car_data['year'].between(1960, 2018)]"
   ]
  },
  {
   "cell_type": "code",
   "execution_count": 39,
   "metadata": {},
   "outputs": [],
   "source": [
    "# Dropping inspections with power higher then 2,000\n",
    "\n",
    "car_data = car_data[car_data['power'] <= 2000]"
   ]
  },
  {
   "cell_type": "code",
   "execution_count": 40,
   "metadata": {},
   "outputs": [
    {
     "data": {
      "image/png": "[encoded data removed]",
      "text/plain": [
       "<Figure size 1080x360 with 2 Axes>"
      ]
     },
     "metadata": {
      "needs_background": "light"
     },
     "output_type": "display_data"
    }
   ],
   "source": [
    "# Correlations\n",
    "plt.figure(figsize=(15,5))\n",
    "ax = sns.heatmap(car_data.corr(), annot=True, cmap='rocket')\n",
    "\n",
    "bottom, top = ax.get_ylim()\n",
    "ax.set_ylim(bottom + 0.5, top - 0.5);\n",
    "plt.yticks(rotation=0);"
   ]
  },
  {
   "cell_type": "markdown",
   "metadata": {},
   "source": [
    "The correlations already look much better!"
   ]
  },
  {
   "cell_type": "markdown",
   "metadata": {},
   "source": [
    "#### Converting the datecreated from date to number (‘unix’ epoch)"
   ]
  },
  {
   "cell_type": "code",
   "execution_count": 41,
   "metadata": {},
   "outputs": [],
   "source": [
    "car_data['datecreated'] = (pd.to_datetime(car_data['datecreated']) - pd.Timestamp(\"1970-01-01\")) // pd.Timedelta(\"1s\")"
   ]
  },
  {
   "cell_type": "code",
   "execution_count": 42,
   "metadata": {},
   "outputs": [
    {
     "data": {
      "text/plain": [
       "0    1458777600\n",
       "2    1457913600\n",
       "3    1458172800\n",
       "4    1459382400\n",
       "5    1459728000\n",
       "Name: datecreated, dtype: int64"
      ]
     },
     "execution_count": 42,
     "metadata": {},
     "output_type": "execute_result"
    }
   ],
   "source": [
    "car_data['datecreated'].head()"
   ]
  },
  {
   "cell_type": "markdown",
   "metadata": {},
   "source": [
    "<a id=\"step2\"></a>\n",
    "## Step 2. Model training\n",
    "\n",
    "[back to table of contents](#contents)"
   ]
  },
  {
   "cell_type": "code",
   "execution_count": 43,
   "metadata": {},
   "outputs": [],
   "source": [
    "# Creating the preprocessing pipelines for both numeric and categorical data. \n",
    "\n",
    "numeric_features = ['year', 'power', 'mileage', 'month','datecreated']\n",
    "\n",
    "categorical_features = ['type','gearbox', 'fuel', 'repaired']\n",
    "ohe_transformer = OneHotEncoder(drop='first')\n",
    "\n",
    "categorical_high_cardinality_features = ['model', 'brand']\n",
    "\n",
    "all_categorical_features = categorical_features+categorical_high_cardinality_features\n"
   ]
  },
  {
   "cell_type": "code",
   "execution_count": 44,
   "metadata": {},
   "outputs": [],
   "source": [
    "# Defining categorical features transformer\n",
    "cat_transformer = ColumnTransformer(\n",
    "     [('cat_features', ohe_transformer, categorical_features),\n",
    "      ('high_car_features', TargetEncoder(), categorical_high_cardinality_features)]\n",
    ")"
   ]
  },
  {
   "cell_type": "code",
   "execution_count": 45,
   "metadata": {},
   "outputs": [],
   "source": [
    "# Defining numerical features transformer\n",
    "numeric_transformer = ColumnTransformer(\n",
    "    [('numeric', StandardScaler(), numeric_features)]\n",
    ")"
   ]
  },
  {
   "cell_type": "code",
   "execution_count": 46,
   "metadata": {},
   "outputs": [],
   "source": [
    "# Defining categorical + numerical features transformer\n",
    "preprocessor = ColumnTransformer(\n",
    "     [('cat_features', ohe_transformer, categorical_features),\n",
    "      ('high_car_features', TargetEncoder(), categorical_high_cardinality_features),\n",
    "      ('numeric', StandardScaler(), numeric_features)]\n",
    ")"
   ]
  },
  {
   "cell_type": "code",
   "execution_count": 47,
   "metadata": {},
   "outputs": [],
   "source": [
    "# Data set split to train and test sets\n",
    "\n",
    "features_train, features_test, target_train, target_test = train_test_split(\n",
    "    car_data.drop('price', axis=1), car_data.price, test_size=0.25, random_state=12345\n",
    ")\n",
    "\n",
    "categorical_index= [features_train.columns.get_loc(col) for col in all_categorical_features]"
   ]
  },
  {
   "cell_type": "code",
   "execution_count": 48,
   "metadata": {},
   "outputs": [
    {
     "name": "stdout",
     "output_type": "stream",
     "text": [
      "<class 'pandas.core.frame.DataFrame'>\n",
      "Int64Index: 235855 entries, 33222 to 242827\n",
      "Data columns (total 11 columns):\n",
      " #   Column       Non-Null Count   Dtype \n",
      "---  ------       --------------   ----- \n",
      " 0   type         235855 non-null  object\n",
      " 1   year         235855 non-null  int64 \n",
      " 2   gearbox      235855 non-null  object\n",
      " 3   power        235855 non-null  int64 \n",
      " 4   model        235855 non-null  object\n",
      " 5   mileage      235855 non-null  int64 \n",
      " 6   month        235855 non-null  int64 \n",
      " 7   fuel         235855 non-null  object\n",
      " 8   brand        235855 non-null  object\n",
      " 9   repaired     235855 non-null  object\n",
      " 10  datecreated  235855 non-null  int64 \n",
      "dtypes: int64(5), object(6)\n",
      "memory usage: 21.6+ MB\n"
     ]
    }
   ],
   "source": [
    "features_train.info()"
   ]
  },
  {
   "cell_type": "markdown",
   "metadata": {},
   "source": [
    "### Linear Regression"
   ]
  },
  {
   "cell_type": "code",
   "execution_count": 49,
   "metadata": {},
   "outputs": [
    {
     "name": "stdout",
     "output_type": "stream",
     "text": [
      "2811.8317640238574 {}\n"
     ]
    }
   ],
   "source": [
    "model = LinearRegression()\n",
    "params = {}\n",
    "\n",
    "pipeline = Pipeline([('preprocessing', preprocessor ), \n",
    "                     ('model', model)])\n",
    "\n",
    "lr = GridSearchCV(pipeline,  param_grid=params, cv=5, scoring = 'neg_root_mean_squared_error')\n",
    "lr.fit(features_train, target_train)\n",
    "\n",
    "#cv_model_evaluation(lr)\n",
    "print(abs(lr.best_score_), lr.best_params_)"
   ]
  },
  {
   "cell_type": "markdown",
   "metadata": {},
   "source": [
    "### Decision Tree Regressor"
   ]
  },
  {
   "cell_type": "code",
   "execution_count": 50,
   "metadata": {},
   "outputs": [
    {
     "name": "stdout",
     "output_type": "stream",
     "text": [
      "1878.9241818280389 {'model__max_depth': 15, 'model__min_samples_split': 11}\n"
     ]
    }
   ],
   "source": [
    "# Decision tree\n",
    "\n",
    "model = DecisionTreeRegressor(random_state=12345)\n",
    "\n",
    "# Let's optimize the model by finding the best hyperparameters\n",
    "params = {'model__max_depth': range(5, 25, 5), 'model__min_samples_split' : range(2, 14, 3)}\n",
    "\n",
    "pipeline = Pipeline([('preprocessing', preprocessor ), \n",
    "                     ('model', model)])\n",
    "\n",
    "dtr = GridSearchCV(pipeline,  param_grid=params, cv=5, scoring = 'neg_root_mean_squared_error')\n",
    "dtr.fit(features_train, target_train)\n",
    "\n",
    "#cv_model_evaluation(dtr)\n",
    "print(abs(dtr.best_score_), dtr.best_params_)"
   ]
  },
  {
   "cell_type": "markdown",
   "metadata": {},
   "source": [
    "### Random Forest Regressor"
   ]
  },
  {
   "cell_type": "code",
   "execution_count": null,
   "metadata": {},
   "outputs": [],
   "source": [
    "# Random forest\n",
    "\n",
    "model = RandomForestRegressor(random_state=12345)\n",
    "\n",
    "# Let's optimize the model by finding the best hyperparameters\n",
    "params = {'model__n_estimators': range(10, 70, 20), 'model__max_depth': range(5, 25, 5), 'model__min_samples_split' : range(3, 15, 3)}\n",
    "\n",
    "pipeline = Pipeline([('preprocessing', preprocessor ), \n",
    "                     ('model', model)])\n",
    "\n",
    "rfr = GridSearchCV(pipeline,  param_grid=params, cv=5, scoring = 'neg_root_mean_squared_error')\n",
    "rfr.fit(features_train, target_train)\n",
    "\n",
    "#cv_model_evaluation(rfr)\n",
    "print(abs(rfr.best_score_), rfr.best_params_)"
   ]
  },
  {
   "cell_type": "markdown",
   "metadata": {},
   "source": [
    "### LightGBM"
   ]
  },
  {
   "cell_type": "code",
   "execution_count": null,
   "metadata": {},
   "outputs": [],
   "source": [
    "model = lgb.LGBMRegressor(categorical_feature=categorical_index, random_state=1234)\n",
    "\n",
    "pipeline = Pipeline([('preprocessing', numeric_transformer), \n",
    "                     ('model', model)])\n",
    "params = {\n",
    "    'model__n_estimators': range(10, 70, 20),\n",
    "    'model__colsample_bytree': np.arange(0.1, 0.9,0.2),\n",
    "    'model__max_depth': range(5, 25, 5),\n",
    "    'model__num_leaves': range(20, 70, 10),\n",
    "    'model__reg_alpha': np.arange(1.1, 1.5, 0.4),\n",
    "    'model__reg_lambda': np.arange(1.1, 1.3, 0.2),\n",
    "    'model__min_split_gain': np.arange(0.2, 0.4,0.1),\n",
    "    'model__subsample': np.arange(0.7, 0.9, 0.1),\n",
    "    'model__subsample_freq': [20]\n",
    "}\n",
    "\n",
    "lgbmr = GridSearchCV(pipeline, param_grid=params, cv=5, scoring = 'neg_root_mean_squared_error')\n",
    "lgbmr.fit(features_train, target_train)\n",
    "\n",
    "#cv_model_evaluation(lgb)\n",
    "print(abs(lgbmr.best_score_), lgbmr.best_params_)\n",
    "\n",
    "# Predict the model\n",
    "predict = lgbmr.predict(features_test)\n",
    " \n",
    "# RMSE Computation\n",
    "lightGBM_rmse = math.sqrt(mean_squared_error(target_test, predict))\n",
    "print(f'RMSE: {lightGBM_rmse:.2f}')"
   ]
  },
  {
   "cell_type": "markdown",
   "metadata": {},
   "source": [
    "###  CatBoostRegressor"
   ]
  },
  {
   "cell_type": "code",
   "execution_count": 54,
   "metadata": {},
   "outputs": [],
   "source": [
    "# Preprocessing only numerical features\n",
    "features_train_scaled = features_train.copy()\n",
    "features_test_scaled = features_test.copy()\n",
    "\n",
    "# Preprocessing only numerical features\n",
    "numeric_transformer.fit(features_train)\n",
    "features_train_scaled[numeric_features] = numeric_transformer.transform(features_train_scaled)\n",
    "features_test_scaled[numeric_features] = numeric_transformer.transform(features_test_scaled)"
   ]
  },
  {
   "cell_type": "code",
   "execution_count": null,
   "metadata": {},
   "outputs": [],
   "source": [
    "model = CatBoostRegressor(cat_features=all_categorical_features, random_seed=12345, verbose=10)\n",
    "\n",
    "params = {'depth': range(4, 10, 2), 'learning_rate': np.arange(.05, .1, .1), 'iterations': range(10, 40, 10)}\n",
    "\n",
    "cbr = GridSearchCV(model, param_grid=params, cv=5, n_jobs=-1, scoring='neg_root_mean_squared_error')\n",
    "\n",
    "cbr.fit(features_train_scaled, target_train)\n",
    "\n",
    "#cv_model_evaluation(cbr)\n",
    "print(abs(cbr.best_score_), cbr.best_params_) "
   ]
  },
  {
   "cell_type": "markdown",
   "metadata": {},
   "source": [
    "### XGBoost "
   ]
  },
  {
   "cell_type": "code",
   "execution_count": null,
   "metadata": {},
   "outputs": [],
   "source": [
    "model = xgb.XGBRegressor(objective ='reg:squarederror', seed = 1234, verbose=10)\n",
    "pipeline = Pipeline([('preprocessing', preprocessor ), ('model', model)])\n",
    "\n",
    "params = {\n",
    "    'model__n_estimators': range(10, 25, 25),\n",
    "    'model__colsample_bytree': np.arange(0.1, 0.9,0.5),\n",
    "    'model__max_depth': range(10, 25, 25),\n",
    "    'model__num_leaves': range(50, 200, 150),\n",
    "    'model__reg_alpha': np.arange(1.1, 1.5, 0.4),\n",
    "    'model__reg_lambda': np.arange(1.1, 1.3, 0.2),\n",
    "    'model__min_split_gain': np.arange(0.3, 0.4,0.1),\n",
    "    'model__subsample': np.arange(0.7, 0.9, 0.2),\n",
    "    'model__subsample_freq': [20]\n",
    "}\n",
    "\n",
    "xgbr = GridSearchCV(pipeline, param_grid=params, cv=5, scoring='neg_root_mean_squared_error')\n",
    "xgbr.fit(features_train, target_train)\n",
    "\n",
    "#cv_model_evaluation(xgb)\n",
    "print(abs(xgbr.best_score_), xgbr.best_params_)  \n",
    "\n",
    "# Predict the model\n",
    "predict = xgbr.predict(features_test)\n",
    "  \n",
    "# RMSE Computation\n",
    "XGBoost_rmse = math.sqrt(mean_squared_error(target_test, predict))"
   ]
  },
  {
   "cell_type": "markdown",
   "metadata": {},
   "source": [
    "<a id=\"step3\"></a>\n",
    "## Step 3. Model analysis\n",
    "\n",
    "[back to table of contents](#contents)"
   ]
  },
  {
   "cell_type": "markdown",
   "metadata": {},
   "source": [
    "### Comparing the models: training the final model (with optimized hyperparameters) and predicting on test set"
   ]
  },
  {
   "cell_type": "markdown",
   "metadata": {},
   "source": [
    "### Cat Boost Regressor"
   ]
  },
  {
   "cell_type": "code",
   "execution_count": 55,
   "metadata": {},
   "outputs": [
    {
     "name": "stdout",
     "output_type": "stream",
     "text": [
      "0:\tlearn: 4373.6749204\ttotal: 292ms\tremaining: 8.46s\n",
      "10:\tlearn: 3255.0960392\ttotal: 2.89s\tremaining: 4.99s\n",
      "20:\tlearn: 2662.7811487\ttotal: 5.38s\tremaining: 2.31s\n",
      "29:\tlearn: 2354.3048016\ttotal: 7.67s\tremaining: 0us\n",
      "RMSE: 2368.24\n",
      "fit time=9.41160798072815\n",
      "predict time=0.09391283988952637\n"
     ]
    }
   ],
   "source": [
    "cbr = CatBoostRegressor(cat_features=all_categorical_features, depth=8, iterations=30, learning_rate=0.05 ,random_seed=12345, verbose=10)\n",
    "\n",
    "#Model training\n",
    "start = time.time()\n",
    "cbr.fit(features_train_scaled, target_train)\n",
    "stop = time.time()\n",
    "cbr_fit_time = stop-start\n",
    "\n",
    "#Prediction\n",
    "start = time.time()\n",
    "cbr_pred = cbr.predict(features_test_scaled)\n",
    "stop = time.time()\n",
    "cbr_predict_time = stop-start\n",
    "\n",
    "cbr_rmse = math.sqrt(mean_squared_error(target_test, cbr_pred))\n",
    "print(f'RMSE: {cbr_rmse:.2f}')\n",
    "print(f'fit time={cbr_fit_time}\\npredict time={cbr_predict_time}')"
   ]
  },
  {
   "cell_type": "code",
   "execution_count": 56,
   "metadata": {},
   "outputs": [],
   "source": [
    "# Encoding categorical features ['type','gearbox', 'fuel', 'repaired']\n",
    "\n",
    "# One hot encoding categorical features\n",
    "ohe_train_encoded = pd.get_dummies(features_train_scaled[categorical_features], drop_first=True)\n",
    "ohe_test_encoded = pd.get_dummies(features_test_scaled[categorical_features], drop_first=True)\n",
    "\n",
    "# We join back the OHE columns and drop the original ones\n",
    "features_train_encoded = features_train_scaled.join(ohe_train_encoded).drop(categorical_features, axis=1)\n",
    "features_test_encoded = features_test_scaled.join(ohe_test_encoded).drop(categorical_features, axis=1)"
   ]
  },
  {
   "cell_type": "code",
   "execution_count": 57,
   "metadata": {},
   "outputs": [],
   "source": [
    "# Encoding high cardinality categorical features ['model','brand']\n",
    "features_train_se = features_train_encoded.copy()\n",
    "features_test_se = features_test_encoded.copy()\n",
    "\n",
    "# Target encoding categorical features\n",
    "t_encoder = TargetEncoder()\n",
    "t_encoder.fit(features_train_encoded[categorical_high_cardinality_features],target_train)\n",
    "\n",
    "features_train_se[categorical_high_cardinality_features] = pd.DataFrame(t_encoder.transform(features_train_encoded[categorical_high_cardinality_features]), columns=categorical_high_cardinality_features)\n",
    "features_test_se[categorical_high_cardinality_features] = pd.DataFrame(t_encoder.transform(features_test_encoded[categorical_high_cardinality_features]), columns=categorical_high_cardinality_features)"
   ]
  },
  {
   "cell_type": "markdown",
   "metadata": {},
   "source": [
    "### Linear Regression"
   ]
  },
  {
   "cell_type": "code",
   "execution_count": 58,
   "metadata": {},
   "outputs": [
    {
     "name": "stdout",
     "output_type": "stream",
     "text": [
      "RMSE: 2817.84\n",
      "fit time=0.365511417388916\n",
      "predict time=0.013007164001464844\n"
     ]
    }
   ],
   "source": [
    "lr = LinearRegression()\n",
    "\n",
    "start = time.time()\n",
    "lr.fit(features_train_se, target_train)\n",
    "stop = time.time()\n",
    "lr_fit_time = stop-start\n",
    "\n",
    "start = time.time()\n",
    "lr_pred = lr.predict(features_test_se)\n",
    "stop = time.time()\n",
    "lr_predict_time = stop-start\n",
    "\n",
    "lr_rmse = math.sqrt(mean_squared_error(target_test, lr_pred))\n",
    "print(f'RMSE: {lr_rmse:.2f}')\n",
    "print(f'fit time={lr_fit_time}\\npredict time={lr_predict_time}')"
   ]
  },
  {
   "cell_type": "markdown",
   "metadata": {},
   "source": [
    "### Decision Tree"
   ]
  },
  {
   "cell_type": "code",
   "execution_count": 59,
   "metadata": {},
   "outputs": [
    {
     "name": "stdout",
     "output_type": "stream",
     "text": [
      "RMSE: 1837.58\n",
      "fit time=1.0402240753173828\n",
      "predict time=0.016822099685668945\n"
     ]
    }
   ],
   "source": [
    "dtr = DecisionTreeRegressor(max_depth=15 , min_samples_split=11 , random_state=12345)\n",
    "\n",
    "start = time.time()\n",
    "dtr.fit(features_train_se, target_train)\n",
    "stop = time.time()\n",
    "dtr_fit_time = stop-start\n",
    "\n",
    "start = time.time()\n",
    "dtr_pred = dtr.predict(features_test_se)\n",
    "stop = time.time()\n",
    "dtr_predict_time = stop-start\n",
    "\n",
    "dtr_rmse = math.sqrt(mean_squared_error(target_test, dtr_pred))\n",
    "print(f'RMSE: {dtr_rmse:.2f}')\n",
    "print(f'fit time={dtr_fit_time}\\npredict time={dtr_predict_time}')"
   ]
  },
  {
   "cell_type": "markdown",
   "metadata": {},
   "source": [
    "### Random Forest"
   ]
  },
  {
   "cell_type": "code",
   "execution_count": 60,
   "metadata": {},
   "outputs": [
    {
     "name": "stdout",
     "output_type": "stream",
     "text": [
      "RMSE: 1605.31\n",
      "fit time=38.50609731674194\n",
      "predict time=0.8866684436798096\n"
     ]
    }
   ],
   "source": [
    "rfr = RandomForestRegressor(n_estimators=50 , max_depth=20 , min_samples_split=9 , random_state=12345)\n",
    "\n",
    "start = time.time()\n",
    "rfr.fit(features_train_se, target_train)\n",
    "stop = time.time()\n",
    "rfr_fit_time = stop-start\n",
    "\n",
    "start = time.time()\n",
    "rfr_pred = rfr.predict(features_test_se)\n",
    "stop = time.time()\n",
    "rfr_predict_time = stop-start\n",
    "\n",
    "rfr_rmse = math.sqrt(mean_squared_error(target_test, rfr_pred))\n",
    "print(f'RMSE: {rfr_rmse:.2f}')\n",
    "print(f'fit time={rfr_fit_time}\\npredict time={rfr_predict_time}')"
   ]
  },
  {
   "cell_type": "markdown",
   "metadata": {},
   "source": [
    "### LightGBM"
   ]
  },
  {
   "cell_type": "code",
   "execution_count": 61,
   "metadata": {},
   "outputs": [
    {
     "name": "stdout",
     "output_type": "stream",
     "text": [
      "RMSE: 2118.70\n",
      "fit time=5.532863616943359\n",
      "predict time=0.5099432468414307\n"
     ]
    }
   ],
   "source": [
    "lgbmr = lgb.LGBMRegressor(n_estimators=50 ,colsample_bytree=0.7000000000000001 , max_depth=20 ,num_leaves=60 ,reg_alpha=1.1 ,reg_lambda=1.1 ,\n",
    "                          min_split_gain=0.2 ,subsample=0.8999999999999999 ,subsample_freq=20 ,categorical_feature=categorical_index, random_state=1234)\n",
    "\n",
    "start = time.time()\n",
    "lgbmr.fit(features_train_se, target_train)\n",
    "stop = time.time()\n",
    "lgbmr_fit_time = stop-start\n",
    "\n",
    "start = time.time()\n",
    "lgbmr_pred = lgbmr.predict(features_test_se)\n",
    "stop = time.time()\n",
    "lgbmr_predict_time = stop-start\n",
    "\n",
    "lgbmr_rmse = math.sqrt(mean_squared_error(target_test, lgbmr_pred))\n",
    "print(f'RMSE: {lgbmr_rmse:.2f}')\n",
    "print(f'fit time={lgbmr_fit_time}\\npredict time={lgbmr_predict_time}')"
   ]
  },
  {
   "cell_type": "markdown",
   "metadata": {},
   "source": [
    "### XGBoost"
   ]
  },
  {
   "cell_type": "code",
   "execution_count": 62,
   "metadata": {},
   "outputs": [
    {
     "name": "stdout",
     "output_type": "stream",
     "text": [
      "RMSE: 3030.85\n",
      "fit time=4.923832178115845\n",
      "predict time=0.0849001407623291\n"
     ]
    }
   ],
   "source": [
    "xgbr = xgb.XGBRegressor(n_estimators=10 ,colsample_bytree=0.6 , max_depth=10 ,num_leaves=50 ,reg_alpha=1.1 ,reg_lambda=1.1 ,\n",
    "                        min_split_gain=0.3 ,subsample=0.8999999999999999 ,subsample_freq=20 ,objective ='reg:squarederror', seed = 1234, verbose=10)\n",
    "\n",
    "start = time.time()\n",
    "xgbr.fit(features_train_se, target_train)\n",
    "stop = time.time()\n",
    "xgbr_fit_time = stop-start\n",
    "\n",
    "start = time.time()\n",
    "xgbr_pred = xgbr.predict(features_test_se)\n",
    "stop = time.time()\n",
    "xgbr_predict_time = stop-start\n",
    "\n",
    "xgbr_rmse = math.sqrt(mean_squared_error(target_test, xgbr_pred))\n",
    "print(f'RMSE: {xgbr_rmse:.2f}')\n",
    "print(f'fit time={xgbr_fit_time}\\npredict time={xgbr_predict_time}')"
   ]
  },
  {
   "cell_type": "code",
   "execution_count": 63,
   "metadata": {},
   "outputs": [
    {
     "data": {
      "text/html": [
       "<div>\n",
       "<style scoped>\n",
       "    .dataframe tbody tr th:only-of-type {\n",
       "        vertical-align: middle;\n",
       "    }\n",
       "\n",
       "    .dataframe tbody tr th {\n",
       "        vertical-align: top;\n",
       "    }\n",
       "\n",
       "    .dataframe thead th {\n",
       "        text-align: right;\n",
       "    }\n",
       "</style>\n",
       "<table border=\"1\" class=\"dataframe\">\n",
       "  <thead>\n",
       "    <tr style=\"text-align: right;\">\n",
       "      <th></th>\n",
       "      <th>rmse</th>\n",
       "      <th>fit time</th>\n",
       "      <th>predict time</th>\n",
       "    </tr>\n",
       "  </thead>\n",
       "  <tbody>\n",
       "    <tr>\n",
       "      <th>RandomForest</th>\n",
       "      <td>1605.313424</td>\n",
       "      <td>38.506097</td>\n",
       "      <td>0.886668</td>\n",
       "    </tr>\n",
       "    <tr>\n",
       "      <th>DecisionTree</th>\n",
       "      <td>1837.577574</td>\n",
       "      <td>1.040224</td>\n",
       "      <td>0.016822</td>\n",
       "    </tr>\n",
       "    <tr>\n",
       "      <th>LightGBM</th>\n",
       "      <td>2118.698753</td>\n",
       "      <td>5.532864</td>\n",
       "      <td>0.509943</td>\n",
       "    </tr>\n",
       "    <tr>\n",
       "      <th>CatBoost</th>\n",
       "      <td>2368.240973</td>\n",
       "      <td>9.411608</td>\n",
       "      <td>0.093913</td>\n",
       "    </tr>\n",
       "    <tr>\n",
       "      <th>LinearRegression</th>\n",
       "      <td>2817.838936</td>\n",
       "      <td>0.365511</td>\n",
       "      <td>0.013007</td>\n",
       "    </tr>\n",
       "    <tr>\n",
       "      <th>XGBoost</th>\n",
       "      <td>3030.845583</td>\n",
       "      <td>4.923832</td>\n",
       "      <td>0.084900</td>\n",
       "    </tr>\n",
       "  </tbody>\n",
       "</table>\n",
       "</div>"
      ],
      "text/plain": [
       "                         rmse   fit time  predict time\n",
       "RandomForest      1605.313424  38.506097      0.886668\n",
       "DecisionTree      1837.577574   1.040224      0.016822\n",
       "LightGBM          2118.698753   5.532864      0.509943\n",
       "CatBoost          2368.240973   9.411608      0.093913\n",
       "LinearRegression  2817.838936   0.365511      0.013007\n",
       "XGBoost           3030.845583   4.923832      0.084900"
      ]
     },
     "execution_count": 63,
     "metadata": {},
     "output_type": "execute_result"
    }
   ],
   "source": [
    "data = [[lr_rmse,lr_fit_time,lr_predict_time],[xgbr_rmse,xgbr_fit_time,xgbr_predict_time],\n",
    "        [lgbmr_rmse,lgbmr_fit_time,lgbmr_predict_time],[cbr_rmse,cbr_fit_time,cbr_predict_time],\n",
    "        [rfr_rmse,rfr_fit_time,rfr_predict_time],[dtr_rmse,dtr_fit_time,dtr_predict_time]\n",
    "       ]\n",
    "columns=['rmse','fit time','predict time']\n",
    "index = ('LinearRegression','XGBoost','LightGBM','CatBoost','RandomForest','DecisionTree')\n",
    "scores = pd.DataFrame(data,columns=columns,index=index)\n",
    "scores.sort_values(by='rmse')"
   ]
  },
  {
   "cell_type": "markdown",
   "metadata": {},
   "source": [
    "### Analysis Summary:\n",
    "\n",
    "1. RandomForest model provides the best predictions in RMSE terms (1605), but - the worst training time by far (45 sec.).\n",
    "\n",
    "2. XGBoost and DecisionTree preformed quite good in prediction, not far from RandomForest (RMSE 1708 and 1837) and are fast in training time (1.13-1.31 sec.) and fastest in prediction tiem (0.022 and 0.031)\n",
    "\n",
    "3. LightGBM and CatBoost didn't perform so good in prediction (2122 and 2363 RMSE), but are better then LinearRegression.\n",
    "\n",
    "4. LinearRgeression model (our sanity model) had the worst prediction, but is fine in terms of training and prediction time.\n",
    "\n",
    "5. **The best models according to our analysis are XGBoost and DecisionTree**, which got good RMSE, and low training and prediction times."
   ]
  },
  {
   "cell_type": "code",
   "execution_count": null,
   "metadata": {},
   "outputs": [],
   "source": []
  }
 ],
 "metadata": {
  "ExecuteTimeLog": [
   {
    "duration": 60700,
    "start_time": "2021-12-15T03:53:06.789Z"
   },
   {
    "duration": 61313,
    "start_time": "2021-12-15T03:54:07.492Z"
   },
   {
    "duration": 45746,
    "start_time": "2021-12-15T03:55:08.808Z"
   },
   {
    "duration": 43427,
    "start_time": "2021-12-15T03:55:54.556Z"
   },
   {
    "duration": 61540,
    "start_time": "2021-12-15T03:56:37.985Z"
   },
   {
    "duration": 1560,
    "start_time": "2021-12-15T03:58:02.235Z"
   },
   {
    "duration": 887,
    "start_time": "2021-12-15T03:58:03.797Z"
   },
   {
    "duration": 28,
    "start_time": "2021-12-15T03:58:04.687Z"
   },
   {
    "duration": 186,
    "start_time": "2021-12-15T03:58:04.717Z"
   },
   {
    "duration": 99,
    "start_time": "2021-12-15T03:58:04.905Z"
   },
   {
    "duration": 45,
    "start_time": "2021-12-15T03:58:05.006Z"
   },
   {
    "duration": 235,
    "start_time": "2021-12-15T03:58:05.053Z"
   },
   {
    "duration": 20,
    "start_time": "2021-12-15T03:58:05.290Z"
   },
   {
    "duration": 56,
    "start_time": "2021-12-15T03:58:05.311Z"
   },
   {
    "duration": 32,
    "start_time": "2021-12-15T03:58:05.368Z"
   },
   {
    "duration": 35,
    "start_time": "2021-12-15T03:58:05.401Z"
   },
   {
    "duration": 21,
    "start_time": "2021-12-15T03:58:05.437Z"
   },
   {
    "duration": 45,
    "start_time": "2021-12-15T03:58:05.460Z"
   },
   {
    "duration": 37,
    "start_time": "2021-12-15T03:58:05.506Z"
   },
   {
    "duration": 49824,
    "start_time": "2021-12-15T03:58:05.545Z"
   },
   {
    "duration": 199,
    "start_time": "2021-12-15T03:58:55.371Z"
   },
   {
    "duration": 23,
    "start_time": "2021-12-15T03:58:55.572Z"
   },
   {
    "duration": 7,
    "start_time": "2021-12-15T03:58:55.596Z"
   },
   {
    "duration": 6,
    "start_time": "2021-12-15T03:58:55.605Z"
   },
   {
    "duration": 7,
    "start_time": "2021-12-15T03:58:55.613Z"
   },
   {
    "duration": 7,
    "start_time": "2021-12-15T03:58:55.621Z"
   },
   {
    "duration": 528,
    "start_time": "2021-12-15T03:58:55.630Z"
   },
   {
    "duration": 51,
    "start_time": "2021-12-15T03:58:56.159Z"
   },
   {
    "duration": 244,
    "start_time": "2021-12-15T03:58:56.212Z"
   },
   {
    "duration": 276,
    "start_time": "2021-12-15T03:58:56.459Z"
   },
   {
    "duration": 259,
    "start_time": "2021-12-15T03:58:56.738Z"
   },
   {
    "duration": 17,
    "start_time": "2021-12-15T03:58:56.999Z"
   },
   {
    "duration": 100,
    "start_time": "2021-12-15T03:58:57.018Z"
   },
   {
    "duration": 16,
    "start_time": "2021-12-15T03:58:57.119Z"
   },
   {
    "duration": 19,
    "start_time": "2021-12-15T03:58:57.136Z"
   },
   {
    "duration": 18,
    "start_time": "2021-12-15T03:58:57.156Z"
   },
   {
    "duration": 28,
    "start_time": "2021-12-15T03:58:57.176Z"
   },
   {
    "duration": 43,
    "start_time": "2021-12-15T03:58:57.205Z"
   },
   {
    "duration": 83,
    "start_time": "2021-12-15T03:58:57.250Z"
   },
   {
    "duration": 7,
    "start_time": "2021-12-15T03:58:57.335Z"
   },
   {
    "duration": 26,
    "start_time": "2021-12-15T03:58:57.344Z"
   },
   {
    "duration": 26,
    "start_time": "2021-12-15T03:58:57.371Z"
   },
   {
    "duration": 25,
    "start_time": "2021-12-15T03:58:57.399Z"
   },
   {
    "duration": 24,
    "start_time": "2021-12-15T03:58:57.426Z"
   },
   {
    "duration": 410,
    "start_time": "2021-12-15T03:58:57.452Z"
   },
   {
    "duration": 64,
    "start_time": "2021-12-15T03:58:57.864Z"
   },
   {
    "duration": 5,
    "start_time": "2021-12-15T03:58:57.930Z"
   },
   {
    "duration": 6,
    "start_time": "2021-12-15T03:58:57.937Z"
   },
   {
    "duration": 4,
    "start_time": "2021-12-15T03:58:57.945Z"
   },
   {
    "duration": 4,
    "start_time": "2021-12-15T03:58:57.951Z"
   },
   {
    "duration": 7,
    "start_time": "2021-12-15T03:58:57.956Z"
   },
   {
    "duration": 113,
    "start_time": "2021-12-15T03:58:57.964Z"
   },
   {
    "duration": 67,
    "start_time": "2021-12-15T03:58:58.078Z"
   },
   {
    "duration": 5946,
    "start_time": "2021-12-15T03:58:58.147Z"
   },
   {
    "duration": 103319,
    "start_time": "2021-12-15T03:59:04.094Z"
   },
   {
    "duration": 728348,
    "start_time": "2021-12-15T04:00:47.415Z"
   },
   {
    "duration": -1447,
    "start_time": "2021-12-15T04:12:57.212Z"
   },
   {
    "duration": -1450,
    "start_time": "2021-12-15T04:12:57.216Z"
   },
   {
    "duration": -1451,
    "start_time": "2021-12-15T04:12:57.218Z"
   },
   {
    "duration": -1452,
    "start_time": "2021-12-15T04:12:57.220Z"
   },
   {
    "duration": -1453,
    "start_time": "2021-12-15T04:12:57.222Z"
   },
   {
    "duration": -1453,
    "start_time": "2021-12-15T04:12:57.223Z"
   },
   {
    "duration": -1455,
    "start_time": "2021-12-15T04:12:57.226Z"
   },
   {
    "duration": -1455,
    "start_time": "2021-12-15T04:12:57.227Z"
   },
   {
    "duration": -1464,
    "start_time": "2021-12-15T04:12:57.237Z"
   },
   {
    "duration": -1465,
    "start_time": "2021-12-15T04:12:57.239Z"
   },
   {
    "duration": -1465,
    "start_time": "2021-12-15T04:12:57.240Z"
   },
   {
    "duration": -1466,
    "start_time": "2021-12-15T04:12:57.242Z"
   },
   {
    "duration": -1467,
    "start_time": "2021-12-15T04:12:57.244Z"
   },
   {
    "duration": 226,
    "start_time": "2021-12-15T04:13:33.192Z"
   },
   {
    "duration": 234,
    "start_time": "2021-12-15T04:13:33.608Z"
   },
   {
    "duration": 56,
    "start_time": "2021-12-15T04:13:40.707Z"
   },
   {
    "duration": 9511,
    "start_time": "2021-12-15T04:13:43.643Z"
   },
   {
    "duration": 261,
    "start_time": "2021-12-15T04:13:53.155Z"
   },
   {
    "duration": 213,
    "start_time": "2021-12-15T04:13:53.418Z"
   },
   {
    "duration": 457,
    "start_time": "2021-12-15T04:13:53.632Z"
   },
   {
    "duration": 1062,
    "start_time": "2021-12-15T04:13:54.091Z"
   },
   {
    "duration": 39398,
    "start_time": "2021-12-15T04:13:55.155Z"
   },
   {
    "duration": 6048,
    "start_time": "2021-12-15T04:14:34.555Z"
   },
   {
    "duration": 5014,
    "start_time": "2021-12-15T04:14:40.606Z"
   },
   {
    "duration": 10,
    "start_time": "2021-12-15T04:14:45.622Z"
   }
  ],
  "kernelspec": {
   "display_name": "Python 3",
   "language": "python",
   "name": "python3"
  },
  "language_info": {
   "codemirror_mode": {
    "name": "ipython",
    "version": 3
   },
   "file_extension": ".py",
   "mimetype": "text/x-python",
   "name": "python",
   "nbconvert_exporter": "python",
   "pygments_lexer": "ipython3",
   "version": "3.8.5"
  },
  "toc": {
   "base_numbering": 1,
   "nav_menu": {},
   "number_sections": true,
   "sideBar": true,
   "skip_h1_title": true,
   "title_cell": "Table of Contents",
   "title_sidebar": "Contents",
   "toc_cell": false,
   "toc_position": {},
   "toc_section_display": true,
   "toc_window_display": false
  }
 },
 "nbformat": 4,
 "nbformat_minor": 2
}
